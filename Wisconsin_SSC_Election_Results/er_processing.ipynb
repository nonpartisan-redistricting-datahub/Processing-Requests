{
 "cells": [
  {
   "cell_type": "code",
   "execution_count": 1,
   "id": "e92b7148-811e-4125-8298-536d6ef6c548",
   "metadata": {},
   "outputs": [],
   "source": [
    "import os\n",
    "import pandas as pd\n",
    "import geopandas as gp\n",
    "pd.set_option('display.max_columns', None)\n",
    "\n",
    "\n",
    "#Step 0: Load in ward shapefile and ER as gdf/df\n",
    "mar23 = gp.read_file(\"./raw-from-source/WI_Statewide_WardsMar10_2023/Statewide_WardsMar10_2023.shp\")\n",
    "\n",
    "er = pd.read_excel(\"./raw-from-source/Ward by Ward Report statewide contests.xlsx\", sheet_name=2, header=9)\n",
    "er.rename( columns={'Unnamed: 0':'county', 'Unnamed: 1':'RU', 'Unnamed: 2':'tot_votes'}, inplace=True )\n",
    "er = er[er[\"RU\"]!=\"County Totals:\"]"
   ]
  },
  {
   "cell_type": "code",
   "execution_count": 2,
   "id": "b452ddc8-280b-4410-b746-f7f4697bec60",
   "metadata": {},
   "outputs": [
    {
     "name": "stdout",
     "output_type": "stream",
     "text": [
      "Shape wards no match df:  (0, 16)\n",
      "Wards not assigned:  (7008,) \n",
      "Wards with match shape:  (7008, 16) \n",
      "From what should match, did not join:  (2, 27)\n"
     ]
    }
   ],
   "source": [
    "mar23[\"CTV\"] = mar23[\"LABEL\"].str.split(\" \").str[-2]\n",
    "mar23[\"MCD_NAME\"] = mar23[\"LABEL\"].str.split(\" \").str[0:-3].apply(lambda x: \" \".join(x)).str.upper()\n",
    "wards22=mar23.copy()\n",
    "wards22[\"county_mcd_ward\"] = wards22[\"CNTY_NAME\"].str.upper()+\";\"+wards22[\"CTV\"].apply(lambda x: {\"C\":\"CITY OF \", \"V\":\"VILLAGE OF \", \"T\":\"TOWN OF \"}.get(x))+wards22[\"MCD_NAME\"].str.upper()+\";\"+wards22[\"WARD_FIPS\"].str.slice(start=-3)\n",
    "\n",
    "\n",
    "er[\"county\"] = er[\"county\"].str.rstrip(\" \")\n",
    "er[\"ward_range\"] = er[\"RU\"].str.split(\" \").str[-1]\n",
    "er[\"mcd_str\"] = er[\"RU\"].str.split(\" \").str[0:-2].apply(lambda x: \" \".join(x)).str.upper()\n",
    "er[\"county_mcd\"] = er[\"county\"]+\";\"+er[\"mcd_str\"]\n",
    "er[\"county_mcd_ward\"] = er[\"county\"]+\";\"+er[\"mcd_str\"]+\";\"+er[\"ward_range\"]\n",
    "\n",
    "ward_dict={}\n",
    "for ru in er[\"county_mcd_ward\"]:\n",
    "    county_str = er.loc[er[\"county_mcd_ward\"]==ru, \"county\"].to_string(index=False)\n",
    "    mcd_str =  er.loc[er[\"county_mcd_ward\"]==ru, \"mcd_str\"].to_string(index=False).upper()\n",
    "    #print(\"RU: \",ru)\n",
    "    input_wards = ru.split(\";\")[-1]\n",
    "    \n",
    "    if \",\" in ru.split(\";\")[-1] and \"-\" not in ru.split(\";\")[-1]:\n",
    "        for x in list(input_wards.split(\",\")):\n",
    "            ward_id_str = county_str+\";\"+mcd_str+\";\"+str(x).zfill(3)\n",
    "            ward_dict[ward_id_str] = ru\n",
    "            #print(ward_id_str, \":\", ru)\n",
    "    elif ('2A' in ru.split(\";\")[-1]) or ('2B' in ru.split(\";\")[-1]):\n",
    "        ward_dict[ru] = ru\n",
    "        \n",
    "    elif \"-\" in ru.split(\";\")[-1] and \",\" not in ru.split(\";\")[-1]:\n",
    "        i = input_wards.split(\"-\")[0]\n",
    "        j = input_wards.split(\"-\")[1]\n",
    "        for x in range(int(i), int(j)+1):\n",
    "            ward_id_str = county_str+\";\"+mcd_str+\";\"+str(x).zfill(3)\n",
    "            ward_dict[ward_id_str] = ru\n",
    "            #print(ward_id_str, \":\", ru)\n",
    "    elif \",\" in ru.split(\";\")[-1] and \"-\" in ru.split(\";\")[-1]:\n",
    "        for item in list(input_wards.split(\",\")):\n",
    "            #print(\"item: \", item)\n",
    "            if \"-\" in item:\n",
    "                i = item.split(\"-\")[0]\n",
    "                j = item.split(\"-\")[1]\n",
    "                #print(\"i, j:\", i, j)\n",
    "                for x in range(int(i), int(j)+1):\n",
    "                    ward_id_str = county_str+\";\"+mcd_str+\";\"+str(x).zfill(3)\n",
    "                    ward_dict[ward_id_str] = ru\n",
    "                    #print(ward_id_str, \":\", ru)\n",
    "            else:\n",
    "                x = item\n",
    "                ward_id_str = county_str+\";\"+mcd_str+\";\"+str(x).zfill(3)\n",
    "                ward_dict[ward_id_str] = ru\n",
    "                #print(ward_id_str, \":\", ru)\n",
    "    else:\n",
    "        x = input_wards\n",
    "        ward_id_str = county_str+\";\"+mcd_str+\";\"+str(x).zfill(3)\n",
    "        ward_dict[ward_id_str] = ru\n",
    "        #print(ward_id_str, \":\", ru)\n",
    "\n",
    "        \n",
    "ward_dict['BAYFIELD;TOWN OF GRANDVIEW;001']= 'BAYFIELD;TOWN OF GRAND VIEW;1'\n",
    "ward_dict['CRAWFORD;VILLAGE OF MOUNT STERLING;001'] = 'CRAWFORD;VILLAGE OF MT. STERLING;1'\n",
    "ward_dict['SAUK;VILLAGE OF LA VALLE;001'] = 'SAUK;VILLAGE OF LAVALLE;1'\n",
    "ward_dict[\"VILAS;TOWN OF LAND O'LAKES;001\"] = 'VILAS;TOWN OF LAND O-LAKES;1-2'\n",
    "ward_dict[\"VILAS;TOWN OF LAND O'LAKES;002\"] = 'VILAS;TOWN OF LAND O-LAKES;1-2'\n",
    "ward_dict['WALWORTH;VILLAGE OF FONTANA-ON-GENEVA LAKE;001'] = 'WALWORTH;VILLAGE OF FONTANA;1-3'\n",
    "ward_dict['WALWORTH;VILLAGE OF FONTANA-ON-GENEVA LAKE;002'] = 'WALWORTH;VILLAGE OF FONTANA;1-3'\n",
    "ward_dict['WALWORTH;VILLAGE OF FONTANA-ON-GENEVA LAKE;003'] = 'WALWORTH;VILLAGE OF FONTANA;1-3'\n",
    "ward_dict['WAUPACA;TOWN OF ST. LAWRENCE;001'] = 'WAUPACA;TOWN OF SAINT LAWRENCE;1-2'\n",
    "ward_dict['WAUPACA;TOWN OF ST. LAWRENCE;002'] = 'WAUPACA;TOWN OF SAINT LAWRENCE;1-2'\n",
    "ward_dict['WINNEBAGO;TOWN OF WOLF RIVER;02A'] = 'WINNEBAGO;TOWN OF WOLF RIVER;1-2A'\n",
    "ward_dict['CHIPPEWA;CITY OF CHIPPEWA FALLS;007'] = 'CHIPPEWA;CITY OF CHIPPEWA FALLS;8-7'\n",
    "ward_dict['CHIPPEWA;CITY OF CHIPPEWA FALLS;008'] = 'CHIPPEWA;CITY OF CHIPPEWA FALLS;8-7'\n",
    "\n",
    "ward_dict['CHIPPEWA;CITY OF CHIPPEWA FALLS;01A'] = 'CHIPPEWA;CITY OF CHIPPEWA FALLS;1-2'\n",
    "ward_dict['CHIPPEWA;CITY OF CHIPPEWA FALLS;10A'] = 'CHIPPEWA;CITY OF CHIPPEWA FALLS;9-10'\n",
    "ward_dict['CHIPPEWA;TOWN OF EAGLE POINT;05A'] = 'CHIPPEWA;TOWN OF EAGLE POINT;1-5'\n",
    "ward_dict['MILWAUKEE;CITY OF WAUWATOSA;02A'] = 'MILWAUKEE;CITY OF WAUWATOSA;2A'\n",
    "ward_dict['MILWAUKEE;CITY OF WAUWATOSA;02B'] = 'MILWAUKEE;CITY OF WAUWATOSA;2B'\n",
    "\n",
    "ward_dict['OZAUKEE;CITY OF MEQUON;02A'] = 'OZAUKEE;CITY OF MEQUON;1-3'\n",
    "ward_dict['OZAUKEE;CITY OF MEQUON;11A'] = 'OZAUKEE;CITY OF MEQUON;9-11'\n",
    "\n",
    "ward_dict['WINNEBAGO;TOWN OF WOLF RIVER;001'] = 'WINNEBAGO;TOWN OF WOLF RIVER;1-2B'\n",
    "ward_dict['WINNEBAGO;TOWN OF WOLF RIVER;02B'] = \"WINNEBAGO;TOWN OF WOLF RIVER;1-2B\"\n",
    "\n",
    "ward_dict['CALUMET;TOWN OF HARRISON;001'] = \"CALUMET;TOWN OF HARRISON;001\"\n",
    "ward_dict[\"DANE;TOWN OF COTTAGE GROVE;1,2,3,4,5,6\"]=\"DANE;CITY OF MADISON;156\"\n",
    "\n",
    "\n",
    "#Step 3: Apply ward:RU dictionary to ward gdf\n",
    "wards22[\"RU_assignment\"] = wards22[\"county_mcd_ward\"].map(ward_dict)\n",
    "gdf_wards_with_match = wards22[~wards22[\"RU_assignment\"].isna()]\n",
    "\n",
    "#Step 4: Check if any wards do not have valid RU assignment\n",
    "gdf_wards_no_match = wards22[wards22[\"RU_assignment\"].isna()]\n",
    "print(\"Shape wards no match df: \", gdf_wards_no_match.shape)\n",
    "\n",
    "#Step 5: Test join dissolved gdf<>df\n",
    "ru_gdf = gdf_wards_with_match.dissolve(by=\"RU_assignment\").reset_index().to_crs(wards22.crs)\n",
    "er.loc[er[\"RU\"]==\"City of MADISON Ward 156\", \"county_mcd_ward\"] = \"DANE;TOWN OF COTTAGE GROVE;1,2,3,4,5,6\"\n",
    "prelim_shp_atger_gdf = ru_gdf.merge(er, how=\"outer\", left_on=\"RU_assignment\", right_on=\"county_mcd_ward\", indicator=True)\n",
    "print(\"Wards not assigned: \",wards22[\"RU_assignment\"].isna().shape,\"\\nWards with match shape: \", gdf_wards_with_match.shape, \"\\nFrom what should match, did not join: \", prelim_shp_atger_gdf[prelim_shp_atger_gdf[\"_merge\"]!=\"both\"].shape)\n"
   ]
  },
  {
   "cell_type": "code",
   "execution_count": 3,
   "id": "eb3025ae-7989-44ba-a28c-c7d7e5303b91",
   "metadata": {},
   "outputs": [
    {
     "data": {
      "text/html": [
       "<div>\n",
       "<style scoped>\n",
       "    .dataframe tbody tr th:only-of-type {\n",
       "        vertical-align: middle;\n",
       "    }\n",
       "\n",
       "    .dataframe tbody tr th {\n",
       "        vertical-align: top;\n",
       "    }\n",
       "\n",
       "    .dataframe thead th {\n",
       "        text-align: right;\n",
       "    }\n",
       "</style>\n",
       "<table border=\"1\" class=\"dataframe\">\n",
       "  <thead>\n",
       "    <tr style=\"text-align: right;\">\n",
       "      <th></th>\n",
       "      <th>CNTY_FIPS</th>\n",
       "      <th>CNTY_NAME</th>\n",
       "      <th>COUSUBFP</th>\n",
       "      <th>WARD_FIPS</th>\n",
       "      <th>WARDID</th>\n",
       "      <th>SUPERID</th>\n",
       "      <th>ALDERID</th>\n",
       "      <th>LABEL</th>\n",
       "      <th>CON2021</th>\n",
       "      <th>ASM2021</th>\n",
       "      <th>SEN2021</th>\n",
       "      <th>geometry</th>\n",
       "      <th>CTV</th>\n",
       "      <th>MCD_NAME</th>\n",
       "      <th>county_mcd_ward</th>\n",
       "      <th>RU_assignment</th>\n",
       "    </tr>\n",
       "  </thead>\n",
       "  <tbody>\n",
       "  </tbody>\n",
       "</table>\n",
       "</div>"
      ],
      "text/plain": [
       "Empty GeoDataFrame\n",
       "Columns: [CNTY_FIPS, CNTY_NAME, COUSUBFP, WARD_FIPS, WARDID, SUPERID, ALDERID, LABEL, CON2021, ASM2021, SEN2021, geometry, CTV, MCD_NAME, county_mcd_ward, RU_assignment]\n",
       "Index: []"
      ]
     },
     "execution_count": 3,
     "metadata": {},
     "output_type": "execute_result"
    }
   ],
   "source": [
    "gdf_wards_no_match"
   ]
  },
  {
   "cell_type": "code",
   "execution_count": 4,
   "id": "9617028d-0133-40b6-a280-9ad8e8add0da",
   "metadata": {},
   "outputs": [
    {
     "data": {
      "text/plain": [
       "set()"
      ]
     },
     "execution_count": 4,
     "metadata": {},
     "output_type": "execute_result"
    }
   ],
   "source": [
    "set(wards22[\"county_mcd_ward\"])-set(ward_dict.keys())"
   ]
  },
  {
   "cell_type": "code",
   "execution_count": 5,
   "id": "92fa704b-3c05-4a57-8188-18136f69ec0a",
   "metadata": {},
   "outputs": [
    {
     "data": {
      "text/html": [
       "<div>\n",
       "<style scoped>\n",
       "    .dataframe tbody tr th:only-of-type {\n",
       "        vertical-align: middle;\n",
       "    }\n",
       "\n",
       "    .dataframe tbody tr th {\n",
       "        vertical-align: top;\n",
       "    }\n",
       "\n",
       "    .dataframe thead th {\n",
       "        text-align: right;\n",
       "    }\n",
       "</style>\n",
       "<table border=\"1\" class=\"dataframe\">\n",
       "  <thead>\n",
       "    <tr style=\"text-align: right;\">\n",
       "      <th></th>\n",
       "      <th>RU_assignment</th>\n",
       "      <th>geometry</th>\n",
       "      <th>CNTY_FIPS</th>\n",
       "      <th>CNTY_NAME</th>\n",
       "      <th>COUSUBFP</th>\n",
       "      <th>WARD_FIPS</th>\n",
       "      <th>WARDID</th>\n",
       "      <th>SUPERID</th>\n",
       "      <th>ALDERID</th>\n",
       "      <th>LABEL</th>\n",
       "      <th>CON2021</th>\n",
       "      <th>ASM2021</th>\n",
       "      <th>SEN2021</th>\n",
       "      <th>CTV</th>\n",
       "      <th>MCD_NAME</th>\n",
       "      <th>county_mcd_ward_x</th>\n",
       "      <th>county</th>\n",
       "      <th>RU</th>\n",
       "      <th>tot_votes</th>\n",
       "      <th>Janet C. Protasiewicz</th>\n",
       "      <th>Daniel  Kelly</th>\n",
       "      <th>SCATTERING</th>\n",
       "      <th>ward_range</th>\n",
       "      <th>mcd_str</th>\n",
       "      <th>county_mcd</th>\n",
       "      <th>county_mcd_ward_y</th>\n",
       "      <th>_merge</th>\n",
       "    </tr>\n",
       "  </thead>\n",
       "  <tbody>\n",
       "    <tr>\n",
       "      <th>280</th>\n",
       "      <td>CALUMET;TOWN OF HARRISON;001</td>\n",
       "      <td>POLYGON ((-88.39786 44.21431, -88.39786 44.213...</td>\n",
       "      <td>55015</td>\n",
       "      <td>Calumet</td>\n",
       "      <td>32800</td>\n",
       "      <td>55015328000001</td>\n",
       "      <td>0001</td>\n",
       "      <td>09</td>\n",
       "      <td>None</td>\n",
       "      <td>HARRISON - T 0001</td>\n",
       "      <td>8</td>\n",
       "      <td>3</td>\n",
       "      <td>1</td>\n",
       "      <td>T</td>\n",
       "      <td>HARRISON</td>\n",
       "      <td>CALUMET;TOWN OF HARRISON;001</td>\n",
       "      <td>NaN</td>\n",
       "      <td>NaN</td>\n",
       "      <td>NaN</td>\n",
       "      <td>NaN</td>\n",
       "      <td>NaN</td>\n",
       "      <td>NaN</td>\n",
       "      <td>NaN</td>\n",
       "      <td>NaN</td>\n",
       "      <td>NaN</td>\n",
       "      <td>NaN</td>\n",
       "      <td>left_only</td>\n",
       "    </tr>\n",
       "    <tr>\n",
       "      <th>3596</th>\n",
       "      <td>WINNEBAGO;TOWN OF WOLF RIVER;1-2A</td>\n",
       "      <td>POLYGON ((-88.76605 44.23967, -88.76600 44.238...</td>\n",
       "      <td>55139</td>\n",
       "      <td>Winnebago</td>\n",
       "      <td>88475</td>\n",
       "      <td>5513988475002A</td>\n",
       "      <td>002A</td>\n",
       "      <td>36</td>\n",
       "      <td>None</td>\n",
       "      <td>WOLF RIVER - T 002A</td>\n",
       "      <td>6</td>\n",
       "      <td>55</td>\n",
       "      <td>19</td>\n",
       "      <td>T</td>\n",
       "      <td>WOLF RIVER</td>\n",
       "      <td>WINNEBAGO;TOWN OF WOLF RIVER;02A</td>\n",
       "      <td>NaN</td>\n",
       "      <td>NaN</td>\n",
       "      <td>NaN</td>\n",
       "      <td>NaN</td>\n",
       "      <td>NaN</td>\n",
       "      <td>NaN</td>\n",
       "      <td>NaN</td>\n",
       "      <td>NaN</td>\n",
       "      <td>NaN</td>\n",
       "      <td>NaN</td>\n",
       "      <td>left_only</td>\n",
       "    </tr>\n",
       "  </tbody>\n",
       "</table>\n",
       "</div>"
      ],
      "text/plain": [
       "                          RU_assignment   \n",
       "280        CALUMET;TOWN OF HARRISON;001  \\\n",
       "3596  WINNEBAGO;TOWN OF WOLF RIVER;1-2A   \n",
       "\n",
       "                                               geometry CNTY_FIPS  CNTY_NAME   \n",
       "280   POLYGON ((-88.39786 44.21431, -88.39786 44.213...     55015    Calumet  \\\n",
       "3596  POLYGON ((-88.76605 44.23967, -88.76600 44.238...     55139  Winnebago   \n",
       "\n",
       "     COUSUBFP       WARD_FIPS WARDID SUPERID ALDERID                LABEL   \n",
       "280     32800  55015328000001   0001      09    None    HARRISON - T 0001  \\\n",
       "3596    88475  5513988475002A   002A      36    None  WOLF RIVER - T 002A   \n",
       "\n",
       "     CON2021 ASM2021 SEN2021 CTV    MCD_NAME   \n",
       "280        8       3       1   T    HARRISON  \\\n",
       "3596       6      55      19   T  WOLF RIVER   \n",
       "\n",
       "                     county_mcd_ward_x county   RU  tot_votes   \n",
       "280       CALUMET;TOWN OF HARRISON;001    NaN  NaN        NaN  \\\n",
       "3596  WINNEBAGO;TOWN OF WOLF RIVER;02A    NaN  NaN        NaN   \n",
       "\n",
       "      Janet C. Protasiewicz  Daniel  Kelly  SCATTERING ward_range mcd_str   \n",
       "280                     NaN            NaN         NaN        NaN     NaN  \\\n",
       "3596                    NaN            NaN         NaN        NaN     NaN   \n",
       "\n",
       "     county_mcd county_mcd_ward_y     _merge  \n",
       "280         NaN               NaN  left_only  \n",
       "3596        NaN               NaN  left_only  "
      ]
     },
     "execution_count": 5,
     "metadata": {},
     "output_type": "execute_result"
    }
   ],
   "source": [
    "prelim_shp_atger_gdf[prelim_shp_atger_gdf[\"_merge\"]!=\"both\"]"
   ]
  },
  {
   "cell_type": "code",
   "execution_count": 6,
   "id": "dcbae2aa-11c4-44be-8c1b-2194d8ee7e0a",
   "metadata": {},
   "outputs": [],
   "source": [
    "gdf = prelim_shp_atger_gdf.copy()"
   ]
  },
  {
   "cell_type": "code",
   "execution_count": 7,
   "id": "8ce6e4e7-e4a9-4d0e-9c86-ff7ffe88a1ed",
   "metadata": {},
   "outputs": [
    {
     "data": {
      "text/plain": [
       "CON2021\n",
       "2    156\n",
       "Name: count, dtype: int64"
      ]
     },
     "execution_count": 7,
     "metadata": {},
     "output_type": "execute_result"
    }
   ],
   "source": [
    "gdf[\"CON2021\"][gdf[\"mcd_str\"]==\"CITY OF MADISON\"].value_counts()"
   ]
  },
  {
   "cell_type": "code",
   "execution_count": 8,
   "id": "7166cf00-62e3-4fd5-81bd-0e898831aa4d",
   "metadata": {},
   "outputs": [
    {
     "data": {
      "text/plain": [
       "CON2021\n",
       "2    1\n",
       "Name: count, dtype: int64"
      ]
     },
     "execution_count": 8,
     "metadata": {},
     "output_type": "execute_result"
    }
   ],
   "source": [
    "gdf[\"CON2021\"][gdf[\"mcd_str\"]==\"TOWN OF COTTAGE GROVE\"].value_counts()"
   ]
  },
  {
   "cell_type": "code",
   "execution_count": 9,
   "id": "9c57040d-e4a1-4534-99e2-9a59d5dcb025",
   "metadata": {},
   "outputs": [
    {
     "data": {
      "text/plain": [
       "ASM2021\n",
       "46    1\n",
       "Name: count, dtype: int64"
      ]
     },
     "execution_count": 9,
     "metadata": {},
     "output_type": "execute_result"
    }
   ],
   "source": [
    "gdf[\"ASM2021\"][gdf[\"mcd_str\"]==\"TOWN OF COTTAGE GROVE\"].value_counts()"
   ]
  },
  {
   "cell_type": "code",
   "execution_count": 10,
   "id": "11928259-ce7c-43de-bf5f-f9ca910c2b90",
   "metadata": {},
   "outputs": [
    {
     "data": {
      "text/plain": [
       "SEN2021\n",
       "16    1\n",
       "Name: count, dtype: int64"
      ]
     },
     "execution_count": 10,
     "metadata": {},
     "output_type": "execute_result"
    }
   ],
   "source": [
    "gdf[\"SEN2021\"][gdf[\"mcd_str\"]==\"TOWN OF COTTAGE GROVE\"].value_counts()"
   ]
  },
  {
   "cell_type": "code",
   "execution_count": 11,
   "id": "06370411-2e4b-4267-a951-244741380179",
   "metadata": {},
   "outputs": [
    {
     "data": {
      "text/plain": [
       "<AxesSubplot:>"
      ]
     },
     "execution_count": 11,
     "metadata": {},
     "output_type": "execute_result"
    },
    {
     "data": {
      "image/png": "[encoded data removed]",
      "text/plain": [
       "<Figure size 432x288 with 1 Axes>"
      ]
     },
     "metadata": {
      "needs_background": "light"
     },
     "output_type": "display_data"
    }
   ],
   "source": [
    "gdf[(gdf[\"mcd_str\"]==\"CITY OF MADISON\")|(gdf[\"mcd_str\"]==\"TOWN OF COTTAGE GROVE\")].plot()"
   ]
  },
  {
   "cell_type": "code",
   "execution_count": 12,
   "id": "71667db1-7974-4a9e-bcfb-f641bb0992b4",
   "metadata": {},
   "outputs": [
    {
     "data": {
      "text/plain": [
       "<AxesSubplot:>"
      ]
     },
     "execution_count": 12,
     "metadata": {},
     "output_type": "execute_result"
    },
    {
     "data": {
      "image/png": "[encoded data removed]",
      "text/plain": [
       "<Figure size 432x288 with 1 Axes>"
      ]
     },
     "metadata": {
      "needs_background": "light"
     },
     "output_type": "display_data"
    }
   ],
   "source": [
    "gdf[(gdf[\"mcd_str\"]==\"CITY OF MADISON\")].plot()"
   ]
  },
  {
   "cell_type": "code",
   "execution_count": 13,
   "id": "bace63fb-f67a-49a1-8e16-883c865e5bba",
   "metadata": {},
   "outputs": [],
   "source": [
    "cong = prelim_shp_atger_gdf[['CON2021','tot_votes', 'Janet C. Protasiewicz', 'Daniel  Kelly','SCATTERING']].groupby(\"CON2021\").sum().reset_index()\n",
    "sldu = prelim_shp_atger_gdf[['SEN2021','tot_votes', 'Janet C. Protasiewicz', 'Daniel  Kelly','SCATTERING']].groupby(\"SEN2021\").sum().reset_index()\n",
    "sldl = prelim_shp_atger_gdf[['ASM2021','tot_votes', 'Janet C. Protasiewicz', 'Daniel  Kelly','SCATTERING']].groupby(\"ASM2021\").sum().reset_index()"
   ]
  },
  {
   "cell_type": "code",
   "execution_count": 14,
   "id": "918db537-33ef-4365-a592-20d3ebef5e31",
   "metadata": {},
   "outputs": [
    {
     "name": "stdout",
     "output_type": "stream",
     "text": [
      "USING COUNTY CHECK CODE TO CHECK DISTRICT LEVEL RESULTS, IGNORE COUNTY REFERENCE\n",
      "\n",
      "check congressional level results\n",
      "***Statewide Totals Check***\n",
      "All contests match statewide!\n",
      "\n",
      "***Countywide Totals Check***\n",
      "All contests in all counties match!\n",
      "\n",
      "check state assembly level results\n",
      "***Statewide Totals Check***\n",
      "All contests match statewide!\n",
      "\n",
      "***Countywide Totals Check***\n",
      "All contests in all counties match!\n",
      "\n",
      "check state senate level results\n",
      "***Statewide Totals Check***\n",
      "All contests match statewide!\n",
      "\n",
      "***Countywide Totals Check***\n",
      "All contests in all counties match!\n"
     ]
    },
    {
     "data": {
      "text/plain": [
       "[]"
      ]
     },
     "execution_count": 14,
     "metadata": {},
     "output_type": "execute_result"
    }
   ],
   "source": [
    "def statewide_totals_check(partner_df, partner_name, source_df, source_name, column_list):\n",
    "    \"\"\"Compares the totals of two election result dataframes at the statewide total level\n",
    "\n",
    "    Args:\n",
    "      partner_df: DataFrame of election results we are comparing against\n",
    "      source_df: DataFrame of election results we are comparing to\n",
    "      column_list: List of races that there are votes for\n",
    " \n",
    "    Returns:\n",
    "      difference list\n",
    "    \"\"\"\n",
    "    print(\"***Statewide Totals Check***\")\n",
    "    diff_races=[]\n",
    "    for race in column_list:\n",
    "        if (partner_df[race].sum()- source_df[race].sum() != 0):\n",
    "            if race not in diff_races:\n",
    "                diff_races.append(race)\n",
    "            print(race+\" has a difference of \"+str(partner_df[race].sum()-source_df[race].sum())+\" votes\")\n",
    "            print(\"\\t\"+ partner_name + \": \"+str(partner_df[race].sum())+\" votes\")\n",
    "            print(\"\\t\"+ source_name +\": \"+str(source_df[race].sum())+\" votes\")\n",
    "        #else:\n",
    "            #print(race + \" is equal\", \"\\t both dataframes \" + str(partner_df[race].sum()))\n",
    "    \n",
    "    if (len(diff_races)==0):\n",
    "        print(\"All contests match statewide!\")\n",
    "    elif (len(diff_races)>0):\n",
    "        print(\"Contests with differences: \")\n",
    "    \n",
    "    return diff_races\n",
    "\n",
    "\n",
    "def county_totals_check(partner_df, partner_name, source_df, source_name, column_list,county_col,full_print=False):\n",
    "    \"\"\"Compares the totals of two election result dataframes at the county level\n",
    "\n",
    "    Args:\n",
    "      partner_df: DataFrame of election results we are comparing against\n",
    "      partner_name: String of what to call the partner in the print statement\n",
    "      source_df: DataFrame of election results we are comparing to\n",
    "      source_name: String of what to call the source in the print statement\n",
    "      column_list: List of races that there are votes for\n",
    "      county_col: String of the column name that contains county information\n",
    "      full_print: Boolean specifying whether to print out everything, including counties w/ similarities\n",
    "\n",
    "    Returns:\n",
    "      difference list\n",
    "    \"\"\"\n",
    "    \n",
    "    print(\"\\n***Countywide Totals Check***\")\n",
    "    diff_counties=[]\n",
    "    for race in column_list:\n",
    "        diff = partner_df.groupby([county_col]).sum()[race]-source_df.groupby([county_col]).sum()[race]\n",
    "        for val in diff[diff != 0].index.values.tolist():\n",
    "            if val not in diff_counties:\n",
    "                diff_counties.append(val)\n",
    "        if len(diff[diff != 0]!=0):   \n",
    "            print(race, \" contains differences in these counties:\")\n",
    "            for val in diff[diff != 0].index.values.tolist():\n",
    "                county_differences = diff[diff != 0]\n",
    "                print(\"\\t\",val,\" has a difference of \",str(county_differences[val]),\" votes\")\n",
    "                print(\"\\t\\t\", partner_name , \": \",str(partner_df.groupby([county_col]).sum().loc[val,race]),\" votes\")\n",
    "                print(\"\\t\\t\", source_name ,\": \",str(source_df.groupby([county_col]).sum().loc[val,race]),\" votes\")\n",
    "            if (full_print):\n",
    "                for val in diff[diff == 0].index.values.tolist():\n",
    "                    county_similarities = diff[diff == 0]\n",
    "                    print(\"\\t\",val , \": \", str(partner_df.groupby([county_col]).sum().loc[val,race]),\" votes\")\n",
    "        #else:\n",
    "            #print(race + \" is equal across all counties\")\n",
    "            #if (full_print):\n",
    "               # for val in diff[diff == 0].index.values.tolist():\n",
    "                 #   county_similarities = diff[diff == 0]\n",
    "                    #print(\"\\t\"+val + \": \"+ str(partner_df.groupby([county_col]).sum().loc[val,race])+\" votes\")\n",
    "    if (len(diff_counties)==0):\n",
    "        print(\"All contests in all counties match!\")\n",
    "    elif (len(diff_counties)>0):\n",
    "        print(\"Counties with differences: \")\n",
    "        \n",
    "    return diff_counties\n",
    "\n",
    "print(\"USING COUNTY CHECK CODE TO CHECK DISTRICT LEVEL RESULTS, IGNORE COUNTY REFERENCE\")\n",
    "print(\"\\ncheck congressional level results\")\n",
    "statewide_totals_check(cong, \"rdh\", gdf[[\"CON2021\",'Janet C. Protasiewicz', 'Daniel  Kelly']], \"WI\", ['Janet C. Protasiewicz', 'Daniel  Kelly'])\n",
    "county_totals_check(cong, \"rdh\", gdf[[\"CON2021\",'Janet C. Protasiewicz', 'Daniel  Kelly']], \"WI\", ['Janet C. Protasiewicz', 'Daniel  Kelly'],\"CON2021\",full_print=False)\n",
    "print(\"\\ncheck state assembly level results\")\n",
    "statewide_totals_check(sldl, \"rdh\", gdf[[\"ASM2021\",'Janet C. Protasiewicz', 'Daniel  Kelly']], \"WI\", ['Janet C. Protasiewicz', 'Daniel  Kelly'])\n",
    "county_totals_check(sldl, \"rdh\", gdf[[\"ASM2021\",'Janet C. Protasiewicz', 'Daniel  Kelly']], \"WI\", ['Janet C. Protasiewicz', 'Daniel  Kelly'],\"ASM2021\",full_print=False)\n",
    "print(\"\\ncheck state senate level results\")\n",
    "statewide_totals_check(sldu, \"rdh\", gdf[[\"SEN2021\",'Janet C. Protasiewicz', 'Daniel  Kelly']], \"WI\", ['Janet C. Protasiewicz', 'Daniel  Kelly'])\n",
    "county_totals_check(sldu, \"rdh\", gdf[[\"SEN2021\",'Janet C. Protasiewicz', 'Daniel  Kelly']], \"WI\", ['Janet C. Protasiewicz', 'Daniel  Kelly'],\"SEN2021\",full_print=False)"
   ]
  },
  {
   "cell_type": "code",
   "execution_count": 18,
   "id": "234d4bdd-2b27-477f-8191-ed194697442c",
   "metadata": {},
   "outputs": [],
   "source": [
    "#os.mkdir(\"./wi_ssc_23/\")\n",
    "cong.to_csv(\"./wi_ssc_23/wi_ssc_23_cong.csv\", index=False)\n",
    "sldu.to_csv(\"./wi_ssc_23/wi_ssc_23_sldu.csv\", index=False)\n",
    "sldl.to_csv(\"./wi_ssc_23/wi_ssc_23_sldl.csv\", index=False)"
   ]
  },
  {
   "cell_type": "code",
   "execution_count": null,
   "id": "ea84c7f6-cd96-440b-be75-df9bffbb2f14",
   "metadata": {},
   "outputs": [],
   "source": [
    "cong.columns"
   ]
  },
  {
   "cell_type": "markdown",
   "id": "c0aa6470-c8a8-40ca-8c82-f9aad3f939ec",
   "metadata": {},
   "source": [
    "For readme:\n",
    "- Note \"DANE;TOWN OF COTTAGE GROVE;1,2,3,4,5,6\" assigned 4 votes before aggregating to district level from \"DANE;CITY OF MADISON;156\" from the election results as per [WI Ordinances page](https://mds.wi.gov/View/Ordinances)\n",
    "\n",
    "\n",
    "\n",
    "Wisconsin 2023 State Supreme Court Election results aggregated to CONG, SLDL and SLDU levels\n",
    "\n",
    "## Redistricting Data Hub (RDH) Retrieval Date\n",
    "12/12/2023\n",
    "\n",
    "## Sources\n",
    "The RDH retrieved 2023 State Supreme Court reporting unit level election results from the Wisconsin Election Commission (https://elections.wi.gov/elections/election-results) \n",
    "2023 ward boundaries were retrieved from the Wisconsin Election Commission upon request. Please see \"Additional Notes\" below for more information on this unofficial file.\n",
    "\n",
    "## Fields\n",
    "Field                   Description\n",
    "\n",
    "*all files*\n",
    "tot_votes               total votes for unit geography\n",
    "Janet C. Protasiewicz   total votes assigned to Janet C. Protasiewicz per unit geography\n",
    "Daniel  Kelly           total votes assigned to Daniel  Kelly per unit geography\n",
    "SCATTERING              write in candidate votes\n",
    "\n",
    "*congressional file*\n",
    "CON2021                 2021 congressional district\n",
    "*SLDL file*\n",
    "ASM2021                 2021 state assembly district\n",
    "*SLDU file*\n",
    "SEN2021                 2021 state senate district\n",
    "\n",
    "\n",
    "## Processing Steps\n",
    "The RDH aggregated the above and below mentioned ward boundary shapefile to the reporting unit level. This ward shapefile also had assignments for congressional and state legislative districts from the 2021 boundaries. The reporting unit identifiers were used to join to the 2023 State Supreme Court Election results at the Reporting Unit level, then the district assignments were used to aggregate to the congressional and state legislative levels.\n",
    "\n",
    "## Additional Notes\n",
    "\n",
    "On wards/reporting units:\n",
    "Wisconsin reports votes at the \"Reporting Unit\" level. Reporting Units are made up of collections of redistricting wards. From the Wisconsin Election commission website, \"Wards are the building blocks from which congressional, state senate, assembly, county supervisory and aldermanic districts are created. All territory, even if unpopulated, must be contained in a ward... Election results are reported by “reporting units.” A reporting unit may be one ward or a group of wards combined by resolution of the governing body\" (https://elections.wi.gov/wards-districts-and-reporting-units)\n",
    "\n",
    "On ward boundaries:\n",
    "Wisconsin releases official ward boundary files in July and January of every year to reflect all updates and ordinances that have occurred since the prior release. As a result, the ward boundaries in the official files do not necessarily reflect the boundaries that were in place for any given election. \n",
    "\n",
    "\n",
    "Wisconsin's official January 2023 file is available from the [LTSBE](https://data-ltsb.opendata.arcgis.com/datasets/LTSB), and ward boundary changes are tracked by the Municipal Boundary Review team on the state's [ordinances page](https://mds.wi.gov/View/Ordinances). Because of the boundary changes that occurred between January 2023 and April 2023, the RDH requested a file that would more accurately reflect the boundaries that were in place at the time of the election from the Wisconsin Election Commission. The Wisconsin Election Commission provided an *unofficial* file reflecting the boundaries in place in March of 2023. \n",
    "\n",
    "When comparing aggregated wards from the ward boundary file to the ward aggregates listed as reporting units from the election result files there was almost a complete match. Of note, The City of Madison Ward #156 in Dane County had results - 4 votes for Janet C. Protasiewicz in the election results, but no corresponding ward in the ward boundary file. Based on the [Ordinances page](https://mds.wi.gov/View/Ordinances) the RDH assigned this ward with the Town of Cottage Grove in Dane County as a best guess match. \n",
    "\n",
    "For questions about this dataset please contact info@redistrictingdatahub.org "
   ]
  }
 ],
 "metadata": {
  "kernelspec": {
   "display_name": "pdv_env",
   "language": "python",
   "name": "pdv_env"
  },
  "language_info": {
   "codemirror_mode": {
    "name": "ipython",
    "version": 3
   },
   "file_extension": ".py",
   "mimetype": "text/x-python",
   "name": "python",
   "nbconvert_exporter": "python",
   "pygments_lexer": "ipython3",
   "version": "3.9.4"
  }
 },
 "nbformat": 4,
 "nbformat_minor": 5
}
