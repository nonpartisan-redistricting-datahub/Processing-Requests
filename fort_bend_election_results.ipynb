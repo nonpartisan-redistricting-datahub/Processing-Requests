{
 "cells": [
  {
   "cell_type": "code",
   "execution_count": 1,
   "id": "f3be2d2d",
   "metadata": {},
   "outputs": [],
   "source": [
    "import pandas as pd\n",
    "import geopandas as gp"
   ]
  },
  {
   "cell_type": "markdown",
   "id": "690c1e3e",
   "metadata": {},
   "source": [
    "# Election Results"
   ]
  },
  {
   "cell_type": "code",
   "execution_count": 2,
   "id": "a5dede5c",
   "metadata": {},
   "outputs": [
    {
     "name": "stdout",
     "output_type": "stream",
     "text": [
      "        VTD VTD-key  Comm 2 - REP Melissa M. Wilson (22)  \\\n",
      "0      2003      F3                                  188   \n",
      "1      2007      L4                                 2355   \n",
      "2      2009                                         1455   \n",
      "3      2010       B                                 1755   \n",
      "4      2017     HO1                                   92   \n",
      "5      2018                                         1002   \n",
      "6      2021       C                                  398   \n",
      "7      2023     HO1                                  127   \n",
      "8      2028     MC1                                  626   \n",
      "9      2030     MC1                                  880   \n",
      "10     2031     HO1                                  100   \n",
      "11     2033     MC2                                  162   \n",
      "12     2034      F3                                  201   \n",
      "13     2036     HO1                                   38   \n",
      "14     2050                                           97   \n",
      "15     2051     HO1                                   64   \n",
      "16     2052     HO1                                   84   \n",
      "17     2055     HO1                                   33   \n",
      "18     2056     HO1                                   77   \n",
      "19     2058      F3                                  205   \n",
      "20     2059     MC2                                  108   \n",
      "21     2061                                         1202   \n",
      "22     2068       C                                  264   \n",
      "23     2070       D                                  293   \n",
      "24     2075     MC2                                   94   \n",
      "25     2077     MC2                                  153   \n",
      "26     2081     MC2                                  158   \n",
      "27     2085      L4                                  836   \n",
      "28     2087      L5                                  798   \n",
      "29     2088       D                                  142   \n",
      "30     2089     MC2                                   40   \n",
      "31     2090     MC1                                  223   \n",
      "32     2091     MC2                                  114   \n",
      "33     2094      F3                                    0   \n",
      "34     2097      F6                                 1411   \n",
      "35     2108     MC2                                  949   \n",
      "36     2109                                          271   \n",
      "37     2114      F3                                  189   \n",
      "38     2115     MC2                                  223   \n",
      "39     2116     HO1                                   92   \n",
      "40     2118                                         2415   \n",
      "41     2120      L5                                 1277   \n",
      "42     2123     HO1                                   55   \n",
      "43     2128      L5                                 1452   \n",
      "44     2134      F3                                  528   \n",
      "45     2136     MC2                                   87   \n",
      "46     2151                                          519   \n",
      "47     2152      L6                                  593   \n",
      "48     2153      F3                                   78   \n",
      "49     2161                                          333   \n",
      "50     2171                                          605   \n",
      "51  Totals:                                        25441   \n",
      "\n",
      "    Comm 2 - DEM Grady Prestage (22)  \n",
      "0                                672  \n",
      "1                               2375  \n",
      "2                                669  \n",
      "3                                368  \n",
      "4                                977  \n",
      "5                                204  \n",
      "6                                 58  \n",
      "7                                656  \n",
      "8                                707  \n",
      "9                                758  \n",
      "10                              1017  \n",
      "11                               419  \n",
      "12                              1837  \n",
      "13                               428  \n",
      "14                              1285  \n",
      "15                               961  \n",
      "16                               918  \n",
      "17                               419  \n",
      "18                               152  \n",
      "19                               926  \n",
      "20                               889  \n",
      "21                              1456  \n",
      "22                                18  \n",
      "23                               416  \n",
      "24                               728  \n",
      "25                               872  \n",
      "26                               392  \n",
      "27                               636  \n",
      "28                               441  \n",
      "29                               483  \n",
      "30                               600  \n",
      "31                               208  \n",
      "32                               210  \n",
      "33                                 1  \n",
      "34                              1347  \n",
      "35                              2602  \n",
      "36                               266  \n",
      "37                              1598  \n",
      "38                               656  \n",
      "39                               891  \n",
      "40                              2393  \n",
      "41                               582  \n",
      "42                               698  \n",
      "43                               592  \n",
      "44                              1498  \n",
      "45                               288  \n",
      "46                               966  \n",
      "47                               326  \n",
      "48                               824  \n",
      "49                                73  \n",
      "50                               687  \n",
      "51                             39443  \n"
     ]
    }
   ],
   "source": [
    "\n",
    "# Open and read file\n",
    "with open('/Users/peterhorton/Documents/RDH/Support/Processing-Requests/Fort_Bend_TX_04_2025/comm_22_2.txt', 'r') as f:\n",
    "    lines = f.readlines()[3:]  # Skip first 3 lines\n",
    "\n",
    "# Parse needed columns (1st, 4th, 7th)\n",
    "data = []\n",
    "for line in lines:\n",
    "    parts = line.strip().split()\n",
    "    if len(parts) >= 7:  # Ensure there are enough columns\n",
    "        if parts[1].isnumeric():\n",
    "            data.append([parts[0],\"\", int(parts[5]), int(parts[9])])\n",
    "        else:\n",
    "            data.append([parts[0],parts[1], int(parts[6]), int(parts[10])])\n",
    "\n",
    "# Create DataFrame\n",
    "comm_22_2 = pd.DataFrame(data, columns=['VTD','VTD-key', 'Comm 2 - REP Melissa M. Wilson (22)', 'Comm 2 - DEM Grady Prestage (22)'])\n",
    "\n",
    "print(comm_22_2)"
   ]
  },
  {
   "cell_type": "code",
   "execution_count": 3,
   "id": "a84d6ed7",
   "metadata": {},
   "outputs": [
    {
     "name": "stdout",
     "output_type": "stream",
     "text": [
      "        VTD VTD-key  Comm 4 - REP Ray Aguilar (22)  \\\n",
      "0      4001      L7                            815   \n",
      "1      4002                                     44   \n",
      "2      4012      L9                            500   \n",
      "3      4015                                    592   \n",
      "4      4024                                    225   \n",
      "5      4025                                   1302   \n",
      "6      4026     F20                            897   \n",
      "7      4032     F21                            157   \n",
      "8      4037      L9                            681   \n",
      "9      4039     F21                            182   \n",
      "10     4040      L7                            212   \n",
      "11     4048      L7                            263   \n",
      "12     4066     F21                            434   \n",
      "13     4067     L11                            541   \n",
      "14     4069     F21                            846   \n",
      "15     4072      L7                             40   \n",
      "16     4073      L7                            425   \n",
      "17     4074      L9                            785   \n",
      "18     4076     L12                            546   \n",
      "19     4082                                   2232   \n",
      "20     4083                                    814   \n",
      "21     4095      L7                           1209   \n",
      "22     4099     F21                            504   \n",
      "23     4100     F21                            347   \n",
      "24     4101     F21                            354   \n",
      "25     4106     F21                            716   \n",
      "26     4113     F21                            587   \n",
      "27     4117     L15                            382   \n",
      "28     4124     F21                            710   \n",
      "29     4141     L12                           1635   \n",
      "30     4150                                   1002   \n",
      "31     4154      L9                            740   \n",
      "32     4162                                    256   \n",
      "33     4163     L16                            155   \n",
      "34     4164     L11                            282   \n",
      "35     4167     F23                              2   \n",
      "36     4170     F24                             15   \n",
      "37     4173     F21                            192   \n",
      "38  Totals:                                  21621   \n",
      "\n",
      "    Comm 4 - DEM Dexter L. McCoy (22)  \n",
      "0                                 420  \n",
      "1                                 248  \n",
      "2                                 336  \n",
      "3                                 121  \n",
      "4                                  29  \n",
      "5                                 899  \n",
      "6                                 774  \n",
      "7                                 312  \n",
      "8                                 362  \n",
      "9                                 275  \n",
      "10                                480  \n",
      "11                                313  \n",
      "12                               1268  \n",
      "13                                909  \n",
      "14                               1522  \n",
      "15                                 11  \n",
      "16                                175  \n",
      "17                               1029  \n",
      "18                                734  \n",
      "19                               1584  \n",
      "20                               1385  \n",
      "21                               1252  \n",
      "22                                830  \n",
      "23                                675  \n",
      "24                                881  \n",
      "25                               1728  \n",
      "26                               1982  \n",
      "27                                510  \n",
      "28                                866  \n",
      "29                               1152  \n",
      "30                               2123  \n",
      "31                                846  \n",
      "32                                 57  \n",
      "33                                395  \n",
      "34                                379  \n",
      "35                                  0  \n",
      "36                                 29  \n",
      "37                                260  \n",
      "38                              27151  \n"
     ]
    }
   ],
   "source": [
    "import pandas as pd\n",
    "\n",
    "# Open and read file\n",
    "with open('/Users/peterhorton/Documents/RDH/Support/Processing-Requests/Fort_Bend_TX_04_2025/comm_22_4.txt', 'r') as f:\n",
    "    lines = f.readlines()[3:]  # Skip first 3 lines\n",
    "\n",
    "# Parse needed columns (1st, 4th, 7th)\n",
    "data = []\n",
    "for line in lines:\n",
    "    parts = line.strip().split()\n",
    "    if len(parts) >= 7:  # Ensure there are enough columns\n",
    "        if parts[1].isnumeric():\n",
    "            data.append([parts[0],\"\", int(parts[5]), int(parts[9])])\n",
    "        else:\n",
    "            data.append([parts[0],parts[1], int(parts[6]), int(parts[10])])\n",
    "\n",
    "# Create DataFrame\n",
    "comm_22_4 = pd.DataFrame(data, columns=['VTD','VTD-key', 'Comm 4 - REP Ray Aguilar (22)', 'Comm 4 - DEM Dexter L. McCoy (22)'])\n",
    "\n",
    "print(comm_22_4)"
   ]
  },
  {
   "cell_type": "code",
   "execution_count": 4,
   "id": "f15f5871",
   "metadata": {},
   "outputs": [],
   "source": [
    "comm_22_comb = pd.merge(comm_22_4, comm_22_2, on = [\"VTD\",\"VTD-key\"],how=\"outer\")"
   ]
  },
  {
   "cell_type": "code",
   "execution_count": 5,
   "id": "eb0d62d4",
   "metadata": {},
   "outputs": [],
   "source": [
    "comm_22_comb = comm_22_comb.fillna(0)"
   ]
  },
  {
   "cell_type": "code",
   "execution_count": 6,
   "id": "8884820b",
   "metadata": {},
   "outputs": [],
   "source": [
    "comm_22_comb = comm_22_comb[comm_22_comb[\"VTD\"]!=\"Totals:\"]"
   ]
  },
  {
   "cell_type": "code",
   "execution_count": 7,
   "id": "e2990418",
   "metadata": {},
   "outputs": [
    {
     "data": {
      "text/html": [
       "<div>\n",
       "<style scoped>\n",
       "    .dataframe tbody tr th:only-of-type {\n",
       "        vertical-align: middle;\n",
       "    }\n",
       "\n",
       "    .dataframe tbody tr th {\n",
       "        vertical-align: top;\n",
       "    }\n",
       "\n",
       "    .dataframe thead th {\n",
       "        text-align: right;\n",
       "    }\n",
       "</style>\n",
       "<table border=\"1\" class=\"dataframe\">\n",
       "  <thead>\n",
       "    <tr style=\"text-align: right;\">\n",
       "      <th></th>\n",
       "      <th>VTD</th>\n",
       "      <th>VTD-key</th>\n",
       "      <th>Comm 4 - REP Ray Aguilar (22)</th>\n",
       "      <th>Comm 4 - DEM Dexter L. McCoy (22)</th>\n",
       "      <th>Comm 2 - REP Melissa M. Wilson (22)</th>\n",
       "      <th>Comm 2 - DEM Grady Prestage (22)</th>\n",
       "    </tr>\n",
       "  </thead>\n",
       "  <tbody>\n",
       "    <tr>\n",
       "      <th>0</th>\n",
       "      <td>2003</td>\n",
       "      <td>F3</td>\n",
       "      <td>0.0</td>\n",
       "      <td>0.0</td>\n",
       "      <td>188.0</td>\n",
       "      <td>672.0</td>\n",
       "    </tr>\n",
       "    <tr>\n",
       "      <th>1</th>\n",
       "      <td>2007</td>\n",
       "      <td>L4</td>\n",
       "      <td>0.0</td>\n",
       "      <td>0.0</td>\n",
       "      <td>2355.0</td>\n",
       "      <td>2375.0</td>\n",
       "    </tr>\n",
       "    <tr>\n",
       "      <th>2</th>\n",
       "      <td>2009</td>\n",
       "      <td></td>\n",
       "      <td>0.0</td>\n",
       "      <td>0.0</td>\n",
       "      <td>1455.0</td>\n",
       "      <td>669.0</td>\n",
       "    </tr>\n",
       "    <tr>\n",
       "      <th>3</th>\n",
       "      <td>2010</td>\n",
       "      <td>B</td>\n",
       "      <td>0.0</td>\n",
       "      <td>0.0</td>\n",
       "      <td>1755.0</td>\n",
       "      <td>368.0</td>\n",
       "    </tr>\n",
       "    <tr>\n",
       "      <th>4</th>\n",
       "      <td>2017</td>\n",
       "      <td>HO1</td>\n",
       "      <td>0.0</td>\n",
       "      <td>0.0</td>\n",
       "      <td>92.0</td>\n",
       "      <td>977.0</td>\n",
       "    </tr>\n",
       "    <tr>\n",
       "      <th>...</th>\n",
       "      <td>...</td>\n",
       "      <td>...</td>\n",
       "      <td>...</td>\n",
       "      <td>...</td>\n",
       "      <td>...</td>\n",
       "      <td>...</td>\n",
       "    </tr>\n",
       "    <tr>\n",
       "      <th>84</th>\n",
       "      <td>4163</td>\n",
       "      <td>L16</td>\n",
       "      <td>155.0</td>\n",
       "      <td>395.0</td>\n",
       "      <td>0.0</td>\n",
       "      <td>0.0</td>\n",
       "    </tr>\n",
       "    <tr>\n",
       "      <th>85</th>\n",
       "      <td>4164</td>\n",
       "      <td>L11</td>\n",
       "      <td>282.0</td>\n",
       "      <td>379.0</td>\n",
       "      <td>0.0</td>\n",
       "      <td>0.0</td>\n",
       "    </tr>\n",
       "    <tr>\n",
       "      <th>86</th>\n",
       "      <td>4167</td>\n",
       "      <td>F23</td>\n",
       "      <td>2.0</td>\n",
       "      <td>0.0</td>\n",
       "      <td>0.0</td>\n",
       "      <td>0.0</td>\n",
       "    </tr>\n",
       "    <tr>\n",
       "      <th>87</th>\n",
       "      <td>4170</td>\n",
       "      <td>F24</td>\n",
       "      <td>15.0</td>\n",
       "      <td>29.0</td>\n",
       "      <td>0.0</td>\n",
       "      <td>0.0</td>\n",
       "    </tr>\n",
       "    <tr>\n",
       "      <th>88</th>\n",
       "      <td>4173</td>\n",
       "      <td>F21</td>\n",
       "      <td>192.0</td>\n",
       "      <td>260.0</td>\n",
       "      <td>0.0</td>\n",
       "      <td>0.0</td>\n",
       "    </tr>\n",
       "  </tbody>\n",
       "</table>\n",
       "<p>89 rows × 6 columns</p>\n",
       "</div>"
      ],
      "text/plain": [
       "     VTD VTD-key  Comm 4 - REP Ray Aguilar (22)  \\\n",
       "0   2003      F3                            0.0   \n",
       "1   2007      L4                            0.0   \n",
       "2   2009                                    0.0   \n",
       "3   2010       B                            0.0   \n",
       "4   2017     HO1                            0.0   \n",
       "..   ...     ...                            ...   \n",
       "84  4163     L16                          155.0   \n",
       "85  4164     L11                          282.0   \n",
       "86  4167     F23                            2.0   \n",
       "87  4170     F24                           15.0   \n",
       "88  4173     F21                          192.0   \n",
       "\n",
       "    Comm 4 - DEM Dexter L. McCoy (22)  Comm 2 - REP Melissa M. Wilson (22)  \\\n",
       "0                                 0.0                                188.0   \n",
       "1                                 0.0                               2355.0   \n",
       "2                                 0.0                               1455.0   \n",
       "3                                 0.0                               1755.0   \n",
       "4                                 0.0                                 92.0   \n",
       "..                                ...                                  ...   \n",
       "84                              395.0                                  0.0   \n",
       "85                              379.0                                  0.0   \n",
       "86                                0.0                                  0.0   \n",
       "87                               29.0                                  0.0   \n",
       "88                              260.0                                  0.0   \n",
       "\n",
       "    Comm 2 - DEM Grady Prestage (22)  \n",
       "0                              672.0  \n",
       "1                             2375.0  \n",
       "2                              669.0  \n",
       "3                              368.0  \n",
       "4                              977.0  \n",
       "..                               ...  \n",
       "84                               0.0  \n",
       "85                               0.0  \n",
       "86                               0.0  \n",
       "87                               0.0  \n",
       "88                               0.0  \n",
       "\n",
       "[89 rows x 6 columns]"
      ]
     },
     "execution_count": 7,
     "metadata": {},
     "output_type": "execute_result"
    }
   ],
   "source": [
    "comm_22_comb"
   ]
  },
  {
   "cell_type": "code",
   "execution_count": 8,
   "id": "4ba63333",
   "metadata": {},
   "outputs": [
    {
     "name": "stdout",
     "output_type": "stream",
     "text": [
      "        VTD VTD-key  Comm 3 - REP Andy Meyers (24)  \\\n",
      "0      3011                                    706   \n",
      "1      3016                                   1323   \n",
      "2      3020                                   1429   \n",
      "3      3022                                   1318   \n",
      "4      3027                                      0   \n",
      "5      3029                                   1001   \n",
      "6      3035                                    761   \n",
      "7      3042                                    505   \n",
      "8      3043                                    128   \n",
      "9      3044                                   1771   \n",
      "10     3045                                    620   \n",
      "11     3046                                   1182   \n",
      "12     3047                                    336   \n",
      "13     3049                                    983   \n",
      "14     3053                                      1   \n",
      "15     3060                                    755   \n",
      "16     3062                                   1255   \n",
      "17     3064                                   1228   \n",
      "18     3065                                   2182   \n",
      "19     3071                                    227   \n",
      "20     3078                                    148   \n",
      "21     3079                                    200   \n",
      "22     3080                                    562   \n",
      "23     3084                                    655   \n",
      "24     3086                                    726   \n",
      "25     3092                                    222   \n",
      "26     3093                                    105   \n",
      "27     3096                                    580   \n",
      "28     3098                                    731   \n",
      "29     3102                                    930   \n",
      "30     3105                                    266   \n",
      "31     3107                                    937   \n",
      "32     3110                                    992   \n",
      "33     3111                                    524   \n",
      "34     3112                                     83   \n",
      "35     3119                                   1576   \n",
      "36     3121                                    227   \n",
      "37     3125                                   1256   \n",
      "38     3126                                    320   \n",
      "39     3127                                   1045   \n",
      "40     3129                                   3264   \n",
      "41     3131                                    783   \n",
      "42     3135                                   2622   \n",
      "43     3137                                    126   \n",
      "44     3138                                    128   \n",
      "45     3139                                    825   \n",
      "46     3140                                   1315   \n",
      "47     3147                                   1866   \n",
      "48     3155                                    790   \n",
      "49     3157                                    416   \n",
      "50     3158                                    857   \n",
      "51     3166                                      0   \n",
      "52     3168                                    152   \n",
      "53     3169                                    217   \n",
      "54     3172                                    471   \n",
      "55     3174                                    516   \n",
      "56     3175                                    302   \n",
      "57  Totals:                                  44446   \n",
      "\n",
      "    Comm 3 - DEM Taral Patel (24)  \n",
      "0                             320  \n",
      "1                             881  \n",
      "2                             518  \n",
      "3                             824  \n",
      "4                               0  \n",
      "5                             316  \n",
      "6                             427  \n",
      "7                             175  \n",
      "8                             243  \n",
      "9                            1011  \n",
      "10                            477  \n",
      "11                            717  \n",
      "12                            189  \n",
      "13                           1172  \n",
      "14                              3  \n",
      "15                           1158  \n",
      "16                           1173  \n",
      "17                            614  \n",
      "18                           1497  \n",
      "19                            168  \n",
      "20                            207  \n",
      "21                             90  \n",
      "22                            349  \n",
      "23                            339  \n",
      "24                            604  \n",
      "25                            258  \n",
      "26                            187  \n",
      "27                            845  \n",
      "28                            660  \n",
      "29                            504  \n",
      "30                            181  \n",
      "31                            339  \n",
      "32                            584  \n",
      "33                            297  \n",
      "34                            133  \n",
      "35                            562  \n",
      "36                            221  \n",
      "37                           1089  \n",
      "38                            215  \n",
      "39                            797  \n",
      "40                           1956  \n",
      "41                            444  \n",
      "42                           1759  \n",
      "43                            162  \n",
      "44                            160  \n",
      "45                            650  \n",
      "46                            690  \n",
      "47                           1591  \n",
      "48                            757  \n",
      "49                            307  \n",
      "50                            719  \n",
      "51                              0  \n",
      "52                            130  \n",
      "53                            215  \n",
      "54                            448  \n",
      "55                            472  \n",
      "56                            382  \n",
      "57                          31186  \n"
     ]
    }
   ],
   "source": [
    "import pandas as pd\n",
    "\n",
    "# Open and read file\n",
    "with open('/Users/peterhorton/Documents/RDH/Support/Processing-Requests/Fort_Bend_TX_04_2025/comm_24.txt', 'r') as f:\n",
    "    lines = f.readlines()[4:]  # Skip first 3 lines\n",
    "\n",
    "# Parse needed columns (1st, 4th, 7th)\n",
    "data = []\n",
    "for line in lines:\n",
    "    parts = line.strip().split()\n",
    "    if len(parts) >= 7:  # Ensure there are enough columns\n",
    "        if parts[1].isnumeric():\n",
    "            data.append([parts[0],\"\", int(parts[5]), int(parts[9])])\n",
    "        else:\n",
    "            data.append([parts[0],parts[1], int(parts[6]), int(parts[10])])\n",
    "\n",
    "# Create DataFrame\n",
    "comm_24_3 = pd.DataFrame(data, columns=['VTD','VTD-key', 'Comm 3 - REP Andy Meyers (24)', 'Comm 3 - DEM Taral Patel (24)'])\n",
    "\n",
    "print(comm_24_3)"
   ]
  },
  {
   "cell_type": "code",
   "execution_count": 9,
   "id": "011eebd0",
   "metadata": {},
   "outputs": [],
   "source": [
    "prec_2022 = gp.read_file(\"./precincts22g/Precincts22G.shp\")\n",
    "prec_2024 = gp.read_file(\"./precincts24g/Precincts24G.shp\")\n",
    "\n",
    "prec_2024 = prec_2024[prec_2024[\"CNTY\"]==157]\n",
    "prec_2022 = prec_2022[prec_2022[\"CNTY\"]==157]"
   ]
  },
  {
   "cell_type": "code",
   "execution_count": 10,
   "id": "a8420dc6",
   "metadata": {},
   "outputs": [],
   "source": [
    "comm24_shp = gp.GeoDataFrame(pd.merge(prec_2024,comm_24_3,how=\"inner\",left_on=\"PREC\",right_on=\"VTD\",indicator=True))"
   ]
  },
  {
   "cell_type": "code",
   "execution_count": 11,
   "id": "45e98da9",
   "metadata": {},
   "outputs": [],
   "source": [
    "comm24_shp.drop(\"_merge\", axis = 1, inplace = True)"
   ]
  },
  {
   "cell_type": "code",
   "execution_count": 12,
   "id": "547ac1ca",
   "metadata": {},
   "outputs": [],
   "source": [
    "comm22_shp = gp.GeoDataFrame(pd.merge(prec_2022,comm_22_comb,how=\"inner\",left_on=\"PREC\",right_on=\"VTD\",indicator=True))"
   ]
  },
  {
   "cell_type": "code",
   "execution_count": 13,
   "id": "ff54e7e6",
   "metadata": {},
   "outputs": [],
   "source": [
    "comm22_shp.drop(\"_merge\", axis = 1, inplace = True)"
   ]
  },
  {
   "cell_type": "code",
   "execution_count": 14,
   "id": "10d2608a",
   "metadata": {},
   "outputs": [
    {
     "name": "stderr",
     "output_type": "stream",
     "text": [
      "/Users/peterhorton/opt/anaconda3/envs/maup_adv/lib/python3.11/site-packages/geopandas/geodataframe.py:1793: FutureWarning: The provided callable <built-in function sum> is currently using DataFrameGroupBy.sum. In a future version of pandas, the provided callable will be used directly. To keep current behavior pass the string \"sum\" instead.\n",
      "  aggregated_data = data.groupby(**groupby_kwargs).agg(aggfunc, **kwargs)\n",
      "/Users/peterhorton/opt/anaconda3/envs/maup_adv/lib/python3.11/site-packages/geopandas/geodataframe.py:1793: FutureWarning: The provided callable <built-in function sum> is currently using DataFrameGroupBy.sum. In a future version of pandas, the provided callable will be used directly. To keep current behavior pass the string \"sum\" instead.\n",
      "  aggregated_data = data.groupby(**groupby_kwargs).agg(aggfunc, **kwargs)\n"
     ]
    }
   ],
   "source": [
    "comm24_shp[\"DIST\"] = comm24_shp[\"PREC\"].str[0]\n",
    "comm22_shp[\"DIST\"] = comm22_shp[\"PREC\"].str[0]\n",
    "\n",
    "comm24_shp = comm24_shp.dissolve(\"DIST\", aggfunc = sum, as_index = False)\n",
    "comm22_shp = comm22_shp.dissolve(\"DIST\", aggfunc = sum, as_index = False)"
   ]
  },
  {
   "cell_type": "code",
   "execution_count": 15,
   "id": "96b43ebd",
   "metadata": {},
   "outputs": [
    {
     "data": {
      "text/html": [
       "<div>\n",
       "<style scoped>\n",
       "    .dataframe tbody tr th:only-of-type {\n",
       "        vertical-align: middle;\n",
       "    }\n",
       "\n",
       "    .dataframe tbody tr th {\n",
       "        vertical-align: top;\n",
       "    }\n",
       "\n",
       "    .dataframe thead th {\n",
       "        text-align: right;\n",
       "    }\n",
       "</style>\n",
       "<table border=\"1\" class=\"dataframe\">\n",
       "  <thead>\n",
       "    <tr style=\"text-align: right;\">\n",
       "      <th></th>\n",
       "      <th>DIST</th>\n",
       "      <th>geometry</th>\n",
       "      <th>OBJECTID</th>\n",
       "      <th>CNTY</th>\n",
       "      <th>COLOR</th>\n",
       "      <th>PREC</th>\n",
       "      <th>PCTKEY</th>\n",
       "      <th>cntykey</th>\n",
       "      <th>Shape_area</th>\n",
       "      <th>Shape_len</th>\n",
       "      <th>VTD</th>\n",
       "      <th>VTD-key</th>\n",
       "      <th>Comm 4 - REP Ray Aguilar (22)</th>\n",
       "      <th>Comm 4 - DEM Dexter L. McCoy (22)</th>\n",
       "      <th>Comm 2 - REP Melissa M. Wilson (22)</th>\n",
       "      <th>Comm 2 - DEM Grady Prestage (22)</th>\n",
       "    </tr>\n",
       "  </thead>\n",
       "  <tbody>\n",
       "    <tr>\n",
       "      <th>0</th>\n",
       "      <td>2</td>\n",
       "      <td>POLYGON ((1430944.871 817246.735, 1430943.959 ...</td>\n",
       "      <td>244039</td>\n",
       "      <td>8007</td>\n",
       "      <td>198</td>\n",
       "      <td>2056207520912089205020522097203120232017203621...</td>\n",
       "      <td>1572056157207515720911572089157205015720521572...</td>\n",
       "      <td>4029</td>\n",
       "      <td>9.559295e+08</td>\n",
       "      <td>878353.445054</td>\n",
       "      <td>2056207520912089205020522097203120232017203621...</td>\n",
       "      <td>HO1MC2MC2MC2HO1F6HO1HO1HO1HO1HO1HO1L5F3F3F3MC2...</td>\n",
       "      <td>0.0</td>\n",
       "      <td>0.0</td>\n",
       "      <td>25441.0</td>\n",
       "      <td>39443.0</td>\n",
       "    </tr>\n",
       "    <tr>\n",
       "      <th>1</th>\n",
       "      <td>4</td>\n",
       "      <td>POLYGON ((1397984.061 827140.668, 1397983.021 ...</td>\n",
       "      <td>315887</td>\n",
       "      <td>5966</td>\n",
       "      <td>150</td>\n",
       "      <td>4154401240374048410040994032417340254162402440...</td>\n",
       "      <td>1574154157401215740371574048157410015740991574...</td>\n",
       "      <td>3002</td>\n",
       "      <td>5.133365e+08</td>\n",
       "      <td>654712.388901</td>\n",
       "      <td>4154401240374048410040994032417340254162402440...</td>\n",
       "      <td>L9L9L9L7F21F21F21F21L7L7L9F21F24L7L15L7F21L12L...</td>\n",
       "      <td>21621.0</td>\n",
       "      <td>27151.0</td>\n",
       "      <td>0.0</td>\n",
       "      <td>0.0</td>\n",
       "    </tr>\n",
       "  </tbody>\n",
       "</table>\n",
       "</div>"
      ],
      "text/plain": [
       "  DIST                                           geometry  OBJECTID  CNTY  \\\n",
       "0    2  POLYGON ((1430944.871 817246.735, 1430943.959 ...    244039  8007   \n",
       "1    4  POLYGON ((1397984.061 827140.668, 1397983.021 ...    315887  5966   \n",
       "\n",
       "   COLOR                                               PREC  \\\n",
       "0    198  2056207520912089205020522097203120232017203621...   \n",
       "1    150  4154401240374048410040994032417340254162402440...   \n",
       "\n",
       "                                              PCTKEY  cntykey    Shape_area  \\\n",
       "0  1572056157207515720911572089157205015720521572...     4029  9.559295e+08   \n",
       "1  1574154157401215740371574048157410015740991574...     3002  5.133365e+08   \n",
       "\n",
       "       Shape_len                                                VTD  \\\n",
       "0  878353.445054  2056207520912089205020522097203120232017203621...   \n",
       "1  654712.388901  4154401240374048410040994032417340254162402440...   \n",
       "\n",
       "                                             VTD-key  \\\n",
       "0  HO1MC2MC2MC2HO1F6HO1HO1HO1HO1HO1HO1L5F3F3F3MC2...   \n",
       "1  L9L9L9L7F21F21F21F21L7L7L9F21F24L7L15L7F21L12L...   \n",
       "\n",
       "   Comm 4 - REP Ray Aguilar (22)  Comm 4 - DEM Dexter L. McCoy (22)  \\\n",
       "0                            0.0                                0.0   \n",
       "1                        21621.0                            27151.0   \n",
       "\n",
       "   Comm 2 - REP Melissa M. Wilson (22)  Comm 2 - DEM Grady Prestage (22)  \n",
       "0                              25441.0                           39443.0  \n",
       "1                                  0.0                               0.0  "
      ]
     },
     "execution_count": 15,
     "metadata": {},
     "output_type": "execute_result"
    }
   ],
   "source": [
    "comm22_shp"
   ]
  },
  {
   "cell_type": "code",
   "execution_count": 16,
   "id": "5d9384aa",
   "metadata": {},
   "outputs": [],
   "source": [
    "comm24_shp.drop(['CNTY', 'COLOR', 'PREC', 'PCTKEY', 'cntykey',\n",
    "       'Shape_area', 'Shape_len', 'VTD', 'VTD-key'], axis = 1, inplace = True)\n",
    "comm22_shp.drop(['CNTY', 'COLOR', 'PREC', 'PCTKEY', 'cntykey',\n",
    "       'Shape_area', 'Shape_len', 'VTD', 'VTD-key'], axis = 1, inplace = True)"
   ]
  },
  {
   "cell_type": "code",
   "execution_count": 17,
   "id": "3c4e8b0d",
   "metadata": {},
   "outputs": [
    {
     "data": {
      "text/html": [
       "<div>\n",
       "<style scoped>\n",
       "    .dataframe tbody tr th:only-of-type {\n",
       "        vertical-align: middle;\n",
       "    }\n",
       "\n",
       "    .dataframe tbody tr th {\n",
       "        vertical-align: top;\n",
       "    }\n",
       "\n",
       "    .dataframe thead th {\n",
       "        text-align: right;\n",
       "    }\n",
       "</style>\n",
       "<table border=\"1\" class=\"dataframe\">\n",
       "  <thead>\n",
       "    <tr style=\"text-align: right;\">\n",
       "      <th></th>\n",
       "      <th>DIST</th>\n",
       "      <th>geometry</th>\n",
       "      <th>Comm 3 - REP Andy Meyers (24)</th>\n",
       "      <th>Comm 3 - DEM Taral Patel (24)</th>\n",
       "    </tr>\n",
       "  </thead>\n",
       "  <tbody>\n",
       "    <tr>\n",
       "      <th>0</th>\n",
       "      <td>3</td>\n",
       "      <td>POLYGON ((1421932.652 829468.532, 1421902.506 ...</td>\n",
       "      <td>44446</td>\n",
       "      <td>31186</td>\n",
       "    </tr>\n",
       "  </tbody>\n",
       "</table>\n",
       "</div>"
      ],
      "text/plain": [
       "  DIST                                           geometry  \\\n",
       "0    3  POLYGON ((1421932.652 829468.532, 1421902.506 ...   \n",
       "\n",
       "   Comm 3 - REP Andy Meyers (24)  Comm 3 - DEM Taral Patel (24)  \n",
       "0                          44446                          31186  "
      ]
     },
     "execution_count": 17,
     "metadata": {},
     "output_type": "execute_result"
    }
   ],
   "source": [
    "comm24_shp"
   ]
  },
  {
   "cell_type": "markdown",
   "id": "3361c6a1",
   "metadata": {},
   "source": [
    "# Additional Results"
   ]
  },
  {
   "cell_type": "code",
   "execution_count": 18,
   "id": "8ceb39b6",
   "metadata": {},
   "outputs": [],
   "source": [
    "gov_14 = pd.read_csv(\"/Users/peterhorton/Documents/RDH/Support/Processing-Requests/Fort_Bend_TX_04_2025/2022-general-vtds-election-data/2014_General_Election_Returns.csv\")\n",
    "gov_22 = pd.read_csv(\"/Users/peterhorton/Documents/RDH/Support/Processing-Requests/Fort_Bend_TX_04_2025/2022-general-vtds-election-data/2022_General_Election_Returns.csv\")"
   ]
  },
  {
   "cell_type": "code",
   "execution_count": 19,
   "id": "04264cc6",
   "metadata": {},
   "outputs": [],
   "source": [
    "gov_14[\"Name\"] += \"(\" + gov_14[\"Party\"] + \")\"\n",
    "gov_22[\"Name\"] += \"(\" + gov_22[\"Party\"] + \")\""
   ]
  },
  {
   "cell_type": "code",
   "execution_count": 20,
   "id": "9cf46c57",
   "metadata": {},
   "outputs": [
    {
     "name": "stderr",
     "output_type": "stream",
     "text": [
      "/var/folders/1t/0q4w6hm92mg_zxd84dfxmq3m0000gn/T/ipykernel_17800/2652802332.py:4: FutureWarning: The provided callable <built-in function sum> is currently using DataFrameGroupBy.sum. In a future version of pandas, the provided callable will be used directly. To keep current behavior pass the string \"sum\" instead.\n",
      "  gov_14 = pd.pivot_table(gov_14, index = \"VTD\", columns = \"Name\", values = \"Votes\", aggfunc = sum)\n",
      "/var/folders/1t/0q4w6hm92mg_zxd84dfxmq3m0000gn/T/ipykernel_17800/2652802332.py:5: FutureWarning: The provided callable <built-in function sum> is currently using DataFrameGroupBy.sum. In a future version of pandas, the provided callable will be used directly. To keep current behavior pass the string \"sum\" instead.\n",
      "  gov_22 = pd.pivot_table(gov_22, index = \"VTD\", columns = \"Name\", values = \"Votes\", aggfunc = sum)\n"
     ]
    }
   ],
   "source": [
    "gov_14 = gov_14[(gov_14[\"FIPS\"]==157)&(gov_14[\"Office\"]=='Governor')].copy()\n",
    "gov_22 = gov_22[(gov_22[\"FIPS\"]==157)&(gov_22[\"Office\"]=='Governor')].copy()\n",
    "\n",
    "gov_14 = pd.pivot_table(gov_14, index = \"VTD\", columns = \"Name\", values = \"Votes\", aggfunc = sum)\n",
    "gov_22 = pd.pivot_table(gov_22, index = \"VTD\", columns = \"Name\", values = \"Votes\", aggfunc = sum)\n",
    "\n",
    "gov_22.reset_index(inplace = True, drop = False)\n",
    "gov_14.reset_index(inplace = True, drop = False)\n",
    "\n",
    "gov_22.rename(columns={i: i + \"_Gov_22\" for i in gov_22.columns if i != \"VTD\"}, inplace=True)\n",
    "gov_14.rename(columns={i: i + \"_Gov_14\" for i in gov_14.columns if i != \"VTD\"}, inplace=True)"
   ]
  },
  {
   "cell_type": "code",
   "execution_count": 21,
   "id": "4cc22cda",
   "metadata": {},
   "outputs": [],
   "source": [
    "gov_results = pd.merge(gov_22, gov_14, on = \"VTD\")"
   ]
  },
  {
   "cell_type": "code",
   "execution_count": 22,
   "id": "e6963dac",
   "metadata": {},
   "outputs": [],
   "source": [
    "gov_results[\"VTD\"] = gov_results[\"VTD\"].astype(str).str.upper()"
   ]
  },
  {
   "cell_type": "code",
   "execution_count": 23,
   "id": "4b54b7f1",
   "metadata": {},
   "outputs": [
    {
     "data": {
      "text/html": [
       "<div>\n",
       "<style scoped>\n",
       "    .dataframe tbody tr th:only-of-type {\n",
       "        vertical-align: middle;\n",
       "    }\n",
       "\n",
       "    .dataframe tbody tr th {\n",
       "        vertical-align: top;\n",
       "    }\n",
       "\n",
       "    .dataframe thead th {\n",
       "        text-align: right;\n",
       "    }\n",
       "</style>\n",
       "<table border=\"1\" class=\"dataframe\">\n",
       "  <thead>\n",
       "    <tr style=\"text-align: right;\">\n",
       "      <th>Name</th>\n",
       "      <th>VTD</th>\n",
       "      <th>Abbott(R)_Gov_22</th>\n",
       "      <th>Barrios(G)_Gov_22</th>\n",
       "      <th>O'Rourke(D)_Gov_22</th>\n",
       "      <th>Tippetts(L)_Gov_22</th>\n",
       "      <th>Write-In(W)_Gov_22</th>\n",
       "      <th>Abbott(R)_Gov_14</th>\n",
       "      <th>Davis(D)_Gov_14</th>\n",
       "      <th>Glass(L)_Gov_14</th>\n",
       "      <th>Parmer(G)_Gov_14</th>\n",
       "      <th>Pavitt(W)_Gov_14</th>\n",
       "    </tr>\n",
       "  </thead>\n",
       "  <tbody>\n",
       "    <tr>\n",
       "      <th>0</th>\n",
       "      <td>1004</td>\n",
       "      <td>1261</td>\n",
       "      <td>6</td>\n",
       "      <td>712</td>\n",
       "      <td>22</td>\n",
       "      <td>0</td>\n",
       "      <td>1031</td>\n",
       "      <td>377</td>\n",
       "      <td>18</td>\n",
       "      <td>3</td>\n",
       "      <td>0</td>\n",
       "    </tr>\n",
       "    <tr>\n",
       "      <th>1</th>\n",
       "      <td>1005</td>\n",
       "      <td>897</td>\n",
       "      <td>1</td>\n",
       "      <td>281</td>\n",
       "      <td>10</td>\n",
       "      <td>2</td>\n",
       "      <td>322</td>\n",
       "      <td>102</td>\n",
       "      <td>2</td>\n",
       "      <td>1</td>\n",
       "      <td>0</td>\n",
       "    </tr>\n",
       "    <tr>\n",
       "      <th>2</th>\n",
       "      <td>1006</td>\n",
       "      <td>4822</td>\n",
       "      <td>17</td>\n",
       "      <td>2562</td>\n",
       "      <td>89</td>\n",
       "      <td>8</td>\n",
       "      <td>723</td>\n",
       "      <td>154</td>\n",
       "      <td>6</td>\n",
       "      <td>1</td>\n",
       "      <td>0</td>\n",
       "    </tr>\n",
       "    <tr>\n",
       "      <th>3</th>\n",
       "      <td>1008</td>\n",
       "      <td>429</td>\n",
       "      <td>7</td>\n",
       "      <td>109</td>\n",
       "      <td>6</td>\n",
       "      <td>1</td>\n",
       "      <td>242</td>\n",
       "      <td>57</td>\n",
       "      <td>2</td>\n",
       "      <td>1</td>\n",
       "      <td>1</td>\n",
       "    </tr>\n",
       "    <tr>\n",
       "      <th>4</th>\n",
       "      <td>1013</td>\n",
       "      <td>652</td>\n",
       "      <td>6</td>\n",
       "      <td>509</td>\n",
       "      <td>16</td>\n",
       "      <td>0</td>\n",
       "      <td>500</td>\n",
       "      <td>300</td>\n",
       "      <td>16</td>\n",
       "      <td>2</td>\n",
       "      <td>0</td>\n",
       "    </tr>\n",
       "    <tr>\n",
       "      <th>...</th>\n",
       "      <td>...</td>\n",
       "      <td>...</td>\n",
       "      <td>...</td>\n",
       "      <td>...</td>\n",
       "      <td>...</td>\n",
       "      <td>...</td>\n",
       "      <td>...</td>\n",
       "      <td>...</td>\n",
       "      <td>...</td>\n",
       "      <td>...</td>\n",
       "      <td>...</td>\n",
       "    </tr>\n",
       "    <tr>\n",
       "      <th>175</th>\n",
       "      <td>4163</td>\n",
       "      <td>142</td>\n",
       "      <td>5</td>\n",
       "      <td>415</td>\n",
       "      <td>8</td>\n",
       "      <td>0</td>\n",
       "      <td>198</td>\n",
       "      <td>184</td>\n",
       "      <td>4</td>\n",
       "      <td>3</td>\n",
       "      <td>0</td>\n",
       "    </tr>\n",
       "    <tr>\n",
       "      <th>176</th>\n",
       "      <td>4164</td>\n",
       "      <td>287</td>\n",
       "      <td>4</td>\n",
       "      <td>388</td>\n",
       "      <td>7</td>\n",
       "      <td>1</td>\n",
       "      <td>215</td>\n",
       "      <td>194</td>\n",
       "      <td>5</td>\n",
       "      <td>2</td>\n",
       "      <td>0</td>\n",
       "    </tr>\n",
       "    <tr>\n",
       "      <th>177</th>\n",
       "      <td>4167</td>\n",
       "      <td>2</td>\n",
       "      <td>0</td>\n",
       "      <td>0</td>\n",
       "      <td>0</td>\n",
       "      <td>0</td>\n",
       "      <td>0</td>\n",
       "      <td>4</td>\n",
       "      <td>0</td>\n",
       "      <td>0</td>\n",
       "      <td>0</td>\n",
       "    </tr>\n",
       "    <tr>\n",
       "      <th>178</th>\n",
       "      <td>4170</td>\n",
       "      <td>17</td>\n",
       "      <td>0</td>\n",
       "      <td>32</td>\n",
       "      <td>0</td>\n",
       "      <td>0</td>\n",
       "      <td>6</td>\n",
       "      <td>6</td>\n",
       "      <td>0</td>\n",
       "      <td>0</td>\n",
       "      <td>0</td>\n",
       "    </tr>\n",
       "    <tr>\n",
       "      <th>179</th>\n",
       "      <td>4173</td>\n",
       "      <td>184</td>\n",
       "      <td>1</td>\n",
       "      <td>273</td>\n",
       "      <td>4</td>\n",
       "      <td>0</td>\n",
       "      <td>108</td>\n",
       "      <td>124</td>\n",
       "      <td>2</td>\n",
       "      <td>0</td>\n",
       "      <td>0</td>\n",
       "    </tr>\n",
       "  </tbody>\n",
       "</table>\n",
       "<p>180 rows × 11 columns</p>\n",
       "</div>"
      ],
      "text/plain": [
       "Name   VTD  Abbott(R)_Gov_22  Barrios(G)_Gov_22  O'Rourke(D)_Gov_22  \\\n",
       "0     1004              1261                  6                 712   \n",
       "1     1005               897                  1                 281   \n",
       "2     1006              4822                 17                2562   \n",
       "3     1008               429                  7                 109   \n",
       "4     1013               652                  6                 509   \n",
       "..     ...               ...                ...                 ...   \n",
       "175   4163               142                  5                 415   \n",
       "176   4164               287                  4                 388   \n",
       "177   4167                 2                  0                   0   \n",
       "178   4170                17                  0                  32   \n",
       "179   4173               184                  1                 273   \n",
       "\n",
       "Name  Tippetts(L)_Gov_22  Write-In(W)_Gov_22  Abbott(R)_Gov_14  \\\n",
       "0                     22                   0              1031   \n",
       "1                     10                   2               322   \n",
       "2                     89                   8               723   \n",
       "3                      6                   1               242   \n",
       "4                     16                   0               500   \n",
       "..                   ...                 ...               ...   \n",
       "175                    8                   0               198   \n",
       "176                    7                   1               215   \n",
       "177                    0                   0                 0   \n",
       "178                    0                   0                 6   \n",
       "179                    4                   0               108   \n",
       "\n",
       "Name  Davis(D)_Gov_14  Glass(L)_Gov_14  Parmer(G)_Gov_14  Pavitt(W)_Gov_14  \n",
       "0                 377               18                 3                 0  \n",
       "1                 102                2                 1                 0  \n",
       "2                 154                6                 1                 0  \n",
       "3                  57                2                 1                 1  \n",
       "4                 300               16                 2                 0  \n",
       "..                ...              ...               ...               ...  \n",
       "175               184                4                 3                 0  \n",
       "176               194                5                 2                 0  \n",
       "177                 4                0                 0                 0  \n",
       "178                 6                0                 0                 0  \n",
       "179               124                2                 0                 0  \n",
       "\n",
       "[180 rows x 11 columns]"
      ]
     },
     "execution_count": 23,
     "metadata": {},
     "output_type": "execute_result"
    }
   ],
   "source": [
    "gov_results"
   ]
  },
  {
   "cell_type": "code",
   "execution_count": 24,
   "id": "6fe67f44",
   "metadata": {},
   "outputs": [],
   "source": [
    "vtd_2022 = gp.read_file(\"./vtds_22g/VTDs_22G.shp\")\n",
    "vtd_2022 = vtd_2022[vtd_2022[\"CNTY\"]==157]\n",
    "gov_final = gp.GeoDataFrame(pd.merge(vtd_2022,gov_results,on=\"VTD\",how=\"outer\",indicator=True))"
   ]
  },
  {
   "cell_type": "code",
   "execution_count": 25,
   "id": "f9786f0a",
   "metadata": {},
   "outputs": [],
   "source": [
    "gov_final.drop(\"_merge\", axis = 1, inplace = True)"
   ]
  },
  {
   "cell_type": "code",
   "execution_count": 26,
   "id": "095de27a",
   "metadata": {},
   "outputs": [],
   "source": [
    "gov_final[\"DIST\"] = gov_final[\"VTD\"].str[0]"
   ]
  },
  {
   "cell_type": "code",
   "execution_count": 27,
   "id": "f951ed17",
   "metadata": {},
   "outputs": [
    {
     "data": {
      "text/html": [
       "<div>\n",
       "<style scoped>\n",
       "    .dataframe tbody tr th:only-of-type {\n",
       "        vertical-align: middle;\n",
       "    }\n",
       "\n",
       "    .dataframe tbody tr th {\n",
       "        vertical-align: top;\n",
       "    }\n",
       "\n",
       "    .dataframe thead th {\n",
       "        text-align: right;\n",
       "    }\n",
       "</style>\n",
       "<table border=\"1\" class=\"dataframe\">\n",
       "  <thead>\n",
       "    <tr style=\"text-align: right;\">\n",
       "      <th></th>\n",
       "      <th>CNTY</th>\n",
       "      <th>COLOR</th>\n",
       "      <th>VTD</th>\n",
       "      <th>CNTYKEY</th>\n",
       "      <th>VTDKEY</th>\n",
       "      <th>CNTYVTD</th>\n",
       "      <th>Shape_area</th>\n",
       "      <th>Shape_len</th>\n",
       "      <th>geometry</th>\n",
       "      <th>Abbott(R)_Gov_22</th>\n",
       "      <th>Barrios(G)_Gov_22</th>\n",
       "      <th>O'Rourke(D)_Gov_22</th>\n",
       "      <th>Tippetts(L)_Gov_22</th>\n",
       "      <th>Write-In(W)_Gov_22</th>\n",
       "      <th>Abbott(R)_Gov_14</th>\n",
       "      <th>Davis(D)_Gov_14</th>\n",
       "      <th>Glass(L)_Gov_14</th>\n",
       "      <th>Parmer(G)_Gov_14</th>\n",
       "      <th>Pavitt(W)_Gov_14</th>\n",
       "      <th>DIST</th>\n",
       "    </tr>\n",
       "  </thead>\n",
       "  <tbody>\n",
       "    <tr>\n",
       "      <th>141</th>\n",
       "      <td>157</td>\n",
       "      <td>1</td>\n",
       "      <td>4001</td>\n",
       "      <td>79</td>\n",
       "      <td>3753.0</td>\n",
       "      <td>1574001</td>\n",
       "      <td>5.413097e+06</td>\n",
       "      <td>15336.236242</td>\n",
       "      <td>POLYGON ((1411714.880 832683.163, 1411608.596 ...</td>\n",
       "      <td>779</td>\n",
       "      <td>6</td>\n",
       "      <td>470</td>\n",
       "      <td>11</td>\n",
       "      <td>0</td>\n",
       "      <td>608</td>\n",
       "      <td>213</td>\n",
       "      <td>13</td>\n",
       "      <td>0</td>\n",
       "      <td>0</td>\n",
       "      <td>4</td>\n",
       "    </tr>\n",
       "  </tbody>\n",
       "</table>\n",
       "</div>"
      ],
      "text/plain": [
       "     CNTY  COLOR   VTD  CNTYKEY  VTDKEY  CNTYVTD    Shape_area     Shape_len  \\\n",
       "141   157      1  4001       79  3753.0  1574001  5.413097e+06  15336.236242   \n",
       "\n",
       "                                              geometry  Abbott(R)_Gov_22  \\\n",
       "141  POLYGON ((1411714.880 832683.163, 1411608.596 ...               779   \n",
       "\n",
       "     Barrios(G)_Gov_22  O'Rourke(D)_Gov_22  Tippetts(L)_Gov_22  \\\n",
       "141                  6                 470                  11   \n",
       "\n",
       "     Write-In(W)_Gov_22  Abbott(R)_Gov_14  Davis(D)_Gov_14  Glass(L)_Gov_14  \\\n",
       "141                   0               608              213               13   \n",
       "\n",
       "     Parmer(G)_Gov_14  Pavitt(W)_Gov_14 DIST  \n",
       "141                 0                 0    4  "
      ]
     },
     "execution_count": 27,
     "metadata": {},
     "output_type": "execute_result"
    }
   ],
   "source": [
    "gov_final[gov_final[\"VTD\"]==\"4001\"]"
   ]
  },
  {
   "cell_type": "code",
   "execution_count": 28,
   "id": "4389d702",
   "metadata": {},
   "outputs": [
    {
     "name": "stderr",
     "output_type": "stream",
     "text": [
      "/Users/peterhorton/opt/anaconda3/envs/maup_adv/lib/python3.11/site-packages/geopandas/geodataframe.py:1793: FutureWarning: The provided callable <built-in function sum> is currently using DataFrameGroupBy.sum. In a future version of pandas, the provided callable will be used directly. To keep current behavior pass the string \"sum\" instead.\n",
      "  aggregated_data = data.groupby(**groupby_kwargs).agg(aggfunc, **kwargs)\n"
     ]
    }
   ],
   "source": [
    "gov_final = gov_final.dissolve(\"DIST\", aggfunc = sum, as_index = False)"
   ]
  },
  {
   "cell_type": "code",
   "execution_count": 29,
   "id": "f7c1a77e",
   "metadata": {},
   "outputs": [],
   "source": [
    "gov_final.drop(['CNTY', 'COLOR', \n",
    "       'Shape_area', 'Shape_len', 'VTD', 'CNTYKEY','VTDKEY','CNTYVTD'], axis = 1, inplace = True)"
   ]
  },
  {
   "cell_type": "code",
   "execution_count": 30,
   "id": "dc56ec17",
   "metadata": {},
   "outputs": [
    {
     "data": {
      "text/plain": [
       "<Axes: >"
      ]
     },
     "execution_count": 30,
     "metadata": {},
     "output_type": "execute_result"
    },
    {
     "data": {
      "image/png": "[encoded data removed]",
      "text/plain": [
       "<Figure size 640x480 with 1 Axes>"
      ]
     },
     "metadata": {},
     "output_type": "display_data"
    }
   ],
   "source": [
    "ax = gov_final.plot(column = \"DIST\", legend = True)\n",
    "comm22_shp.boundary.plot(ax = ax, color = \"black\")\n",
    "comm24_shp.boundary.plot(ax = ax, color = \"white\")"
   ]
  },
  {
   "cell_type": "code",
   "execution_count": 31,
   "id": "2b48fe29",
   "metadata": {},
   "outputs": [],
   "source": [
    "import pandas as pd\n",
    "from functools import reduce\n",
    "\n",
    "dfList = [comm24_shp,comm22_shp,gov_final]\n",
    "l = reduce(lambda x, y: pd.merge(x, y, on = 'DIST',how = \"outer\"), dfList)\n",
    "\n"
   ]
  },
  {
   "cell_type": "code",
   "execution_count": 32,
   "id": "d5ef763f",
   "metadata": {},
   "outputs": [],
   "source": [
    "l.rename(columns = {\"DIST\":\"DIST22\"}, inplace = True)"
   ]
  },
  {
   "cell_type": "code",
   "execution_count": 33,
   "id": "68515020",
   "metadata": {},
   "outputs": [],
   "source": [
    "gov_14 = pd.read_csv(\"/Users/peterhorton/Documents/RDH/Support/Processing-Requests/Fort_Bend_TX_04_2025/ftp_election_data_14g/2014_General_Election_Returns.csv\")"
   ]
  },
  {
   "cell_type": "code",
   "execution_count": 34,
   "id": "00497c63",
   "metadata": {},
   "outputs": [
    {
     "data": {
      "text/plain": [
       "0           1\n",
       "1           1\n",
       "2           1\n",
       "3           1\n",
       "4           1\n",
       "         ... \n",
       "558787    507\n",
       "558788    507\n",
       "558789    507\n",
       "558790    507\n",
       "558791    507\n",
       "Name: FIPS, Length: 558792, dtype: int64"
      ]
     },
     "execution_count": 34,
     "metadata": {},
     "output_type": "execute_result"
    }
   ],
   "source": [
    "gov_14[\"FIPS\"]"
   ]
  },
  {
   "cell_type": "code",
   "execution_count": 35,
   "id": "57f7e394",
   "metadata": {},
   "outputs": [
    {
     "name": "stderr",
     "output_type": "stream",
     "text": [
      "/var/folders/1t/0q4w6hm92mg_zxd84dfxmq3m0000gn/T/ipykernel_17800/2412054621.py:5: FutureWarning: The provided callable <built-in function sum> is currently using DataFrameGroupBy.sum. In a future version of pandas, the provided callable will be used directly. To keep current behavior pass the string \"sum\" instead.\n",
      "  gov_14 = pd.pivot_table(gov_14, index = \"VTD\", columns = \"Name\", values = \"Votes\", aggfunc = sum)\n"
     ]
    }
   ],
   "source": [
    "gov_14 = gov_14[(gov_14[\"FIPS\"]==157)&(gov_14[\"Office\"]=='Governor')].copy()\n",
    "gov_14[\"Name\"] += \"(\" + gov_14[\"Party\"] + \")\"\n",
    "\n",
    "\n",
    "gov_14 = pd.pivot_table(gov_14, index = \"VTD\", columns = \"Name\", values = \"Votes\", aggfunc = sum)\n",
    "\n",
    "gov_14.reset_index(inplace = True, drop = False)\n",
    "\n",
    "gov_14.rename(columns={i: i + \"_14\" for i in gov_14.columns if i != \"VTD\"}, inplace=True)"
   ]
  },
  {
   "cell_type": "code",
   "execution_count": 36,
   "id": "d9602bc7",
   "metadata": {},
   "outputs": [],
   "source": [
    "vtds_2014 = gp.read_file(\"/Users/peterhorton/Documents/RDH/Support/Processing-Requests/Fort_Bend_TX_04_2025/vtd14g/2014G_VTD.shp\")"
   ]
  },
  {
   "cell_type": "code",
   "execution_count": 37,
   "id": "e3c55549",
   "metadata": {},
   "outputs": [],
   "source": [
    "vtds_2014 = vtds_2014[vtds_2014[\"CNTY\"]==157]\n",
    "vtds_2014[\"DIST\"] = vtds_2014[\"VTD\"].astype(str).str[0]"
   ]
  },
  {
   "cell_type": "code",
   "execution_count": 38,
   "id": "aa19857c",
   "metadata": {},
   "outputs": [],
   "source": [
    "vtd14_shape = gp.GeoDataFrame(pd.merge(gov_14, vtds_2014, on = \"VTD\",how = \"inner\"))"
   ]
  },
  {
   "cell_type": "code",
   "execution_count": 39,
   "id": "1ab02c37",
   "metadata": {},
   "outputs": [
    {
     "name": "stderr",
     "output_type": "stream",
     "text": [
      "/Users/peterhorton/opt/anaconda3/envs/maup_adv/lib/python3.11/site-packages/geopandas/geodataframe.py:1793: FutureWarning: The provided callable <built-in function sum> is currently using DataFrameGroupBy.sum. In a future version of pandas, the provided callable will be used directly. To keep current behavior pass the string \"sum\" instead.\n",
      "  aggregated_data = data.groupby(**groupby_kwargs).agg(aggfunc, **kwargs)\n"
     ]
    }
   ],
   "source": [
    "old_districts = vtd14_shape.dissolve(\"DIST\", aggfunc = sum, as_index = False)"
   ]
  },
  {
   "cell_type": "code",
   "execution_count": 40,
   "id": "41106634",
   "metadata": {},
   "outputs": [],
   "source": [
    "old_districts.drop([\"VTD\",'OBJECTID', 'CNTY', 'COLOR', 'CNTYVTD',\n",
    "       'VTDKEY', 'Shape_area', 'Shape_len'], axis = 1, inplace = True)"
   ]
  },
  {
   "cell_type": "code",
   "execution_count": 41,
   "id": "40b60c60",
   "metadata": {},
   "outputs": [],
   "source": [
    "old_districts.rename(columns = {\"DIST\":\"DIST12\"}, inplace = True)"
   ]
  },
  {
   "cell_type": "code",
   "execution_count": 42,
   "id": "af1d6481",
   "metadata": {},
   "outputs": [],
   "source": [
    "old_districts.to_csv(\"./comm12_data.csv\", index = False)\n",
    "l.to_csv(\"./comm22_data.csv\", index = False)"
   ]
  },
  {
   "cell_type": "markdown",
   "id": "206e053a",
   "metadata": {},
   "source": [
    "## Round 2"
   ]
  },
  {
   "cell_type": "code",
   "execution_count": 43,
   "id": "2cc54cb3",
   "metadata": {},
   "outputs": [],
   "source": [
    "prec_2024 = gp.read_file(\"./precincts24g/Precincts24G.shp\")\n",
    "\n",
    "prec_2024 = prec_2024[prec_2024[\"CNTY\"]==157]\n"
   ]
  },
  {
   "cell_type": "code",
   "execution_count": 44,
   "id": "3ac7a177",
   "metadata": {},
   "outputs": [],
   "source": [
    "prec_2024.index = prec_2024[\"PREC\"]"
   ]
  },
  {
   "cell_type": "code",
   "execution_count": 45,
   "id": "28e176cf",
   "metadata": {},
   "outputs": [
    {
     "ename": "DriverError",
     "evalue": "Failed to open dataset (flags=68): /Users/peterhorton/Documents/RDH/Support/Processing-Requests/Fort_Bend_TX_04_2025/ft_bend_blocks.geojson",
     "output_type": "error",
     "traceback": [
      "\u001b[31m---------------------------------------------------------------------------\u001b[39m",
      "\u001b[31mCPLE_OpenFailedError\u001b[39m                      Traceback (most recent call last)",
      "\u001b[36mFile \u001b[39m\u001b[32mfiona/ogrext.pyx:130\u001b[39m, in \u001b[36mfiona.ogrext.gdal_open_vector\u001b[39m\u001b[34m()\u001b[39m\n",
      "\u001b[36mFile \u001b[39m\u001b[32mfiona/ogrext.pyx:134\u001b[39m, in \u001b[36mfiona.ogrext.gdal_open_vector\u001b[39m\u001b[34m()\u001b[39m\n",
      "\u001b[36mFile \u001b[39m\u001b[32mfiona/_err.pyx:375\u001b[39m, in \u001b[36mfiona._err.StackChecker.exc_wrap_pointer\u001b[39m\u001b[34m()\u001b[39m\n",
      "\u001b[31mCPLE_OpenFailedError\u001b[39m: /Users/peterhorton/Documents/RDH/Support/Processing-Requests/Fort_Bend_TX_04_2025/ft_bend_blocks.geojson: No such file or directory",
      "\nThe above exception was the direct cause of the following exception:\n",
      "\u001b[31mDriverError\u001b[39m                               Traceback (most recent call last)",
      "\u001b[36mCell\u001b[39m\u001b[36m \u001b[39m\u001b[32mIn[45]\u001b[39m\u001b[32m, line 1\u001b[39m\n\u001b[32m----> \u001b[39m\u001b[32m1\u001b[39m ft_bend_blocks = gp.read_file(\u001b[33m\"\u001b[39m\u001b[33m/Users/peterhorton/Documents/RDH/Support/Processing-Requests/Fort_Bend_TX_04_2025/ft_bend_blocks.geojson\u001b[39m\u001b[33m\"\u001b[39m)\n",
      "\u001b[36mFile \u001b[39m\u001b[32m~/opt/anaconda3/envs/maup_adv/lib/python3.11/site-packages/geopandas/io/file.py:289\u001b[39m, in \u001b[36m_read_file\u001b[39m\u001b[34m(filename, bbox, mask, rows, engine, **kwargs)\u001b[39m\n\u001b[32m    286\u001b[39m     \u001b[38;5;28;01melse\u001b[39;00m:\n\u001b[32m    287\u001b[39m         path_or_bytes = filename\n\u001b[32m--> \u001b[39m\u001b[32m289\u001b[39m     \u001b[38;5;28;01mreturn\u001b[39;00m _read_file_fiona(\n\u001b[32m    290\u001b[39m         path_or_bytes, from_bytes, bbox=bbox, mask=mask, rows=rows, **kwargs\n\u001b[32m    291\u001b[39m     )\n\u001b[32m    293\u001b[39m \u001b[38;5;28;01melse\u001b[39;00m:\n\u001b[32m    294\u001b[39m     \u001b[38;5;28;01mraise\u001b[39;00m \u001b[38;5;167;01mValueError\u001b[39;00m(\u001b[33mf\u001b[39m\u001b[33m\"\u001b[39m\u001b[33munknown engine \u001b[39m\u001b[33m'\u001b[39m\u001b[38;5;132;01m{\u001b[39;00mengine\u001b[38;5;132;01m}\u001b[39;00m\u001b[33m'\u001b[39m\u001b[33m\"\u001b[39m)\n",
      "\u001b[36mFile \u001b[39m\u001b[32m~/opt/anaconda3/envs/maup_adv/lib/python3.11/site-packages/geopandas/io/file.py:315\u001b[39m, in \u001b[36m_read_file_fiona\u001b[39m\u001b[34m(path_or_bytes, from_bytes, bbox, mask, rows, where, **kwargs)\u001b[39m\n\u001b[32m    312\u001b[39m     reader = fiona.open\n\u001b[32m    314\u001b[39m \u001b[38;5;28;01mwith\u001b[39;00m fiona_env():\n\u001b[32m--> \u001b[39m\u001b[32m315\u001b[39m     \u001b[38;5;28;01mwith\u001b[39;00m reader(path_or_bytes, **kwargs) \u001b[38;5;28;01mas\u001b[39;00m features:\n\u001b[32m    316\u001b[39m         crs = features.crs_wkt\n\u001b[32m    317\u001b[39m         \u001b[38;5;66;03m# attempt to get EPSG code\u001b[39;00m\n",
      "\u001b[36mFile \u001b[39m\u001b[32m~/opt/anaconda3/envs/maup_adv/lib/python3.11/site-packages/fiona/env.py:457\u001b[39m, in \u001b[36mensure_env_with_credentials.<locals>.wrapper\u001b[39m\u001b[34m(*args, **kwds)\u001b[39m\n\u001b[32m    454\u001b[39m     session = DummySession()\n\u001b[32m    456\u001b[39m \u001b[38;5;28;01mwith\u001b[39;00m env_ctor(session=session):\n\u001b[32m--> \u001b[39m\u001b[32m457\u001b[39m     \u001b[38;5;28;01mreturn\u001b[39;00m f(*args, **kwds)\n",
      "\u001b[36mFile \u001b[39m\u001b[32m~/opt/anaconda3/envs/maup_adv/lib/python3.11/site-packages/fiona/__init__.py:342\u001b[39m, in \u001b[36mopen\u001b[39m\u001b[34m(fp, mode, driver, schema, crs, encoding, layer, vfs, enabled_drivers, crs_wkt, ignore_fields, ignore_geometry, include_fields, wkt_version, allow_unsupported_drivers, opener, **kwargs)\u001b[39m\n\u001b[32m    339\u001b[39m         path = _parse_path(fp)\n\u001b[32m    341\u001b[39m \u001b[38;5;28;01mif\u001b[39;00m mode \u001b[38;5;129;01min\u001b[39;00m (\u001b[33m\"\u001b[39m\u001b[33ma\u001b[39m\u001b[33m\"\u001b[39m, \u001b[33m\"\u001b[39m\u001b[33mr\u001b[39m\u001b[33m\"\u001b[39m):\n\u001b[32m--> \u001b[39m\u001b[32m342\u001b[39m     colxn = Collection(\n\u001b[32m    343\u001b[39m         path,\n\u001b[32m    344\u001b[39m         mode,\n\u001b[32m    345\u001b[39m         driver=driver,\n\u001b[32m    346\u001b[39m         encoding=encoding,\n\u001b[32m    347\u001b[39m         layer=layer,\n\u001b[32m    348\u001b[39m         ignore_fields=ignore_fields,\n\u001b[32m    349\u001b[39m         include_fields=include_fields,\n\u001b[32m    350\u001b[39m         ignore_geometry=ignore_geometry,\n\u001b[32m    351\u001b[39m         wkt_version=wkt_version,\n\u001b[32m    352\u001b[39m         enabled_drivers=enabled_drivers,\n\u001b[32m    353\u001b[39m         allow_unsupported_drivers=allow_unsupported_drivers,\n\u001b[32m    354\u001b[39m         **kwargs\n\u001b[32m    355\u001b[39m     )\n\u001b[32m    356\u001b[39m \u001b[38;5;28;01melif\u001b[39;00m mode == \u001b[33m\"\u001b[39m\u001b[33mw\u001b[39m\u001b[33m\"\u001b[39m:\n\u001b[32m    357\u001b[39m     colxn = Collection(\n\u001b[32m    358\u001b[39m         path,\n\u001b[32m    359\u001b[39m         mode,\n\u001b[32m   (...)\u001b[39m\u001b[32m    372\u001b[39m         **kwargs\n\u001b[32m    373\u001b[39m     )\n",
      "\u001b[36mFile \u001b[39m\u001b[32m~/opt/anaconda3/envs/maup_adv/lib/python3.11/site-packages/fiona/collection.py:226\u001b[39m, in \u001b[36mCollection.__init__\u001b[39m\u001b[34m(self, path, mode, driver, schema, crs, encoding, layer, vsi, archive, enabled_drivers, crs_wkt, ignore_fields, ignore_geometry, include_fields, wkt_version, allow_unsupported_drivers, **kwargs)\u001b[39m\n\u001b[32m    224\u001b[39m \u001b[38;5;28;01mif\u001b[39;00m \u001b[38;5;28mself\u001b[39m.mode == \u001b[33m\"\u001b[39m\u001b[33mr\u001b[39m\u001b[33m\"\u001b[39m:\n\u001b[32m    225\u001b[39m     \u001b[38;5;28mself\u001b[39m.session = Session()\n\u001b[32m--> \u001b[39m\u001b[32m226\u001b[39m     \u001b[38;5;28mself\u001b[39m.session.start(\u001b[38;5;28mself\u001b[39m, **kwargs)\n\u001b[32m    227\u001b[39m \u001b[38;5;28;01melif\u001b[39;00m \u001b[38;5;28mself\u001b[39m.mode \u001b[38;5;129;01min\u001b[39;00m (\u001b[33m\"\u001b[39m\u001b[33ma\u001b[39m\u001b[33m\"\u001b[39m, \u001b[33m\"\u001b[39m\u001b[33mw\u001b[39m\u001b[33m\"\u001b[39m):\n\u001b[32m    228\u001b[39m     \u001b[38;5;28mself\u001b[39m.session = WritingSession()\n",
      "\u001b[36mFile \u001b[39m\u001b[32mfiona/ogrext.pyx:876\u001b[39m, in \u001b[36mfiona.ogrext.Session.start\u001b[39m\u001b[34m()\u001b[39m\n",
      "\u001b[36mFile \u001b[39m\u001b[32mfiona/ogrext.pyx:136\u001b[39m, in \u001b[36mfiona.ogrext.gdal_open_vector\u001b[39m\u001b[34m()\u001b[39m\n",
      "\u001b[31mDriverError\u001b[39m: Failed to open dataset (flags=68): /Users/peterhorton/Documents/RDH/Support/Processing-Requests/Fort_Bend_TX_04_2025/ft_bend_blocks.geojson"
     ]
    }
   ],
   "source": [
    "ft_bend_blocks = gp.read_file(\"/Users/peterhorton/Documents/RDH/Support/Processing-Requests/Fort_Bend_TX_04_2025/ft_bend_blocks.geojson\")"
   ]
  },
  {
   "cell_type": "code",
   "execution_count": null,
   "id": "fce3071e",
   "metadata": {},
   "outputs": [],
   "source": [
    "tx_blocks = gp.read_file(\"/Users/peterhorton/Downloads/tx_b_2020_bound.zip\")\n",
    "tx_blocks[tx_blocks[\"COUNTYFP20\"]==\"157\"].to_file(\"./fort_bend_blocks.shp\")"
   ]
  },
  {
   "cell_type": "code",
   "execution_count": null,
   "id": "f133904c",
   "metadata": {},
   "outputs": [],
   "source": [
    "fort_bend_blocks = gp.read_file(\"./fort_bend_blocks.shp\")"
   ]
  },
  {
   "cell_type": "code",
   "execution_count": null,
   "id": "ad0a40f1",
   "metadata": {},
   "outputs": [],
   "source": [
    "fort_bend_blocks = fort_bend_blocks.to_crs(prec_2024.crs)"
   ]
  },
  {
   "cell_type": "code",
   "execution_count": null,
   "id": "f409492d",
   "metadata": {},
   "outputs": [],
   "source": []
  },
  {
   "cell_type": "code",
   "execution_count": null,
   "id": "07a41e36",
   "metadata": {},
   "outputs": [],
   "source": [
    "import maup"
   ]
  },
  {
   "cell_type": "code",
   "execution_count": null,
   "id": "c42efc47",
   "metadata": {},
   "outputs": [],
   "source": [
    "fort_bend_blocks[\"PREC\"] = maup.assign(fort_bend_blocks, prec_2024)"
   ]
  },
  {
   "cell_type": "code",
   "execution_count": null,
   "id": "0cff0ac5",
   "metadata": {},
   "outputs": [],
   "source": [
    "block_csv = pd.read_csv(\"/Users/peterhorton/Downloads/tx_pl2020_b/tx_pl2020_b.csv\")"
   ]
  },
  {
   "cell_type": "code",
   "execution_count": null,
   "id": "4ec394b7",
   "metadata": {},
   "outputs": [],
   "source": [
    "block_csv = block_csv[block_csv[\"GEOID20\"]==\"157\"]"
   ]
  },
  {
   "cell_type": "code",
   "execution_count": null,
   "id": "a6394ca4",
   "metadata": {},
   "outputs": [],
   "source": [
    "fort_bend_block_data = block_csv[block_csv[\"GEOCODE\"].astype(str).str[:5]==\"48157\"]"
   ]
  },
  {
   "cell_type": "code",
   "execution_count": null,
   "id": "c129f845",
   "metadata": {},
   "outputs": [],
   "source": [
    "fort_bend_block_data.to_csv(\"./fort_bend_block_data.csv\", index = False)"
   ]
  },
  {
   "cell_type": "code",
   "execution_count": null,
   "id": "e0954c78",
   "metadata": {},
   "outputs": [],
   "source": [
    "fort_bend_blocks"
   ]
  },
  {
   "cell_type": "code",
   "execution_count": null,
   "id": "259d989e",
   "metadata": {},
   "outputs": [],
   "source": [
    "fort_bend_block_data[\"GEOCODE\"] = fort_bend_block_data[\"GEOCODE\"].astype(str)"
   ]
  },
  {
   "cell_type": "code",
   "execution_count": null,
   "id": "6dff1ca1",
   "metadata": {},
   "outputs": [],
   "source": [
    "fort_bend_comb = gp.GeoDataFrame(pd.merge(fort_bend_blocks,fort_bend_block_data, left_on=\"GEOID20\", right_on = \"GEOCODE\"))"
   ]
  },
  {
   "cell_type": "code",
   "execution_count": null,
   "id": "86bd29ad",
   "metadata": {},
   "outputs": [],
   "source": [
    "voter_precs = fort_bend_comb.dissolve(\"PREC\",aggfunc=sum)"
   ]
  },
  {
   "cell_type": "code",
   "execution_count": null,
   "id": "fd530de6",
   "metadata": {},
   "outputs": [],
   "source": [
    "voter_precs[voter_precs[\"P0010001\"]>5000]"
   ]
  },
  {
   "cell_type": "code",
   "execution_count": null,
   "id": "69785127",
   "metadata": {},
   "outputs": [],
   "source": [
    "vtd_24 = gp.read_file(\"/Users/peterhorton/Downloads/vtds_24pg/VTDs_24PG.shp\")"
   ]
  },
  {
   "cell_type": "code",
   "execution_count": null,
   "id": "adad924b",
   "metadata": {},
   "outputs": [],
   "source": []
  },
  {
   "cell_type": "code",
   "execution_count": null,
   "id": "8b7bfdca",
   "metadata": {},
   "outputs": [],
   "source": [
    "pop_data = pd.read_csv(\"/Users/peterhorton/Downloads/VTDs_24PG_Pop.txt\")"
   ]
  },
  {
   "cell_type": "code",
   "execution_count": null,
   "id": "029f9252",
   "metadata": {},
   "outputs": [],
   "source": [
    "pop_data = pop_data[pop_data[\"CNTY\"]==157]"
   ]
  },
  {
   "cell_type": "code",
   "execution_count": null,
   "id": "a2378f18",
   "metadata": {},
   "outputs": [],
   "source": [
    "pop_data[pop_data[\"total\"]==0]"
   ]
  },
  {
   "cell_type": "markdown",
   "id": "378cb4b8",
   "metadata": {},
   "source": [
    "# Demographic Data"
   ]
  },
  {
   "cell_type": "code",
   "execution_count": null,
   "id": "4b9d01e8",
   "metadata": {},
   "outputs": [],
   "source": [
    "# Joined 2010 blocks to 2010 demographic data\n",
    "\n",
    "# Joined 2020 blocks to 2020 demographic data"
   ]
  },
  {
   "cell_type": "code",
   "execution_count": null,
   "id": "41b3f4e2",
   "metadata": {},
   "outputs": [],
   "source": [
    "# blocks_2010_shp = gp.read_file(\"/Users/peterhorton/Downloads/tx_2010_b_bound.zip\")\n",
    "# blocks_2020_shp = gp.read_file(\"/Users/peterhorton/Downloads/tx_b_2020_bound.zip\")\n",
    "# blocks_2010_data = pd.read_csv(\"/Users/peterhorton/Downloads/tx_pl2010_b/tx_pl2010_b.csv\")\n",
    "# blocks_2020_data = pd.read_csv(\"/Users/peterhorton/Downloads/tx_pl2020_b/tx_pl2020_b.csv\")\n",
    "\n",
    "# blocks_2020_data = blocks_2020_data[blocks_2020_data[\"GEOCODE\"].astype(str).str[:5]==\"48157\"]\n",
    "# blocks_2010_data = blocks_2010_data[blocks_2010_data[\"COUNTY\"]==157].copy()\n",
    "# blocks_2010_shp = blocks_2010_shp[blocks_2010_shp[\"COUNTY\"]==\"Fort Bend County\"].copy()\n",
    "# blocks_2020_shp = blocks_2020_shp[blocks_2020_shp[\"COUNTYFP20\"]==\"157\"].copy()\n",
    "\n",
    "# blocks_2010_data[\"GEOID\"] = blocks_2010_data[\"STATE\"].astype(str).str.zfill(2)+blocks_2010_data[\"COUNTY\"].astype(str).str.zfill(3)+blocks_2010_data[\"TRACT\"].astype(str).str.zfill(6)+blocks_2010_data[\"BLOCK\"].astype(str).str.zfill(4)\n",
    "# blocks_2020_data[\"GEOCODE\"] = blocks_2020_data[\"GEOCODE\"].astype(str)\n",
    "# tx_2010_block = gp.GeoDataFrame(pd.merge(blocks_2010_data, blocks_2010_shp, on = \"GEOID\",how=\"inner\",validate=\"1:1\"))\n",
    "# tx_2020_block = gp.GeoDataFrame(pd.merge(blocks_2020_data, blocks_2020_shp, left_on = \"GEOCODE\", right_on = \"GEOID20\",how=\"inner\",validate=\"1:1\"))\n",
    "\n",
    "# tx_2010_block.to_file(\"./fort_bend_2010_block.shp\")\n",
    "# tx_2020_block.to_file(\"./fort_bend_2020_block.shp\")"
   ]
  },
  {
   "cell_type": "code",
   "execution_count": 46,
   "id": "717b3a01",
   "metadata": {},
   "outputs": [],
   "source": [
    "tx_2010_block = gp.read_file(\"./fort_bend_2010_block.shp\")\n",
    "tx_2020_block = gp.read_file(\"./fort_bend_2020_block.shp\")"
   ]
  },
  {
   "cell_type": "code",
   "execution_count": 47,
   "id": "267dcb2f",
   "metadata": {},
   "outputs": [],
   "source": [
    "# 2024 voter precincts\n",
    "\n",
    "# 2012 voter precincts\n",
    "\n",
    "# New commissioner districts\n",
    "\n",
    "# Old commissioner districts"
   ]
  },
  {
   "cell_type": "code",
   "execution_count": 48,
   "id": "e33f7396",
   "metadata": {},
   "outputs": [],
   "source": [
    "prec_2024 = gp.read_file(\"./precincts24g/Precincts24G.shp\")\n",
    "prec_2024 = prec_2024[prec_2024[\"CNTY\"]==157]\n",
    "\n",
    "prec_2012 = gp.read_file(\"./2012general/2012G.shp\")\n",
    "prec_2012 = prec_2012[prec_2012[\"CNTY\"]==157]"
   ]
  },
  {
   "cell_type": "code",
   "execution_count": null,
   "id": "1078e245",
   "metadata": {},
   "outputs": [],
   "source": [
    "# prec_2012[\"DIST\"] = prec_2012[\"PREC\"].str[0]\n",
    "\n",
    "# prec_2024[\"DIST\"] = prec_2024[\"PREC\"].str[0]\n",
    "\n",
    "# comm_2024 = prec_2024.dissolve(\"DIST\",as_index = False)\n",
    "\n",
    "# comm_2012 = prec_2012.dissolve(\"DIST\",as_index = False)\n",
    "\n",
    "# comm_2024.drop([i for i in list(comm_2024.columns) if i not in [\"DIST\",\"geometry\"]], axis = 1, inplace = True)\n",
    "# comm_2012.drop([i for i in list(comm_2012.columns) if i not in [\"DIST\",\"geometry\"]], axis = 1, inplace = True)\n",
    "\n",
    "# comm_2024.to_file(\"./comm_new.shp\")\n",
    "# comm_2012.to_file(\"./comm_old.shp\")"
   ]
  },
  {
   "cell_type": "code",
   "execution_count": 49,
   "id": "167af221",
   "metadata": {},
   "outputs": [],
   "source": [
    "comm_2024 = gp.read_file(\"./comm_new.shp\")\n",
    "comm_2012 = gp.read_file(\"./comm_old.shp\")"
   ]
  },
  {
   "cell_type": "code",
   "execution_count": null,
   "id": "93b34075",
   "metadata": {},
   "outputs": [],
   "source": [
    "prec_2024 = prec_2024.to_crs(tx_2010_block.crs)\n",
    "prec_2012 = prec_2012.to_crs(tx_2010_block.crs)\n",
    "\n",
    "comm_2024 = comm_2024.to_crs(tx_2010_block.crs)\n",
    "comm_2012 = comm_2012.to_crs(tx_2010_block.crs)\n",
    "\n",
    "tx_2020_block = tx_2020_block.to_crs(tx_2010_block.crs)\n"
   ]
  },
  {
   "cell_type": "code",
   "execution_count": null,
   "id": "05635e75",
   "metadata": {},
   "outputs": [],
   "source": [
    "prec_2012.index = prec_2012[\"PREC\"]\n",
    "prec_2024.index = prec_2024[\"PREC\"]\n",
    "comm_2012.index = comm_2012[\"DIST\"]\n",
    "comm_2024.index = comm_2024[\"DIST\"]"
   ]
  },
  {
   "cell_type": "code",
   "execution_count": null,
   "id": "68c4fd2f",
   "metadata": {},
   "outputs": [],
   "source": [
    "tx_2010_block[\"PREC_12\"] = maup.assign(tx_2010_block,prec_2012)\n",
    "tx_2010_block[\"COMM_12\"] = maup.assign(tx_2010_block,comm_2012)\n",
    "\n",
    "tx_2020_block[\"PREC_24\"] = maup.assign(tx_2020_block,prec_2024)\n",
    "tx_2020_block[\"COMM_24\"] = maup.assign(tx_2020_block,comm_2024)"
   ]
  },
  {
   "cell_type": "code",
   "execution_count": null,
   "id": "8d2ca884",
   "metadata": {},
   "outputs": [],
   "source": [
    "prec_12_data = tx_2010_block.dissolve(\"PREC_12\",aggfunc = sum, as_index = False)\n",
    "comm_12_data = tx_2010_block.dissolve(\"COMM_12\",aggfunc = sum, as_index = False)\n",
    "\n",
    "prec_24_data = tx_2020_block.dissolve(\"PREC_24\",aggfunc = sum, as_index = False)\n",
    "comm_24_data = tx_2020_block.dissolve(\"COMM_24\",aggfunc = sum, as_index = False)"
   ]
  },
  {
   "cell_type": "code",
   "execution_count": 186,
   "id": "4b0b2a85",
   "metadata": {},
   "outputs": [],
   "source": [
    "def add_demo_columns(df, abbrev):\n",
    "    df[\"TOT_VAP_{}\".format(abbrev)] = df[\"P0040001\"]\n",
    "    df[\"NH_WHT_VAP_{}\".format(abbrev)] = df[\"P0040005\"]\n",
    "    df[\"NH_ASN_VAP_{}\".format(abbrev)] = df[\"P0040008\"]\n",
    "    df[\"NH_BLK_VAP_{}\".format(abbrev)] = df[\"P0040006\"]\n",
    "    df[\"NH_OTH_VAP_{}\".format(abbrev)] = df[\"P0040003\"] - df[\"P0040005\"] - df[\"P0040008\"] - df[\"P0040006\"]\n",
    "    df[\"HISP_VAP_{}\".format(abbrev)] = df[\"P0040002\"]\n",
    "    df[\"NH_WHT_VAP_{}_pct\".format(abbrev)] = df[\"P0040005\"] / df[\"P0040001\"]\n",
    "    df[\"NH_ASN_VAP_{}_pct\".format(abbrev)] = df[\"P0040008\"] / df[\"P0040001\"]\n",
    "    df[\"NH_BLK_VAP_{}_pct\".format(abbrev)] = df[\"P0040006\"] / df[\"P0040001\"]\n",
    "    df[\"NH_OTH_VAP_{}_pct\".format(abbrev)] = (df[\"P0040003\"] - df[\"P0040005\"] - df[\"P0040008\"] - df[\"P0040006\"]) / df[\"P0040001\"]\n",
    "    df[\"HISP_VAP_{}_pct\".format(abbrev)] = df[\"P0040002\"] / df[\"P0040001\"]\n",
    "    \n",
    "    \n",
    "    \n",
    "def clean_df(df, dist_col):\n",
    "    print([i for i in list(df.columns) if \"_VAP_\" not in i and i!=dist_col])\n",
    "    df.drop([i for i in list(df.columns) if \"_VAP_\" not in i and i!=dist_col], axis = 1, inplace = True)\n",
    "    \n"
   ]
  },
  {
   "cell_type": "code",
   "execution_count": null,
   "id": "04022c0d",
   "metadata": {},
   "outputs": [],
   "source": []
  },
  {
   "cell_type": "code",
   "execution_count": 187,
   "id": "8b6fb4e5",
   "metadata": {},
   "outputs": [
    {
     "name": "stdout",
     "output_type": "stream",
     "text": [
      "['geometry', 'FILEID', 'STUSAB', 'SUMLEV', 'GEOCOMP', 'CHARITER', 'LOGRECNO', 'REGION', 'DIVISION', 'STATE_x', 'COUNTY_x', 'COUNTYCC', 'COUSUB', 'COUSUBCC', 'PLACE', 'PLACECC', 'TRACT', 'BLKGRP', 'BLOCK', 'CONCIT', 'CONCITCC', 'AIANHH', 'AIANHHFP', 'AIANHHCC', 'AIHHTLI', 'AITSCE', 'AITS', 'AITSCC', 'TTRACT', 'TBLKGRP', 'ANRC', 'ANRCCC', 'CBSA', 'METDIV', 'C', 'NECTA', 'NECTADIV', 'CNECTA', 'CBSAPCI', 'NECTAPCI', 'CD', 'SLDU', 'SLDL', 'V', 'VTDI', 'SDELM', 'SDSEC', 'SDUNI', 'AREALAND', 'AREAWATR', 'NAME_x', 'FUNCSTAT', 'POP100', 'HU100', 'INTPTLAT', 'INTPTLON', 'LSADC', 'U', 'STATENS', 'COUNTYNS', 'COUSUBNS', 'PLACENS', 'CONCITNS', 'AIANHHNS', 'AITSNS', 'ANRCNS', 'MEMI', 'NMEMI', 'P0010001', 'P0010002', 'P0010003', 'P0010004', 'P0010005', 'P0010006', 'P0010007', 'P0010008', 'P0010009', 'P0010010', 'P0010011', 'P0010012', 'P0010013', 'P0010014', 'P0010015', 'P0010016', 'P0010017', 'P0010018', 'P0010019', 'P0010020', 'P0010021', 'P0010022', 'P0010023', 'P0010024', 'P0010025', 'P0010026', 'P0010027', 'P0010028', 'P0010029', 'P0010030', 'P0010031', 'P0010032', 'P0010033', 'P0010034', 'P0010035', 'P0010036', 'P0010037', 'P0010038', 'P0010039', 'P0010040', 'P0010041', 'P0010042', 'P0010043', 'P0010044', 'P0010045', 'P0010046', 'P0010047', 'P0010048', 'P0010049', 'P0010050', 'P0010051', 'P0010052', 'P0010053', 'P0010054', 'P0010055', 'P0010056', 'P0010057', 'P0010058', 'P0010059', 'P0010060', 'P0010061', 'P0010062', 'P0010063', 'P0010064', 'P0010065', 'P0010066', 'P0010067', 'P0010068', 'P0010069', 'P0010070', 'P0010071', 'P0020001', 'P0020002', 'P0020003', 'P0020004', 'P0020005', 'P0020006', 'P0020007', 'P0020008', 'P0020009', 'P0020010', 'P0020011', 'P0020012', 'P0020013', 'P0020014', 'P0020015', 'P0020016', 'P0020017', 'P0020018', 'P0020019', 'P0020020', 'P0020021', 'P0020022', 'P0020023', 'P0020024', 'P0020025', 'P0020026', 'P0020027', 'P0020028', 'P0020029', 'P0020030', 'P0020031', 'P0020032', 'P0020033', 'P0020034', 'P0020035', 'P0020036', 'P0020037', 'P0020038', 'P0020039', 'P0020040', 'P0020041', 'P0020042', 'P0020043', 'P0020044', 'P0020045', 'P0020046', 'P0020047', 'P0020048', 'P0020049', 'P0020050', 'P0020051', 'P0020052', 'P0020053', 'P0020054', 'P0020055', 'P0020056', 'P0020057', 'P0020058', 'P0020059', 'P0020060', 'P0020061', 'P0020062', 'P0020063', 'P0020064', 'P0020065', 'P0020066', 'P0020067', 'P0020068', 'P0020069', 'P0020070', 'P0020071', 'P0020072', 'P0020073', 'P0030001', 'P0030002', 'P0030003', 'P0030004', 'P0030005', 'P0030006', 'P0030007', 'P0030008', 'P0030009', 'P0030010', 'P0030011', 'P0030012', 'P0030013', 'P0030014', 'P0030015', 'P0030016', 'P0030017', 'P0030018', 'P0030019', 'P0030020', 'P0030021', 'P0030022', 'P0030023', 'P0030024', 'P0030025', 'P0030026', 'P0030027', 'P0030028', 'P0030029', 'P0030030', 'P0030031', 'P0030032', 'P0030033', 'P0030034', 'P0030035', 'P0030036', 'P0030037', 'P0030038', 'P0030039', 'P0030040', 'P0030041', 'P0030042', 'P0030043', 'P0030044', 'P0030045', 'P0030046', 'P0030047', 'P0030048', 'P0030049', 'P0030050', 'P0030051', 'P0030052', 'P0030053', 'P0030054', 'P0030055', 'P0030056', 'P0030057', 'P0030058', 'P0030059', 'P0030060', 'P0030061', 'P0030062', 'P0030063', 'P0030064', 'P0030065', 'P0030066', 'P0030067', 'P0030068', 'P0030069', 'P0030070', 'P0030071', 'P0040001', 'P0040002', 'P0040003', 'P0040004', 'P0040005', 'P0040006', 'P0040007', 'P0040008', 'P0040009', 'P0040010', 'P0040011', 'P0040012', 'P0040013', 'P0040014', 'P0040015', 'P0040016', 'P0040017', 'P0040018', 'P0040019', 'P0040020', 'P0040021', 'P0040022', 'P0040023', 'P0040024', 'P0040025', 'P0040026', 'P0040027', 'P0040028', 'P0040029', 'P0040030', 'P0040031', 'P0040032', 'P0040033', 'P0040034', 'P0040035', 'P0040036', 'P0040037', 'P0040038', 'P0040039', 'P0040040', 'P0040041', 'P0040042', 'P0040043', 'P0040044', 'P0040045', 'P0040046', 'P0040047', 'P0040048', 'P0040049', 'P0040050', 'P0040051', 'P0040052', 'P0040053', 'P0040054', 'P0040055', 'P0040056', 'P0040057', 'P0040058', 'P0040059', 'P0040060', 'P0040061', 'P0040062', 'P0040063', 'P0040064', 'P0040065', 'P0040066', 'P0040067', 'P0040068', 'P0040069', 'P0040070', 'P0040071', 'P0040072', 'P0040073', 'H0010001', 'H0010002', 'H0010003', 'GEOID', 'NAME_y', 'STATE_y', 'COUNTY_y', 'TOTPOP10', 'STATEFP', 'COUNTYFP', 'TRACTCE', 'BLOCKCE', 'ALAND', 'AWATER', 'COMM_12']\n",
      "['geometry', 'FILEID', 'STUSAB', 'SUMLEV', 'GEOVAR', 'GEOCOMP', 'CHARITER', 'LOGRECNO', 'GEOID', 'GEOCODE', 'REGION', 'DIVISION', 'STATE', 'STATENS', 'COUNTY', 'COUNTYCC', 'COUNTYNS', 'COUSUB', 'COUSUBCC', 'COUSUBNS', 'CONCIT', 'CONCITCC', 'CONCITNS', 'PLACE', 'PLACECC', 'PLACENS', 'TRACT', 'BLKGRP', 'BLOCK', 'AIANHH', 'AIHHTLI', 'AIANHHFP', 'AIANHHCC', 'AIANHHNS', 'AITS', 'AITSFP', 'AITSCC', 'AITSNS', 'TTRACT', 'TBLKGRP', 'ANRC', 'ANRCCC', 'ANRCNS', 'CBSA', 'MEMI', 'CSA', 'METDIV', 'NECTA', 'NMEMI', 'CNECTA', 'NECTADIV', 'CBSAPCI', 'NECTAPCI', 'CD116', 'SLDU18', 'SLDL18', 'VTD', 'VTDI', 'SDELM', 'SDSEC', 'SDUNI', 'AREALAND', 'AREAWATR', 'BASENAME', 'NAME', 'FUNCSTAT', 'POP100', 'HU100', 'INTPTLAT', 'INTPTLON', 'LSADC', 'UGA', 'GEOID20_x', 'P0010001', 'P0010002', 'P0010003', 'P0010004', 'P0010005', 'P0010006', 'P0010007', 'P0010008', 'P0010009', 'P0010010', 'P0010011', 'P0010012', 'P0010013', 'P0010014', 'P0010015', 'P0010016', 'P0010017', 'P0010018', 'P0010019', 'P0010020', 'P0010021', 'P0010022', 'P0010023', 'P0010024', 'P0010025', 'P0010026', 'P0010027', 'P0010028', 'P0010029', 'P0010030', 'P0010031', 'P0010032', 'P0010033', 'P0010034', 'P0010035', 'P0010036', 'P0010037', 'P0010038', 'P0010039', 'P0010040', 'P0010041', 'P0010042', 'P0010043', 'P0010044', 'P0010045', 'P0010046', 'P0010047', 'P0010048', 'P0010049', 'P0010050', 'P0010051', 'P0010052', 'P0010053', 'P0010054', 'P0010055', 'P0010056', 'P0010057', 'P0010058', 'P0010059', 'P0010060', 'P0010061', 'P0010062', 'P0010063', 'P0010064', 'P0010065', 'P0010066', 'P0010067', 'P0010068', 'P0010069', 'P0010070', 'P0010071', 'P0020001', 'P0020002', 'P0020003', 'P0020004', 'P0020005', 'P0020006', 'P0020007', 'P0020008', 'P0020009', 'P0020010', 'P0020011', 'P0020012', 'P0020013', 'P0020014', 'P0020015', 'P0020016', 'P0020017', 'P0020018', 'P0020019', 'P0020020', 'P0020021', 'P0020022', 'P0020023', 'P0020024', 'P0020025', 'P0020026', 'P0020027', 'P0020028', 'P0020029', 'P0020030', 'P0020031', 'P0020032', 'P0020033', 'P0020034', 'P0020035', 'P0020036', 'P0020037', 'P0020038', 'P0020039', 'P0020040', 'P0020041', 'P0020042', 'P0020043', 'P0020044', 'P0020045', 'P0020046', 'P0020047', 'P0020048', 'P0020049', 'P0020050', 'P0020051', 'P0020052', 'P0020053', 'P0020054', 'P0020055', 'P0020056', 'P0020057', 'P0020058', 'P0020059', 'P0020060', 'P0020061', 'P0020062', 'P0020063', 'P0020064', 'P0020065', 'P0020066', 'P0020067', 'P0020068', 'P0020069', 'P0020070', 'P0020071', 'P0020072', 'P0020073', 'P0030001', 'P0030002', 'P0030003', 'P0030004', 'P0030005', 'P0030006', 'P0030007', 'P0030008', 'P0030009', 'P0030010', 'P0030011', 'P0030012', 'P0030013', 'P0030014', 'P0030015', 'P0030016', 'P0030017', 'P0030018', 'P0030019', 'P0030020', 'P0030021', 'P0030022', 'P0030023', 'P0030024', 'P0030025', 'P0030026', 'P0030027', 'P0030028', 'P0030029', 'P0030030', 'P0030031', 'P0030032', 'P0030033', 'P0030034', 'P0030035', 'P0030036', 'P0030037', 'P0030038', 'P0030039', 'P0030040', 'P0030041', 'P0030042', 'P0030043', 'P0030044', 'P0030045', 'P0030046', 'P0030047', 'P0030048', 'P0030049', 'P0030050', 'P0030051', 'P0030052', 'P0030053', 'P0030054', 'P0030055', 'P0030056', 'P0030057', 'P0030058', 'P0030059', 'P0030060', 'P0030061', 'P0030062', 'P0030063', 'P0030064', 'P0030065', 'P0030066', 'P0030067', 'P0030068', 'P0030069', 'P0030070', 'P0030071', 'P0040001', 'P0040002', 'P0040003', 'P0040004', 'P0040005', 'P0040006', 'P0040007', 'P0040008', 'P0040009', 'P0040010', 'P0040011', 'P0040012', 'P0040013', 'P0040014', 'P0040015', 'P0040016', 'P0040017', 'P0040018', 'P0040019', 'P0040020', 'P0040021', 'P0040022', 'P0040023', 'P0040024', 'P0040025', 'P0040026', 'P0040027', 'P0040028', 'P0040029', 'P0040030', 'P0040031', 'P0040032', 'P0040033', 'P0040034', 'P0040035', 'P0040036', 'P0040037', 'P0040038', 'P0040039', 'P0040040', 'P0040041', 'P0040042', 'P0040043', 'P0040044', 'P0040045', 'P0040046', 'P0040047', 'P0040048', 'P0040049', 'P0040050', 'P0040051', 'P0040052', 'P0040053', 'P0040054', 'P0040055', 'P0040056', 'P0040057', 'P0040058', 'P0040059', 'P0040060', 'P0040061', 'P0040062', 'P0040063', 'P0040064', 'P0040065', 'P0040066', 'P0040067', 'P0040068', 'P0040069', 'P0040070', 'P0040071', 'P0040072', 'P0040073', 'H0010001', 'H0010002', 'H0010003', 'P0050001', 'P0050002', 'P0050003', 'P0050004', 'P0050005', 'P0050006', 'P0050007', 'P0050008', 'P0050009', 'P0050010', 'STATEFP20', 'COUNTYFP20', 'TRACTCE20', 'BLOCKCE20', 'GEOID20_y', 'NAME20', 'MTFCC20', 'UR20', 'UACE20', 'UATYPE20', 'FUNCSTAT20', 'ALAND20', 'AWATER20', 'INTPTLAT20', 'INTPTLON20', 'COMM_24']\n",
      "['geometry', 'FILEID', 'STUSAB', 'SUMLEV', 'GEOCOMP', 'CHARITER', 'LOGRECNO', 'REGION', 'DIVISION', 'STATE_x', 'COUNTY_x', 'COUNTYCC', 'COUSUB', 'COUSUBCC', 'PLACE', 'PLACECC', 'TRACT', 'BLKGRP', 'BLOCK', 'CONCIT', 'CONCITCC', 'AIANHH', 'AIANHHFP', 'AIANHHCC', 'AIHHTLI', 'AITSCE', 'AITS', 'AITSCC', 'TTRACT', 'TBLKGRP', 'ANRC', 'ANRCCC', 'CBSA', 'METDIV', 'C', 'NECTA', 'NECTADIV', 'CNECTA', 'CBSAPCI', 'NECTAPCI', 'CD', 'SLDU', 'SLDL', 'V', 'VTDI', 'SDELM', 'SDSEC', 'SDUNI', 'AREALAND', 'AREAWATR', 'NAME_x', 'FUNCSTAT', 'POP100', 'HU100', 'INTPTLAT', 'INTPTLON', 'LSADC', 'U', 'STATENS', 'COUNTYNS', 'COUSUBNS', 'PLACENS', 'CONCITNS', 'AIANHHNS', 'AITSNS', 'ANRCNS', 'MEMI', 'NMEMI', 'P0010001', 'P0010002', 'P0010003', 'P0010004', 'P0010005', 'P0010006', 'P0010007', 'P0010008', 'P0010009', 'P0010010', 'P0010011', 'P0010012', 'P0010013', 'P0010014', 'P0010015', 'P0010016', 'P0010017', 'P0010018', 'P0010019', 'P0010020', 'P0010021', 'P0010022', 'P0010023', 'P0010024', 'P0010025', 'P0010026', 'P0010027', 'P0010028', 'P0010029', 'P0010030', 'P0010031', 'P0010032', 'P0010033', 'P0010034', 'P0010035', 'P0010036', 'P0010037', 'P0010038', 'P0010039', 'P0010040', 'P0010041', 'P0010042', 'P0010043', 'P0010044', 'P0010045', 'P0010046', 'P0010047', 'P0010048', 'P0010049', 'P0010050', 'P0010051', 'P0010052', 'P0010053', 'P0010054', 'P0010055', 'P0010056', 'P0010057', 'P0010058', 'P0010059', 'P0010060', 'P0010061', 'P0010062', 'P0010063', 'P0010064', 'P0010065', 'P0010066', 'P0010067', 'P0010068', 'P0010069', 'P0010070', 'P0010071', 'P0020001', 'P0020002', 'P0020003', 'P0020004', 'P0020005', 'P0020006', 'P0020007', 'P0020008', 'P0020009', 'P0020010', 'P0020011', 'P0020012', 'P0020013', 'P0020014', 'P0020015', 'P0020016', 'P0020017', 'P0020018', 'P0020019', 'P0020020', 'P0020021', 'P0020022', 'P0020023', 'P0020024', 'P0020025', 'P0020026', 'P0020027', 'P0020028', 'P0020029', 'P0020030', 'P0020031', 'P0020032', 'P0020033', 'P0020034', 'P0020035', 'P0020036', 'P0020037', 'P0020038', 'P0020039', 'P0020040', 'P0020041', 'P0020042', 'P0020043', 'P0020044', 'P0020045', 'P0020046', 'P0020047', 'P0020048', 'P0020049', 'P0020050', 'P0020051', 'P0020052', 'P0020053', 'P0020054', 'P0020055', 'P0020056', 'P0020057', 'P0020058', 'P0020059', 'P0020060', 'P0020061', 'P0020062', 'P0020063', 'P0020064', 'P0020065', 'P0020066', 'P0020067', 'P0020068', 'P0020069', 'P0020070', 'P0020071', 'P0020072', 'P0020073', 'P0030001', 'P0030002', 'P0030003', 'P0030004', 'P0030005', 'P0030006', 'P0030007', 'P0030008', 'P0030009', 'P0030010', 'P0030011', 'P0030012', 'P0030013', 'P0030014', 'P0030015', 'P0030016', 'P0030017', 'P0030018', 'P0030019', 'P0030020', 'P0030021', 'P0030022', 'P0030023', 'P0030024', 'P0030025', 'P0030026', 'P0030027', 'P0030028', 'P0030029', 'P0030030', 'P0030031', 'P0030032', 'P0030033', 'P0030034', 'P0030035', 'P0030036', 'P0030037', 'P0030038', 'P0030039', 'P0030040', 'P0030041', 'P0030042', 'P0030043', 'P0030044', 'P0030045', 'P0030046', 'P0030047', 'P0030048', 'P0030049', 'P0030050', 'P0030051', 'P0030052', 'P0030053', 'P0030054', 'P0030055', 'P0030056', 'P0030057', 'P0030058', 'P0030059', 'P0030060', 'P0030061', 'P0030062', 'P0030063', 'P0030064', 'P0030065', 'P0030066', 'P0030067', 'P0030068', 'P0030069', 'P0030070', 'P0030071', 'P0040001', 'P0040002', 'P0040003', 'P0040004', 'P0040005', 'P0040006', 'P0040007', 'P0040008', 'P0040009', 'P0040010', 'P0040011', 'P0040012', 'P0040013', 'P0040014', 'P0040015', 'P0040016', 'P0040017', 'P0040018', 'P0040019', 'P0040020', 'P0040021', 'P0040022', 'P0040023', 'P0040024', 'P0040025', 'P0040026', 'P0040027', 'P0040028', 'P0040029', 'P0040030', 'P0040031', 'P0040032', 'P0040033', 'P0040034', 'P0040035', 'P0040036', 'P0040037', 'P0040038', 'P0040039', 'P0040040', 'P0040041', 'P0040042', 'P0040043', 'P0040044', 'P0040045', 'P0040046', 'P0040047', 'P0040048', 'P0040049', 'P0040050', 'P0040051', 'P0040052', 'P0040053', 'P0040054', 'P0040055', 'P0040056', 'P0040057', 'P0040058', 'P0040059', 'P0040060', 'P0040061', 'P0040062', 'P0040063', 'P0040064', 'P0040065', 'P0040066', 'P0040067', 'P0040068', 'P0040069', 'P0040070', 'P0040071', 'P0040072', 'P0040073', 'H0010001', 'H0010002', 'H0010003', 'GEOID', 'NAME_y', 'STATE_y', 'COUNTY_y', 'TOTPOP10', 'STATEFP', 'COUNTYFP', 'TRACTCE', 'BLOCKCE', 'ALAND', 'AWATER', 'PREC_12']\n",
      "['geometry', 'FILEID', 'STUSAB', 'SUMLEV', 'GEOVAR', 'GEOCOMP', 'CHARITER', 'LOGRECNO', 'GEOID', 'GEOCODE', 'REGION', 'DIVISION', 'STATE', 'STATENS', 'COUNTY', 'COUNTYCC', 'COUNTYNS', 'COUSUB', 'COUSUBCC', 'COUSUBNS', 'CONCIT', 'CONCITCC', 'CONCITNS', 'PLACE', 'PLACECC', 'PLACENS', 'TRACT', 'BLKGRP', 'BLOCK', 'AIANHH', 'AIHHTLI', 'AIANHHFP', 'AIANHHCC', 'AIANHHNS', 'AITS', 'AITSFP', 'AITSCC', 'AITSNS', 'TTRACT', 'TBLKGRP', 'ANRC', 'ANRCCC', 'ANRCNS', 'CBSA', 'MEMI', 'CSA', 'METDIV', 'NECTA', 'NMEMI', 'CNECTA', 'NECTADIV', 'CBSAPCI', 'NECTAPCI', 'CD116', 'SLDU18', 'SLDL18', 'VTD', 'VTDI', 'SDELM', 'SDSEC', 'SDUNI', 'AREALAND', 'AREAWATR', 'BASENAME', 'NAME', 'FUNCSTAT', 'POP100', 'HU100', 'INTPTLAT', 'INTPTLON', 'LSADC', 'UGA', 'GEOID20_x', 'P0010001', 'P0010002', 'P0010003', 'P0010004', 'P0010005', 'P0010006', 'P0010007', 'P0010008', 'P0010009', 'P0010010', 'P0010011', 'P0010012', 'P0010013', 'P0010014', 'P0010015', 'P0010016', 'P0010017', 'P0010018', 'P0010019', 'P0010020', 'P0010021', 'P0010022', 'P0010023', 'P0010024', 'P0010025', 'P0010026', 'P0010027', 'P0010028', 'P0010029', 'P0010030', 'P0010031', 'P0010032', 'P0010033', 'P0010034', 'P0010035', 'P0010036', 'P0010037', 'P0010038', 'P0010039', 'P0010040', 'P0010041', 'P0010042', 'P0010043', 'P0010044', 'P0010045', 'P0010046', 'P0010047', 'P0010048', 'P0010049', 'P0010050', 'P0010051', 'P0010052', 'P0010053', 'P0010054', 'P0010055', 'P0010056', 'P0010057', 'P0010058', 'P0010059', 'P0010060', 'P0010061', 'P0010062', 'P0010063', 'P0010064', 'P0010065', 'P0010066', 'P0010067', 'P0010068', 'P0010069', 'P0010070', 'P0010071', 'P0020001', 'P0020002', 'P0020003', 'P0020004', 'P0020005', 'P0020006', 'P0020007', 'P0020008', 'P0020009', 'P0020010', 'P0020011', 'P0020012', 'P0020013', 'P0020014', 'P0020015', 'P0020016', 'P0020017', 'P0020018', 'P0020019', 'P0020020', 'P0020021', 'P0020022', 'P0020023', 'P0020024', 'P0020025', 'P0020026', 'P0020027', 'P0020028', 'P0020029', 'P0020030', 'P0020031', 'P0020032', 'P0020033', 'P0020034', 'P0020035', 'P0020036', 'P0020037', 'P0020038', 'P0020039', 'P0020040', 'P0020041', 'P0020042', 'P0020043', 'P0020044', 'P0020045', 'P0020046', 'P0020047', 'P0020048', 'P0020049', 'P0020050', 'P0020051', 'P0020052', 'P0020053', 'P0020054', 'P0020055', 'P0020056', 'P0020057', 'P0020058', 'P0020059', 'P0020060', 'P0020061', 'P0020062', 'P0020063', 'P0020064', 'P0020065', 'P0020066', 'P0020067', 'P0020068', 'P0020069', 'P0020070', 'P0020071', 'P0020072', 'P0020073', 'P0030001', 'P0030002', 'P0030003', 'P0030004', 'P0030005', 'P0030006', 'P0030007', 'P0030008', 'P0030009', 'P0030010', 'P0030011', 'P0030012', 'P0030013', 'P0030014', 'P0030015', 'P0030016', 'P0030017', 'P0030018', 'P0030019', 'P0030020', 'P0030021', 'P0030022', 'P0030023', 'P0030024', 'P0030025', 'P0030026', 'P0030027', 'P0030028', 'P0030029', 'P0030030', 'P0030031', 'P0030032', 'P0030033', 'P0030034', 'P0030035', 'P0030036', 'P0030037', 'P0030038', 'P0030039', 'P0030040', 'P0030041', 'P0030042', 'P0030043', 'P0030044', 'P0030045', 'P0030046', 'P0030047', 'P0030048', 'P0030049', 'P0030050', 'P0030051', 'P0030052', 'P0030053', 'P0030054', 'P0030055', 'P0030056', 'P0030057', 'P0030058', 'P0030059', 'P0030060', 'P0030061', 'P0030062', 'P0030063', 'P0030064', 'P0030065', 'P0030066', 'P0030067', 'P0030068', 'P0030069', 'P0030070', 'P0030071', 'P0040001', 'P0040002', 'P0040003', 'P0040004', 'P0040005', 'P0040006', 'P0040007', 'P0040008', 'P0040009', 'P0040010', 'P0040011', 'P0040012', 'P0040013', 'P0040014', 'P0040015', 'P0040016', 'P0040017', 'P0040018', 'P0040019', 'P0040020', 'P0040021', 'P0040022', 'P0040023', 'P0040024', 'P0040025', 'P0040026', 'P0040027', 'P0040028', 'P0040029', 'P0040030', 'P0040031', 'P0040032', 'P0040033', 'P0040034', 'P0040035', 'P0040036', 'P0040037', 'P0040038', 'P0040039', 'P0040040', 'P0040041', 'P0040042', 'P0040043', 'P0040044', 'P0040045', 'P0040046', 'P0040047', 'P0040048', 'P0040049', 'P0040050', 'P0040051', 'P0040052', 'P0040053', 'P0040054', 'P0040055', 'P0040056', 'P0040057', 'P0040058', 'P0040059', 'P0040060', 'P0040061', 'P0040062', 'P0040063', 'P0040064', 'P0040065', 'P0040066', 'P0040067', 'P0040068', 'P0040069', 'P0040070', 'P0040071', 'P0040072', 'P0040073', 'H0010001', 'H0010002', 'H0010003', 'P0050001', 'P0050002', 'P0050003', 'P0050004', 'P0050005', 'P0050006', 'P0050007', 'P0050008', 'P0050009', 'P0050010', 'STATEFP20', 'COUNTYFP20', 'TRACTCE20', 'BLOCKCE20', 'GEOID20_y', 'NAME20', 'MTFCC20', 'UR20', 'UACE20', 'UATYPE20', 'FUNCSTAT20', 'ALAND20', 'AWATER20', 'INTPTLAT20', 'INTPTLON20', 'PREC_24']\n"
     ]
    }
   ],
   "source": [
    "add_demo_columns(prec_12_data,\"10\")\n",
    "add_demo_columns(prec_24_data,\"20\")\n",
    "add_demo_columns(comm_12_data,\"10\")\n",
    "add_demo_columns(comm_24_data,\"20\")\n",
    "\n",
    "\n",
    "\n",
    "clean_df(prec_12_data, \"PREC_12\")\n",
    "clean_df(prec_24_data, \"PREC_24\")\n",
    "clean_df(comm_12_data, \"COMM_12\")\n",
    "clean_df(comm_24_data, \"COMM_24\")\n"
   ]
  },
  {
   "cell_type": "code",
   "execution_count": 188,
   "id": "bfe10b0b",
   "metadata": {},
   "outputs": [],
   "source": [
    "prec_12_data.to_csv(\"./prec_12_data.csv\",index=False)\n",
    "prec_24_data.to_csv(\"./prec_24_data.csv\",index=False)\n",
    "comm_12_data.to_csv(\"./comm_12_data.csv\",index=False)\n",
    "comm_24_data.to_csv(\"./comm_24_data.csv\",index=False)"
   ]
  },
  {
   "cell_type": "code",
   "execution_count": 1,
   "id": "417acc57",
   "metadata": {},
   "outputs": [
    {
     "ename": "NameError",
     "evalue": "name 'comm_12' is not defined",
     "output_type": "error",
     "traceback": [
      "\u001b[31m---------------------------------------------------------------------------\u001b[39m",
      "\u001b[31mNameError\u001b[39m                                 Traceback (most recent call last)",
      "\u001b[36mCell\u001b[39m\u001b[36m \u001b[39m\u001b[32mIn[1]\u001b[39m\u001b[32m, line 1\u001b[39m\n\u001b[32m----> \u001b[39m\u001b[32m1\u001b[39m comm_12\n",
      "\u001b[31mNameError\u001b[39m: name 'comm_12' is not defined"
     ]
    }
   ],
   "source": [
    "comm_12"
   ]
  },
  {
   "cell_type": "code",
   "execution_count": null,
   "id": "eae1238c",
   "metadata": {},
   "outputs": [],
   "source": []
  }
 ],
 "metadata": {
  "kernelspec": {
   "display_name": "Python 3 (ipykernel)",
   "language": "python",
   "name": "python3"
  },
  "language_info": {
   "codemirror_mode": {
    "name": "ipython",
    "version": 3
   },
   "file_extension": ".py",
   "mimetype": "text/x-python",
   "name": "python",
   "nbconvert_exporter": "python",
   "pygments_lexer": "ipython3",
   "version": "3.11.11"
  }
 },
 "nbformat": 4,
 "nbformat_minor": 5
}
