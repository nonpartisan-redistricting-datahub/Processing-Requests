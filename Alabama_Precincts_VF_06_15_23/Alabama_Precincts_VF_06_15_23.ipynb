{
 "cells": [
  {
   "cell_type": "code",
   "execution_count": 198,
   "id": "b5f5e571",
   "metadata": {},
   "outputs": [],
   "source": [
    "import geopandas as gp\n",
    "import pandas as pd\n",
    "from collections import Counter\n",
    "import numpy as np\n",
    "from zipfile import ZipFile\n",
    "import zipfile\n",
    "import os"
   ]
  },
  {
   "cell_type": "markdown",
   "id": "8f7ad858",
   "metadata": {},
   "source": [
    "# Alabama_Precincts_VF_06_15_23\n",
    "\n",
    "## Background:\n",
    "- Received a request for a block assignment file linking census blocks to Alabama's post-redistricting precincts.\n",
    "\n",
    "## Approach:\n",
    "- Load in a geocoded voterfile.\n",
    "- Remove voters without a precinct assignment and those for which the county of the geocoded block does not match the county tied to their record (2,443 individuals).\n",
    "- Append the 3-digit County FIPs to the precinct name.\n",
    "- Group the voterfile by block geoid20, recording the all the different precinct names, and the number of times they occur, for every individual geocoded to a particular block.\n",
    "- For every block, iterate over the precinct names and counts values and assign the \"best_prec\" to the precinct that occurs most frequently. Ties are broken by using the first occurring precinct.\n",
    "- Add in remaining block geoid20s for the state, fill other fields for these blocks as \"NO VOTERS IN VOTERFILE\".\n",
    "- Clean column names and export to csv.\n",
    "\n",
    "## Links to datasets used:\n",
    "- L2 Individaul Level Voter File for Alabama (2023)\n",
    "- [Alabama Block-Level PL File](https://redistrictingdatahub.org/dataset/alabama-block-pl-94171-2020-by-table/)\n",
    "\n",
    "Contact info@redistrictingdatahub.org with any questions. Individual level voter file data cannot be provided."
   ]
  },
  {
   "cell_type": "code",
   "execution_count": 190,
   "id": "fa6cf126",
   "metadata": {},
   "outputs": [],
   "source": [
    "VF_PATH = \"/Users/peterhorton/Downloads/AL_individual_file000.gz\"\n",
    "BLOCK_PATH = \"/Users/peterhorton/Documents/RDH/raw_data/census/2020_PL_csv/al_pl2020_b/al_pl2020_b.csv\""
   ]
  },
  {
   "cell_type": "markdown",
   "id": "14962092",
   "metadata": {},
   "source": [
    "## Load and prepare voterfile data"
   ]
  },
  {
   "cell_type": "code",
   "execution_count": 192,
   "id": "9b4ab9d4",
   "metadata": {},
   "outputs": [
    {
     "name": "stdout",
     "output_type": "stream",
     "text": [
      "(33356, 13)\n",
      "(6291, 13)\n"
     ]
    }
   ],
   "source": [
    "# Read in Voter File\n",
    "alabama_vf = pd.read_csv(VF_PATH, compression='gzip')\n",
    "\n",
    "# Filter out individuals without a geoid or precinct assignment\n",
    "print(alabama_vf[alabama_vf[\"geoid20\"]==\"NO ASSIGNMENT\"].shape)\n",
    "alabama_vf = alabama_vf[alabama_vf[\"geoid20\"]!=\"NO ASSIGNMENT\"]\n",
    "print(alabama_vf[alabama_vf[\"precinct\"].isna()].shape)\n",
    "alabama_vf = alabama_vf[~alabama_vf[\"precinct\"].isna()]\n",
    "\n",
    "# Get the county assigned from the geoid\n",
    "alabama_vf[\"Assigned_CNTY\"] = alabama_vf[\"geoid20\"].astype(str).str[2:5]\n",
    "\n",
    "# Clean the county data from the voter file itself\n",
    "alabama_vf[\"co_fips\"] = alabama_vf[\"co_fips\"].astype(str).str.zfill(3)\n",
    "\n",
    "# Remove individuals for whom these county assignments don't match (good sign that the geocode isn't accurate)\n",
    "alabama_vf = alabama_vf[alabama_vf[\"Assigned_CNTY\"]==alabama_vf[\"co_fips\"]]\n",
    "\n",
    "# Append the county to the precinct\n",
    "alabama_vf[\"precinct\"] = alabama_vf[\"Assigned_CNTY\"] +\"-\"+alabama_vf[\"precinct\"]"
   ]
  },
  {
   "cell_type": "markdown",
   "id": "ddfe18f7",
   "metadata": {},
   "source": [
    "## Go from individual level to block level"
   ]
  },
  {
   "cell_type": "code",
   "execution_count": 193,
   "id": "bace7555",
   "metadata": {},
   "outputs": [],
   "source": [
    "def best_assign(counter):\n",
    "    '''\n",
    "    Function to iterate a counter and return the first key with the highest value\n",
    "    '''\n",
    "    max_val = 0\n",
    "    most = \"\"\n",
    "    for key,val in counter.items():\n",
    "        if val > max_val:\n",
    "            most = key\n",
    "    return key\n",
    "\n",
    "# Groupby block geoid and keep track of the number of different precincts for which individuals in that block are assigned to\n",
    "alabama_blocks = pd.DataFrame(alabama_vf.groupby(\"geoid20\")[\"precinct\"].agg(Counter).reset_index(name='counter'))\n",
    "\n",
    "# Get the length of precincts for which there are assignments for each block\n",
    "alabama_blocks[\"num_precs\"] = alabama_blocks[\"counter\"].apply(lambda x: len(x))\n",
    "\n",
    "# Select the precinct for which the most individuals are assigned to for each block\n",
    "alabama_blocks[\"best_prec\"] = alabama_blocks[\"counter\"].apply(lambda x: best_assign(x))"
   ]
  },
  {
   "cell_type": "markdown",
   "id": "d02d809a",
   "metadata": {},
   "source": [
    "## Add remaining blocks for which there is no data"
   ]
  },
  {
   "cell_type": "code",
   "execution_count": 194,
   "id": "e11bd141",
   "metadata": {},
   "outputs": [],
   "source": [
    "# Load in block csv to add in remaining blocks\n",
    "al_blocks = pd.read_csv(BLOCK_PATH, dtype = str)\n",
    "\n",
    "# Filter file and clean columns for join\n",
    "al_blocks = al_blocks[[\"GEOCODE\"]]\n",
    "al_blocks[\"GEOCODE\"] = al_blocks[\"GEOCODE\"].astype(str).str.zfill(15)\n",
    "al_blocks.rename(columns = {\"GEOCODE\":\"geoid20\"}, inplace = True)\n",
    "\n",
    "# Merge to add remaining blocks, filter columns, fillna values\n",
    "joined = pd.merge(al_blocks, alabama_blocks, how = \"left\", on = \"geoid20\")\n",
    "joined = joined[[\"geoid20\",\"best_prec\",\"num_precs\",\"counter\"]]\n",
    "joined = joined.fillna(\"NO VOTERS IN VOTERFILE\")\n",
    "\n",
    "# Rename columns\n",
    "joined.rename(columns = {\"num_precs\":\"unq_precs\", \"counter\":\"prec_count\"}, inplace = True)\n",
    "\n",
    "# Export to csv\n",
    "joined.to_csv(\"./al_20230403_vf_precs/al_20230403_vf_precs.csv\", index = False)"
   ]
  },
  {
   "cell_type": "markdown",
   "id": "233d3ee9",
   "metadata": {},
   "source": [
    "## Zip the File"
   ]
  },
  {
   "cell_type": "code",
   "execution_count": 202,
   "id": "8577ed98",
   "metadata": {},
   "outputs": [],
   "source": [
    "def zip_folder(name, readme_path, list_of_file_paths):\n",
    "    print(name)\n",
    "    dir_path = os.path.dirname(os.path.realpath(list_of_file_paths[0]))\n",
    "    print(dir_path)\n",
    "    root = dir_path\n",
    "    zipObj = ZipFile(name, 'w',zipfile.ZIP_DEFLATED) #instantiate the zip object \n",
    "    readme = readme_path\n",
    "    readme_dir = os.path.dirname(readme) \n",
    "    readme_root = os.path.dirname(os.path.realpath(readme))\n",
    "    zipObj.write(readme,os.path.relpath(readme,readme_root))\n",
    "    \n",
    "    for i in list_of_file_paths:\n",
    "        zipObj.write(i, os.path.relpath(i,root))\n",
    "    zipObj.close()\n",
    "\n",
    "    with open(readme, 'r') as r:\n",
    "        print(r.read())\n",
    "    r.close()\n",
    "    \n",
    "zip_folder(\"al_20230403_vf_precs.zip\", \"./al_20230403_vf_precs/README.txt\", [\"./al_20230403_vf_precs/al_20230403_vf_precs.csv\"])"
   ]
  },
  {
   "cell_type": "code",
   "execution_count": 210,
   "id": "8ae65a0a",
   "metadata": {},
   "outputs": [
    {
     "name": "stdout",
     "output_type": "stream",
     "text": [
      "al_20230403_vf_precs.zip\n",
      "/Users/peterhorton/Documents/RDH/Support/Processing-Requests/Alabama_Precincts_VF_06_15_23/al_20230403_vf_precs\n",
      "Alabama 2022 Precinct Estimates Using April 2023 Voterfile\n",
      "\n",
      "## RDH Date Retrieval\n",
      "Voterfile from 04/03/2023 Processed June 2023\n",
      "\n",
      "## Sources\n",
      "L2\n",
      "\n",
      "## Fields:\n",
      "Field Name Description                                                                               \n",
      "geoid20    Block Identifier                                                                          \n",
      "best_prec  Best precinct assignment                                                                  \n",
      "unq_precs  Number of unique precincts for which voters geocoded to the block have listed             \n",
      "prec_count Count of voters listed for each precinct in which a person has been geocoded to this block\n",
      "\n",
      "## Processing Steps\n",
      "Visit the RDH GitHub and the processing script for this code [here](https://github.com/nonpartisan-redistricting-datahub/Processing-Requests)\n",
      "\n",
      "Load in a geocoded voterfile.\n",
      "Remove voters without a precinct assignment and those for which the county of the geocoded block does not match the county tied to their record (2,443 individuals).\n",
      "Append the 3-digit County FIPs to the precinct name.\n",
      "Group the voterfile by block geoid20, recording the all the different precinct names, and the number of times they occur, for every individual geocoded to a particular block.\n",
      "For every block, iterate over the precinct names and counts values and assign the \"best_prec\" to the precinct that occurs most frequently. Ties are broken by using the first occurring precinct.\n",
      "Add in remaining block geoid20s for the state, fill other fields for these blocks as \"NO VOTERS IN VOTERFILE\".\n",
      "Clean column names and export to csv.\n",
      "\n",
      "## Additional Notes\n",
      "Blocks which contain no geocoded individuals from the voter file are marked \"NO VOTERS IN VOTERFILE\" for the \"best_prec\", \"unq_precs\", and \"prec_count\" fields.\n",
      "\n",
      "Please direct questions related to processing this dataset to info@redistrictingdatahub.org.\n",
      "\n"
     ]
    }
   ],
   "source": []
  },
  {
   "cell_type": "code",
   "execution_count": null,
   "id": "e6cd6395",
   "metadata": {},
   "outputs": [],
   "source": []
  }
 ],
 "metadata": {
  "kernelspec": {
   "display_name": "Python 3 (ipykernel)",
   "language": "python",
   "name": "python3"
  },
  "language_info": {
   "codemirror_mode": {
    "name": "ipython",
    "version": 3
   },
   "file_extension": ".py",
   "mimetype": "text/x-python",
   "name": "python",
   "nbconvert_exporter": "python",
   "pygments_lexer": "ipython3",
   "version": "3.8.13"
  }
 },
 "nbformat": 4,
 "nbformat_minor": 5
}
