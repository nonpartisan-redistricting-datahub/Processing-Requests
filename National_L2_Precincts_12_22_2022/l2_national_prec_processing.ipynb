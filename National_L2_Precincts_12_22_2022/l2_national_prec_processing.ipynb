{
 "cells": [
  {
   "cell_type": "code",
   "execution_count": 1,
   "id": "b2adb92f-cdd5-4bde-afeb-43b7fee3c0a0",
   "metadata": {},
   "outputs": [],
   "source": [
    "import pandas as pd\n",
    "import os"
   ]
  },
  {
   "cell_type": "markdown",
   "id": "d4fbb4ee-9298-4943-9237-fb346d576dc2",
   "metadata": {},
   "source": [
    "## 2022 Precinct File"
   ]
  },
  {
   "cell_type": "code",
   "execution_count": 2,
   "id": "06d21016-b8dd-4bec-9773-8d9ade8eeb11",
   "metadata": {},
   "outputs": [],
   "source": [
    "prec = pd.read_csv('../sql_export_prec_data/_select_l2_file_state_l2_county_l2_precinct_as_uniqueprec_l2_pre_202212211554.csv').reset_index(drop=True)"
   ]
  },
  {
   "cell_type": "code",
   "execution_count": 3,
   "id": "a0ff22f5-9ee9-4d79-9eee-806941f65692",
   "metadata": {},
   "outputs": [
    {
     "data": {
      "text/html": [
       "<div>\n",
       "<style scoped>\n",
       "    .dataframe tbody tr th:only-of-type {\n",
       "        vertical-align: middle;\n",
       "    }\n",
       "\n",
       "    .dataframe tbody tr th {\n",
       "        vertical-align: top;\n",
       "    }\n",
       "\n",
       "    .dataframe thead th {\n",
       "        text-align: right;\n",
       "    }\n",
       "</style>\n",
       "<table border=\"1\" class=\"dataframe\">\n",
       "  <thead>\n",
       "    <tr style=\"text-align: right;\">\n",
       "      <th></th>\n",
       "      <th>uniqueprec</th>\n",
       "      <th>precinct</th>\n",
       "      <th>county</th>\n",
       "      <th>state</th>\n",
       "    </tr>\n",
       "  </thead>\n",
       "  <tbody>\n",
       "    <tr>\n",
       "      <th>0</th>\n",
       "      <td>IA-SCOTT-DAVENPORT CITY 2-3</td>\n",
       "      <td>DAVENPORT CITY 2-3</td>\n",
       "      <td>SCOTT</td>\n",
       "      <td>IA</td>\n",
       "    </tr>\n",
       "    <tr>\n",
       "      <th>1</th>\n",
       "      <td>IA-POLK-DES MOINES 050</td>\n",
       "      <td>DES MOINES 050</td>\n",
       "      <td>POLK</td>\n",
       "      <td>IA</td>\n",
       "    </tr>\n",
       "    <tr>\n",
       "      <th>2</th>\n",
       "      <td>IA-SIOUX-SIOUX CENTER 2</td>\n",
       "      <td>SIOUX CENTER 2</td>\n",
       "      <td>SIOUX</td>\n",
       "      <td>IA</td>\n",
       "    </tr>\n",
       "    <tr>\n",
       "      <th>3</th>\n",
       "      <td>IA-MITCHELL-01 OSAGE</td>\n",
       "      <td>01 OSAGE</td>\n",
       "      <td>MITCHELL</td>\n",
       "      <td>IA</td>\n",
       "    </tr>\n",
       "    <tr>\n",
       "      <th>4</th>\n",
       "      <td>IA-BUENA VISTA-STORM LAKE 2</td>\n",
       "      <td>STORM LAKE 2</td>\n",
       "      <td>BUENA VISTA</td>\n",
       "      <td>IA</td>\n",
       "    </tr>\n",
       "    <tr>\n",
       "      <th>...</th>\n",
       "      <td>...</td>\n",
       "      <td>...</td>\n",
       "      <td>...</td>\n",
       "      <td>...</td>\n",
       "    </tr>\n",
       "    <tr>\n",
       "      <th>161292</th>\n",
       "      <td>AR-SEBASTIAN-05-F-448</td>\n",
       "      <td>05-F-448</td>\n",
       "      <td>SEBASTIAN</td>\n",
       "      <td>AR</td>\n",
       "    </tr>\n",
       "    <tr>\n",
       "      <th>161293</th>\n",
       "      <td>AR-JEFFERSON-426</td>\n",
       "      <td>426</td>\n",
       "      <td>JEFFERSON</td>\n",
       "      <td>AR</td>\n",
       "    </tr>\n",
       "    <tr>\n",
       "      <th>161294</th>\n",
       "      <td>AR-PHILLIPS-ST FRANCIS IV</td>\n",
       "      <td>ST FRANCIS IV</td>\n",
       "      <td>PHILLIPS</td>\n",
       "      <td>AR</td>\n",
       "    </tr>\n",
       "    <tr>\n",
       "      <th>161295</th>\n",
       "      <td>CO-WELD-159</td>\n",
       "      <td>159</td>\n",
       "      <td>WELD</td>\n",
       "      <td>CO</td>\n",
       "    </tr>\n",
       "    <tr>\n",
       "      <th>161296</th>\n",
       "      <td>GA-FULTON-03P1B</td>\n",
       "      <td>03P1B</td>\n",
       "      <td>FULTON</td>\n",
       "      <td>GA</td>\n",
       "    </tr>\n",
       "  </tbody>\n",
       "</table>\n",
       "<p>161297 rows × 4 columns</p>\n",
       "</div>"
      ],
      "text/plain": [
       "                         uniqueprec            precinct       county state\n",
       "0       IA-SCOTT-DAVENPORT CITY 2-3  DAVENPORT CITY 2-3        SCOTT    IA\n",
       "1            IA-POLK-DES MOINES 050      DES MOINES 050         POLK    IA\n",
       "2           IA-SIOUX-SIOUX CENTER 2      SIOUX CENTER 2        SIOUX    IA\n",
       "3              IA-MITCHELL-01 OSAGE            01 OSAGE     MITCHELL    IA\n",
       "4       IA-BUENA VISTA-STORM LAKE 2        STORM LAKE 2  BUENA VISTA    IA\n",
       "...                             ...                 ...          ...   ...\n",
       "161292        AR-SEBASTIAN-05-F-448            05-F-448    SEBASTIAN    AR\n",
       "161293             AR-JEFFERSON-426                 426    JEFFERSON    AR\n",
       "161294    AR-PHILLIPS-ST FRANCIS IV       ST FRANCIS IV     PHILLIPS    AR\n",
       "161295                  CO-WELD-159                 159         WELD    CO\n",
       "161296              GA-FULTON-03P1B               03P1B       FULTON    GA\n",
       "\n",
       "[161297 rows x 4 columns]"
      ]
     },
     "execution_count": 3,
     "metadata": {},
     "output_type": "execute_result"
    }
   ],
   "source": [
    "prec"
   ]
  },
  {
   "cell_type": "code",
   "execution_count": 4,
   "id": "122fc6cb-5349-4553-8cc9-0b6f160eea18",
   "metadata": {},
   "outputs": [
    {
     "data": {
      "text/plain": [
       "uniqueprec    False\n",
       "precinct      False\n",
       "county        False\n",
       "state         False\n",
       "dtype: bool"
      ]
     },
     "execution_count": 4,
     "metadata": {},
     "output_type": "execute_result"
    }
   ],
   "source": [
    "prec.isna().any()"
   ]
  },
  {
   "cell_type": "code",
   "execution_count": 5,
   "id": "724d85ec-7882-4f1b-b0d9-31d426c1f642",
   "metadata": {},
   "outputs": [],
   "source": [
    "prec.to_csv('../sql_export_prec_data/national_l2_2022_primary_precinct_ids_33_states/national_l2_2022_primary_precinct_ids_33_states.csv', index=False)"
   ]
  },
  {
   "cell_type": "code",
   "execution_count": 6,
   "id": "669e56c6-757a-49e3-b3bd-a7f586770dd0",
   "metadata": {},
   "outputs": [
    {
     "data": {
      "text/plain": [
       "34"
      ]
     },
     "execution_count": 6,
     "metadata": {},
     "output_type": "execute_result"
    }
   ],
   "source": [
    "prec.state.nunique()"
   ]
  },
  {
   "cell_type": "code",
   "execution_count": 7,
   "id": "f7f81546-60a0-4264-ba8c-e38fff187e26",
   "metadata": {},
   "outputs": [
    {
     "data": {
      "text/plain": [
       "array(['IA', 'PA', 'TX', 'CA', 'WA', 'SD', 'ND', 'VA', 'NC', 'AK', 'KY',\n",
       "       'CT', 'MT', 'WI', 'NY', 'MO', 'MI', 'NV', 'DC', 'NE', 'OR', 'HI',\n",
       "       'ID', 'AL', 'IN', 'AR', 'CO', 'NM', 'SC', 'NJ', 'GA', 'OH', 'OK',\n",
       "       'AZ'], dtype=object)"
      ]
     },
     "execution_count": 7,
     "metadata": {},
     "output_type": "execute_result"
    }
   ],
   "source": [
    "prec.state.unique()"
   ]
  },
  {
   "cell_type": "code",
   "execution_count": 8,
   "id": "54b40929-02f1-4445-9af6-959e3b752fd0",
   "metadata": {},
   "outputs": [
    {
     "data": {
      "text/html": [
       "<div>\n",
       "<style scoped>\n",
       "    .dataframe tbody tr th:only-of-type {\n",
       "        vertical-align: middle;\n",
       "    }\n",
       "\n",
       "    .dataframe tbody tr th {\n",
       "        vertical-align: top;\n",
       "    }\n",
       "\n",
       "    .dataframe thead th {\n",
       "        text-align: right;\n",
       "    }\n",
       "</style>\n",
       "<table border=\"1\" class=\"dataframe\">\n",
       "  <thead>\n",
       "    <tr style=\"text-align: right;\">\n",
       "      <th></th>\n",
       "      <th>uniqueprec</th>\n",
       "      <th>precinct</th>\n",
       "      <th>county</th>\n",
       "      <th>state</th>\n",
       "    </tr>\n",
       "  </thead>\n",
       "  <tbody>\n",
       "    <tr>\n",
       "      <th>0</th>\n",
       "      <td>IA-SCOTT-DAVENPORT CITY 2-3</td>\n",
       "      <td>DAVENPORT CITY 2-3</td>\n",
       "      <td>SCOTT</td>\n",
       "      <td>IA</td>\n",
       "    </tr>\n",
       "    <tr>\n",
       "      <th>1</th>\n",
       "      <td>IA-POLK-DES MOINES 050</td>\n",
       "      <td>DES MOINES 050</td>\n",
       "      <td>POLK</td>\n",
       "      <td>IA</td>\n",
       "    </tr>\n",
       "    <tr>\n",
       "      <th>2</th>\n",
       "      <td>IA-SIOUX-SIOUX CENTER 2</td>\n",
       "      <td>SIOUX CENTER 2</td>\n",
       "      <td>SIOUX</td>\n",
       "      <td>IA</td>\n",
       "    </tr>\n",
       "    <tr>\n",
       "      <th>3</th>\n",
       "      <td>IA-MITCHELL-01 OSAGE</td>\n",
       "      <td>01 OSAGE</td>\n",
       "      <td>MITCHELL</td>\n",
       "      <td>IA</td>\n",
       "    </tr>\n",
       "    <tr>\n",
       "      <th>4</th>\n",
       "      <td>IA-BUENA VISTA-STORM LAKE 2</td>\n",
       "      <td>STORM LAKE 2</td>\n",
       "      <td>BUENA VISTA</td>\n",
       "      <td>IA</td>\n",
       "    </tr>\n",
       "    <tr>\n",
       "      <th>...</th>\n",
       "      <td>...</td>\n",
       "      <td>...</td>\n",
       "      <td>...</td>\n",
       "      <td>...</td>\n",
       "    </tr>\n",
       "    <tr>\n",
       "      <th>161292</th>\n",
       "      <td>AR-SEBASTIAN-05-F-448</td>\n",
       "      <td>05-F-448</td>\n",
       "      <td>SEBASTIAN</td>\n",
       "      <td>AR</td>\n",
       "    </tr>\n",
       "    <tr>\n",
       "      <th>161293</th>\n",
       "      <td>AR-JEFFERSON-426</td>\n",
       "      <td>426</td>\n",
       "      <td>JEFFERSON</td>\n",
       "      <td>AR</td>\n",
       "    </tr>\n",
       "    <tr>\n",
       "      <th>161294</th>\n",
       "      <td>AR-PHILLIPS-ST FRANCIS IV</td>\n",
       "      <td>ST FRANCIS IV</td>\n",
       "      <td>PHILLIPS</td>\n",
       "      <td>AR</td>\n",
       "    </tr>\n",
       "    <tr>\n",
       "      <th>161295</th>\n",
       "      <td>CO-WELD-159</td>\n",
       "      <td>159</td>\n",
       "      <td>WELD</td>\n",
       "      <td>CO</td>\n",
       "    </tr>\n",
       "    <tr>\n",
       "      <th>161296</th>\n",
       "      <td>GA-FULTON-03P1B</td>\n",
       "      <td>03P1B</td>\n",
       "      <td>FULTON</td>\n",
       "      <td>GA</td>\n",
       "    </tr>\n",
       "  </tbody>\n",
       "</table>\n",
       "<p>161297 rows × 4 columns</p>\n",
       "</div>"
      ],
      "text/plain": [
       "                         uniqueprec            precinct       county state\n",
       "0       IA-SCOTT-DAVENPORT CITY 2-3  DAVENPORT CITY 2-3        SCOTT    IA\n",
       "1            IA-POLK-DES MOINES 050      DES MOINES 050         POLK    IA\n",
       "2           IA-SIOUX-SIOUX CENTER 2      SIOUX CENTER 2        SIOUX    IA\n",
       "3              IA-MITCHELL-01 OSAGE            01 OSAGE     MITCHELL    IA\n",
       "4       IA-BUENA VISTA-STORM LAKE 2        STORM LAKE 2  BUENA VISTA    IA\n",
       "...                             ...                 ...          ...   ...\n",
       "161292        AR-SEBASTIAN-05-F-448            05-F-448    SEBASTIAN    AR\n",
       "161293             AR-JEFFERSON-426                 426    JEFFERSON    AR\n",
       "161294    AR-PHILLIPS-ST FRANCIS IV       ST FRANCIS IV     PHILLIPS    AR\n",
       "161295                  CO-WELD-159                 159         WELD    CO\n",
       "161296              GA-FULTON-03P1B               03P1B       FULTON    GA\n",
       "\n",
       "[161297 rows x 4 columns]"
      ]
     },
     "execution_count": 8,
     "metadata": {},
     "output_type": "execute_result"
    }
   ],
   "source": [
    "pd.read_csv('../sql_export_prec_data/national_l2_2022_primary_precinct_ids_33_states/national_l2_2022_primary_precinct_ids_33_states.csv')"
   ]
  },
  {
   "cell_type": "markdown",
   "id": "300799e3-a3c8-4d17-970a-6e6df18c339b",
   "metadata": {},
   "source": [
    "## 2021 Precincts"
   ]
  },
  {
   "cell_type": "code",
   "execution_count": 9,
   "id": "25e8b72f-b266-494e-b1e8-91b08f45020f",
   "metadata": {},
   "outputs": [],
   "source": [
    "prec21 = pd.read_csv('../sql_export_prec_data_2020/_2021_primary_prec_select_l2_file_state_l2_county_l2_precinct_as_202212211613.csv').reset_index(drop=True)"
   ]
  },
  {
   "cell_type": "code",
   "execution_count": 10,
   "id": "9893b66e-a4a6-418d-bf96-3ac4bc3f7c70",
   "metadata": {},
   "outputs": [],
   "source": [
    "#os.mkdir('../sql_export_prec_data_2020/national_l2_2020_precinct_ids_48_states/')\n",
    "prec21.to_csv('../sql_export_prec_data_2020/national_l2_2020_precinct_ids_48_states/national_l2_2020_precinct_ids_48_states.csv', index=False)"
   ]
  },
  {
   "cell_type": "code",
   "execution_count": 11,
   "id": "c7605eb4-a0f6-47cb-a267-c62179394477",
   "metadata": {},
   "outputs": [
    {
     "data": {
      "text/plain": [
       "49"
      ]
     },
     "execution_count": 11,
     "metadata": {},
     "output_type": "execute_result"
    }
   ],
   "source": [
    "prec21['state'].nunique()"
   ]
  },
  {
   "cell_type": "code",
   "execution_count": null,
   "id": "ead2cdde-8d77-492e-84eb-cb69df5103ca",
   "metadata": {},
   "outputs": [],
   "source": [
    "prec21['state'].unique()"
   ]
  },
  {
   "cell_type": "code",
   "execution_count": 13,
   "id": "99bf9b9a-9eb3-44ac-8dae-ac62cf5650e5",
   "metadata": {},
   "outputs": [
    {
     "data": {
      "text/plain": [
       "{'AK',\n",
       " 'AL',\n",
       " 'AR',\n",
       " 'AZ',\n",
       " 'CA',\n",
       " 'CO',\n",
       " 'CT',\n",
       " 'DC',\n",
       " 'DE',\n",
       " 'FL',\n",
       " 'GA',\n",
       " 'HI',\n",
       " 'IA',\n",
       " 'ID',\n",
       " 'IL',\n",
       " 'IN',\n",
       " 'KS',\n",
       " 'KY',\n",
       " 'LA',\n",
       " 'MA',\n",
       " 'MD',\n",
       " 'ME',\n",
       " 'MI',\n",
       " 'MN',\n",
       " 'MO',\n",
       " 'MS',\n",
       " 'MT',\n",
       " 'NC',\n",
       " 'ND',\n",
       " 'NE',\n",
       " 'NJ',\n",
       " 'NM',\n",
       " 'NV',\n",
       " 'NY',\n",
       " 'OH',\n",
       " 'OK',\n",
       " 'OR',\n",
       " 'PA',\n",
       " 'RI',\n",
       " 'SC',\n",
       " 'SD',\n",
       " 'TN',\n",
       " 'TX',\n",
       " 'UT',\n",
       " 'VA',\n",
       " 'WA',\n",
       " 'WI',\n",
       " 'WV',\n",
       " 'WY'}"
      ]
     },
     "execution_count": 13,
     "metadata": {},
     "output_type": "execute_result"
    }
   ],
   "source": [
    "set(prec21['state'].unique())-set({'NH', 'VT'})"
   ]
  },
  {
   "cell_type": "code",
   "execution_count": null,
   "id": "0db5077a-681f-43d0-b6f3-020a7ec15993",
   "metadata": {},
   "outputs": [],
   "source": []
  },
  {
   "cell_type": "code",
   "execution_count": null,
   "id": "6694d63f-92e0-4016-a9ad-6571aae4f96f",
   "metadata": {},
   "outputs": [],
   "source": []
  }
 ],
 "metadata": {
  "kernelspec": {
   "display_name": "Python 3",
   "language": "python",
   "name": "python3"
  },
  "language_info": {
   "codemirror_mode": {
    "name": "ipython",
    "version": 3
   },
   "file_extension": ".py",
   "mimetype": "text/x-python",
   "name": "python",
   "nbconvert_exporter": "python",
   "pygments_lexer": "ipython3",
   "version": "3.8.3"
  }
 },
 "nbformat": 4,
 "nbformat_minor": 5
}
