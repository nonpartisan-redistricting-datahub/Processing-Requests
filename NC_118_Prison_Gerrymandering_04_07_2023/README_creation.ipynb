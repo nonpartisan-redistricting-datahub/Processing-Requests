{
 "cells": [
  {
   "cell_type": "code",
   "execution_count": 12,
   "id": "1abe3513",
   "metadata": {},
   "outputs": [],
   "source": [
    "import pandas as pd\n",
    "import os"
   ]
  },
  {
   "cell_type": "code",
   "execution_count": 28,
   "id": "ae56b14d",
   "metadata": {},
   "outputs": [],
   "source": [
    "### Create README\n",
    "\n",
    "fields_dict = {}\n",
    "\n",
    "fields_dict['CONG118']='Unique ID for each precinct'\n",
    "fields_dict['total']='Unadjusted total population'\n",
    "fields_dict['white']='Unadjusted white population'\n",
    "fields_dict['black']='Unadjusted black population'\n",
    "fields_dict['other']='Unadjusted other population'\n",
    "fields_dict['adjtotal']='Adjusted total population'\n",
    "fields_dict['adjwhite']='Adjusted white population'\n",
    "fields_dict['adjblack']='Adjusted black population'\n",
    "fields_dict['adjother']='Adjusted other population'\n",
    "fields_dict['adjtotal_diff']='Difference in total population'\n",
    "fields_dict['adjwhite_diff']='Difference in white population'\n",
    "fields_dict['adjblack_diff']='Difference in black population'\n",
    "fields_dict['adjother_diff']='Difference in other population'"
   ]
  },
  {
   "cell_type": "code",
   "execution_count": 29,
   "id": "2ad503fb",
   "metadata": {},
   "outputs": [
    {
     "data": {
      "text/plain": [
       "dict_keys(['CONG118', 'total', 'white', 'black', 'other', 'adjtotal', 'adjwhite', 'adjblack', 'adjother', 'adjtotal_diff', 'adjwhite_diff', 'adjblack_diff', 'adjother_diff'])"
      ]
     },
     "execution_count": 29,
     "metadata": {},
     "output_type": "execute_result"
    }
   ],
   "source": [
    "fields_dict.keys()"
   ]
  },
  {
   "cell_type": "code",
   "execution_count": 30,
   "id": "7740e11f",
   "metadata": {},
   "outputs": [],
   "source": [
    "\n",
    "\n",
    "title = \"North Carolina 118th Congressional District Estimated Prison Gerrymandering Impact\"\n",
    "retrieval_date = \"04/03/23\"\n",
    "fields_dict = fields_dict\n",
    "github_link = \"https://github.com/nonpartisan-redistricting-datahub/\"\n",
    "file_folder = \"./nc_118_prison_gerrymandering_estimates/\"\n",
    "source = \"Redistricting Data Hub\""
   ]
  },
  {
   "cell_type": "code",
   "execution_count": 31,
   "id": "717472fe",
   "metadata": {},
   "outputs": [],
   "source": [
    "def full_readme_text(title, retrieval_date, source, fields_dict, github_link):\n",
    "\n",
    "#First section of README\n",
    "    readme_p1 = '''{title}\\n\n",
    "## RDH Date Retrieval\n",
    "{retrieval_date}\n",
    "\n",
    "## Sources\n",
    "{source}\n",
    "\n",
    "## Fields:\n",
    "'''.format(title = title, source = source, retrieval_date = retrieval_date)\n",
    "\n",
    "#Second section of README\n",
    "    fields_table = pd.DataFrame.from_dict(fields_dict.items())\n",
    "    fields_table.columns = [\"Field Name\", \"Description\"]\n",
    "    readme_p2 = fields_table.to_string(formatters={'Description':'{{:<{}s}}'.format(fields_table['Description'].str.len().max()).format, 'Field Name':'{{:<{}s}}'.format(fields_table['Field Name'].str.len().max()).format}, index=False, justify = \"left\")\n",
    "\n",
    "#Third section of README\n",
    "    readme_p3 = '''\\n\n",
    "## Processing Steps\n",
    "Visit the RDH GitHub and the processing script for this code [here]({github_link})\n",
    "\n",
    "Please direct questions related to processing this dataset to info@redistrictingdatahub.org.\n",
    "'''.format(github_link=github_link)\n",
    "    \n",
    "    full_readme = str(readme_p1)+str(readme_p2)+str(readme_p3)\n",
    "    return full_readme\n",
    "\n"
   ]
  },
  {
   "cell_type": "code",
   "execution_count": 32,
   "id": "a94a25a5",
   "metadata": {},
   "outputs": [],
   "source": [
    "if not os.path.exists(file_folder):\n",
    "    os.mkdir(file_folder)\n",
    "\n",
    "with open(file_folder+\"README.txt\", 'w') as tf:\n",
    "        tf.write(full_readme_text(title, retrieval_date, source, fields_dict, github_link))"
   ]
  },
  {
   "cell_type": "code",
   "execution_count": null,
   "id": "f954c7ec",
   "metadata": {},
   "outputs": [],
   "source": []
  }
 ],
 "metadata": {
  "kernelspec": {
   "display_name": "Python 3 (ipykernel)",
   "language": "python",
   "name": "python3"
  },
  "language_info": {
   "codemirror_mode": {
    "name": "ipython",
    "version": 3
   },
   "file_extension": ".py",
   "mimetype": "text/x-python",
   "name": "python",
   "nbconvert_exporter": "python",
   "pygments_lexer": "ipython3",
   "version": "3.8.13"
  }
 },
 "nbformat": 4,
 "nbformat_minor": 5
}
