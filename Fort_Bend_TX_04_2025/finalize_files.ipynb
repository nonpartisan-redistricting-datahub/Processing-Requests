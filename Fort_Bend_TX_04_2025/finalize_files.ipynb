{
 "cells": [
  {
   "cell_type": "code",
   "execution_count": 1,
   "id": "02a4ebd3",
   "metadata": {},
   "outputs": [],
   "source": [
    "import pandas as pd\n"
   ]
  },
  {
   "cell_type": "code",
   "execution_count": 16,
   "id": "de57f327",
   "metadata": {},
   "outputs": [],
   "source": [
    "comm12 = pd.read_csv(\"/Users/peterhorton/Documents/RDH/Support/Processing-Requests/Fort_Bend_TX_04_2025/comm_12_data.csv\")\n",
    "comm24 = pd.read_csv(\"/Users/peterhorton/Documents/RDH/Support/Processing-Requests/Fort_Bend_TX_04_2025/comm_24_data.csv\")\n",
    "prec24 = pd.read_csv(\"/Users/peterhorton/Documents/RDH/Support/Processing-Requests/Fort_Bend_TX_04_2025/prec_24_data.csv\")\n",
    "prec12 = pd.read_csv(\"/Users/peterhorton/Documents/RDH/Support/Processing-Requests/Fort_Bend_TX_04_2025/prec_12_data.csv\")"
   ]
  },
  {
   "cell_type": "code",
   "execution_count": 19,
   "id": "757c6e30",
   "metadata": {},
   "outputs": [],
   "source": [
    "comm12[\"COMM_12\"] = comm12[\"COMM_12\"].astype(float).astype(int).astype(str)\n",
    "comm24[\"COMM_24\"] = comm24[\"COMM_24\"].astype(float).astype(int).astype(str)\n",
    "prec24[\"PREC_24\"] = prec24[\"PREC_24\"].astype(float).astype(int).astype(str)\n",
    "prec12[\"PREC_12\"] = prec12[\"PREC_12\"].astype(float).astype(int).astype(str)"
   ]
  },
  {
   "cell_type": "code",
   "execution_count": 20,
   "id": "1e43434b",
   "metadata": {},
   "outputs": [],
   "source": [
    "comm12.to_csv(\"./fort_bend_tx_12_24_precs_comm_dist_demos/comm_12_demos_10.csv\", index = False)\n",
    "comm24.to_csv(\"./fort_bend_tx_12_24_precs_comm_dist_demos/comm_24_demos_20.csv\", index = False)\n",
    "prec24.to_csv(\"./fort_bend_tx_12_24_precs_comm_dist_demos/prec_24_demos_20.csv\", index = False)\n",
    "prec12.to_csv(\"./fort_bend_tx_12_24_precs_comm_dist_demos/prec_12_demos_10.csv\", index = False)"
   ]
  },
  {
   "cell_type": "code",
   "execution_count": 28,
   "id": "307be366",
   "metadata": {},
   "outputs": [
    {
     "name": "stdout",
     "output_type": "stream",
     "text": [
      "fields_dict['COMM_12'] = \n",
      "fields_dict['TOT_VAP_10'] = \n",
      "fields_dict['NH_WHT_VAP_10'] = \n",
      "fields_dict['NH_ASN_VAP_10'] = \n",
      "fields_dict['NH_BLK_VAP_10'] = \n",
      "fields_dict['NH_OTH_VAP_10'] = \n",
      "fields_dict['HISP_VAP_10'] = \n",
      "fields_dict['NH_WHT_VAP_10_pct'] = \n",
      "fields_dict['NH_ASN_VAP_10_pct'] = \n",
      "fields_dict['NH_BLK_VAP_10_pct'] = \n",
      "fields_dict['NH_OTH_VAP_10_pct'] = \n",
      "fields_dict['HISP_VAP_10_pct'] = \n"
     ]
    }
   ],
   "source": [
    "for col in list(comm12.columns):\n",
    "    print(\"fields_dict['{}'] = \".format(col))"
   ]
  },
  {
   "cell_type": "code",
   "execution_count": 24,
   "id": "10450e0d",
   "metadata": {},
   "outputs": [
    {
     "name": "stdout",
     "output_type": "stream",
     "text": [
      "Index(['PREC_12', 'TOT_VAP_10', 'NH_WHT_VAP_10', 'NH_ASN_VAP_10',\n",
      "       'NH_BLK_VAP_10', 'NH_OTH_VAP_10', 'HISP_VAP_10', 'NH_WHT_VAP_10_pct',\n",
      "       'NH_ASN_VAP_10_pct', 'NH_BLK_VAP_10_pct', 'NH_OTH_VAP_10_pct',\n",
      "       'HISP_VAP_10_pct'],\n",
      "      dtype='object')\n"
     ]
    }
   ],
   "source": [
    "print(prec12.columns)"
   ]
  },
  {
   "cell_type": "code",
   "execution_count": null,
   "id": "8147f46d",
   "metadata": {},
   "outputs": [],
   "source": []
  }
 ],
 "metadata": {
  "kernelspec": {
   "display_name": "Python 3 (ipykernel)",
   "language": "python",
   "name": "python3"
  },
  "language_info": {
   "codemirror_mode": {
    "name": "ipython",
    "version": 3
   },
   "file_extension": ".py",
   "mimetype": "text/x-python",
   "name": "python",
   "nbconvert_exporter": "python",
   "pygments_lexer": "ipython3",
   "version": "3.11.11"
  }
 },
 "nbformat": 4,
 "nbformat_minor": 5
}
