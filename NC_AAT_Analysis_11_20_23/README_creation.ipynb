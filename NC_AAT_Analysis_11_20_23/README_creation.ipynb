{
 "cells": [
  {
   "cell_type": "code",
   "execution_count": 1,
   "id": "1abe3513",
   "metadata": {},
   "outputs": [],
   "source": [
    "import pandas as pd\n",
    "import os"
   ]
  },
  {
   "cell_type": "code",
   "execution_count": 8,
   "id": "7740e11f",
   "metadata": {},
   "outputs": [],
   "source": [
    "### Create README\n",
    "\n",
    "fields_dict = {\"District\":\"District Number\", \n",
    "               \"Rep_Share\":\"2020 General Presidential Election Republican Pct. (Two-Party Share)\", \n",
    "               'CVAP_TOT21':\"Total 2021 CVAP (note rounding due to block-level disaggregation)\",\n",
    "               'CVAP_ASN21':\"Total 2021 Asian Alone or in Combination\",\n",
    "               \"CVAP_ASN21_pct\":\"2021 Asian Alone or in Combination Percent\",\n",
    "               'ASN_REG':\"Total Self-Identified Aisan Voters\",\n",
    "               'ASN_NON':\"Self-Identified Aisan Voters No Party Affiliation\",\n",
    "               'ASN_REP':\"Self-Identified Aisan Registered Republican Party\",\n",
    "               'ASN_DEM':\"Self-Identified Aisan Registered Democratic Party\",\n",
    "               'ASN_GRE':\"Self-Identified Aisan Registered Green Party\",\n",
    "               'ASN_LIB':\"Self-Identified Aisan Registered Libertarian Party\"}\n",
    "\n",
    "title = \"North Carolina 2023 Redistricting Plan Asian American Analysis\"\n",
    "retrieval_date = \"11/21/23\"\n",
    "fields_dict = fields_dict\n",
    "github_link = \"https://github.com/nonpartisan-redistricting-datahub/Processing-Requests\"\n",
    "file_folder = \"./nc_2023_plans_asian_american_analysis/\"\n",
    "source = \"Plans from [North Carolina General Assembly](https://www.ncleg.gov/Redistricting), 2020 General election data from VEST, CVAP data from RDH (block-level disaggregated) Voter registration data from NC via L2\""
   ]
  },
  {
   "cell_type": "code",
   "execution_count": 9,
   "id": "717472fe",
   "metadata": {},
   "outputs": [],
   "source": [
    "def full_readme_text(title, retrieval_date, source, fields_dict, github_link):\n",
    "\n",
    "#First section of README\n",
    "    readme_p1 = '''{title}\\n\n",
    "## RDH Date Retrieval\n",
    "{retrieval_date}\n",
    "\n",
    "## Sources\n",
    "{source}\n",
    "\n",
    "## Fields:\n",
    "'''.format(title = title, source = source, retrieval_date = retrieval_date)\n",
    "\n",
    "#Second section of README\n",
    "    fields_table = pd.DataFrame.from_dict(fields_dict.items())\n",
    "    fields_table.columns = [\"Field Name\", \"Description\"]\n",
    "    readme_p2 = fields_table.to_string(formatters={'Description':'{{:<{}s}}'.format(fields_table['Description'].str.len().max()).format, 'Field Name':'{{:<{}s}}'.format(fields_table['Field Name'].str.len().max()).format}, index=False, justify = \"left\")\n",
    "\n",
    "#Third section of README\n",
    "    readme_p3 = '''\\n\n",
    "## Processing Steps\n",
    "Visit the RDH GitHub and the processing script for this code [here]({github_link})\n",
    "\n",
    "Please direct questions related to processing this dataset to info@redistrictingdatahub.org.\n",
    "'''.format(github_link=github_link)\n",
    "    \n",
    "    full_readme = str(readme_p1)+str(readme_p2)+str(readme_p3)\n",
    "    return full_readme\n",
    "\n"
   ]
  },
  {
   "cell_type": "code",
   "execution_count": 10,
   "id": "a94a25a5",
   "metadata": {},
   "outputs": [],
   "source": [
    "if not os.path.exists(file_folder):\n",
    "    os.mkdir(file_folder)\n",
    "\n",
    "with open(file_folder+\"README.txt\", 'w') as tf:\n",
    "        tf.write(full_readme_text(title, retrieval_date, source, fields_dict, github_link))"
   ]
  },
  {
   "cell_type": "code",
   "execution_count": null,
   "id": "f954c7ec",
   "metadata": {},
   "outputs": [],
   "source": []
  }
 ],
 "metadata": {
  "kernelspec": {
   "display_name": "Python 3 (ipykernel)",
   "language": "python",
   "name": "python3"
  },
  "language_info": {
   "codemirror_mode": {
    "name": "ipython",
    "version": 3
   },
   "file_extension": ".py",
   "mimetype": "text/x-python",
   "name": "python",
   "nbconvert_exporter": "python",
   "pygments_lexer": "ipython3",
   "version": "3.8.13"
  }
 },
 "nbformat": 4,
 "nbformat_minor": 5
}
