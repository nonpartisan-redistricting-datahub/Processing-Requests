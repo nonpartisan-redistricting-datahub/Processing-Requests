{
 "cells": [
  {
   "cell_type": "code",
   "execution_count": 1,
   "id": "0c771161-3b1a-4d2e-b8d2-edb08b3979ac",
   "metadata": {},
   "outputs": [],
   "source": [
    "import geopandas as gp\n",
    "import pandas as pd\n",
    "import os\n",
    "import maup\n",
    "from warnings import simplefilter\n",
    "simplefilter(action=\"ignore\", category=pd.errors.PerformanceWarning)\n",
    "simplefilter(action='ignore', category=FutureWarning)\n",
    "wd = os.getcwd()"
   ]
  },
  {
   "cell_type": "markdown",
   "id": "5ab6b3a2-cf6f-4d69-9e69-1909b962ec56",
   "metadata": {},
   "source": [
    "# Sonoma_County_Turnout_10_13_2022\n",
    "\n",
    "## Background:\n",
    "- We received a request for \"CVAP not yet registered to vote in Sonoma County CA\" from a user for \"nonpartisan letter writing urging them to register to vote\".\n",
    "- RDH does not have information of individuals who are not registered to vote, but we can provide information regarding how many people are registered at various geographies.\n",
    "- The user was also interested in turnout statistics from the 2020 general election, as well as other demographic statistics.\n",
    "- We used data at the block level, as it is the most granular data we can work with, and then aggregated the data to the precinct level, since this is the geography which the user was interested in.\n",
    "\n",
    "## Approach:\n",
    "- Use RDH datasests of Disaggregated 2020 CVAP to the Block Level, 2020 Voter Turnout at the 2020 Block Level, L2 Voter File Aggregated to 2020 Census Blocks, and VEST 2020 Precinct Boundaries with Election Results (all for California).\n",
    "- Query out data for Sonoma County and join together to have block level datasets.\n",
    "- Aggregate block level data to the precinct level using [maup library](https://github.com/mggg/maup)\n",
    "- Create unregistered voter estimate counts at the precinct level by subtracting the aggregated total registered voters from the aggregated Citizen Voting Age Population (CVAP). The percentage of unregistered voters estimate is 1 minus the total registered voters divided by the total CVAP population at the precinct level. \n",
    "- Please note the unregistered voter estimates are *estimates* based on the method described above.\n",
    "\n",
    "## Links to datasets used:\n",
    "- [2021 California L2 Voter File Aggregated to 2020 Census Blocks](https://redistrictingdatahub.org/dataset/2021-california-l2-voter-file-aggregated-to-2020-census-blocks/)\n",
    "- [2020 CA L2 Voterfile Elections Turnout Statistics Aggregated to Census Blocks](https://redistrictingdatahub.org/dataset/2020-ca-l2-voterfile-elections-turnout-statistics-aggregated-to-census-blocks/)\n",
    "- [California CVAP Data Disaggregated to the 2020 Block Level (2020)](https://redistrictingdatahub.org/dataset/california-cvap-data-disaggregated-to-the-2020-block-level-2020/)\n",
    "- [VEST 2020 California precinct and election results](https://redistrictingdatahub.org/dataset/vest-2020-california-precinct-and-election-results/) via Voting and Election Science Team [(VEST)](https://dataverse.harvard.edu/dataset.xhtml?persistentId=doi:10.7910/DVN/K7760H)\n",
    "\n",
    "You can find the final file on the Redistricting Data Hub website here: https://redistrictingdatahub.org/dataset/sonoma-county-california-2020-voter-statistics-and-unregistered-voter-estimates-on-2020-precincts/"
   ]
  },
  {
   "cell_type": "markdown",
   "id": "5ffa8e52-ae6a-421e-9274-3787d220ce5d",
   "metadata": {},
   "source": [
    "*Please note that in order to run this notebook you would need the files listed above downloaded to you working directory.*"
   ]
  },
  {
   "cell_type": "markdown",
   "id": "ef66950e-55dc-432e-b64d-3fd886bfa06d",
   "metadata": {},
   "source": [
    "Read in CVAP file and query out for Sonoma County (FIPS 097)"
   ]
  },
  {
   "cell_type": "code",
   "execution_count": 2,
   "id": "75eb33bc-e6fa-4f36-83b8-9e56a880cbdd",
   "metadata": {},
   "outputs": [],
   "source": [
    "cvap = gp.read_file(os.path.join(os.path.join(wd,'ca_cvap_2020_2020_b'),'ca_cvap_2020_2020_b.shp'))\n",
    "cvap['COUNTYFP20'] = cvap['COUNTYFP20'].apply(lambda x: str(x).zfill(3))\n",
    "cvap_sc = cvap[cvap['COUNTYFP20']=='097']"
   ]
  },
  {
   "cell_type": "markdown",
   "id": "fd252e68-61dc-40ee-95c5-2106a698c5cc",
   "metadata": {},
   "source": [
    "Read in Voter File and query out for Sonoma County (FIPS 097)"
   ]
  },
  {
   "cell_type": "code",
   "execution_count": 3,
   "id": "b9db3890-63f0-4377-abf7-039ea16cd23f",
   "metadata": {},
   "outputs": [],
   "source": [
    "vf = pd.read_csv(os.path.join(os.path.join(wd,'CA_L2_2020BlockAgg'),'CA_l2_2020block_agg_20210902.csv'))\n",
    "vf['geoid20'] = vf['geoid20'].apply(lambda x: str(x).zfill(15))\n",
    "vf['COUNTYFP20']=vf['geoid20'].apply(lambda x: str(x)[2:5])\n",
    "vf_sc = vf[vf['COUNTYFP20'] == '097'].copy(deep=True)\n",
    "vf_sc.rename(columns = {'geoid20':'GEOID20'},inplace=True)"
   ]
  },
  {
   "cell_type": "markdown",
   "id": "5c3cea1a-e925-484b-a1a2-c5ce48a34f94",
   "metadata": {},
   "source": [
    "Read in Turnout Data and query out for Sonoma County (FIPS 097)"
   ]
  },
  {
   "cell_type": "code",
   "execution_count": 4,
   "id": "48d0ab24-362b-4c1f-98ba-65449e632c9d",
   "metadata": {},
   "outputs": [],
   "source": [
    "to = pd.read_csv(os.path.join(os.path.join(wd,'CA_l2_turnout_2020blockAgg'),'CA_l2_turnout_stats_block20.csv'))\n",
    "to['geoid20'] = to['geoid20'].apply(lambda x: str(x).split('.')[0].zfill(15))\n",
    "to['COUNTYFP20']  =  to['geoid20'].apply(lambda x: x[2:5])\n",
    "to_sc= to[to['COUNTYFP20']=='097'].copy(deep=True)\n",
    "to_sc.rename(columns = {'geoid20':'GEOID20'},inplace=True)"
   ]
  },
  {
   "cell_type": "markdown",
   "id": "2542ab35-518a-4813-893e-2e48230324bb",
   "metadata": {},
   "source": [
    "Read in 2020 Precinct shapefile for California and query out for Sononma County (FIPS 097)"
   ]
  },
  {
   "cell_type": "code",
   "execution_count": 5,
   "id": "b77a9acf-17e9-4d19-92b0-2b4ea86b8a28",
   "metadata": {},
   "outputs": [],
   "source": [
    "prec = gp.read_file(os.path.join(os.path.join(wd,'ca_2020_clean'),'ca_2020_clean.shp'))\n",
    "prec_sc = prec[prec['FIPS_CODE'] == '6097']"
   ]
  },
  {
   "cell_type": "markdown",
   "id": "14843c9d-2867-4fa2-bf07-7fcb395670bf",
   "metadata": {},
   "source": [
    "Join and clean block level data"
   ]
  },
  {
   "cell_type": "code",
   "execution_count": 6,
   "id": "b55c551b-8520-445b-aab1-fc9accbde39c",
   "metadata": {},
   "outputs": [
    {
     "data": {
      "text/html": [
       "<div>\n",
       "<style scoped>\n",
       "    .dataframe tbody tr th:only-of-type {\n",
       "        vertical-align: middle;\n",
       "    }\n",
       "\n",
       "    .dataframe tbody tr th {\n",
       "        vertical-align: top;\n",
       "    }\n",
       "\n",
       "    .dataframe thead th {\n",
       "        text-align: right;\n",
       "    }\n",
       "</style>\n",
       "<table border=\"1\" class=\"dataframe\">\n",
       "  <thead>\n",
       "    <tr style=\"text-align: right;\">\n",
       "      <th></th>\n",
       "      <th>GEOID20</th>\n",
       "      <th>CVAP_TOT20</th>\n",
       "      <th>total_reg</th>\n",
       "      <th>UNREG_EST_COUNT</th>\n",
       "    </tr>\n",
       "  </thead>\n",
       "  <tbody>\n",
       "    <tr>\n",
       "      <th>0</th>\n",
       "      <td>060971503053007</td>\n",
       "      <td>65.18</td>\n",
       "      <td>47.0</td>\n",
       "      <td>18.18</td>\n",
       "    </tr>\n",
       "    <tr>\n",
       "      <th>1</th>\n",
       "      <td>060971539023014</td>\n",
       "      <td>28.68</td>\n",
       "      <td>7.0</td>\n",
       "      <td>21.68</td>\n",
       "    </tr>\n",
       "    <tr>\n",
       "      <th>2</th>\n",
       "      <td>060971537103019</td>\n",
       "      <td>35.02</td>\n",
       "      <td>15.0</td>\n",
       "      <td>20.02</td>\n",
       "    </tr>\n",
       "    <tr>\n",
       "      <th>3</th>\n",
       "      <td>060971514041008</td>\n",
       "      <td>31.31</td>\n",
       "      <td>18.0</td>\n",
       "      <td>13.31</td>\n",
       "    </tr>\n",
       "    <tr>\n",
       "      <th>4</th>\n",
       "      <td>060971541002033</td>\n",
       "      <td>14.26</td>\n",
       "      <td>10.0</td>\n",
       "      <td>4.26</td>\n",
       "    </tr>\n",
       "    <tr>\n",
       "      <th>...</th>\n",
       "      <td>...</td>\n",
       "      <td>...</td>\n",
       "      <td>...</td>\n",
       "      <td>...</td>\n",
       "    </tr>\n",
       "    <tr>\n",
       "      <th>7558</th>\n",
       "      <td>060971537121015</td>\n",
       "      <td>182.49</td>\n",
       "      <td>86.0</td>\n",
       "      <td>96.49</td>\n",
       "    </tr>\n",
       "    <tr>\n",
       "      <th>7559</th>\n",
       "      <td>060971508003002</td>\n",
       "      <td>9.51</td>\n",
       "      <td>15.0</td>\n",
       "      <td>-5.49</td>\n",
       "    </tr>\n",
       "    <tr>\n",
       "      <th>7560</th>\n",
       "      <td>060971530054011</td>\n",
       "      <td>0.00</td>\n",
       "      <td>0.0</td>\n",
       "      <td>0.00</td>\n",
       "    </tr>\n",
       "    <tr>\n",
       "      <th>7561</th>\n",
       "      <td>060971543041168</td>\n",
       "      <td>0.00</td>\n",
       "      <td>0.0</td>\n",
       "      <td>0.00</td>\n",
       "    </tr>\n",
       "    <tr>\n",
       "      <th>7562</th>\n",
       "      <td>060971503042000</td>\n",
       "      <td>181.67</td>\n",
       "      <td>104.0</td>\n",
       "      <td>77.67</td>\n",
       "    </tr>\n",
       "  </tbody>\n",
       "</table>\n",
       "<p>7563 rows × 4 columns</p>\n",
       "</div>"
      ],
      "text/plain": [
       "              GEOID20  CVAP_TOT20  total_reg  UNREG_EST_COUNT\n",
       "0     060971503053007       65.18       47.0            18.18\n",
       "1     060971539023014       28.68        7.0            21.68\n",
       "2     060971537103019       35.02       15.0            20.02\n",
       "3     060971514041008       31.31       18.0            13.31\n",
       "4     060971541002033       14.26       10.0             4.26\n",
       "...               ...         ...        ...              ...\n",
       "7558  060971537121015      182.49       86.0            96.49\n",
       "7559  060971508003002        9.51       15.0            -5.49\n",
       "7560  060971530054011        0.00        0.0             0.00\n",
       "7561  060971543041168        0.00        0.0             0.00\n",
       "7562  060971503042000      181.67      104.0            77.67\n",
       "\n",
       "[7563 rows x 4 columns]"
      ]
     },
     "metadata": {},
     "output_type": "display_data"
    }
   ],
   "source": [
    "vf_sc.drop(columns = 'COUNTYFP20',inplace=True)\n",
    "to_sc.drop(columns = ['COUNTYFP20','total_reg'],inplace=True)\n",
    "\n",
    "joined_block = pd.merge(cvap_sc,vf_sc,on='GEOID20',how='outer',indicator=False)\n",
    "joined_block = pd.merge(joined_block,to_sc,on='GEOID20',how='outer',indicator=False)\n",
    "joined_block =  joined_block.fillna(0)\n",
    "joined_block['UNREG_EST_COUNT']= round(joined_block['CVAP_TOT20'] - joined_block['total_reg'],2)\n",
    "joined_block = joined_block.fillna(0)\n",
    "display(joined_block[['GEOID20','CVAP_TOT20','total_reg','UNREG_EST_COUNT']])"
   ]
  },
  {
   "cell_type": "markdown",
   "id": "279b3545-2d70-4abc-ae3c-ffd525ef3e85",
   "metadata": {},
   "source": [
    "Run maup to assign blocks to precincts and aggregate data"
   ]
  },
  {
   "cell_type": "code",
   "execution_count": 7,
   "id": "816fd19e-4e4b-4ec4-9678-799bb3c5c71c",
   "metadata": {},
   "outputs": [
    {
     "data": {
      "text/html": [
       "<div>\n",
       "<style scoped>\n",
       "    .dataframe tbody tr th:only-of-type {\n",
       "        vertical-align: middle;\n",
       "    }\n",
       "\n",
       "    .dataframe tbody tr th {\n",
       "        vertical-align: top;\n",
       "    }\n",
       "\n",
       "    .dataframe thead th {\n",
       "        text-align: right;\n",
       "    }\n",
       "</style>\n",
       "<table border=\"1\" class=\"dataframe\">\n",
       "  <thead>\n",
       "    <tr style=\"text-align: right;\">\n",
       "      <th></th>\n",
       "      <th>GEOID20</th>\n",
       "      <th>COUNTYFP20</th>\n",
       "      <th>CVAP_TOT20</th>\n",
       "      <th>CVAP_NHS20</th>\n",
       "      <th>CVAP_AIA20</th>\n",
       "      <th>CVAP_ASN20</th>\n",
       "      <th>CVAP_BLK20</th>\n",
       "      <th>CVAP_NHP20</th>\n",
       "      <th>CVAP_WHT20</th>\n",
       "      <th>CVAP_AIW20</th>\n",
       "      <th>...</th>\n",
       "      <th>pp20200303_voted_esa</th>\n",
       "      <th>pp20200303_reg_esa</th>\n",
       "      <th>pp20200303_pct_voted_esa</th>\n",
       "      <th>pp20200303_voted_oth</th>\n",
       "      <th>pp20200303_reg_oth</th>\n",
       "      <th>pp20200303_pct_voted_oth</th>\n",
       "      <th>pp20200303_voted_unk</th>\n",
       "      <th>pp20200303_reg_unk</th>\n",
       "      <th>pp20200303_pct_voted_unk</th>\n",
       "      <th>UNREG_EST_COUNT</th>\n",
       "    </tr>\n",
       "  </thead>\n",
       "  <tbody>\n",
       "    <tr>\n",
       "      <th>0</th>\n",
       "      <td>060971503053007</td>\n",
       "      <td>097</td>\n",
       "      <td>65.18</td>\n",
       "      <td>38.83</td>\n",
       "      <td>0.0</td>\n",
       "      <td>0.77</td>\n",
       "      <td>19.09</td>\n",
       "      <td>0.0</td>\n",
       "      <td>27.41</td>\n",
       "      <td>0.0</td>\n",
       "      <td>...</td>\n",
       "      <td>0.0</td>\n",
       "      <td>0.0</td>\n",
       "      <td>0.0</td>\n",
       "      <td>0.0</td>\n",
       "      <td>1.0</td>\n",
       "      <td>0.0</td>\n",
       "      <td>1.0</td>\n",
       "      <td>1.0</td>\n",
       "      <td>1.0</td>\n",
       "      <td>18.18</td>\n",
       "    </tr>\n",
       "  </tbody>\n",
       "</table>\n",
       "<p>1 rows × 329 columns</p>\n",
       "</div>"
      ],
      "text/plain": [
       "           GEOID20 COUNTYFP20  CVAP_TOT20  CVAP_NHS20  CVAP_AIA20  CVAP_ASN20  \\\n",
       "0  060971503053007        097       65.18       38.83         0.0        0.77   \n",
       "\n",
       "   CVAP_BLK20  CVAP_NHP20  CVAP_WHT20  CVAP_AIW20  ...  pp20200303_voted_esa  \\\n",
       "0       19.09         0.0       27.41         0.0  ...                   0.0   \n",
       "\n",
       "   pp20200303_reg_esa  pp20200303_pct_voted_esa  pp20200303_voted_oth  \\\n",
       "0                 0.0                       0.0                   0.0   \n",
       "\n",
       "   pp20200303_reg_oth  pp20200303_pct_voted_oth  pp20200303_voted_unk  \\\n",
       "0                 1.0                       0.0                   1.0   \n",
       "\n",
       "   pp20200303_reg_unk  pp20200303_pct_voted_unk  UNREG_EST_COUNT  \n",
       "0                 1.0                       1.0            18.18  \n",
       "\n",
       "[1 rows x 329 columns]"
      ]
     },
     "metadata": {},
     "output_type": "display_data"
    }
   ],
   "source": [
    "variables = list(joined_block.columns)\n",
    "variables.remove('GEOID20')\n",
    "variables.remove('COUNTYFP20')\n",
    "variables.remove('geometry')\n",
    "for i in variables:\n",
    "    joined_block[i]= joined_block[i].astype(float)\n",
    "\n",
    "joined_block = joined_block.to_crs(prec_sc.crs)\n",
    "display(joined_block.head(1))\n",
    "assignment = maup.assign(joined_block, prec_sc)\n",
    "\n",
    "sonoma_precs = prec_sc.copy(deep=True)\n",
    "sonoma_precs[variables]=joined_block[variables].groupby(assignment).sum()"
   ]
  },
  {
   "cell_type": "markdown",
   "id": "b36713c5-90b5-406f-a8c4-bef39bd01dd9",
   "metadata": {},
   "source": [
    "Crete unregistered estimate and clean columns"
   ]
  },
  {
   "cell_type": "code",
   "execution_count": 8,
   "id": "49e9a7c9-6689-4869-b9ad-01c4e2f7de19",
   "metadata": {},
   "outputs": [
    {
     "data": {
      "text/html": [
       "<div>\n",
       "<style scoped>\n",
       "    .dataframe tbody tr th:only-of-type {\n",
       "        vertical-align: middle;\n",
       "    }\n",
       "\n",
       "    .dataframe tbody tr th {\n",
       "        vertical-align: top;\n",
       "    }\n",
       "\n",
       "    .dataframe thead th {\n",
       "        text-align: right;\n",
       "    }\n",
       "</style>\n",
       "<table border=\"1\" class=\"dataframe\">\n",
       "  <thead>\n",
       "    <tr style=\"text-align: right;\">\n",
       "      <th></th>\n",
       "      <th>COUNTY</th>\n",
       "      <th>SRPREC_KEY</th>\n",
       "      <th>CVAP_TOT20</th>\n",
       "      <th>total_reg</th>\n",
       "      <th>UNREG_EST_COUNT</th>\n",
       "      <th>UNREG_EST_PERCENT</th>\n",
       "      <th>g20201103_voted_all</th>\n",
       "      <th>CNTY_CODE</th>\n",
       "      <th>FIPS_CODE</th>\n",
       "      <th>SRPREC</th>\n",
       "      <th>...</th>\n",
       "      <th>pp20200303_pct_voted_aa</th>\n",
       "      <th>pp20200303_voted_esa</th>\n",
       "      <th>pp20200303_reg_esa</th>\n",
       "      <th>pp20200303_pct_voted_esa</th>\n",
       "      <th>pp20200303_voted_oth</th>\n",
       "      <th>pp20200303_reg_oth</th>\n",
       "      <th>pp20200303_pct_voted_oth</th>\n",
       "      <th>pp20200303_voted_unk</th>\n",
       "      <th>pp20200303_reg_unk</th>\n",
       "      <th>pp20200303_pct_voted_unk</th>\n",
       "    </tr>\n",
       "  </thead>\n",
       "  <tbody>\n",
       "    <tr>\n",
       "      <th>18651</th>\n",
       "      <td>Sonoma</td>\n",
       "      <td>060975112</td>\n",
       "      <td>650.48</td>\n",
       "      <td>330.0</td>\n",
       "      <td>320.48</td>\n",
       "      <td>49.27</td>\n",
       "      <td>237.0</td>\n",
       "      <td>49</td>\n",
       "      <td>6097</td>\n",
       "      <td>5112</td>\n",
       "      <td>...</td>\n",
       "      <td>0.0</td>\n",
       "      <td>1.0</td>\n",
       "      <td>2.0</td>\n",
       "      <td>1.0</td>\n",
       "      <td>3.0</td>\n",
       "      <td>3.0</td>\n",
       "      <td>2.0</td>\n",
       "      <td>4.0</td>\n",
       "      <td>11.0</td>\n",
       "      <td>1.6667</td>\n",
       "    </tr>\n",
       "  </tbody>\n",
       "</table>\n",
       "<p>1 rows × 342 columns</p>\n",
       "</div>"
      ],
      "text/plain": [
       "       COUNTY SRPREC_KEY  CVAP_TOT20  total_reg  UNREG_EST_COUNT  \\\n",
       "18651  Sonoma  060975112      650.48      330.0           320.48   \n",
       "\n",
       "       UNREG_EST_PERCENT  g20201103_voted_all CNTY_CODE FIPS_CODE SRPREC  ...  \\\n",
       "18651              49.27                237.0        49      6097   5112  ...   \n",
       "\n",
       "       pp20200303_pct_voted_aa  pp20200303_voted_esa  pp20200303_reg_esa  \\\n",
       "18651                      0.0                   1.0                 2.0   \n",
       "\n",
       "       pp20200303_pct_voted_esa  pp20200303_voted_oth  pp20200303_reg_oth  \\\n",
       "18651                       1.0                   3.0                 3.0   \n",
       "\n",
       "       pp20200303_pct_voted_oth  pp20200303_voted_unk  pp20200303_reg_unk  \\\n",
       "18651                       2.0                   4.0                11.0   \n",
       "\n",
       "       pp20200303_pct_voted_unk  \n",
       "18651                    1.6667  \n",
       "\n",
       "[1 rows x 342 columns]"
      ]
     },
     "metadata": {},
     "output_type": "display_data"
    },
    {
     "data": {
      "text/html": [
       "<div>\n",
       "<style scoped>\n",
       "    .dataframe tbody tr th:only-of-type {\n",
       "        vertical-align: middle;\n",
       "    }\n",
       "\n",
       "    .dataframe tbody tr th {\n",
       "        vertical-align: top;\n",
       "    }\n",
       "\n",
       "    .dataframe thead th {\n",
       "        text-align: right;\n",
       "    }\n",
       "</style>\n",
       "<table border=\"1\" class=\"dataframe\">\n",
       "  <thead>\n",
       "    <tr style=\"text-align: right;\">\n",
       "      <th></th>\n",
       "      <th>COUNTY</th>\n",
       "      <th>SRPREC_KEY</th>\n",
       "      <th>CVAP_TOT20</th>\n",
       "      <th>total_reg</th>\n",
       "      <th>UNREG_EST_COUNT</th>\n",
       "      <th>UNREG_EST_PERCENT</th>\n",
       "      <th>g20201103_voted_all</th>\n",
       "    </tr>\n",
       "  </thead>\n",
       "  <tbody>\n",
       "    <tr>\n",
       "      <th>18651</th>\n",
       "      <td>Sonoma</td>\n",
       "      <td>060975112</td>\n",
       "      <td>650.48</td>\n",
       "      <td>330.0</td>\n",
       "      <td>320.48</td>\n",
       "      <td>49.27</td>\n",
       "      <td>237.0</td>\n",
       "    </tr>\n",
       "  </tbody>\n",
       "</table>\n",
       "</div>"
      ],
      "text/plain": [
       "       COUNTY SRPREC_KEY  CVAP_TOT20  total_reg  UNREG_EST_COUNT  \\\n",
       "18651  Sonoma  060975112      650.48      330.0           320.48   \n",
       "\n",
       "       UNREG_EST_PERCENT  g20201103_voted_all  \n",
       "18651              49.27                237.0  "
      ]
     },
     "metadata": {},
     "output_type": "display_data"
    }
   ],
   "source": [
    "sonoma_precs['UNREG_EST_PERCENT'] =round((1-(sonoma_precs['total_reg']/sonoma_precs['CVAP_TOT20']))*100,2)\n",
    "sonoma_precs = sonoma_precs.fillna(0)\n",
    "prec_sc_order = list(sonoma_precs.columns)\n",
    "prec_sc_order.remove('UNREG_EST_PERCENT')\n",
    "prec_sc_order.remove('total_reg')\n",
    "prec_sc_order.remove('CVAP_TOT20')\n",
    "prec_sc_order.remove('UNREG_EST_COUNT')\n",
    "prec_sc_order.remove('g20201103_voted_all')\n",
    "prec_sc_order.remove('COUNTY')\n",
    "prec_sc_order.remove('SRPREC_KEY')\n",
    "prec_sc_order.remove('geometry')\n",
    "sonoma_precs['SRPREC_KEY'] = sonoma_precs['SRPREC_KEY'].apply(lambda x: str(x).zfill(9))\n",
    "front_cols = ['COUNTY','SRPREC_KEY','CVAP_TOT20','total_reg','UNREG_EST_COUNT','UNREG_EST_PERCENT','g20201103_voted_all']\n",
    "\n",
    "long_cols = front_cols + prec_sc_order\n",
    "prec_long = sonoma_precs[long_cols]\n",
    "prec_short= sonoma_precs[front_cols]\n",
    "display(prec_long.head(1))\n",
    "display(prec_short.head(1))"
   ]
  },
  {
   "cell_type": "markdown",
   "id": "b61fe8b9-6aa9-45f0-813a-dfda5df0a941",
   "metadata": {},
   "source": [
    "Validate data"
   ]
  },
  {
   "cell_type": "code",
   "execution_count": 9,
   "id": "b63cee29-ab52-4b0a-b138-30348e90c187",
   "metadata": {},
   "outputs": [
    {
     "name": "stdout",
     "output_type": "stream",
     "text": [
      "Column totals are validated!\n"
     ]
    }
   ],
   "source": [
    "non_matching = []\n",
    "for col in list(prec_long.columns):\n",
    "    for b_col in list(joined_block.columns):\n",
    "        if col ==  b_col:\n",
    "            prec_sum = round(prec_long[col].sum())\n",
    "            b_sum = round(joined_block[b_col].sum())\n",
    "            if prec_sum!=b_sum:\n",
    "                print('Totals do not match for ', col)\n",
    "                print('Precinct sum: ', prec_sum)\n",
    "                print('Block sum: ', b_sum)\n",
    "                print('')\n",
    "                non_matching.append(col)\n",
    "if len(non_matching)!=0:\n",
    "    print('These columns are mismatched: ',', '.join(non_matching))\n",
    "else:\n",
    "    print('Column totals are validated!')"
   ]
  },
  {
   "cell_type": "markdown",
   "id": "81124342-e684-450e-bdfc-ce76cf30f203",
   "metadata": {},
   "source": [
    "Extract data"
   ]
  },
  {
   "cell_type": "code",
   "execution_count": 10,
   "id": "d9417cb4-628b-457c-9b94-b4f41ee3f148",
   "metadata": {},
   "outputs": [],
   "source": [
    "prec_short.to_csv('sonoma_county_turnout_reg_short.csv',index=False)\n",
    "prec_long.to_csv('sonoma_county_turnout_reg_long.csv',index=False)"
   ]
  }
 ],
 "metadata": {
  "kernelspec": {
   "display_name": "Python 3 (ipykernel)",
   "language": "python",
   "name": "python3"
  },
  "language_info": {
   "codemirror_mode": {
    "name": "ipython",
    "version": 3
   },
   "file_extension": ".py",
   "mimetype": "text/x-python",
   "name": "python",
   "nbconvert_exporter": "python",
   "pygments_lexer": "ipython3",
   "version": "3.10.5"
  }
 },
 "nbformat": 4,
 "nbformat_minor": 5
}
