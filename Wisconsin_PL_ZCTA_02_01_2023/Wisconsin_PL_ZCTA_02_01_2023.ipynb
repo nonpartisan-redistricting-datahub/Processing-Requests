{
 "cells": [
  {
   "cell_type": "code",
   "execution_count": 1,
   "id": "315afe67-d2d2-4d92-b2fb-0c4e74d704b8",
   "metadata": {},
   "outputs": [],
   "source": [
    "import os\n",
    "import pandas as pd"
   ]
  },
  {
   "cell_type": "markdown",
   "id": "4c5b00f4-335f-4df7-987f-d07fe36cdf20",
   "metadata": {},
   "source": [
    "# Wisconsin_PL_ZCTA_02_01_2023\n",
    "\n",
    "## Background:\n",
    "- We received a request for aggregated Public Law 94-171 data to ZCTA boundaries for Wisconsin\n",
    "\n",
    "## Approach:\n",
    "- Load in ZCTA BAF from the Census and PL data and join together.\n",
    "- Query PL data to the fields listed above and rename.\n",
    "- For blocks where the ZCTA assignment is null, assign 'NO ZCTA'.\n",
    "- Group data by ZCTAs to aggregate block level data to ZCTAs.\n",
    "\n",
    "## Links to datasets used:\n",
    "- [Wisconsin block PL 94-171 2020 from the RDH](https://redistrictingdatahub.org/dataset/wisconsin-block-pl-94171-2020/)\n",
    "- [ZCTA Block Assignment file from the US Census](https://www2.census.gov/geo/docs/maps-data/data/rel2020/zcta520/tab20_zcta520_tabblock20_natl.txt)\n",
    "\n",
    "For a full 'raw-from-source' file, contact info@redistrictingdatahub.org"
   ]
  },
  {
   "cell_type": "markdown",
   "id": "0f7e8455-b5ad-46d1-9bd3-0d607df9b587",
   "metadata": {},
   "source": [
    "Import BAF and clean"
   ]
  },
  {
   "cell_type": "code",
   "execution_count": 2,
   "id": "45abef3c-2408-4f68-858f-6ffed4d07064",
   "metadata": {},
   "outputs": [
    {
     "name": "stderr",
     "output_type": "stream",
     "text": [
      "C:\\Users\\SpencerNelson\\AppData\\Local\\Temp\\ipykernel_24700\\764184753.py:1: DtypeWarning: Columns (2,5,6,7) have mixed types. Specify dtype option on import or set low_memory=False.\n",
      "  baf = pd.read_csv(os.path.join(os.getcwd(),'tab20_zcta520_tabblock20_natl.txt'),delimiter='|')\n"
     ]
    },
    {
     "data": {
      "text/html": [
       "<div>\n",
       "<style scoped>\n",
       "    .dataframe tbody tr th:only-of-type {\n",
       "        vertical-align: middle;\n",
       "    }\n",
       "\n",
       "    .dataframe tbody tr th {\n",
       "        vertical-align: top;\n",
       "    }\n",
       "\n",
       "    .dataframe thead th {\n",
       "        text-align: right;\n",
       "    }\n",
       "</style>\n",
       "<table border=\"1\" class=\"dataframe\">\n",
       "  <thead>\n",
       "    <tr style=\"text-align: right;\">\n",
       "      <th></th>\n",
       "      <th>GEOID20</th>\n",
       "      <th>ZCTA</th>\n",
       "    </tr>\n",
       "  </thead>\n",
       "  <tbody>\n",
       "    <tr>\n",
       "      <th>0</th>\n",
       "      <td>010030101001007</td>\n",
       "      <td>nan</td>\n",
       "    </tr>\n",
       "    <tr>\n",
       "      <th>1</th>\n",
       "      <td>010030101001008</td>\n",
       "      <td>nan</td>\n",
       "    </tr>\n",
       "    <tr>\n",
       "      <th>2</th>\n",
       "      <td>010030101001009</td>\n",
       "      <td>nan</td>\n",
       "    </tr>\n",
       "    <tr>\n",
       "      <th>3</th>\n",
       "      <td>010030101001010</td>\n",
       "      <td>nan</td>\n",
       "    </tr>\n",
       "    <tr>\n",
       "      <th>4</th>\n",
       "      <td>010030101001011</td>\n",
       "      <td>nan</td>\n",
       "    </tr>\n",
       "  </tbody>\n",
       "</table>\n",
       "</div>"
      ],
      "text/plain": [
       "           GEOID20 ZCTA\n",
       "0  010030101001007  nan\n",
       "1  010030101001008  nan\n",
       "2  010030101001009  nan\n",
       "3  010030101001010  nan\n",
       "4  010030101001011  nan"
      ]
     },
     "execution_count": 2,
     "metadata": {},
     "output_type": "execute_result"
    }
   ],
   "source": [
    "baf = pd.read_csv(os.path.join(os.getcwd(),'tab20_zcta520_tabblock20_natl.txt'),delimiter='|')\n",
    "baf['GEOID20'] = baf['GEOID_TABBLOCK_20'].apply(lambda x: str(x).zfill(15))\n",
    "baf['GEOID_ZCTA5_20'].fillna('N/A')\n",
    "baf['ZCTA'] = baf['GEOID_ZCTA5_20'].apply(lambda x: str(x).split('.')[0] if x!='N/A' else str(x))\n",
    "baf = baf[['GEOID20','ZCTA']]\n",
    "baf.head()"
   ]
  },
  {
   "cell_type": "markdown",
   "id": "a08a26e4-d907-4f78-a3ba-15a58ca4fb8c",
   "metadata": {},
   "source": [
    "Query baf to Wisconsin"
   ]
  },
  {
   "cell_type": "code",
   "execution_count": 3,
   "id": "eef8ae99-ab9e-4f95-acd7-52d3f028d8a9",
   "metadata": {},
   "outputs": [
    {
     "data": {
      "text/html": [
       "<div>\n",
       "<style scoped>\n",
       "    .dataframe tbody tr th:only-of-type {\n",
       "        vertical-align: middle;\n",
       "    }\n",
       "\n",
       "    .dataframe tbody tr th {\n",
       "        vertical-align: top;\n",
       "    }\n",
       "\n",
       "    .dataframe thead th {\n",
       "        text-align: right;\n",
       "    }\n",
       "</style>\n",
       "<table border=\"1\" class=\"dataframe\">\n",
       "  <thead>\n",
       "    <tr style=\"text-align: right;\">\n",
       "      <th></th>\n",
       "      <th>GEOID20</th>\n",
       "      <th>ZCTA</th>\n",
       "    </tr>\n",
       "  </thead>\n",
       "  <tbody>\n",
       "    <tr>\n",
       "      <th>0</th>\n",
       "      <td>550039503001001</td>\n",
       "      <td>nan</td>\n",
       "    </tr>\n",
       "    <tr>\n",
       "      <th>1</th>\n",
       "      <td>550039508001000</td>\n",
       "      <td>nan</td>\n",
       "    </tr>\n",
       "    <tr>\n",
       "      <th>2</th>\n",
       "      <td>550039508001002</td>\n",
       "      <td>nan</td>\n",
       "    </tr>\n",
       "    <tr>\n",
       "      <th>3</th>\n",
       "      <td>550039508001003</td>\n",
       "      <td>nan</td>\n",
       "    </tr>\n",
       "    <tr>\n",
       "      <th>4</th>\n",
       "      <td>550039508001008</td>\n",
       "      <td>nan</td>\n",
       "    </tr>\n",
       "  </tbody>\n",
       "</table>\n",
       "</div>"
      ],
      "text/plain": [
       "           GEOID20 ZCTA\n",
       "0  550039503001001  nan\n",
       "1  550039508001000  nan\n",
       "2  550039508001002  nan\n",
       "3  550039508001003  nan\n",
       "4  550039508001008  nan"
      ]
     },
     "execution_count": 3,
     "metadata": {},
     "output_type": "execute_result"
    }
   ],
   "source": [
    "wi_baf = baf[baf['GEOID20'].str.startswith('55')]\n",
    "wi_baf.reset_index(inplace=True, drop=True)\n",
    "wi_baf['ZCTA'].fillna('N/A')\n",
    "wi_baf.head()"
   ]
  },
  {
   "cell_type": "markdown",
   "id": "b7e58d8e-bb74-4b72-b3e1-8789246261d2",
   "metadata": {},
   "source": [
    "Read in PL data and and query to interested columns and rename"
   ]
  },
  {
   "cell_type": "code",
   "execution_count": 4,
   "id": "dc09b008-edea-44d5-851a-05706eabd8d4",
   "metadata": {},
   "outputs": [
    {
     "name": "stderr",
     "output_type": "stream",
     "text": [
      "C:\\Users\\SpencerNelson\\AppData\\Local\\Temp\\ipykernel_24700\\2997009105.py:1: DtypeWarning: Columns (29,31,35,37,38) have mixed types. Specify dtype option on import or set low_memory=False.\n",
      "  wi_pl = pd.read_csv(os.path.join(os.getcwd(),'wi_pl2020_b.csv'))\n"
     ]
    },
    {
     "data": {
      "text/html": [
       "<div>\n",
       "<style scoped>\n",
       "    .dataframe tbody tr th:only-of-type {\n",
       "        vertical-align: middle;\n",
       "    }\n",
       "\n",
       "    .dataframe tbody tr th {\n",
       "        vertical-align: top;\n",
       "    }\n",
       "\n",
       "    .dataframe thead th {\n",
       "        text-align: right;\n",
       "    }\n",
       "</style>\n",
       "<table border=\"1\" class=\"dataframe\">\n",
       "  <thead>\n",
       "    <tr style=\"text-align: right;\">\n",
       "      <th></th>\n",
       "      <th>GEOID20</th>\n",
       "      <th>TOT_POP20</th>\n",
       "      <th>HSP_POP20</th>\n",
       "      <th>WHT_POP20</th>\n",
       "      <th>BLK_POP20</th>\n",
       "      <th>AIA_POP20</th>\n",
       "      <th>ASN_POP20</th>\n",
       "      <th>HPI_POP20</th>\n",
       "      <th>OTH_POP20</th>\n",
       "      <th>2OM_POP20</th>\n",
       "      <th>TOT_VAP20</th>\n",
       "      <th>HSP_VAP20</th>\n",
       "      <th>WHT_VAP20</th>\n",
       "      <th>BLK_VAP20</th>\n",
       "      <th>AIA_VAP20</th>\n",
       "      <th>ASN_VAP20</th>\n",
       "      <th>HPI_VAP20</th>\n",
       "      <th>OTH_VAP20</th>\n",
       "      <th>2OM_VAP20</th>\n",
       "    </tr>\n",
       "  </thead>\n",
       "  <tbody>\n",
       "    <tr>\n",
       "      <th>0</th>\n",
       "      <td>550019501001000</td>\n",
       "      <td>5</td>\n",
       "      <td>0</td>\n",
       "      <td>5</td>\n",
       "      <td>0</td>\n",
       "      <td>0</td>\n",
       "      <td>0</td>\n",
       "      <td>0</td>\n",
       "      <td>0</td>\n",
       "      <td>0</td>\n",
       "      <td>5</td>\n",
       "      <td>0</td>\n",
       "      <td>5</td>\n",
       "      <td>0</td>\n",
       "      <td>0</td>\n",
       "      <td>0</td>\n",
       "      <td>0</td>\n",
       "      <td>0</td>\n",
       "      <td>0</td>\n",
       "    </tr>\n",
       "    <tr>\n",
       "      <th>1</th>\n",
       "      <td>550019501001001</td>\n",
       "      <td>6</td>\n",
       "      <td>0</td>\n",
       "      <td>5</td>\n",
       "      <td>0</td>\n",
       "      <td>0</td>\n",
       "      <td>0</td>\n",
       "      <td>0</td>\n",
       "      <td>0</td>\n",
       "      <td>1</td>\n",
       "      <td>6</td>\n",
       "      <td>0</td>\n",
       "      <td>5</td>\n",
       "      <td>0</td>\n",
       "      <td>0</td>\n",
       "      <td>0</td>\n",
       "      <td>0</td>\n",
       "      <td>0</td>\n",
       "      <td>1</td>\n",
       "    </tr>\n",
       "    <tr>\n",
       "      <th>2</th>\n",
       "      <td>550019501001002</td>\n",
       "      <td>12</td>\n",
       "      <td>0</td>\n",
       "      <td>12</td>\n",
       "      <td>0</td>\n",
       "      <td>0</td>\n",
       "      <td>0</td>\n",
       "      <td>0</td>\n",
       "      <td>0</td>\n",
       "      <td>0</td>\n",
       "      <td>9</td>\n",
       "      <td>0</td>\n",
       "      <td>9</td>\n",
       "      <td>0</td>\n",
       "      <td>0</td>\n",
       "      <td>0</td>\n",
       "      <td>0</td>\n",
       "      <td>0</td>\n",
       "      <td>0</td>\n",
       "    </tr>\n",
       "    <tr>\n",
       "      <th>3</th>\n",
       "      <td>550019501001003</td>\n",
       "      <td>0</td>\n",
       "      <td>0</td>\n",
       "      <td>0</td>\n",
       "      <td>0</td>\n",
       "      <td>0</td>\n",
       "      <td>0</td>\n",
       "      <td>0</td>\n",
       "      <td>0</td>\n",
       "      <td>0</td>\n",
       "      <td>0</td>\n",
       "      <td>0</td>\n",
       "      <td>0</td>\n",
       "      <td>0</td>\n",
       "      <td>0</td>\n",
       "      <td>0</td>\n",
       "      <td>0</td>\n",
       "      <td>0</td>\n",
       "      <td>0</td>\n",
       "    </tr>\n",
       "    <tr>\n",
       "      <th>4</th>\n",
       "      <td>550019501001004</td>\n",
       "      <td>0</td>\n",
       "      <td>0</td>\n",
       "      <td>0</td>\n",
       "      <td>0</td>\n",
       "      <td>0</td>\n",
       "      <td>0</td>\n",
       "      <td>0</td>\n",
       "      <td>0</td>\n",
       "      <td>0</td>\n",
       "      <td>0</td>\n",
       "      <td>0</td>\n",
       "      <td>0</td>\n",
       "      <td>0</td>\n",
       "      <td>0</td>\n",
       "      <td>0</td>\n",
       "      <td>0</td>\n",
       "      <td>0</td>\n",
       "      <td>0</td>\n",
       "    </tr>\n",
       "  </tbody>\n",
       "</table>\n",
       "</div>"
      ],
      "text/plain": [
       "           GEOID20  TOT_POP20  HSP_POP20  WHT_POP20  BLK_POP20  AIA_POP20  \\\n",
       "0  550019501001000          5          0          5          0          0   \n",
       "1  550019501001001          6          0          5          0          0   \n",
       "2  550019501001002         12          0         12          0          0   \n",
       "3  550019501001003          0          0          0          0          0   \n",
       "4  550019501001004          0          0          0          0          0   \n",
       "\n",
       "   ASN_POP20  HPI_POP20  OTH_POP20  2OM_POP20  TOT_VAP20  HSP_VAP20  \\\n",
       "0          0          0          0          0          5          0   \n",
       "1          0          0          0          1          6          0   \n",
       "2          0          0          0          0          9          0   \n",
       "3          0          0          0          0          0          0   \n",
       "4          0          0          0          0          0          0   \n",
       "\n",
       "   WHT_VAP20  BLK_VAP20  AIA_VAP20  ASN_VAP20  HPI_VAP20  OTH_VAP20  2OM_VAP20  \n",
       "0          5          0          0          0          0          0          0  \n",
       "1          5          0          0          0          0          0          1  \n",
       "2          9          0          0          0          0          0          0  \n",
       "3          0          0          0          0          0          0          0  \n",
       "4          0          0          0          0          0          0          0  "
      ]
     },
     "execution_count": 4,
     "metadata": {},
     "output_type": "execute_result"
    }
   ],
   "source": [
    "wi_pl = pd.read_csv(os.path.join(os.getcwd(),'wi_pl2020_b.csv'))\n",
    "wi_pl['GEOID20'] = wi_pl['GEOCODE'].astype(str)\n",
    "rename_dict = {'P0040001': 'TOT_VAP20', 'P0040002': 'HSP_VAP20', 'P0040005': 'WHT_VAP20', 'P0040006': 'BLK_VAP20', 'P0040007': 'AIA_VAP20', 'P0040008': 'ASN_VAP20', 'P0040009': 'HPI_VAP20', 'P0040010': 'OTH_VAP20', 'P0040011': '2OM_VAP20', 'P0020001': 'TOT_POP20', 'P0020002': 'HSP_POP20', 'P0020005': 'WHT_POP20', 'P0020006': 'BLK_POP20', 'P0020007': 'AIA_POP20', 'P0020008': 'ASN_POP20', 'P0020009': 'HPI_POP20', 'P0020010': 'OTH_POP20', 'P0020011': '2OM_POP20'}\n",
    "wi_pl.rename(columns=rename_dict,inplace=True)\n",
    "wi_pl = wi_pl[['GEOID20','TOT_POP20', 'HSP_POP20', 'WHT_POP20', 'BLK_POP20', 'AIA_POP20', 'ASN_POP20', 'HPI_POP20', 'OTH_POP20', '2OM_POP20', 'TOT_VAP20', 'HSP_VAP20', 'WHT_VAP20', 'BLK_VAP20', 'AIA_VAP20', 'ASN_VAP20', 'HPI_VAP20', 'OTH_VAP20', '2OM_VAP20']]\n",
    "wi_pl.head()"
   ]
  },
  {
   "cell_type": "markdown",
   "id": "2e0f2d89-e1cf-4bed-ab83-50fb0c0be3fe",
   "metadata": {},
   "source": [
    "Merge PL data and BAF and confirm they all join"
   ]
  },
  {
   "cell_type": "code",
   "execution_count": 5,
   "id": "2c9bdf61-7486-41c5-a4d0-364bf70f0786",
   "metadata": {},
   "outputs": [
    {
     "name": "stdout",
     "output_type": "stream",
     "text": [
      "0\n"
     ]
    }
   ],
   "source": [
    "wi = pd.merge(wi_baf,wi_pl,on='GEOID20',how='outer',indicator=True)\n",
    "print(len(wi[wi['_merge']!='both']))\n",
    "wi['ZCTA'] = wi['ZCTA'].apply(lambda x: 'NO ZCTA' if str(x) == 'nan' else str(x))"
   ]
  },
  {
   "cell_type": "code",
   "execution_count": 6,
   "id": "3ef98cc1-86ca-4de0-9535-34a45b985b1e",
   "metadata": {},
   "outputs": [
    {
     "ename": "SyntaxError",
     "evalue": "invalid syntax (160542364.py, line 1)",
     "output_type": "error",
     "traceback": [
      "\u001b[1;36m  Input \u001b[1;32mIn [6]\u001b[1;36m\u001b[0m\n\u001b[1;33m    Group by ZCTA\u001b[0m\n\u001b[1;37m          ^\u001b[0m\n\u001b[1;31mSyntaxError\u001b[0m\u001b[1;31m:\u001b[0m invalid syntax\n"
     ]
    }
   ],
   "source": [
    "Group by ZCTA"
   ]
  },
  {
   "cell_type": "code",
   "execution_count": null,
   "id": "999f5102-0991-43b9-bac9-1097109ed8e8",
   "metadata": {},
   "outputs": [],
   "source": [
    "zcta = wi.groupby('ZCTA').sum()\n",
    "zcta.reset_index(inplace=True,drop=False)\n",
    "zcta.head()"
   ]
  },
  {
   "cell_type": "markdown",
   "id": "24f6e49d-27ac-4aa9-a8d1-cf715a195eca",
   "metadata": {},
   "source": [
    "Extract data"
   ]
  },
  {
   "cell_type": "code",
   "execution_count": null,
   "id": "437c3e79-2788-476b-b259-e64478db4c7e",
   "metadata": {},
   "outputs": [],
   "source": [
    "zcta.to_csv('./wi_zcta_demographics.csv',index=False)"
   ]
  }
 ],
 "metadata": {
  "kernelspec": {
   "display_name": "Python 3 (ipykernel)",
   "language": "python",
   "name": "python3"
  },
  "language_info": {
   "codemirror_mode": {
    "name": "ipython",
    "version": 3
   },
   "file_extension": ".py",
   "mimetype": "text/x-python",
   "name": "python",
   "nbconvert_exporter": "python",
   "pygments_lexer": "ipython3",
   "version": "3.10.5"
  }
 },
 "nbformat": 4,
 "nbformat_minor": 5
}
