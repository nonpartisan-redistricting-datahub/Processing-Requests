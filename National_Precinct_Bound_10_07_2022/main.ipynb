{
 "cells": [
  {
   "cell_type": "markdown",
   "id": "041a13d7-8532-4694-a13f-29b55ee7cdab",
   "metadata": {},
   "source": [
    "# 2020 National Precinct Boundary Shapefile 10_07_2022\n",
    "\n",
    "## Background:\n",
    "- We received a data request asking for a 2020 national precinct shapefile.\n",
    "\n",
    "## Approach:\n",
    "- For every state load in precinct boundary and election result shapefile originally from VEST hosted on the RDH website.\n",
    "- There are VTD estimate and precinct/county files for Kentucky and New Jersey. For this dataset, we opted to use the latter.\n"
    "- Select a unique identifier, column \"UNIQUE_ID\" for every state.\n",
    "- In instances where a unique column (besides an election result or geometry field) did not exist, a unique column was created using a combination of the two columns with the first and second closest columns to being a unique column (e.g. The dataset has 200 entries, and four non-election/geometry columns with unique counts of 175, 180, and 125. The two columns to create a unique column would be the columns with counts 180 and 175). If the UNIQUE_ID column is still not unique, a unique number (based on count/location in dataframe) is added to ensure uniqueness within the state. Additionally, the state abbreviation is appended to the front of the UNIQUE_ID column to ensure uniqueness, nationally.\n",
    "- Use the pandas concat() function to join all states together with columns \"STATEABRV\", \"UNIQUE_ID\", \"geometry\".\n",
    "- Check the file\n",
    "- Export the file   \n",
    "\n",
    "## Links to Download Raw Files\n",
    "- State precinct boundary and election results files available on [RDH website on every state page](https://redistrictingdatahub.org/data/download-data/), and from [VEST's Harvard Dataverse](https://dataverse.harvard.edu/dataset.xhtml?persistentId=doi:10.7910/DVN/K7760H)\n",
    "- [National BAF for 2022 Districts](https://redistrictingdatahub.org/dataset/national-block-assignment-file-for-2022-state-legislative-and-congressional-districts/)\n",
    "    \n",
    "## Processing Steps\n",
    "- See [Github notebook](https://github.com/nonpartisan-redistricting-datahub/Processing-Requests/blob/main/National_Precinct_Bound_10_07_2022/main.ipynb)\n",
    "\n",
    "#### Note: A full \"raw-from-source\" file is also available upon request. Please email info@redistrictingdatahub.org\n"
   ]
  },
  {
   "cell_type": "code",
   "execution_count": 1,
   "id": "8f7d733d-e080-4ce2-bf48-6ad462a43e3a",
   "metadata": {},
   "outputs": [],
   "source": [
    "import pandas as pd\n",
    "import geopandas as gp\n",
    "import os\n",
    "\n",
    "state_abrvs = ['AK', 'AL', 'AR', 'AZ', 'CA', 'CO', 'CT', 'DE', 'FL', 'GA',\n",
    "           'HI', 'IA', 'ID', 'IL', 'IN', 'KS', 'KY', 'LA', 'MA', 'MD', 'ME',\n",
    "           'MI', 'MN', 'MO', 'MS', 'MT', 'NC', 'ND', 'NE', 'NH', 'NJ', 'NM',\n",
    "           'NV', 'NY', 'OH', 'OK', 'OR', 'PA', 'RI', 'SC', 'SD', 'TN', 'TX',\n",
    "           'UT', 'VA', 'VT', 'WA', 'WI', 'WV', 'WY']\n",
    "\n",
    "\n",
    "def get_unique_col(precincts,election_cols):\n",
    "    elec_copy = election_cols\n",
    "    unique_id = False\n",
    "    election_cols.append('geometry')\n",
    "    for i in list(precincts.columns):\n",
    "        if len(precincts[i].unique())==len(precincts):\n",
    "            if i not in elec_copy:\n",
    "                unique_id = i\n",
    "                #print('Unique ID is: ' ,unique_id)\n",
    "                break\n",
    "    if unique_id == False:\n",
    "        dict_of_lens ={}\n",
    "        for i in precincts.columns:\n",
    "            if i not in elec_copy:\n",
    "                dict_of_lens.update({i:len(precincts[i].unique())})\n",
    "        max1_len=0\n",
    "        max2_len=0\n",
    "        max1=False\n",
    "        max2=False\n",
    "        for k,v in dict_of_lens.items():\n",
    "            if v>max1_len:\n",
    "                max2_len = max1_len\n",
    "                max2 = max1\n",
    "                max1_len = v\n",
    "                max1 = k\n",
    "\n",
    "            elif v>max2_len:\n",
    "                max2_len = v\n",
    "                max2 = k\n",
    "            else:\n",
    "                continue\n",
    "        unique_id = str(max1)+'_'+str(max2)\n",
    "        #print('Unique ID is: ', unique_id)\n",
    "        precincts[unique_id] = precincts.apply(lambda x: str(x[max1])+ ' - '+str(x[max2]),axis=1)\n",
    "    if len(precincts[unique_id].unique())!=len(precincts):\n",
    "        precincts['counter'] = range(len(precincts))\n",
    "        precincts[unique_id] = precincts.apply(lambda x: str(x[unique_id]) + ' - ' + str(x['counter']),axis=1)\n",
    "    precincts['UNIQUE_ID'] = precincts[unique_id]\n",
    "    #return unique_id\n",
    "    #TODO: rename unique id column to name field \"UNIQUE_ID\" to return gdf, then concat on UNIQUE_ID\n",
    "    return precincts\n",
    "\n",
    "\n",
    "def get_election_cols(precincts):\n",
    "    election_columns = []\n",
    "    for i in list(precincts.columns):\n",
    "        if i.startswith('G20'):\n",
    "            election_columns.append(i)\n",
    "    #print('Election columns: ', election_columns)\n",
    "    return election_columns\n",
    "\n",
    "\n",
    "def concat_precincts(state_abrvs):\n",
    "    gdf_len = []\n",
    "    gdf_concat = pd.DataFrame()\n",
    "    for state in state_abrvs:\n",
    "        gdf = gp.read_file(f'./prec_files/{state.lower()}_vest_20/{state.lower()}_vest_20.shp')\n",
    "        gdf_len.append(gdf.shape[0])\n",
    "        gdf['STATEABRV'] = state\n",
    "        \n",
    "        gdf = get_unique_col(gdf, get_election_cols(gdf))\n",
    "        gdf['UNIQUE_ID'] = gdf['STATEABRV'] + '-' + gdf['UNIQUE_ID']\n",
    "        gdf = gdf[['STATEABRV', 'UNIQUE_ID', 'geometry']].to_crs('EPSG:4326')\n",
    "        if gdf['UNIQUE_ID'].nunique()!= gdf.shape[0]:\n",
    "            print(state, \" unique_ids: \", gdf['UNIQUE_ID'].nunique(), \" gdf shape: \", gdf.shape[0])\n",
    "        gdf_concat = pd.concat([gdf_concat, gdf], sort = False)\n",
    "\n",
    "    print('sum gdf shapes:', sum(gdf_len), '\\nconcat shape:', gdf_concat.shape[0], '\\nunique_id', gdf_concat['UNIQUE_ID'].nunique())\n",
    "    \n",
    "    return gdf_concat"
   ]
  },
  {
   "cell_type": "code",
   "execution_count": 2,
   "id": "a2589983-ec69-4c59-8a7b-0eee433966ce",
   "metadata": {},
   "outputs": [
    {
     "name": "stdout",
     "output_type": "stream",
     "text": [
      "sum gdf shapes: 169907 \n",
      "concat shape: 169907 \n",
      "unique_id 169907\n"
     ]
    }
   ],
   "source": [
    "nat_prec = concat_precincts(state_abrvs)"
   ]
  },
  {
   "cell_type": "code",
   "execution_count": 3,
   "id": "176ab565-59a3-40c3-aeca-43ffd4d8e5fa",
   "metadata": {},
   "outputs": [
    {
     "data": {
      "text/plain": [
       "<Geographic 2D CRS: EPSG:4326>\n",
       "Name: WGS 84\n",
       "Axis Info [ellipsoidal]:\n",
       "- Lat[north]: Geodetic latitude (degree)\n",
       "- Lon[east]: Geodetic longitude (degree)\n",
       "Area of Use:\n",
       "- name: World.\n",
       "- bounds: (-180.0, -90.0, 180.0, 90.0)\n",
       "Datum: World Geodetic System 1984 ensemble\n",
       "- Ellipsoid: WGS 84\n",
       "- Prime Meridian: Greenwich"
      ]
     },
     "execution_count": 3,
     "metadata": {},
     "output_type": "execute_result"
    }
   ],
   "source": [
    "nat_prec.crs"
   ]
  },
  {
   "cell_type": "code",
   "execution_count": 4,
   "id": "a6280a62-57ae-4eef-a532-8f11cf1e2d46",
   "metadata": {},
   "outputs": [
    {
     "data": {
      "text/plain": [
       "<AxesSubplot:>"
      ]
     },
     "execution_count": 4,
     "metadata": {},
     "output_type": "execute_result"
    },
    {
     "data": {
      "image/png": "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\n",
      "text/plain": [
       "<Figure size 432x288 with 1 Axes>"
      ]
     },
     "metadata": {
      "needs_background": "light"
     },
     "output_type": "display_data"
    }
   ],
   "source": [
    "nat_prec.plot()"
   ]
  },
  {
   "cell_type": "code",
   "execution_count": 5,
   "id": "2af24a16-496f-469d-b55e-b75cb4971c10",
   "metadata": {},
   "outputs": [
    {
     "data": {
      "text/plain": [
       "50"
      ]
     },
     "execution_count": 5,
     "metadata": {},
     "output_type": "execute_result"
    }
   ],
   "source": [
    "nat_prec['STATEABRV'].nunique()"
   ]
  },
  {
   "cell_type": "code",
   "execution_count": 6,
   "id": "035c23ac-fdbb-45f0-bb88-08e44d14156c",
   "metadata": {},
   "outputs": [],
   "source": [
    "os.mkdir(\"./national_2020_prec_bounds_20221007/\")\n",
    "nat_prec.to_file(\"./national_2020_prec_bounds_20221007/national_2020_prec_bounds_20221007.shp\")"
   ]
  },
  {
   "cell_type": "code",
   "execution_count": null,
   "id": "cd4c2176-febb-4bfd-a08e-a395588fec02",
   "metadata": {},
   "outputs": [],
   "source": []
  }
 ],
 "metadata": {
  "kernelspec": {
   "display_name": "pdv_env",
   "language": "python",
   "name": "pdv_env"
  },
  "language_info": {
   "codemirror_mode": {
    "name": "ipython",
    "version": 3
   },
   "file_extension": ".py",
   "mimetype": "text/x-python",
   "name": "python",
   "nbconvert_exporter": "python",
   "pygments_lexer": "ipython3",
   "version": "3.9.4"
  }
 },
 "nbformat": 4,
 "nbformat_minor": 5
}
