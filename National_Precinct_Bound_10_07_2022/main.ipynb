{
 "cells": [
  {
   "cell_type": "markdown",
   "id": "041a13d7-8532-4694-a13f-29b55ee7cdab",
   "metadata": {},
   "source": [
    "# 2020 National Precinct Boundary Shapefile 10_07_2022 - updated 11_09_2022\n",
    "\n",
    "## Background:\n",
    "- We received a data request asking for a 2020 national precinct shapefile.\n",
    "- VEST updated their geometries for KS and FL at the beginning of November, so RDH has modified accordingly\n",
    "\n",
    "## Approach:\n",
    "- For every state load in precinct boundary and election result shapefile originally from VEST hosted on the RDH website.\n",
    "    - There are VTD estimate and precinct/county files for Kentucky and New Jersey. For this dataset, we opted to use the latter.\n",
    "    - Note: Washington, D.C. is included in this file\n",
    "- Select a unique identifier, column \"UNIQUE_ID\" for every state.\n",
    "    - In instances where a unique column (besides an election result or geometry field) did not exist, a unique column was created using a combination of the two columns with the first and second closest columns to being a unique column (e.g. The dataset has 200 entries, and four non-election/geometry columns with unique counts of 175, 180, and 125. The two columns to create a unique column would be the columns with counts 180 and 175). If the UNIQUE_ID column is still not unique, a unique number (based on count/location in dataframe) is added to ensure uniqueness within the state. Additionally, the state abbreviation is appended to the front of the UNIQUE_ID column to ensure uniqueness, nationally.\n",
    "- Use the pandas concat() function to join all states together with columns \"STATEABRV\", \"UNIQUE_ID\",'G20PREDBID', 'G20PRERTRU', 'G20PRELJOR', \"geometry\".\n",
    "    - Note: Biden, Trump and Jorgensen were the three candidates with election results in every state and were included for that reason.\n",
    "- Check the file\n",
    "- Export the file   \n",
    "\n",
    "## Links to Download Raw Files\n",
    "- State precinct boundary and election results files available on [RDH website on every state page](https://redistrictingdatahub.org/data/download-data/), and from [VEST's Harvard Dataverse](https://dataverse.harvard.edu/dataset.xhtml?persistentId=doi:10.7910/DVN/K7760H)\n",
    "- [National BAF for 2022 Districts](https://redistrictingdatahub.org/dataset/national-block-assignment-file-for-2022-state-legislative-and-congressional-districts/)\n",
    "    \n",
    "## Processing Steps\n",
    "- See [Github notebook](https://github.com/nonpartisan-redistricting-datahub/Processing-Requests/blob/main/National_Precinct_Bound_10_07_2022/main.ipynb)\n",
    "\n",
    "#### Note: A full \"raw-from-source\" file is also available upon request. Please email info@redistrictingdatahub.org\n"
   ]
  },
  {
   "cell_type": "code",
   "execution_count": 1,
   "id": "8f7d733d-e080-4ce2-bf48-6ad462a43e3a",
   "metadata": {},
   "outputs": [],
   "source": [
    "import pandas as pd\n",
    "import geopandas as gp\n",
    "from s3_path import *\n",
    "import os\n",
    "import boto3\n",
    "import io\n",
    "\n",
    "state_abrvs = ['AK', 'AL', 'AR', 'AZ', 'CA', 'CO', 'CT', 'DC', 'DE', 'FL', 'GA',\n",
    "           'HI', 'IA', 'ID', 'IL', 'IN', 'KS', 'KY', 'LA', 'MA', 'MD', 'ME',\n",
    "           'MI', 'MN', 'MO', 'MS', 'MT', 'NC', 'ND', 'NE', 'NH', 'NJ', 'NM',\n",
    "           'NV', 'NY', 'OH', 'OK', 'OR', 'PA', 'RI', 'SC', 'SD', 'TN', 'TX',\n",
    "           'UT', 'VA', 'VT', 'WA', 'WI', 'WV', 'WY']\n",
    "\n",
    "\n",
    "def get_unique_col(precincts,election_cols):\n",
    "    elec_copy = election_cols\n",
    "    unique_id = False\n",
    "    election_cols.append('geometry')\n",
    "    for i in list(precincts.columns):\n",
    "        if len(precincts[i].unique())==len(precincts):\n",
    "            if i not in elec_copy:\n",
    "                unique_id = i\n",
    "                #print('Unique ID is: ' ,unique_id)\n",
    "                break\n",
    "    if unique_id == False:\n",
    "        dict_of_lens ={}\n",
    "        for i in precincts.columns:\n",
    "            if i not in elec_copy:\n",
    "                dict_of_lens.update({i:len(precincts[i].unique())})\n",
    "        max1_len=0\n",
    "        max2_len=0\n",
    "        max1=False\n",
    "        max2=False\n",
    "        for k,v in dict_of_lens.items():\n",
    "            if v>max1_len:\n",
    "                max2_len = max1_len\n",
    "                max2 = max1\n",
    "                max1_len = v\n",
    "                max1 = k\n",
    "\n",
    "            elif v>max2_len:\n",
    "                max2_len = v\n",
    "                max2 = k\n",
    "            else:\n",
    "                continue\n",
    "        unique_id = str(max1)+'_'+str(max2)\n",
    "        precincts[unique_id] = precincts.apply(lambda x: str(x[max1])+ ' - '+str(x[max2]),axis=1)\n",
    "    if len(precincts[unique_id].unique())!=len(precincts):\n",
    "        precincts['counter'] = range(len(precincts))\n",
    "        precincts[unique_id] = precincts.apply(lambda x: str(x[unique_id]) + ' - ' + str(x['counter']),axis=1)\n",
    "    precincts['UNIQUE_ID'] = precincts[unique_id]\n",
    "    return precincts\n",
    "\n",
    "\n",
    "def get_election_cols(precincts):\n",
    "    election_columns = []\n",
    "    for i in list(precincts.columns):\n",
    "        if i.startswith('G20PRE'):\n",
    "            election_columns.append(i)\n",
    "    return election_columns\n",
    "\n",
    "\n",
    "def concat_precincts(state_abrvs):\n",
    "    gdf_len = []\n",
    "    gdf_concat = pd.DataFrame()\n",
    "    for state in state_abrvs:\n",
    "        gdf = gp.read_file(f'zip+{path + state.lower()}_vest_20.zip')\n",
    "        gdf_len.append(gdf.shape[0])\n",
    "        gdf['STATEABRV'] = state\n",
    "        \n",
    "        gdf = get_unique_col(gdf, get_election_cols(gdf))\n",
    "        gdf['UNIQUE_ID'] = gdf['STATEABRV'] + '-' + gdf['UNIQUE_ID']\n",
    "        election_cols = get_election_cols(gdf)\n",
    "        gdf = gdf[['STATEABRV', 'UNIQUE_ID', 'G20PREDBID', 'G20PRERTRU', 'G20PRELJOR', 'geometry']].to_crs('EPSG:4326')\n",
    "        if gdf['UNIQUE_ID'].nunique()!= gdf.shape[0]:\n",
    "            print(state, \" unique_ids: \", gdf['UNIQUE_ID'].nunique(), \" gdf shape: \", gdf.shape[0])\n",
    "        gdf_concat = pd.concat([gdf_concat, gdf], sort = False)\n",
    "\n",
    "    print('sum gdf shapes:', sum(gdf_len), '\\nconcat shape:', gdf_concat.shape[0], '\\nunique_id', gdf_concat['UNIQUE_ID'].nunique())\n",
    "    \n",
    "    return gdf_concat"
   ]
  },
  {
   "cell_type": "code",
   "execution_count": 2,
   "id": "a2589983-ec69-4c59-8a7b-0eee433966ce",
   "metadata": {},
   "outputs": [
    {
     "name": "stdout",
     "output_type": "stream",
     "text": [
      "sum gdf shapes: 170043 \n",
      "concat shape: 170043 \n",
      "unique_id 170043\n"
     ]
    }
   ],
   "source": [
    "nat_prec = concat_precincts(state_abrvs)"
   ]
  },
  {
   "cell_type": "code",
   "execution_count": 3,
   "id": "176ab565-59a3-40c3-aeca-43ffd4d8e5fa",
   "metadata": {},
   "outputs": [
    {
     "data": {
      "text/plain": [
       "<Geographic 2D CRS: EPSG:4326>\n",
       "Name: WGS 84\n",
       "Axis Info [ellipsoidal]:\n",
       "- Lat[north]: Geodetic latitude (degree)\n",
       "- Lon[east]: Geodetic longitude (degree)\n",
       "Area of Use:\n",
       "- name: World.\n",
       "- bounds: (-180.0, -90.0, 180.0, 90.0)\n",
       "Datum: World Geodetic System 1984 ensemble\n",
       "- Ellipsoid: WGS 84\n",
       "- Prime Meridian: Greenwich"
      ]
     },
     "execution_count": 3,
     "metadata": {},
     "output_type": "execute_result"
    }
   ],
   "source": [
    "nat_prec.crs"
   ]
  },
  {
   "cell_type": "code",
   "execution_count": 4,
   "id": "1880b64b-13fe-438e-9b69-d5a3147a7dfb",
   "metadata": {},
   "outputs": [
    {
     "data": {
      "text/html": [
       "<div>\n",
       "<style scoped>\n",
       "    .dataframe tbody tr th:only-of-type {\n",
       "        vertical-align: middle;\n",
       "    }\n",
       "\n",
       "    .dataframe tbody tr th {\n",
       "        vertical-align: top;\n",
       "    }\n",
       "\n",
       "    .dataframe thead th {\n",
       "        text-align: right;\n",
       "    }\n",
       "</style>\n",
       "<table border=\"1\" class=\"dataframe\">\n",
       "  <thead>\n",
       "    <tr style=\"text-align: right;\">\n",
       "      <th></th>\n",
       "      <th>STATEABRV</th>\n",
       "      <th>UNIQUE_ID</th>\n",
       "      <th>G20PREDBID</th>\n",
       "      <th>G20PRERTRU</th>\n",
       "      <th>G20PRELJOR</th>\n",
       "      <th>geometry</th>\n",
       "    </tr>\n",
       "  </thead>\n",
       "  <tbody>\n",
       "    <tr>\n",
       "      <th>0</th>\n",
       "      <td>AK</td>\n",
       "      <td>AK-11-075</td>\n",
       "      <td>434</td>\n",
       "      <td>761</td>\n",
       "      <td>46</td>\n",
       "      <td>POLYGON ((-149.13365 61.61026, -149.13361 61.6...</td>\n",
       "    </tr>\n",
       "    <tr>\n",
       "      <th>1</th>\n",
       "      <td>AK</td>\n",
       "      <td>AK-12-220</td>\n",
       "      <td>644</td>\n",
       "      <td>1776</td>\n",
       "      <td>57</td>\n",
       "      <td>POLYGON ((-148.52103 61.62682, -148.52020 61.6...</td>\n",
       "    </tr>\n",
       "    <tr>\n",
       "      <th>2</th>\n",
       "      <td>AK</td>\n",
       "      <td>AK-10-055</td>\n",
       "      <td>174</td>\n",
       "      <td>655</td>\n",
       "      <td>39</td>\n",
       "      <td>POLYGON ((-149.33012 61.61391, -149.33229 61.6...</td>\n",
       "    </tr>\n",
       "    <tr>\n",
       "      <th>3</th>\n",
       "      <td>AK</td>\n",
       "      <td>AK-15-300</td>\n",
       "      <td>416</td>\n",
       "      <td>695</td>\n",
       "      <td>80</td>\n",
       "      <td>POLYGON ((-149.93126 61.25090, -149.92104 61.2...</td>\n",
       "    </tr>\n",
       "    <tr>\n",
       "      <th>4</th>\n",
       "      <td>AK</td>\n",
       "      <td>AK-28-110</td>\n",
       "      <td>921</td>\n",
       "      <td>1185</td>\n",
       "      <td>39</td>\n",
       "      <td>POLYGON ((-149.83082 61.07593, -149.83055 61.0...</td>\n",
       "    </tr>\n",
       "  </tbody>\n",
       "</table>\n",
       "</div>"
      ],
      "text/plain": [
       "  STATEABRV  UNIQUE_ID  G20PREDBID  G20PRERTRU  G20PRELJOR  \\\n",
       "0        AK  AK-11-075         434         761          46   \n",
       "1        AK  AK-12-220         644        1776          57   \n",
       "2        AK  AK-10-055         174         655          39   \n",
       "3        AK  AK-15-300         416         695          80   \n",
       "4        AK  AK-28-110         921        1185          39   \n",
       "\n",
       "                                            geometry  \n",
       "0  POLYGON ((-149.13365 61.61026, -149.13361 61.6...  \n",
       "1  POLYGON ((-148.52103 61.62682, -148.52020 61.6...  \n",
       "2  POLYGON ((-149.33012 61.61391, -149.33229 61.6...  \n",
       "3  POLYGON ((-149.93126 61.25090, -149.92104 61.2...  \n",
       "4  POLYGON ((-149.83082 61.07593, -149.83055 61.0...  "
      ]
     },
     "execution_count": 4,
     "metadata": {},
     "output_type": "execute_result"
    }
   ],
   "source": [
    "nat_prec.head()"
   ]
  },
  {
   "cell_type": "code",
   "execution_count": 5,
   "id": "3d0a5997-f30a-438f-8fa4-41f4de74ba9a",
   "metadata": {},
   "outputs": [
    {
     "data": {
      "text/plain": [
       "51"
      ]
     },
     "execution_count": 5,
     "metadata": {},
     "output_type": "execute_result"
    }
   ],
   "source": [
    "nat_prec['STATEABRV'].nunique()"
   ]
  },
  {
   "cell_type": "code",
   "execution_count": 7,
   "id": "1c7bbd32-b4a9-46cc-9dec-95189b6c5f60",
   "metadata": {},
   "outputs": [],
   "source": [
    "nat_prec['geometry'] = nat_prec['geometry'].buffer(0)"
   ]
  },
  {
   "cell_type": "code",
   "execution_count": 8,
   "id": "51947f4d-0736-403c-b19b-46487772c88d",
   "metadata": {},
   "outputs": [
    {
     "data": {
      "text/html": [
       "<div>\n",
       "<style scoped>\n",
       "    .dataframe tbody tr th:only-of-type {\n",
       "        vertical-align: middle;\n",
       "    }\n",
       "\n",
       "    .dataframe tbody tr th {\n",
       "        vertical-align: top;\n",
       "    }\n",
       "\n",
       "    .dataframe thead th {\n",
       "        text-align: right;\n",
       "    }\n",
       "</style>\n",
       "<table border=\"1\" class=\"dataframe\">\n",
       "  <thead>\n",
       "    <tr style=\"text-align: right;\">\n",
       "      <th></th>\n",
       "      <th>STATEABRV</th>\n",
       "      <th>UNIQUE_ID</th>\n",
       "      <th>G20PREDBID</th>\n",
       "      <th>G20PRERTRU</th>\n",
       "      <th>G20PRELJOR</th>\n",
       "      <th>geometry</th>\n",
       "    </tr>\n",
       "  </thead>\n",
       "  <tbody>\n",
       "    <tr>\n",
       "      <th>0</th>\n",
       "      <td>AK</td>\n",
       "      <td>AK-11-075</td>\n",
       "      <td>434</td>\n",
       "      <td>761</td>\n",
       "      <td>46</td>\n",
       "      <td>POLYGON ((-149.13365 61.61026, -149.13361 61.6...</td>\n",
       "    </tr>\n",
       "    <tr>\n",
       "      <th>1</th>\n",
       "      <td>AK</td>\n",
       "      <td>AK-12-220</td>\n",
       "      <td>644</td>\n",
       "      <td>1776</td>\n",
       "      <td>57</td>\n",
       "      <td>POLYGON ((-148.52103 61.62682, -148.52020 61.6...</td>\n",
       "    </tr>\n",
       "    <tr>\n",
       "      <th>2</th>\n",
       "      <td>AK</td>\n",
       "      <td>AK-10-055</td>\n",
       "      <td>174</td>\n",
       "      <td>655</td>\n",
       "      <td>39</td>\n",
       "      <td>POLYGON ((-149.33012 61.61391, -149.33229 61.6...</td>\n",
       "    </tr>\n",
       "    <tr>\n",
       "      <th>3</th>\n",
       "      <td>AK</td>\n",
       "      <td>AK-15-300</td>\n",
       "      <td>416</td>\n",
       "      <td>695</td>\n",
       "      <td>80</td>\n",
       "      <td>POLYGON ((-149.93126 61.25090, -149.92104 61.2...</td>\n",
       "    </tr>\n",
       "    <tr>\n",
       "      <th>4</th>\n",
       "      <td>AK</td>\n",
       "      <td>AK-28-110</td>\n",
       "      <td>921</td>\n",
       "      <td>1185</td>\n",
       "      <td>39</td>\n",
       "      <td>POLYGON ((-149.83082 61.07593, -149.83055 61.0...</td>\n",
       "    </tr>\n",
       "  </tbody>\n",
       "</table>\n",
       "</div>"
      ],
      "text/plain": [
       "  STATEABRV  UNIQUE_ID  G20PREDBID  G20PRERTRU  G20PRELJOR  \\\n",
       "0        AK  AK-11-075         434         761          46   \n",
       "1        AK  AK-12-220         644        1776          57   \n",
       "2        AK  AK-10-055         174         655          39   \n",
       "3        AK  AK-15-300         416         695          80   \n",
       "4        AK  AK-28-110         921        1185          39   \n",
       "\n",
       "                                            geometry  \n",
       "0  POLYGON ((-149.13365 61.61026, -149.13361 61.6...  \n",
       "1  POLYGON ((-148.52103 61.62682, -148.52020 61.6...  \n",
       "2  POLYGON ((-149.33012 61.61391, -149.33229 61.6...  \n",
       "3  POLYGON ((-149.93126 61.25090, -149.92104 61.2...  \n",
       "4  POLYGON ((-149.83082 61.07593, -149.83055 61.0...  "
      ]
     },
     "execution_count": 8,
     "metadata": {},
     "output_type": "execute_result"
    }
   ],
   "source": [
    "nat_prec.head()"
   ]
  },
  {
   "cell_type": "code",
   "execution_count": 9,
   "id": "0577631d-54dd-4e72-8d11-0d63e9d05949",
   "metadata": {},
   "outputs": [
    {
     "data": {
      "text/plain": [
       "<AxesSubplot:>"
      ]
     },
     "execution_count": 9,
     "metadata": {},
     "output_type": "execute_result"
    },
    {
     "data": {
      "image/png": "[encoded data removed]",
      "text/plain": [
       "<Figure size 432x288 with 1 Axes>"
      ]
     },
     "metadata": {
      "needs_background": "light"
     },
     "output_type": "display_data"
    }
   ],
   "source": [
    "nat_prec.plot()"
   ]
  },
  {
   "cell_type": "code",
   "execution_count": 10,
   "id": "035c23ac-fdbb-45f0-bb88-08e44d14156c",
   "metadata": {},
   "outputs": [],
   "source": [
    "os.mkdir(\"./national_2020_prec_bounds/\")\n",
    "nat_prec.to_file(\"./national_2020_prec_bounds/national_2020_prec_bounds.shp\")"
   ]
  },
  {
   "cell_type": "code",
   "execution_count": null,
   "id": "cd4c2176-febb-4bfd-a08e-a395588fec02",
   "metadata": {},
   "outputs": [],
   "source": []
  }
 ],
 "metadata": {
  "kernelspec": {
   "display_name": "pdv_env",
   "language": "python",
   "name": "pdv_env"
  },
  "language_info": {
   "codemirror_mode": {
    "name": "ipython",
    "version": 3
   },
   "file_extension": ".py",
   "mimetype": "text/x-python",
   "name": "python",
   "nbconvert_exporter": "python",
   "pygments_lexer": "ipython3",
   "version": "3.9.4"
  }
 },
 "nbformat": 4,
 "nbformat_minor": 5
}
