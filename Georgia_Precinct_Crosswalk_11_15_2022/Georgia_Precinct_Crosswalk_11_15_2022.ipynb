{
 "cells": [
  {
   "cell_type": "code",
   "execution_count": 1,
   "id": "71db734e",
   "metadata": {},
   "outputs": [],
   "source": [
    "import pandas as pd\n",
    "import geopandas as gp\n",
    "import numpy as np"
   ]
  },
  {
   "cell_type": "markdown",
   "id": "dee5a66d",
   "metadata": {},
   "source": [
    "# Georiga 2018 to 2020 Precinct Crosswalks\n",
    "\n",
    "Using VAP mod (total population minus adult incarcerated population) to generate ratios where needed\n",
    "\n",
    "\n",
    "## Background:\n",
    "- Received a request for Georiga precinct crosswalks for any years we had available from 2018 onwards\n",
    "- As of November 16, 2022, we only have Georgia precinct data available for 2018 and 2020, so these are the two years we used\n",
    "\n",
    "## Approach:\n",
    "- Download block-level disaggregated 2018 and 2020 Georgia precinct elections data\n",
    "- Groupby 2018 precinct and track the different 2020 precinct assignments for all the blocks assigned to a given 2018 precinct.\n",
    "- In cases where there are multiple 2020 precinct assignments for blocks with the same 2018 precinct assignment, create a ratio using VAP mod (total population minus adult incarcerated population)\n",
    "- Remove instances where VAP mod ratio is zero.\n",
    "- Export to the users desired format of a three-column dataframe with the following columns:\n",
    "    - Precinct ID 2018\n",
    "    - Precinct ID 2020\n",
    "    - Population ratio\n",
    "- Note: Precinct ID 2018 column was cleaned\n",
    "\n",
    "## Links to datasets used:\n",
    "[2020 General Election Results Disaggregated to 2020 Census Blocks](https://redistrictingdatahub.org/dataset/georgia-2020-general-election-results-disaggregated-to-the-2020-block/)\n",
    "\n",
    "[2018 General Election Results Disaggregated to 2020 Census Blocks](https://redistrictingdatahub.org/dataset/georgia-2018-general-election-results-disaggregated-to-the-2020-block/)\n",
    "\n",
    "[VEST 2018 Precinct Boundaries and Election Results](https://redistrictingdatahub.org/dataset/vest-2018-georgia-precinct-and-election-results/)  \n",
    "    - Note, this was used to clean the PRECINCTID column in the 2018 disaggregated file\n",
    "\n",
    "\n",
    "For a full 'raw-from-source' file, contact info@redistrictingdatahub.org\n"
   ]
  },
  {
   "cell_type": "code",
   "execution_count": 2,
   "id": "0f1cc467",
   "metadata": {},
   "outputs": [],
   "source": [
    "# Load VEST file\n",
    "vest_ga_18 = gp.read_file(\"./raw-from-source/ga_vest_18/ga_vest_18.shp\")\n",
    "\n",
    "# Load in the disaggregated files\n",
    "ga_20_block = gp.read_file(\"./raw-from-source/ga_2020_gen_2020_blocks/ga_2020_gen_2020_blocks.shp\")\n",
    "ga_18_block = gp.read_file(\"./raw-from-source/ga_2018_gen_2020_blocks/ga_2018_gen_2020_blocks.shp\")"
   ]
  },
  {
   "cell_type": "code",
   "execution_count": 3,
   "id": "1a31c461",
   "metadata": {},
   "outputs": [],
   "source": [
    "# Get the duplicate \"DISTRICT\" values for VEST's 2018 file\n",
    "ser = vest_ga_18[\"DISTRICT\"].value_counts()\n",
    "dup_ids_list = ser[ser>1].index\n",
    "\n",
    "# Take a look, noticing that PRECINCT_N is unique across these\n",
    "vest_ga_18[vest_ga_18[\"DISTRICT\"].isin(dup_ids_list)]\n",
    "\n",
    "# Define a new UNIQUE_ID column, where the value \n",
    "vest_ga_18[\"UNIQUE_ID\"] = np.where(vest_ga_18[\"DISTRICT\"].isin(dup_ids_list), vest_ga_18[\"DISTRICT\"]+\"-\"+vest_ga_18[\"PRECINCT_N\"], vest_ga_18[\"DISTRICT\"])\n",
    "\n",
    "# Print out the value counts for this UNIQUE_ID column\n",
    "vest_ga_18[\"UNIQUE_ID\"].value_counts(dropna=False)\n",
    "\n",
    "# Define a column to match what the PRECINCTID in the disaggregated file is\n",
    "vest_ga_18[\"OTHER_ID\"] = vest_ga_18[\"DISTRICT\"] +\" - \"+ vest_ga_18[\"DISTRICT\"] + \" - \" + vest_ga_18.index.astype(str)"
   ]
  },
  {
   "cell_type": "code",
   "execution_count": 4,
   "id": "8abccbcf",
   "metadata": {},
   "outputs": [
    {
     "data": {
      "text/plain": [
       "['215FTBEN3 - 215FTBEN3 - 1482',\n",
       " '215FTBEN2 - 215FTBEN2 - 1581',\n",
       " '215FTBEN4 - 215FTBEN4 - 1582',\n",
       " '215FTBEN1 - 215FTBEN1 - 1584',\n",
       " '215ZZZZZZ - 215ZZZZZZ - 1589',\n",
       " '051XFTPU - 051XFTPU - 1712',\n",
       " '029FTSTEW - 029FTSTEW - 1795']"
      ]
     },
     "execution_count": 4,
     "metadata": {},
     "output_type": "execute_result"
    }
   ],
   "source": [
    "[i for i in vest_ga_18[\"OTHER_ID\"].unique() if i not in list(ga_18_block[\"PRECINCTID\"].unique())]"
   ]
  },
  {
   "cell_type": "code",
   "execution_count": 5,
   "id": "56789906",
   "metadata": {},
   "outputs": [],
   "source": [
    "# The way the column was defined above doesn't exactly \n",
    "other_id_updates = {'215FTBEN3 - 215FTBEN3 - 1482':'215FTBEN3 - None - 1482',\n",
    " '215FTBEN2 - 215FTBEN2 - 1581':'215FTBEN2 - None - 1581',\n",
    " '215FTBEN4 - 215FTBEN4 - 1582':'215FTBEN4 - None - 1582',\n",
    " '215FTBEN1 - 215FTBEN1 - 1584':'215FTBEN1 - None - 1584',\n",
    " '215ZZZZZZ - 215ZZZZZZ - 1589':'215ZZZZZZ - None - 1589',\n",
    " '051XFTPU - 051XFTPU - 1712':'051XFTPU - None - 1712',\n",
    " '029FTSTEW - 029FTSTEW - 1795':'029FTSTEW - None - 1795'}\n",
    "\n",
    "# Update the \"OTHER_ID\" column\n",
    "vest_ga_18[\"OTHER_ID\"] = vest_ga_18[\"OTHER_ID\"].map(other_id_updates).fillna(vest_ga_18[\"OTHER_ID\"])\n",
    "\n",
    "# Create a dictionary to map from the old name to the new one\n",
    "id_update_dict = dict(zip(vest_ga_18[\"OTHER_ID\"], vest_ga_18[\"UNIQUE_ID\"]))"
   ]
  },
  {
   "cell_type": "code",
   "execution_count": null,
   "id": "021cba05",
   "metadata": {},
   "outputs": [],
   "source": [
    "# Join the 2018 and 2020 block-level files\n",
    "combined = pd.merge(ga_18_block, ga_20_block, how = \"outer\", on = \"GEOID20\", indicator = True)\n",
    "\n",
    "# Create two different aggregations\n",
    "\n",
    "# This creates sets following an aggregation by 2018 precinct\n",
    "agg_test_set = combined.groupby([\"PRECINCTID_x\"]).agg(set)\n",
    "agg_test_set.reset_index(inplace = True, drop = False)\n",
    "\n",
    "# This creates a sum following an aggregation by 2018 precinct\n",
    "agg_test_sum_x = combined.groupby([\"PRECINCTID_x\"]).agg(sum)\n",
    "agg_test_sum_x.reset_index(inplace = True, drop = False)"
   ]
  },
  {
   "cell_type": "code",
   "execution_count": null,
   "id": "0d932c14",
   "metadata": {},
   "outputs": [],
   "source": [
    "# Flag instances where there is more than one 2020 precinct associated with a 2018 precinct\n",
    "agg_test_set[\"2020_prec_split\"] = agg_test_set[\"PRECINCTID_y\"].apply(lambda x: len(x) > 1, True, False)\n",
    "\n",
    "agg_test_set[agg_test_set[\"2020_prec_split\"]==False][[\"PRECINCTID_x\",\"PRECINCTID_y\"]]\n",
    "\n",
    "agg_test_set[agg_test_set[\"2020_prec_split\"]==True][[\"PRECINCTID_x\",\"PRECINCTID_y\"]]\n",
    "\n",
    "# Split the dataframe into 2018 precincts that match perfectly into 2020 precincts and those that don't\n",
    "splits = agg_test_set[agg_test_set[\"2020_prec_split\"]==True]\n",
    "no_splits = agg_test_set[agg_test_set[\"2020_prec_split\"]==False]"
   ]
  },
  {
   "cell_type": "code",
   "execution_count": null,
   "id": "9f587287",
   "metadata": {},
   "outputs": [],
   "source": [
    "def create_ratios(prec_early, prec_later_set, precision = 3):\n",
    "    '''\n",
    "    Function to create a population ratio using VAP mod\n",
    "    '''\n",
    "    \n",
    "    # Returning a dictionary\n",
    "    ratio_dict = {}\n",
    "    \n",
    "    # The denominator is the total VAP_MOD for that 2018 precinct\n",
    "    denom = agg_test_sum_x.loc[agg_test_sum_x[\"PRECINCTID_x\"]==prec_early,\"VAP_MOD_x\"].values[0]\n",
    "    \n",
    "    # Confirm that the denominator equals the equivalent value in the combined dataframe\n",
    "    denom_check = sum(combined.loc[(combined[\"PRECINCTID_y\"].isin(prec_later_set))&(combined[\"PRECINCTID_x\"]==prec_early),\"VAP_MOD_x\"].values)\n",
    "    \n",
    "    assert(denom == denom_check)\n",
    "    \n",
    "    # Iterate over the later precincts that it is split by\n",
    "    for val in prec_later_set:\n",
    "        \n",
    "        # Get the VAP mod for the blocks that are mapped to that later precinct\n",
    "        num = sum(combined.loc[(combined[\"PRECINCTID_y\"]==val)&(combined[\"PRECINCTID_x\"]==prec_early),\"VAP_MOD_x\"].values)\n",
    "        \n",
    "        # if the VAP mod is not zero, create a function, rounded to three decimal places\n",
    "        if num != 0:\n",
    "            ratio_dict[val] = round(num/denom, precision)\n",
    "    \n",
    "    # Return the dictionary\n",
    "    return ratio_dict"
   ]
  },
  {
   "cell_type": "code",
   "execution_count": null,
   "id": "ed4c93e8",
   "metadata": {},
   "outputs": [],
   "source": [
    "# When there aren't splits, just create a ratio of 1 (faster than calling the function)\n",
    "no_splits[\"crosswalk_dict\"] = no_splits.apply(lambda x: {list(x[\"PRECINCTID_y\"])[0]:1}, axis = 1)\n",
    "\n",
    "# Where there are splits, call the above function\n",
    "splits[\"crosswalk_dict\"] = splits.apply(lambda x: create_ratios(x[\"PRECINCTID_x\"], x[\"PRECINCTID_y\"]), axis = 1)\n",
    "\n",
    "# Combine the two together\n",
    "recombined = pd.concat([splits, no_splits])"
   ]
  },
  {
   "cell_type": "code",
   "execution_count": null,
   "id": "0687bbea",
   "metadata": {},
   "outputs": [],
   "source": [
    "# Rename the columns\n",
    "recombined.rename(columns = {\"PRECINCTID_x\":\"2018 Precinct ID\"}, inplace = True)\n",
    "recombined.rename(columns = {\"crosswalk_dict\":\"Ratios of 2020 Precincts\"}, inplace = True)\n",
    "recombined.reset_index(drop = True, inplace = True)\n",
    "\n",
    "# Drop \"N/A\" values\n",
    "recombined = recombined[recombined[\"2018 Precinct ID\"]!=\"N/A\"]"
   ]
  },
  {
   "cell_type": "code",
   "execution_count": null,
   "id": "3f18dc11",
   "metadata": {},
   "outputs": [],
   "source": [
    "recombined[[\"2018 Precinct ID\", \"Ratios of 2020 Precincts\"]]"
   ]
  },
  {
   "cell_type": "code",
   "execution_count": null,
   "id": "9404ab10",
   "metadata": {},
   "outputs": [],
   "source": [
    "# Reformat so that each row is a precinct relationship with a population value\n",
    "new_df_dict = {}\n",
    "\n",
    "new_df_dict[\"Precinct ID 2018\"] = []\n",
    "new_df_dict[\"Precinct ID 2020\"] = []\n",
    "new_df_dict[\"Population ratio\"] = []\n",
    "\n",
    "for index, val in recombined[[\"2018 Precinct ID\", \"Ratios of 2020 Precincts\"]].iterrows():\n",
    "    prec_2018 = val[\"2018 Precinct ID\"]\n",
    "    for prec_2020 in val[\"Ratios of 2020 Precincts\"]:\n",
    "        new_df_dict[\"Precinct ID 2018\"].append(prec_2018)\n",
    "        new_df_dict[\"Precinct ID 2020\"].append(prec_2020)   \n",
    "        new_df_dict[\"Population ratio\"].append(val[\"Ratios of 2020 Precincts\"][prec_2020])  \n",
    "\n",
    "df = pd.DataFrame(new_df_dict)\n",
    "df[\"Precinct ID 2018\"] = df[\"Precinct ID 2018\"].map(id_update_dict).fillna(\"NO VALUE\")\n",
    "df[df[\"Precinct ID 2018\"]==\"NO VALUE\"]"
   ]
  },
  {
   "cell_type": "code",
   "execution_count": null,
   "id": "a629dd18",
   "metadata": {},
   "outputs": [],
   "source": [
    "# Take a look\n",
    "df\n",
    "\n",
    "# Sanity check, population ratio should sum to 2658 (the number of precincts)\n",
    "sum(df[\"Population ratio\"])"
   ]
  },
  {
   "cell_type": "code",
   "execution_count": null,
   "id": "a8adea41",
   "metadata": {},
   "outputs": [],
   "source": [
    "# Export to csv\n",
    "df.to_csv(\"./Georgia_2018_2020_Precinct_Crosswalk.csv\", index = False)"
   ]
  }
 ],
 "metadata": {
  "kernelspec": {
   "display_name": "Python 3 (ipykernel)",
   "language": "python",
   "name": "python3"
  },
  "language_info": {
   "codemirror_mode": {
    "name": "ipython",
    "version": 3
   },
   "file_extension": ".py",
   "mimetype": "text/x-python",
   "name": "python",
   "nbconvert_exporter": "python",
   "pygments_lexer": "ipython3",
   "version": "3.8.13"
  }
 },
 "nbformat": 4,
 "nbformat_minor": 5
}
