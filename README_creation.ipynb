{
 "cells": [
  {
   "cell_type": "code",
   "execution_count": 1,
   "id": "65f740d4",
   "metadata": {},
   "outputs": [],
   "source": [
    "import pandas as pd\n",
    "import os"
   ]
  },
  {
   "cell_type": "code",
   "execution_count": 2,
   "id": "36f70919",
   "metadata": {},
   "outputs": [],
   "source": [
    "### Create README\n",
    "fields_dict = {}\n",
    "\n",
    "fields_dict['COMM_##']='Commissioner District Identifier'\n",
    "fields_dict['PREC_##']='Precinct Identifier'\n",
    "fields_dict['TOT_VAP_##'] = 'Total Voting Age Population'\n",
    "fields_dict['NH_WHT_VAP_##'] = 'Non-Hispanic White Voting Age Population'\n",
    "fields_dict['NH_ASN_VAP_##'] = 'Non-Hispanic Asian Voting Age Population'\n",
    "fields_dict['NH_BLK_VAP_##'] = 'Non-Hispanic Black Voting Age Population'\n",
    "fields_dict['NH_OTH_VAP_##'] = 'Non-Hispanic Other Voting Age Population'\n",
    "fields_dict['HISP_VAP_##'] = 'Hispanic Voting Age Population'\n",
    "fields_dict['NH_WHT_VAP_##_pct'] = 'Non-Hispanic White Voting Age Population Percent'\n",
    "fields_dict['NH_ASN_VAP_##_pct'] = 'Non-Hispanic Asian Voting Age Population Percent'\n",
    "fields_dict['NH_BLK_VAP_##_pct'] = 'Non-Hispanic Black Voting Age Population Percent'\n",
    "fields_dict['NH_OTH_VAP_##_pct'] = 'Non-Hispanic Other Voting Age Population Percent'\n",
    "fields_dict['HISP_VAP_##_pct'] = 'Hispanic Voting Age Population Percent'\n",
    "\n",
    "\n",
    "title = \"Fort Bend County Texas 2012 and 2024 Commissioner Precincts (Districts) and Voting Districts (Precincts) with Demographic Data\"\n",
    "retrieval_date = \"05/20/25\"\n",
    "github_link = \"https://github.com/nonpartisan-redistricting-datahub/Processing-Requests\"\n",
    "file_folder = \"./fort_bend_tx_12_24_precs_comm_dist_demos/\"\n",
    "source = \"Fort Bend County TX Government, Texas Capitol Data Portal and U.S. Census\""
   ]
  },
  {
   "cell_type": "code",
   "execution_count": 3,
   "id": "6f958d13",
   "metadata": {},
   "outputs": [],
   "source": [
    "def full_readme_text(title, retrieval_date, source, fields_dict, github_link):\n",
    "\n",
    "#First section of README\n",
    "    readme_p1 = '''{title}\\n\n",
    "## RDH Date Retrieval\n",
    "{retrieval_date}\n",
    "\n",
    "## Sources\n",
    "{source}\n",
    "\n",
    "## Fields:\n",
    "'''.format(title = title, source = source, retrieval_date = retrieval_date)\n",
    "\n",
    "#Second section of README\n",
    "    fields_table = pd.DataFrame.from_dict(fields_dict.items())\n",
    "    fields_table.columns = [\"Field Name\", \"Description\"]\n",
    "    readme_p2 = fields_table.to_string(formatters={'Description':'{{:<{}s}}'.format(fields_table['Description'].str.len().max()).format, 'Field Name':'{{:<{}s}}'.format(fields_table['Field Name'].str.len().max()).format}, index=False, justify = \"left\")\n",
    "\n",
    "#Third section of README\n",
    "    readme_p3 = '''\\n\n",
    "## Processing Steps\n",
    "Visit the RDH GitHub and the processing script for this code [here]({github_link})\n",
    "\n",
    "Please direct questions related to processing this dataset to info@redistrictingdatahub.org.\n",
    "'''.format(github_link=github_link)\n",
    "    \n",
    "    full_readme = str(readme_p1)+str(readme_p2)+str(readme_p3)\n",
    "    return full_readme\n",
    "\n"
   ]
  },
  {
   "cell_type": "code",
   "execution_count": 4,
   "id": "f2098b89",
   "metadata": {},
   "outputs": [],
   "source": [
    "if not os.path.exists(file_folder):\n",
    "    os.mkdir(file_folder)\n",
    "\n",
    "with open(file_folder+\"README.txt\", 'w') as tf:\n",
    "        tf.write(full_readme_text(title, retrieval_date, source, fields_dict, github_link))"
   ]
  },
  {
   "cell_type": "code",
   "execution_count": 6,
   "id": "fe6206d8",
   "metadata": {},
   "outputs": [],
   "source": [
    "import shutil\n",
    "import os"
   ]
  },
  {
   "cell_type": "code",
   "execution_count": 7,
   "id": "d961eebc",
   "metadata": {},
   "outputs": [
    {
     "data": {
      "text/plain": [
       "'/Users/peterhorton/Documents/RDH/Support/Processing-Requests/Fort_Bend_TX_04_2025/fort_bend_tx_12_24_precs_comm_dist_demos.zip'"
      ]
     },
     "execution_count": 7,
     "metadata": {},
     "output_type": "execute_result"
    }
   ],
   "source": [
    "shutil.make_archive(\"./fort_bend_tx_12_24_precs_comm_dist_demos\",\"zip\",\"./fort_bend_tx_12_24_precs_comm_dist_demos\")"
   ]
  },
  {
   "cell_type": "code",
   "execution_count": 8,
   "id": "26574062",
   "metadata": {},
   "outputs": [
    {
     "name": "stdout",
     "output_type": "stream",
     "text": [
      "comm_12_demos_10.csv\n",
      "prec_12_demos_10.csv\n",
      "prec_24_demos_20.csv\n",
      "README.txt\n",
      "comm_24_demos_20.csv\n"
     ]
    },
    {
     "ename": "FileNotFoundError",
     "evalue": "[Errno 2] No such file or directory: './fort_bend_tx_12_24_precs_comm_dist_demos/.DS_Store'",
     "output_type": "error",
     "traceback": [
      "\u001b[31m---------------------------------------------------------------------------\u001b[39m",
      "\u001b[31mFileNotFoundError\u001b[39m                         Traceback (most recent call last)",
      "\u001b[36mCell\u001b[39m\u001b[36m \u001b[39m\u001b[32mIn[8]\u001b[39m\u001b[32m, line 4\u001b[39m\n\u001b[32m      1\u001b[39m \u001b[38;5;28;01mfor\u001b[39;00m file \u001b[38;5;129;01min\u001b[39;00m os.listdir(\u001b[33m\"\u001b[39m\u001b[33m./fort_bend_tx_12_24_precs_comm_dist_demos\u001b[39m\u001b[33m\"\u001b[39m):\n\u001b[32m      2\u001b[39m     \u001b[38;5;28mprint\u001b[39m(file)\n\u001b[32m----> \u001b[39m\u001b[32m4\u001b[39m os.remove(\u001b[33m\"\u001b[39m\u001b[33m./fort_bend_tx_12_24_precs_comm_dist_demos/.DS_Store\u001b[39m\u001b[33m\"\u001b[39m)\n",
      "\u001b[31mFileNotFoundError\u001b[39m: [Errno 2] No such file or directory: './fort_bend_tx_12_24_precs_comm_dist_demos/.DS_Store'"
     ]
    }
   ],
   "source": [
    "for file in os.listdir(\"./fort_bend_tx_12_24_precs_comm_dist_demos\"):\n",
    "    print(file)\n",
    "    \n",
    "os.remove(\"./fort_bend_tx_12_24_precs_comm_dist_demos/.DS_Store\")"
   ]
  },
  {
   "cell_type": "code",
   "execution_count": null,
   "id": "baaa114d",
   "metadata": {},
   "outputs": [],
   "source": []
  }
 ],
 "metadata": {
  "kernelspec": {
   "display_name": "Python 3 (ipykernel)",
   "language": "python",
   "name": "python3"
  },
  "language_info": {
   "codemirror_mode": {
    "name": "ipython",
    "version": 3
   },
   "file_extension": ".py",
   "mimetype": "text/x-python",
   "name": "python",
   "nbconvert_exporter": "python",
   "pygments_lexer": "ipython3",
   "version": "3.11.11"
  }
 },
 "nbformat": 4,
 "nbformat_minor": 5
}
