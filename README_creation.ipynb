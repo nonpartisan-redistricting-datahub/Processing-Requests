{
 "cells": [
  {
   "cell_type": "code",
   "execution_count": 1,
   "id": "65f740d4",
   "metadata": {},
   "outputs": [],
   "source": [
    "import pandas as pd\n",
    "import os"
   ]
  },
  {
   "cell_type": "code",
   "execution_count": null,
   "id": "6f277765",
   "metadata": {},
   "outputs": [],
   "source": [
    "[['UNIQUE_ID','Ward',\n",
    "       'Precinct', 'Cochran ', 'Jeter', 'Smith', 'TOT_POP', 'TOT_VAP',\n",
    "       'HIS_VAP', 'WHI_VAP_NH', 'APB_VAP_NH', 'OTH_VAP_NH' ]]"
   ]
  },
  {
   "cell_type": "code",
   "execution_count": 7,
   "id": "36f70919",
   "metadata": {},
   "outputs": [],
   "source": [
    "### Create README\n",
    "fields_dict = {}\n",
    "\n",
    "fields_dict['UNIQUE_ID']='Unique ID for each precinct'\n",
    "fields_dict['Ward']='Ward Number'\n",
    "fields_dict['Precinct']='Precinct Number'\n",
    "fields_dict['Cochran']='Craton Cochran (REP)'\n",
    "fields_dict['Jeter'] = 'Lee A. \"Gunny\" Jeter, Sr. (DEM)'\n",
    "fields_dict['Smith'] = '\"Chris\" Smith (REP)'\n",
    "fields_dict['TOT_POP'] = 'Total Population'\n",
    "fields_dict['TOT_VAP'] = 'Total Voting-Age Population'\n",
    "fields_dict['HIS_VAP'] = 'Hispanic Voting-Age Population'\n",
    "fields_dict['WHI_VAP_NH'] = 'White Voting-Age Population (Non-Hispanic)'\n",
    "fields_dict['APB_VAP_NH'] = 'Any-Part Black Voting-Age Population (Non-Hispanic)'\n",
    "fields_dict['OTH_VAP_NH'] = 'Remaining Voting-Age Population (Non-Hispanic)'\n",
    "\n",
    "\n",
    "\n",
    "\n",
    "title = \"Bossier City Louisiana Councilmen at Large Election (March 29, 2025) Results and Demographics\"\n",
    "retrieval_date = \"06/16/25\"\n",
    "github_link = \"https://github.com/nonpartisan-redistricting-datahub/Processing-Requests\"\n",
    "file_folder = \"./bossier_city_la_city_council_03_25/\"\n",
    "source = \"Louisiana Secretary of State and U.S. Census\""
   ]
  },
  {
   "cell_type": "code",
   "execution_count": 8,
   "id": "6f958d13",
   "metadata": {},
   "outputs": [],
   "source": [
    "def full_readme_text(title, retrieval_date, source, fields_dict, github_link):\n",
    "\n",
    "#First section of README\n",
    "    readme_p1 = '''{title}\\n\n",
    "## RDH Date Retrieval\n",
    "{retrieval_date}\n",
    "\n",
    "## Sources\n",
    "{source}\n",
    "\n",
    "## Fields:\n",
    "'''.format(title = title, source = source, retrieval_date = retrieval_date)\n",
    "\n",
    "#Second section of README\n",
    "    fields_table = pd.DataFrame.from_dict(fields_dict.items())\n",
    "    fields_table.columns = [\"Field Name\", \"Description\"]\n",
    "    readme_p2 = fields_table.to_string(formatters={'Description':'{{:<{}s}}'.format(fields_table['Description'].str.len().max()).format, 'Field Name':'{{:<{}s}}'.format(fields_table['Field Name'].str.len().max()).format}, index=False, justify = \"left\")\n",
    "\n",
    "#Third section of README\n",
    "    readme_p3 = '''\\n\n",
    "## Processing Steps\n",
    "Visit the RDH GitHub and the processing script for this code [here]({github_link})\n",
    "\n",
    "Please direct questions related to processing this dataset to info@redistrictingdatahub.org.\n",
    "'''.format(github_link=github_link)\n",
    "    \n",
    "    full_readme = str(readme_p1)+str(readme_p2)+str(readme_p3)\n",
    "    return full_readme\n",
    "\n"
   ]
  },
  {
   "cell_type": "code",
   "execution_count": 9,
   "id": "f2098b89",
   "metadata": {},
   "outputs": [],
   "source": [
    "if not os.path.exists(file_folder):\n",
    "    os.mkdir(file_folder)\n",
    "\n",
    "with open(file_folder+\"README.txt\", 'w') as tf:\n",
    "        tf.write(full_readme_text(title, retrieval_date, source, fields_dict, github_link))"
   ]
  },
  {
   "cell_type": "code",
   "execution_count": 10,
   "id": "fe6206d8",
   "metadata": {},
   "outputs": [],
   "source": [
    "import shutil\n",
    "import os"
   ]
  },
  {
   "cell_type": "code",
   "execution_count": 17,
   "id": "d961eebc",
   "metadata": {},
   "outputs": [
    {
     "data": {
      "text/plain": [
       "'/Users/peterhorton/Documents/RDH/Support/Processing-Requests/Bossier_Parish_06_17_24/bossier_city_la_city_council_03_25_prec_demos.zip'"
      ]
     },
     "execution_count": 17,
     "metadata": {},
     "output_type": "execute_result"
    }
   ],
   "source": [
    "shutil.make_archive(\"./bossier_city_la_city_council_03_25_prec_demos\",\"zip\",\"./bossier_city_la_city_council_03_25_prec_demos\")"
   ]
  },
  {
   "cell_type": "code",
   "execution_count": 15,
   "id": "26574062",
   "metadata": {},
   "outputs": [
    {
     "name": "stdout",
     "output_type": "stream",
     "text": [
      "bossier_city_03_29_25_cc.csv\n",
      "README.txt\n"
     ]
    },
    {
     "ename": "FileNotFoundError",
     "evalue": "[Errno 2] No such file or directory: './bossier_city_la_city_council_03_25/.DS_Store'",
     "output_type": "error",
     "traceback": [
      "\u001b[31m---------------------------------------------------------------------------\u001b[39m",
      "\u001b[31mFileNotFoundError\u001b[39m                         Traceback (most recent call last)",
      "\u001b[36mCell\u001b[39m\u001b[36m \u001b[39m\u001b[32mIn[15]\u001b[39m\u001b[32m, line 4\u001b[39m\n\u001b[32m      1\u001b[39m \u001b[38;5;28;01mfor\u001b[39;00m file \u001b[38;5;129;01min\u001b[39;00m os.listdir(\u001b[33m\"\u001b[39m\u001b[33m./bossier_city_la_city_council_03_25\u001b[39m\u001b[33m\"\u001b[39m):\n\u001b[32m      2\u001b[39m     \u001b[38;5;28mprint\u001b[39m(file)\n\u001b[32m----> \u001b[39m\u001b[32m4\u001b[39m os.remove(\u001b[33m\"\u001b[39m\u001b[33m./bossier_city_la_city_council_03_25/.DS_Store\u001b[39m\u001b[33m\"\u001b[39m)\n",
      "\u001b[31mFileNotFoundError\u001b[39m: [Errno 2] No such file or directory: './bossier_city_la_city_council_03_25/.DS_Store'"
     ]
    }
   ],
   "source": [
    "for file in os.listdir(\"./bossier_city_la_city_council_03_25_prec_demos\"):\n",
    "    print(file)\n",
    "    \n",
    "os.remove(\"./bossier_city_la_city_council_03_25_prec_demos/.DS_Store\")"
   ]
  },
  {
   "cell_type": "code",
   "execution_count": null,
   "id": "baaa114d",
   "metadata": {},
   "outputs": [],
   "source": []
  }
 ],
 "metadata": {
  "kernelspec": {
   "display_name": "Python 3 (ipykernel)",
   "language": "python",
   "name": "python3"
  },
  "language_info": {
   "codemirror_mode": {
    "name": "ipython",
    "version": 3
   },
   "file_extension": ".py",
   "mimetype": "text/x-python",
   "name": "python",
   "nbconvert_exporter": "python",
   "pygments_lexer": "ipython3",
   "version": "3.11.11"
  }
 },
 "nbformat": 4,
 "nbformat_minor": 5
}
