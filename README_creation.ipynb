{
 "cells": [
  {
   "cell_type": "code",
   "execution_count": 8,
   "id": "65f740d4",
   "metadata": {},
   "outputs": [],
   "source": [
    "import pandas as pd\n",
    "import os"
   ]
  },
  {
   "cell_type": "markdown",
   "id": "b9a40a21",
   "metadata": {},
   "source": [
    "# 2022\n",
    "PREC          1 - A M University Gym10 - Monte Sano United M...\n",
    "K_RUCKER                                                  45942\n",
    "P_DEMOS                                                   67887\n",
    "WRITE-IN                                                    134\n",
    "TOT_POP                                                  388153\n",
    "TOT_VAP                                                  304143\n",
    "HIS_VAP                                                   16137\n",
    "WHI_VAP_NH                                               193636\n",
    "APB_VAP_NH                                                73421\n",
    "OTH_VAP_NH                                                20949\n",
    "\n",
    "2018\n",
    "F_BARGER                                                  72748\n",
    "M_WALKER                                                  59324\n",
    "WRITE-IN                                                    111\n",
    "TOT_POP                                                  388153\n",
    "TOT_VAP                                                  304143\n",
    "HIS_VAP                                                   16137\n",
    "WHI_VAP_NH                                               193636\n",
    "APB_VAP_NH                                                73421\n",
    "OTH_VAP_NH                                                20949"
   ]
  },
  {
   "cell_type": "code",
   "execution_count": 9,
   "id": "36f70919",
   "metadata": {},
   "outputs": [],
   "source": [
    "### Create README\n",
    "fields_dict = {}\n",
    "\n",
    "fields_dict['PREC']='Precinct Identifier'\n",
    "fields_dict['K_RUCKER'] = 'District Court Judge, Madison County Place #2: Kimberly Rucker (DEM)'\n",
    "fields_dict['P_DEMOS'] = 'District Court Judge, Madison County Place #2: Patty Demos (REP)'\n",
    "fields_dict['WRITE-IN'] = 'District Court Judge, Madison County Place #2: Write-In Votes'\n",
    "\n",
    "fields_dict['F_BARGER'] = 'Madison County Judge of Probate: Frank Barger (REP)'\n",
    "fields_dict['M_WALKER'] = 'Madison County Judge of Probate: Michael H. Walker (DEM)'\n",
    "fields_dict['WRITE-IN'] = 'Madison County Judge of Probate: Write-In Votes'\n",
    "\n",
    "\n",
    "fields_dict['TOT_POP'] = 'Total Population'\n",
    "fields_dict['TOT_VAP'] = 'Total Voting Age Population'\n",
    "fields_dict['HISP_VAP'] = 'Hispanic Voting Age Population'\n",
    "fields_dict['WHI_VAP_NH'] = 'Non-Hispanic White Voting Age Population'\n",
    "fields_dict['APB_VAP_NH'] = 'Non-Hispanic Black Voting Age Population'\n",
    "fields_dict['OTH_VAP_NH'] = 'Non-Hispanic Other Voting Age Population'\n",
    "\n",
    "\n",
    "title = \"Madison County, Alabama 2018 and 2022 Precincts with Selected Judicial Elections and Demographics\"\n",
    "retrieval_date = \"06/23/25\"\n",
    "github_link = \"https://github.com/nonpartisan-redistricting-datahub/Processing-Requests\"\n",
    "file_folder = \"./madison_county_al_18_22_precs_judicial_demos/\"\n",
    "source = \"Madison County Alabama, U.S. Census via Redistricting Data Hub\""
   ]
  },
  {
   "cell_type": "code",
   "execution_count": 10,
   "id": "6f958d13",
   "metadata": {},
   "outputs": [],
   "source": [
    "def full_readme_text(title, retrieval_date, source, fields_dict, github_link):\n",
    "\n",
    "#First section of README\n",
    "    readme_p1 = '''{title}\\n\n",
    "## RDH Date Retrieval\n",
    "{retrieval_date}\n",
    "\n",
    "## Sources\n",
    "{source}\n",
    "\n",
    "## Fields:\n",
    "'''.format(title = title, source = source, retrieval_date = retrieval_date)\n",
    "\n",
    "#Second section of README\n",
    "    fields_table = pd.DataFrame.from_dict(fields_dict.items())\n",
    "    fields_table.columns = [\"Field Name\", \"Description\"]\n",
    "    readme_p2 = fields_table.to_string(formatters={'Description':'{{:<{}s}}'.format(fields_table['Description'].str.len().max()).format, 'Field Name':'{{:<{}s}}'.format(fields_table['Field Name'].str.len().max()).format}, index=False, justify = \"left\")\n",
    "\n",
    "#Third section of README\n",
    "    readme_p3 = '''\\n\n",
    "## Processing Steps\n",
    "Visit the RDH GitHub and the processing script for this code [here]({github_link})\n",
    "\n",
    "Please direct questions related to processing this dataset to info@redistrictingdatahub.org.\n",
    "'''.format(github_link=github_link)\n",
    "    \n",
    "    full_readme = str(readme_p1)+str(readme_p2)+str(readme_p3)\n",
    "    return full_readme\n",
    "\n"
   ]
  },
  {
   "cell_type": "code",
   "execution_count": 11,
   "id": "f2098b89",
   "metadata": {},
   "outputs": [],
   "source": [
    "if not os.path.exists(file_folder):\n",
    "    os.mkdir(file_folder)\n",
    "\n",
    "with open(file_folder+\"README.txt\", 'w') as tf:\n",
    "        tf.write(full_readme_text(title, retrieval_date, source, fields_dict, github_link))"
   ]
  },
  {
   "cell_type": "code",
   "execution_count": 2,
   "id": "fe6206d8",
   "metadata": {},
   "outputs": [],
   "source": [
    "import shutil\n",
    "import os"
   ]
  },
  {
   "cell_type": "code",
   "execution_count": 16,
   "id": "d961eebc",
   "metadata": {},
   "outputs": [
    {
     "data": {
      "text/plain": [
       "'/Users/peterhorton/Documents/RDH/Support/Processing-Requests/Madison_County_AL_06_23_25/madison_county_al_18_22_precs_judicial_demos.zip'"
      ]
     },
     "execution_count": 16,
     "metadata": {},
     "output_type": "execute_result"
    }
   ],
   "source": [
    "shutil.make_archive(\"./madison_county_al_18_22_precs_judicial_demos\",\"zip\",\"./madison_county_al_18_22_precs_judicial_demos\")"
   ]
  },
  {
   "cell_type": "code",
   "execution_count": 14,
   "id": "26574062",
   "metadata": {},
   "outputs": [
    {
     "name": "stdout",
     "output_type": "stream",
     "text": [
      "madison_county_al_judge_2018\n",
      "madison_county_al_judgepl2_2022\n",
      "README.txt\n"
     ]
    },
    {
     "ename": "FileNotFoundError",
     "evalue": "[Errno 2] No such file or directory: './madison_county_al_18_22_precs_judicial_demos/.DS_Store'",
     "output_type": "error",
     "traceback": [
      "\u001b[31m---------------------------------------------------------------------------\u001b[39m",
      "\u001b[31mFileNotFoundError\u001b[39m                         Traceback (most recent call last)",
      "\u001b[36mCell\u001b[39m\u001b[36m \u001b[39m\u001b[32mIn[14]\u001b[39m\u001b[32m, line 4\u001b[39m\n\u001b[32m      1\u001b[39m \u001b[38;5;28;01mfor\u001b[39;00m file \u001b[38;5;129;01min\u001b[39;00m os.listdir(\u001b[33m\"\u001b[39m\u001b[33m./madison_county_al_18_22_precs_judicial_demos\u001b[39m\u001b[33m\"\u001b[39m):\n\u001b[32m      2\u001b[39m     \u001b[38;5;28mprint\u001b[39m(file)\n\u001b[32m----> \u001b[39m\u001b[32m4\u001b[39m os.remove(\u001b[33m\"\u001b[39m\u001b[33m./madison_county_al_18_22_precs_judicial_demos/.DS_Store\u001b[39m\u001b[33m\"\u001b[39m)\n",
      "\u001b[31mFileNotFoundError\u001b[39m: [Errno 2] No such file or directory: './madison_county_al_18_22_precs_judicial_demos/.DS_Store'"
     ]
    }
   ],
   "source": [
    "for file in os.listdir(\"./madison_county_al_18_22_precs_judicial_demos\"):\n",
    "    print(file)\n",
    "    \n",
    "os.remove(\"./madison_county_al_18_22_precs_judicial_demos/.DS_Store\")"
   ]
  },
  {
   "cell_type": "code",
   "execution_count": null,
   "id": "baaa114d",
   "metadata": {},
   "outputs": [],
   "source": []
  }
 ],
 "metadata": {
  "kernelspec": {
   "display_name": "Python 3 (ipykernel)",
   "language": "python",
   "name": "python3"
  },
  "language_info": {
   "codemirror_mode": {
    "name": "ipython",
    "version": 3
   },
   "file_extension": ".py",
   "mimetype": "text/x-python",
   "name": "python",
   "nbconvert_exporter": "python",
   "pygments_lexer": "ipython3",
   "version": "3.11.11"
  }
 },
 "nbformat": 4,
 "nbformat_minor": 5
}
