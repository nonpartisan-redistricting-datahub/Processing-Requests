{
 "cells": [
  {
   "cell_type": "code",
   "execution_count": 1,
   "id": "3a17ebac",
   "metadata": {},
   "outputs": [],
   "source": [
    "import pandas as pd\n",
    "import numpy as np\n",
    "import os"
   ]
  },
  {
   "cell_type": "markdown",
   "id": "25482913",
   "metadata": {},
   "source": [
    "## Louisiana 2024 General Election Turnout "
   ]
  },
  {
   "cell_type": "code",
   "execution_count": 2,
   "id": "e2e397d2",
   "metadata": {},
   "outputs": [
    {
     "name": "stdout",
     "output_type": "stream",
     "text": [
      "WARNING *** file size (3874752) not 512 + multiple of sector size (512)\n"
     ]
    }
   ],
   "source": [
    "holder = pd.read_excel(\"./raw-from-source/2024_1105_par.xls\", sheet_name = None, skiprows = 8)"
   ]
  },
  {
   "cell_type": "code",
   "execution_count": 3,
   "id": "1319a50a",
   "metadata": {},
   "outputs": [
    {
     "name": "stdout",
     "output_type": "stream",
     "text": [
      "WARNING *** file size (3874752) not 512 + multiple of sector size (512)\n",
      "WARNING *** file size (3874752) not 512 + multiple of sector size (512)\n",
      "WARNING *** file size (3874752) not 512 + multiple of sector size (512)\n",
      "WARNING *** file size (3874752) not 512 + multiple of sector size (512)\n",
      "WARNING *** file size (3874752) not 512 + multiple of sector size (512)\n",
      "WARNING *** file size (3874752) not 512 + multiple of sector size (512)\n",
      "WARNING *** file size (3874752) not 512 + multiple of sector size (512)\n",
      "WARNING *** file size (3874752) not 512 + multiple of sector size (512)\n",
      "WARNING *** file size (3874752) not 512 + multiple of sector size (512)\n",
      "WARNING *** file size (3874752) not 512 + multiple of sector size (512)\n",
      "WARNING *** file size (3874752) not 512 + multiple of sector size (512)\n",
      "WARNING *** file size (3874752) not 512 + multiple of sector size (512)\n",
      "WARNING *** file size (3874752) not 512 + multiple of sector size (512)\n",
      "WARNING *** file size (3874752) not 512 + multiple of sector size (512)\n",
      "WARNING *** file size (3874752) not 512 + multiple of sector size (512)\n",
      "WARNING *** file size (3874752) not 512 + multiple of sector size (512)\n",
      "WARNING *** file size (3874752) not 512 + multiple of sector size (512)\n",
      "WARNING *** file size (3874752) not 512 + multiple of sector size (512)\n",
      "WARNING *** file size (3874752) not 512 + multiple of sector size (512)\n",
      "WARNING *** file size (3874752) not 512 + multiple of sector size (512)\n",
      "WARNING *** file size (3874752) not 512 + multiple of sector size (512)\n",
      "WARNING *** file size (3874752) not 512 + multiple of sector size (512)\n",
      "WARNING *** file size (3874752) not 512 + multiple of sector size (512)\n",
      "WARNING *** file size (3874752) not 512 + multiple of sector size (512)\n",
      "WARNING *** file size (3874752) not 512 + multiple of sector size (512)\n",
      "WARNING *** file size (3874752) not 512 + multiple of sector size (512)\n",
      "WARNING *** file size (3874752) not 512 + multiple of sector size (512)\n",
      "WARNING *** file size (3874752) not 512 + multiple of sector size (512)\n",
      "WARNING *** file size (3874752) not 512 + multiple of sector size (512)\n",
      "WARNING *** file size (3874752) not 512 + multiple of sector size (512)\n",
      "WARNING *** file size (3874752) not 512 + multiple of sector size (512)\n",
      "WARNING *** file size (3874752) not 512 + multiple of sector size (512)\n",
      "WARNING *** file size (3874752) not 512 + multiple of sector size (512)\n",
      "WARNING *** file size (3874752) not 512 + multiple of sector size (512)\n",
      "WARNING *** file size (3874752) not 512 + multiple of sector size (512)\n",
      "WARNING *** file size (3874752) not 512 + multiple of sector size (512)\n",
      "WARNING *** file size (3874752) not 512 + multiple of sector size (512)\n",
      "WARNING *** file size (3874752) not 512 + multiple of sector size (512)\n",
      "WARNING *** file size (3874752) not 512 + multiple of sector size (512)\n",
      "WARNING *** file size (3874752) not 512 + multiple of sector size (512)\n",
      "WARNING *** file size (3874752) not 512 + multiple of sector size (512)\n",
      "WARNING *** file size (3874752) not 512 + multiple of sector size (512)\n",
      "WARNING *** file size (3874752) not 512 + multiple of sector size (512)\n",
      "WARNING *** file size (3874752) not 512 + multiple of sector size (512)\n",
      "WARNING *** file size (3874752) not 512 + multiple of sector size (512)\n",
      "WARNING *** file size (3874752) not 512 + multiple of sector size (512)\n",
      "WARNING *** file size (3874752) not 512 + multiple of sector size (512)\n",
      "WARNING *** file size (3874752) not 512 + multiple of sector size (512)\n",
      "WARNING *** file size (3874752) not 512 + multiple of sector size (512)\n",
      "WARNING *** file size (3874752) not 512 + multiple of sector size (512)\n",
      "WARNING *** file size (3874752) not 512 + multiple of sector size (512)\n",
      "WARNING *** file size (3874752) not 512 + multiple of sector size (512)\n",
      "WARNING *** file size (3874752) not 512 + multiple of sector size (512)\n",
      "WARNING *** file size (3874752) not 512 + multiple of sector size (512)\n",
      "WARNING *** file size (3874752) not 512 + multiple of sector size (512)\n",
      "WARNING *** file size (3874752) not 512 + multiple of sector size (512)\n",
      "WARNING *** file size (3874752) not 512 + multiple of sector size (512)\n",
      "WARNING *** file size (3874752) not 512 + multiple of sector size (512)\n",
      "WARNING *** file size (3874752) not 512 + multiple of sector size (512)\n",
      "WARNING *** file size (3874752) not 512 + multiple of sector size (512)\n",
      "WARNING *** file size (3874752) not 512 + multiple of sector size (512)\n",
      "WARNING *** file size (3874752) not 512 + multiple of sector size (512)\n",
      "WARNING *** file size (3874752) not 512 + multiple of sector size (512)\n",
      "WARNING *** file size (3874752) not 512 + multiple of sector size (512)\n"
     ]
    }
   ],
   "source": [
    "sheets = list(holder.keys())\n",
    "counties = []\n",
    "\n",
    "for key in sheets:\n",
    "    gen24_turnout = pd.read_excel(\"./raw-from-source/2024_1105_par.xls\", sheet_name = key, skiprows = 8)\n",
    "    county = gen24_turnout.loc[0,\"Unnamed: 1\"]\n",
    "    gen24_turnout.drop([\"Unnamed: 0\", \"Unnamed: 2\"], axis = 1, inplace = True)\n",
    "    gen24_turnout.drop(0, axis = 0 , inplace = True)\n",
    "    gen24_turnout.rename(columns = {\"Unnamed: 1\": \"Precinct\"}, inplace = True)\n",
    "\n",
    "    totals = gen24_turnout[0::3].copy()\n",
    "    totals.reset_index(inplace = True, drop = True)\n",
    "\n",
    "    voting = gen24_turnout[1::3].copy()\n",
    "    voting.reset_index(inplace = True, drop = True)\n",
    "\n",
    "    pct = gen24_turnout[2::3].copy()\n",
    "    pct.reset_index(inplace = True, drop = True)\n",
    "\n",
    "    pct.drop([\"Precinct\"], axis = 1, inplace = True)\n",
    "    voting.drop([\"Precinct\"], axis = 1, inplace = True)\n",
    "\n",
    "    voting.columns = [i.replace(\".1\",\"_Dem\").replace(\".2\",\"_Rep\").replace(\".3\",\"_Oth\") + \"_Voted\" for i in list(voting.columns)]\n",
    "    totals.columns = [i.replace(\".1\",\"_Dem\").replace(\".2\",\"_Rep\").replace(\".3\",\"_Oth\") + \"_Reg\" if i != \"Precinct\"  else i for i in list(totals.columns)]\n",
    "    pct.columns = [i.replace(\".1\",\"_Dem\").replace(\".2\",\"_Rep\").replace(\".3\",\"_Oth\") + \"_Pct\" for i in list(pct.columns)]\n",
    "\n",
    "    gen24_turnout = pd.concat([totals,voting,pct], axis = 1)\n",
    "\n",
    "    gen24_turnout.insert(1, \"Parish\", county)\n",
    "    gen24_turnout.loc[0,\"Precinct\"] = \"Parishwide\"\n",
    "    gen24_turnout[\"Precinct\"] = np.where(gen24_turnout[\"Precinct\"]!= \"Parishwide\",gen24_turnout[\"Precinct\"].astype(str).str[7:],\"Parishwide\")\n",
    "    counties.append(gen24_turnout)"
   ]
  },
  {
   "cell_type": "code",
   "execution_count": 4,
   "id": "74102454",
   "metadata": {},
   "outputs": [],
   "source": [
    "statewide = pd.concat(counties)"
   ]
  },
  {
   "cell_type": "code",
   "execution_count": 5,
   "id": "8b740b1c",
   "metadata": {},
   "outputs": [],
   "source": [
    "statewide[\"join_col\"] = statewide[\"Parish\"]+\"-:-\"+statewide[\"Precinct\"].str.replace(\"W \",\"\").str.replace(\" P \",\" \")\n",
    "election_results = pd.read_csv(\"./raw-from-source/la_2024_gen_prec/la_2024_gen_prec.csv\")\n",
    "election_results[\"join_col\"] = election_results[\"UNIQUE_ID\"].str.upper()\n",
    "matching = pd.read_csv(\"./raw-from-source/la_matching_csv.csv\")\n",
    "matching_dict = dict(zip(matching[\"join_col\"], matching[\"UNIQUE_ID\"].str.upper()))"
   ]
  },
  {
   "cell_type": "code",
   "execution_count": 6,
   "id": "e1651d8d",
   "metadata": {},
   "outputs": [],
   "source": [
    "statewide[\"join_col\"] = statewide[\"join_col\"].map(matching_dict).fillna(statewide[\"join_col\"])"
   ]
  },
  {
   "cell_type": "code",
   "execution_count": 7,
   "id": "cae0b5df",
   "metadata": {},
   "outputs": [],
   "source": [
    "statewide.drop([\"Parish\",\"Precinct\"], axis = 1, inplace = True)"
   ]
  },
  {
   "cell_type": "code",
   "execution_count": 8,
   "id": "5a2a9c54",
   "metadata": {},
   "outputs": [],
   "source": [
    "joined = pd.merge(election_results,statewide, on = \"join_col\", how = \"outer\", indicator = True)"
   ]
  },
  {
   "cell_type": "code",
   "execution_count": 9,
   "id": "78a149fd",
   "metadata": {},
   "outputs": [
    {
     "data": {
      "text/plain": [
       "both          3800\n",
       "right_only      64\n",
       "left_only        5\n",
       "Name: _merge, dtype: int64"
      ]
     },
     "execution_count": 9,
     "metadata": {},
     "output_type": "execute_result"
    }
   ],
   "source": [
    "joined[\"_merge\"].value_counts()"
   ]
  },
  {
   "cell_type": "code",
   "execution_count": 10,
   "id": "183efefd",
   "metadata": {},
   "outputs": [
    {
     "data": {
      "text/plain": [
       "array(['ACADIA-:-Parishwide', 'ALLEN-:-Parishwide',\n",
       "       'ASCENSION-:-Parishwide', 'ASSUMPTION-:-Parishwide',\n",
       "       'AVOYELLES-:-Parishwide', 'BEAUREGARD-:-Parishwide',\n",
       "       'BIENVILLE-:-Parishwide', 'BOSSIER-:-Parishwide',\n",
       "       'CADDO-:-Parishwide', 'CALCASIEU-:-Parishwide',\n",
       "       'CALDWELL-:-Parishwide', 'CAMERON-:-Parishwide',\n",
       "       'CATAHOULA-:-Parishwide', 'CLAIBORNE-:-Parishwide',\n",
       "       'CONCORDIA-:-Parishwide', 'DE SOTO-:-Parishwide',\n",
       "       'EAST BATON ROUGE-:-Parishwide', 'EAST CARROLL-:-Parishwide',\n",
       "       'EAST FELICIANA-:-Parishwide', 'EVANGELINE-:-Parishwide',\n",
       "       'FRANKLIN-:-Parishwide', 'GRANT-:-Parishwide',\n",
       "       'IBERIA-:-Parishwide', 'IBERVILLE-:-Parishwide',\n",
       "       'JACKSON-:-Parishwide', 'JEFFERSON-:-Parishwide',\n",
       "       'JEFFERSON DAVIS-:-Parishwide', 'LAFAYETTE-:-Parishwide',\n",
       "       'LAFOURCHE-:-Parishwide', 'LASALLE-:-Parishwide',\n",
       "       'LINCOLN-:-Parishwide', 'LIVINGSTON-:-Parishwide',\n",
       "       'MADISON-:-Parishwide', 'MOREHOUSE-:-Parishwide',\n",
       "       'NATCHITOCHES-:-Parishwide', 'ORLEANS-:-Parishwide',\n",
       "       'OUACHITA-:-Parishwide', 'PLAQUEMINES-:-Parishwide',\n",
       "       'POINTE COUPEE-:-Parishwide', 'RAPIDES-:-Parishwide',\n",
       "       'RED RIVER-:-Parishwide', 'RICHLAND-:-Parishwide',\n",
       "       'SABINE-:-Parishwide', 'ST. BERNARD-:-Parishwide',\n",
       "       'ST. CHARLES-:-Parishwide', 'ST. HELENA-:-Parishwide',\n",
       "       'ST. JAMES-:-Parishwide', 'ST. JOHN THE BAPTIST-:-Parishwide',\n",
       "       'ST. LANDRY-:-Parishwide', 'ST. MARTIN-:-Parishwide',\n",
       "       'ST. MARY-:-Parishwide', 'ST. TAMMANY-:-Parishwide',\n",
       "       'TANGIPAHOA-:-Parishwide', 'TENSAS-:-Parishwide',\n",
       "       'TERREBONNE-:-Parishwide', 'UNION-:-Parishwide',\n",
       "       'VERMILION-:-Parishwide', 'VERNON-:-Parishwide',\n",
       "       'WASHINGTON-:-Parishwide', 'WEBSTER-:-Parishwide',\n",
       "       'WEST BATON ROUGE-:-Parishwide', 'WEST CARROLL-:-Parishwide',\n",
       "       'WEST FELICIANA-:-Parishwide', 'WINN-:-Parishwide'], dtype=object)"
      ]
     },
     "execution_count": 10,
     "metadata": {},
     "output_type": "execute_result"
    }
   ],
   "source": [
    "joined[joined[\"_merge\"]==\"right_only\"][\"join_col\"].unique()"
   ]
  },
  {
   "cell_type": "code",
   "execution_count": 11,
   "id": "8d52c849",
   "metadata": {},
   "outputs": [
    {
     "data": {
      "text/plain": [
       "array(['IBERVILLE-:-00 22B', 'LINCOLN-:-12 03',\n",
       "       'ST. JOHN THE BAPTIST-:-05 05', 'VERNON-:-05 02A',\n",
       "       'WEST FELICIANA-:-00 02B'], dtype=object)"
      ]
     },
     "execution_count": 11,
     "metadata": {},
     "output_type": "execute_result"
    }
   ],
   "source": [
    "joined[joined[\"_merge\"]==\"left_only\"][\"join_col\"].unique()"
   ]
  },
  {
   "cell_type": "code",
   "execution_count": 12,
   "id": "75dc5b8c",
   "metadata": {},
   "outputs": [
    {
     "data": {
      "text/plain": [
       "Index(['UNIQUE_ID', 'COUNTYFP', 'Parish', 'Precinct', 'G24A1NO', 'G24A1YES',\n",
       "       'G24PREDHAR', 'G24PRELOLI', 'G24PREOCRU', 'G24PREOFRU', 'G24PREOKEN',\n",
       "       'G24PREOPRE', 'G24PREOSON', 'G24PREOSTE', 'G24PREOTER', 'G24PREOWES',\n",
       "       'G24PRERTRU', 'GCON01DMAN', 'GCON01NHYE', 'GCON01RARR', 'GCON01RSCA',\n",
       "       'GCON01RSHA', 'GCON02DCAR', 'GCON02DDAV', 'GCON02RGRA', 'GCON02RLYN',\n",
       "       'GCON02RPER', 'GCON03DGON', 'GCON03DSUM', 'GCON03RHIG', 'GCON03RJOH',\n",
       "       'GCON04RJOH', 'GCON04RMOR', 'GCON05DVAL', 'GCON05RLET', 'GCON05RMEN',\n",
       "       'GCON06DAND', 'GCON06DFIE', 'GCON06DJON', 'GCON06DWIL', 'GCON06RGUI',\n",
       "       'join_col', 'TOTAL_Reg', 'WHITE_Reg', 'BLACK_Reg', 'OTHER_Reg',\n",
       "       'TOTAL_Dem_Reg', 'WHITE_Dem_Reg', 'BLACK_Dem_Reg', 'OTHER_Dem_Reg',\n",
       "       'TOTAL_Rep_Reg', 'WHITE_Rep_Reg', 'BLACK_Rep_Reg', 'OTHER_Rep_Reg',\n",
       "       'TOTAL_Oth_Reg', 'WHITE_Oth_Reg', 'BLACK_Oth_Reg', 'OTHER_Oth_Reg',\n",
       "       'TOTAL_Voted', 'WHITE_Voted', 'BLACK_Voted', 'OTHER_Voted',\n",
       "       'TOTAL_Dem_Voted', 'WHITE_Dem_Voted', 'BLACK_Dem_Voted',\n",
       "       'OTHER_Dem_Voted', 'TOTAL_Rep_Voted', 'WHITE_Rep_Voted',\n",
       "       'BLACK_Rep_Voted', 'OTHER_Rep_Voted', 'TOTAL_Oth_Voted',\n",
       "       'WHITE_Oth_Voted', 'BLACK_Oth_Voted', 'OTHER_Oth_Voted', 'TOTAL_Pct',\n",
       "       'WHITE_Pct', 'BLACK_Pct', 'OTHER_Pct', 'TOTAL_Dem_Pct', 'WHITE_Dem_Pct',\n",
       "       'BLACK_Dem_Pct', 'OTHER_Dem_Pct', 'TOTAL_Rep_Pct', 'WHITE_Rep_Pct',\n",
       "       'BLACK_Rep_Pct', 'OTHER_Rep_Pct', 'TOTAL_Oth_Pct', 'WHITE_Oth_Pct',\n",
       "       'BLACK_Oth_Pct', 'OTHER_Oth_Pct', '_merge'],\n",
       "      dtype='object')"
      ]
     },
     "execution_count": 12,
     "metadata": {},
     "output_type": "execute_result"
    }
   ],
   "source": [
    "joined.columns"
   ]
  },
  {
   "cell_type": "code",
   "execution_count": 13,
   "id": "bd0d46ff",
   "metadata": {},
   "outputs": [],
   "source": [
    "if not os.path.exists(\"./la_2024_gen_prec_turnout/\"):\n",
    "    os.mkdir(\"./la_2024_gen_prec_turnout/\")"
   ]
  },
  {
   "cell_type": "code",
   "execution_count": 14,
   "id": "572dcb27",
   "metadata": {},
   "outputs": [],
   "source": [
    "joined = joined[joined[\"_merge\"]==\"both\"]\n",
    "joined.drop([\"_merge\",\"join_col\"], axis = 1, inplace = True)"
   ]
  },
  {
   "cell_type": "code",
   "execution_count": 15,
   "id": "982bd144",
   "metadata": {},
   "outputs": [],
   "source": [
    "joined[\"COUNTYFP\"] = joined[\"COUNTYFP\"].astype(float).astype(int).astype(str).str.zfill(3)"
   ]
  },
  {
   "cell_type": "code",
   "execution_count": 16,
   "id": "f07dd5c7",
   "metadata": {},
   "outputs": [],
   "source": [
    "clean_cols = [i for i in list(joined.columns) if \"_Pct\" not in i and i not in [\"UNIQUE_ID\",\"COUNTYFP\",\"Parish\",\"Precinct\"]]"
   ]
  },
  {
   "cell_type": "code",
   "execution_count": 17,
   "id": "c3c39ebd",
   "metadata": {},
   "outputs": [],
   "source": [
    "for col in clean_cols:\n",
    "    joined[col] = joined[col].astype(int)"
   ]
  },
  {
   "cell_type": "code",
   "execution_count": 18,
   "id": "09f9a8c9",
   "metadata": {},
   "outputs": [],
   "source": [
    "joined.to_csv(\"./la_2024_gen_prec_turnout/la_2024_gen_prec_turnout.csv\", index = False)"
   ]
  },
  {
   "cell_type": "code",
   "execution_count": 19,
   "id": "babbab25",
   "metadata": {},
   "outputs": [],
   "source": [
    "import shutil"
   ]
  },
  {
   "cell_type": "code",
   "execution_count": 20,
   "id": "bf9f65a8",
   "metadata": {},
   "outputs": [
    {
     "data": {
      "text/plain": [
       "'/Users/peterhorton/Documents/RDH/Support/Processing-Requests/LA_2024_Gen_Turnout/la_2024_gen_prec_turnout.zip'"
      ]
     },
     "execution_count": 20,
     "metadata": {},
     "output_type": "execute_result"
    }
   ],
   "source": [
    "shutil.make_archive(\"./la_2024_gen_prec_turnout\",\"zip\",\"./la_2024_gen_prec_turnout\")"
   ]
  },
  {
   "cell_type": "code",
   "execution_count": null,
   "id": "73032e07",
   "metadata": {},
   "outputs": [],
   "source": []
  }
 ],
 "metadata": {
  "kernelspec": {
   "display_name": "Python 3 (ipykernel)",
   "language": "python",
   "name": "python3"
  },
  "language_info": {
   "codemirror_mode": {
    "name": "ipython",
    "version": 3
   },
   "file_extension": ".py",
   "mimetype": "text/x-python",
   "name": "python",
   "nbconvert_exporter": "python",
   "pygments_lexer": "ipython3",
   "version": "3.8.13"
  }
 },
 "nbformat": 4,
 "nbformat_minor": 5
}
