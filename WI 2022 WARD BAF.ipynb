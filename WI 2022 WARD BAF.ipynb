{
 "cells": [
  {
   "cell_type": "markdown",
   "id": "5109b5c9",
   "metadata": {},
   "source": [
    "#### Sources\n",
    "\n",
    "- [Wisconsin 2022 Wards](https://data-ltsb.opendata.arcgis.com/datasets/LTSB::wisconsin-redistricting-wards-2022/explore) \n",
    "- [RDH Wisconsin 2020 Census Block Boundaries](https://redistrictingdatahub.org/dataset/wisconsin-block-boundaries-2020/)\n",
    "- [RDH 2022 Wisconsin PBER](https://redistrictingdatahub.org/wp-content/uploads/2023/12/readme_wi_gen_22_ru.txt)\n",
    "- [RDH Github 2022 Wisc Processing Code](https://github.com/nonpartisan-redistricting-datahub/pber_collection/blob/main/WI/2022/wi_pber_v0.ipynb)"
   ]
  },
  {
   "cell_type": "code",
   "execution_count": 1,
   "id": "c8880a67",
   "metadata": {},
   "outputs": [],
   "source": [
    "import pandas as pd\n",
    "import geopandas as gp\n",
    "import maup\n",
    "import os"
   ]
  },
  {
   "cell_type": "code",
   "execution_count": 2,
   "id": "ce7c39a4",
   "metadata": {},
   "outputs": [],
   "source": [
    "#Read in 2020 WI census blocks\n",
    "wi_blocks_raw = gp.read_file(\"./raw-from-source/wi_b_2020_bound/wi_b_2020_bound.shp\").to_crs(4326)\n",
    "wi_blocks = wi_blocks_raw[['GEOID20', 'geometry']]"
   ]
  },
  {
   "cell_type": "code",
   "execution_count": 3,
   "id": "6f2fd924",
   "metadata": {},
   "outputs": [],
   "source": [
    "#Read in 2022 WI Wards\n",
    "wiwards22_raw = gp.read_file(\"./raw-from-source/Wisconsin_Redistricting_Wards.geojson\").to_crs(4326)\n",
    "wi_wards = wiwards22_raw[['OBJECTID', 'WARDID','geometry']]"
   ]
  },
  {
   "cell_type": "code",
   "execution_count": 4,
   "id": "aeaa5f97",
   "metadata": {},
   "outputs": [],
   "source": [
    "#Read in RDH 2022 WI Wards\n",
    "rdh_wiwards_raw = gp.read_file(\"./raw-from-source/LF_rfs/WI_Statewide_WardsOct14_2022/Statewide_WardsOct14_2022.shp\").to_crs(4326)\n",
    "rdh_wards = rdh_wiwards_raw[['WARD_FIPS', 'WARDID','geometry']]"
   ]
  },
  {
   "cell_type": "code",
   "execution_count": 5,
   "id": "d6b0e455",
   "metadata": {
    "scrolled": true
   },
   "outputs": [
    {
     "name": "stdout",
     "output_type": "stream",
     "text": [
      "7032 6971\n"
     ]
    }
   ],
   "source": [
    "print(len(wi_wards), len(rdh_wards))\n"
   ]
  },
  {
   "cell_type": "code",
   "execution_count": 6,
   "id": "3ce80d89",
   "metadata": {},
   "outputs": [
    {
     "data": {
      "text/html": [
       "<div>\n",
       "<style scoped>\n",
       "    .dataframe tbody tr th:only-of-type {\n",
       "        vertical-align: middle;\n",
       "    }\n",
       "\n",
       "    .dataframe tbody tr th {\n",
       "        vertical-align: top;\n",
       "    }\n",
       "\n",
       "    .dataframe thead th {\n",
       "        text-align: right;\n",
       "    }\n",
       "</style>\n",
       "<table border=\"1\" class=\"dataframe\">\n",
       "  <thead>\n",
       "    <tr style=\"text-align: right;\">\n",
       "      <th></th>\n",
       "      <th>WARD_FIPS</th>\n",
       "      <th>WARDID</th>\n",
       "      <th>geometry</th>\n",
       "    </tr>\n",
       "  </thead>\n",
       "  <tbody>\n",
       "    <tr>\n",
       "      <th>0</th>\n",
       "      <td>55001002750001</td>\n",
       "      <td>0001</td>\n",
       "      <td>POLYGON ((-89.82790 43.96682, -89.82784 43.964...</td>\n",
       "    </tr>\n",
       "    <tr>\n",
       "      <th>1</th>\n",
       "      <td>55001002750002</td>\n",
       "      <td>0002</td>\n",
       "      <td>POLYGON ((-89.80944 43.95336, -89.81006 43.953...</td>\n",
       "    </tr>\n",
       "    <tr>\n",
       "      <th>2</th>\n",
       "      <td>55001002750003</td>\n",
       "      <td>0003</td>\n",
       "      <td>POLYGON ((-89.79756 43.95224, -89.80423 43.952...</td>\n",
       "    </tr>\n",
       "    <tr>\n",
       "      <th>3</th>\n",
       "      <td>55001002750004</td>\n",
       "      <td>0004</td>\n",
       "      <td>POLYGON ((-89.81786 43.96681, -89.81780 43.965...</td>\n",
       "    </tr>\n",
       "    <tr>\n",
       "      <th>4</th>\n",
       "      <td>55001002750005</td>\n",
       "      <td>0005</td>\n",
       "      <td>POLYGON ((-89.80944 43.95336, -89.80942 43.952...</td>\n",
       "    </tr>\n",
       "  </tbody>\n",
       "</table>\n",
       "</div>"
      ],
      "text/plain": [
       "        WARD_FIPS WARDID                                           geometry\n",
       "0  55001002750001   0001  POLYGON ((-89.82790 43.96682, -89.82784 43.964...\n",
       "1  55001002750002   0002  POLYGON ((-89.80944 43.95336, -89.81006 43.953...\n",
       "2  55001002750003   0003  POLYGON ((-89.79756 43.95224, -89.80423 43.952...\n",
       "3  55001002750004   0004  POLYGON ((-89.81786 43.96681, -89.81780 43.965...\n",
       "4  55001002750005   0005  POLYGON ((-89.80944 43.95336, -89.80942 43.952..."
      ]
     },
     "execution_count": 6,
     "metadata": {},
     "output_type": "execute_result"
    }
   ],
   "source": [
    "rdh_wards.head()"
   ]
  },
  {
   "cell_type": "code",
   "execution_count": 7,
   "id": "10356766",
   "metadata": {},
   "outputs": [
    {
     "name": "stderr",
     "output_type": "stream",
     "text": [
      "C:\\Users\\aditi\\anaconda3\\lib\\site-packages\\maup\\intersections.py:51: UserWarning: Geometry is in a geographic CRS. Results from 'area' are likely incorrect. Use 'GeoSeries.to_crs()' to re-project geometries to a projected CRS before this operation.\n",
      "\n",
      "  df = df[df.area > area_cutoff].reset_index(drop=True)\n",
      "C:\\Users\\aditi\\anaconda3\\lib\\site-packages\\maup\\intersections.py:52: UserWarning: Geometry is in a geographic CRS. Results from 'area' are likely incorrect. Use 'GeoSeries.to_crs()' to re-project geometries to a projected CRS before this operation.\n",
      "\n",
      "  geometries = geometries[geometries.area > area_cutoff]\n",
      "C:\\Users\\aditi\\anaconda3\\lib\\site-packages\\maup\\assign.py:38: UserWarning: Geometry is in a geographic CRS. Results from 'area' are likely incorrect. Use 'GeoSeries.to_crs()' to re-project geometries to a projected CRS before this operation.\n",
      "\n",
      "  return assign_to_max(intersections(sources, targets, area_cutoff=0).area)\n",
      "C:\\Users\\aditi\\anaconda3\\lib\\site-packages\\geopandas\\geodataframe.py:1443: SettingWithCopyWarning: \n",
      "A value is trying to be set on a copy of a slice from a DataFrame.\n",
      "Try using .loc[row_indexer,col_indexer] = value instead\n",
      "\n",
      "See the caveats in the documentation: https://pandas.pydata.org/pandas-docs/stable/user_guide/indexing.html#returning-a-view-versus-a-copy\n",
      "  super().__setitem__(key, value)\n"
     ]
    }
   ],
   "source": [
    "wi_blocks['RDH_WARDS'] = maup.assign(wi_blocks, rdh_wards)"
   ]
  },
  {
   "cell_type": "code",
   "execution_count": 8,
   "id": "1eac8e95",
   "metadata": {},
   "outputs": [
    {
     "data": {
      "text/html": [
       "<div>\n",
       "<style scoped>\n",
       "    .dataframe tbody tr th:only-of-type {\n",
       "        vertical-align: middle;\n",
       "    }\n",
       "\n",
       "    .dataframe tbody tr th {\n",
       "        vertical-align: top;\n",
       "    }\n",
       "\n",
       "    .dataframe thead th {\n",
       "        text-align: right;\n",
       "    }\n",
       "</style>\n",
       "<table border=\"1\" class=\"dataframe\">\n",
       "  <thead>\n",
       "    <tr style=\"text-align: right;\">\n",
       "      <th></th>\n",
       "      <th>GEOID20</th>\n",
       "      <th>geometry</th>\n",
       "      <th>RDH_WARDS</th>\n",
       "    </tr>\n",
       "  </thead>\n",
       "  <tbody>\n",
       "    <tr>\n",
       "      <th>0</th>\n",
       "      <td>550999704001040</td>\n",
       "      <td>POLYGON ((-90.61666 45.70397, -90.61659 45.704...</td>\n",
       "      <td>4649.0</td>\n",
       "    </tr>\n",
       "    <tr>\n",
       "      <th>1</th>\n",
       "      <td>550999706002032</td>\n",
       "      <td>POLYGON ((-90.52452 45.63381, -90.52446 45.634...</td>\n",
       "      <td>4657.0</td>\n",
       "    </tr>\n",
       "    <tr>\n",
       "      <th>2</th>\n",
       "      <td>550999701003089</td>\n",
       "      <td>POLYGON ((-90.16762 45.78595, -90.16724 45.786...</td>\n",
       "      <td>4651.0</td>\n",
       "    </tr>\n",
       "    <tr>\n",
       "      <th>3</th>\n",
       "      <td>550999701003105</td>\n",
       "      <td>POLYGON ((-90.21012 45.75799, -90.20988 45.758...</td>\n",
       "      <td>4682.0</td>\n",
       "    </tr>\n",
       "    <tr>\n",
       "      <th>4</th>\n",
       "      <td>550999707001024</td>\n",
       "      <td>POLYGON ((-90.29082 45.54624, -90.29082 45.546...</td>\n",
       "      <td>4677.0</td>\n",
       "    </tr>\n",
       "  </tbody>\n",
       "</table>\n",
       "</div>"
      ],
      "text/plain": [
       "           GEOID20                                           geometry  \\\n",
       "0  550999704001040  POLYGON ((-90.61666 45.70397, -90.61659 45.704...   \n",
       "1  550999706002032  POLYGON ((-90.52452 45.63381, -90.52446 45.634...   \n",
       "2  550999701003089  POLYGON ((-90.16762 45.78595, -90.16724 45.786...   \n",
       "3  550999701003105  POLYGON ((-90.21012 45.75799, -90.20988 45.758...   \n",
       "4  550999707001024  POLYGON ((-90.29082 45.54624, -90.29082 45.546...   \n",
       "\n",
       "   RDH_WARDS  \n",
       "0     4649.0  \n",
       "1     4657.0  \n",
       "2     4651.0  \n",
       "3     4682.0  \n",
       "4     4677.0  "
      ]
     },
     "execution_count": 8,
     "metadata": {},
     "output_type": "execute_result"
    }
   ],
   "source": [
    "wi_blocks.head()"
   ]
  },
  {
   "cell_type": "code",
   "execution_count": 9,
   "id": "69026fbb",
   "metadata": {},
   "outputs": [
    {
     "data": {
      "text/plain": [
       "6891"
      ]
     },
     "execution_count": 9,
     "metadata": {},
     "output_type": "execute_result"
    }
   ],
   "source": [
    "wi_blocks['RDH_WARDS'].nunique()"
   ]
  },
  {
   "cell_type": "code",
   "execution_count": 17,
   "id": "ec7d5a3b",
   "metadata": {},
   "outputs": [
    {
     "data": {
      "text/plain": [
       "164"
      ]
     },
     "execution_count": 17,
     "metadata": {},
     "output_type": "execute_result"
    }
   ],
   "source": [
    "wi_blocks['RDH_WARDS'].isnull().sum()"
   ]
  },
  {
   "cell_type": "code",
   "execution_count": 11,
   "id": "b2b8595a",
   "metadata": {},
   "outputs": [],
   "source": [
    "#check these in q gis to make sure they are water\n",
    "null_wards = wi_blocks[wi_blocks['RDH_WARDS'].isnull()]\n",
    "null_wards.to_file(\"./null_wards.geojson\")"
   ]
  },
  {
   "cell_type": "code",
   "execution_count": 12,
   "id": "49747107",
   "metadata": {
    "scrolled": true
   },
   "outputs": [
    {
     "data": {
      "text/plain": [
       "<AxesSubplot:>"
      ]
     },
     "execution_count": 12,
     "metadata": {},
     "output_type": "execute_result"
    },
    {
     "data": {
      "image/png": "[encoded data removed]",
      "text/plain": [
       "<Figure size 432x288 with 1 Axes>"
      ]
     },
     "metadata": {
      "needs_background": "light"
     },
     "output_type": "display_data"
    }
   ],
   "source": [
    "null_wards.plot()"
   ]
  },
  {
   "cell_type": "code",
   "execution_count": 13,
   "id": "6b4d8689",
   "metadata": {},
   "outputs": [],
   "source": [
    "# Create BAF\n",
    "baf = wi_blocks[['GEOID20', 'RDH_WARDS']]\n",
    "baf.columns = ['GEOID20', 'WARD']"
   ]
  },
  {
   "cell_type": "code",
   "execution_count": 14,
   "id": "3e78b5e1",
   "metadata": {
    "scrolled": true
   },
   "outputs": [
    {
     "name": "stderr",
     "output_type": "stream",
     "text": [
      "<ipython-input-14-0056a972c527>:1: SettingWithCopyWarning: \n",
      "A value is trying to be set on a copy of a slice from a DataFrame.\n",
      "Try using .loc[row_indexer,col_indexer] = value instead\n",
      "\n",
      "See the caveats in the documentation: https://pandas.pydata.org/pandas-docs/stable/user_guide/indexing.html#returning-a-view-versus-a-copy\n",
      "  baf['WARD'] = baf['WARD'].fillna('No Assignment')\n"
     ]
    }
   ],
   "source": [
    "baf['WARD'] = baf['WARD'].fillna('No Assignment')"
   ]
  },
  {
   "cell_type": "code",
   "execution_count": 15,
   "id": "5d920782",
   "metadata": {},
   "outputs": [
    {
     "data": {
      "text/html": [
       "<div>\n",
       "<style scoped>\n",
       "    .dataframe tbody tr th:only-of-type {\n",
       "        vertical-align: middle;\n",
       "    }\n",
       "\n",
       "    .dataframe tbody tr th {\n",
       "        vertical-align: top;\n",
       "    }\n",
       "\n",
       "    .dataframe thead th {\n",
       "        text-align: right;\n",
       "    }\n",
       "</style>\n",
       "<table border=\"1\" class=\"dataframe\">\n",
       "  <thead>\n",
       "    <tr style=\"text-align: right;\">\n",
       "      <th></th>\n",
       "      <th>GEOID20</th>\n",
       "      <th>WARD</th>\n",
       "    </tr>\n",
       "  </thead>\n",
       "  <tbody>\n",
       "    <tr>\n",
       "      <th>0</th>\n",
       "      <td>550999704001040</td>\n",
       "      <td>4649.0</td>\n",
       "    </tr>\n",
       "    <tr>\n",
       "      <th>1</th>\n",
       "      <td>550999706002032</td>\n",
       "      <td>4657.0</td>\n",
       "    </tr>\n",
       "    <tr>\n",
       "      <th>2</th>\n",
       "      <td>550999701003089</td>\n",
       "      <td>4651.0</td>\n",
       "    </tr>\n",
       "    <tr>\n",
       "      <th>3</th>\n",
       "      <td>550999701003105</td>\n",
       "      <td>4682.0</td>\n",
       "    </tr>\n",
       "    <tr>\n",
       "      <th>4</th>\n",
       "      <td>550999707001024</td>\n",
       "      <td>4677.0</td>\n",
       "    </tr>\n",
       "  </tbody>\n",
       "</table>\n",
       "</div>"
      ],
      "text/plain": [
       "           GEOID20    WARD\n",
       "0  550999704001040  4649.0\n",
       "1  550999706002032  4657.0\n",
       "2  550999701003089  4651.0\n",
       "3  550999701003105  4682.0\n",
       "4  550999707001024  4677.0"
      ]
     },
     "execution_count": 15,
     "metadata": {},
     "output_type": "execute_result"
    }
   ],
   "source": [
    "baf.head()"
   ]
  },
  {
   "cell_type": "code",
   "execution_count": 16,
   "id": "48100da9",
   "metadata": {},
   "outputs": [],
   "source": [
    "if not os.path.exists(\"./WI_2022_BAF\"):\n",
    "    os.mkdir(\"./WI_2022_BAF/\")\n",
    "baf.to_csv('./WI_2022_BAF/WI22_WARDS_BAF.csv', index=False)"
   ]
  }
 ],
 "metadata": {
  "kernelspec": {
   "display_name": "Python 3",
   "language": "python",
   "name": "python3"
  },
  "language_info": {
   "codemirror_mode": {
    "name": "ipython",
    "version": 3
   },
   "file_extension": ".py",
   "mimetype": "text/x-python",
   "name": "python",
   "nbconvert_exporter": "python",
   "pygments_lexer": "ipython3",
   "version": "3.8.8"
  }
 },
 "nbformat": 4,
 "nbformat_minor": 5
}
