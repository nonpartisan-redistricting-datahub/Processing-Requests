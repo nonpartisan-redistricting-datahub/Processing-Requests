{
 "cells": [
  {
   "cell_type": "code",
   "execution_count": 49,
   "id": "aac07e7f",
   "metadata": {},
   "outputs": [],
   "source": [
    "import pandas as pd\n",
    "import geopandas as gp"
   ]
  },
  {
   "cell_type": "markdown",
   "id": "c6437b43",
   "metadata": {},
   "source": [
    "# 2020 CVAP Data Aggregated to Nassau County VTDs\n",
    "\n",
    "## Background:\n",
    "- Received a request to aggregate block-level 2020 CVAP data to the 2020 PL VTD level in Nassau County, NY.\n",
    "\n",
    "## Approach:\n",
    "- Download block-level PL data to get block to VTD correspondence\n",
    "- Load in block-level CVAP data\n",
    "- Add in the VTD correspondence information to the block-level CVAP file\n",
    "- Filter down to Nassau County\n",
    "- Groupby VTD and sum the CVAP data columns\n",
    "\n",
    "## Links to datasets used:\n",
    "[New York block PL 94-171 2020](https://redistrictingdatahub.org/dataset/new-york-block-pl-94171-2020/)\n",
    "\n",
    "[New York CVAP Data Disaggregated to the 2020 Block Level (2020)](https://redistrictingdatahub.org/dataset/new-york-cvap-data-disaggregated-to-the-2020-block-level-2020/)\n",
    "- Note: Field definitions can be found in the metadata for this file\n",
    "\n",
    "For a full 'raw-from-source' file, contact info@redistrictingdatahub.org"
   ]
  },
  {
   "cell_type": "code",
   "execution_count": 54,
   "id": "d331bbde",
   "metadata": {},
   "outputs": [
    {
     "name": "stderr",
     "output_type": "stream",
     "text": [
      "/var/folders/1t/0q4w6hm92mg_zxd84dfxmq3m0000gn/T/ipykernel_35081/2374735955.py:2: DtypeWarning: Columns (29,31,37,38) have mixed types. Specify dtype option on import or set low_memory=False.\n",
      "  blocks_csv = pd.read_csv(\"./raw-from-source/ny_pl2020_b/ny_pl2020_b.csv\")\n",
      "/var/folders/1t/0q4w6hm92mg_zxd84dfxmq3m0000gn/T/ipykernel_35081/2374735955.py:10: SettingWithCopyWarning: \n",
      "A value is trying to be set on a copy of a slice from a DataFrame\n",
      "\n",
      "See the caveats in the documentation: https://pandas.pydata.org/pandas-docs/stable/user_guide/indexing.html#returning-a-view-versus-a-copy\n",
      "  blocks_csv.rename(columns = {\"GEOCODE\":\"GEOID20\"}, inplace = True)\n",
      "/var/folders/1t/0q4w6hm92mg_zxd84dfxmq3m0000gn/T/ipykernel_35081/2374735955.py:15: FutureWarning: The default value of numeric_only in DataFrameGroupBy.sum is deprecated. In a future version, numeric_only will default to False. Either specify numeric_only or select only columns which should be valid for the function.\n",
      "  vtd_cvap = combined.groupby([\"VTDID\"])[[i for i in combined.columns if i not in [\"GEOID20\", \"COUNTYFP20\"]]].sum()\n"
     ]
    }
   ],
   "source": [
    "# Load in block-level PL data, which contains the correspondence to VTDs\n",
    "blocks_csv = pd.read_csv(\"./raw-from-source/ny_pl2020_b/ny_pl2020_b.csv\")\n",
    "\n",
    "# Create a VTDID\n",
    "blocks_csv[\"VTDID\"] = \"36\" + blocks_csv[\"COUNTY\"].astype(str).str.zfill(3)+ blocks_csv[\"VTD\"].astype(str).str.zfill(6)\n",
    "\n",
    "# Confirm that it matches the expected number of VTDs for the state\n",
    "assert(len(blocks_csv[\"VTDID\"].unique())==14191)\n",
    "\n",
    "# Filter down to relevant columns\n",
    "blocks_csv = blocks_csv[[\"GEOCODE\", \"VTDID\"]]\n",
    "\n",
    "# Rename the columns for the join\n",
    "blocks_csv.rename(columns = {\"GEOCODE\":\"GEOID20\"}, inplace = True)"
   ]
  },
  {
   "cell_type": "code",
   "execution_count": null,
   "id": "16ccfb55",
   "metadata": {},
   "outputs": [],
   "source": [
    "# Load in CVAP data that has been disaggregated to the block-level\n",
    "blocks_cvap = pd.read_csv(\"./raw-from-source/ny_cvap_2020_2020_b/ny_cvap_2020_2020_b.csv\")\n",
    "\n",
    "# Join the two files\n",
    "combined = pd.merge(blocks_csv, blocks_cvap, how = \"outer\", on = \"GEOID20\", indicator = True)\n",
    "\n",
    "# Filter down to Nassau County\n",
    "combined = combined[combined[\"COUNTYFP20\"]==59]\n",
    "\n",
    "# Groupby VTDID and grab the columns we need\n",
    "vtd_cvap = combined.groupby([\"VTDID\"])[[i for i in combined.columns if i not in [\"GEOID20\", \"COUNTYFP20\"]]].sum()\n",
    "\n",
    "# Clean index\n",
    "vtd_cvap.reset_index(inplace = True, drop = False)\n",
    "\n",
    "# Export\n",
    "vtd_cvap.to_csv(\"./Nassau_County_NY_VTDs_CVAP.csv\", index = False)"
   ]
  }
 ],
 "metadata": {
  "kernelspec": {
   "display_name": "Python 3 (ipykernel)",
   "language": "python",
   "name": "python3"
  },
  "language_info": {
   "codemirror_mode": {
    "name": "ipython",
    "version": 3
   },
   "file_extension": ".py",
   "mimetype": "text/x-python",
   "name": "python",
   "nbconvert_exporter": "python",
   "pygments_lexer": "ipython3",
   "version": "3.8.13"
  }
 },
 "nbformat": 4,
 "nbformat_minor": 5
}
