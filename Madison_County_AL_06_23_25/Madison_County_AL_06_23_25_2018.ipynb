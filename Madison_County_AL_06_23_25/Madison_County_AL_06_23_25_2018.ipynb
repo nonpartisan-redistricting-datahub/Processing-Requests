{
 "cells": [
  {
   "cell_type": "code",
   "execution_count": 3,
   "id": "5257ec29",
   "metadata": {},
   "outputs": [],
   "source": [
    "#import polyline\n",
    "import matplotlib.pyplot as plt\n",
    "import xml.etree.ElementTree as et\n",
    "import pandas as pd\n",
    "import geopandas as gp\n",
    "import maup"
   ]
  },
  {
   "cell_type": "code",
   "execution_count": 4,
   "id": "22c7e063",
   "metadata": {},
   "outputs": [],
   "source": [
    "import geopandas as gpd\n",
    "from shapely.geometry import Polygon\n",
    "import polyline\n",
    "import pandas as pd"
   ]
  },
  {
   "cell_type": "code",
   "execution_count": 5,
   "id": "32bdd4de",
   "metadata": {},
   "outputs": [],
   "source": [
    "gdf = gp.read_file(\"/Users/peterhorton/Documents/RDH/Support/Processing-Requests/Madison_County_AL_06_23_25/madison_precs.geojson\")"
   ]
  },
  {
   "cell_type": "code",
   "execution_count": 6,
   "id": "ad0a5e3b",
   "metadata": {},
   "outputs": [],
   "source": [
    "z=[]\n",
    "\n",
    "xtree = et.parse(\"./madison_2018.xml\")\n",
    "xroot = xtree.getroot()\n",
    "store_list = []\n",
    "county_area = xroot.findall(\".//Region\")\n",
    "for i in county_area:\n",
    "    county = i.text\n",
    "contests = xroot.findall(\".//Contest\")\n",
    "for i in contests:\n",
    "    contest = i.attrib.get('text')\n",
    "    lower = i.findall(\"./Choice\")\n",
    "    for j in lower:\n",
    "        choice = j.attrib.get('text')\n",
    "        lower_2 = j.findall(\"./VoteType\")\n",
    "        for k in lower_2:\n",
    "            voting_method = k.attrib.get('name')\n",
    "            lower_3 = k.findall(\"./Precinct\")\n",
    "            for l in lower_3:\n",
    "                precinct_name = l.attrib.get('name')\n",
    "                num_votes = l.attrib.get('votes')\n",
    "                z.append([county,contest,choice,voting_method,precinct_name,num_votes])\n",
    "dfcols = ['county','contest','choice','voting_method','precinct','num_votes']\n",
    "df_general = pd.DataFrame(z,columns=dfcols)"
   ]
  },
  {
   "cell_type": "code",
   "execution_count": 7,
   "id": "d17a14d4",
   "metadata": {},
   "outputs": [
    {
     "data": {
      "text/plain": [
       "array(['STRAIGHT PARTY VOTING', 'GOVERNOR', 'LIEUTENANT GOVERNOR',\n",
       "       'UNITED STATES REPRESENTATIVE, 5TH CONGRESSIONAL DISTRICT',\n",
       "       'ATTORNEY GENERAL', 'STATE SENATOR, DISTRICT NO. 1',\n",
       "       'STATE SENATOR, DISTRICT NO. 2', 'STATE SENATOR, DISTRICT NO. 3',\n",
       "       'STATE SENATOR, DISTRICT NO. 7', 'STATE SENATOR, DISTRICT NO. 8',\n",
       "       'STATE SENATOR, DISTRICT NO. 9',\n",
       "       'STATE REPRESENTATIVE, DISTRICT NO. 6',\n",
       "       'STATE REPRESENTATIVE, DISTRICT NO. 10',\n",
       "       'STATE REPRESENTATIVE, DISTRICT NO. 19',\n",
       "       'STATE REPRESENTATIVE, DISTRICT NO. 20',\n",
       "       'STATE REPRESENTATIVE, DISTRICT NO. 21',\n",
       "       'STATE REPRESENTATIVE, DISTRICT NO. 22',\n",
       "       'STATE REPRESENTATIVE, DISTRICT NO. 25',\n",
       "       'STATE REPRESENTATIVE, DISTRICT NO. 53',\n",
       "       'CHIEF JUSTICE OF THE SUPREME COURT',\n",
       "       'ASSOCIATE JUSTICE OF THE SUPREME COURT, PLACE NO. 1',\n",
       "       'ASSOCIATE JUSTICE OF THE SUPREME COURT, PLACE NO. 2',\n",
       "       'ASSOCIATE JUSTICE OF THE SUPREME COURT, PLACE NO. 3',\n",
       "       'ASSOCIATE JUSTICE OF THE SUPREME COURT, PLACE NO. 4',\n",
       "       'COURT OF CIVIL APPEALS JUDGE, PLACE NO. 1',\n",
       "       'COURT OF CIVIL APPEALS JUDGE, PLACE NO. 2',\n",
       "       'COURT OF CIVIL APPEALS JUDGE, PLACE NO. 3',\n",
       "       'COURT OF CRIMINAL APPEALS JUDGE, PLACE NO. 1',\n",
       "       'COURT OF CRIMINAL APPEALS JUDGE, PLACE NO. 2',\n",
       "       'COURT OF CRIMINAL APPEALS JUDGE, PLACE NO. 3',\n",
       "       'SECRETARY OF STATE', 'STATE TREASURER', 'STATE AUDITOR',\n",
       "       'COMMISSIONER OF AGRICULTURE AND INDUSTRIES',\n",
       "       'PUBLIC SERVICE COMMISSION, PLACE NO. 1',\n",
       "       'PUBLIC SERVICE COMMISSION, PLACE NO. 2',\n",
       "       'MEMBER, STATE BOARD OF EDUCATION, DISTRICT NO. 8',\n",
       "       'CIRCUIT COURT JUDGE, 23RD JUDICIAL CIRCUIT, PLACE NO. 1',\n",
       "       'CIRCUIT COURT JUDGE, 23RD JUDICIAL CIRCUIT, PLACE NO. 3',\n",
       "       'CIRCUIT COURT JUDGE, 23RD JUDICIAL CIRCUIT, PLACE NO. 5',\n",
       "       'CIRCUIT COURT JUDGE, 23RD JUDICIAL CIRCUIT, PLACE NO. 6',\n",
       "       'DISTRICT COURT JUDGE, MADISON COUNTY, PLACE NO. 1',\n",
       "       'DISTRICT COURT JUDGE, MADISON COUNTY, PLACE NO. 3',\n",
       "       'CIRCUIT CLERK, MADISON COUNTY', 'MADISON COUNTY JUDGE OF PROBATE',\n",
       "       'MADISON COUNTY SHERIFF', 'MADISON COUNTY CORONER',\n",
       "       'SUPERINTENDENT, MADISON COUNTY BOARD OF EDUCATION',\n",
       "       'MEMBER, MADISON COUNTY BOARD OF EDUCATION,',\n",
       "       'PROPOSED STATEWIDE AMENDMENT NUMBER ONE (1)',\n",
       "       'PROPOSED STATEWIDE AMENDMENT NUMBER TWO (2)',\n",
       "       'PROPOSED STATEWIDE AMENDMENT NUMBER THREE (3)',\n",
       "       'PROPOSED STATEWIDE AMENDMENT NUMBER FOUR (4)',\n",
       "       'PROPOSED LOCAL AMENDMENT NUMBER ONE (1)'], dtype=object)"
      ]
     },
     "execution_count": 7,
     "metadata": {},
     "output_type": "execute_result"
    }
   ],
   "source": [
    "df_general[\"contest\"].unique()"
   ]
  },
  {
   "cell_type": "code",
   "execution_count": 8,
   "id": "a7dd27ce",
   "metadata": {},
   "outputs": [],
   "source": [
    "df_general = df_general[df_general[\"contest\"]=='MADISON COUNTY JUDGE OF PROBATE'].copy()"
   ]
  },
  {
   "cell_type": "code",
   "execution_count": 9,
   "id": "9adc7cc3",
   "metadata": {},
   "outputs": [
    {
     "data": {
      "text/html": [
       "<div>\n",
       "<style scoped>\n",
       "    .dataframe tbody tr th:only-of-type {\n",
       "        vertical-align: middle;\n",
       "    }\n",
       "\n",
       "    .dataframe tbody tr th {\n",
       "        vertical-align: top;\n",
       "    }\n",
       "\n",
       "    .dataframe thead th {\n",
       "        text-align: right;\n",
       "    }\n",
       "</style>\n",
       "<table border=\"1\" class=\"dataframe\">\n",
       "  <thead>\n",
       "    <tr style=\"text-align: right;\">\n",
       "      <th></th>\n",
       "      <th>county</th>\n",
       "      <th>contest</th>\n",
       "      <th>choice</th>\n",
       "      <th>voting_method</th>\n",
       "      <th>precinct</th>\n",
       "      <th>num_votes</th>\n",
       "    </tr>\n",
       "  </thead>\n",
       "  <tbody>\n",
       "    <tr>\n",
       "      <th>18435</th>\n",
       "      <td>Madison</td>\n",
       "      <td>MADISON COUNTY JUDGE OF PROBATE</td>\n",
       "      <td>MICHAEL H. WALKER</td>\n",
       "      <td>Election Day</td>\n",
       "      <td>1 - A M University Gym</td>\n",
       "      <td>1008</td>\n",
       "    </tr>\n",
       "    <tr>\n",
       "      <th>18436</th>\n",
       "      <td>Madison</td>\n",
       "      <td>MADISON COUNTY JUDGE OF PROBATE</td>\n",
       "      <td>MICHAEL H. WALKER</td>\n",
       "      <td>Election Day</td>\n",
       "      <td>2 - Charles Stone Agricultural Center</td>\n",
       "      <td>370</td>\n",
       "    </tr>\n",
       "    <tr>\n",
       "      <th>18437</th>\n",
       "      <td>Madison</td>\n",
       "      <td>MADISON COUNTY JUDGE OF PROBATE</td>\n",
       "      <td>MICHAEL H. WALKER</td>\n",
       "      <td>Election Day</td>\n",
       "      <td>3 - Jackson Way Baptist Church</td>\n",
       "      <td>679</td>\n",
       "    </tr>\n",
       "    <tr>\n",
       "      <th>18438</th>\n",
       "      <td>Madison</td>\n",
       "      <td>MADISON COUNTY JUDGE OF PROBATE</td>\n",
       "      <td>MICHAEL H. WALKER</td>\n",
       "      <td>Election Day</td>\n",
       "      <td>4 - First Baptist Church</td>\n",
       "      <td>908</td>\n",
       "    </tr>\n",
       "    <tr>\n",
       "      <th>18439</th>\n",
       "      <td>Madison</td>\n",
       "      <td>MADISON COUNTY JUDGE OF PROBATE</td>\n",
       "      <td>MICHAEL H. WALKER</td>\n",
       "      <td>Election Day</td>\n",
       "      <td>5 - Optimist Park</td>\n",
       "      <td>712</td>\n",
       "    </tr>\n",
       "    <tr>\n",
       "      <th>...</th>\n",
       "      <td>...</td>\n",
       "      <td>...</td>\n",
       "      <td>...</td>\n",
       "      <td>...</td>\n",
       "      <td>...</td>\n",
       "      <td>...</td>\n",
       "    </tr>\n",
       "    <tr>\n",
       "      <th>19114</th>\n",
       "      <td>Madison</td>\n",
       "      <td>MADISON COUNTY JUDGE OF PROBATE</td>\n",
       "      <td>WRITE-IN</td>\n",
       "      <td>Provisional</td>\n",
       "      <td>93 - Harvest Baptist Church</td>\n",
       "      <td>0</td>\n",
       "    </tr>\n",
       "    <tr>\n",
       "      <th>19115</th>\n",
       "      <td>Madison</td>\n",
       "      <td>MADISON COUNTY JUDGE OF PROBATE</td>\n",
       "      <td>WRITE-IN</td>\n",
       "      <td>Provisional</td>\n",
       "      <td>ABSENTEE</td>\n",
       "      <td>0</td>\n",
       "    </tr>\n",
       "    <tr>\n",
       "      <th>19116</th>\n",
       "      <td>Madison</td>\n",
       "      <td>MADISON COUNTY JUDGE OF PROBATE</td>\n",
       "      <td>WRITE-IN</td>\n",
       "      <td>Provisional</td>\n",
       "      <td>ABSENTEE #2</td>\n",
       "      <td>0</td>\n",
       "    </tr>\n",
       "    <tr>\n",
       "      <th>19117</th>\n",
       "      <td>Madison</td>\n",
       "      <td>MADISON COUNTY JUDGE OF PROBATE</td>\n",
       "      <td>WRITE-IN</td>\n",
       "      <td>Provisional</td>\n",
       "      <td>PROVISIONAL #1</td>\n",
       "      <td>0</td>\n",
       "    </tr>\n",
       "    <tr>\n",
       "      <th>19118</th>\n",
       "      <td>Madison</td>\n",
       "      <td>MADISON COUNTY JUDGE OF PROBATE</td>\n",
       "      <td>WRITE-IN</td>\n",
       "      <td>Provisional</td>\n",
       "      <td>PROVISIONAL #2</td>\n",
       "      <td>0</td>\n",
       "    </tr>\n",
       "  </tbody>\n",
       "</table>\n",
       "<p>684 rows × 6 columns</p>\n",
       "</div>"
      ],
      "text/plain": [
       "        county                          contest             choice  \\\n",
       "18435  Madison  MADISON COUNTY JUDGE OF PROBATE  MICHAEL H. WALKER   \n",
       "18436  Madison  MADISON COUNTY JUDGE OF PROBATE  MICHAEL H. WALKER   \n",
       "18437  Madison  MADISON COUNTY JUDGE OF PROBATE  MICHAEL H. WALKER   \n",
       "18438  Madison  MADISON COUNTY JUDGE OF PROBATE  MICHAEL H. WALKER   \n",
       "18439  Madison  MADISON COUNTY JUDGE OF PROBATE  MICHAEL H. WALKER   \n",
       "...        ...                              ...                ...   \n",
       "19114  Madison  MADISON COUNTY JUDGE OF PROBATE           WRITE-IN   \n",
       "19115  Madison  MADISON COUNTY JUDGE OF PROBATE           WRITE-IN   \n",
       "19116  Madison  MADISON COUNTY JUDGE OF PROBATE           WRITE-IN   \n",
       "19117  Madison  MADISON COUNTY JUDGE OF PROBATE           WRITE-IN   \n",
       "19118  Madison  MADISON COUNTY JUDGE OF PROBATE           WRITE-IN   \n",
       "\n",
       "      voting_method                               precinct num_votes  \n",
       "18435  Election Day                 1 - A M University Gym      1008  \n",
       "18436  Election Day  2 - Charles Stone Agricultural Center       370  \n",
       "18437  Election Day         3 - Jackson Way Baptist Church       679  \n",
       "18438  Election Day               4 - First Baptist Church       908  \n",
       "18439  Election Day                      5 - Optimist Park       712  \n",
       "...             ...                                    ...       ...  \n",
       "19114   Provisional            93 - Harvest Baptist Church         0  \n",
       "19115   Provisional                               ABSENTEE         0  \n",
       "19116   Provisional                            ABSENTEE #2         0  \n",
       "19117   Provisional                         PROVISIONAL #1         0  \n",
       "19118   Provisional                         PROVISIONAL #2         0  \n",
       "\n",
       "[684 rows x 6 columns]"
      ]
     },
     "execution_count": 9,
     "metadata": {},
     "output_type": "execute_result"
    }
   ],
   "source": [
    "df_general"
   ]
  },
  {
   "cell_type": "code",
   "execution_count": 10,
   "id": "149f1511",
   "metadata": {},
   "outputs": [],
   "source": [
    "df_general[\"num_votes\"] = df_general[\"num_votes\"].astype(int)"
   ]
  },
  {
   "cell_type": "code",
   "execution_count": 11,
   "id": "e7b05854",
   "metadata": {},
   "outputs": [
    {
     "name": "stderr",
     "output_type": "stream",
     "text": [
      "/var/folders/1t/0q4w6hm92mg_zxd84dfxmq3m0000gn/T/ipykernel_9081/3272482553.py:1: FutureWarning: The provided callable <built-in function sum> is currently using DataFrameGroupBy.sum. In a future version of pandas, the provided callable will be used directly. To keep current behavior pass the string \"sum\" instead.\n",
      "  pivot = pd.pivot_table(df_general, index = \"precinct\",columns = \"choice\",values=\"num_votes\",aggfunc=sum)\n"
     ]
    }
   ],
   "source": [
    "pivot = pd.pivot_table(df_general, index = \"precinct\",columns = \"choice\",values=\"num_votes\",aggfunc=sum)"
   ]
  },
  {
   "cell_type": "code",
   "execution_count": 12,
   "id": "c4842f1d",
   "metadata": {},
   "outputs": [],
   "source": [
    "pivot.reset_index(inplace = True, drop = False)"
   ]
  },
  {
   "cell_type": "code",
   "execution_count": 13,
   "id": "5bf395b3",
   "metadata": {},
   "outputs": [],
   "source": [
    "gdf[\"geometry\"] = gdf[\"geometry\"].buffer(0)"
   ]
  },
  {
   "cell_type": "code",
   "execution_count": 14,
   "id": "bf3f1f6c",
   "metadata": {},
   "outputs": [
    {
     "data": {
      "text/html": [
       "<div>\n",
       "<style scoped>\n",
       "    .dataframe tbody tr th:only-of-type {\n",
       "        vertical-align: middle;\n",
       "    }\n",
       "\n",
       "    .dataframe tbody tr th {\n",
       "        vertical-align: top;\n",
       "    }\n",
       "\n",
       "    .dataframe thead th {\n",
       "        text-align: right;\n",
       "    }\n",
       "</style>\n",
       "<table border=\"1\" class=\"dataframe\">\n",
       "  <thead>\n",
       "    <tr style=\"text-align: right;\">\n",
       "      <th></th>\n",
       "      <th>OBJECTID</th>\n",
       "      <th>PRECINCTID</th>\n",
       "      <th>NAME</th>\n",
       "      <th>COUNTY</th>\n",
       "      <th>POLLINGID</th>\n",
       "      <th>CreationDate</th>\n",
       "      <th>Creator</th>\n",
       "      <th>EditDate</th>\n",
       "      <th>Editor</th>\n",
       "      <th>Shape__Area</th>\n",
       "      <th>Shape__Length</th>\n",
       "      <th>geometry</th>\n",
       "    </tr>\n",
       "  </thead>\n",
       "  <tbody>\n",
       "    <tr>\n",
       "      <th>71</th>\n",
       "      <td>72</td>\n",
       "      <td>27</td>\n",
       "      <td>None</td>\n",
       "      <td>None</td>\n",
       "      <td>27</td>\n",
       "      <td>1496256912697</td>\n",
       "      <td>jbritton25</td>\n",
       "      <td>1496258333288</td>\n",
       "      <td>jbritton25</td>\n",
       "      <td>None</td>\n",
       "      <td>None</td>\n",
       "      <td>POLYGON ((-86.65699 34.77876, -86.65561 34.778...</td>\n",
       "    </tr>\n",
       "  </tbody>\n",
       "</table>\n",
       "</div>"
      ],
      "text/plain": [
       "    OBJECTID PRECINCTID  NAME COUNTY POLLINGID   CreationDate     Creator  \\\n",
       "71        72         27  None   None        27  1496256912697  jbritton25   \n",
       "\n",
       "         EditDate      Editor Shape__Area Shape__Length  \\\n",
       "71  1496258333288  jbritton25        None          None   \n",
       "\n",
       "                                             geometry  \n",
       "71  POLYGON ((-86.65699 34.77876, -86.65561 34.778...  "
      ]
     },
     "execution_count": 14,
     "metadata": {},
     "output_type": "execute_result"
    }
   ],
   "source": [
    "gdf.loc[gdf[\"NAME\"].isna()]"
   ]
  },
  {
   "cell_type": "code",
   "execution_count": 15,
   "id": "882f9c00",
   "metadata": {},
   "outputs": [],
   "source": [
    "gdf.loc[gdf[\"NAME\"].isna(),\"NAME\"] = \"Oakwood University Church\""
   ]
  },
  {
   "cell_type": "code",
   "execution_count": 16,
   "id": "97b1462a",
   "metadata": {},
   "outputs": [],
   "source": [
    "gdf[\"join_id\"] = gdf[\"PRECINCTID\"].astype(str)+\" - \" + gdf[\"NAME\"]"
   ]
  },
  {
   "cell_type": "code",
   "execution_count": 17,
   "id": "d84a5e5b",
   "metadata": {},
   "outputs": [],
   "source": [
    "join_updates_dict = {'1 - Alabama A&M Univ Gym': '1 - A M University Gym',\n",
    " '15 - Willowbrook Bapt Church': '15 - Willowbrook Baptist Church',\n",
    " '18 - Whitesburg Baptist Church': '18 - The Whitesburg Center',\n",
    " '19 - Weatherly Hieghts Baptist Church': '19 - Weatherly Heights Baptist Church',\n",
    " '31 - Fire and Rescue Training Acad': '31 - Fire and Rescue Training Academy',\n",
    " '36 - Dr.Richard Showers Center': '36 - Dr. Richard Showers Center',\n",
    " '38 - Robert \"Bob\" Harrison Senior Wellness and Advoca\\r\\n': '38 - Robert \"Bob\" Harrison Senior Wellness and Advocacy Center',\n",
    " '40 - Lewis Chapel CP Church': '40 - Lewis Chapel C.P. Church',\n",
    " '50 - St.Luke Christian Church': '50 - St. Luke Christian Church',\n",
    " '53 - Intergraph Building 300': '53 - Intergraph Corporation',\n",
    " '58 - Little Indian Creek PB Church': '58 - Little Indian Creek P.B. Church',\n",
    " '6 - Northeast Huntsville Training and Conf Center': '6 - Northeast Huntsville Training and Conference Center',\n",
    " '61 - Rivertree Church': '61- Rivertree Church',\n",
    " '63 - Mad Mission 7th Day Advent Church': '63 - Madison Mission 7th Day Adv. Church',\n",
    " '69 - Madison Church Of Christ': '69 - Madison Church of Christ',\n",
    " '73 - Plevna /New Market Fire Dept #2': '73 - Plevna/New Market Fire Department',\n",
    " '80 - County Commission Dist 1 Office': '80 - County Commission District #1 Office',\n",
    " '81 - Bobo Volunteer Fire Dept': '81 - Bobo Volunteer Fire Department',\n",
    " '83 - Church Of Christ Meridianville': '83 - Meridianville Church of Christ',\n",
    " '84 - Mt Zion Baptist Church': '84 - Mt. Zion Baptist Church',\n",
    " \"90 - St John's Catholic School\": \"90 - St. John's Catholic Church\"}"
   ]
  },
  {
   "cell_type": "code",
   "execution_count": 18,
   "id": "a8a1595c",
   "metadata": {},
   "outputs": [],
   "source": [
    "gdf[\"join_id\"] = gdf[\"join_id\"].map(join_updates_dict).fillna(gdf[\"join_id\"])"
   ]
  },
  {
   "cell_type": "code",
   "execution_count": 19,
   "id": "91fcc1a0",
   "metadata": {},
   "outputs": [],
   "source": [
    "final = gp.GeoDataFrame(pd.merge(pivot,gdf,left_on=\"precinct\",right_on=\"join_id\",how=\"outer\",indicator=True ))\n"
   ]
  },
  {
   "cell_type": "code",
   "execution_count": 20,
   "id": "430235a5",
   "metadata": {},
   "outputs": [
    {
     "data": {
      "text/plain": [
       "['precinct',\n",
       " 'FRANK BARGER',\n",
       " 'MICHAEL H. WALKER',\n",
       " 'WRITE-IN',\n",
       " 'OBJECTID',\n",
       " 'PRECINCTID',\n",
       " 'NAME',\n",
       " 'COUNTY',\n",
       " 'POLLINGID',\n",
       " 'CreationDate',\n",
       " 'Creator',\n",
       " 'EditDate',\n",
       " 'Editor',\n",
       " 'Shape__Area',\n",
       " 'Shape__Length',\n",
       " 'geometry',\n",
       " 'join_id',\n",
       " '_merge']"
      ]
     },
     "execution_count": 20,
     "metadata": {},
     "output_type": "execute_result"
    }
   ],
   "source": [
    "list(final[final[\"_merge\"]!=\"both\"].columns)"
   ]
  },
  {
   "cell_type": "code",
   "execution_count": null,
   "id": "e145b4b5",
   "metadata": {},
   "outputs": [],
   "source": []
  },
  {
   "cell_type": "code",
   "execution_count": 21,
   "id": "e9a8e538",
   "metadata": {},
   "outputs": [],
   "source": [
    "madison = gp.read_file(\"./madison_blocks.shp\")"
   ]
  },
  {
   "cell_type": "code",
   "execution_count": 22,
   "id": "0018448e",
   "metadata": {},
   "outputs": [],
   "source": [
    "final = final[~final[\"precinct\"].isin([\"ABSENTEE #2\",\"PROVISIONAL #1\",\"ABSENTEE\",\"PROVISIONAL #2\"])]\n",
    "final.index = final[\"precinct\"]\n",
    "final = final.to_crs(madison.crs)\n",
    "final[\"geometry\"] = final[\"geometry\"].buffer(0)\n",
    "final.drop([\"_merge\"],axis = 1, inplace = True)"
   ]
  },
  {
   "cell_type": "code",
   "execution_count": 23,
   "id": "03d5fc9c",
   "metadata": {},
   "outputs": [
    {
     "name": "stderr",
     "output_type": "stream",
     "text": [
      "/Users/peterhorton/opt/anaconda3/envs/maup_adv/lib/python3.11/site-packages/maup/intersections.py:47: UserWarning: Geometry is in a geographic CRS. Results from 'area' are likely incorrect. Use 'GeoSeries.to_crs()' to re-project geometries to a projected CRS before this operation.\n",
      "\n",
      "  df = df[df.area > area_cutoff].reset_index(drop=True)\n",
      "/Users/peterhorton/opt/anaconda3/envs/maup_adv/lib/python3.11/site-packages/maup/intersections.py:48: UserWarning: Geometry is in a geographic CRS. Results from 'area' are likely incorrect. Use 'GeoSeries.to_crs()' to re-project geometries to a projected CRS before this operation.\n",
      "\n",
      "  geometries = geometries[geometries.area > area_cutoff]\n",
      "/Users/peterhorton/opt/anaconda3/envs/maup_adv/lib/python3.11/site-packages/maup/assign.py:38: UserWarning: Geometry is in a geographic CRS. Results from 'area' are likely incorrect. Use 'GeoSeries.to_crs()' to re-project geometries to a projected CRS before this operation.\n",
      "\n",
      "  return assign_to_max(intersections(sources, targets, area_cutoff=0).area)\n"
     ]
    }
   ],
   "source": [
    "madison[\"PREC\"] = maup.assign(madison,final)"
   ]
  },
  {
   "cell_type": "code",
   "execution_count": 24,
   "id": "6769d519",
   "metadata": {},
   "outputs": [],
   "source": [
    "blocks_grouped = madison.dissolve(\"PREC\", aggfunc='sum', as_index = False)\n",
    "final.reset_index(inplace = True, drop = True)"
   ]
  },
  {
   "cell_type": "code",
   "execution_count": 25,
   "id": "6960d581",
   "metadata": {},
   "outputs": [],
   "source": [
    "final = gp.GeoDataFrame(pd.merge(blocks_grouped, final, left_on = \"PREC\", right_on = \"precinct\", how = \"outer\", indicator = True, validate = \"1:1\"))"
   ]
  },
  {
   "cell_type": "code",
   "execution_count": 26,
   "id": "51e8cc3e",
   "metadata": {},
   "outputs": [
    {
     "data": {
      "text/plain": [
       "_merge\n",
       "both          72\n",
       "left_only      0\n",
       "right_only     0\n",
       "Name: count, dtype: int64"
      ]
     },
     "execution_count": 26,
     "metadata": {},
     "output_type": "execute_result"
    }
   ],
   "source": [
    "final[\"_merge\"].value_counts()"
   ]
  },
  {
   "cell_type": "code",
   "execution_count": 27,
   "id": "193afbc1",
   "metadata": {},
   "outputs": [],
   "source": [
    "apb_cols = ['P0040006',\n",
    " 'P0040013',\n",
    " 'P0040018',\n",
    " 'P0040019',\n",
    " 'P0040020',\n",
    " 'P0040021',\n",
    " 'P0040029',\n",
    " 'P0040030',\n",
    " 'P0040031',\n",
    " 'P0040032',\n",
    " 'P0040039',\n",
    " 'P0040040',\n",
    " 'P0040041',\n",
    " 'P0040042',\n",
    " 'P0040043',\n",
    " 'P0040044',\n",
    " 'P0040050',\n",
    " 'P0040051',\n",
    " 'P0040052',\n",
    " 'P0040053',\n",
    " 'P0040054',\n",
    " 'P0040055',\n",
    " 'P0040060',\n",
    " 'P0040061',\n",
    " 'P0040062',\n",
    " 'P0040063',\n",
    " 'P0040066',\n",
    " 'P0040067',\n",
    " 'P0040068',\n",
    " 'P0040069',\n",
    " 'P0040071',\n",
    " 'P0040073']"
   ]
  },
  {
   "cell_type": "code",
   "execution_count": 28,
   "id": "497b949f",
   "metadata": {},
   "outputs": [],
   "source": [
    "final[\"TOT_POP\"] = final[\"P0010001\"]\n",
    "final[\"TOT_VAP\"] = final[\"P0030001\"]\n",
    "final[\"HIS_VAP\"] = final[\"P0040002\"]\n",
    "final[\"WHI_VAP_NH\"] = final[\"P0040005\"]\n",
    "final[\"APB_VAP_NH\"] = final[apb_cols].sum(axis = 1)\n",
    "final[\"OTH_VAP_NH\"] = final[\"TOT_VAP\"] - final[\"HIS_VAP\"] - final[\"WHI_VAP_NH\"] - final[\"APB_VAP_NH\"]"
   ]
  },
  {
   "cell_type": "code",
   "execution_count": 29,
   "id": "503a0fdf",
   "metadata": {},
   "outputs": [],
   "source": [
    "final = gp.GeoDataFrame(final[['PREC','FRANK BARGER',\n",
    " 'MICHAEL H. WALKER',\n",
    " 'WRITE-IN','TOT_POP', 'TOT_VAP',\n",
    "       'HIS_VAP', 'WHI_VAP_NH', 'APB_VAP_NH', 'OTH_VAP_NH','geometry_y' ]])"
   ]
  },
  {
   "cell_type": "code",
   "execution_count": 30,
   "id": "250e4eaa",
   "metadata": {},
   "outputs": [],
   "source": [
    "final.rename(columns = {\"geometry_y\":\"geometry\",\"FRANK BARGER\":\"F_BARGER\",\"MICHAEL H. WALKER\":\"M_WALKER\"}, inplace = True)"
   ]
  },
  {
   "cell_type": "code",
   "execution_count": 31,
   "id": "decd81f5",
   "metadata": {},
   "outputs": [],
   "source": [
    "final.to_file(\"./madison_county_al_judge_2018.shp\")"
   ]
  },
  {
   "cell_type": "code",
   "execution_count": 45,
   "id": "c0fcdd14",
   "metadata": {},
   "outputs": [
    {
     "data": {
      "text/plain": [
       "PREC          1 - A M University Gym10 - Monte Sano Fire Sta...\n",
       "F_BARGER                                                  72748\n",
       "M_WALKER                                                  59324\n",
       "WRITE-IN                                                    111\n",
       "TOT_POP                                                  388153\n",
       "TOT_VAP                                                  304143\n",
       "HIS_VAP                                                   16137\n",
       "WHI_VAP_NH                                               193636\n",
       "APB_VAP_NH                                                73421\n",
       "OTH_VAP_NH                                                20949\n",
       "dtype: object"
      ]
     },
     "execution_count": 45,
     "metadata": {},
     "output_type": "execute_result"
    }
   ],
   "source": [
    "final[[i for i in list(final.columns) if i != \"geometry\"]].sum()"
   ]
  },
  {
   "cell_type": "code",
   "execution_count": null,
   "id": "8354d64d",
   "metadata": {},
   "outputs": [],
   "source": [
    "TOT_POP                                                  388153\n",
    "TOT_VAP                                                  304143\n",
    "HIS_VAP                                                   16137\n",
    "WHI_VAP_NH                                               193636\n",
    "APB_VAP_NH                                                73421\n",
    "OTH_VAP_NH                                                20949"
   ]
  },
  {
   "cell_type": "code",
   "execution_count": 64,
   "id": "7ac5945d",
   "metadata": {},
   "outputs": [],
   "source": [
    "final.to_csv(\"./madison_county_al_judge_2018.csv\",index = False)"
   ]
  },
  {
   "cell_type": "code",
   "execution_count": 67,
   "id": "929d4f4f",
   "metadata": {},
   "outputs": [
    {
     "name": "stdout",
     "output_type": "stream",
     "text": [
      "72748\n",
      "59324\n",
      "111\n"
     ]
    }
   ],
   "source": [
    "print(75808 - (2287 + 467+ 272 + 34))\n",
    "\n",
    "print(61980 - (1948+311+372+25))\n",
    "print(114 - (3))"
   ]
  },
  {
   "cell_type": "code",
   "execution_count": 32,
   "id": "da6633cb",
   "metadata": {},
   "outputs": [
    {
     "data": {
      "text/plain": [
       "<Axes: >"
      ]
     },
     "execution_count": 32,
     "metadata": {},
     "output_type": "execute_result"
    },
    {
     "data": {
      "image/png": "[encoded data removed]",
      "text/plain": [
       "<Figure size 640x480 with 1 Axes>"
      ]
     },
     "metadata": {},
     "output_type": "display_data"
    }
   ],
   "source": [
    "ax = gdf.boundary.plot()\n",
    "final.boundary.plot(ax = ax, color = \"red\")"
   ]
  },
  {
   "cell_type": "code",
   "execution_count": null,
   "id": "8deddcb0",
   "metadata": {},
   "outputs": [],
   "source": []
  }
 ],
 "metadata": {
  "kernelspec": {
   "display_name": "Python 3 (ipykernel)",
   "language": "python",
   "name": "python3"
  },
  "language_info": {
   "codemirror_mode": {
    "name": "ipython",
    "version": 3
   },
   "file_extension": ".py",
   "mimetype": "text/x-python",
   "name": "python",
   "nbconvert_exporter": "python",
   "pygments_lexer": "ipython3",
   "version": "3.11.11"
  }
 },
 "nbformat": 4,
 "nbformat_minor": 5
}
