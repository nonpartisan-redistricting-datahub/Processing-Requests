{
 "cells": [
  {
   "cell_type": "code",
   "execution_count": 1,
   "id": "7b93b301",
   "metadata": {},
   "outputs": [],
   "source": [
    "import pandas as pd\n",
    "import geopandas as gp\n",
    "import os"
   ]
  },
  {
   "cell_type": "markdown",
   "id": "2a5fc001",
   "metadata": {},
   "source": [
    "# Blue_Township_Subdistricts_05_30_24\n",
    "\n",
    "We received a request to dissolve a precinct file by its township column to generate subdistricts and intersect these subdistricts by the geometries for Blue Township."
   ]
  },
  {
   "cell_type": "code",
   "execution_count": 2,
   "id": "589cc09c",
   "metadata": {},
   "outputs": [
    {
     "data": {
      "text/plain": [
       "['raw-from-source',\n",
       " '.DS_Store',\n",
       " 'README.ipynb',\n",
       " 'blue_township_mo_subdistricts_23',\n",
       " '.ipynb_checkpoints',\n",
       " 'Blue_Township_Subdistricts_05_30_24.ipynb']"
      ]
     },
     "execution_count": 2,
     "metadata": {},
     "output_type": "execute_result"
    }
   ],
   "source": [
    "os.listdir()"
   ]
  },
  {
   "cell_type": "code",
   "execution_count": 3,
   "id": "59bb83aa",
   "metadata": {},
   "outputs": [],
   "source": [
    "blue_precs = gp.read_file(\"./raw-from-source/Jackson_7 2023 files/Jackson_County_7-2023.shp\")\n",
    "jackson_mo = gp.read_file(\"./raw-from-source/jackson_mo_townships/jackson_mo_townships.shp\")"
   ]
  },
  {
   "cell_type": "code",
   "execution_count": 4,
   "id": "47f5a20f",
   "metadata": {},
   "outputs": [],
   "source": [
    "blue = jackson_mo[jackson_mo[\"NAMELSAD\"]==\"Blue township\"]\n",
    "blue_precs = blue_precs.to_crs(jackson_mo.crs)\n",
    "twsps = blue_precs.dissolve(\"Townships\")\n",
    "twsps.reset_index(inplace = True, drop = False)"
   ]
  },
  {
   "cell_type": "code",
   "execution_count": 5,
   "id": "fbfba885",
   "metadata": {},
   "outputs": [
    {
     "name": "stderr",
     "output_type": "stream",
     "text": [
      "/Users/peterhorton/opt/anaconda3/envs/run_maup/lib/python3.8/site-packages/geopandas/geoseries.py:843: FutureWarning: iteritems is deprecated and will be removed in a future version. Use .items instead.\n",
      "  for idx, s in self.geometry.iteritems():\n",
      "/Users/peterhorton/opt/anaconda3/envs/run_maup/lib/python3.8/site-packages/geopandas/io/file.py:299: FutureWarning: pandas.Int64Index is deprecated and will be removed from pandas in a future version. Use pandas.Index with the appropriate dtype instead.\n",
      "  pd.Int64Index,\n"
     ]
    }
   ],
   "source": [
    "comb2 = gp.overlay(blue, twsps, how = \"intersection\")\n",
    "comb2 = comb2[~comb2[\"Townships\"].isin([\"BR\",\"FO\",\"PR\",\"SN\"])]\n",
    "comb2 = gp.GeoDataFrame(comb2[[\"Townships\",\"geometry\"]])\n",
    "comb2.to_file(\"./blue_township_mo_subdistricts_23/blue_township_mo_subdistricts_23.shp\")"
   ]
  },
  {
   "cell_type": "code",
   "execution_count": 6,
   "id": "4362bbfd",
   "metadata": {},
   "outputs": [],
   "source": [
    "import shutil"
   ]
  },
  {
   "cell_type": "code",
   "execution_count": 7,
   "id": "94f6e8da",
   "metadata": {},
   "outputs": [
    {
     "data": {
      "text/plain": [
       "'/Users/peterhorton/Documents/RDH/Support/Processing-Requests/Blue_Township_Subdistricts_05_30_24/blue_township_mo_subdistricts_23.zip'"
      ]
     },
     "execution_count": 7,
     "metadata": {},
     "output_type": "execute_result"
    }
   ],
   "source": [
    "shutil.make_archive(\"./blue_township_mo_subdistricts_23\",\"zip\",\"./blue_township_mo_subdistricts_23\")"
   ]
  }
 ],
 "metadata": {
  "kernelspec": {
   "display_name": "Python 3 (ipykernel)",
   "language": "python",
   "name": "python3"
  },
  "language_info": {
   "codemirror_mode": {
    "name": "ipython",
    "version": 3
   },
   "file_extension": ".py",
   "mimetype": "text/x-python",
   "name": "python",
   "nbconvert_exporter": "python",
   "pygments_lexer": "ipython3",
   "version": "3.8.13"
  }
 },
 "nbformat": 4,
 "nbformat_minor": 5
}
