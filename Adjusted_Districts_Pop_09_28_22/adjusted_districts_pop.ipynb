{
 "cells": [
  {
   "cell_type": "code",
   "execution_count": 125,
   "id": "482dbecf",
   "metadata": {},
   "outputs": [],
   "source": [
    "import pandas as pd\n",
    "import geopandas as gp\n",
    "import os"
   ]
  },
  {
   "cell_type": "markdown",
   "id": "44a74f62",
   "metadata": {},
   "source": [
    "# Districts Drawn w/ Adjusted Data - Total Populations\n",
    "\n",
    "- Note: The states and geographies that use adjusted data:\n",
    "    - CA (Congressional and State Legislative)\n",
    "    - CO (State Legislative)\n",
    "    - CT (State Legislative)\n",
    "    - DE (State Legislative)\n",
    "    - MD (Congressional and State Legislative)\n",
    "    - MT (State Legislative)\n",
    "    - NJ (Congressional and State Legislative)\n",
    "    - NV (Congressional and State Legislative)\n",
    "    - NY (State Legislative)\n",
    "    - RI (Congressional and State Legislative)\n",
    "    - VA (Congressional and State Legislative)\n",
    "    - WA (Congressional and State Legislative)\n",
    "    \n",
    "- Note: LA draws redistricting on an adjusted dataset, but its adjustment do not change any population numbers"
   ]
  },
  {
   "cell_type": "markdown",
   "id": "334e415d",
   "metadata": {},
   "source": [
    "## Load in Data for Every State Except RI\n",
    "\n",
    "Note: These are processed files created for work for the \"States that Adjust the Census Data for Redistricting\" page on the RDH website. HI and PA need to be loaded separately"
   ]
  },
  {
   "cell_type": "code",
   "execution_count": 126,
   "id": "ff60bb91",
   "metadata": {},
   "outputs": [],
   "source": [
    "adjusted_data_state_subset = ['CA', 'CO', 'CT', 'DE', 'HI', 'MD', 'MT', 'NJ', 'NV',\n",
    "'NY', 'PA', 'VA', 'WA']"
   ]
  },
  {
   "cell_type": "code",
   "execution_count": 127,
   "id": "6207def8",
   "metadata": {},
   "outputs": [],
   "source": [
    "def mod_census(block_id):\n",
    "    block_id = str(block_id)\n",
    "    if \"A\" in block_id or \"B\" in block_id or \"C\" in block_id:\n",
    "        return block_id[:len(block_id)-1]\n",
    "    else:\n",
    "        return block_id"
   ]
  },
  {
   "cell_type": "code",
   "execution_count": 128,
   "id": "3312ebd0",
   "metadata": {},
   "outputs": [
    {
     "name": "stderr",
     "output_type": "stream",
     "text": [
      "/var/folders/1t/0q4w6hm92mg_zxd84dfxmq3m0000gn/T/ipykernel_72029/1628235444.py:4: DtypeWarning: Columns (0) have mixed types. Specify dtype option on import or set low_memory=False.\n",
      "  adj_state = pd.read_csv(\"./raw-from-source/Adjusted_Counts/\"+state+\"_blocks.csv\")\n",
      "/var/folders/1t/0q4w6hm92mg_zxd84dfxmq3m0000gn/T/ipykernel_72029/1628235444.py:8: SettingWithCopyWarning: \n",
      "A value is trying to be set on a copy of a slice from a DataFrame.\n",
      "Try using .loc[row_indexer,col_indexer] = value instead\n",
      "\n",
      "See the caveats in the documentation: https://pandas.pydata.org/pandas-docs/stable/user_guide/indexing.html#returning-a-view-versus-a-copy\n",
      "  adj_state[\"mod_GEOID20\"] = adj_state[\"GEOID20\"].apply(lambda x: mod_census(x))\n"
     ]
    }
   ],
   "source": [
    "adjusted_data_list = []\n",
    "\n",
    "for state in adjusted_data_state_subset:\n",
    "    adj_state = pd.read_csv(\"./raw-from-source/Adjusted_Counts/\"+state+\"_blocks.csv\")\n",
    "    adj_state = adj_state[[\"GEOID20\", \"Adj_Pop\"]]\n",
    "    \n",
    "    if state == \"PA\":\n",
    "        adj_state[\"mod_GEOID20\"] = adj_state[\"GEOID20\"].apply(lambda x: mod_census(x))\n",
    "\n",
    "        adj_state[\"mod_GEOID20\"].value_counts(dropna = False)\n",
    "\n",
    "        adj_state_mod = adj_state.groupby(\"mod_GEOID20\").sum()\n",
    "\n",
    "        adj_state_mod.reset_index(drop = False, inplace = True)\n",
    "\n",
    "        adj_state_mod.rename(columns = {\"mod_GEOID20\":\"GEOID20\"}, inplace = True)\n",
    "\n",
    "        adj_state_mod = adj_state_mod[[\"GEOID20\", \"Adj_Pop\"]]\n",
    "        adjusted_data_list.append(adj_state_mod)\n",
    "    \n",
    "    else:\n",
    "        adjusted_data_list.append(adj_state)\n",
    "    "
   ]
  },
  {
   "cell_type": "code",
   "execution_count": 129,
   "id": "df716595",
   "metadata": {},
   "outputs": [],
   "source": [
    "adj_state_data_df = pd.concat(adjusted_data_list)\n",
    "\n",
    "adj_state_data_df[\"Adj_Pop\"] = adj_state_data_df[\"Adj_Pop\"].astype(int)\n",
    "adj_state_data_df[\"GEOID20\"] = adj_state_data_df[\"GEOID20\"].astype(str).str.zfill(16)\n",
    "\n",
    "# If desired, export this data to csv\n",
    "adj_state_data_df.to_csv(\"./adjusted_data_pops.csv\", index = False)"
   ]
  },
  {
   "cell_type": "markdown",
   "id": "5b30a406",
   "metadata": {},
   "source": [
    "## Load in Block Assignment File"
   ]
  },
  {
   "cell_type": "code",
   "execution_count": 130,
   "id": "eed2f504",
   "metadata": {
    "scrolled": true
   },
   "outputs": [],
   "source": [
    "national_baf = pd.read_csv(\"/Users/peterhorton/Downloads/national_baf/national_baf.csv\", dtype =({\"GEOID20\":str, \"STATEAB\":str, \"CONG\":str, \"SLDU\":str, \"SLDL\":str, \"FLOTERIAL\":str}))\n",
    "\n",
    "national_baf[\"UNQ_CONG_DIST_ID\"] = national_baf[\"STATEAB\"] + \"-\" + national_baf[\"CONG\"].astype(str)\n",
    "national_baf[\"UNQ_SLDL_DIST_ID\"] = national_baf[\"STATEAB\"] + \"-\" + national_baf[\"SLDL\"].astype(str)\n",
    "national_baf[\"UNQ_SLDU_DIST_ID\"] = national_baf[\"STATEAB\"] + \"-\" + national_baf[\"SLDU\"].astype(str)"
   ]
  },
  {
   "cell_type": "code",
   "execution_count": 131,
   "id": "fd5ff4d6",
   "metadata": {},
   "outputs": [
    {
     "data": {
      "text/plain": [
       "50"
      ]
     },
     "execution_count": 131,
     "metadata": {},
     "output_type": "execute_result"
    }
   ],
   "source": [
    "len(national_baf[(national_baf[\"STATEAB\"]==\"PA\")][\"SLDU\"].unique())"
   ]
  },
  {
   "cell_type": "code",
   "execution_count": 132,
   "id": "15c552a6",
   "metadata": {},
   "outputs": [],
   "source": [
    "national_baf[\"GEOID20\"] = national_baf[\"GEOID20\"].astype(str).str.zfill(16)"
   ]
  },
  {
   "cell_type": "markdown",
   "id": "57549db7",
   "metadata": {},
   "source": [
    "## Join to National BAF\n",
    "\n",
    "Note: This file is available for download from the RDH website (https://redistrictingdatahub.org/dataset/national-block-assignment-file-for-2022-state-legislative-and-congressional-districts/)"
   ]
  },
  {
   "cell_type": "code",
   "execution_count": 133,
   "id": "b85ddf61",
   "metadata": {},
   "outputs": [],
   "source": [
    "adjusted_counts = pd.merge(national_baf, adj_state_data_df, how = \"outer\", on = \"GEOID20\", indicator = True)"
   ]
  },
  {
   "cell_type": "code",
   "execution_count": 134,
   "id": "b1e76699",
   "metadata": {},
   "outputs": [
    {
     "data": {
      "text/plain": [
       "left_only     6066848\n",
       "both          2059864\n",
       "right_only         73\n",
       "Name: _merge, dtype: int64"
      ]
     },
     "execution_count": 134,
     "metadata": {},
     "output_type": "execute_result"
    }
   ],
   "source": [
    "adjusted_counts[\"_merge\"].value_counts()"
   ]
  },
  {
   "cell_type": "code",
   "execution_count": 135,
   "id": "79010ce3",
   "metadata": {},
   "outputs": [
    {
     "data": {
      "text/plain": [
       "0           left_only\n",
       "1           left_only\n",
       "2           left_only\n",
       "3           left_only\n",
       "4           left_only\n",
       "              ...    \n",
       "8126780    right_only\n",
       "8126781    right_only\n",
       "8126782    right_only\n",
       "8126783    right_only\n",
       "8126784    right_only\n",
       "Name: _merge, Length: 8126785, dtype: category\n",
       "Categories (3, object): ['left_only', 'right_only', 'both']"
      ]
     },
     "execution_count": 135,
     "metadata": {},
     "output_type": "execute_result"
    }
   ],
   "source": [
    "adjusted_counts[\"_merge\"]"
   ]
  },
  {
   "cell_type": "code",
   "execution_count": 136,
   "id": "827337ce",
   "metadata": {},
   "outputs": [
    {
     "data": {
      "text/plain": [
       "0.0"
      ]
     },
     "execution_count": 136,
     "metadata": {},
     "output_type": "execute_result"
    }
   ],
   "source": [
    "sum(adjusted_counts[adjusted_counts[\"_merge\"]==\"right_only\"][\"Adj_Pop\"])"
   ]
  },
  {
   "cell_type": "code",
   "execution_count": 137,
   "id": "1c0d5952",
   "metadata": {},
   "outputs": [],
   "source": [
    "joined = adjusted_counts[(adjusted_counts[\"_merge\"]==\"both\") | (adjusted_counts[\"STATEAB\"]==\"RI\")]"
   ]
  },
  {
   "cell_type": "code",
   "execution_count": 138,
   "id": "a8af3816",
   "metadata": {},
   "outputs": [
    {
     "name": "stderr",
     "output_type": "stream",
     "text": [
      "/var/folders/1t/0q4w6hm92mg_zxd84dfxmq3m0000gn/T/ipykernel_72029/1730886908.py:1: SettingWithCopyWarning: \n",
      "A value is trying to be set on a copy of a slice from a DataFrame.\n",
      "Try using .loc[row_indexer,col_indexer] = value instead\n",
      "\n",
      "See the caveats in the documentation: https://pandas.pydata.org/pandas-docs/stable/user_guide/indexing.html#returning-a-view-versus-a-copy\n",
      "  joined[\"Adj_Pop\"] = joined[\"Adj_Pop\"].fillna(0)\n",
      "/var/folders/1t/0q4w6hm92mg_zxd84dfxmq3m0000gn/T/ipykernel_72029/1730886908.py:2: SettingWithCopyWarning: \n",
      "A value is trying to be set on a copy of a slice from a DataFrame.\n",
      "Try using .loc[row_indexer,col_indexer] = value instead\n",
      "\n",
      "See the caveats in the documentation: https://pandas.pydata.org/pandas-docs/stable/user_guide/indexing.html#returning-a-view-versus-a-copy\n",
      "  joined[\"Adj_Pop\"] = joined[\"Adj_Pop\"].astype(int)\n"
     ]
    }
   ],
   "source": [
    "joined[\"Adj_Pop\"] = joined[\"Adj_Pop\"].fillna(0)\n",
    "joined[\"Adj_Pop\"] = joined[\"Adj_Pop\"].astype(int)"
   ]
  },
  {
   "cell_type": "markdown",
   "id": "128d3020",
   "metadata": {},
   "source": [
    "## Aggregate to Districts"
   ]
  },
  {
   "cell_type": "code",
   "execution_count": 139,
   "id": "310b11b0",
   "metadata": {},
   "outputs": [
    {
     "data": {
      "text/plain": [
       "array(['CA', 'CO', 'CT', 'DE', 'HI', 'MD', 'MT', 'NJ', 'NV', 'NY', 'PA',\n",
       "       'RI', 'VA', 'WA'], dtype=object)"
      ]
     },
     "execution_count": 139,
     "metadata": {},
     "output_type": "execute_result"
    }
   ],
   "source": [
    "joined[\"STATEAB\"].unique()"
   ]
  },
  {
   "cell_type": "code",
   "execution_count": 140,
   "id": "a84c771a",
   "metadata": {},
   "outputs": [],
   "source": [
    "uses_cong = joined[joined[\"STATEAB\"].isin([\"CA\", \"MD\", \"NJ\", \"NV\", \"RI\", \"VA\", \"WA\"])]\n",
    "\n",
    "joined_cong = uses_cong.groupby(\"UNQ_CONG_DIST_ID\").sum()\n",
    "joined_sldl = joined.groupby(\"UNQ_SLDL_DIST_ID\").sum()\n",
    "joined_sldu = joined.groupby(\"UNQ_SLDU_DIST_ID\").sum()\n",
    "\n",
    "joined_cong.reset_index(inplace = True, drop = False)\n",
    "joined_sldl.reset_index(inplace = True, drop = False)\n",
    "joined_sldu.reset_index(inplace = True, drop = False)"
   ]
  },
  {
   "cell_type": "code",
   "execution_count": 141,
   "id": "18b934dd",
   "metadata": {},
   "outputs": [],
   "source": [
    "joined_cong.columns = [\"ID\", \"Adj_Pop\"]\n",
    "joined_sldl.columns = [\"ID\", \"Adj_Pop\"]\n",
    "joined_sldu.columns = [\"ID\", \"Adj_Pop\"]\n",
    "\n",
    "joined_cong[\"Level\"] = \"CONG\"\n",
    "joined_sldl[\"Level\"] = \"SLDL\"\n",
    "joined_sldu[\"Level\"] = \"SLDU\"\n",
    "\n",
    "combined_files = pd.concat([joined_cong, joined_sldl, joined_sldu])"
   ]
  },
  {
   "cell_type": "code",
   "execution_count": 142,
   "id": "d3967dc4",
   "metadata": {},
   "outputs": [],
   "source": [
    "combined_files[\"State\"] = combined_files[\"ID\"].apply(lambda x: x[0:2])"
   ]
  },
  {
   "cell_type": "code",
   "execution_count": 143,
   "id": "e62ad9eb",
   "metadata": {},
   "outputs": [
    {
     "data": {
      "text/plain": [
       "PA    253\n",
       "NY    213\n",
       "CT    189\n",
       "CA    172\n",
       "VA    151\n",
       "MT    150\n",
       "MD    126\n",
       "RI    116\n",
       "WA    108\n",
       "CO    100\n",
       "NJ     92\n",
       "HI     76\n",
       "NV     67\n",
       "DE     62\n",
       "Name: State, dtype: int64"
      ]
     },
     "execution_count": 143,
     "metadata": {},
     "output_type": "execute_result"
    }
   ],
   "source": [
    "combined_files[\"State\"].value_counts()"
   ]
  },
  {
   "cell_type": "markdown",
   "id": "9a2fe773",
   "metadata": {},
   "source": [
    "## Add in RI Data"
   ]
  },
  {
   "cell_type": "code",
   "execution_count": 164,
   "id": "52d82e7a",
   "metadata": {},
   "outputs": [
    {
     "name": "stderr",
     "output_type": "stream",
     "text": [
      "/var/folders/1t/0q4w6hm92mg_zxd84dfxmq3m0000gn/T/ipykernel_72029/3699920724.py:4: SettingWithCopyWarning: \n",
      "A value is trying to be set on a copy of a slice from a DataFrame.\n",
      "Try using .loc[row_indexer,col_indexer] = value instead\n",
      "\n",
      "See the caveats in the documentation: https://pandas.pydata.org/pandas-docs/stable/user_guide/indexing.html#returning-a-view-versus-a-copy\n",
      "  combined_files[\"ID\"] = combined_files[\"ID\"].map(ri_update_dict).fillna(combined_files[\"ID\"])\n"
     ]
    }
   ],
   "source": [
    "ri_update_dict = {\"RI-1\":\"RI-01\",\n",
    "\"RI-2\":\"RI-02\"}\n",
    "\n",
    "combined_files[\"ID\"] = combined_files[\"ID\"].map(ri_update_dict).fillna(combined_files[\"ID\"])"
   ]
  },
  {
   "cell_type": "code",
   "execution_count": 165,
   "id": "f99af734",
   "metadata": {},
   "outputs": [
    {
     "name": "stderr",
     "output_type": "stream",
     "text": [
      "/var/folders/1t/0q4w6hm92mg_zxd84dfxmq3m0000gn/T/ipykernel_72029/1697859012.py:1: SettingWithCopyWarning: \n",
      "A value is trying to be set on a copy of a slice from a DataFrame.\n",
      "Try using .loc[row_indexer,col_indexer] = value instead\n",
      "\n",
      "See the caveats in the documentation: https://pandas.pydata.org/pandas-docs/stable/user_guide/indexing.html#returning-a-view-versus-a-copy\n",
      "  combined_files[\"unique_id\"] = combined_files[\"Level\"]+\"-\"+combined_files[\"ID\"]\n"
     ]
    }
   ],
   "source": [
    "combined_files[\"unique_id\"] = combined_files[\"Level\"]+\"-\"+combined_files[\"ID\"]"
   ]
  },
  {
   "cell_type": "code",
   "execution_count": 166,
   "id": "fc990e6a",
   "metadata": {},
   "outputs": [
    {
     "data": {
      "text/html": [
       "<div>\n",
       "<style scoped>\n",
       "    .dataframe tbody tr th:only-of-type {\n",
       "        vertical-align: middle;\n",
       "    }\n",
       "\n",
       "    .dataframe tbody tr th {\n",
       "        vertical-align: top;\n",
       "    }\n",
       "\n",
       "    .dataframe thead th {\n",
       "        text-align: right;\n",
       "    }\n",
       "</style>\n",
       "<table border=\"1\" class=\"dataframe\">\n",
       "  <thead>\n",
       "    <tr style=\"text-align: right;\">\n",
       "      <th></th>\n",
       "      <th>ID</th>\n",
       "      <th>Adj_Pop</th>\n",
       "      <th>Level</th>\n",
       "      <th>State</th>\n",
       "      <th>unique_id</th>\n",
       "      <th>state-level</th>\n",
       "      <th>State-Level</th>\n",
       "    </tr>\n",
       "  </thead>\n",
       "  <tbody>\n",
       "    <tr>\n",
       "      <th>0</th>\n",
       "      <td>CA-1</td>\n",
       "      <td>760066</td>\n",
       "      <td>CONG</td>\n",
       "      <td>CA</td>\n",
       "      <td>CONG-CA-1</td>\n",
       "      <td>CA-CONG</td>\n",
       "      <td>CA-CONG</td>\n",
       "    </tr>\n",
       "    <tr>\n",
       "      <th>1</th>\n",
       "      <td>CA-10</td>\n",
       "      <td>760066</td>\n",
       "      <td>CONG</td>\n",
       "      <td>CA</td>\n",
       "      <td>CONG-CA-10</td>\n",
       "      <td>CA-CONG</td>\n",
       "      <td>CA-CONG</td>\n",
       "    </tr>\n",
       "    <tr>\n",
       "      <th>2</th>\n",
       "      <td>CA-11</td>\n",
       "      <td>760067</td>\n",
       "      <td>CONG</td>\n",
       "      <td>CA</td>\n",
       "      <td>CONG-CA-11</td>\n",
       "      <td>CA-CONG</td>\n",
       "      <td>CA-CONG</td>\n",
       "    </tr>\n",
       "    <tr>\n",
       "      <th>3</th>\n",
       "      <td>CA-12</td>\n",
       "      <td>760065</td>\n",
       "      <td>CONG</td>\n",
       "      <td>CA</td>\n",
       "      <td>CONG-CA-12</td>\n",
       "      <td>CA-CONG</td>\n",
       "      <td>CA-CONG</td>\n",
       "    </tr>\n",
       "    <tr>\n",
       "      <th>4</th>\n",
       "      <td>CA-13</td>\n",
       "      <td>760065</td>\n",
       "      <td>CONG</td>\n",
       "      <td>CA</td>\n",
       "      <td>CONG-CA-13</td>\n",
       "      <td>CA-CONG</td>\n",
       "      <td>CA-CONG</td>\n",
       "    </tr>\n",
       "    <tr>\n",
       "      <th>...</th>\n",
       "      <td>...</td>\n",
       "      <td>...</td>\n",
       "      <td>...</td>\n",
       "      <td>...</td>\n",
       "      <td>...</td>\n",
       "      <td>...</td>\n",
       "      <td>...</td>\n",
       "    </tr>\n",
       "    <tr>\n",
       "      <th>552</th>\n",
       "      <td>WA-45</td>\n",
       "      <td>157270</td>\n",
       "      <td>SLDU</td>\n",
       "      <td>WA</td>\n",
       "      <td>SLDU-WA-45</td>\n",
       "      <td>WA-SLDU</td>\n",
       "      <td>WA-SLDU</td>\n",
       "    </tr>\n",
       "    <tr>\n",
       "      <th>553</th>\n",
       "      <td>WA-46</td>\n",
       "      <td>157255</td>\n",
       "      <td>SLDU</td>\n",
       "      <td>WA</td>\n",
       "      <td>SLDU-WA-46</td>\n",
       "      <td>WA-SLDU</td>\n",
       "      <td>WA-SLDU</td>\n",
       "    </tr>\n",
       "    <tr>\n",
       "      <th>554</th>\n",
       "      <td>WA-47</td>\n",
       "      <td>157240</td>\n",
       "      <td>SLDU</td>\n",
       "      <td>WA</td>\n",
       "      <td>SLDU-WA-47</td>\n",
       "      <td>WA-SLDU</td>\n",
       "      <td>WA-SLDU</td>\n",
       "    </tr>\n",
       "    <tr>\n",
       "      <th>555</th>\n",
       "      <td>WA-48</td>\n",
       "      <td>157252</td>\n",
       "      <td>SLDU</td>\n",
       "      <td>WA</td>\n",
       "      <td>SLDU-WA-48</td>\n",
       "      <td>WA-SLDU</td>\n",
       "      <td>WA-SLDU</td>\n",
       "    </tr>\n",
       "    <tr>\n",
       "      <th>556</th>\n",
       "      <td>WA-49</td>\n",
       "      <td>157252</td>\n",
       "      <td>SLDU</td>\n",
       "      <td>WA</td>\n",
       "      <td>SLDU-WA-49</td>\n",
       "      <td>WA-SLDU</td>\n",
       "      <td>WA-SLDU</td>\n",
       "    </tr>\n",
       "  </tbody>\n",
       "</table>\n",
       "<p>1872 rows × 7 columns</p>\n",
       "</div>"
      ],
      "text/plain": [
       "        ID  Adj_Pop Level State   unique_id state-level State-Level\n",
       "0     CA-1   760066  CONG    CA   CONG-CA-1     CA-CONG     CA-CONG\n",
       "1    CA-10   760066  CONG    CA  CONG-CA-10     CA-CONG     CA-CONG\n",
       "2    CA-11   760067  CONG    CA  CONG-CA-11     CA-CONG     CA-CONG\n",
       "3    CA-12   760065  CONG    CA  CONG-CA-12     CA-CONG     CA-CONG\n",
       "4    CA-13   760065  CONG    CA  CONG-CA-13     CA-CONG     CA-CONG\n",
       "..     ...      ...   ...   ...         ...         ...         ...\n",
       "552  WA-45   157270  SLDU    WA  SLDU-WA-45     WA-SLDU     WA-SLDU\n",
       "553  WA-46   157255  SLDU    WA  SLDU-WA-46     WA-SLDU     WA-SLDU\n",
       "554  WA-47   157240  SLDU    WA  SLDU-WA-47     WA-SLDU     WA-SLDU\n",
       "555  WA-48   157252  SLDU    WA  SLDU-WA-48     WA-SLDU     WA-SLDU\n",
       "556  WA-49   157252  SLDU    WA  SLDU-WA-49     WA-SLDU     WA-SLDU\n",
       "\n",
       "[1872 rows x 7 columns]"
      ]
     },
     "execution_count": 166,
     "metadata": {},
     "output_type": "execute_result"
    }
   ],
   "source": [
    "combined_files"
   ]
  },
  {
   "cell_type": "code",
   "execution_count": 167,
   "id": "da1b724c",
   "metadata": {},
   "outputs": [],
   "source": [
    "ri_data = pd.read_csv(\"./raw-from-source/ri_sizes.csv\",dtype={\"Number\":str, \"Adj_Pop\":int, \"Level\":str})"
   ]
  },
  {
   "cell_type": "code",
   "execution_count": 168,
   "id": "ecc84b00",
   "metadata": {},
   "outputs": [
    {
     "data": {
      "text/html": [
       "<div>\n",
       "<style scoped>\n",
       "    .dataframe tbody tr th:only-of-type {\n",
       "        vertical-align: middle;\n",
       "    }\n",
       "\n",
       "    .dataframe tbody tr th {\n",
       "        vertical-align: top;\n",
       "    }\n",
       "\n",
       "    .dataframe thead th {\n",
       "        text-align: right;\n",
       "    }\n",
       "</style>\n",
       "<table border=\"1\" class=\"dataframe\">\n",
       "  <thead>\n",
       "    <tr style=\"text-align: right;\">\n",
       "      <th></th>\n",
       "      <th>Number</th>\n",
       "      <th>Adj_Pop</th>\n",
       "      <th>Level</th>\n",
       "    </tr>\n",
       "  </thead>\n",
       "  <tbody>\n",
       "    <tr>\n",
       "      <th>75</th>\n",
       "      <td>1</td>\n",
       "      <td>548689</td>\n",
       "      <td>CONG</td>\n",
       "    </tr>\n",
       "    <tr>\n",
       "      <th>76</th>\n",
       "      <td>2</td>\n",
       "      <td>548690</td>\n",
       "      <td>CONG</td>\n",
       "    </tr>\n",
       "  </tbody>\n",
       "</table>\n",
       "</div>"
      ],
      "text/plain": [
       "   Number  Adj_Pop Level\n",
       "75      1   548689  CONG\n",
       "76      2   548690  CONG"
      ]
     },
     "execution_count": 168,
     "metadata": {},
     "output_type": "execute_result"
    }
   ],
   "source": [
    "ri_data[ri_data[\"Level\"]==\"CONG\"]"
   ]
  },
  {
   "cell_type": "code",
   "execution_count": 169,
   "id": "45a87418",
   "metadata": {},
   "outputs": [],
   "source": [
    "ri_data[\"unique_id\"] = ri_data[\"Level\"]+\"-RI-\"+ri_data[\"Number\"].astype(str).str.zfill(2)"
   ]
  },
  {
   "cell_type": "code",
   "execution_count": 170,
   "id": "a846837f",
   "metadata": {},
   "outputs": [],
   "source": [
    "ri_data[\"Adj_Pop\"] = ri_data[\"Adj_Pop\"].astype(int)"
   ]
  },
  {
   "cell_type": "code",
   "execution_count": 171,
   "id": "e56d4fe1",
   "metadata": {},
   "outputs": [
    {
     "data": {
      "text/plain": [
       "0      SLDL-RI-01\n",
       "1      SLDL-RI-02\n",
       "2      SLDL-RI-03\n",
       "3      SLDL-RI-04\n",
       "4      SLDL-RI-05\n",
       "          ...    \n",
       "110    SLDU-RI-34\n",
       "111    SLDU-RI-35\n",
       "112    SLDU-RI-36\n",
       "113    SLDU-RI-37\n",
       "114    SLDU-RI-38\n",
       "Name: unique_id, Length: 115, dtype: object"
      ]
     },
     "execution_count": 171,
     "metadata": {},
     "output_type": "execute_result"
    }
   ],
   "source": [
    "ri_data[\"unique_id\"]"
   ]
  },
  {
   "cell_type": "code",
   "execution_count": 174,
   "id": "f6fcb845",
   "metadata": {},
   "outputs": [
    {
     "data": {
      "text/html": [
       "<div>\n",
       "<style scoped>\n",
       "    .dataframe tbody tr th:only-of-type {\n",
       "        vertical-align: middle;\n",
       "    }\n",
       "\n",
       "    .dataframe tbody tr th {\n",
       "        vertical-align: top;\n",
       "    }\n",
       "\n",
       "    .dataframe thead th {\n",
       "        text-align: right;\n",
       "    }\n",
       "</style>\n",
       "<table border=\"1\" class=\"dataframe\">\n",
       "  <thead>\n",
       "    <tr style=\"text-align: right;\">\n",
       "      <th></th>\n",
       "      <th>Number</th>\n",
       "      <th>Adj_Pop</th>\n",
       "      <th>Level</th>\n",
       "      <th>unique_id</th>\n",
       "    </tr>\n",
       "  </thead>\n",
       "  <tbody>\n",
       "    <tr>\n",
       "      <th>75</th>\n",
       "      <td>1</td>\n",
       "      <td>548689</td>\n",
       "      <td>CONG</td>\n",
       "      <td>CONG-RI-01</td>\n",
       "    </tr>\n",
       "    <tr>\n",
       "      <th>76</th>\n",
       "      <td>2</td>\n",
       "      <td>548690</td>\n",
       "      <td>CONG</td>\n",
       "      <td>CONG-RI-02</td>\n",
       "    </tr>\n",
       "  </tbody>\n",
       "</table>\n",
       "</div>"
      ],
      "text/plain": [
       "   Number  Adj_Pop Level   unique_id\n",
       "75      1   548689  CONG  CONG-RI-01\n",
       "76      2   548690  CONG  CONG-RI-02"
      ]
     },
     "execution_count": 174,
     "metadata": {},
     "output_type": "execute_result"
    }
   ],
   "source": [
    "ri_data[ri_data[\"Level\"]==\"CONG\"]"
   ]
  },
  {
   "cell_type": "code",
   "execution_count": 175,
   "id": "56fd2b5b",
   "metadata": {},
   "outputs": [],
   "source": [
    "ri_data_dict = dict(zip(ri_data[\"unique_id\"], ri_data[\"Adj_Pop\"]))"
   ]
  },
  {
   "cell_type": "code",
   "execution_count": null,
   "id": "fefae2d3",
   "metadata": {},
   "outputs": [],
   "source": []
  },
  {
   "cell_type": "code",
   "execution_count": 177,
   "id": "ff1d9323",
   "metadata": {},
   "outputs": [
    {
     "name": "stderr",
     "output_type": "stream",
     "text": [
      "/var/folders/1t/0q4w6hm92mg_zxd84dfxmq3m0000gn/T/ipykernel_72029/3580015604.py:1: SettingWithCopyWarning: \n",
      "A value is trying to be set on a copy of a slice from a DataFrame.\n",
      "Try using .loc[row_indexer,col_indexer] = value instead\n",
      "\n",
      "See the caveats in the documentation: https://pandas.pydata.org/pandas-docs/stable/user_guide/indexing.html#returning-a-view-versus-a-copy\n",
      "  combined_files[\"Adj_Pop\"] = combined_files[\"unique_id\"].map(ri_data_dict).fillna(combined_files[\"Adj_Pop\"])\n"
     ]
    }
   ],
   "source": [
    "combined_files[\"Adj_Pop\"] = combined_files[\"unique_id\"].map(ri_data_dict).fillna(combined_files[\"Adj_Pop\"])"
   ]
  },
  {
   "cell_type": "code",
   "execution_count": 178,
   "id": "3e493c56",
   "metadata": {},
   "outputs": [
    {
     "data": {
      "text/html": [
       "<div>\n",
       "<style scoped>\n",
       "    .dataframe tbody tr th:only-of-type {\n",
       "        vertical-align: middle;\n",
       "    }\n",
       "\n",
       "    .dataframe tbody tr th {\n",
       "        vertical-align: top;\n",
       "    }\n",
       "\n",
       "    .dataframe thead th {\n",
       "        text-align: right;\n",
       "    }\n",
       "</style>\n",
       "<table border=\"1\" class=\"dataframe\">\n",
       "  <thead>\n",
       "    <tr style=\"text-align: right;\">\n",
       "      <th></th>\n",
       "      <th>ID</th>\n",
       "      <th>Adj_Pop</th>\n",
       "      <th>Level</th>\n",
       "      <th>State</th>\n",
       "      <th>unique_id</th>\n",
       "      <th>state-level</th>\n",
       "      <th>State-Level</th>\n",
       "    </tr>\n",
       "  </thead>\n",
       "  <tbody>\n",
       "    <tr>\n",
       "      <th>76</th>\n",
       "      <td>RI-01</td>\n",
       "      <td>548689.0</td>\n",
       "      <td>CONG</td>\n",
       "      <td>RI</td>\n",
       "      <td>CONG-RI-01</td>\n",
       "      <td>RI-CONG</td>\n",
       "      <td>RI-CONG</td>\n",
       "    </tr>\n",
       "    <tr>\n",
       "      <th>77</th>\n",
       "      <td>RI-02</td>\n",
       "      <td>548690.0</td>\n",
       "      <td>CONG</td>\n",
       "      <td>RI</td>\n",
       "      <td>CONG-RI-02</td>\n",
       "      <td>RI-CONG</td>\n",
       "      <td>RI-CONG</td>\n",
       "    </tr>\n",
       "    <tr>\n",
       "      <th>995</th>\n",
       "      <td>RI-01</td>\n",
       "      <td>14793.0</td>\n",
       "      <td>SLDL</td>\n",
       "      <td>RI</td>\n",
       "      <td>SLDL-RI-01</td>\n",
       "      <td>RI-SLDL</td>\n",
       "      <td>RI-SLDL</td>\n",
       "    </tr>\n",
       "    <tr>\n",
       "      <th>996</th>\n",
       "      <td>RI-02</td>\n",
       "      <td>14166.0</td>\n",
       "      <td>SLDL</td>\n",
       "      <td>RI</td>\n",
       "      <td>SLDL-RI-02</td>\n",
       "      <td>RI-SLDL</td>\n",
       "      <td>RI-SLDL</td>\n",
       "    </tr>\n",
       "    <tr>\n",
       "      <th>997</th>\n",
       "      <td>RI-03</td>\n",
       "      <td>15151.0</td>\n",
       "      <td>SLDL</td>\n",
       "      <td>RI</td>\n",
       "      <td>SLDL-RI-03</td>\n",
       "      <td>RI-SLDL</td>\n",
       "      <td>RI-SLDL</td>\n",
       "    </tr>\n",
       "    <tr>\n",
       "      <th>...</th>\n",
       "      <td>...</td>\n",
       "      <td>...</td>\n",
       "      <td>...</td>\n",
       "      <td>...</td>\n",
       "      <td>...</td>\n",
       "      <td>...</td>\n",
       "      <td>...</td>\n",
       "    </tr>\n",
       "    <tr>\n",
       "      <th>462</th>\n",
       "      <td>RI-34</td>\n",
       "      <td>28505.0</td>\n",
       "      <td>SLDU</td>\n",
       "      <td>RI</td>\n",
       "      <td>SLDU-RI-34</td>\n",
       "      <td>RI-SLDU</td>\n",
       "      <td>RI-SLDU</td>\n",
       "    </tr>\n",
       "    <tr>\n",
       "      <th>463</th>\n",
       "      <td>RI-35</td>\n",
       "      <td>30309.0</td>\n",
       "      <td>SLDU</td>\n",
       "      <td>RI</td>\n",
       "      <td>SLDU-RI-35</td>\n",
       "      <td>RI-SLDU</td>\n",
       "      <td>RI-SLDU</td>\n",
       "    </tr>\n",
       "    <tr>\n",
       "      <th>464</th>\n",
       "      <td>RI-36</td>\n",
       "      <td>30078.0</td>\n",
       "      <td>SLDU</td>\n",
       "      <td>RI</td>\n",
       "      <td>SLDU-RI-36</td>\n",
       "      <td>RI-SLDU</td>\n",
       "      <td>RI-SLDU</td>\n",
       "    </tr>\n",
       "    <tr>\n",
       "      <th>465</th>\n",
       "      <td>RI-37</td>\n",
       "      <td>27638.0</td>\n",
       "      <td>SLDU</td>\n",
       "      <td>RI</td>\n",
       "      <td>SLDU-RI-37</td>\n",
       "      <td>RI-SLDU</td>\n",
       "      <td>RI-SLDU</td>\n",
       "    </tr>\n",
       "    <tr>\n",
       "      <th>466</th>\n",
       "      <td>RI-38</td>\n",
       "      <td>28906.0</td>\n",
       "      <td>SLDU</td>\n",
       "      <td>RI</td>\n",
       "      <td>SLDU-RI-38</td>\n",
       "      <td>RI-SLDU</td>\n",
       "      <td>RI-SLDU</td>\n",
       "    </tr>\n",
       "  </tbody>\n",
       "</table>\n",
       "<p>115 rows × 7 columns</p>\n",
       "</div>"
      ],
      "text/plain": [
       "        ID   Adj_Pop Level State   unique_id state-level State-Level\n",
       "76   RI-01  548689.0  CONG    RI  CONG-RI-01     RI-CONG     RI-CONG\n",
       "77   RI-02  548690.0  CONG    RI  CONG-RI-02     RI-CONG     RI-CONG\n",
       "995  RI-01   14793.0  SLDL    RI  SLDL-RI-01     RI-SLDL     RI-SLDL\n",
       "996  RI-02   14166.0  SLDL    RI  SLDL-RI-02     RI-SLDL     RI-SLDL\n",
       "997  RI-03   15151.0  SLDL    RI  SLDL-RI-03     RI-SLDL     RI-SLDL\n",
       "..     ...       ...   ...   ...         ...         ...         ...\n",
       "462  RI-34   28505.0  SLDU    RI  SLDU-RI-34     RI-SLDU     RI-SLDU\n",
       "463  RI-35   30309.0  SLDU    RI  SLDU-RI-35     RI-SLDU     RI-SLDU\n",
       "464  RI-36   30078.0  SLDU    RI  SLDU-RI-36     RI-SLDU     RI-SLDU\n",
       "465  RI-37   27638.0  SLDU    RI  SLDU-RI-37     RI-SLDU     RI-SLDU\n",
       "466  RI-38   28906.0  SLDU    RI  SLDU-RI-38     RI-SLDU     RI-SLDU\n",
       "\n",
       "[115 rows x 7 columns]"
      ]
     },
     "execution_count": 178,
     "metadata": {},
     "output_type": "execute_result"
    }
   ],
   "source": [
    "combined_files[combined_files[\"unique_id\"].str.contains(\"RI\")]"
   ]
  },
  {
   "cell_type": "code",
   "execution_count": 179,
   "id": "a4a2ccea",
   "metadata": {},
   "outputs": [
    {
     "name": "stderr",
     "output_type": "stream",
     "text": [
      "/var/folders/1t/0q4w6hm92mg_zxd84dfxmq3m0000gn/T/ipykernel_72029/1139559707.py:1: SettingWithCopyWarning: \n",
      "A value is trying to be set on a copy of a slice from a DataFrame.\n",
      "Try using .loc[row_indexer,col_indexer] = value instead\n",
      "\n",
      "See the caveats in the documentation: https://pandas.pydata.org/pandas-docs/stable/user_guide/indexing.html#returning-a-view-versus-a-copy\n",
      "  combined_files[\"state-level\"] = combined_files[\"State\"]+\"-\"+combined_files[\"Level\"]\n"
     ]
    }
   ],
   "source": [
    "combined_files[\"state-level\"] = combined_files[\"State\"]+\"-\"+combined_files[\"Level\"]"
   ]
  },
  {
   "cell_type": "code",
   "execution_count": 180,
   "id": "01e4f947",
   "metadata": {},
   "outputs": [
    {
     "name": "stderr",
     "output_type": "stream",
     "text": [
      "/var/folders/1t/0q4w6hm92mg_zxd84dfxmq3m0000gn/T/ipykernel_72029/1209467365.py:1: SettingWithCopyWarning: \n",
      "A value is trying to be set on a copy of a slice from a DataFrame.\n",
      "Try using .loc[row_indexer,col_indexer] = value instead\n",
      "\n",
      "See the caveats in the documentation: https://pandas.pydata.org/pandas-docs/stable/user_guide/indexing.html#returning-a-view-versus-a-copy\n",
      "  combined_files[\"Adj_Pop\"] = combined_files[\"Adj_Pop\"].astype(int)\n"
     ]
    }
   ],
   "source": [
    "combined_files[\"Adj_Pop\"] = combined_files[\"Adj_Pop\"].astype(int)"
   ]
  },
  {
   "cell_type": "code",
   "execution_count": null,
   "id": "049d4c48",
   "metadata": {},
   "outputs": [],
   "source": []
  },
  {
   "cell_type": "code",
   "execution_count": null,
   "id": "0e496ed2",
   "metadata": {},
   "outputs": [],
   "source": []
  },
  {
   "cell_type": "code",
   "execution_count": 181,
   "id": "24611660",
   "metadata": {},
   "outputs": [
    {
     "data": {
      "text/html": [
       "<div>\n",
       "<style scoped>\n",
       "    .dataframe tbody tr th:only-of-type {\n",
       "        vertical-align: middle;\n",
       "    }\n",
       "\n",
       "    .dataframe tbody tr th {\n",
       "        vertical-align: top;\n",
       "    }\n",
       "\n",
       "    .dataframe thead th {\n",
       "        text-align: right;\n",
       "    }\n",
       "</style>\n",
       "<table border=\"1\" class=\"dataframe\">\n",
       "  <thead>\n",
       "    <tr style=\"text-align: right;\">\n",
       "      <th></th>\n",
       "      <th>ID</th>\n",
       "      <th>Adj_Pop</th>\n",
       "      <th>Level</th>\n",
       "      <th>State</th>\n",
       "      <th>unique_id</th>\n",
       "      <th>state-level</th>\n",
       "      <th>State-Level</th>\n",
       "    </tr>\n",
       "  </thead>\n",
       "  <tbody>\n",
       "    <tr>\n",
       "      <th>379</th>\n",
       "      <td>PA-01</td>\n",
       "      <td>250243</td>\n",
       "      <td>SLDU</td>\n",
       "      <td>PA</td>\n",
       "      <td>SLDU-PA-01</td>\n",
       "      <td>PA-SLDU</td>\n",
       "      <td>PA-SLDU</td>\n",
       "    </tr>\n",
       "    <tr>\n",
       "      <th>380</th>\n",
       "      <td>PA-02</td>\n",
       "      <td>260277</td>\n",
       "      <td>SLDU</td>\n",
       "      <td>PA</td>\n",
       "      <td>SLDU-PA-02</td>\n",
       "      <td>PA-SLDU</td>\n",
       "      <td>PA-SLDU</td>\n",
       "    </tr>\n",
       "    <tr>\n",
       "      <th>381</th>\n",
       "      <td>PA-03</td>\n",
       "      <td>263993</td>\n",
       "      <td>SLDU</td>\n",
       "      <td>PA</td>\n",
       "      <td>SLDU-PA-03</td>\n",
       "      <td>PA-SLDU</td>\n",
       "      <td>PA-SLDU</td>\n",
       "    </tr>\n",
       "    <tr>\n",
       "      <th>382</th>\n",
       "      <td>PA-04</td>\n",
       "      <td>268248</td>\n",
       "      <td>SLDU</td>\n",
       "      <td>PA</td>\n",
       "      <td>SLDU-PA-04</td>\n",
       "      <td>PA-SLDU</td>\n",
       "      <td>PA-SLDU</td>\n",
       "    </tr>\n",
       "    <tr>\n",
       "      <th>383</th>\n",
       "      <td>PA-05</td>\n",
       "      <td>267205</td>\n",
       "      <td>SLDU</td>\n",
       "      <td>PA</td>\n",
       "      <td>SLDU-PA-05</td>\n",
       "      <td>PA-SLDU</td>\n",
       "      <td>PA-SLDU</td>\n",
       "    </tr>\n",
       "    <tr>\n",
       "      <th>384</th>\n",
       "      <td>PA-06</td>\n",
       "      <td>269699</td>\n",
       "      <td>SLDU</td>\n",
       "      <td>PA</td>\n",
       "      <td>SLDU-PA-06</td>\n",
       "      <td>PA-SLDU</td>\n",
       "      <td>PA-SLDU</td>\n",
       "    </tr>\n",
       "    <tr>\n",
       "      <th>385</th>\n",
       "      <td>PA-07</td>\n",
       "      <td>263697</td>\n",
       "      <td>SLDU</td>\n",
       "      <td>PA</td>\n",
       "      <td>SLDU-PA-07</td>\n",
       "      <td>PA-SLDU</td>\n",
       "      <td>PA-SLDU</td>\n",
       "    </tr>\n",
       "    <tr>\n",
       "      <th>386</th>\n",
       "      <td>PA-08</td>\n",
       "      <td>256726</td>\n",
       "      <td>SLDU</td>\n",
       "      <td>PA</td>\n",
       "      <td>SLDU-PA-08</td>\n",
       "      <td>PA-SLDU</td>\n",
       "      <td>PA-SLDU</td>\n",
       "    </tr>\n",
       "    <tr>\n",
       "      <th>387</th>\n",
       "      <td>PA-09</td>\n",
       "      <td>252137</td>\n",
       "      <td>SLDU</td>\n",
       "      <td>PA</td>\n",
       "      <td>SLDU-PA-09</td>\n",
       "      <td>PA-SLDU</td>\n",
       "      <td>PA-SLDU</td>\n",
       "    </tr>\n",
       "    <tr>\n",
       "      <th>388</th>\n",
       "      <td>PA-10</td>\n",
       "      <td>269925</td>\n",
       "      <td>SLDU</td>\n",
       "      <td>PA</td>\n",
       "      <td>SLDU-PA-10</td>\n",
       "      <td>PA-SLDU</td>\n",
       "      <td>PA-SLDU</td>\n",
       "    </tr>\n",
       "    <tr>\n",
       "      <th>389</th>\n",
       "      <td>PA-11</td>\n",
       "      <td>263931</td>\n",
       "      <td>SLDU</td>\n",
       "      <td>PA</td>\n",
       "      <td>SLDU-PA-11</td>\n",
       "      <td>PA-SLDU</td>\n",
       "      <td>PA-SLDU</td>\n",
       "    </tr>\n",
       "    <tr>\n",
       "      <th>390</th>\n",
       "      <td>PA-12</td>\n",
       "      <td>263688</td>\n",
       "      <td>SLDU</td>\n",
       "      <td>PA</td>\n",
       "      <td>SLDU-PA-12</td>\n",
       "      <td>PA-SLDU</td>\n",
       "      <td>PA-SLDU</td>\n",
       "    </tr>\n",
       "    <tr>\n",
       "      <th>391</th>\n",
       "      <td>PA-13</td>\n",
       "      <td>262878</td>\n",
       "      <td>SLDU</td>\n",
       "      <td>PA</td>\n",
       "      <td>SLDU-PA-13</td>\n",
       "      <td>PA-SLDU</td>\n",
       "      <td>PA-SLDU</td>\n",
       "    </tr>\n",
       "    <tr>\n",
       "      <th>392</th>\n",
       "      <td>PA-14</td>\n",
       "      <td>267292</td>\n",
       "      <td>SLDU</td>\n",
       "      <td>PA</td>\n",
       "      <td>SLDU-PA-14</td>\n",
       "      <td>PA-SLDU</td>\n",
       "      <td>PA-SLDU</td>\n",
       "    </tr>\n",
       "    <tr>\n",
       "      <th>393</th>\n",
       "      <td>PA-15</td>\n",
       "      <td>260164</td>\n",
       "      <td>SLDU</td>\n",
       "      <td>PA</td>\n",
       "      <td>SLDU-PA-15</td>\n",
       "      <td>PA-SLDU</td>\n",
       "      <td>PA-SLDU</td>\n",
       "    </tr>\n",
       "    <tr>\n",
       "      <th>394</th>\n",
       "      <td>PA-16</td>\n",
       "      <td>265055</td>\n",
       "      <td>SLDU</td>\n",
       "      <td>PA</td>\n",
       "      <td>SLDU-PA-16</td>\n",
       "      <td>PA-SLDU</td>\n",
       "      <td>PA-SLDU</td>\n",
       "    </tr>\n",
       "    <tr>\n",
       "      <th>395</th>\n",
       "      <td>PA-17</td>\n",
       "      <td>258156</td>\n",
       "      <td>SLDU</td>\n",
       "      <td>PA</td>\n",
       "      <td>SLDU-PA-17</td>\n",
       "      <td>PA-SLDU</td>\n",
       "      <td>PA-SLDU</td>\n",
       "    </tr>\n",
       "    <tr>\n",
       "      <th>396</th>\n",
       "      <td>PA-18</td>\n",
       "      <td>263814</td>\n",
       "      <td>SLDU</td>\n",
       "      <td>PA</td>\n",
       "      <td>SLDU-PA-18</td>\n",
       "      <td>PA-SLDU</td>\n",
       "      <td>PA-SLDU</td>\n",
       "    </tr>\n",
       "    <tr>\n",
       "      <th>397</th>\n",
       "      <td>PA-19</td>\n",
       "      <td>253763</td>\n",
       "      <td>SLDU</td>\n",
       "      <td>PA</td>\n",
       "      <td>SLDU-PA-19</td>\n",
       "      <td>PA-SLDU</td>\n",
       "      <td>PA-SLDU</td>\n",
       "    </tr>\n",
       "    <tr>\n",
       "      <th>398</th>\n",
       "      <td>PA-20</td>\n",
       "      <td>269942</td>\n",
       "      <td>SLDU</td>\n",
       "      <td>PA</td>\n",
       "      <td>SLDU-PA-20</td>\n",
       "      <td>PA-SLDU</td>\n",
       "      <td>PA-SLDU</td>\n",
       "    </tr>\n",
       "    <tr>\n",
       "      <th>399</th>\n",
       "      <td>PA-21</td>\n",
       "      <td>258167</td>\n",
       "      <td>SLDU</td>\n",
       "      <td>PA</td>\n",
       "      <td>SLDU-PA-21</td>\n",
       "      <td>PA-SLDU</td>\n",
       "      <td>PA-SLDU</td>\n",
       "    </tr>\n",
       "    <tr>\n",
       "      <th>400</th>\n",
       "      <td>PA-22</td>\n",
       "      <td>251084</td>\n",
       "      <td>SLDU</td>\n",
       "      <td>PA</td>\n",
       "      <td>SLDU-PA-22</td>\n",
       "      <td>PA-SLDU</td>\n",
       "      <td>PA-SLDU</td>\n",
       "    </tr>\n",
       "    <tr>\n",
       "      <th>401</th>\n",
       "      <td>PA-23</td>\n",
       "      <td>263353</td>\n",
       "      <td>SLDU</td>\n",
       "      <td>PA</td>\n",
       "      <td>SLDU-PA-23</td>\n",
       "      <td>PA-SLDU</td>\n",
       "      <td>PA-SLDU</td>\n",
       "    </tr>\n",
       "    <tr>\n",
       "      <th>402</th>\n",
       "      <td>PA-24</td>\n",
       "      <td>262737</td>\n",
       "      <td>SLDU</td>\n",
       "      <td>PA</td>\n",
       "      <td>SLDU-PA-24</td>\n",
       "      <td>PA-SLDU</td>\n",
       "      <td>PA-SLDU</td>\n",
       "    </tr>\n",
       "    <tr>\n",
       "      <th>403</th>\n",
       "      <td>PA-25</td>\n",
       "      <td>265569</td>\n",
       "      <td>SLDU</td>\n",
       "      <td>PA</td>\n",
       "      <td>SLDU-PA-25</td>\n",
       "      <td>PA-SLDU</td>\n",
       "      <td>PA-SLDU</td>\n",
       "    </tr>\n",
       "    <tr>\n",
       "      <th>404</th>\n",
       "      <td>PA-26</td>\n",
       "      <td>255232</td>\n",
       "      <td>SLDU</td>\n",
       "      <td>PA</td>\n",
       "      <td>SLDU-PA-26</td>\n",
       "      <td>PA-SLDU</td>\n",
       "      <td>PA-SLDU</td>\n",
       "    </tr>\n",
       "    <tr>\n",
       "      <th>405</th>\n",
       "      <td>PA-27</td>\n",
       "      <td>260244</td>\n",
       "      <td>SLDU</td>\n",
       "      <td>PA</td>\n",
       "      <td>SLDU-PA-27</td>\n",
       "      <td>PA-SLDU</td>\n",
       "      <td>PA-SLDU</td>\n",
       "    </tr>\n",
       "    <tr>\n",
       "      <th>406</th>\n",
       "      <td>PA-28</td>\n",
       "      <td>262475</td>\n",
       "      <td>SLDU</td>\n",
       "      <td>PA</td>\n",
       "      <td>SLDU-PA-28</td>\n",
       "      <td>PA-SLDU</td>\n",
       "      <td>PA-SLDU</td>\n",
       "    </tr>\n",
       "    <tr>\n",
       "      <th>407</th>\n",
       "      <td>PA-29</td>\n",
       "      <td>264845</td>\n",
       "      <td>SLDU</td>\n",
       "      <td>PA</td>\n",
       "      <td>SLDU-PA-29</td>\n",
       "      <td>PA-SLDU</td>\n",
       "      <td>PA-SLDU</td>\n",
       "    </tr>\n",
       "    <tr>\n",
       "      <th>408</th>\n",
       "      <td>PA-30</td>\n",
       "      <td>249843</td>\n",
       "      <td>SLDU</td>\n",
       "      <td>PA</td>\n",
       "      <td>SLDU-PA-30</td>\n",
       "      <td>PA-SLDU</td>\n",
       "      <td>PA-SLDU</td>\n",
       "    </tr>\n",
       "    <tr>\n",
       "      <th>409</th>\n",
       "      <td>PA-31</td>\n",
       "      <td>259208</td>\n",
       "      <td>SLDU</td>\n",
       "      <td>PA</td>\n",
       "      <td>SLDU-PA-31</td>\n",
       "      <td>PA-SLDU</td>\n",
       "      <td>PA-SLDU</td>\n",
       "    </tr>\n",
       "    <tr>\n",
       "      <th>410</th>\n",
       "      <td>PA-32</td>\n",
       "      <td>252099</td>\n",
       "      <td>SLDU</td>\n",
       "      <td>PA</td>\n",
       "      <td>SLDU-PA-32</td>\n",
       "      <td>PA-SLDU</td>\n",
       "      <td>PA-SLDU</td>\n",
       "    </tr>\n",
       "    <tr>\n",
       "      <th>411</th>\n",
       "      <td>PA-33</td>\n",
       "      <td>260301</td>\n",
       "      <td>SLDU</td>\n",
       "      <td>PA</td>\n",
       "      <td>SLDU-PA-33</td>\n",
       "      <td>PA-SLDU</td>\n",
       "      <td>PA-SLDU</td>\n",
       "    </tr>\n",
       "    <tr>\n",
       "      <th>412</th>\n",
       "      <td>PA-34</td>\n",
       "      <td>266501</td>\n",
       "      <td>SLDU</td>\n",
       "      <td>PA</td>\n",
       "      <td>SLDU-PA-34</td>\n",
       "      <td>PA-SLDU</td>\n",
       "      <td>PA-SLDU</td>\n",
       "    </tr>\n",
       "    <tr>\n",
       "      <th>413</th>\n",
       "      <td>PA-35</td>\n",
       "      <td>260141</td>\n",
       "      <td>SLDU</td>\n",
       "      <td>PA</td>\n",
       "      <td>SLDU-PA-35</td>\n",
       "      <td>PA-SLDU</td>\n",
       "      <td>PA-SLDU</td>\n",
       "    </tr>\n",
       "    <tr>\n",
       "      <th>414</th>\n",
       "      <td>PA-36</td>\n",
       "      <td>269182</td>\n",
       "      <td>SLDU</td>\n",
       "      <td>PA</td>\n",
       "      <td>SLDU-PA-36</td>\n",
       "      <td>PA-SLDU</td>\n",
       "      <td>PA-SLDU</td>\n",
       "    </tr>\n",
       "    <tr>\n",
       "      <th>415</th>\n",
       "      <td>PA-37</td>\n",
       "      <td>248858</td>\n",
       "      <td>SLDU</td>\n",
       "      <td>PA</td>\n",
       "      <td>SLDU-PA-37</td>\n",
       "      <td>PA-SLDU</td>\n",
       "      <td>PA-SLDU</td>\n",
       "    </tr>\n",
       "    <tr>\n",
       "      <th>416</th>\n",
       "      <td>PA-38</td>\n",
       "      <td>251647</td>\n",
       "      <td>SLDU</td>\n",
       "      <td>PA</td>\n",
       "      <td>SLDU-PA-38</td>\n",
       "      <td>PA-SLDU</td>\n",
       "      <td>PA-SLDU</td>\n",
       "    </tr>\n",
       "    <tr>\n",
       "      <th>417</th>\n",
       "      <td>PA-39</td>\n",
       "      <td>261704</td>\n",
       "      <td>SLDU</td>\n",
       "      <td>PA</td>\n",
       "      <td>SLDU-PA-39</td>\n",
       "      <td>PA-SLDU</td>\n",
       "      <td>PA-SLDU</td>\n",
       "    </tr>\n",
       "    <tr>\n",
       "      <th>418</th>\n",
       "      <td>PA-40</td>\n",
       "      <td>256698</td>\n",
       "      <td>SLDU</td>\n",
       "      <td>PA</td>\n",
       "      <td>SLDU-PA-40</td>\n",
       "      <td>PA-SLDU</td>\n",
       "      <td>PA-SLDU</td>\n",
       "    </tr>\n",
       "    <tr>\n",
       "      <th>419</th>\n",
       "      <td>PA-41</td>\n",
       "      <td>254701</td>\n",
       "      <td>SLDU</td>\n",
       "      <td>PA</td>\n",
       "      <td>SLDU-PA-41</td>\n",
       "      <td>PA-SLDU</td>\n",
       "      <td>PA-SLDU</td>\n",
       "    </tr>\n",
       "    <tr>\n",
       "      <th>420</th>\n",
       "      <td>PA-42</td>\n",
       "      <td>250536</td>\n",
       "      <td>SLDU</td>\n",
       "      <td>PA</td>\n",
       "      <td>SLDU-PA-42</td>\n",
       "      <td>PA-SLDU</td>\n",
       "      <td>PA-SLDU</td>\n",
       "    </tr>\n",
       "    <tr>\n",
       "      <th>421</th>\n",
       "      <td>PA-43</td>\n",
       "      <td>251870</td>\n",
       "      <td>SLDU</td>\n",
       "      <td>PA</td>\n",
       "      <td>SLDU-PA-43</td>\n",
       "      <td>PA-SLDU</td>\n",
       "      <td>PA-SLDU</td>\n",
       "    </tr>\n",
       "    <tr>\n",
       "      <th>422</th>\n",
       "      <td>PA-44</td>\n",
       "      <td>264849</td>\n",
       "      <td>SLDU</td>\n",
       "      <td>PA</td>\n",
       "      <td>SLDU-PA-44</td>\n",
       "      <td>PA-SLDU</td>\n",
       "      <td>PA-SLDU</td>\n",
       "    </tr>\n",
       "    <tr>\n",
       "      <th>423</th>\n",
       "      <td>PA-45</td>\n",
       "      <td>249661</td>\n",
       "      <td>SLDU</td>\n",
       "      <td>PA</td>\n",
       "      <td>SLDU-PA-45</td>\n",
       "      <td>PA-SLDU</td>\n",
       "      <td>PA-SLDU</td>\n",
       "    </tr>\n",
       "    <tr>\n",
       "      <th>424</th>\n",
       "      <td>PA-46</td>\n",
       "      <td>250466</td>\n",
       "      <td>SLDU</td>\n",
       "      <td>PA</td>\n",
       "      <td>SLDU-PA-46</td>\n",
       "      <td>PA-SLDU</td>\n",
       "      <td>PA-SLDU</td>\n",
       "    </tr>\n",
       "    <tr>\n",
       "      <th>425</th>\n",
       "      <td>PA-47</td>\n",
       "      <td>256105</td>\n",
       "      <td>SLDU</td>\n",
       "      <td>PA</td>\n",
       "      <td>SLDU-PA-47</td>\n",
       "      <td>PA-SLDU</td>\n",
       "      <td>PA-SLDU</td>\n",
       "    </tr>\n",
       "    <tr>\n",
       "      <th>426</th>\n",
       "      <td>PA-48</td>\n",
       "      <td>269151</td>\n",
       "      <td>SLDU</td>\n",
       "      <td>PA</td>\n",
       "      <td>SLDU-PA-48</td>\n",
       "      <td>PA-SLDU</td>\n",
       "      <td>PA-SLDU</td>\n",
       "    </tr>\n",
       "    <tr>\n",
       "      <th>427</th>\n",
       "      <td>PA-49</td>\n",
       "      <td>261100</td>\n",
       "      <td>SLDU</td>\n",
       "      <td>PA</td>\n",
       "      <td>SLDU-PA-49</td>\n",
       "      <td>PA-SLDU</td>\n",
       "      <td>PA-SLDU</td>\n",
       "    </tr>\n",
       "    <tr>\n",
       "      <th>428</th>\n",
       "      <td>PA-50</td>\n",
       "      <td>263540</td>\n",
       "      <td>SLDU</td>\n",
       "      <td>PA</td>\n",
       "      <td>SLDU-PA-50</td>\n",
       "      <td>PA-SLDU</td>\n",
       "      <td>PA-SLDU</td>\n",
       "    </tr>\n",
       "  </tbody>\n",
       "</table>\n",
       "</div>"
      ],
      "text/plain": [
       "        ID  Adj_Pop Level State   unique_id state-level State-Level\n",
       "379  PA-01   250243  SLDU    PA  SLDU-PA-01     PA-SLDU     PA-SLDU\n",
       "380  PA-02   260277  SLDU    PA  SLDU-PA-02     PA-SLDU     PA-SLDU\n",
       "381  PA-03   263993  SLDU    PA  SLDU-PA-03     PA-SLDU     PA-SLDU\n",
       "382  PA-04   268248  SLDU    PA  SLDU-PA-04     PA-SLDU     PA-SLDU\n",
       "383  PA-05   267205  SLDU    PA  SLDU-PA-05     PA-SLDU     PA-SLDU\n",
       "384  PA-06   269699  SLDU    PA  SLDU-PA-06     PA-SLDU     PA-SLDU\n",
       "385  PA-07   263697  SLDU    PA  SLDU-PA-07     PA-SLDU     PA-SLDU\n",
       "386  PA-08   256726  SLDU    PA  SLDU-PA-08     PA-SLDU     PA-SLDU\n",
       "387  PA-09   252137  SLDU    PA  SLDU-PA-09     PA-SLDU     PA-SLDU\n",
       "388  PA-10   269925  SLDU    PA  SLDU-PA-10     PA-SLDU     PA-SLDU\n",
       "389  PA-11   263931  SLDU    PA  SLDU-PA-11     PA-SLDU     PA-SLDU\n",
       "390  PA-12   263688  SLDU    PA  SLDU-PA-12     PA-SLDU     PA-SLDU\n",
       "391  PA-13   262878  SLDU    PA  SLDU-PA-13     PA-SLDU     PA-SLDU\n",
       "392  PA-14   267292  SLDU    PA  SLDU-PA-14     PA-SLDU     PA-SLDU\n",
       "393  PA-15   260164  SLDU    PA  SLDU-PA-15     PA-SLDU     PA-SLDU\n",
       "394  PA-16   265055  SLDU    PA  SLDU-PA-16     PA-SLDU     PA-SLDU\n",
       "395  PA-17   258156  SLDU    PA  SLDU-PA-17     PA-SLDU     PA-SLDU\n",
       "396  PA-18   263814  SLDU    PA  SLDU-PA-18     PA-SLDU     PA-SLDU\n",
       "397  PA-19   253763  SLDU    PA  SLDU-PA-19     PA-SLDU     PA-SLDU\n",
       "398  PA-20   269942  SLDU    PA  SLDU-PA-20     PA-SLDU     PA-SLDU\n",
       "399  PA-21   258167  SLDU    PA  SLDU-PA-21     PA-SLDU     PA-SLDU\n",
       "400  PA-22   251084  SLDU    PA  SLDU-PA-22     PA-SLDU     PA-SLDU\n",
       "401  PA-23   263353  SLDU    PA  SLDU-PA-23     PA-SLDU     PA-SLDU\n",
       "402  PA-24   262737  SLDU    PA  SLDU-PA-24     PA-SLDU     PA-SLDU\n",
       "403  PA-25   265569  SLDU    PA  SLDU-PA-25     PA-SLDU     PA-SLDU\n",
       "404  PA-26   255232  SLDU    PA  SLDU-PA-26     PA-SLDU     PA-SLDU\n",
       "405  PA-27   260244  SLDU    PA  SLDU-PA-27     PA-SLDU     PA-SLDU\n",
       "406  PA-28   262475  SLDU    PA  SLDU-PA-28     PA-SLDU     PA-SLDU\n",
       "407  PA-29   264845  SLDU    PA  SLDU-PA-29     PA-SLDU     PA-SLDU\n",
       "408  PA-30   249843  SLDU    PA  SLDU-PA-30     PA-SLDU     PA-SLDU\n",
       "409  PA-31   259208  SLDU    PA  SLDU-PA-31     PA-SLDU     PA-SLDU\n",
       "410  PA-32   252099  SLDU    PA  SLDU-PA-32     PA-SLDU     PA-SLDU\n",
       "411  PA-33   260301  SLDU    PA  SLDU-PA-33     PA-SLDU     PA-SLDU\n",
       "412  PA-34   266501  SLDU    PA  SLDU-PA-34     PA-SLDU     PA-SLDU\n",
       "413  PA-35   260141  SLDU    PA  SLDU-PA-35     PA-SLDU     PA-SLDU\n",
       "414  PA-36   269182  SLDU    PA  SLDU-PA-36     PA-SLDU     PA-SLDU\n",
       "415  PA-37   248858  SLDU    PA  SLDU-PA-37     PA-SLDU     PA-SLDU\n",
       "416  PA-38   251647  SLDU    PA  SLDU-PA-38     PA-SLDU     PA-SLDU\n",
       "417  PA-39   261704  SLDU    PA  SLDU-PA-39     PA-SLDU     PA-SLDU\n",
       "418  PA-40   256698  SLDU    PA  SLDU-PA-40     PA-SLDU     PA-SLDU\n",
       "419  PA-41   254701  SLDU    PA  SLDU-PA-41     PA-SLDU     PA-SLDU\n",
       "420  PA-42   250536  SLDU    PA  SLDU-PA-42     PA-SLDU     PA-SLDU\n",
       "421  PA-43   251870  SLDU    PA  SLDU-PA-43     PA-SLDU     PA-SLDU\n",
       "422  PA-44   264849  SLDU    PA  SLDU-PA-44     PA-SLDU     PA-SLDU\n",
       "423  PA-45   249661  SLDU    PA  SLDU-PA-45     PA-SLDU     PA-SLDU\n",
       "424  PA-46   250466  SLDU    PA  SLDU-PA-46     PA-SLDU     PA-SLDU\n",
       "425  PA-47   256105  SLDU    PA  SLDU-PA-47     PA-SLDU     PA-SLDU\n",
       "426  PA-48   269151  SLDU    PA  SLDU-PA-48     PA-SLDU     PA-SLDU\n",
       "427  PA-49   261100  SLDU    PA  SLDU-PA-49     PA-SLDU     PA-SLDU\n",
       "428  PA-50   263540  SLDU    PA  SLDU-PA-50     PA-SLDU     PA-SLDU"
      ]
     },
     "execution_count": 181,
     "metadata": {},
     "output_type": "execute_result"
    }
   ],
   "source": [
    "combined_files[(combined_files[\"State\"]==\"PA\") & (combined_files[\"Level\"]==\"SLDU\")]"
   ]
  },
  {
   "cell_type": "markdown",
   "id": "d00fa304",
   "metadata": {},
   "source": [
    "## Check Again"
   ]
  },
  {
   "cell_type": "code",
   "execution_count": 182,
   "id": "56100f4f",
   "metadata": {},
   "outputs": [
    {
     "name": "stderr",
     "output_type": "stream",
     "text": [
      "/var/folders/1t/0q4w6hm92mg_zxd84dfxmq3m0000gn/T/ipykernel_72029/1038512809.py:1: SettingWithCopyWarning: \n",
      "A value is trying to be set on a copy of a slice from a DataFrame.\n",
      "Try using .loc[row_indexer,col_indexer] = value instead\n",
      "\n",
      "See the caveats in the documentation: https://pandas.pydata.org/pandas-docs/stable/user_guide/indexing.html#returning-a-view-versus-a-copy\n",
      "  combined_files[\"State-Level\"] = combined_files[\"State\"]+\"-\"+combined_files[\"Level\"]\n"
     ]
    }
   ],
   "source": [
    "combined_files[\"State-Level\"] = combined_files[\"State\"]+\"-\"+combined_files[\"Level\"]"
   ]
  },
  {
   "cell_type": "code",
   "execution_count": 183,
   "id": "e0128d5e",
   "metadata": {},
   "outputs": [
    {
     "data": {
      "text/plain": [
       "PA-SLDL    203\n",
       "CT-SLDL    151\n",
       "NY-SLDL    150\n",
       "VA-SLDL    100\n",
       "MT-SLDL    100\n",
       "CA-SLDL     80\n",
       "RI-SLDL     75\n",
       "MD-SLDL     71\n",
       "CO-SLDL     65\n",
       "NY-SLDU     63\n",
       "CA-CONG     52\n",
       "HI-SLDL     51\n",
       "PA-SLDU     50\n",
       "MT-SLDU     50\n",
       "WA-SLDL     49\n",
       "WA-SLDU     49\n",
       "MD-SLDU     47\n",
       "NV-SLDL     42\n",
       "DE-SLDL     41\n",
       "VA-SLDU     40\n",
       "CA-SLDU     40\n",
       "NJ-SLDU     40\n",
       "NJ-SLDL     40\n",
       "RI-SLDU     38\n",
       "CT-SLDU     36\n",
       "CO-SLDU     35\n",
       "HI-SLDU     25\n",
       "DE-SLDU     21\n",
       "NV-SLDU     21\n",
       "NJ-CONG     12\n",
       "VA-CONG     11\n",
       "WA-CONG     10\n",
       "MD-CONG      8\n",
       "NV-CONG      4\n",
       "RI-CONG      2\n",
       "Name: State-Level, dtype: int64"
      ]
     },
     "execution_count": 183,
     "metadata": {},
     "output_type": "execute_result"
    }
   ],
   "source": [
    "combined_files[\"State-Level\"].value_counts()"
   ]
  },
  {
   "cell_type": "code",
   "execution_count": 184,
   "id": "bbc66c95",
   "metadata": {},
   "outputs": [],
   "source": [
    "combined_files = combined_files[~combined_files[\"ID\"].str.contains(\"NO\")]"
   ]
  },
  {
   "cell_type": "markdown",
   "id": "3f05999c",
   "metadata": {},
   "source": [
    "- ~~PA-SLDL    203~~\n",
    "- ~~CT-SLDL    151~~\n",
    "- ~~NY-SLDL    150~~\n",
    "- ~~VA-SLDL    100~~\n",
    "- ~~MT-SLDL    100~~\n",
    "- ~~CA-SLDL     80~~\n",
    "- ~~RI-SLDL     75~~\n",
    "- ~~MD-SLDL     71~~\n",
    "- ~~CO-SLDL     65~~\n",
    "- ~~NY-SLDU     63~~\n",
    "- ~~CA-CONG     52~~\n",
    "- ~~HI-SLDL     51~~\n",
    "- ~~PA-SLDU     50~~\n",
    "- ~~MT-SLDU     50~~\n",
    "- ~~WA-SLDL     49~~\n",
    "- ~~WA-SLDU     49~~\n",
    "- ~~MD-SLDU     47~~\n",
    "- ~~NV-SLDL     42~~\n",
    "- ~~DE-SLDL     41~~\n",
    "- ~~VA-SLDU     40~~\n",
    "- ~~CA-SLDU     40~~\n",
    "- ~~NJ-SLDU     40~~\n",
    "- ~~NJ-SLDL     40~~\n",
    "- ~~RI-SLDU     38~~\n",
    "- ~~CT-SLDU     36~~\n",
    "- ~~CO-SLDU     35~~\n",
    "- ~~HI-SLDU     25~~\n",
    "- ~~DE-SLDU     21~~\n",
    "- ~~NV-SLDU     21~~\n",
    "- ~~NJ-CONG     12~~\n",
    "- ~~VA-CONG     11~~\n",
    "- ~~WA-CONG     10~~\n",
    "- ~~MD-CONG      8~~\n",
    "- ~~NV-CONG      4~~\n",
    "- ~~RI-CONG      2~~"
   ]
  },
  {
   "cell_type": "code",
   "execution_count": 185,
   "id": "2ecb831e",
   "metadata": {},
   "outputs": [],
   "source": [
    "state_sums = combined_files.groupby(\"state-level\").sum()"
   ]
  },
  {
   "cell_type": "code",
   "execution_count": 186,
   "id": "f9a7b7be",
   "metadata": {},
   "outputs": [
    {
     "data": {
      "text/plain": [
       "state-level\n",
       "CA-CONG    39523437\n",
       "CA-SLDL    39523437\n",
       "CA-SLDU    39523437\n",
       "CO-SLDL     5773714\n",
       "CO-SLDU     5773714\n",
       "CT-SLDL     3603566\n",
       "CT-SLDU     3603566\n",
       "DE-SLDL      989598\n",
       "DE-SLDU      989598\n",
       "HI-SLDL     1383606\n",
       "HI-SLDU     1383606\n",
       "MD-CONG     6175403\n",
       "MD-SLDL     6175403\n",
       "MD-SLDU     6175403\n",
       "MT-SLDL     1082717\n",
       "MT-SLDU     1082717\n",
       "NJ-CONG     9283016\n",
       "NJ-SLDL     9283016\n",
       "NJ-SLDU     9283016\n",
       "NV-CONG     3104614\n",
       "NV-SLDL     3104614\n",
       "NV-SLDU     3104614\n",
       "NY-SLDL    20193858\n",
       "NY-SLDU    20193858\n",
       "PA-SLDL    13002700\n",
       "PA-SLDU    13002700\n",
       "RI-CONG     1097379\n",
       "RI-SLDL     1097379\n",
       "RI-SLDU     1097379\n",
       "VA-CONG     8631393\n",
       "VA-SLDL     8631393\n",
       "VA-SLDU     8631393\n",
       "WA-CONG     7705281\n",
       "WA-SLDL     7705281\n",
       "WA-SLDU     7705281\n",
       "Name: Adj_Pop, dtype: int64"
      ]
     },
     "execution_count": 186,
     "metadata": {},
     "output_type": "execute_result"
    }
   ],
   "source": [
    "state_sums[\"Adj_Pop\"]"
   ]
  },
  {
   "cell_type": "markdown",
   "id": "d53b2001",
   "metadata": {},
   "source": [
    "- CA 39523437\n",
    "\n",
    "- CO     5773714\n",
    "\n",
    "- CT     3603566\n",
    "- DE      989598\n",
    "\n",
    "- HI    1383606\n",
    "- MD    6175403\n",
    "\n",
    "- MT    1082717\n",
    "\n",
    "- NJ    9283016\n",
    "- NV     3104614\n",
    "\n",
    "- NY   20193858\n",
    "- PA   13002700\n",
    "\n",
    "- RI    1097379\n",
    "\n",
    "- VA    8631393\n",
    "\n",
    "- WA    7705281"
   ]
  },
  {
   "cell_type": "code",
   "execution_count": 121,
   "id": "d5d7804e",
   "metadata": {},
   "outputs": [
    {
     "name": "stderr",
     "output_type": "stream",
     "text": [
      "/var/folders/1t/0q4w6hm92mg_zxd84dfxmq3m0000gn/T/ipykernel_72029/441825267.py:1: SettingWithCopyWarning: \n",
      "A value is trying to be set on a copy of a slice from a DataFrame\n",
      "\n",
      "See the caveats in the documentation: https://pandas.pydata.org/pandas-docs/stable/user_guide/indexing.html#returning-a-view-versus-a-copy\n",
      "  combined_files.drop([\"unique_id\",\"state-level\",\"State-Level\"], axis = 1, inplace = True)\n",
      "/var/folders/1t/0q4w6hm92mg_zxd84dfxmq3m0000gn/T/ipykernel_72029/441825267.py:2: SettingWithCopyWarning: \n",
      "A value is trying to be set on a copy of a slice from a DataFrame.\n",
      "Try using .loc[row_indexer,col_indexer] = value instead\n",
      "\n",
      "See the caveats in the documentation: https://pandas.pydata.org/pandas-docs/stable/user_guide/indexing.html#returning-a-view-versus-a-copy\n",
      "  combined_files[\"ID\"] = combined_files[\"ID\"].apply(lambda x: x.split(\"-\")[1])\n"
     ]
    }
   ],
   "source": [
    "combined_files.drop([\"unique_id\",\"state-level\",\"State-Level\"], axis = 1, inplace = True)\n",
    "combined_files[\"ID\"] = combined_files[\"ID\"].apply(lambda x: x.split(\"-\")[1])"
   ]
  },
  {
   "cell_type": "code",
   "execution_count": 187,
   "id": "0c8aa37d",
   "metadata": {},
   "outputs": [],
   "source": [
    "combined_files.to_csv(\"./adjusted_districts_pop.csv\", index = False)"
   ]
  },
  {
   "cell_type": "markdown",
   "id": "3de25f00",
   "metadata": {},
   "source": [
    "## Unadjusted Data"
   ]
  },
  {
   "cell_type": "code",
   "execution_count": null,
   "id": "8e66a133",
   "metadata": {},
   "outputs": [],
   "source": [
    "# national_baf.columns\n",
    "# national_baf.loc[national_baf.shape[0]] = [20160001001440, \"AK\", \"AT-LARGE\", \"S\", 37, None]\n",
    "# national_baf.loc[national_baf.shape[0]] = [20160001001441, \"AK\", \"AT-LARGE\", \"S\", 37, None]"
   ]
  },
  {
   "cell_type": "code",
   "execution_count": null,
   "id": "7d2eb2fb",
   "metadata": {},
   "outputs": [],
   "source": [
    "unadjusted_data_dict = {}\n",
    "unadjusted_data_list = []\n",
    "\n",
    "path = \"/Users/peterhorton/Documents/RDH/raw_data/census/2020_PL_csv/\"\n",
    "\n",
    "\n",
    "for file in os.listdir(path):\n",
    "    if \"pl2020_b\" in file and \"bg\" not in file and \".zip\" not in file:\n",
    "        header = file[0:2].upper()\n",
    "        print(file)\n",
    "        unadj_state = pd.read_csv(path + \"/\" + file + \"/\" + file + \".csv\")\n",
    "        unadj_state.drop([i for i in unadj_state.columns if i not in [\"GEOID20\", \"P0010001\"]], inplace = True, axis = 1)\n",
    "        unadjusted_data_list.append(unadj_state)"
   ]
  },
  {
   "cell_type": "code",
   "execution_count": null,
   "id": "c4d11441",
   "metadata": {},
   "outputs": [],
   "source": [
    "unadj_state_data_df = pd.concat(unadjusted_data_list)"
   ]
  },
  {
   "cell_type": "code",
   "execution_count": null,
   "id": "6d97cb93",
   "metadata": {},
   "outputs": [],
   "source": []
  },
  {
   "cell_type": "code",
   "execution_count": null,
   "id": "47b4a897",
   "metadata": {},
   "outputs": [],
   "source": [
    "# unadj_pop_dict = dict(zip(unadj_state_data_df[\"GEOID20\"], unadj_state_data_df[\"P0010001\"]))\n",
    "\n",
    "# adj_pop_dict = dict(zip(adj_state_data_df[\"GEOID20\"], adj_state_data_df[\"Adj_Pop\"]))\n",
    "\n",
    "# national_baf[\"TOT_POP\"] = national_baf[\"GEOID20\"].map(unadj_pop_dict)\n",
    "# national_baf[\"ADJ_POP\"] = national_baf[\"GEOID20\"].map(adj_pop_dict)\n",
    "\n",
    "# tots = pd.read_csv(\"./national_baf_w_pop.csv\")"
   ]
  },
  {
   "cell_type": "code",
   "execution_count": null,
   "id": "e8f45c99",
   "metadata": {},
   "outputs": [],
   "source": [
    "final_merge.drop([\"_merge\",\"final_merge\"], axis = 1, inplace = True)"
   ]
  },
  {
   "cell_type": "markdown",
   "id": "772baf10",
   "metadata": {},
   "source": [
    "## Checks:"
   ]
  },
  {
   "cell_type": "code",
   "execution_count": null,
   "id": "88851204",
   "metadata": {},
   "outputs": [],
   "source": [
    "final_merge[\"Adj_Pop\"] = final_merge[\"Adj_Pop\"].fillna(0)"
   ]
  },
  {
   "cell_type": "code",
   "execution_count": null,
   "id": "b957613f",
   "metadata": {},
   "outputs": [],
   "source": [
    "final_merge[\"Adj_Pop\"] = final_merge[\"Adj_Pop\"].astype(int)"
   ]
  },
  {
   "cell_type": "code",
   "execution_count": null,
   "id": "8c824d66",
   "metadata": {},
   "outputs": [],
   "source": [
    "summed_states = final_merge.groupby(\"STATEAB\").sum()"
   ]
  },
  {
   "cell_type": "markdown",
   "id": "d5e63ab8",
   "metadata": {},
   "source": [
    "#### Note: Checking the adjusted population sums against the reports on the RDH website:\n",
    "\n",
    "https://redistrictingdatahub.org/data/ongoing-data-projects/states-that-adjust-the-census-data-for-redistricting/"
   ]
  },
  {
   "cell_type": "code",
   "execution_count": null,
   "id": "c449578d",
   "metadata": {},
   "outputs": [],
   "source": [
    "sum(summed_states[\"P0010001\"])"
   ]
  },
  {
   "cell_type": "code",
   "execution_count": null,
   "id": "0bdb6234",
   "metadata": {},
   "outputs": [],
   "source": [
    "summed_states"
   ]
  },
  {
   "cell_type": "code",
   "execution_count": null,
   "id": "e771cbef",
   "metadata": {},
   "outputs": [],
   "source": [
    "national_baf[\"ADJ_POP\"].value_counts(dropna = False)"
   ]
  },
  {
   "cell_type": "code",
   "execution_count": null,
   "id": "1a7558a9",
   "metadata": {},
   "outputs": [],
   "source": [
    "national_baf.to_csv(\"./national_baf_w_pop.csv\", index = False)"
   ]
  },
  {
   "cell_type": "code",
   "execution_count": null,
   "id": "c642de4d",
   "metadata": {},
   "outputs": [],
   "source": [
    "sum(pop_data[pop_data[\"_merge\"]==\"right_only\"][\"P0010001\"])"
   ]
  },
  {
   "cell_type": "code",
   "execution_count": null,
   "id": "264a8397",
   "metadata": {},
   "outputs": [],
   "source": [
    "unadj_state_data_df.to_csv(\"./unadjusted_data_GEOID_pop.csv\", index = False)"
   ]
  },
  {
   "cell_type": "code",
   "execution_count": null,
   "id": "7cbe5ac5",
   "metadata": {},
   "outputs": [],
   "source": []
  },
  {
   "cell_type": "markdown",
   "id": "9f0eb1fe",
   "metadata": {},
   "source": [
    "## Load in PA and HI"
   ]
  },
  {
   "cell_type": "code",
   "execution_count": null,
   "id": "e3e420e1",
   "metadata": {},
   "outputs": [],
   "source": [
    "state = \"PA\"\n",
    "pa_data = pd.read_csv(\"./raw-from-source/\"+state+\"_blocks.csv\")\n",
    "\n",
    "def mod_census(block_id):\n",
    "    block_id = str(block_id)\n",
    "    if \"A\" in block_id or \"B\" in block_id or \"C\" in block_id:\n",
    "        return block_id[:len(block_id)-1]\n",
    "    else:\n",
    "        return block_id\n",
    "    \n",
    "pa_data[\"mod_GEOID20\"] = pa_data[\"GEOID20\"].apply(lambda x: mod_census(x))\n",
    "\n",
    "pa_data[\"mod_GEOID20\"].value_counts(dropna = False)\n",
    "\n",
    "pa_data_mod = pa_data.groupby(\"mod_GEOID20\").sum()\n",
    "\n",
    "pa_data_mod.reset_index(drop = False, inplace = True)\n",
    "\n",
    "pa_data_mod.rename(columns = {\"mod_GEOID20\":\"GEOID20\"}, inplace = True)\n",
    "\n",
    "pa_data_mod = pa_data_mod[[\"GEOID20\", \"Adj_Pop\"]]\n",
    "adjusted_data_list.append(pa_data_mod)\n",
    "        "
   ]
  },
  {
   "cell_type": "code",
   "execution_count": null,
   "id": "56869cc4",
   "metadata": {},
   "outputs": [],
   "source": [
    "hi_data = gp.read_file(\"/Users/peterhorton/Documents/RDH/Support/Official_State_Files/Hawaii/hi_pl2020_b_official/HIblocksFPBHPB826.shp\")\n",
    "\n",
    "sum(hi_data[\"HPB826\"])\n",
    "\n",
    "sum(hi_data[\"FPB\"])\n",
    "\n",
    "hi_data.rename(columns = {\"HPB826\":\"Adj_Pop\"}, inplace = True)\n",
    "hi_data = hi_data[[\"GEOID20\", \"Adj_Pop\"]]\n",
    "\n",
    "adjusted_data_list.append(hi_data)"
   ]
  },
  {
   "cell_type": "code",
   "execution_count": null,
   "id": "a28272c5",
   "metadata": {},
   "outputs": [],
   "source": [
    "hi_data.to_csv(\"./HI_blocks.csv\", index = False)"
   ]
  }
 ],
 "metadata": {
  "kernelspec": {
   "display_name": "Python 3 (ipykernel)",
   "language": "python",
   "name": "python3"
  },
  "language_info": {
   "codemirror_mode": {
    "name": "ipython",
    "version": 3
   },
   "file_extension": ".py",
   "mimetype": "text/x-python",
   "name": "python",
   "nbconvert_exporter": "python",
   "pygments_lexer": "ipython3",
   "version": "3.9.12"
  }
 },
 "nbformat": 4,
 "nbformat_minor": 5
}
