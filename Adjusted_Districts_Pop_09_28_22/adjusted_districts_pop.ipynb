{
 "cells": [
  {
   "cell_type": "code",
   "execution_count": 1,
   "id": "482dbecf",
   "metadata": {},
   "outputs": [],
   "source": [
    "import pandas as pd\n",
    "import geopandas as gp\n",
    "import os"
   ]
  },
  {
   "cell_type": "markdown",
   "id": "44a74f62",
   "metadata": {},
   "source": [
    "# 2022 Districts using Adjusted Data - Populations 09_28_22\n",
    "\n",
    "## Background:\n",
    "- We received a data request asking for total populations of the 2022 districts.\n",
    "- Although most states draw their redistricting plans using the census' population, a handful of states use adjusted data.\n",
    "- The usage of adjusted data is made more complicated by the fact that not every state that produces adjusted data uses it for all levels of redistricting.\n",
    "- Below is a list of the states that produce adjusted data and the level(s) of redistricting they use it for:\n",
    "    - CA (Congressional and State Legislative)\n",
    "    - CO (State Legislative)\n",
    "    - CT (State Legislative)\n",
    "    - DE (State Legislative)\n",
    "    - HI (State Legislative)\n",
    "    - MD (Congressional and State Legislative)\n",
    "    - MT (State Legislative)\n",
    "    - NJ (Congressional and State Legislative)\n",
    "    - NV (Congressional and State Legislative)\n",
    "    - NY (State Legislative)\n",
    "    - PA (State Legislative)\n",
    "    - RI (Congressional and State Legislative)\n",
    "    - VA (Congressional and State Legislative)\n",
    "    - WA (Congressional and State Legislative)\n",
    "    \n",
    "- Due to this nuance, we thought it would be easier to produce a dataset with the districts that used adjusted data and their adjusted population, rather than adding in an \"adjusted population\" column to the national block-assignment file.\n",
    "- Furthermore, RI did not release block-level adjusted data, but they did release their district-level adjusted populations.\n",
    "\n",
    "## Approach:\n",
    "- For every state on the above list, except RI, load in files containing adjusted populations for each block.\n",
    "  - Note, these files were produced for earlier work and involve manipulating states' adjusted datasets\n",
    "- Join the adjusted block-level populations to the national block assignment file.\n",
    "- Transform the block assignment file so that every row is now a particular congressional, state house, or state senate district with its population\n",
    "- For RI, transcribe the district populations from an official report and join these populations to the relevant districts.\n",
    "- Check the file\n",
    "- Export the file   \n",
    "\n",
    "## Links to Download Raw Files\n",
    "- RI District Population Reports\n",
    "  - Official state reports, available upon requests.   \n",
    "- RI District Population csv\n",
    "  - Created by the RDH using the reports, available upon request. \n",
    "- State Block-Level Adjusted Populations for all States except RI (where data not available)\n",
    "  - Produced using official files on the RDH website, processed files available upon request.   \n",
    "- [National BAF for 2022 Districts](https://redistrictingdatahub.org/dataset/national-block-assignment-file-for-2022-state-legislative-and-congressional-districts/)\n",
    "\n",
    "#### Note: A full \"raw-from-source\" file is also available upon request. Please email info@redistrictingdatahub.org\n"
   ]
  },
  {
   "cell_type": "markdown",
   "id": "334e415d",
   "metadata": {},
   "source": [
    "## Load in Data for Every State Except RI\n",
    "\n",
    "Note: These are processed files created for work for the \"States that Adjust the Census Data for Redistricting\" page on the RDH website. HI and PA need to be loaded separately"
   ]
  },
  {
   "cell_type": "code",
   "execution_count": 2,
   "id": "ff60bb91",
   "metadata": {},
   "outputs": [],
   "source": [
    "adjusted_data_state_subset = ['CA', 'CO', 'CT', 'DE', 'HI', 'MD', 'MT', 'NJ', 'NV',\n",
    "'NY', 'PA', 'VA', 'WA']"
   ]
  },
  {
   "cell_type": "markdown",
   "id": "3309deb0",
   "metadata": {},
   "source": [
    "#### Code for PA\n",
    "\n",
    "Note PA splits a handful of census blocks in their official file. We use the original PL blocks in the national BAF. These split blocks are all in the same districts, so they can be combined"
   ]
  },
  {
   "cell_type": "code",
   "execution_count": 3,
   "id": "6207def8",
   "metadata": {},
   "outputs": [],
   "source": [
    "def mod_census(block_id):\n",
    "    block_id = str(block_id)\n",
    "    \n",
    "    # PA appends a letter to the GEOID for the split blocks\n",
    "    if \"A\" in block_id or \"B\" in block_id or \"C\" in block_id:\n",
    "        \n",
    "        # Return the GEOID with out the split so the blocks can be combined\n",
    "        return block_id[:len(block_id)-1]\n",
    "    \n",
    "    # If it's not one of these special blocks, just return the GEOID\n",
    "    else:\n",
    "        return block_id"
   ]
  },
  {
   "cell_type": "code",
   "execution_count": 4,
   "id": "3312ebd0",
   "metadata": {},
   "outputs": [
    {
     "name": "stderr",
     "output_type": "stream",
     "text": [
      "/var/folders/1t/0q4w6hm92mg_zxd84dfxmq3m0000gn/T/ipykernel_75422/3642307064.py:8: DtypeWarning: Columns (0) have mixed types. Specify dtype option on import or set low_memory=False.\n",
      "  adj_state = pd.read_csv(\"./raw-from-source/Adjusted_Counts/\"+state+\"_blocks.csv\")\n"
     ]
    }
   ],
   "source": [
    "# Create a list to store the state data\n",
    "adjusted_data_list = []\n",
    "\n",
    "# Iterate over the states\n",
    "for state in adjusted_data_state_subset:\n",
    "    \n",
    "    # Load and filter the data\n",
    "    adj_state = pd.read_csv(\"./raw-from-source/Adjusted_Counts/\"+state+\"_blocks.csv\")\n",
    "    adj_state = adj_state[[\"GEOID20\", \"Adj_Pop\"]]\n",
    "    \n",
    "    # Deal with PA split blocks\n",
    "    if state == \"PA\":\n",
    "        \n",
    "        # Use the above function to return the \"unsplit\" GEOID\n",
    "        adj_state[\"mod_GEOID20\"] = adj_state[\"GEOID20\"].apply(lambda x: mod_census(x))\n",
    "        \n",
    "        # Because the splits blocks are in the same districts, we can join them together to match PL geographies\n",
    "        adj_state_mod = adj_state.groupby(\"mod_GEOID20\").sum()\n",
    "        \n",
    "        # Clean the index and rename columns to match others\n",
    "        adj_state_mod.reset_index(drop = False, inplace = True)\n",
    "        adj_state_mod.rename(columns = {\"mod_GEOID20\":\"GEOID20\"}, inplace = True)\n",
    "        adj_state_mod = adj_state_mod[[\"GEOID20\", \"Adj_Pop\"]]\n",
    "        \n",
    "        # Append the PA data to the list\n",
    "        adjusted_data_list.append(adj_state_mod)\n",
    "    \n",
    "    # For other states just add the data\n",
    "    else:\n",
    "        adjusted_data_list.append(adj_state)\n",
    "    "
   ]
  },
  {
   "cell_type": "code",
   "execution_count": 5,
   "id": "df716595",
   "metadata": {},
   "outputs": [],
   "source": [
    "# Transform the list to the dataframe\n",
    "adj_state_data_df = pd.concat(adjusted_data_list)\n",
    "\n",
    "# Clean the columns\n",
    "adj_state_data_df[\"Adj_Pop\"] = adj_state_data_df[\"Adj_Pop\"].astype(int)\n",
    "adj_state_data_df[\"GEOID20\"] = adj_state_data_df[\"GEOID20\"].astype(str).str.zfill(16)\n",
    "\n",
    "# If desired, export this data to csv (CAUTION: NO RI DATA)\n",
    "#adj_state_data_df.to_csv(\"./adjusted_data_pops.csv\", index = False)"
   ]
  },
  {
   "cell_type": "markdown",
   "id": "5b30a406",
   "metadata": {},
   "source": [
    "## Load in Block Assignment File\n",
    "\n",
    "We will join the block-level adjusted population data to this file and aggregate to the needed districts"
   ]
  },
  {
   "cell_type": "code",
   "execution_count": 6,
   "id": "eed2f504",
   "metadata": {
    "scrolled": true
   },
   "outputs": [],
   "source": [
    "national_baf = pd.read_csv(\"./raw-from-source/national_baf/national_baf.csv\", dtype =({\"GEOID20\":str, \"STATEAB\":str, \"CONG\":str, \"SLDU\":str, \"SLDL\":str, \"FLOTERIAL\":str}))\n",
    "\n",
    "# Create columns for the various districts\n",
    "national_baf[\"UNQ_CONG_DIST_ID\"] = national_baf[\"STATEAB\"] + \"-\" + national_baf[\"CONG\"].astype(str)\n",
    "national_baf[\"UNQ_SLDL_DIST_ID\"] = national_baf[\"STATEAB\"] + \"-\" + national_baf[\"SLDL\"].astype(str)\n",
    "national_baf[\"UNQ_SLDU_DIST_ID\"] = national_baf[\"STATEAB\"] + \"-\" + national_baf[\"SLDU\"].astype(str)"
   ]
  },
  {
   "cell_type": "code",
   "execution_count": 7,
   "id": "15c552a6",
   "metadata": {},
   "outputs": [],
   "source": [
    "# Clean the GEOID column\n",
    "national_baf[\"GEOID20\"] = national_baf[\"GEOID20\"].astype(str).str.zfill(16)"
   ]
  },
  {
   "cell_type": "markdown",
   "id": "57549db7",
   "metadata": {},
   "source": [
    "## Join to National BAF\n",
    "\n",
    "Note: This file is available for download from the RDH website (https://redistrictingdatahub.org/dataset/national-block-assignment-file-for-2022-state-legislative-and-congressional-districts/)"
   ]
  },
  {
   "cell_type": "code",
   "execution_count": 8,
   "id": "b85ddf61",
   "metadata": {},
   "outputs": [
    {
     "data": {
      "text/plain": [
       "left_only     6066848\n",
       "both          2059864\n",
       "right_only         73\n",
       "Name: _merge, dtype: int64"
      ]
     },
     "execution_count": 8,
     "metadata": {},
     "output_type": "execute_result"
    }
   ],
   "source": [
    "# Join the two files together\n",
    "adjusted_counts = pd.merge(national_baf, adj_state_data_df, how = \"outer\", on = \"GEOID20\", indicator = True)\n",
    "\n",
    "# Check the join\n",
    "adjusted_counts[\"_merge\"].value_counts()"
   ]
  },
  {
   "cell_type": "markdown",
   "id": "3815e574",
   "metadata": {},
   "source": [
    "Note - it is okay that some blocks do not join, as long as they don't have population. Some water blocks are not included in states' redistricting plans"
   ]
  },
  {
   "cell_type": "code",
   "execution_count": 9,
   "id": "827337ce",
   "metadata": {},
   "outputs": [
    {
     "data": {
      "text/plain": [
       "0.0"
      ]
     },
     "execution_count": 9,
     "metadata": {},
     "output_type": "execute_result"
    }
   ],
   "source": [
    "# Confirm that there is no population for any of the unjoined blocks\n",
    "sum(adjusted_counts[adjusted_counts[\"_merge\"]==\"right_only\"][\"Adj_Pop\"])"
   ]
  },
  {
   "cell_type": "code",
   "execution_count": 10,
   "id": "1c0d5952",
   "metadata": {},
   "outputs": [
    {
     "name": "stderr",
     "output_type": "stream",
     "text": [
      "/var/folders/1t/0q4w6hm92mg_zxd84dfxmq3m0000gn/T/ipykernel_75422/3605447824.py:5: SettingWithCopyWarning: \n",
      "A value is trying to be set on a copy of a slice from a DataFrame.\n",
      "Try using .loc[row_indexer,col_indexer] = value instead\n",
      "\n",
      "See the caveats in the documentation: https://pandas.pydata.org/pandas-docs/stable/user_guide/indexing.html#returning-a-view-versus-a-copy\n",
      "  joined[\"Adj_Pop\"] = joined[\"Adj_Pop\"].fillna(0)\n",
      "/var/folders/1t/0q4w6hm92mg_zxd84dfxmq3m0000gn/T/ipykernel_75422/3605447824.py:6: SettingWithCopyWarning: \n",
      "A value is trying to be set on a copy of a slice from a DataFrame.\n",
      "Try using .loc[row_indexer,col_indexer] = value instead\n",
      "\n",
      "See the caveats in the documentation: https://pandas.pydata.org/pandas-docs/stable/user_guide/indexing.html#returning-a-view-versus-a-copy\n",
      "  joined[\"Adj_Pop\"] = joined[\"Adj_Pop\"].astype(int)\n"
     ]
    }
   ],
   "source": [
    "# Filter down to join blocks or blocks in RI (need that to get the district data for the state)\n",
    "joined = adjusted_counts[(adjusted_counts[\"_merge\"]==\"both\") | (adjusted_counts[\"STATEAB\"]==\"RI\")]\n",
    "\n",
    "# Clean the columns\n",
    "joined[\"Adj_Pop\"] = joined[\"Adj_Pop\"].fillna(0)\n",
    "joined[\"Adj_Pop\"] = joined[\"Adj_Pop\"].astype(int)"
   ]
  },
  {
   "cell_type": "markdown",
   "id": "128d3020",
   "metadata": {},
   "source": [
    "## Aggregate to Districts"
   ]
  },
  {
   "cell_type": "code",
   "execution_count": 11,
   "id": "310b11b0",
   "metadata": {},
   "outputs": [
    {
     "data": {
      "text/plain": [
       "14"
      ]
     },
     "execution_count": 11,
     "metadata": {},
     "output_type": "execute_result"
    }
   ],
   "source": [
    "len(joined[\"STATEAB\"].unique())"
   ]
  },
  {
   "cell_type": "code",
   "execution_count": 12,
   "id": "b482bbef",
   "metadata": {},
   "outputs": [
    {
     "data": {
      "text/plain": [
       "array(['CA', 'CO', 'CT', 'DE', 'HI', 'MD', 'MT', 'NJ', 'NV', 'NY', 'PA',\n",
       "       'RI', 'VA', 'WA'], dtype=object)"
      ]
     },
     "execution_count": 12,
     "metadata": {},
     "output_type": "execute_result"
    }
   ],
   "source": [
    "joined[\"STATEAB\"].unique()"
   ]
  },
  {
   "cell_type": "code",
   "execution_count": 13,
   "id": "a84c771a",
   "metadata": {},
   "outputs": [],
   "source": [
    "# Create a subset of states that use adjusted data for congressional redistricting\n",
    "uses_cong = joined[joined[\"STATEAB\"].isin([\"CA\", \"MD\", \"NJ\", \"NV\", \"RI\", \"VA\", \"WA\"])]\n",
    "\n",
    "# Aggregate to the appropriate district levels\n",
    "joined_cong = uses_cong.groupby(\"UNQ_CONG_DIST_ID\").sum()\n",
    "joined_sldl = joined.groupby(\"UNQ_SLDL_DIST_ID\").sum()\n",
    "joined_sldu = joined.groupby(\"UNQ_SLDU_DIST_ID\").sum()\n",
    "\n",
    "# Clean the aggregations\n",
    "joined_cong.reset_index(inplace = True, drop = False)\n",
    "joined_sldl.reset_index(inplace = True, drop = False)\n",
    "joined_sldu.reset_index(inplace = True, drop = False)\n",
    "\n",
    "joined_cong.columns = [\"ID\", \"Adj_Pop\"]\n",
    "joined_sldl.columns = [\"ID\", \"Adj_Pop\"]\n",
    "joined_sldu.columns = [\"ID\", \"Adj_Pop\"]\n",
    "\n",
    "joined_cong[\"Level\"] = \"CONG\"\n",
    "joined_sldl[\"Level\"] = \"SLDL\"\n",
    "joined_sldu[\"Level\"] = \"SLDU\"\n",
    "\n",
    "# Join them back into one file\n",
    "combined_files = pd.concat([joined_cong, joined_sldl, joined_sldu])\n",
    "\n",
    "# Get the state abbreviation\n",
    "combined_files[\"State\"] = combined_files[\"ID\"].apply(lambda x: x[0:2])"
   ]
  },
  {
   "cell_type": "markdown",
   "id": "9a2fe773",
   "metadata": {},
   "source": [
    "## Add in RI Data"
   ]
  },
  {
   "cell_type": "code",
   "execution_count": 14,
   "id": "429b95e6",
   "metadata": {},
   "outputs": [],
   "source": [
    "# Add in a leading zero for the RI data so it will join\n",
    "ri_update_dict = {\"RI-1\":\"RI-01\",\n",
    "\"RI-2\":\"RI-02\"}\n",
    "\n",
    "# Apply this update\n",
    "combined_files[\"ID\"] = combined_files[\"ID\"].map(ri_update_dict).fillna(combined_files[\"ID\"])"
   ]
  },
  {
   "cell_type": "code",
   "execution_count": 15,
   "id": "3275c81d",
   "metadata": {},
   "outputs": [],
   "source": [
    "# Create an ID of the level and the ID so we can join to RI\n",
    "combined_files[\"unique_id\"] = combined_files[\"Level\"]+\"-\"+combined_files[\"ID\"]"
   ]
  },
  {
   "cell_type": "code",
   "execution_count": 16,
   "id": "d0dcb176",
   "metadata": {},
   "outputs": [
    {
     "data": {
      "text/html": [
       "<div>\n",
       "<style scoped>\n",
       "    .dataframe tbody tr th:only-of-type {\n",
       "        vertical-align: middle;\n",
       "    }\n",
       "\n",
       "    .dataframe tbody tr th {\n",
       "        vertical-align: top;\n",
       "    }\n",
       "\n",
       "    .dataframe thead th {\n",
       "        text-align: right;\n",
       "    }\n",
       "</style>\n",
       "<table border=\"1\" class=\"dataframe\">\n",
       "  <thead>\n",
       "    <tr style=\"text-align: right;\">\n",
       "      <th></th>\n",
       "      <th>ID</th>\n",
       "      <th>Adj_Pop</th>\n",
       "      <th>Level</th>\n",
       "      <th>State</th>\n",
       "      <th>unique_id</th>\n",
       "    </tr>\n",
       "  </thead>\n",
       "  <tbody>\n",
       "    <tr>\n",
       "      <th>0</th>\n",
       "      <td>CA-1</td>\n",
       "      <td>760066</td>\n",
       "      <td>CONG</td>\n",
       "      <td>CA</td>\n",
       "      <td>CONG-CA-1</td>\n",
       "    </tr>\n",
       "    <tr>\n",
       "      <th>1</th>\n",
       "      <td>CA-10</td>\n",
       "      <td>760066</td>\n",
       "      <td>CONG</td>\n",
       "      <td>CA</td>\n",
       "      <td>CONG-CA-10</td>\n",
       "    </tr>\n",
       "    <tr>\n",
       "      <th>2</th>\n",
       "      <td>CA-11</td>\n",
       "      <td>760067</td>\n",
       "      <td>CONG</td>\n",
       "      <td>CA</td>\n",
       "      <td>CONG-CA-11</td>\n",
       "    </tr>\n",
       "    <tr>\n",
       "      <th>3</th>\n",
       "      <td>CA-12</td>\n",
       "      <td>760065</td>\n",
       "      <td>CONG</td>\n",
       "      <td>CA</td>\n",
       "      <td>CONG-CA-12</td>\n",
       "    </tr>\n",
       "    <tr>\n",
       "      <th>4</th>\n",
       "      <td>CA-13</td>\n",
       "      <td>760065</td>\n",
       "      <td>CONG</td>\n",
       "      <td>CA</td>\n",
       "      <td>CONG-CA-13</td>\n",
       "    </tr>\n",
       "    <tr>\n",
       "      <th>...</th>\n",
       "      <td>...</td>\n",
       "      <td>...</td>\n",
       "      <td>...</td>\n",
       "      <td>...</td>\n",
       "      <td>...</td>\n",
       "    </tr>\n",
       "    <tr>\n",
       "      <th>552</th>\n",
       "      <td>WA-45</td>\n",
       "      <td>157270</td>\n",
       "      <td>SLDU</td>\n",
       "      <td>WA</td>\n",
       "      <td>SLDU-WA-45</td>\n",
       "    </tr>\n",
       "    <tr>\n",
       "      <th>553</th>\n",
       "      <td>WA-46</td>\n",
       "      <td>157255</td>\n",
       "      <td>SLDU</td>\n",
       "      <td>WA</td>\n",
       "      <td>SLDU-WA-46</td>\n",
       "    </tr>\n",
       "    <tr>\n",
       "      <th>554</th>\n",
       "      <td>WA-47</td>\n",
       "      <td>157240</td>\n",
       "      <td>SLDU</td>\n",
       "      <td>WA</td>\n",
       "      <td>SLDU-WA-47</td>\n",
       "    </tr>\n",
       "    <tr>\n",
       "      <th>555</th>\n",
       "      <td>WA-48</td>\n",
       "      <td>157252</td>\n",
       "      <td>SLDU</td>\n",
       "      <td>WA</td>\n",
       "      <td>SLDU-WA-48</td>\n",
       "    </tr>\n",
       "    <tr>\n",
       "      <th>556</th>\n",
       "      <td>WA-49</td>\n",
       "      <td>157252</td>\n",
       "      <td>SLDU</td>\n",
       "      <td>WA</td>\n",
       "      <td>SLDU-WA-49</td>\n",
       "    </tr>\n",
       "  </tbody>\n",
       "</table>\n",
       "<p>1875 rows × 5 columns</p>\n",
       "</div>"
      ],
      "text/plain": [
       "        ID  Adj_Pop Level State   unique_id\n",
       "0     CA-1   760066  CONG    CA   CONG-CA-1\n",
       "1    CA-10   760066  CONG    CA  CONG-CA-10\n",
       "2    CA-11   760067  CONG    CA  CONG-CA-11\n",
       "3    CA-12   760065  CONG    CA  CONG-CA-12\n",
       "4    CA-13   760065  CONG    CA  CONG-CA-13\n",
       "..     ...      ...   ...   ...         ...\n",
       "552  WA-45   157270  SLDU    WA  SLDU-WA-45\n",
       "553  WA-46   157255  SLDU    WA  SLDU-WA-46\n",
       "554  WA-47   157240  SLDU    WA  SLDU-WA-47\n",
       "555  WA-48   157252  SLDU    WA  SLDU-WA-48\n",
       "556  WA-49   157252  SLDU    WA  SLDU-WA-49\n",
       "\n",
       "[1875 rows x 5 columns]"
      ]
     },
     "execution_count": 16,
     "metadata": {},
     "output_type": "execute_result"
    }
   ],
   "source": [
    "combined_files"
   ]
  },
  {
   "cell_type": "code",
   "execution_count": 17,
   "id": "da1b724c",
   "metadata": {},
   "outputs": [],
   "source": [
    "# Load in the RI data\n",
    "ri_data = pd.read_csv(\"./raw-from-source/ri_sizes.csv\",dtype={\"Number\":str, \"Adj_Pop\":int, \"Level\":str})\n",
    "\n",
    "# Create a unique ID to join with the pop. file\n",
    "ri_data[\"unique_id\"] = ri_data[\"Level\"]+\"-RI-\"+ri_data[\"Number\"].astype(str).str.zfill(2)\n",
    "\n",
    "# Make the population an integer\n",
    "ri_data[\"Adj_Pop\"] = ri_data[\"Adj_Pop\"].astype(int)\n",
    "\n",
    "# Create a dictionary mapping from district ID to population in RI\n",
    "ri_data_dict = dict(zip(ri_data[\"unique_id\"], ri_data[\"Adj_Pop\"]))\n",
    "\n",
    "# Apply the above dictionary to the RI districts in the combined file\n",
    "combined_files[\"Adj_Pop\"] = combined_files[\"unique_id\"].map(ri_data_dict).fillna(combined_files[\"Adj_Pop\"])"
   ]
  },
  {
   "cell_type": "code",
   "execution_count": 18,
   "id": "3d1e67aa",
   "metadata": {},
   "outputs": [],
   "source": [
    "combined_files[\"state-level\"] = combined_files[\"State\"]+\"-\"+combined_files[\"Level\"]"
   ]
  },
  {
   "cell_type": "code",
   "execution_count": 19,
   "id": "f99574b3",
   "metadata": {},
   "outputs": [],
   "source": [
    "combined_files[\"Adj_Pop\"] = combined_files[\"Adj_Pop\"].astype(int)"
   ]
  },
  {
   "cell_type": "markdown",
   "id": "4b1743b2",
   "metadata": {},
   "source": [
    "## Check Again"
   ]
  },
  {
   "cell_type": "code",
   "execution_count": 20,
   "id": "1fe8cc1c",
   "metadata": {},
   "outputs": [],
   "source": [
    "# Remove the \"No Data\" districts (these were unassigned blocks we kept in the BAF)\n",
    "combined_files = combined_files[~combined_files[\"ID\"].str.contains(\"NO\")]"
   ]
  },
  {
   "cell_type": "code",
   "execution_count": 21,
   "id": "e1c2a8fa",
   "metadata": {},
   "outputs": [
    {
     "data": {
      "text/plain": [
       "PA-SLDL    203\n",
       "CT-SLDL    151\n",
       "NY-SLDL    150\n",
       "VA-SLDL    100\n",
       "MT-SLDL    100\n",
       "CA-SLDL     80\n",
       "RI-SLDL     75\n",
       "MD-SLDL     71\n",
       "CO-SLDL     65\n",
       "NY-SLDU     63\n",
       "CA-CONG     52\n",
       "HI-SLDL     51\n",
       "PA-SLDU     50\n",
       "MT-SLDU     50\n",
       "WA-SLDL     49\n",
       "WA-SLDU     49\n",
       "MD-SLDU     47\n",
       "NV-SLDL     42\n",
       "DE-SLDL     41\n",
       "VA-SLDU     40\n",
       "CA-SLDU     40\n",
       "NJ-SLDU     40\n",
       "NJ-SLDL     40\n",
       "RI-SLDU     38\n",
       "CT-SLDU     36\n",
       "CO-SLDU     35\n",
       "HI-SLDU     25\n",
       "DE-SLDU     21\n",
       "NV-SLDU     21\n",
       "NJ-CONG     12\n",
       "VA-CONG     11\n",
       "WA-CONG     10\n",
       "MD-CONG      8\n",
       "NV-CONG      4\n",
       "RI-CONG      2\n",
       "Name: state-level, dtype: int64"
      ]
     },
     "execution_count": 21,
     "metadata": {},
     "output_type": "execute_result"
    }
   ],
   "source": [
    "# Check how many of each district type there is (correct numbers are below)\n",
    "combined_files[\"state-level\"].value_counts()"
   ]
  },
  {
   "cell_type": "markdown",
   "id": "53ff6337",
   "metadata": {},
   "source": [
    "Target District Numbers\n",
    "\n",
    "- PA-SLDL    203\n",
    "- CT-SLDL    151\n",
    "- NY-SLDL    150\n",
    "- VA-SLDL    100\n",
    "- MT-SLDL    100\n",
    "- CA-SLDL     80\n",
    "- RI-SLDL     75\n",
    "- MD-SLDL     71\n",
    "- CO-SLDL     65\n",
    "- NY-SLDU     63\n",
    "- CA-CONG     52\n",
    "- HI-SLDL     51\n",
    "- PA-SLDU     50\n",
    "- MT-SLDU     50\n",
    "- WA-SLDL     49\n",
    "- WA-SLDU     49\n",
    "- MD-SLDU     47\n",
    "- NV-SLDL     42\n",
    "- DE-SLDL     41\n",
    "- VA-SLDU     40\n",
    "- CA-SLDU     40\n",
    "- NJ-SLDU     40\n",
    "- NJ-SLDL     40\n",
    "- RI-SLDU     38\n",
    "- CT-SLDU     36\n",
    "- CO-SLDU     35\n",
    "- HI-SLDU     25\n",
    "- DE-SLDU     21\n",
    "- NV-SLDU     21\n",
    "- NJ-CONG     12\n",
    "- VA-CONG     11\n",
    "- WA-CONG     10\n",
    "- MD-CONG      8\n",
    "- NV-CONG      4\n",
    "- RI-CONG      2"
   ]
  },
  {
   "cell_type": "code",
   "execution_count": 22,
   "id": "02b63195",
   "metadata": {},
   "outputs": [],
   "source": [
    "# Check the population totals for the various district types\n",
    "state_sums = combined_files.groupby(\"state-level\").sum()"
   ]
  },
  {
   "cell_type": "code",
   "execution_count": 23,
   "id": "5ab73153",
   "metadata": {},
   "outputs": [
    {
     "data": {
      "text/plain": [
       "state-level\n",
       "CA-CONG    39523437\n",
       "CA-SLDL    39523437\n",
       "CA-SLDU    39523437\n",
       "CO-SLDL     5773714\n",
       "CO-SLDU     5773714\n",
       "CT-SLDL     3603566\n",
       "CT-SLDU     3603566\n",
       "DE-SLDL      989598\n",
       "DE-SLDU      989598\n",
       "HI-SLDL     1383606\n",
       "HI-SLDU     1383606\n",
       "MD-CONG     6175403\n",
       "MD-SLDL     6175403\n",
       "MD-SLDU     6175403\n",
       "MT-SLDL     1082717\n",
       "MT-SLDU     1082717\n",
       "NJ-CONG     9283016\n",
       "NJ-SLDL     9283016\n",
       "NJ-SLDU     9283016\n",
       "NV-CONG     3104614\n",
       "NV-SLDL     3104614\n",
       "NV-SLDU     3104614\n",
       "NY-SLDL    20193858\n",
       "NY-SLDU    20193858\n",
       "PA-SLDL    13002700\n",
       "PA-SLDU    13002700\n",
       "RI-CONG     1097379\n",
       "RI-SLDL     1097379\n",
       "RI-SLDU     1097379\n",
       "VA-CONG     8631393\n",
       "VA-SLDL     8631393\n",
       "VA-SLDU     8631393\n",
       "WA-CONG     7705281\n",
       "WA-SLDL     7705281\n",
       "WA-SLDU     7705281\n",
       "Name: Adj_Pop, dtype: int64"
      ]
     },
     "execution_count": 23,
     "metadata": {},
     "output_type": "execute_result"
    }
   ],
   "source": [
    "state_sums[\"Adj_Pop\"]"
   ]
  },
  {
   "cell_type": "markdown",
   "id": "b588ed2c",
   "metadata": {},
   "source": [
    "Target Pops\n",
    "\n",
    "- CA 39523437\n",
    "- CO     5773714\n",
    "- CT     3603566\n",
    "- DE      989598\n",
    "- HI    1383606\n",
    "- MD    6175403\n",
    "- MT    1082717\n",
    "- NJ    9283016\n",
    "- NV     3104614\n",
    "- NY   20193858\n",
    "- PA   13002700\n",
    "- RI    1097379\n",
    "- VA    8631393\n",
    "- WA    7705281"
   ]
  },
  {
   "cell_type": "markdown",
   "id": "0a8a6a17",
   "metadata": {},
   "source": [
    "## Prepare to Export File"
   ]
  },
  {
   "cell_type": "code",
   "execution_count": 24,
   "id": "2ddcc3a3",
   "metadata": {},
   "outputs": [
    {
     "name": "stderr",
     "output_type": "stream",
     "text": [
      "/var/folders/1t/0q4w6hm92mg_zxd84dfxmq3m0000gn/T/ipykernel_75422/3288877480.py:1: SettingWithCopyWarning: \n",
      "A value is trying to be set on a copy of a slice from a DataFrame\n",
      "\n",
      "See the caveats in the documentation: https://pandas.pydata.org/pandas-docs/stable/user_guide/indexing.html#returning-a-view-versus-a-copy\n",
      "  combined_files.drop([\"unique_id\",\"state-level\"], axis = 1, inplace = True)\n",
      "/var/folders/1t/0q4w6hm92mg_zxd84dfxmq3m0000gn/T/ipykernel_75422/3288877480.py:2: SettingWithCopyWarning: \n",
      "A value is trying to be set on a copy of a slice from a DataFrame.\n",
      "Try using .loc[row_indexer,col_indexer] = value instead\n",
      "\n",
      "See the caveats in the documentation: https://pandas.pydata.org/pandas-docs/stable/user_guide/indexing.html#returning-a-view-versus-a-copy\n",
      "  combined_files[\"ID\"] = combined_files[\"ID\"].apply(lambda x: x.split(\"-\")[1])\n"
     ]
    }
   ],
   "source": [
    "combined_files.drop([\"unique_id\",\"state-level\"], axis = 1, inplace = True)\n",
    "combined_files[\"ID\"] = combined_files[\"ID\"].apply(lambda x: x.split(\"-\")[1])"
   ]
  },
  {
   "cell_type": "code",
   "execution_count": 25,
   "id": "1b10763a",
   "metadata": {},
   "outputs": [
    {
     "data": {
      "text/html": [
       "<div>\n",
       "<style scoped>\n",
       "    .dataframe tbody tr th:only-of-type {\n",
       "        vertical-align: middle;\n",
       "    }\n",
       "\n",
       "    .dataframe tbody tr th {\n",
       "        vertical-align: top;\n",
       "    }\n",
       "\n",
       "    .dataframe thead th {\n",
       "        text-align: right;\n",
       "    }\n",
       "</style>\n",
       "<table border=\"1\" class=\"dataframe\">\n",
       "  <thead>\n",
       "    <tr style=\"text-align: right;\">\n",
       "      <th></th>\n",
       "      <th>ID</th>\n",
       "      <th>Adj_Pop</th>\n",
       "      <th>Level</th>\n",
       "      <th>State</th>\n",
       "    </tr>\n",
       "  </thead>\n",
       "  <tbody>\n",
       "    <tr>\n",
       "      <th>0</th>\n",
       "      <td>1</td>\n",
       "      <td>760066</td>\n",
       "      <td>CONG</td>\n",
       "      <td>CA</td>\n",
       "    </tr>\n",
       "    <tr>\n",
       "      <th>1</th>\n",
       "      <td>10</td>\n",
       "      <td>760066</td>\n",
       "      <td>CONG</td>\n",
       "      <td>CA</td>\n",
       "    </tr>\n",
       "    <tr>\n",
       "      <th>2</th>\n",
       "      <td>11</td>\n",
       "      <td>760067</td>\n",
       "      <td>CONG</td>\n",
       "      <td>CA</td>\n",
       "    </tr>\n",
       "    <tr>\n",
       "      <th>3</th>\n",
       "      <td>12</td>\n",
       "      <td>760065</td>\n",
       "      <td>CONG</td>\n",
       "      <td>CA</td>\n",
       "    </tr>\n",
       "    <tr>\n",
       "      <th>4</th>\n",
       "      <td>13</td>\n",
       "      <td>760065</td>\n",
       "      <td>CONG</td>\n",
       "      <td>CA</td>\n",
       "    </tr>\n",
       "    <tr>\n",
       "      <th>5</th>\n",
       "      <td>14</td>\n",
       "      <td>760065</td>\n",
       "      <td>CONG</td>\n",
       "      <td>CA</td>\n",
       "    </tr>\n",
       "    <tr>\n",
       "      <th>6</th>\n",
       "      <td>15</td>\n",
       "      <td>760066</td>\n",
       "      <td>CONG</td>\n",
       "      <td>CA</td>\n",
       "    </tr>\n",
       "    <tr>\n",
       "      <th>7</th>\n",
       "      <td>16</td>\n",
       "      <td>760067</td>\n",
       "      <td>CONG</td>\n",
       "      <td>CA</td>\n",
       "    </tr>\n",
       "    <tr>\n",
       "      <th>8</th>\n",
       "      <td>17</td>\n",
       "      <td>760066</td>\n",
       "      <td>CONG</td>\n",
       "      <td>CA</td>\n",
       "    </tr>\n",
       "    <tr>\n",
       "      <th>9</th>\n",
       "      <td>18</td>\n",
       "      <td>760065</td>\n",
       "      <td>CONG</td>\n",
       "      <td>CA</td>\n",
       "    </tr>\n",
       "  </tbody>\n",
       "</table>\n",
       "</div>"
      ],
      "text/plain": [
       "   ID  Adj_Pop Level State\n",
       "0   1   760066  CONG    CA\n",
       "1  10   760066  CONG    CA\n",
       "2  11   760067  CONG    CA\n",
       "3  12   760065  CONG    CA\n",
       "4  13   760065  CONG    CA\n",
       "5  14   760065  CONG    CA\n",
       "6  15   760066  CONG    CA\n",
       "7  16   760067  CONG    CA\n",
       "8  17   760066  CONG    CA\n",
       "9  18   760065  CONG    CA"
      ]
     },
     "execution_count": 25,
     "metadata": {},
     "output_type": "execute_result"
    }
   ],
   "source": [
    "# Take a look at the file\n",
    "combined_files.head(10)"
   ]
  },
  {
   "cell_type": "code",
   "execution_count": 26,
   "id": "a7784749",
   "metadata": {},
   "outputs": [],
   "source": [
    "# Export the file\n",
    "combined_files.to_csv(\"./adjusted_districts_pop.csv\", index = False)"
   ]
  }
 ],
 "metadata": {
  "kernelspec": {
   "display_name": "Python 3 (ipykernel)",
   "language": "python",
   "name": "python3"
  },
  "language_info": {
   "codemirror_mode": {
    "name": "ipython",
    "version": 3
   },
   "file_extension": ".py",
   "mimetype": "text/x-python",
   "name": "python",
   "nbconvert_exporter": "python",
   "pygments_lexer": "ipython3",
   "version": "3.9.12"
  }
 },
 "nbformat": 4,
 "nbformat_minor": 5
}
