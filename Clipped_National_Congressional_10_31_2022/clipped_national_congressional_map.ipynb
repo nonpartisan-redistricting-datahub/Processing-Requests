{
 "cells": [
  {
   "cell_type": "code",
   "execution_count": 9,
   "id": "e1461fdd",
   "metadata": {},
   "outputs": [],
   "source": [
    "import pandas as pd\n",
    "import geopandas as gp\n",
    "import os"
   ]
  },
  {
   "cell_type": "markdown",
   "id": "b79a46ea",
   "metadata": {},
   "source": [
    "# Clipped National Congressional File"
   ]
  },
  {
   "cell_type": "code",
   "execution_count": 27,
   "id": "74d97df4",
   "metadata": {},
   "outputs": [
    {
     "name": "stderr",
     "output_type": "stream",
     "text": [
      "/Users/peterhorton/opt/anaconda3/envs/run_maup/lib/python3.8/site-packages/geopandas/io/file.py:299: FutureWarning: pandas.Int64Index is deprecated and will be removed from pandas in a future version. Use pandas.Index with the appropriate dtype instead.\n",
      "  pd.Int64Index,\n"
     ]
    }
   ],
   "source": [
    "# Load in the national map shapefile\n",
    "national_map = gp.read_file(\"./raw-from-source/cb_2018_us_nation_20m/cb_2018_us_nation_20m.shp\")\n",
    "\n",
    "# Clean geometries\n",
    "national_map = national_map.to_crs(3857)\n",
    "national_map[\"geometry\"] = national_map[\"geometry\"].buffer(0)\n",
    "\n",
    "# Load in the national congressional districts\n",
    "updated_cd = gp.read_file(\"./raw-from-source/national_cong_boundary/national_cong_boundary.shp\")\n",
    "\n",
    "# Perform the clip\n",
    "updated_cd_clipped = gp.clip(updated_cd, national_map)\n",
    "\n",
    "# Make the folder to create a folder to export the file\n",
    "if not os.path.exists(\"./clipped_cd/\"):\n",
    "    os.mkdir(\"./clipped_cd/\")\n",
    "\n",
    "# Export the file\n",
    "updated_cd_clipped.reset_index(inplace = True, drop = True)\n",
    "updated_cd_clipped.to_file(\"./clipped_cd/clipped_cd.shp\")"
   ]
  }
 ],
 "metadata": {
  "kernelspec": {
   "display_name": "Python 3 (ipykernel)",
   "language": "python",
   "name": "python3"
  },
  "language_info": {
   "codemirror_mode": {
    "name": "ipython",
    "version": 3
   },
   "file_extension": ".py",
   "mimetype": "text/x-python",
   "name": "python",
   "nbconvert_exporter": "python",
   "pygments_lexer": "ipython3",
   "version": "3.8.13"
  }
 },
 "nbformat": 4,
 "nbformat_minor": 5
}
