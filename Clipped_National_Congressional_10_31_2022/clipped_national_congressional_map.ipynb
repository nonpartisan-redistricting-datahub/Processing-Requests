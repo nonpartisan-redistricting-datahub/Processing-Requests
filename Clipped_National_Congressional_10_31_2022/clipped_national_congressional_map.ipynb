{
 "cells": [
  {
   "cell_type": "code",
   "execution_count": 4,
   "id": "f43af115",
   "metadata": {},
   "outputs": [],
   "source": [
    "import pandas as pd\n",
    "import geopandas as gp\n",
    "import os"
   ]
  },
  {
   "cell_type": "markdown",
   "id": "1f4b2f8d",
   "metadata": {},
   "source": [
    "# Clipped National Congressional Shapefile\n",
    "\n",
    "## Background:\n",
    "- We received a data request from a user wanting our national congressional shapefile clipped to a cartographic map.\n",
    "- The national congressional shapefile we host is constructed out of maps provided by the states and as such, may have differences about how areas like water boundaries are represented.\n",
    "\n",
    "## Approach:\n",
    "- Download a cartographic map of the US\n",
    "- Download our national Congressional shapefile\n",
    "- Clip the national Congressional shapefile by the cartographic map\n",
    "- Export files\n",
    "\n",
    "## Links to Download Raw Files\n",
    "- Create a \"raw-from-source\" folder and add the following files:\n",
    "    - Cartographic Map\n",
    "        - Link: https://www.census.gov/geographies/mapping-files/time-series/geo/carto-boundary-file.html\n",
    "        - Note: Download zip \"cb_2018_us_nation_20m.zip [<1.0 MB]\"\n",
    "    - National Congressional Shapefile:\n",
    "        - Link: https://redistrictingdatahub.org/dataset/national-congressional-districts-for-2022/\n",
    "    \n",
    "## Processing Steps\n",
    "- See attached notebook\n",
    "\n",
    "#### Note: A full \"raw-from-source\" file is also available upon request. Please email info@redistrictingdatahub.org\n"
   ]
  },
  {
   "cell_type": "code",
   "execution_count": 5,
   "id": "eb8fe68b",
   "metadata": {},
   "outputs": [
    {
     "name": "stderr",
     "output_type": "stream",
     "text": [
      "/Users/peterhorton/opt/anaconda3/envs/run_maup/lib/python3.8/site-packages/geopandas/io/file.py:299: FutureWarning: pandas.Int64Index is deprecated and will be removed from pandas in a future version. Use pandas.Index with the appropriate dtype instead.\n",
      "  pd.Int64Index,\n"
     ]
    }
   ],
   "source": [
    "# Load in the national map shapefile\n",
    "national_map = gp.read_file(\"./raw-from-source/cb_2018_us_nation_20m/cb_2018_us_nation_20m.shp\")\n",
    "\n",
    "# Clean geometries\n",
    "national_map = national_map.to_crs(3857)\n",
    "national_map[\"geometry\"] = national_map[\"geometry\"].buffer(0)\n",
    "\n",
    "# Load in the national congressional districts\n",
    "updated_cd = gp.read_file(\"./raw-from-source/national_cong_boundary/national_cong_boundary.shp\")\n",
    "updated_cd = updated_cd.to_crs(3857)\n",
    "\n",
    "# Perform the clip\n",
    "updated_cd_clipped = gp.clip(updated_cd, national_map)\n",
    "\n",
    "# Make the folder to create a folder to export the file\n",
    "if not os.path.exists(\"./clipped_national_cong_boundary/\"):\n",
    "    os.mkdir(\"./clipped_national_cong_boundary/\")\n",
    "\n",
    "# Export the file\n",
    "updated_cd_clipped.reset_index(inplace = True, drop = True)\n",
    "updated_cd_clipped.to_file(\"./clipped_national_cong_boundary/clipped_national_cong_boundary.shp\")"
   ]
  }
 ],
 "metadata": {
  "kernelspec": {
   "display_name": "Python 3 (ipykernel)",
   "language": "python",
   "name": "python3"
  },
  "language_info": {
   "codemirror_mode": {
    "name": "ipython",
    "version": 3
   },
   "file_extension": ".py",
   "mimetype": "text/x-python",
   "name": "python",
   "nbconvert_exporter": "python",
   "pygments_lexer": "ipython3",
   "version": "3.8.13"
  }
 },
 "nbformat": 4,
 "nbformat_minor": 5
}
