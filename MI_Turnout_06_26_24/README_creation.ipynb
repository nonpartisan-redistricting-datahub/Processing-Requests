{
 "cells": [
  {
   "cell_type": "code",
   "execution_count": 6,
   "id": "1abe3513",
   "metadata": {},
   "outputs": [],
   "source": [
    "import pandas as pd\n",
    "import os"
   ]
  },
  {
   "cell_type": "code",
   "execution_count": 10,
   "id": "7740e11f",
   "metadata": {},
   "outputs": [],
   "source": [
    "### Create README\n",
    "fields_dict = {}\n",
    "fields_dict['UNIQUE_ID'] ='Unique ID for each precinct'\n",
    "fields_dict['COUNTYFP'] ='County FIP identifier'\n",
    "fields_dict['County'] ='County Name'\n",
    "fields_dict['PRECNAME'] ='Precinct Name'\n",
    "fields_dict['PRECCODE'] ='Precinct Code'\n",
    "fields_dict['Region'] ='Region Name'\n",
    "fields_dict['Market'] ='Media Market'\n",
    "fields_dict['REGVOT'] ='Registered Voters'\n",
    "fields_dict['BALLOTS'] ='Ballots Counted'\n",
    "fields_dict['TURNOUT'] ='Official Voter Turnout'\n",
    "\n",
    "title = \"Michigan 2022 Voter Turnout Aggregated to 2022 Precincts\"\n",
    "retrieval_date = \"01/31/23\"\n",
    "fields_dict = fields_dict\n",
    "github_link = \"UPDATE LINK\"\n",
    "file_folder = \"./mi_turnout_2022_precs/\"\n",
    "source = \"Ohio Secretary of State\""
   ]
  },
  {
   "cell_type": "code",
   "execution_count": 11,
   "id": "717472fe",
   "metadata": {},
   "outputs": [],
   "source": [
    "def full_readme_text(title, retrieval_date, source, fields_dict, github_link):\n",
    "\n",
    "#First section of README\n",
    "    readme_p1 = '''{title}\\n\n",
    "## RDH Date Retrieval\n",
    "{retrieval_date}\n",
    "\n",
    "## Sources\n",
    "{source}\n",
    "\n",
    "## Fields:\n",
    "'''.format(title = title, source = source, retrieval_date = retrieval_date)\n",
    "\n",
    "#Second section of README\n",
    "    fields_table = pd.DataFrame.from_dict(fields_dict.items())\n",
    "    fields_table.columns = [\"Field Name\", \"Description\"]\n",
    "    readme_p2 = fields_table.to_string(formatters={'Description':'{{:<{}s}}'.format(fields_table['Description'].str.len().max()).format, 'Field Name':'{{:<{}s}}'.format(fields_table['Field Name'].str.len().max()).format}, index=False, justify = \"left\")\n",
    "\n",
    "#Third section of README\n",
    "    readme_p3 = '''\\n\n",
    "## Processing Steps\n",
    "Visit the RDH GitHub and the processing script for this code [here]({github_link})\n",
    "\n",
    "Please direct questions related to processing this dataset to info@redistrictingdatahub.org.\n",
    "'''.format(github_link=github_link)\n",
    "    \n",
    "    full_readme = str(readme_p1)+str(readme_p2)+str(readme_p3)\n",
    "    return full_readme\n",
    "\n"
   ]
  },
  {
   "cell_type": "code",
   "execution_count": 12,
   "id": "a94a25a5",
   "metadata": {},
   "outputs": [],
   "source": [
    "if not os.path.exists(file_folder):\n",
    "    os.mkdir(file_folder)\n",
    "\n",
    "with open(file_folder+\"README.txt\", 'w') as tf:\n",
    "        tf.write(full_readme_text(title, retrieval_date, source, fields_dict, github_link))"
   ]
  },
  {
   "cell_type": "code",
   "execution_count": null,
   "id": "f954c7ec",
   "metadata": {},
   "outputs": [],
   "source": []
  }
 ],
 "metadata": {
  "kernelspec": {
   "display_name": "Python 3 (ipykernel)",
   "language": "python",
   "name": "python3"
  },
  "language_info": {
   "codemirror_mode": {
    "name": "ipython",
    "version": 3
   },
   "file_extension": ".py",
   "mimetype": "text/x-python",
   "name": "python",
   "nbconvert_exporter": "python",
   "pygments_lexer": "ipython3",
   "version": "3.8.13"
  }
 },
 "nbformat": 4,
 "nbformat_minor": 5
}
