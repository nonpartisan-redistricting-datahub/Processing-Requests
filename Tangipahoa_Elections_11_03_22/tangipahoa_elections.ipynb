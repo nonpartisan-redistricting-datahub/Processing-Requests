{
 "cells": [
  {
   "cell_type": "code",
   "execution_count": 1,
   "id": "6a2a6856",
   "metadata": {},
   "outputs": [],
   "source": [
    "import pandas as pd\n",
    "import geopandas as gp\n",
    "import pber_functions_v1 as pber"
   ]
  },
  {
   "cell_type": "markdown",
   "id": "a7bd76ef",
   "metadata": {},
   "source": [
    "# Tangipahoa Elections"
   ]
  },
  {
   "cell_type": "code",
   "execution_count": 2,
   "id": "9597ffec",
   "metadata": {},
   "outputs": [],
   "source": [
    "tre_17 = pd.read_csv(\"./raw-from-source/tangipahoa/tangi - tre_2017.csv\")\n",
    "sos_18 = pd.read_csv(\"./raw-from-source/tangipahoa/tangi_2018r_sos.csv\")\n",
    "gen_19 = pd.read_csv(\"./raw-from-source/tangipahoa/tangi_2019.csv\")\n",
    "gen_20 = pd.read_csv(\"./raw-from-source/tangipahoa/tangi_2020_potus.csv\")\n",
    "gov_23 = pd.read_csv(\"./raw-from-source/tangipahoa/tangi - gov_2023.csv\")\n"
   ]
  },
  {
   "cell_type": "markdown",
   "id": "bff08062",
   "metadata": {},
   "source": [
    "# Convert the 18, and 20 files to short format"
   ]
  },
  {
   "cell_type": "code",
   "execution_count": 3,
   "id": "13807b41",
   "metadata": {},
   "outputs": [],
   "source": [
    "sos_18[\"Cand_Comb\"] = sos_18[\"candidate\"] + \"-:-\" + sos_18[\"party\"]\n",
    "sos_18_pivot = pd.pivot_table(sos_18, index = \"precinct\", columns = \"Cand_Comb\", values = \"votes\")\n",
    "sos_18_pivot.reset_index(inplace = True, drop = False)"
   ]
  },
  {
   "cell_type": "code",
   "execution_count": 4,
   "id": "fcae7d23",
   "metadata": {},
   "outputs": [],
   "source": [
    "gen_20[\"Cand_Comb\"] = gen_20[\"candidate\"] + \"-:-\" + gen_20[\"party\"]\n",
    "gen_20_pivot = pd.pivot_table(gen_20, index = \"precinct\", columns = \"Cand_Comb\", values = \"votes\")\n",
    "gen_20_pivot.reset_index(inplace = True, drop = False)"
   ]
  },
  {
   "cell_type": "code",
   "execution_count": 5,
   "id": "6fbee790",
   "metadata": {},
   "outputs": [
    {
     "name": "stdout",
     "output_type": "stream",
     "text": [
      "(85, 3)\n",
      "(85, 10)\n",
      "(88, 8)\n",
      "(87, 13)\n",
      "(75, 16)\n"
     ]
    }
   ],
   "source": [
    "print(tre_17.shape)\n",
    "print(sos_18_pivot.shape)\n",
    "print(gen_19.shape)\n",
    "print(gen_20_pivot.shape)\n",
    "print(gov_23.shape)"
   ]
  },
  {
   "cell_type": "markdown",
   "id": "eba71bde",
   "metadata": {},
   "source": [
    "# Get Data Files\n",
    "- Note: No 17 or 23 files, will try to use ones around the same time"
   ]
  },
  {
   "cell_type": "code",
   "execution_count": 6,
   "id": "b7d62af0",
   "metadata": {},
   "outputs": [],
   "source": [
    "la_17 = gp.read_file(\"./raw-from-source/boundaries/2017LouisianaPrecinctShapefile.zip\")\n",
    "la_18 = gp.read_file(\"./raw-from-source/boundaries/la_2018.zip\")\n",
    "la_19 = gp.read_file(\"./raw-from-source/boundaries/la_2019.zip\")\n",
    "la_20 = gp.read_file(\"./raw-from-source/boundaries/la_2020.zip\")\n",
    "la_22 = gp.read_file(\"./raw-from-source/boundaries/la_gen_2022_prec/la_gen_2022_prec.shp\")"
   ]
  },
  {
   "cell_type": "code",
   "execution_count": 7,
   "id": "d53f3dfd",
   "metadata": {},
   "outputs": [],
   "source": [
    "la_17 = la_17[la_17[\"COUNTYFP10\"]==\"105\"]"
   ]
  },
  {
   "cell_type": "code",
   "execution_count": 8,
   "id": "cb9efcd6",
   "metadata": {},
   "outputs": [
    {
     "data": {
      "text/plain": [
       "(85, 16)"
      ]
     },
     "execution_count": 8,
     "metadata": {},
     "output_type": "execute_result"
    }
   ],
   "source": [
    "la_18 = la_18[la_18[\"COUNTYFP10\"]==\"105\"]\n",
    "la_18.shape"
   ]
  },
  {
   "cell_type": "code",
   "execution_count": 9,
   "id": "e2d8588b",
   "metadata": {},
   "outputs": [
    {
     "data": {
      "text/plain": [
       "(88, 33)"
      ]
     },
     "execution_count": 9,
     "metadata": {},
     "output_type": "execute_result"
    }
   ],
   "source": [
    "la_19 = la_19[la_19['COUNTYFP']=='105']\n",
    "la_19.shape"
   ]
  },
  {
   "cell_type": "code",
   "execution_count": 10,
   "id": "439e7075",
   "metadata": {},
   "outputs": [
    {
     "data": {
      "text/plain": [
       "(88, 25)"
      ]
     },
     "execution_count": 10,
     "metadata": {},
     "output_type": "execute_result"
    }
   ],
   "source": [
    "la_20 = la_20[la_20['COUNTYFP']=='105']\n",
    "la_20.shape"
   ]
  },
  {
   "cell_type": "code",
   "execution_count": 11,
   "id": "8188d8da",
   "metadata": {},
   "outputs": [
    {
     "data": {
      "text/plain": [
       "(99, 62)"
      ]
     },
     "execution_count": 11,
     "metadata": {},
     "output_type": "execute_result"
    }
   ],
   "source": [
    "la_22 = la_22[la_22['COUNTYFP']=='105']\n",
    "la_22.shape"
   ]
  },
  {
   "cell_type": "markdown",
   "id": "ae1230a3",
   "metadata": {},
   "source": [
    "# Joins"
   ]
  },
  {
   "cell_type": "markdown",
   "id": "01cbd2db",
   "metadata": {},
   "source": [
    "## 2017"
   ]
  },
  {
   "cell_type": "code",
   "execution_count": 12,
   "id": "2d608e6c",
   "metadata": {},
   "outputs": [
    {
     "data": {
      "text/plain": [
       "Index(['Precinct', 'Derrick Edwards (DEM)', 'John Schroder (REP)'], dtype='object')"
      ]
     },
     "execution_count": 12,
     "metadata": {},
     "output_type": "execute_result"
    }
   ],
   "source": [
    "tre_17.columns"
   ]
  },
  {
   "cell_type": "code",
   "execution_count": 13,
   "id": "2f766fc4",
   "metadata": {},
   "outputs": [],
   "source": [
    "tre_17[\"State\"] = \"LA\""
   ]
  },
  {
   "cell_type": "code",
   "execution_count": 14,
   "id": "2fcb8589",
   "metadata": {},
   "outputs": [
    {
     "name": "stderr",
     "output_type": "stream",
     "text": [
      "/Users/peterhorton/Documents/RDH/Support/Processing-Requests/Tangipahoa_Elections_11_03_22/pber_functions_v1.py:209: FutureWarning: The default value of numeric_only in DataFrameGroupBy.sum is deprecated. In a future version, numeric_only will default to False. Either specify numeric_only or select only columns which should be valid for the function.\n",
      "  precinct_specific_totals = pd.DataFrame(df_receiving_votes.groupby([col_allocating]).sum())\n",
      "/Users/peterhorton/Documents/RDH/Support/Processing-Requests/Tangipahoa_Elections_11_03_22/pber_functions_v1.py:211: FutureWarning: The default value of numeric_only in DataFrameGroupBy.sum is deprecated. In a future version, numeric_only will default to False. Either specify numeric_only or select only columns which should be valid for the function.\n",
      "  to_dole_out_totals = pd.DataFrame(df_allocating.groupby([col_allocating]).sum())\n",
      "/Users/peterhorton/Documents/RDH/Support/Processing-Requests/Tangipahoa_Elections_11_03_22/pber_functions_v1.py:291: FutureWarning: The default value of numeric_only in DataFrameGroupBy.sum is deprecated. In a future version, numeric_only will default to False. Either specify numeric_only or select only columns which should be valid for the function.\n",
      "  first_allocation = pd.DataFrame(df_receiving_votes.groupby([col_allocating]).sum())\n",
      "/Users/peterhorton/Documents/RDH/Support/Processing-Requests/Tangipahoa_Elections_11_03_22/pber_functions_v1.py:313: FutureWarning: In a future version, `df.iloc[:, i] = newvals` will attempt to set the values inplace instead of always setting a new array. To retain the old behavior, use either `df[df.columns[i]] = newvals` or, if columns are non-unique, `df.isetitem(i, newvals)`\n",
      "  df_receiving_votes.loc[:,race]+=df_receiving_votes.loc[:,add_var]\n",
      "/Users/peterhorton/Documents/RDH/Support/Processing-Requests/Tangipahoa_Elections_11_03_22/pber_functions_v1.py:314: FutureWarning: In a future version, `df.iloc[:, i] = newvals` will attempt to set the values inplace instead of always setting a new array. To retain the old behavior, use either `df[df.columns[i]] = newvals` or, if columns are non-unique, `df.isetitem(i, newvals)`\n",
      "  df_receiving_votes.loc[:,race] = df_receiving_votes.loc[:,race].astype(int)\n"
     ]
    }
   ],
   "source": [
    "alloc_df = tre_17[tre_17[\"Precinct\"].isna()]\n",
    "recev_df = tre_17[~tre_17[\"Precinct\"].isna()]\n",
    "\n",
    "tre_17_aloc = pber.allocate_absentee(recev_df, alloc_df, ['Derrick Edwards (DEM)', 'John Schroder (REP)'], \"State\", allocating_to_all_empty_precs=False)"
   ]
  },
  {
   "cell_type": "code",
   "execution_count": 15,
   "id": "c1984c1d",
   "metadata": {},
   "outputs": [
    {
     "data": {
      "text/html": [
       "<div>\n",
       "<style scoped>\n",
       "    .dataframe tbody tr th:only-of-type {\n",
       "        vertical-align: middle;\n",
       "    }\n",
       "\n",
       "    .dataframe tbody tr th {\n",
       "        vertical-align: top;\n",
       "    }\n",
       "\n",
       "    .dataframe thead th {\n",
       "        text-align: right;\n",
       "    }\n",
       "</style>\n",
       "<table border=\"1\" class=\"dataframe\">\n",
       "  <thead>\n",
       "    <tr style=\"text-align: right;\">\n",
       "      <th></th>\n",
       "      <th>Precinct</th>\n",
       "      <th>Derrick Edwards (DEM)</th>\n",
       "      <th>John Schroder (REP)</th>\n",
       "      <th>State</th>\n",
       "    </tr>\n",
       "  </thead>\n",
       "  <tbody>\n",
       "    <tr>\n",
       "      <th>0</th>\n",
       "      <td>1</td>\n",
       "      <td>36</td>\n",
       "      <td>33</td>\n",
       "      <td>LA</td>\n",
       "    </tr>\n",
       "    <tr>\n",
       "      <th>1</th>\n",
       "      <td>2</td>\n",
       "      <td>96</td>\n",
       "      <td>36</td>\n",
       "      <td>LA</td>\n",
       "    </tr>\n",
       "    <tr>\n",
       "      <th>2</th>\n",
       "      <td>6</td>\n",
       "      <td>49</td>\n",
       "      <td>0</td>\n",
       "      <td>LA</td>\n",
       "    </tr>\n",
       "    <tr>\n",
       "      <th>3</th>\n",
       "      <td>11</td>\n",
       "      <td>65</td>\n",
       "      <td>23</td>\n",
       "      <td>LA</td>\n",
       "    </tr>\n",
       "    <tr>\n",
       "      <th>4</th>\n",
       "      <td>15</td>\n",
       "      <td>20</td>\n",
       "      <td>103</td>\n",
       "      <td>LA</td>\n",
       "    </tr>\n",
       "    <tr>\n",
       "      <th>...</th>\n",
       "      <td>...</td>\n",
       "      <td>...</td>\n",
       "      <td>...</td>\n",
       "      <td>...</td>\n",
       "    </tr>\n",
       "    <tr>\n",
       "      <th>79</th>\n",
       "      <td>145</td>\n",
       "      <td>65</td>\n",
       "      <td>329</td>\n",
       "      <td>LA</td>\n",
       "    </tr>\n",
       "    <tr>\n",
       "      <th>80</th>\n",
       "      <td>147</td>\n",
       "      <td>8</td>\n",
       "      <td>73</td>\n",
       "      <td>LA</td>\n",
       "    </tr>\n",
       "    <tr>\n",
       "      <th>81</th>\n",
       "      <td>149</td>\n",
       "      <td>42</td>\n",
       "      <td>397</td>\n",
       "      <td>LA</td>\n",
       "    </tr>\n",
       "    <tr>\n",
       "      <th>82</th>\n",
       "      <td>149A</td>\n",
       "      <td>11</td>\n",
       "      <td>63</td>\n",
       "      <td>LA</td>\n",
       "    </tr>\n",
       "    <tr>\n",
       "      <th>83</th>\n",
       "      <td>151</td>\n",
       "      <td>41</td>\n",
       "      <td>298</td>\n",
       "      <td>LA</td>\n",
       "    </tr>\n",
       "  </tbody>\n",
       "</table>\n",
       "<p>84 rows × 4 columns</p>\n",
       "</div>"
      ],
      "text/plain": [
       "   Precinct  Derrick Edwards (DEM)  John Schroder (REP) State\n",
       "0         1                     36                   33    LA\n",
       "1         2                     96                   36    LA\n",
       "2         6                     49                    0    LA\n",
       "3        11                     65                   23    LA\n",
       "4        15                     20                  103    LA\n",
       "..      ...                    ...                  ...   ...\n",
       "79      145                     65                  329    LA\n",
       "80      147                      8                   73    LA\n",
       "81      149                     42                  397    LA\n",
       "82     149A                     11                   63    LA\n",
       "83      151                     41                  298    LA\n",
       "\n",
       "[84 rows x 4 columns]"
      ]
     },
     "execution_count": 15,
     "metadata": {},
     "output_type": "execute_result"
    }
   ],
   "source": [
    "tre_17_aloc"
   ]
  },
  {
   "cell_type": "code",
   "execution_count": 16,
   "id": "9d93649a",
   "metadata": {},
   "outputs": [
    {
     "data": {
      "text/plain": [
       "(84, 32)"
      ]
     },
     "execution_count": 16,
     "metadata": {},
     "output_type": "execute_result"
    }
   ],
   "source": [
    "la_17.shape"
   ]
  },
  {
   "cell_type": "code",
   "execution_count": 17,
   "id": "52378bab",
   "metadata": {},
   "outputs": [],
   "source": [
    "la_17 = gp.GeoDataFrame(la_17[[\"VTDST10\",\"NAME10\",\"geometry\"]])"
   ]
  },
  {
   "cell_type": "code",
   "execution_count": 18,
   "id": "f1989ccb",
   "metadata": {},
   "outputs": [
    {
     "name": "stderr",
     "output_type": "stream",
     "text": [
      "/var/folders/1t/0q4w6hm92mg_zxd84dfxmq3m0000gn/T/ipykernel_20137/2882043948.py:2: SettingWithCopyWarning: \n",
      "A value is trying to be set on a copy of a slice from a DataFrame.\n",
      "Try using .loc[row_indexer,col_indexer] = value instead\n",
      "\n",
      "See the caveats in the documentation: https://pandas.pydata.org/pandas-docs/stable/user_guide/indexing.html#returning-a-view-versus-a-copy\n",
      "  tre_17_aloc[\"Precinct\"] = tre_17_aloc[\"Precinct\"].astype(str).str.zfill(4)\n"
     ]
    }
   ],
   "source": [
    "la_17[\"VTDST10\"] = la_17[\"VTDST10\"].astype(str).str.zfill(4)\n",
    "tre_17_aloc[\"Precinct\"] = tre_17_aloc[\"Precinct\"].astype(str).str.zfill(4)\n"
   ]
  },
  {
   "cell_type": "code",
   "execution_count": 19,
   "id": "505c7151",
   "metadata": {},
   "outputs": [],
   "source": [
    "joined_17 = gp.GeoDataFrame(pd.merge(la_17, tre_17_aloc, right_on = \"Precinct\", left_on = \"VTDST10\", how = \"outer\", indicator = True))"
   ]
  },
  {
   "cell_type": "markdown",
   "id": "5ee3803f",
   "metadata": {},
   "source": [
    "## 2018"
   ]
  },
  {
   "cell_type": "code",
   "execution_count": 20,
   "id": "520b9b56",
   "metadata": {},
   "outputs": [],
   "source": [
    "sos_18_pivot = pd.read_csv(\"./raw-from-source/tangipahoa/tangi_2018r_sos_clean.csv\")"
   ]
  },
  {
   "cell_type": "code",
   "execution_count": 21,
   "id": "b7076743",
   "metadata": {},
   "outputs": [
    {
     "data": {
      "text/plain": [
       "Index(['Precinct', 'Kyle Ardoin (REP)', 'Heather Cloud (REP)',\n",
       "       '\"Gwen\" Collins-Greenup (DEM)', 'A.G. Crowe (REP)',\n",
       "       '\"Rick\" Edmonds (REP)', 'Renee Fontenot Free (DEM)',\n",
       "       'Thomas J. Kennedy III (REP)', 'Matthew Paul \"Matt\" Moreau (NOPTY)',\n",
       "       'Julie Stokes (REP)'],\n",
       "      dtype='object')"
      ]
     },
     "execution_count": 21,
     "metadata": {},
     "output_type": "execute_result"
    }
   ],
   "source": [
    "sos_18_pivot.columns"
   ]
  },
  {
   "cell_type": "code",
   "execution_count": 22,
   "id": "f6ddab95",
   "metadata": {},
   "outputs": [],
   "source": [
    "sos_18_pivot.rename(columns = {\"Precinct\":\"precinct\"}, inplace = True)"
   ]
  },
  {
   "cell_type": "code",
   "execution_count": 23,
   "id": "6fe120d2",
   "metadata": {},
   "outputs": [
    {
     "name": "stderr",
     "output_type": "stream",
     "text": [
      "/Users/peterhorton/Documents/RDH/Support/Processing-Requests/Tangipahoa_Elections_11_03_22/pber_functions_v1.py:209: FutureWarning: The default value of numeric_only in DataFrameGroupBy.sum is deprecated. In a future version, numeric_only will default to False. Either specify numeric_only or select only columns which should be valid for the function.\n",
      "  precinct_specific_totals = pd.DataFrame(df_receiving_votes.groupby([col_allocating]).sum())\n",
      "/Users/peterhorton/Documents/RDH/Support/Processing-Requests/Tangipahoa_Elections_11_03_22/pber_functions_v1.py:211: FutureWarning: The default value of numeric_only in DataFrameGroupBy.sum is deprecated. In a future version, numeric_only will default to False. Either specify numeric_only or select only columns which should be valid for the function.\n",
      "  to_dole_out_totals = pd.DataFrame(df_allocating.groupby([col_allocating]).sum())\n",
      "/Users/peterhorton/Documents/RDH/Support/Processing-Requests/Tangipahoa_Elections_11_03_22/pber_functions_v1.py:291: FutureWarning: The default value of numeric_only in DataFrameGroupBy.sum is deprecated. In a future version, numeric_only will default to False. Either specify numeric_only or select only columns which should be valid for the function.\n",
      "  first_allocation = pd.DataFrame(df_receiving_votes.groupby([col_allocating]).sum())\n",
      "/Users/peterhorton/Documents/RDH/Support/Processing-Requests/Tangipahoa_Elections_11_03_22/pber_functions_v1.py:313: FutureWarning: In a future version, `df.iloc[:, i] = newvals` will attempt to set the values inplace instead of always setting a new array. To retain the old behavior, use either `df[df.columns[i]] = newvals` or, if columns are non-unique, `df.isetitem(i, newvals)`\n",
      "  df_receiving_votes.loc[:,race]+=df_receiving_votes.loc[:,add_var]\n",
      "/Users/peterhorton/Documents/RDH/Support/Processing-Requests/Tangipahoa_Elections_11_03_22/pber_functions_v1.py:314: FutureWarning: In a future version, `df.iloc[:, i] = newvals` will attempt to set the values inplace instead of always setting a new array. To retain the old behavior, use either `df[df.columns[i]] = newvals` or, if columns are non-unique, `df.isetitem(i, newvals)`\n",
      "  df_receiving_votes.loc[:,race] = df_receiving_votes.loc[:,race].astype(int)\n"
     ]
    }
   ],
   "source": [
    "sos_18_pivot[\"State\"] = \"LA\"\n",
    "\n",
    "alloc_df = sos_18_pivot[sos_18_pivot[\"precinct\"]==\"Early Voting\"]\n",
    "recev_df = sos_18_pivot[sos_18_pivot[\"precinct\"]!=\"Early Voting\"]\n",
    "\n",
    "sos_18_pivot_aloc = pber.allocate_absentee(recev_df, alloc_df, ['Kyle Ardoin (REP)', 'Heather Cloud (REP)',\n",
    "       '\"Gwen\" Collins-Greenup (DEM)', 'A.G. Crowe (REP)',\n",
    "       '\"Rick\" Edmonds (REP)', 'Renee Fontenot Free (DEM)',\n",
    "       'Thomas J. Kennedy III (REP)', 'Matthew Paul \"Matt\" Moreau (NOPTY)',\n",
    "       'Julie Stokes (REP)'], \"State\", allocating_to_all_empty_precs=False)"
   ]
  },
  {
   "cell_type": "code",
   "execution_count": 24,
   "id": "5b27cf17",
   "metadata": {},
   "outputs": [],
   "source": [
    "la_18[\"precinct\"] = \"00 \" + la_18[\"VTDST10\"].str.zfill(3)"
   ]
  },
  {
   "cell_type": "code",
   "execution_count": 25,
   "id": "d10c0719",
   "metadata": {},
   "outputs": [
    {
     "data": {
      "text/plain": [
       "{'00 28A', '00 40A', '00 42A', '00 45A', '00 70A', '00 72A'}"
      ]
     },
     "execution_count": 25,
     "metadata": {},
     "output_type": "execute_result"
    }
   ],
   "source": [
    "set(la_18[\"precinct\"]) - set(sos_18_pivot_aloc[\"precinct\"])"
   ]
  },
  {
   "cell_type": "code",
   "execution_count": 26,
   "id": "cb432c66",
   "metadata": {},
   "outputs": [
    {
     "data": {
      "text/plain": [
       "{'00 028A', '00 040A', '00 042A', '00 045A', '00 070A', '00 072A'}"
      ]
     },
     "execution_count": 26,
     "metadata": {},
     "output_type": "execute_result"
    }
   ],
   "source": [
    "set(sos_18_pivot_aloc[\"precinct\"]) - set(la_18[\"precinct\"])"
   ]
  },
  {
   "cell_type": "code",
   "execution_count": 27,
   "id": "05db1194",
   "metadata": {},
   "outputs": [],
   "source": [
    "updates_dict = {'00 28A':'00 028A',\n",
    " '00 40A':'00 040A',\n",
    " '00 42A':'00 042A',\n",
    " '00 45A':'00 045A',\n",
    " '00 70A':'00 070A',\n",
    " '00 72A':'00 072A'}"
   ]
  },
  {
   "cell_type": "code",
   "execution_count": 28,
   "id": "323f6e8b",
   "metadata": {},
   "outputs": [],
   "source": [
    "la_18[\"precinct\"] = la_18[\"precinct\"].map(updates_dict).fillna(la_18[\"precinct\"])"
   ]
  },
  {
   "cell_type": "code",
   "execution_count": 29,
   "id": "f6447f1d",
   "metadata": {},
   "outputs": [],
   "source": [
    "joined_18 = gp.GeoDataFrame(pd.merge(sos_18_pivot_aloc, la_18, on = \"precinct\", how = \"outer\", indicator = True))"
   ]
  },
  {
   "cell_type": "markdown",
   "id": "29ebe842",
   "metadata": {},
   "source": [
    "## 2019"
   ]
  },
  {
   "cell_type": "code",
   "execution_count": 30,
   "id": "96a4e497",
   "metadata": {},
   "outputs": [
    {
     "data": {
      "text/html": [
       "<div>\n",
       "<style scoped>\n",
       "    .dataframe tbody tr th:only-of-type {\n",
       "        vertical-align: middle;\n",
       "    }\n",
       "\n",
       "    .dataframe tbody tr th {\n",
       "        vertical-align: top;\n",
       "    }\n",
       "\n",
       "    .dataframe thead th {\n",
       "        text-align: right;\n",
       "    }\n",
       "</style>\n",
       "<table border=\"1\" class=\"dataframe\">\n",
       "  <thead>\n",
       "    <tr style=\"text-align: right;\">\n",
       "      <th></th>\n",
       "      <th>NAME</th>\n",
       "      <th>VTDST</th>\n",
       "      <th>G19LTGRNUN</th>\n",
       "      <th>G19LTGDJON</th>\n",
       "      <th>G19ATGRLAN</th>\n",
       "      <th>G19ATGDJAC</th>\n",
       "      <th>R19SOSRARD</th>\n",
       "      <th>R19SOSDCOL</th>\n",
       "    </tr>\n",
       "  </thead>\n",
       "  <tbody>\n",
       "    <tr>\n",
       "      <th>0</th>\n",
       "      <td>6</td>\n",
       "      <td>000006</td>\n",
       "      <td>21</td>\n",
       "      <td>152</td>\n",
       "      <td>16</td>\n",
       "      <td>147</td>\n",
       "      <td>15</td>\n",
       "      <td>251</td>\n",
       "    </tr>\n",
       "    <tr>\n",
       "      <th>1</th>\n",
       "      <td>28</td>\n",
       "      <td>000028</td>\n",
       "      <td>194</td>\n",
       "      <td>45</td>\n",
       "      <td>180</td>\n",
       "      <td>55</td>\n",
       "      <td>151</td>\n",
       "      <td>79</td>\n",
       "    </tr>\n",
       "    <tr>\n",
       "      <th>2</th>\n",
       "      <td>101</td>\n",
       "      <td>000101</td>\n",
       "      <td>226</td>\n",
       "      <td>102</td>\n",
       "      <td>223</td>\n",
       "      <td>85</td>\n",
       "      <td>200</td>\n",
       "      <td>158</td>\n",
       "    </tr>\n",
       "    <tr>\n",
       "      <th>3</th>\n",
       "      <td>106B</td>\n",
       "      <td>00106B</td>\n",
       "      <td>7</td>\n",
       "      <td>0</td>\n",
       "      <td>7</td>\n",
       "      <td>0</td>\n",
       "      <td>6</td>\n",
       "      <td>2</td>\n",
       "    </tr>\n",
       "    <tr>\n",
       "      <th>4</th>\n",
       "      <td>122A</td>\n",
       "      <td>00122A</td>\n",
       "      <td>211</td>\n",
       "      <td>12</td>\n",
       "      <td>197</td>\n",
       "      <td>19</td>\n",
       "      <td>207</td>\n",
       "      <td>39</td>\n",
       "    </tr>\n",
       "    <tr>\n",
       "      <th>...</th>\n",
       "      <td>...</td>\n",
       "      <td>...</td>\n",
       "      <td>...</td>\n",
       "      <td>...</td>\n",
       "      <td>...</td>\n",
       "      <td>...</td>\n",
       "      <td>...</td>\n",
       "      <td>...</td>\n",
       "    </tr>\n",
       "    <tr>\n",
       "      <th>83</th>\n",
       "      <td>70</td>\n",
       "      <td>000070</td>\n",
       "      <td>551</td>\n",
       "      <td>129</td>\n",
       "      <td>531</td>\n",
       "      <td>135</td>\n",
       "      <td>517</td>\n",
       "      <td>228</td>\n",
       "    </tr>\n",
       "    <tr>\n",
       "      <th>84</th>\n",
       "      <td>47</td>\n",
       "      <td>000047</td>\n",
       "      <td>76</td>\n",
       "      <td>235</td>\n",
       "      <td>69</td>\n",
       "      <td>219</td>\n",
       "      <td>58</td>\n",
       "      <td>375</td>\n",
       "    </tr>\n",
       "    <tr>\n",
       "      <th>85</th>\n",
       "      <td>45A</td>\n",
       "      <td>00045A</td>\n",
       "      <td>105</td>\n",
       "      <td>184</td>\n",
       "      <td>106</td>\n",
       "      <td>179</td>\n",
       "      <td>98</td>\n",
       "      <td>267</td>\n",
       "    </tr>\n",
       "    <tr>\n",
       "      <th>86</th>\n",
       "      <td>129A</td>\n",
       "      <td>00129A</td>\n",
       "      <td>153</td>\n",
       "      <td>233</td>\n",
       "      <td>161</td>\n",
       "      <td>210</td>\n",
       "      <td>148</td>\n",
       "      <td>348</td>\n",
       "    </tr>\n",
       "    <tr>\n",
       "      <th>87</th>\n",
       "      <td>46</td>\n",
       "      <td>000046</td>\n",
       "      <td>42</td>\n",
       "      <td>315</td>\n",
       "      <td>40</td>\n",
       "      <td>290</td>\n",
       "      <td>18</td>\n",
       "      <td>522</td>\n",
       "    </tr>\n",
       "  </tbody>\n",
       "</table>\n",
       "<p>88 rows × 8 columns</p>\n",
       "</div>"
      ],
      "text/plain": [
       "    NAME   VTDST  G19LTGRNUN  G19LTGDJON  G19ATGRLAN  G19ATGDJAC  R19SOSRARD  \\\n",
       "0      6  000006          21         152          16         147          15   \n",
       "1     28  000028         194          45         180          55         151   \n",
       "2    101  000101         226         102         223          85         200   \n",
       "3   106B  00106B           7           0           7           0           6   \n",
       "4   122A  00122A         211          12         197          19         207   \n",
       "..   ...     ...         ...         ...         ...         ...         ...   \n",
       "83    70  000070         551         129         531         135         517   \n",
       "84    47  000047          76         235          69         219          58   \n",
       "85   45A  00045A         105         184         106         179          98   \n",
       "86  129A  00129A         153         233         161         210         148   \n",
       "87    46  000046          42         315          40         290          18   \n",
       "\n",
       "    R19SOSDCOL  \n",
       "0          251  \n",
       "1           79  \n",
       "2          158  \n",
       "3            2  \n",
       "4           39  \n",
       "..         ...  \n",
       "83         228  \n",
       "84         375  \n",
       "85         267  \n",
       "86         348  \n",
       "87         522  \n",
       "\n",
       "[88 rows x 8 columns]"
      ]
     },
     "execution_count": 30,
     "metadata": {},
     "output_type": "execute_result"
    }
   ],
   "source": [
    "gen_19"
   ]
  },
  {
   "cell_type": "code",
   "execution_count": 31,
   "id": "33e03ef5",
   "metadata": {},
   "outputs": [
    {
     "data": {
      "text/plain": [
       "set()"
      ]
     },
     "execution_count": 31,
     "metadata": {},
     "output_type": "execute_result"
    }
   ],
   "source": [
    "set(la_19[\"NAME\"]) - set(gen_19[\"NAME\"])\n",
    "set(gen_19[\"NAME\"]) - set(la_19[\"NAME\"])"
   ]
  },
  {
   "cell_type": "code",
   "execution_count": 32,
   "id": "c3437b69",
   "metadata": {},
   "outputs": [],
   "source": [
    "joined_19 = gp.GeoDataFrame(pd.merge(gen_19, la_19, on = \"NAME\", how = \"outer\", indicator = True))"
   ]
  },
  {
   "cell_type": "code",
   "execution_count": 33,
   "id": "ce29bef6",
   "metadata": {},
   "outputs": [],
   "source": [
    "joined_19 = la_19.copy(deep = True)"
   ]
  },
  {
   "cell_type": "code",
   "execution_count": 34,
   "id": "8124550a",
   "metadata": {},
   "outputs": [],
   "source": [
    "#joined_19[\"_merge\"].value_counts()"
   ]
  },
  {
   "cell_type": "markdown",
   "id": "80fae862",
   "metadata": {},
   "source": [
    "## 2020"
   ]
  },
  {
   "cell_type": "code",
   "execution_count": 35,
   "id": "865b0525",
   "metadata": {},
   "outputs": [],
   "source": [
    "gen_20_pivot = pd.read_csv(\"./raw-from-source/tangipahoa/tangi_2020_potus_clean.csv\")"
   ]
  },
  {
   "cell_type": "code",
   "execution_count": 36,
   "id": "926e6059",
   "metadata": {},
   "outputs": [],
   "source": [
    "gen_20_pivot.rename(columns = {\"Precinct\":\"precinct\"}, inplace = True)"
   ]
  },
  {
   "cell_type": "code",
   "execution_count": 37,
   "id": "02626138",
   "metadata": {},
   "outputs": [],
   "source": [
    "gen_20_pivot = gen_20_pivot.fillna(0)"
   ]
  },
  {
   "cell_type": "code",
   "execution_count": 38,
   "id": "bc85387e",
   "metadata": {},
   "outputs": [
    {
     "data": {
      "text/plain": [
       "Index(['precinct', 'Joseph R. Biden, Kamala Harris Democratic',\n",
       "       'Jo Jorgensen, Jeremy Cohen Libertarian',\n",
       "       'Donald J. Trump, Michael Pence Republican',\n",
       "       'Brian Carroll, Amar Patel American Solidarity Party',\n",
       "       'Jade Simmons, Claudeliah Roze Becoming One Nation',\n",
       "       'President Boddie,Eric Stoneham C.U.P.',\n",
       "       'Don Blankenship, William Mohr Constitution Party',\n",
       "       'Brock Pierce, Karla Ballard Freedom and Prosperity',\n",
       "       'Tom Hoefling, Andy Prior Life, Liberty, Constitution',\n",
       "       'Gloria La Riva, Sunil Freeman Socialism and Liberation',\n",
       "       'Alyson Kennedy,Malcolm Jarrett Socialist Workers Party',\n",
       "       'Kanye West, Michelle Tidball The Birthday Party',\n",
       "       'Bill Hammons, Eric Bodenstab Unity Party America'],\n",
       "      dtype='object')"
      ]
     },
     "execution_count": 38,
     "metadata": {},
     "output_type": "execute_result"
    }
   ],
   "source": [
    "gen_20_pivot.columns"
   ]
  },
  {
   "cell_type": "code",
   "execution_count": 39,
   "id": "7b9750e7",
   "metadata": {},
   "outputs": [
    {
     "name": "stderr",
     "output_type": "stream",
     "text": [
      "/Users/peterhorton/Documents/RDH/Support/Processing-Requests/Tangipahoa_Elections_11_03_22/pber_functions_v1.py:209: FutureWarning: The default value of numeric_only in DataFrameGroupBy.sum is deprecated. In a future version, numeric_only will default to False. Either specify numeric_only or select only columns which should be valid for the function.\n",
      "  precinct_specific_totals = pd.DataFrame(df_receiving_votes.groupby([col_allocating]).sum())\n",
      "/Users/peterhorton/Documents/RDH/Support/Processing-Requests/Tangipahoa_Elections_11_03_22/pber_functions_v1.py:211: FutureWarning: The default value of numeric_only in DataFrameGroupBy.sum is deprecated. In a future version, numeric_only will default to False. Either specify numeric_only or select only columns which should be valid for the function.\n",
      "  to_dole_out_totals = pd.DataFrame(df_allocating.groupby([col_allocating]).sum())\n",
      "/Users/peterhorton/Documents/RDH/Support/Processing-Requests/Tangipahoa_Elections_11_03_22/pber_functions_v1.py:291: FutureWarning: The default value of numeric_only in DataFrameGroupBy.sum is deprecated. In a future version, numeric_only will default to False. Either specify numeric_only or select only columns which should be valid for the function.\n",
      "  first_allocation = pd.DataFrame(df_receiving_votes.groupby([col_allocating]).sum())\n",
      "/Users/peterhorton/Documents/RDH/Support/Processing-Requests/Tangipahoa_Elections_11_03_22/pber_functions_v1.py:313: FutureWarning: In a future version, `df.iloc[:, i] = newvals` will attempt to set the values inplace instead of always setting a new array. To retain the old behavior, use either `df[df.columns[i]] = newvals` or, if columns are non-unique, `df.isetitem(i, newvals)`\n",
      "  df_receiving_votes.loc[:,race]+=df_receiving_votes.loc[:,add_var]\n",
      "/Users/peterhorton/Documents/RDH/Support/Processing-Requests/Tangipahoa_Elections_11_03_22/pber_functions_v1.py:314: FutureWarning: In a future version, `df.iloc[:, i] = newvals` will attempt to set the values inplace instead of always setting a new array. To retain the old behavior, use either `df[df.columns[i]] = newvals` or, if columns are non-unique, `df.isetitem(i, newvals)`\n",
      "  df_receiving_votes.loc[:,race] = df_receiving_votes.loc[:,race].astype(int)\n"
     ]
    }
   ],
   "source": [
    "gen_20_pivot[\"State\"] = \"LA\"\n",
    "\n",
    "alloc_df = gen_20_pivot[gen_20_pivot[\"precinct\"].isin([\"Early Voting\",\"Provisional Votes\"])]\n",
    "recev_df = gen_20_pivot[~gen_20_pivot[\"precinct\"].isin([\"Early Voting\",\"Provisional Votes\"])]\n",
    "\n",
    "gen_20_pivot_aloc = pber.allocate_absentee(recev_df, alloc_df, ['Joseph R. Biden, Kamala Harris Democratic',\n",
    "       'Jo Jorgensen, Jeremy Cohen Libertarian',\n",
    "       'Donald J. Trump, Michael Pence Republican',\n",
    "       'Brian Carroll, Amar Patel American Solidarity Party',\n",
    "       'Jade Simmons, Claudeliah Roze Becoming One Nation',\n",
    "       'President Boddie,Eric Stoneham C.U.P.',\n",
    "       'Don Blankenship, William Mohr Constitution Party',\n",
    "       'Brock Pierce, Karla Ballard Freedom and Prosperity',\n",
    "       'Tom Hoefling, Andy Prior Life, Liberty, Constitution',\n",
    "       'Gloria La Riva, Sunil Freeman Socialism and Liberation',\n",
    "       'Alyson Kennedy,Malcolm Jarrett Socialist Workers Party',\n",
    "       'Kanye West, Michelle Tidball The Birthday Party',\n",
    "       'Bill Hammons, Eric Bodenstab Unity Party America'], \"State\", allocating_to_all_empty_precs=False)"
   ]
  },
  {
   "cell_type": "code",
   "execution_count": 40,
   "id": "0d63027a",
   "metadata": {},
   "outputs": [],
   "source": [
    "la_20[\"precinct\"] = \"00 \" + la_20[\"NAME\"].str.zfill(3)"
   ]
  },
  {
   "cell_type": "code",
   "execution_count": 41,
   "id": "f1f8506c",
   "metadata": {},
   "outputs": [
    {
     "data": {
      "text/html": [
       "<div>\n",
       "<style scoped>\n",
       "    .dataframe tbody tr th:only-of-type {\n",
       "        vertical-align: middle;\n",
       "    }\n",
       "\n",
       "    .dataframe tbody tr th {\n",
       "        vertical-align: top;\n",
       "    }\n",
       "\n",
       "    .dataframe thead th {\n",
       "        text-align: right;\n",
       "    }\n",
       "</style>\n",
       "<table border=\"1\" class=\"dataframe\">\n",
       "  <thead>\n",
       "    <tr style=\"text-align: right;\">\n",
       "      <th></th>\n",
       "      <th>STATEFP</th>\n",
       "      <th>COUNTYFP</th>\n",
       "      <th>VTDST</th>\n",
       "      <th>NAME</th>\n",
       "      <th>G20PRERTRU</th>\n",
       "      <th>G20PREDBID</th>\n",
       "      <th>G20PRELJOR</th>\n",
       "      <th>G20PREOWES</th>\n",
       "      <th>G20PREOOTH</th>\n",
       "      <th>G20USSRCAS</th>\n",
       "      <th>...</th>\n",
       "      <th>G20USSLSIG</th>\n",
       "      <th>G20USSIMEN</th>\n",
       "      <th>G20USSOPRI</th>\n",
       "      <th>G20USSOJOH</th>\n",
       "      <th>G20USSNBIL</th>\n",
       "      <th>G20USSNBOU</th>\n",
       "      <th>G20USSNMON</th>\n",
       "      <th>G20USSNDAR</th>\n",
       "      <th>geometry</th>\n",
       "      <th>precinct</th>\n",
       "    </tr>\n",
       "  </thead>\n",
       "  <tbody>\n",
       "    <tr>\n",
       "      <th>3204</th>\n",
       "      <td>22</td>\n",
       "      <td>105</td>\n",
       "      <td>000001</td>\n",
       "      <td>1</td>\n",
       "      <td>127</td>\n",
       "      <td>312</td>\n",
       "      <td>3</td>\n",
       "      <td>4</td>\n",
       "      <td>10</td>\n",
       "      <td>119</td>\n",
       "      <td>...</td>\n",
       "      <td>0</td>\n",
       "      <td>2</td>\n",
       "      <td>2</td>\n",
       "      <td>0</td>\n",
       "      <td>19</td>\n",
       "      <td>5</td>\n",
       "      <td>0</td>\n",
       "      <td>0</td>\n",
       "      <td>POLYGON Z ((-90.52424 30.94199 0.00000, -90.52...</td>\n",
       "      <td>00 001</td>\n",
       "    </tr>\n",
       "    <tr>\n",
       "      <th>3205</th>\n",
       "      <td>22</td>\n",
       "      <td>105</td>\n",
       "      <td>000002</td>\n",
       "      <td>2</td>\n",
       "      <td>181</td>\n",
       "      <td>803</td>\n",
       "      <td>5</td>\n",
       "      <td>4</td>\n",
       "      <td>7</td>\n",
       "      <td>178</td>\n",
       "      <td>...</td>\n",
       "      <td>6</td>\n",
       "      <td>2</td>\n",
       "      <td>3</td>\n",
       "      <td>0</td>\n",
       "      <td>45</td>\n",
       "      <td>10</td>\n",
       "      <td>4</td>\n",
       "      <td>5</td>\n",
       "      <td>POLYGON Z ((-90.56687 30.88061 0.00000, -90.56...</td>\n",
       "      <td>00 002</td>\n",
       "    </tr>\n",
       "    <tr>\n",
       "      <th>3206</th>\n",
       "      <td>22</td>\n",
       "      <td>105</td>\n",
       "      <td>000006</td>\n",
       "      <td>6</td>\n",
       "      <td>22</td>\n",
       "      <td>387</td>\n",
       "      <td>3</td>\n",
       "      <td>3</td>\n",
       "      <td>9</td>\n",
       "      <td>34</td>\n",
       "      <td>...</td>\n",
       "      <td>2</td>\n",
       "      <td>2</td>\n",
       "      <td>2</td>\n",
       "      <td>0</td>\n",
       "      <td>8</td>\n",
       "      <td>10</td>\n",
       "      <td>2</td>\n",
       "      <td>5</td>\n",
       "      <td>POLYGON Z ((-90.52437 30.87459 0.00000, -90.52...</td>\n",
       "      <td>00 006</td>\n",
       "    </tr>\n",
       "    <tr>\n",
       "      <th>3207</th>\n",
       "      <td>22</td>\n",
       "      <td>105</td>\n",
       "      <td>000011</td>\n",
       "      <td>11</td>\n",
       "      <td>176</td>\n",
       "      <td>373</td>\n",
       "      <td>3</td>\n",
       "      <td>1</td>\n",
       "      <td>4</td>\n",
       "      <td>162</td>\n",
       "      <td>...</td>\n",
       "      <td>2</td>\n",
       "      <td>2</td>\n",
       "      <td>3</td>\n",
       "      <td>2</td>\n",
       "      <td>12</td>\n",
       "      <td>10</td>\n",
       "      <td>6</td>\n",
       "      <td>1</td>\n",
       "      <td>POLYGON Z ((-90.52668 30.77377 0.00000, -90.52...</td>\n",
       "      <td>00 011</td>\n",
       "    </tr>\n",
       "    <tr>\n",
       "      <th>3208</th>\n",
       "      <td>22</td>\n",
       "      <td>105</td>\n",
       "      <td>000026</td>\n",
       "      <td>26</td>\n",
       "      <td>122</td>\n",
       "      <td>291</td>\n",
       "      <td>1</td>\n",
       "      <td>1</td>\n",
       "      <td>3</td>\n",
       "      <td>114</td>\n",
       "      <td>...</td>\n",
       "      <td>0</td>\n",
       "      <td>2</td>\n",
       "      <td>6</td>\n",
       "      <td>2</td>\n",
       "      <td>11</td>\n",
       "      <td>5</td>\n",
       "      <td>0</td>\n",
       "      <td>3</td>\n",
       "      <td>POLYGON Z ((-90.52574 30.64118 0.00000, -90.52...</td>\n",
       "      <td>00 026</td>\n",
       "    </tr>\n",
       "    <tr>\n",
       "      <th>...</th>\n",
       "      <td>...</td>\n",
       "      <td>...</td>\n",
       "      <td>...</td>\n",
       "      <td>...</td>\n",
       "      <td>...</td>\n",
       "      <td>...</td>\n",
       "      <td>...</td>\n",
       "      <td>...</td>\n",
       "      <td>...</td>\n",
       "      <td>...</td>\n",
       "      <td>...</td>\n",
       "      <td>...</td>\n",
       "      <td>...</td>\n",
       "      <td>...</td>\n",
       "      <td>...</td>\n",
       "      <td>...</td>\n",
       "      <td>...</td>\n",
       "      <td>...</td>\n",
       "      <td>...</td>\n",
       "      <td>...</td>\n",
       "      <td>...</td>\n",
       "    </tr>\n",
       "    <tr>\n",
       "      <th>3287</th>\n",
       "      <td>22</td>\n",
       "      <td>105</td>\n",
       "      <td>00028A</td>\n",
       "      <td>28A</td>\n",
       "      <td>78</td>\n",
       "      <td>53</td>\n",
       "      <td>0</td>\n",
       "      <td>0</td>\n",
       "      <td>0</td>\n",
       "      <td>75</td>\n",
       "      <td>...</td>\n",
       "      <td>0</td>\n",
       "      <td>0</td>\n",
       "      <td>1</td>\n",
       "      <td>0</td>\n",
       "      <td>0</td>\n",
       "      <td>0</td>\n",
       "      <td>0</td>\n",
       "      <td>0</td>\n",
       "      <td>POLYGON Z ((-90.50521 30.65009 0.00000, -90.50...</td>\n",
       "      <td>00 28A</td>\n",
       "    </tr>\n",
       "    <tr>\n",
       "      <th>3288</th>\n",
       "      <td>22</td>\n",
       "      <td>105</td>\n",
       "      <td>00121B</td>\n",
       "      <td>121B</td>\n",
       "      <td>55</td>\n",
       "      <td>21</td>\n",
       "      <td>0</td>\n",
       "      <td>0</td>\n",
       "      <td>0</td>\n",
       "      <td>56</td>\n",
       "      <td>...</td>\n",
       "      <td>0</td>\n",
       "      <td>0</td>\n",
       "      <td>0</td>\n",
       "      <td>0</td>\n",
       "      <td>0</td>\n",
       "      <td>0</td>\n",
       "      <td>0</td>\n",
       "      <td>0</td>\n",
       "      <td>POLYGON Z ((-90.48274 30.54687 0.00000, -90.48...</td>\n",
       "      <td>00 121B</td>\n",
       "    </tr>\n",
       "    <tr>\n",
       "      <th>3289</th>\n",
       "      <td>22</td>\n",
       "      <td>105</td>\n",
       "      <td>00122B</td>\n",
       "      <td>122B</td>\n",
       "      <td>1092</td>\n",
       "      <td>160</td>\n",
       "      <td>11</td>\n",
       "      <td>1</td>\n",
       "      <td>1</td>\n",
       "      <td>1062</td>\n",
       "      <td>...</td>\n",
       "      <td>9</td>\n",
       "      <td>1</td>\n",
       "      <td>1</td>\n",
       "      <td>3</td>\n",
       "      <td>7</td>\n",
       "      <td>5</td>\n",
       "      <td>3</td>\n",
       "      <td>1</td>\n",
       "      <td>POLYGON Z ((-90.27799 30.50538 0.00000, -90.27...</td>\n",
       "      <td>00 122B</td>\n",
       "    </tr>\n",
       "    <tr>\n",
       "      <th>3290</th>\n",
       "      <td>22</td>\n",
       "      <td>105</td>\n",
       "      <td>00124A</td>\n",
       "      <td>124A</td>\n",
       "      <td>546</td>\n",
       "      <td>71</td>\n",
       "      <td>7</td>\n",
       "      <td>0</td>\n",
       "      <td>1</td>\n",
       "      <td>547</td>\n",
       "      <td>...</td>\n",
       "      <td>4</td>\n",
       "      <td>0</td>\n",
       "      <td>3</td>\n",
       "      <td>0</td>\n",
       "      <td>3</td>\n",
       "      <td>1</td>\n",
       "      <td>3</td>\n",
       "      <td>0</td>\n",
       "      <td>POLYGON Z ((-90.32411 30.40374 0.00000, -90.32...</td>\n",
       "      <td>00 124A</td>\n",
       "    </tr>\n",
       "    <tr>\n",
       "      <th>3291</th>\n",
       "      <td>22</td>\n",
       "      <td>105</td>\n",
       "      <td>ZZZZZZ</td>\n",
       "      <td>Voting Districts Not Defined</td>\n",
       "      <td>0</td>\n",
       "      <td>0</td>\n",
       "      <td>0</td>\n",
       "      <td>0</td>\n",
       "      <td>0</td>\n",
       "      <td>0</td>\n",
       "      <td>...</td>\n",
       "      <td>0</td>\n",
       "      <td>0</td>\n",
       "      <td>0</td>\n",
       "      <td>0</td>\n",
       "      <td>0</td>\n",
       "      <td>0</td>\n",
       "      <td>0</td>\n",
       "      <td>0</td>\n",
       "      <td>POLYGON Z ((-90.30410 30.29487 0.00000, -90.30...</td>\n",
       "      <td>00 Voting Districts Not Defined</td>\n",
       "    </tr>\n",
       "  </tbody>\n",
       "</table>\n",
       "<p>88 rows × 26 columns</p>\n",
       "</div>"
      ],
      "text/plain": [
       "     STATEFP COUNTYFP   VTDST                          NAME  G20PRERTRU  \\\n",
       "3204      22      105  000001                             1         127   \n",
       "3205      22      105  000002                             2         181   \n",
       "3206      22      105  000006                             6          22   \n",
       "3207      22      105  000011                            11         176   \n",
       "3208      22      105  000026                            26         122   \n",
       "...      ...      ...     ...                           ...         ...   \n",
       "3287      22      105  00028A                           28A          78   \n",
       "3288      22      105  00121B                          121B          55   \n",
       "3289      22      105  00122B                          122B        1092   \n",
       "3290      22      105  00124A                          124A         546   \n",
       "3291      22      105  ZZZZZZ  Voting Districts Not Defined           0   \n",
       "\n",
       "      G20PREDBID  G20PRELJOR  G20PREOWES  G20PREOOTH  G20USSRCAS  ...  \\\n",
       "3204         312           3           4          10         119  ...   \n",
       "3205         803           5           4           7         178  ...   \n",
       "3206         387           3           3           9          34  ...   \n",
       "3207         373           3           1           4         162  ...   \n",
       "3208         291           1           1           3         114  ...   \n",
       "...          ...         ...         ...         ...         ...  ...   \n",
       "3287          53           0           0           0          75  ...   \n",
       "3288          21           0           0           0          56  ...   \n",
       "3289         160          11           1           1        1062  ...   \n",
       "3290          71           7           0           1         547  ...   \n",
       "3291           0           0           0           0           0  ...   \n",
       "\n",
       "      G20USSLSIG  G20USSIMEN  G20USSOPRI  G20USSOJOH  G20USSNBIL  G20USSNBOU  \\\n",
       "3204           0           2           2           0          19           5   \n",
       "3205           6           2           3           0          45          10   \n",
       "3206           2           2           2           0           8          10   \n",
       "3207           2           2           3           2          12          10   \n",
       "3208           0           2           6           2          11           5   \n",
       "...          ...         ...         ...         ...         ...         ...   \n",
       "3287           0           0           1           0           0           0   \n",
       "3288           0           0           0           0           0           0   \n",
       "3289           9           1           1           3           7           5   \n",
       "3290           4           0           3           0           3           1   \n",
       "3291           0           0           0           0           0           0   \n",
       "\n",
       "      G20USSNMON  G20USSNDAR  \\\n",
       "3204           0           0   \n",
       "3205           4           5   \n",
       "3206           2           5   \n",
       "3207           6           1   \n",
       "3208           0           3   \n",
       "...          ...         ...   \n",
       "3287           0           0   \n",
       "3288           0           0   \n",
       "3289           3           1   \n",
       "3290           3           0   \n",
       "3291           0           0   \n",
       "\n",
       "                                               geometry  \\\n",
       "3204  POLYGON Z ((-90.52424 30.94199 0.00000, -90.52...   \n",
       "3205  POLYGON Z ((-90.56687 30.88061 0.00000, -90.56...   \n",
       "3206  POLYGON Z ((-90.52437 30.87459 0.00000, -90.52...   \n",
       "3207  POLYGON Z ((-90.52668 30.77377 0.00000, -90.52...   \n",
       "3208  POLYGON Z ((-90.52574 30.64118 0.00000, -90.52...   \n",
       "...                                                 ...   \n",
       "3287  POLYGON Z ((-90.50521 30.65009 0.00000, -90.50...   \n",
       "3288  POLYGON Z ((-90.48274 30.54687 0.00000, -90.48...   \n",
       "3289  POLYGON Z ((-90.27799 30.50538 0.00000, -90.27...   \n",
       "3290  POLYGON Z ((-90.32411 30.40374 0.00000, -90.32...   \n",
       "3291  POLYGON Z ((-90.30410 30.29487 0.00000, -90.30...   \n",
       "\n",
       "                             precinct  \n",
       "3204                           00 001  \n",
       "3205                           00 002  \n",
       "3206                           00 006  \n",
       "3207                           00 011  \n",
       "3208                           00 026  \n",
       "...                               ...  \n",
       "3287                           00 28A  \n",
       "3288                          00 121B  \n",
       "3289                          00 122B  \n",
       "3290                          00 124A  \n",
       "3291  00 Voting Districts Not Defined  \n",
       "\n",
       "[88 rows x 26 columns]"
      ]
     },
     "execution_count": 41,
     "metadata": {},
     "output_type": "execute_result"
    }
   ],
   "source": [
    "la_20"
   ]
  },
  {
   "cell_type": "code",
   "execution_count": 42,
   "id": "81d56d77",
   "metadata": {},
   "outputs": [
    {
     "data": {
      "text/plain": [
       "3204                             00 001\n",
       "3205                             00 002\n",
       "3206                             00 006\n",
       "3207                             00 011\n",
       "3208                             00 026\n",
       "                     ...               \n",
       "3287                             00 28A\n",
       "3288                            00 121B\n",
       "3289                            00 122B\n",
       "3290                            00 124A\n",
       "3291    00 Voting Districts Not Defined\n",
       "Name: precinct, Length: 88, dtype: object"
      ]
     },
     "execution_count": 42,
     "metadata": {},
     "output_type": "execute_result"
    }
   ],
   "source": [
    "la_20[\"precinct\"]"
   ]
  },
  {
   "cell_type": "code",
   "execution_count": 43,
   "id": "6724e259",
   "metadata": {},
   "outputs": [
    {
     "data": {
      "text/plain": [
       "{'00 028A', '00 040A', '00 042A', '00 045A', '00 070A', '00 072A'}"
      ]
     },
     "execution_count": 43,
     "metadata": {},
     "output_type": "execute_result"
    }
   ],
   "source": [
    "set(gen_20_pivot_aloc[\"precinct\"]) - set(la_20[\"precinct\"])"
   ]
  },
  {
   "cell_type": "code",
   "execution_count": 44,
   "id": "684c441e",
   "metadata": {},
   "outputs": [
    {
     "data": {
      "text/plain": [
       "{'00 28A',\n",
       " '00 40A',\n",
       " '00 42A',\n",
       " '00 45A',\n",
       " '00 70A',\n",
       " '00 72A',\n",
       " '00 Voting Districts Not Defined'}"
      ]
     },
     "execution_count": 44,
     "metadata": {},
     "output_type": "execute_result"
    }
   ],
   "source": [
    "set(la_20[\"precinct\"]) - set(gen_20_pivot_aloc[\"precinct\"]) "
   ]
  },
  {
   "cell_type": "code",
   "execution_count": 45,
   "id": "cf1d3da5",
   "metadata": {},
   "outputs": [],
   "source": [
    "updates_dict = {'00 028A':'00 28A',\n",
    " '00 040A':'00 40A',\n",
    " '00 042A':'00 42A',\n",
    " '00 045A':'00 45A',\n",
    " '00 070A':'00 70A',\n",
    " '00 072A':'00 72A'}"
   ]
  },
  {
   "cell_type": "code",
   "execution_count": 46,
   "id": "b341f033",
   "metadata": {},
   "outputs": [
    {
     "name": "stderr",
     "output_type": "stream",
     "text": [
      "/var/folders/1t/0q4w6hm92mg_zxd84dfxmq3m0000gn/T/ipykernel_20137/2647471180.py:1: SettingWithCopyWarning: \n",
      "A value is trying to be set on a copy of a slice from a DataFrame.\n",
      "Try using .loc[row_indexer,col_indexer] = value instead\n",
      "\n",
      "See the caveats in the documentation: https://pandas.pydata.org/pandas-docs/stable/user_guide/indexing.html#returning-a-view-versus-a-copy\n",
      "  gen_20_pivot_aloc[\"precinct\"] = gen_20_pivot_aloc[\"precinct\"].map(updates_dict).fillna(gen_20_pivot_aloc[\"precinct\"])\n"
     ]
    }
   ],
   "source": [
    "gen_20_pivot_aloc[\"precinct\"] = gen_20_pivot_aloc[\"precinct\"].map(updates_dict).fillna(gen_20_pivot_aloc[\"precinct\"])"
   ]
  },
  {
   "cell_type": "code",
   "execution_count": 47,
   "id": "f2518269",
   "metadata": {},
   "outputs": [],
   "source": [
    "joined_20 = gp.GeoDataFrame(pd.merge(gen_20_pivot_aloc, la_20, how = \"outer\", on = \"precinct\", indicator = True))"
   ]
  },
  {
   "cell_type": "code",
   "execution_count": 48,
   "id": "d87c2ec8",
   "metadata": {},
   "outputs": [],
   "source": [
    "joined_20 = joined_20.fillna(0)"
   ]
  },
  {
   "cell_type": "code",
   "execution_count": 49,
   "id": "2475fc3f",
   "metadata": {},
   "outputs": [
    {
     "data": {
      "text/plain": [
       "Index(['precinct', 'Joseph R. Biden, Kamala Harris Democratic',\n",
       "       'Jo Jorgensen, Jeremy Cohen Libertarian',\n",
       "       'Donald J. Trump, Michael Pence Republican',\n",
       "       'Brian Carroll, Amar Patel American Solidarity Party',\n",
       "       'Jade Simmons, Claudeliah Roze Becoming One Nation',\n",
       "       'President Boddie,Eric Stoneham C.U.P.',\n",
       "       'Don Blankenship, William Mohr Constitution Party',\n",
       "       'Brock Pierce, Karla Ballard Freedom and Prosperity',\n",
       "       'Tom Hoefling, Andy Prior Life, Liberty, Constitution',\n",
       "       'Gloria La Riva, Sunil Freeman Socialism and Liberation',\n",
       "       'Alyson Kennedy,Malcolm Jarrett Socialist Workers Party',\n",
       "       'Kanye West, Michelle Tidball The Birthday Party',\n",
       "       'Bill Hammons, Eric Bodenstab Unity Party America', 'State', 'STATEFP',\n",
       "       'COUNTYFP', 'VTDST', 'NAME', 'G20PRERTRU', 'G20PREDBID', 'G20PRELJOR',\n",
       "       'G20PREOWES', 'G20PREOOTH', 'G20USSRCAS', 'G20USSRMUR', 'G20USSDPER',\n",
       "       'G20USSDEDW', 'G20USSDPIE', 'G20USSDKNI', 'G20USSDWEN', 'G20USSLSIG',\n",
       "       'G20USSIMEN', 'G20USSOPRI', 'G20USSOJOH', 'G20USSNBIL', 'G20USSNBOU',\n",
       "       'G20USSNMON', 'G20USSNDAR', 'geometry', '_merge'],\n",
       "      dtype='object')"
      ]
     },
     "execution_count": 49,
     "metadata": {},
     "output_type": "execute_result"
    }
   ],
   "source": [
    "joined_20.columns"
   ]
  },
  {
   "cell_type": "code",
   "execution_count": 50,
   "id": "02fe2487",
   "metadata": {},
   "outputs": [
    {
     "data": {
      "text/html": [
       "<div>\n",
       "<style scoped>\n",
       "    .dataframe tbody tr th:only-of-type {\n",
       "        vertical-align: middle;\n",
       "    }\n",
       "\n",
       "    .dataframe tbody tr th {\n",
       "        vertical-align: top;\n",
       "    }\n",
       "\n",
       "    .dataframe thead th {\n",
       "        text-align: right;\n",
       "    }\n",
       "</style>\n",
       "<table border=\"1\" class=\"dataframe\">\n",
       "  <thead>\n",
       "    <tr style=\"text-align: right;\">\n",
       "      <th></th>\n",
       "      <th>Donald J. Trump, Michael Pence Republican</th>\n",
       "      <th>G20PRERTRU</th>\n",
       "    </tr>\n",
       "  </thead>\n",
       "  <tbody>\n",
       "    <tr>\n",
       "      <th>0</th>\n",
       "      <td>127.0</td>\n",
       "      <td>127</td>\n",
       "    </tr>\n",
       "    <tr>\n",
       "      <th>1</th>\n",
       "      <td>181.0</td>\n",
       "      <td>181</td>\n",
       "    </tr>\n",
       "    <tr>\n",
       "      <th>2</th>\n",
       "      <td>22.0</td>\n",
       "      <td>22</td>\n",
       "    </tr>\n",
       "    <tr>\n",
       "      <th>3</th>\n",
       "      <td>176.0</td>\n",
       "      <td>176</td>\n",
       "    </tr>\n",
       "    <tr>\n",
       "      <th>4</th>\n",
       "      <td>146.0</td>\n",
       "      <td>146</td>\n",
       "    </tr>\n",
       "    <tr>\n",
       "      <th>...</th>\n",
       "      <td>...</td>\n",
       "      <td>...</td>\n",
       "    </tr>\n",
       "    <tr>\n",
       "      <th>83</th>\n",
       "      <td>665.0</td>\n",
       "      <td>665</td>\n",
       "    </tr>\n",
       "    <tr>\n",
       "      <th>84</th>\n",
       "      <td>1185.0</td>\n",
       "      <td>1185</td>\n",
       "    </tr>\n",
       "    <tr>\n",
       "      <th>85</th>\n",
       "      <td>260.0</td>\n",
       "      <td>260</td>\n",
       "    </tr>\n",
       "    <tr>\n",
       "      <th>86</th>\n",
       "      <td>1201.0</td>\n",
       "      <td>1201</td>\n",
       "    </tr>\n",
       "    <tr>\n",
       "      <th>87</th>\n",
       "      <td>0.0</td>\n",
       "      <td>0</td>\n",
       "    </tr>\n",
       "  </tbody>\n",
       "</table>\n",
       "<p>88 rows × 2 columns</p>\n",
       "</div>"
      ],
      "text/plain": [
       "    Donald J. Trump, Michael Pence Republican  G20PRERTRU\n",
       "0                                       127.0         127\n",
       "1                                       181.0         181\n",
       "2                                        22.0          22\n",
       "3                                       176.0         176\n",
       "4                                       146.0         146\n",
       "..                                        ...         ...\n",
       "83                                      665.0         665\n",
       "84                                     1185.0        1185\n",
       "85                                      260.0         260\n",
       "86                                     1201.0        1201\n",
       "87                                        0.0           0\n",
       "\n",
       "[88 rows x 2 columns]"
      ]
     },
     "execution_count": 50,
     "metadata": {},
     "output_type": "execute_result"
    }
   ],
   "source": [
    "joined_20[['Donald J. Trump, Michael Pence Republican', 'G20PRERTRU']]"
   ]
  },
  {
   "cell_type": "markdown",
   "id": "57e02b4e",
   "metadata": {},
   "source": [
    "## 2023"
   ]
  },
  {
   "cell_type": "code",
   "execution_count": 51,
   "id": "5048c1d8",
   "metadata": {},
   "outputs": [],
   "source": [
    "gov_23[\"match\"] = \"00 \" + gov_23[\"Precinct\"].str.zfill(3)"
   ]
  },
  {
   "cell_type": "code",
   "execution_count": 52,
   "id": "87a45607",
   "metadata": {},
   "outputs": [
    {
     "data": {
      "text/plain": [
       "0      00 002\n",
       "1      00 006\n",
       "2      00 011\n",
       "3      00 015\n",
       "4      00 016\n",
       "       ...   \n",
       "70     00 147\n",
       "71     00 149\n",
       "72    00 149A\n",
       "73     00 151\n",
       "74        NaN\n",
       "Name: match, Length: 75, dtype: object"
      ]
     },
     "execution_count": 52,
     "metadata": {},
     "output_type": "execute_result"
    }
   ],
   "source": [
    "gov_23[\"match\"]"
   ]
  },
  {
   "cell_type": "code",
   "execution_count": 53,
   "id": "ff104998",
   "metadata": {},
   "outputs": [
    {
     "data": {
      "text/plain": [
       "3227     00 001\n",
       "3228     00 002\n",
       "3229     00 006\n",
       "3230     00 011\n",
       "3231     00 015\n",
       "         ...   \n",
       "3793     00 125\n",
       "3794    00 129A\n",
       "3795     00 139\n",
       "3796     00 141\n",
       "3797     00 149\n",
       "Name: Precinct, Length: 99, dtype: object"
      ]
     },
     "execution_count": 53,
     "metadata": {},
     "output_type": "execute_result"
    }
   ],
   "source": [
    "la_22[\"Precinct\"]"
   ]
  },
  {
   "cell_type": "code",
   "execution_count": 54,
   "id": "488b1989",
   "metadata": {},
   "outputs": [
    {
     "data": {
      "text/plain": [
       "{'0',\n",
       " '00 001',\n",
       " '00 018',\n",
       " '00 026',\n",
       " '00 027',\n",
       " '00 040',\n",
       " '00 042A',\n",
       " '00 045',\n",
       " '00 048',\n",
       " '00 104A',\n",
       " '00 122',\n",
       " '00 124A',\n",
       " '00 127A',\n",
       " '00 129'}"
      ]
     },
     "execution_count": 54,
     "metadata": {},
     "output_type": "execute_result"
    }
   ],
   "source": [
    "set(la_22[\"Precinct\"]) - set(gov_23[\"match\"])"
   ]
  },
  {
   "cell_type": "code",
   "execution_count": null,
   "id": "aebdffbf",
   "metadata": {},
   "outputs": [],
   "source": []
  },
  {
   "cell_type": "code",
   "execution_count": 55,
   "id": "de583ee4",
   "metadata": {},
   "outputs": [
    {
     "data": {
      "text/plain": [
       "array(['00 001', '00 002', '00 006', '00 011', '00 015', '00 016',\n",
       "       '00 017', '00 018', '00 026', '00 027', '00 028', '00 033',\n",
       "       '00 040', '00 040A', '00 041', '00 042', '00 042A', '00 043',\n",
       "       '00 044', '00 045', '00 045A', '00 046', '00 047', '00 048',\n",
       "       '00 049', '00 070', '00 070A', '00 071', '00 072', '00 072A',\n",
       "       '00 073', '00 074', '00 101', '00 102', '00 104', '00 104A',\n",
       "       '00 105', '00 106', '00 106A', '00 107', '00 108', '00 109',\n",
       "       '00 110', '00 111A', '00 112', '00 114', '00 115B', '00 116',\n",
       "       '00 117', '00 118', '00 119', '00 120', '00 120A', '00 120B',\n",
       "       '00 121', '00 121A', '00 122', '00 122A', '00 122B', '00 123',\n",
       "       '00 124', '00 124A', '00 125', '00 127', '00 127A', '00 129',\n",
       "       '00 129A', '00 133', '00 133A', '00 137', '00 137A', '00 137B',\n",
       "       '00 137C', '00 137D', '00 139', '00 141', '00 141A', '00 143',\n",
       "       '00 143A', '00 145', '00 147', '00 149', '00 149A', '00 151', '0'],\n",
       "      dtype=object)"
      ]
     },
     "execution_count": 55,
     "metadata": {},
     "output_type": "execute_result"
    }
   ],
   "source": [
    "la_22[\"Precinct\"].unique()"
   ]
  },
  {
   "cell_type": "code",
   "execution_count": 56,
   "id": "6a3eb27b",
   "metadata": {},
   "outputs": [],
   "source": [
    "edited_la = gp.read_file(\"./raw-from-source/boundaries/edited_la/edited_la.shp\")\n",
    "tangipahoa = edited_la[edited_la[\"Parish\"]==\"Tangipahoa\"]"
   ]
  },
  {
   "cell_type": "code",
   "execution_count": 57,
   "id": "20570e0b",
   "metadata": {},
   "outputs": [
    {
     "data": {
      "text/plain": [
       "array(['Tangipahoa-:-00 001', 'Tangipahoa-:-00 002',\n",
       "       'Tangipahoa-:-00 006', 'Tangipahoa-:-00 011',\n",
       "       'Tangipahoa-:-00 015', 'Tangipahoa-:-00 016',\n",
       "       'Tangipahoa-:-00 017', 'Tangipahoa-:-00 018',\n",
       "       'Tangipahoa-:-00 026', 'Tangipahoa-:-00 027',\n",
       "       'Tangipahoa-:-00 028A', 'Tangipahoa-:-00 033',\n",
       "       'Tangipahoa-:-00 040', 'Tangipahoa-:-00 040A',\n",
       "       'Tangipahoa-:-00 041', 'Tangipahoa-:-00 042',\n",
       "       'Tangipahoa-:-00 042A', 'Tangipahoa-:-00 043',\n",
       "       'Tangipahoa-:-00 044', 'Tangipahoa-:-00 045',\n",
       "       'Tangipahoa-:-00 045A', 'Tangipahoa-:-00 046',\n",
       "       'Tangipahoa-:-00 047', 'Tangipahoa-:-00 048',\n",
       "       'Tangipahoa-:-00 049', 'Tangipahoa-:-00 070',\n",
       "       'Tangipahoa-:-00 070A', 'Tangipahoa-:-00 071',\n",
       "       'Tangipahoa-:-00 072', 'Tangipahoa-:-00 072A',\n",
       "       'Tangipahoa-:-00 073', 'Tangipahoa-:-00 074',\n",
       "       'Tangipahoa-:-00 101', 'Tangipahoa-:-00 102',\n",
       "       'Tangipahoa-:-00 104', 'Tangipahoa-:-00 104A',\n",
       "       'Tangipahoa-:-00 105', 'Tangipahoa-:-00 106',\n",
       "       'Tangipahoa-:-00 106A', 'Tangipahoa-:-00 107',\n",
       "       'Tangipahoa-:-00 108', 'Tangipahoa-:-00 109',\n",
       "       'Tangipahoa-:-00 110', 'Tangipahoa-:-00 111A',\n",
       "       'Tangipahoa-:-00 112', 'Tangipahoa-:-00 114',\n",
       "       'Tangipahoa-:-00 115B', 'Tangipahoa-:-00 116',\n",
       "       'Tangipahoa-:-00 117', 'Tangipahoa-:-00 118A',\n",
       "       'Tangipahoa-:-00 119', 'Tangipahoa-:-00 120',\n",
       "       'Tangipahoa-:-00 120A', 'Tangipahoa-:-00 120B',\n",
       "       'Tangipahoa-:-00 121', 'Tangipahoa-:-00 121A',\n",
       "       'Tangipahoa-:-00 122', 'Tangipahoa-:-00 122A',\n",
       "       'Tangipahoa-:-00 122B', 'Tangipahoa-:-00 123',\n",
       "       'Tangipahoa-:-00 124', 'Tangipahoa-:-00 124A',\n",
       "       'Tangipahoa-:-00 125A', 'Tangipahoa-:-00 127',\n",
       "       'Tangipahoa-:-00 127A', 'Tangipahoa-:-00 129',\n",
       "       'Tangipahoa-:-00 129A', 'Tangipahoa-:-00 133',\n",
       "       'Tangipahoa-:-00 133A', 'Tangipahoa-:-00 137',\n",
       "       'Tangipahoa-:-00 137A', 'Tangipahoa-:-00 137B',\n",
       "       'Tangipahoa-:-00 137C', 'Tangipahoa-:-00 137D',\n",
       "       'Tangipahoa-:-00 139A', 'Tangipahoa-:-00 141B',\n",
       "       'Tangipahoa-:-00 141A', 'Tangipahoa-:-00 143',\n",
       "       'Tangipahoa-:-00 143A', 'Tangipahoa-:-00 145',\n",
       "       'Tangipahoa-:-00 147', 'Tangipahoa-:-00 149B',\n",
       "       'Tangipahoa-:-00 149A', 'Tangipahoa-:-00 151',\n",
       "       'Tangipahoa-:-ZZZZZZ', 'Tangipahoa-:-00 028',\n",
       "       'Tangipahoa-:-00 045B', 'Tangipahoa-:-00 048A',\n",
       "       'Tangipahoa-:-00 072B', 'Tangipahoa-:-00 114A',\n",
       "       'Tangipahoa-:-00 116A', 'Tangipahoa-:-00 118',\n",
       "       'Tangipahoa-:-00 122C', 'Tangipahoa-:-00 123A',\n",
       "       'Tangipahoa-:-00 125', 'Tangipahoa-:-00 129B',\n",
       "       'Tangipahoa-:-00 139', 'Tangipahoa-:-00 141',\n",
       "       'Tangipahoa-:-00 149'], dtype=object)"
      ]
     },
     "execution_count": 57,
     "metadata": {},
     "output_type": "execute_result"
    }
   ],
   "source": [
    "tangipahoa[\"UNIQUE_ID\"].unique()"
   ]
  },
  {
   "cell_type": "code",
   "execution_count": 58,
   "id": "24c0ecb9",
   "metadata": {},
   "outputs": [
    {
     "data": {
      "text/plain": [
       "array(['Tangipahoa-:-00 001', 'Tangipahoa-:-00 002',\n",
       "       'Tangipahoa-:-00 006', 'Tangipahoa-:-00 011',\n",
       "       'Tangipahoa-:-00 015', 'Tangipahoa-:-00 016',\n",
       "       'Tangipahoa-:-00 017', 'Tangipahoa-:-00 018',\n",
       "       'Tangipahoa-:-00 026', 'Tangipahoa-:-00 027',\n",
       "       'Tangipahoa-:-00 028', 'Tangipahoa-:-00 028A',\n",
       "       'Tangipahoa-:-00 033', 'Tangipahoa-:-00 040',\n",
       "       'Tangipahoa-:-00 040A', 'Tangipahoa-:-00 041',\n",
       "       'Tangipahoa-:-00 042', 'Tangipahoa-:-00 042A',\n",
       "       'Tangipahoa-:-00 043', 'Tangipahoa-:-00 044',\n",
       "       'Tangipahoa-:-00 045', 'Tangipahoa-:-00 045A',\n",
       "       'Tangipahoa-:-00 045B', 'Tangipahoa-:-00 046',\n",
       "       'Tangipahoa-:-00 047', 'Tangipahoa-:-00 048',\n",
       "       'Tangipahoa-:-00 048A', 'Tangipahoa-:-00 049',\n",
       "       'Tangipahoa-:-00 070', 'Tangipahoa-:-00 070A',\n",
       "       'Tangipahoa-:-00 071', 'Tangipahoa-:-00 072',\n",
       "       'Tangipahoa-:-00 072A', 'Tangipahoa-:-00 072B',\n",
       "       'Tangipahoa-:-00 073', 'Tangipahoa-:-00 074',\n",
       "       'Tangipahoa-:-00 101', 'Tangipahoa-:-00 102',\n",
       "       'Tangipahoa-:-00 104', 'Tangipahoa-:-00 104A',\n",
       "       'Tangipahoa-:-00 105', 'Tangipahoa-:-00 106',\n",
       "       'Tangipahoa-:-00 106A', 'Tangipahoa-:-00 107',\n",
       "       'Tangipahoa-:-00 108', 'Tangipahoa-:-00 109',\n",
       "       'Tangipahoa-:-00 110', 'Tangipahoa-:-00 111A',\n",
       "       'Tangipahoa-:-00 112', 'Tangipahoa-:-00 114',\n",
       "       'Tangipahoa-:-00 114A', 'Tangipahoa-:-00 115B',\n",
       "       'Tangipahoa-:-00 116', 'Tangipahoa-:-00 116A',\n",
       "       'Tangipahoa-:-00 117', 'Tangipahoa-:-00 118',\n",
       "       'Tangipahoa-:-00 118A', 'Tangipahoa-:-00 119',\n",
       "       'Tangipahoa-:-00 120', 'Tangipahoa-:-00 120A',\n",
       "       'Tangipahoa-:-00 120B', 'Tangipahoa-:-00 121',\n",
       "       'Tangipahoa-:-00 121A', 'Tangipahoa-:-00 122',\n",
       "       'Tangipahoa-:-00 122A', 'Tangipahoa-:-00 122B',\n",
       "       'Tangipahoa-:-00 122C', 'Tangipahoa-:-00 123',\n",
       "       'Tangipahoa-:-00 123A', 'Tangipahoa-:-00 124',\n",
       "       'Tangipahoa-:-00 124A', 'Tangipahoa-:-00 125',\n",
       "       'Tangipahoa-:-00 125A', 'Tangipahoa-:-00 127',\n",
       "       'Tangipahoa-:-00 127A', 'Tangipahoa-:-00 129',\n",
       "       'Tangipahoa-:-00 129A', 'Tangipahoa-:-00 129B',\n",
       "       'Tangipahoa-:-00 133', 'Tangipahoa-:-00 133A',\n",
       "       'Tangipahoa-:-00 137', 'Tangipahoa-:-00 137A',\n",
       "       'Tangipahoa-:-00 137B', 'Tangipahoa-:-00 137C',\n",
       "       'Tangipahoa-:-00 137D', 'Tangipahoa-:-00 139',\n",
       "       'Tangipahoa-:-00 139A', 'Tangipahoa-:-00 141',\n",
       "       'Tangipahoa-:-00 141A', 'Tangipahoa-:-00 141B',\n",
       "       'Tangipahoa-:-00 143', 'Tangipahoa-:-00 143A',\n",
       "       'Tangipahoa-:-00 145', 'Tangipahoa-:-00 147',\n",
       "       'Tangipahoa-:-00 149', 'Tangipahoa-:-00 149A',\n",
       "       'Tangipahoa-:-00 149B', 'Tangipahoa-:-00 151',\n",
       "       'Tangipahoa-:-ZZZZZZ'], dtype=object)"
      ]
     },
     "execution_count": 58,
     "metadata": {},
     "output_type": "execute_result"
    }
   ],
   "source": [
    "tangipahoa[\"UNIQUE_ID\"].sort_values().unique()"
   ]
  },
  {
   "cell_type": "code",
   "execution_count": 59,
   "id": "4bb5fa42",
   "metadata": {},
   "outputs": [],
   "source": [
    "prec_23_changes = {'Tangipahoa-:-00 001':'Tangipahoa-:-00 002',\n",
    "'Tangipahoa-:-00 018':'Tangipahoa-:-00 017',\n",
    "'Tangipahoa-:-00 028A':'Tangipahoa-:-00 028',\n",
    "'Tangipahoa-:-00 026':'Tangipahoa-:-00 111A',\n",
    "'Tangipahoa-:-00 040':'Tangipahoa-:-00 041',\n",
    "'Tangipahoa-:-00 129B':'Tangipahoa-:-00 043',\n",
    "'Tangipahoa-:-00 129':'Tangipahoa-:-00 043',\n",
    "'Tangipahoa-:-00 048A': 'Tangipahoa-:-00 049',\n",
    "'Tangipahoa-:-00 048':'Tangipahoa-:-00 049',\n",
    "'Tangipahoa-:-00 072B':'Tangipahoa-:-00 073',                   \n",
    "'Tangipahoa-:-00 104A':'Tangipahoa-:-00 104',\n",
    "'Tangipahoa-:-00 114A':'Tangipahoa-:-00 114',\n",
    "'Tangipahoa-:-00 116A':'Tangipahoa-:-00 116',                   \n",
    "'Tangipahoa-:-00 122':'Tangipahoa-:-00 122C',\n",
    "'Tangipahoa-:-00 123A':'Tangipahoa-:-00 123',\n",
    "'Tangipahoa-:-00 125A':'Tangipahoa-:-00 125',\n",
    "'Tangipahoa-:-00 139A':'Tangipahoa-:-00 139',\n",
    "'Tangipahoa-:-00 141B':'Tangipahoa-:-00 044',\n",
    "'Tangipahoa-:-00 149B':'Tangipahoa-:-00 149A',\n",
    "'Tangipahoa-:-00 127A':'Tangipahoa-:-00 127',\n",
    "'Tangipahoa-:-00 124A':'Tangipahoa-:-00 124',\n",
    "'Tangipahoa-:-00 042A':'Tangipahoa-:-00 042',\n",
    "'Tangipahoa-:-00 045':'Tangipahoa-:-00 042',\n",
    "'Tangipahoa-:-00 027':'Tangipahoa-:-00 028'}"
   ]
  },
  {
   "cell_type": "code",
   "execution_count": 60,
   "id": "a97eaf69",
   "metadata": {},
   "outputs": [
    {
     "name": "stderr",
     "output_type": "stream",
     "text": [
      "/Users/peterhorton/opt/anaconda3/envs/run_maup/lib/python3.8/site-packages/geopandas/geodataframe.py:1322: SettingWithCopyWarning: \n",
      "A value is trying to be set on a copy of a slice from a DataFrame.\n",
      "Try using .loc[row_indexer,col_indexer] = value instead\n",
      "\n",
      "See the caveats in the documentation: https://pandas.pydata.org/pandas-docs/stable/user_guide/indexing.html#returning-a-view-versus-a-copy\n",
      "  super(GeoDataFrame, self).__setitem__(key, value)\n"
     ]
    }
   ],
   "source": [
    "tangipahoa[\"UNIQUE_ID\"] = tangipahoa[\"UNIQUE_ID\"].map(prec_23_changes).fillna(tangipahoa[\"UNIQUE_ID\"])"
   ]
  },
  {
   "cell_type": "code",
   "execution_count": 61,
   "id": "9483f132",
   "metadata": {},
   "outputs": [
    {
     "data": {
      "text/plain": [
       "Tangipahoa-:-00 049     3\n",
       "Tangipahoa-:-00 028     3\n",
       "Tangipahoa-:-00 042     3\n",
       "Tangipahoa-:-00 043     3\n",
       "Tangipahoa-:-00 002     2\n",
       "                       ..\n",
       "Tangipahoa-:-00 006     1\n",
       "Tangipahoa-:-00 117     1\n",
       "Tangipahoa-:-00 118A    1\n",
       "Tangipahoa-:-00 119     1\n",
       "Tangipahoa-:-00 149     1\n",
       "Name: UNIQUE_ID, Length: 75, dtype: int64"
      ]
     },
     "execution_count": 61,
     "metadata": {},
     "output_type": "execute_result"
    }
   ],
   "source": [
    "tangipahoa[\"UNIQUE_ID\"].value_counts()"
   ]
  },
  {
   "cell_type": "code",
   "execution_count": 62,
   "id": "599bed11",
   "metadata": {},
   "outputs": [
    {
     "data": {
      "text/plain": [
       "(99, 62)"
      ]
     },
     "execution_count": 62,
     "metadata": {},
     "output_type": "execute_result"
    }
   ],
   "source": [
    "tangipahoa.shape"
   ]
  },
  {
   "cell_type": "code",
   "execution_count": 63,
   "id": "1a45fff7",
   "metadata": {},
   "outputs": [],
   "source": [
    "tangipahoa = tangipahoa.dissolve(\"UNIQUE_ID\")"
   ]
  },
  {
   "cell_type": "code",
   "execution_count": 64,
   "id": "fc30874e",
   "metadata": {},
   "outputs": [
    {
     "data": {
      "text/plain": [
       "(75, 61)"
      ]
     },
     "execution_count": 64,
     "metadata": {},
     "output_type": "execute_result"
    }
   ],
   "source": [
    "tangipahoa.shape"
   ]
  },
  {
   "cell_type": "code",
   "execution_count": 65,
   "id": "8714d0ae",
   "metadata": {},
   "outputs": [],
   "source": [
    "tangipahoa.reset_index(inplace = True , drop = False)"
   ]
  },
  {
   "cell_type": "code",
   "execution_count": 66,
   "id": "47f2ce0e",
   "metadata": {},
   "outputs": [],
   "source": [
    "tangipahoa = gp.GeoDataFrame(tangipahoa[[\"UNIQUE_ID\",\"geometry\"]])"
   ]
  },
  {
   "cell_type": "code",
   "execution_count": 67,
   "id": "d0569684",
   "metadata": {},
   "outputs": [
    {
     "data": {
      "text/plain": [
       "(75, 2)"
      ]
     },
     "execution_count": 67,
     "metadata": {},
     "output_type": "execute_result"
    }
   ],
   "source": [
    "tangipahoa.shape"
   ]
  },
  {
   "cell_type": "code",
   "execution_count": 68,
   "id": "a72fb1eb",
   "metadata": {},
   "outputs": [
    {
     "data": {
      "text/plain": [
       "(75, 17)"
      ]
     },
     "execution_count": 68,
     "metadata": {},
     "output_type": "execute_result"
    }
   ],
   "source": [
    "gov_23.shape"
   ]
  },
  {
   "cell_type": "code",
   "execution_count": 69,
   "id": "823a1a1d",
   "metadata": {},
   "outputs": [],
   "source": [
    "gov_23[\"UNIQUE_ID\"] = \"Tangipahoa-:-00 \" + gov_23[\"Precinct\"].astype(str).str.zfill(3)"
   ]
  },
  {
   "cell_type": "code",
   "execution_count": 70,
   "id": "0739c3f6",
   "metadata": {},
   "outputs": [
    {
     "data": {
      "text/plain": [
       "{'Tangipahoa-:-00 nan'}"
      ]
     },
     "execution_count": 70,
     "metadata": {},
     "output_type": "execute_result"
    }
   ],
   "source": [
    "set(gov_23[\"UNIQUE_ID\"]) - set(tangipahoa[\"UNIQUE_ID\"])"
   ]
  },
  {
   "cell_type": "code",
   "execution_count": 71,
   "id": "a713cba7",
   "metadata": {},
   "outputs": [
    {
     "data": {
      "text/plain": [
       "{'Tangipahoa-:-ZZZZZZ'}"
      ]
     },
     "execution_count": 71,
     "metadata": {},
     "output_type": "execute_result"
    }
   ],
   "source": [
    "set(tangipahoa[\"UNIQUE_ID\"]) - set(gov_23[\"UNIQUE_ID\"])"
   ]
  },
  {
   "cell_type": "code",
   "execution_count": 72,
   "id": "6b908e83",
   "metadata": {},
   "outputs": [],
   "source": [
    "gov_23[\"State\"] = \"LA\""
   ]
  },
  {
   "cell_type": "code",
   "execution_count": 73,
   "id": "49b61f6c",
   "metadata": {},
   "outputs": [],
   "source": [
    "recev_df = gov_23[~gov_23[\"Precinct\"].isna()]\n",
    "alloc_df = gov_23[gov_23[\"Precinct\"].isna()]"
   ]
  },
  {
   "cell_type": "code",
   "execution_count": 74,
   "id": "d72b797a",
   "metadata": {},
   "outputs": [
    {
     "name": "stderr",
     "output_type": "stream",
     "text": [
      "/Users/peterhorton/Documents/RDH/Support/Processing-Requests/Tangipahoa_Elections_11_03_22/pber_functions_v1.py:209: FutureWarning: The default value of numeric_only in DataFrameGroupBy.sum is deprecated. In a future version, numeric_only will default to False. Either specify numeric_only or select only columns which should be valid for the function.\n",
      "  precinct_specific_totals = pd.DataFrame(df_receiving_votes.groupby([col_allocating]).sum())\n",
      "/Users/peterhorton/Documents/RDH/Support/Processing-Requests/Tangipahoa_Elections_11_03_22/pber_functions_v1.py:211: FutureWarning: The default value of numeric_only in DataFrameGroupBy.sum is deprecated. In a future version, numeric_only will default to False. Either specify numeric_only or select only columns which should be valid for the function.\n",
      "  to_dole_out_totals = pd.DataFrame(df_allocating.groupby([col_allocating]).sum())\n",
      "/Users/peterhorton/Documents/RDH/Support/Processing-Requests/Tangipahoa_Elections_11_03_22/pber_functions_v1.py:291: FutureWarning: The default value of numeric_only in DataFrameGroupBy.sum is deprecated. In a future version, numeric_only will default to False. Either specify numeric_only or select only columns which should be valid for the function.\n",
      "  first_allocation = pd.DataFrame(df_receiving_votes.groupby([col_allocating]).sum())\n",
      "/Users/peterhorton/Documents/RDH/Support/Processing-Requests/Tangipahoa_Elections_11_03_22/pber_functions_v1.py:313: FutureWarning: In a future version, `df.iloc[:, i] = newvals` will attempt to set the values inplace instead of always setting a new array. To retain the old behavior, use either `df[df.columns[i]] = newvals` or, if columns are non-unique, `df.isetitem(i, newvals)`\n",
      "  df_receiving_votes.loc[:,race]+=df_receiving_votes.loc[:,add_var]\n",
      "/Users/peterhorton/Documents/RDH/Support/Processing-Requests/Tangipahoa_Elections_11_03_22/pber_functions_v1.py:314: FutureWarning: In a future version, `df.iloc[:, i] = newvals` will attempt to set the values inplace instead of always setting a new array. To retain the old behavior, use either `df[df.columns[i]] = newvals` or, if columns are non-unique, `df.isetitem(i, newvals)`\n",
      "  df_receiving_votes.loc[:,race] = df_receiving_votes.loc[:,race].astype(int)\n"
     ]
    }
   ],
   "source": [
    "gov_23_aloc = pber.allocate_absentee(recev_df, alloc_df, ['Benjamin Barnes (IND)',\n",
    "       'Patrick Henry \"Dat\" Barthel (REP)', 'Daniel M. \"Danny\" Cole (DEM)',\n",
    "       'Xavier Ellis (REP)', '\"Keitron\" Gagnon (NOPTY)',\n",
    "       'Sharon W. Hewitt (REP)', 'Jeffery Istre (IND)', '\"Xan\" John (REP)',\n",
    "       '\"Jeff\" Landry (REP)', 'Hunter Lundy (IND)', 'Richard Nelson (REP)',\n",
    "       'John Schroder (REP)', 'Frank Scurlock (IND)',\n",
    "       'Stephen \"Wags\" Waguespack (REP)', 'Shawn D. Wilson (DEM)'], \"State\", allocating_to_all_empty_precs=False)"
   ]
  },
  {
   "cell_type": "code",
   "execution_count": 75,
   "id": "30b9f4cc",
   "metadata": {},
   "outputs": [
    {
     "data": {
      "text/html": [
       "<div>\n",
       "<style scoped>\n",
       "    .dataframe tbody tr th:only-of-type {\n",
       "        vertical-align: middle;\n",
       "    }\n",
       "\n",
       "    .dataframe tbody tr th {\n",
       "        vertical-align: top;\n",
       "    }\n",
       "\n",
       "    .dataframe thead th {\n",
       "        text-align: right;\n",
       "    }\n",
       "</style>\n",
       "<table border=\"1\" class=\"dataframe\">\n",
       "  <thead>\n",
       "    <tr style=\"text-align: right;\">\n",
       "      <th></th>\n",
       "      <th>Precinct</th>\n",
       "      <th>Benjamin Barnes (IND)</th>\n",
       "      <th>Patrick Henry \"Dat\" Barthel (REP)</th>\n",
       "      <th>Daniel M. \"Danny\" Cole (DEM)</th>\n",
       "      <th>Xavier Ellis (REP)</th>\n",
       "      <th>\"Keitron\" Gagnon (NOPTY)</th>\n",
       "      <th>Sharon W. Hewitt (REP)</th>\n",
       "      <th>Jeffery Istre (IND)</th>\n",
       "      <th>\"Xan\" John (REP)</th>\n",
       "      <th>\"Jeff\" Landry (REP)</th>\n",
       "      <th>Hunter Lundy (IND)</th>\n",
       "      <th>Richard Nelson (REP)</th>\n",
       "      <th>John Schroder (REP)</th>\n",
       "      <th>Frank Scurlock (IND)</th>\n",
       "      <th>Stephen \"Wags\" Waguespack (REP)</th>\n",
       "      <th>Shawn D. Wilson (DEM)</th>\n",
       "      <th>match</th>\n",
       "      <th>UNIQUE_ID</th>\n",
       "      <th>State</th>\n",
       "    </tr>\n",
       "  </thead>\n",
       "  <tbody>\n",
       "    <tr>\n",
       "      <th>0</th>\n",
       "      <td>2</td>\n",
       "      <td>4</td>\n",
       "      <td>1</td>\n",
       "      <td>47</td>\n",
       "      <td>3</td>\n",
       "      <td>2</td>\n",
       "      <td>13</td>\n",
       "      <td>4</td>\n",
       "      <td>3</td>\n",
       "      <td>148</td>\n",
       "      <td>13</td>\n",
       "      <td>0</td>\n",
       "      <td>8</td>\n",
       "      <td>2</td>\n",
       "      <td>8</td>\n",
       "      <td>368</td>\n",
       "      <td>00 002</td>\n",
       "      <td>Tangipahoa-:-00 002</td>\n",
       "      <td>LA</td>\n",
       "    </tr>\n",
       "    <tr>\n",
       "      <th>1</th>\n",
       "      <td>6</td>\n",
       "      <td>4</td>\n",
       "      <td>0</td>\n",
       "      <td>21</td>\n",
       "      <td>0</td>\n",
       "      <td>0</td>\n",
       "      <td>0</td>\n",
       "      <td>0</td>\n",
       "      <td>1</td>\n",
       "      <td>11</td>\n",
       "      <td>1</td>\n",
       "      <td>3</td>\n",
       "      <td>3</td>\n",
       "      <td>0</td>\n",
       "      <td>2</td>\n",
       "      <td>89</td>\n",
       "      <td>00 006</td>\n",
       "      <td>Tangipahoa-:-00 006</td>\n",
       "      <td>LA</td>\n",
       "    </tr>\n",
       "    <tr>\n",
       "      <th>2</th>\n",
       "      <td>11</td>\n",
       "      <td>4</td>\n",
       "      <td>3</td>\n",
       "      <td>23</td>\n",
       "      <td>4</td>\n",
       "      <td>0</td>\n",
       "      <td>6</td>\n",
       "      <td>1</td>\n",
       "      <td>0</td>\n",
       "      <td>66</td>\n",
       "      <td>4</td>\n",
       "      <td>0</td>\n",
       "      <td>10</td>\n",
       "      <td>0</td>\n",
       "      <td>5</td>\n",
       "      <td>129</td>\n",
       "      <td>00 011</td>\n",
       "      <td>Tangipahoa-:-00 011</td>\n",
       "      <td>LA</td>\n",
       "    </tr>\n",
       "    <tr>\n",
       "      <th>3</th>\n",
       "      <td>15</td>\n",
       "      <td>0</td>\n",
       "      <td>4</td>\n",
       "      <td>9</td>\n",
       "      <td>0</td>\n",
       "      <td>0</td>\n",
       "      <td>3</td>\n",
       "      <td>0</td>\n",
       "      <td>0</td>\n",
       "      <td>134</td>\n",
       "      <td>3</td>\n",
       "      <td>0</td>\n",
       "      <td>21</td>\n",
       "      <td>0</td>\n",
       "      <td>11</td>\n",
       "      <td>63</td>\n",
       "      <td>00 015</td>\n",
       "      <td>Tangipahoa-:-00 015</td>\n",
       "      <td>LA</td>\n",
       "    </tr>\n",
       "    <tr>\n",
       "      <th>4</th>\n",
       "      <td>16</td>\n",
       "      <td>0</td>\n",
       "      <td>3</td>\n",
       "      <td>7</td>\n",
       "      <td>0</td>\n",
       "      <td>0</td>\n",
       "      <td>5</td>\n",
       "      <td>1</td>\n",
       "      <td>0</td>\n",
       "      <td>170</td>\n",
       "      <td>20</td>\n",
       "      <td>3</td>\n",
       "      <td>25</td>\n",
       "      <td>0</td>\n",
       "      <td>2</td>\n",
       "      <td>28</td>\n",
       "      <td>00 016</td>\n",
       "      <td>Tangipahoa-:-00 016</td>\n",
       "      <td>LA</td>\n",
       "    </tr>\n",
       "    <tr>\n",
       "      <th>...</th>\n",
       "      <td>...</td>\n",
       "      <td>...</td>\n",
       "      <td>...</td>\n",
       "      <td>...</td>\n",
       "      <td>...</td>\n",
       "      <td>...</td>\n",
       "      <td>...</td>\n",
       "      <td>...</td>\n",
       "      <td>...</td>\n",
       "      <td>...</td>\n",
       "      <td>...</td>\n",
       "      <td>...</td>\n",
       "      <td>...</td>\n",
       "      <td>...</td>\n",
       "      <td>...</td>\n",
       "      <td>...</td>\n",
       "      <td>...</td>\n",
       "      <td>...</td>\n",
       "      <td>...</td>\n",
       "    </tr>\n",
       "    <tr>\n",
       "      <th>69</th>\n",
       "      <td>145</td>\n",
       "      <td>4</td>\n",
       "      <td>2</td>\n",
       "      <td>11</td>\n",
       "      <td>1</td>\n",
       "      <td>0</td>\n",
       "      <td>14</td>\n",
       "      <td>1</td>\n",
       "      <td>1</td>\n",
       "      <td>449</td>\n",
       "      <td>43</td>\n",
       "      <td>4</td>\n",
       "      <td>63</td>\n",
       "      <td>0</td>\n",
       "      <td>24</td>\n",
       "      <td>72</td>\n",
       "      <td>00 145</td>\n",
       "      <td>Tangipahoa-:-00 145</td>\n",
       "      <td>LA</td>\n",
       "    </tr>\n",
       "    <tr>\n",
       "      <th>70</th>\n",
       "      <td>147</td>\n",
       "      <td>1</td>\n",
       "      <td>5</td>\n",
       "      <td>4</td>\n",
       "      <td>0</td>\n",
       "      <td>0</td>\n",
       "      <td>9</td>\n",
       "      <td>1</td>\n",
       "      <td>1</td>\n",
       "      <td>262</td>\n",
       "      <td>24</td>\n",
       "      <td>3</td>\n",
       "      <td>43</td>\n",
       "      <td>1</td>\n",
       "      <td>8</td>\n",
       "      <td>23</td>\n",
       "      <td>00 147</td>\n",
       "      <td>Tangipahoa-:-00 147</td>\n",
       "      <td>LA</td>\n",
       "    </tr>\n",
       "    <tr>\n",
       "      <th>71</th>\n",
       "      <td>149</td>\n",
       "      <td>1</td>\n",
       "      <td>2</td>\n",
       "      <td>0</td>\n",
       "      <td>0</td>\n",
       "      <td>0</td>\n",
       "      <td>0</td>\n",
       "      <td>2</td>\n",
       "      <td>0</td>\n",
       "      <td>198</td>\n",
       "      <td>13</td>\n",
       "      <td>0</td>\n",
       "      <td>38</td>\n",
       "      <td>0</td>\n",
       "      <td>15</td>\n",
       "      <td>21</td>\n",
       "      <td>00 149</td>\n",
       "      <td>Tangipahoa-:-00 149</td>\n",
       "      <td>LA</td>\n",
       "    </tr>\n",
       "    <tr>\n",
       "      <th>72</th>\n",
       "      <td>149A</td>\n",
       "      <td>1</td>\n",
       "      <td>2</td>\n",
       "      <td>6</td>\n",
       "      <td>0</td>\n",
       "      <td>1</td>\n",
       "      <td>11</td>\n",
       "      <td>1</td>\n",
       "      <td>0</td>\n",
       "      <td>484</td>\n",
       "      <td>36</td>\n",
       "      <td>4</td>\n",
       "      <td>111</td>\n",
       "      <td>1</td>\n",
       "      <td>56</td>\n",
       "      <td>41</td>\n",
       "      <td>00 149A</td>\n",
       "      <td>Tangipahoa-:-00 149A</td>\n",
       "      <td>LA</td>\n",
       "    </tr>\n",
       "    <tr>\n",
       "      <th>73</th>\n",
       "      <td>151</td>\n",
       "      <td>5</td>\n",
       "      <td>4</td>\n",
       "      <td>8</td>\n",
       "      <td>3</td>\n",
       "      <td>1</td>\n",
       "      <td>17</td>\n",
       "      <td>2</td>\n",
       "      <td>2</td>\n",
       "      <td>486</td>\n",
       "      <td>45</td>\n",
       "      <td>6</td>\n",
       "      <td>91</td>\n",
       "      <td>0</td>\n",
       "      <td>33</td>\n",
       "      <td>40</td>\n",
       "      <td>00 151</td>\n",
       "      <td>Tangipahoa-:-00 151</td>\n",
       "      <td>LA</td>\n",
       "    </tr>\n",
       "  </tbody>\n",
       "</table>\n",
       "<p>74 rows × 19 columns</p>\n",
       "</div>"
      ],
      "text/plain": [
       "   Precinct  Benjamin Barnes (IND)  Patrick Henry \"Dat\" Barthel (REP)  \\\n",
       "0         2                      4                                  1   \n",
       "1         6                      4                                  0   \n",
       "2        11                      4                                  3   \n",
       "3        15                      0                                  4   \n",
       "4        16                      0                                  3   \n",
       "..      ...                    ...                                ...   \n",
       "69      145                      4                                  2   \n",
       "70      147                      1                                  5   \n",
       "71      149                      1                                  2   \n",
       "72     149A                      1                                  2   \n",
       "73      151                      5                                  4   \n",
       "\n",
       "    Daniel M. \"Danny\" Cole (DEM)  Xavier Ellis (REP)  \\\n",
       "0                             47                   3   \n",
       "1                             21                   0   \n",
       "2                             23                   4   \n",
       "3                              9                   0   \n",
       "4                              7                   0   \n",
       "..                           ...                 ...   \n",
       "69                            11                   1   \n",
       "70                             4                   0   \n",
       "71                             0                   0   \n",
       "72                             6                   0   \n",
       "73                             8                   3   \n",
       "\n",
       "    \"Keitron\" Gagnon (NOPTY)  Sharon W. Hewitt (REP)  Jeffery Istre (IND)  \\\n",
       "0                          2                      13                    4   \n",
       "1                          0                       0                    0   \n",
       "2                          0                       6                    1   \n",
       "3                          0                       3                    0   \n",
       "4                          0                       5                    1   \n",
       "..                       ...                     ...                  ...   \n",
       "69                         0                      14                    1   \n",
       "70                         0                       9                    1   \n",
       "71                         0                       0                    2   \n",
       "72                         1                      11                    1   \n",
       "73                         1                      17                    2   \n",
       "\n",
       "    \"Xan\" John (REP)  \"Jeff\" Landry (REP)  Hunter Lundy (IND)  \\\n",
       "0                  3                  148                  13   \n",
       "1                  1                   11                   1   \n",
       "2                  0                   66                   4   \n",
       "3                  0                  134                   3   \n",
       "4                  0                  170                  20   \n",
       "..               ...                  ...                 ...   \n",
       "69                 1                  449                  43   \n",
       "70                 1                  262                  24   \n",
       "71                 0                  198                  13   \n",
       "72                 0                  484                  36   \n",
       "73                 2                  486                  45   \n",
       "\n",
       "    Richard Nelson (REP)  John Schroder (REP)  Frank Scurlock (IND)  \\\n",
       "0                      0                    8                     2   \n",
       "1                      3                    3                     0   \n",
       "2                      0                   10                     0   \n",
       "3                      0                   21                     0   \n",
       "4                      3                   25                     0   \n",
       "..                   ...                  ...                   ...   \n",
       "69                     4                   63                     0   \n",
       "70                     3                   43                     1   \n",
       "71                     0                   38                     0   \n",
       "72                     4                  111                     1   \n",
       "73                     6                   91                     0   \n",
       "\n",
       "    Stephen \"Wags\" Waguespack (REP)  Shawn D. Wilson (DEM)    match  \\\n",
       "0                                 8                    368   00 002   \n",
       "1                                 2                     89   00 006   \n",
       "2                                 5                    129   00 011   \n",
       "3                                11                     63   00 015   \n",
       "4                                 2                     28   00 016   \n",
       "..                              ...                    ...      ...   \n",
       "69                               24                     72   00 145   \n",
       "70                                8                     23   00 147   \n",
       "71                               15                     21   00 149   \n",
       "72                               56                     41  00 149A   \n",
       "73                               33                     40   00 151   \n",
       "\n",
       "               UNIQUE_ID State  \n",
       "0    Tangipahoa-:-00 002    LA  \n",
       "1    Tangipahoa-:-00 006    LA  \n",
       "2    Tangipahoa-:-00 011    LA  \n",
       "3    Tangipahoa-:-00 015    LA  \n",
       "4    Tangipahoa-:-00 016    LA  \n",
       "..                   ...   ...  \n",
       "69   Tangipahoa-:-00 145    LA  \n",
       "70   Tangipahoa-:-00 147    LA  \n",
       "71   Tangipahoa-:-00 149    LA  \n",
       "72  Tangipahoa-:-00 149A    LA  \n",
       "73   Tangipahoa-:-00 151    LA  \n",
       "\n",
       "[74 rows x 19 columns]"
      ]
     },
     "execution_count": 75,
     "metadata": {},
     "output_type": "execute_result"
    }
   ],
   "source": [
    "gov_23_aloc"
   ]
  },
  {
   "cell_type": "code",
   "execution_count": 76,
   "id": "9b030c1d",
   "metadata": {},
   "outputs": [],
   "source": [
    "joined_23 = gp.GeoDataFrame(pd.merge(tangipahoa, gov_23_aloc, how = \"outer\", on = \"UNIQUE_ID\", indicator = True))"
   ]
  },
  {
   "cell_type": "code",
   "execution_count": 77,
   "id": "009f72c6",
   "metadata": {},
   "outputs": [
    {
     "data": {
      "text/plain": [
       "Index(['UNIQUE_ID', 'geometry', 'Precinct', 'Benjamin Barnes (IND)',\n",
       "       'Patrick Henry \"Dat\" Barthel (REP)', 'Daniel M. \"Danny\" Cole (DEM)',\n",
       "       'Xavier Ellis (REP)', '\"Keitron\" Gagnon (NOPTY)',\n",
       "       'Sharon W. Hewitt (REP)', 'Jeffery Istre (IND)', '\"Xan\" John (REP)',\n",
       "       '\"Jeff\" Landry (REP)', 'Hunter Lundy (IND)', 'Richard Nelson (REP)',\n",
       "       'John Schroder (REP)', 'Frank Scurlock (IND)',\n",
       "       'Stephen \"Wags\" Waguespack (REP)', 'Shawn D. Wilson (DEM)', 'match',\n",
       "       'State', '_merge'],\n",
       "      dtype='object')"
      ]
     },
     "execution_count": 77,
     "metadata": {},
     "output_type": "execute_result"
    }
   ],
   "source": [
    "joined_23.columns"
   ]
  },
  {
   "cell_type": "markdown",
   "id": "07dd13df",
   "metadata": {},
   "source": [
    "## Final Combination"
   ]
  },
  {
   "cell_type": "code",
   "execution_count": null,
   "id": "123ec4cb",
   "metadata": {},
   "outputs": [],
   "source": []
  },
  {
   "cell_type": "code",
   "execution_count": 78,
   "id": "906dd2c6",
   "metadata": {},
   "outputs": [
    {
     "data": {
      "text/plain": [
       "Index(['precinct', 'Kyle Ardoin (REP)', 'Heather Cloud (REP)',\n",
       "       '\"Gwen\" Collins-Greenup (DEM)', 'A.G. Crowe (REP)',\n",
       "       '\"Rick\" Edmonds (REP)', 'Renee Fontenot Free (DEM)',\n",
       "       'Thomas J. Kennedy III (REP)', 'Matthew Paul \"Matt\" Moreau (NOPTY)',\n",
       "       'Julie Stokes (REP)', 'State', 'STATEFP10', 'COUNTYFP10', 'VTDST10',\n",
       "       'NAME10', 'G18SOSRARD', 'G18SOSREDM', 'G18SOSRSTO', 'G18SOSRKEN',\n",
       "       'G18SOSRCRO', 'G18SOSRCLO', 'G18SOSDCOL', 'G18SOSDFRE', 'G18SOSNMOR',\n",
       "       'R18SOSRARD', 'R18SOSDCOL', 'geometry', '_merge'],\n",
       "      dtype='object')"
      ]
     },
     "execution_count": 78,
     "metadata": {},
     "output_type": "execute_result"
    }
   ],
   "source": [
    "joined_18.columns"
   ]
  },
  {
   "cell_type": "code",
   "execution_count": 79,
   "id": "656fbd61",
   "metadata": {},
   "outputs": [],
   "source": [
    "pairs = [('\"Gwen\" Collins-Greenup (DEM)', 'G18SOSDCOL'),\n",
    "('\"Rick\" Edmonds (REP)','G18SOSREDM'),\n",
    "('A.G. Crowe (REP)','G18SOSRCRO'),\n",
    "('Heather Cloud (REP)','G18SOSRCLO'),\n",
    "('Julie Stokes (REP)','G18SOSRSTO'),\n",
    "('Kyle Ardoin (REP)','G18SOSRARD'),\n",
    "('Matthew Paul \"Matt\" Moreau (NOPTY)','G18SOSNMOR'),\n",
    "('Renee Fontenot Free (DEM)', 'G18SOSDFRE'),\n",
    "('Thomas J. Kennedy III (REP)','G18SOSRKEN')]\n",
    " \n",
    "          \n",
    "       "
   ]
  },
  {
   "cell_type": "code",
   "execution_count": 80,
   "id": "58eaff35",
   "metadata": {
    "scrolled": true
   },
   "outputs": [
    {
     "name": "stdout",
     "output_type": "stream",
     "text": [
      "G18SOSDCOL 0\n",
      "G18SOSREDM 0\n",
      "G18SOSRCRO 0\n",
      "G18SOSRCLO 0\n",
      "G18SOSRSTO 0\n",
      "G18SOSRARD 0\n",
      "G18SOSNMOR 0\n",
      "G18SOSDFRE 0\n",
      "G18SOSRKEN 0\n"
     ]
    }
   ],
   "source": [
    "for pair in pairs:\n",
    "    print(pair[1], sum(joined_18[pair[0]] - joined_18[pair[1]]))"
   ]
  },
  {
   "cell_type": "code",
   "execution_count": 81,
   "id": "1acde627",
   "metadata": {},
   "outputs": [],
   "source": [
    "for val in [i for i in joined_19.columns if \"_x\" in i and \"VTDST\" not in i]:\n",
    "    print(sum(joined_19[val] - joined_19[val.replace(\"_x\", \"_y\")]))"
   ]
  },
  {
   "cell_type": "code",
   "execution_count": 88,
   "id": "3fee1837",
   "metadata": {},
   "outputs": [
    {
     "ename": "KeyError",
     "evalue": "\"['_merge'] not found in axis\"",
     "output_type": "error",
     "traceback": [
      "\u001b[0;31m---------------------------------------------------------------------------\u001b[0m",
      "\u001b[0;31mKeyError\u001b[0m                                  Traceback (most recent call last)",
      "Cell \u001b[0;32mIn [88], line 2\u001b[0m\n\u001b[1;32m      1\u001b[0m joined_17\u001b[38;5;241m.\u001b[39mdrop(\u001b[38;5;124m\"\u001b[39m\u001b[38;5;124m_merge\u001b[39m\u001b[38;5;124m\"\u001b[39m, axis \u001b[38;5;241m=\u001b[39m \u001b[38;5;241m1\u001b[39m, inplace \u001b[38;5;241m=\u001b[39m \u001b[38;5;28;01mTrue\u001b[39;00m)\n\u001b[0;32m----> 2\u001b[0m joined_18\u001b[38;5;241m.\u001b[39mdrop(\u001b[38;5;124m\"\u001b[39m\u001b[38;5;124m_merge\u001b[39m\u001b[38;5;124m\"\u001b[39m, axis \u001b[38;5;241m=\u001b[39m \u001b[38;5;241m1\u001b[39m, inplace \u001b[38;5;241m=\u001b[39m \u001b[38;5;28;01mTrue\u001b[39;00m)\n\u001b[1;32m      3\u001b[0m \u001b[38;5;66;03m#joined_19.drop(\"_merge\", axis = 1, inplace = True)\u001b[39;00m\n\u001b[1;32m      4\u001b[0m joined_20\u001b[38;5;241m.\u001b[39mdrop(\u001b[38;5;124m\"\u001b[39m\u001b[38;5;124m_merge\u001b[39m\u001b[38;5;124m\"\u001b[39m, axis \u001b[38;5;241m=\u001b[39m \u001b[38;5;241m1\u001b[39m, inplace \u001b[38;5;241m=\u001b[39m \u001b[38;5;28;01mTrue\u001b[39;00m)\n",
      "File \u001b[0;32m~/opt/anaconda3/envs/run_maup/lib/python3.8/site-packages/pandas/util/_decorators.py:317\u001b[0m, in \u001b[0;36mdeprecate_nonkeyword_arguments.<locals>.decorate.<locals>.wrapper\u001b[0;34m(*args, **kwargs)\u001b[0m\n\u001b[1;32m    311\u001b[0m \u001b[38;5;28;01mif\u001b[39;00m \u001b[38;5;28mlen\u001b[39m(args) \u001b[38;5;241m>\u001b[39m num_allow_args:\n\u001b[1;32m    312\u001b[0m     warnings\u001b[38;5;241m.\u001b[39mwarn(\n\u001b[1;32m    313\u001b[0m         msg\u001b[38;5;241m.\u001b[39mformat(arguments\u001b[38;5;241m=\u001b[39marguments),\n\u001b[1;32m    314\u001b[0m         \u001b[38;5;167;01mFutureWarning\u001b[39;00m,\n\u001b[1;32m    315\u001b[0m         stacklevel\u001b[38;5;241m=\u001b[39mfind_stack_level(inspect\u001b[38;5;241m.\u001b[39mcurrentframe()),\n\u001b[1;32m    316\u001b[0m     )\n\u001b[0;32m--> 317\u001b[0m \u001b[38;5;28;01mreturn\u001b[39;00m \u001b[43mfunc\u001b[49m\u001b[43m(\u001b[49m\u001b[38;5;241;43m*\u001b[39;49m\u001b[43margs\u001b[49m\u001b[43m,\u001b[49m\u001b[43m \u001b[49m\u001b[38;5;241;43m*\u001b[39;49m\u001b[38;5;241;43m*\u001b[39;49m\u001b[43mkwargs\u001b[49m\u001b[43m)\u001b[49m\n",
      "File \u001b[0;32m~/opt/anaconda3/envs/run_maup/lib/python3.8/site-packages/pandas/core/frame.py:5391\u001b[0m, in \u001b[0;36mDataFrame.drop\u001b[0;34m(self, labels, axis, index, columns, level, inplace, errors)\u001b[0m\n\u001b[1;32m   5243\u001b[0m \u001b[38;5;129m@deprecate_nonkeyword_arguments\u001b[39m(version\u001b[38;5;241m=\u001b[39m\u001b[38;5;28;01mNone\u001b[39;00m, allowed_args\u001b[38;5;241m=\u001b[39m[\u001b[38;5;124m\"\u001b[39m\u001b[38;5;124mself\u001b[39m\u001b[38;5;124m\"\u001b[39m, \u001b[38;5;124m\"\u001b[39m\u001b[38;5;124mlabels\u001b[39m\u001b[38;5;124m\"\u001b[39m])\n\u001b[1;32m   5244\u001b[0m \u001b[38;5;28;01mdef\u001b[39;00m \u001b[38;5;21mdrop\u001b[39m(  \u001b[38;5;66;03m# type: ignore[override]\u001b[39;00m\n\u001b[1;32m   5245\u001b[0m     \u001b[38;5;28mself\u001b[39m,\n\u001b[0;32m   (...)\u001b[0m\n\u001b[1;32m   5252\u001b[0m     errors: IgnoreRaise \u001b[38;5;241m=\u001b[39m \u001b[38;5;124m\"\u001b[39m\u001b[38;5;124mraise\u001b[39m\u001b[38;5;124m\"\u001b[39m,\n\u001b[1;32m   5253\u001b[0m ) \u001b[38;5;241m-\u001b[39m\u001b[38;5;241m>\u001b[39m DataFrame \u001b[38;5;241m|\u001b[39m \u001b[38;5;28;01mNone\u001b[39;00m:\n\u001b[1;32m   5254\u001b[0m     \u001b[38;5;124;03m\"\"\"\u001b[39;00m\n\u001b[1;32m   5255\u001b[0m \u001b[38;5;124;03m    Drop specified labels from rows or columns.\u001b[39;00m\n\u001b[1;32m   5256\u001b[0m \n\u001b[0;32m   (...)\u001b[0m\n\u001b[1;32m   5389\u001b[0m \u001b[38;5;124;03m            weight  1.0     0.8\u001b[39;00m\n\u001b[1;32m   5390\u001b[0m \u001b[38;5;124;03m    \"\"\"\u001b[39;00m\n\u001b[0;32m-> 5391\u001b[0m     \u001b[38;5;28;01mreturn\u001b[39;00m \u001b[38;5;28;43msuper\u001b[39;49m\u001b[43m(\u001b[49m\u001b[43m)\u001b[49m\u001b[38;5;241;43m.\u001b[39;49m\u001b[43mdrop\u001b[49m\u001b[43m(\u001b[49m\n\u001b[1;32m   5392\u001b[0m \u001b[43m        \u001b[49m\u001b[43mlabels\u001b[49m\u001b[38;5;241;43m=\u001b[39;49m\u001b[43mlabels\u001b[49m\u001b[43m,\u001b[49m\n\u001b[1;32m   5393\u001b[0m \u001b[43m        \u001b[49m\u001b[43maxis\u001b[49m\u001b[38;5;241;43m=\u001b[39;49m\u001b[43maxis\u001b[49m\u001b[43m,\u001b[49m\n\u001b[1;32m   5394\u001b[0m \u001b[43m        \u001b[49m\u001b[43mindex\u001b[49m\u001b[38;5;241;43m=\u001b[39;49m\u001b[43mindex\u001b[49m\u001b[43m,\u001b[49m\n\u001b[1;32m   5395\u001b[0m \u001b[43m        \u001b[49m\u001b[43mcolumns\u001b[49m\u001b[38;5;241;43m=\u001b[39;49m\u001b[43mcolumns\u001b[49m\u001b[43m,\u001b[49m\n\u001b[1;32m   5396\u001b[0m \u001b[43m        \u001b[49m\u001b[43mlevel\u001b[49m\u001b[38;5;241;43m=\u001b[39;49m\u001b[43mlevel\u001b[49m\u001b[43m,\u001b[49m\n\u001b[1;32m   5397\u001b[0m \u001b[43m        \u001b[49m\u001b[43minplace\u001b[49m\u001b[38;5;241;43m=\u001b[39;49m\u001b[43minplace\u001b[49m\u001b[43m,\u001b[49m\n\u001b[1;32m   5398\u001b[0m \u001b[43m        \u001b[49m\u001b[43merrors\u001b[49m\u001b[38;5;241;43m=\u001b[39;49m\u001b[43merrors\u001b[49m\u001b[43m,\u001b[49m\n\u001b[1;32m   5399\u001b[0m \u001b[43m    \u001b[49m\u001b[43m)\u001b[49m\n",
      "File \u001b[0;32m~/opt/anaconda3/envs/run_maup/lib/python3.8/site-packages/pandas/util/_decorators.py:317\u001b[0m, in \u001b[0;36mdeprecate_nonkeyword_arguments.<locals>.decorate.<locals>.wrapper\u001b[0;34m(*args, **kwargs)\u001b[0m\n\u001b[1;32m    311\u001b[0m \u001b[38;5;28;01mif\u001b[39;00m \u001b[38;5;28mlen\u001b[39m(args) \u001b[38;5;241m>\u001b[39m num_allow_args:\n\u001b[1;32m    312\u001b[0m     warnings\u001b[38;5;241m.\u001b[39mwarn(\n\u001b[1;32m    313\u001b[0m         msg\u001b[38;5;241m.\u001b[39mformat(arguments\u001b[38;5;241m=\u001b[39marguments),\n\u001b[1;32m    314\u001b[0m         \u001b[38;5;167;01mFutureWarning\u001b[39;00m,\n\u001b[1;32m    315\u001b[0m         stacklevel\u001b[38;5;241m=\u001b[39mfind_stack_level(inspect\u001b[38;5;241m.\u001b[39mcurrentframe()),\n\u001b[1;32m    316\u001b[0m     )\n\u001b[0;32m--> 317\u001b[0m \u001b[38;5;28;01mreturn\u001b[39;00m \u001b[43mfunc\u001b[49m\u001b[43m(\u001b[49m\u001b[38;5;241;43m*\u001b[39;49m\u001b[43margs\u001b[49m\u001b[43m,\u001b[49m\u001b[43m \u001b[49m\u001b[38;5;241;43m*\u001b[39;49m\u001b[38;5;241;43m*\u001b[39;49m\u001b[43mkwargs\u001b[49m\u001b[43m)\u001b[49m\n",
      "File \u001b[0;32m~/opt/anaconda3/envs/run_maup/lib/python3.8/site-packages/pandas/core/generic.py:4510\u001b[0m, in \u001b[0;36mNDFrame.drop\u001b[0;34m(self, labels, axis, index, columns, level, inplace, errors)\u001b[0m\n\u001b[1;32m   4508\u001b[0m \u001b[38;5;28;01mfor\u001b[39;00m axis, labels \u001b[38;5;129;01min\u001b[39;00m axes\u001b[38;5;241m.\u001b[39mitems():\n\u001b[1;32m   4509\u001b[0m     \u001b[38;5;28;01mif\u001b[39;00m labels \u001b[38;5;129;01mis\u001b[39;00m \u001b[38;5;129;01mnot\u001b[39;00m \u001b[38;5;28;01mNone\u001b[39;00m:\n\u001b[0;32m-> 4510\u001b[0m         obj \u001b[38;5;241m=\u001b[39m \u001b[43mobj\u001b[49m\u001b[38;5;241;43m.\u001b[39;49m\u001b[43m_drop_axis\u001b[49m\u001b[43m(\u001b[49m\u001b[43mlabels\u001b[49m\u001b[43m,\u001b[49m\u001b[43m \u001b[49m\u001b[43maxis\u001b[49m\u001b[43m,\u001b[49m\u001b[43m \u001b[49m\u001b[43mlevel\u001b[49m\u001b[38;5;241;43m=\u001b[39;49m\u001b[43mlevel\u001b[49m\u001b[43m,\u001b[49m\u001b[43m \u001b[49m\u001b[43merrors\u001b[49m\u001b[38;5;241;43m=\u001b[39;49m\u001b[43merrors\u001b[49m\u001b[43m)\u001b[49m\n\u001b[1;32m   4512\u001b[0m \u001b[38;5;28;01mif\u001b[39;00m inplace:\n\u001b[1;32m   4513\u001b[0m     \u001b[38;5;28mself\u001b[39m\u001b[38;5;241m.\u001b[39m_update_inplace(obj)\n",
      "File \u001b[0;32m~/opt/anaconda3/envs/run_maup/lib/python3.8/site-packages/pandas/core/generic.py:4551\u001b[0m, in \u001b[0;36mNDFrame._drop_axis\u001b[0;34m(self, labels, axis, level, errors, only_slice)\u001b[0m\n\u001b[1;32m   4549\u001b[0m         new_axis \u001b[38;5;241m=\u001b[39m axis\u001b[38;5;241m.\u001b[39mdrop(labels, level\u001b[38;5;241m=\u001b[39mlevel, errors\u001b[38;5;241m=\u001b[39merrors)\n\u001b[1;32m   4550\u001b[0m     \u001b[38;5;28;01melse\u001b[39;00m:\n\u001b[0;32m-> 4551\u001b[0m         new_axis \u001b[38;5;241m=\u001b[39m \u001b[43maxis\u001b[49m\u001b[38;5;241;43m.\u001b[39;49m\u001b[43mdrop\u001b[49m\u001b[43m(\u001b[49m\u001b[43mlabels\u001b[49m\u001b[43m,\u001b[49m\u001b[43m \u001b[49m\u001b[43merrors\u001b[49m\u001b[38;5;241;43m=\u001b[39;49m\u001b[43merrors\u001b[49m\u001b[43m)\u001b[49m\n\u001b[1;32m   4552\u001b[0m     indexer \u001b[38;5;241m=\u001b[39m axis\u001b[38;5;241m.\u001b[39mget_indexer(new_axis)\n\u001b[1;32m   4554\u001b[0m \u001b[38;5;66;03m# Case for non-unique axis\u001b[39;00m\n\u001b[1;32m   4555\u001b[0m \u001b[38;5;28;01melse\u001b[39;00m:\n",
      "File \u001b[0;32m~/opt/anaconda3/envs/run_maup/lib/python3.8/site-packages/pandas/core/indexes/base.py:6972\u001b[0m, in \u001b[0;36mIndex.drop\u001b[0;34m(self, labels, errors)\u001b[0m\n\u001b[1;32m   6970\u001b[0m \u001b[38;5;28;01mif\u001b[39;00m mask\u001b[38;5;241m.\u001b[39many():\n\u001b[1;32m   6971\u001b[0m     \u001b[38;5;28;01mif\u001b[39;00m errors \u001b[38;5;241m!=\u001b[39m \u001b[38;5;124m\"\u001b[39m\u001b[38;5;124mignore\u001b[39m\u001b[38;5;124m\"\u001b[39m:\n\u001b[0;32m-> 6972\u001b[0m         \u001b[38;5;28;01mraise\u001b[39;00m \u001b[38;5;167;01mKeyError\u001b[39;00m(\u001b[38;5;124mf\u001b[39m\u001b[38;5;124m\"\u001b[39m\u001b[38;5;132;01m{\u001b[39;00m\u001b[38;5;28mlist\u001b[39m(labels[mask])\u001b[38;5;132;01m}\u001b[39;00m\u001b[38;5;124m not found in axis\u001b[39m\u001b[38;5;124m\"\u001b[39m)\n\u001b[1;32m   6973\u001b[0m     indexer \u001b[38;5;241m=\u001b[39m indexer[\u001b[38;5;241m~\u001b[39mmask]\n\u001b[1;32m   6974\u001b[0m \u001b[38;5;28;01mreturn\u001b[39;00m \u001b[38;5;28mself\u001b[39m\u001b[38;5;241m.\u001b[39mdelete(indexer)\n",
      "\u001b[0;31mKeyError\u001b[0m: \"['_merge'] not found in axis\""
     ]
    }
   ],
   "source": [
    "joined_17.drop(\"_merge\", axis = 1, inplace = True)\n",
    "joined_18.drop(\"_merge\", axis = 1, inplace = True)\n",
    "#joined_19.drop(\"_merge\", axis = 1, inplace = True)\n",
    "joined_20.drop(\"_merge\", axis = 1, inplace = True)\n",
    "joined_23.drop(\"_merge\", axis = 1, inplace = True)"
   ]
  },
  {
   "cell_type": "code",
   "execution_count": 90,
   "id": "ebd029d6",
   "metadata": {},
   "outputs": [
    {
     "data": {
      "text/html": [
       "<div>\n",
       "<style scoped>\n",
       "    .dataframe tbody tr th:only-of-type {\n",
       "        vertical-align: middle;\n",
       "    }\n",
       "\n",
       "    .dataframe tbody tr th {\n",
       "        vertical-align: top;\n",
       "    }\n",
       "\n",
       "    .dataframe thead th {\n",
       "        text-align: right;\n",
       "    }\n",
       "</style>\n",
       "<table border=\"1\" class=\"dataframe\">\n",
       "  <thead>\n",
       "    <tr style=\"text-align: right;\">\n",
       "      <th></th>\n",
       "      <th>VTDST10</th>\n",
       "      <th>NAME10</th>\n",
       "      <th>geometry</th>\n",
       "      <th>Precinct</th>\n",
       "      <th>G17TREDEDW</th>\n",
       "      <th>G17TRERSCH</th>\n",
       "      <th>State</th>\n",
       "    </tr>\n",
       "  </thead>\n",
       "  <tbody>\n",
       "    <tr>\n",
       "      <th>0</th>\n",
       "      <td>0151</td>\n",
       "      <td>Precinct 151</td>\n",
       "      <td>POLYGON ((-90.24380 30.35844, -90.24378 30.355...</td>\n",
       "      <td>0151</td>\n",
       "      <td>41</td>\n",
       "      <td>298</td>\n",
       "      <td>LA</td>\n",
       "    </tr>\n",
       "    <tr>\n",
       "      <th>1</th>\n",
       "      <td>0124</td>\n",
       "      <td>Precinct 124</td>\n",
       "      <td>POLYGON ((-90.24413 30.43620, -90.24392 30.416...</td>\n",
       "      <td>0124</td>\n",
       "      <td>21</td>\n",
       "      <td>146</td>\n",
       "      <td>LA</td>\n",
       "    </tr>\n",
       "    <tr>\n",
       "      <th>2</th>\n",
       "      <td>0074</td>\n",
       "      <td>Precinct 74</td>\n",
       "      <td>POLYGON ((-90.40538 30.42872, -90.40538 30.428...</td>\n",
       "      <td>0074</td>\n",
       "      <td>66</td>\n",
       "      <td>171</td>\n",
       "      <td>LA</td>\n",
       "    </tr>\n",
       "    <tr>\n",
       "      <th>3</th>\n",
       "      <td>0071</td>\n",
       "      <td>Precinct 71</td>\n",
       "      <td>POLYGON ((-90.43175 30.40726, -90.43173 30.407...</td>\n",
       "      <td>0071</td>\n",
       "      <td>79</td>\n",
       "      <td>143</td>\n",
       "      <td>LA</td>\n",
       "    </tr>\n",
       "    <tr>\n",
       "      <th>4</th>\n",
       "      <td>149A</td>\n",
       "      <td>Precinct 149A</td>\n",
       "      <td>POLYGON ((-90.43044 30.40307, -90.42984 30.401...</td>\n",
       "      <td>149A</td>\n",
       "      <td>11</td>\n",
       "      <td>63</td>\n",
       "      <td>LA</td>\n",
       "    </tr>\n",
       "    <tr>\n",
       "      <th>...</th>\n",
       "      <td>...</td>\n",
       "      <td>...</td>\n",
       "      <td>...</td>\n",
       "      <td>...</td>\n",
       "      <td>...</td>\n",
       "      <td>...</td>\n",
       "      <td>...</td>\n",
       "    </tr>\n",
       "    <tr>\n",
       "      <th>79</th>\n",
       "      <td>0145</td>\n",
       "      <td>Precinct 145</td>\n",
       "      <td>POLYGON ((-90.36324 30.43916, -90.36377 30.439...</td>\n",
       "      <td>0145</td>\n",
       "      <td>65</td>\n",
       "      <td>329</td>\n",
       "      <td>LA</td>\n",
       "    </tr>\n",
       "    <tr>\n",
       "      <th>80</th>\n",
       "      <td>0143</td>\n",
       "      <td>Precinct 143</td>\n",
       "      <td>POLYGON ((-90.39808 30.47882, -90.40424 30.478...</td>\n",
       "      <td>0143</td>\n",
       "      <td>82</td>\n",
       "      <td>225</td>\n",
       "      <td>LA</td>\n",
       "    </tr>\n",
       "    <tr>\n",
       "      <th>81</th>\n",
       "      <td>0108</td>\n",
       "      <td>Precinct 108</td>\n",
       "      <td>POLYGON ((-90.31580 30.87925, -90.31578 30.879...</td>\n",
       "      <td>0108</td>\n",
       "      <td>34</td>\n",
       "      <td>108</td>\n",
       "      <td>LA</td>\n",
       "    </tr>\n",
       "    <tr>\n",
       "      <th>82</th>\n",
       "      <td>0110</td>\n",
       "      <td>Precinct 110</td>\n",
       "      <td>POLYGON ((-90.29047 30.81936, -90.29050 30.819...</td>\n",
       "      <td>0110</td>\n",
       "      <td>33</td>\n",
       "      <td>146</td>\n",
       "      <td>LA</td>\n",
       "    </tr>\n",
       "    <tr>\n",
       "      <th>83</th>\n",
       "      <td>0001</td>\n",
       "      <td>Precinct 1</td>\n",
       "      <td>POLYGON ((-90.52421 30.93667, -90.52422 30.936...</td>\n",
       "      <td>0001</td>\n",
       "      <td>36</td>\n",
       "      <td>33</td>\n",
       "      <td>LA</td>\n",
       "    </tr>\n",
       "  </tbody>\n",
       "</table>\n",
       "<p>84 rows × 7 columns</p>\n",
       "</div>"
      ],
      "text/plain": [
       "   VTDST10         NAME10                                           geometry  \\\n",
       "0     0151   Precinct 151  POLYGON ((-90.24380 30.35844, -90.24378 30.355...   \n",
       "1     0124   Precinct 124  POLYGON ((-90.24413 30.43620, -90.24392 30.416...   \n",
       "2     0074    Precinct 74  POLYGON ((-90.40538 30.42872, -90.40538 30.428...   \n",
       "3     0071    Precinct 71  POLYGON ((-90.43175 30.40726, -90.43173 30.407...   \n",
       "4     149A  Precinct 149A  POLYGON ((-90.43044 30.40307, -90.42984 30.401...   \n",
       "..     ...            ...                                                ...   \n",
       "79    0145   Precinct 145  POLYGON ((-90.36324 30.43916, -90.36377 30.439...   \n",
       "80    0143   Precinct 143  POLYGON ((-90.39808 30.47882, -90.40424 30.478...   \n",
       "81    0108   Precinct 108  POLYGON ((-90.31580 30.87925, -90.31578 30.879...   \n",
       "82    0110   Precinct 110  POLYGON ((-90.29047 30.81936, -90.29050 30.819...   \n",
       "83    0001     Precinct 1  POLYGON ((-90.52421 30.93667, -90.52422 30.936...   \n",
       "\n",
       "   Precinct  G17TREDEDW  G17TRERSCH State  \n",
       "0      0151          41         298    LA  \n",
       "1      0124          21         146    LA  \n",
       "2      0074          66         171    LA  \n",
       "3      0071          79         143    LA  \n",
       "4      149A          11          63    LA  \n",
       "..      ...         ...         ...   ...  \n",
       "79     0145          65         329    LA  \n",
       "80     0143          82         225    LA  \n",
       "81     0108          34         108    LA  \n",
       "82     0110          33         146    LA  \n",
       "83     0001          36          33    LA  \n",
       "\n",
       "[84 rows x 7 columns]"
      ]
     },
     "execution_count": 90,
     "metadata": {},
     "output_type": "execute_result"
    }
   ],
   "source": [
    "joined_17"
   ]
  },
  {
   "cell_type": "code",
   "execution_count": 83,
   "id": "83369559",
   "metadata": {},
   "outputs": [],
   "source": [
    "joined_17.rename(columns = {\"Derrick Edwards (DEM)\":\"G17TREDEDW\",\n",
    "                           \"John Schroder (REP)\":\"G17TRERSCH\"}, inplace = True)"
   ]
  },
  {
   "cell_type": "code",
   "execution_count": 84,
   "id": "ed4b4868",
   "metadata": {},
   "outputs": [
    {
     "data": {
      "text/plain": [
       "Index(['UNIQUE_ID', 'geometry', 'Precinct', 'Benjamin Barnes (IND)',\n",
       "       'Patrick Henry \"Dat\" Barthel (REP)', 'Daniel M. \"Danny\" Cole (DEM)',\n",
       "       'Xavier Ellis (REP)', '\"Keitron\" Gagnon (NOPTY)',\n",
       "       'Sharon W. Hewitt (REP)', 'Jeffery Istre (IND)', '\"Xan\" John (REP)',\n",
       "       '\"Jeff\" Landry (REP)', 'Hunter Lundy (IND)', 'Richard Nelson (REP)',\n",
       "       'John Schroder (REP)', 'Frank Scurlock (IND)',\n",
       "       'Stephen \"Wags\" Waguespack (REP)', 'Shawn D. Wilson (DEM)', 'match',\n",
       "       'State'],\n",
       "      dtype='object')"
      ]
     },
     "execution_count": 84,
     "metadata": {},
     "output_type": "execute_result"
    }
   ],
   "source": [
    "joined_23.columns"
   ]
  },
  {
   "cell_type": "code",
   "execution_count": 85,
   "id": "ddbc2a25",
   "metadata": {},
   "outputs": [],
   "source": [
    "cand_rename_dict = {'Benjamin Barnes (IND)':'G23GOVIBAR',\n",
    "'Patrick Henry \"Dat\" Barthel (REP)':'G23GOVRBAR',\n",
    "'Daniel M. \"Danny\" Cole (DEM)':'G23GOVDCOL',\n",
    "'Xavier Ellis (REP)':'G23GOVRELL',\n",
    "'\"Keitron\" Gagnon (NOPTY)':'G23GOVNGAG',\n",
    "'Sharon W. Hewitt (REP)':'G23GOVRHEW',\n",
    "'Jeffery Istre (IND)':'G23GOVIIST',\n",
    "'\"Xan\" John (REP)':'G23GOVRJOH',\n",
    "'\"Jeff\" Landry (REP)':'G23GOVRLAN',\n",
    "'Hunter Lundy (IND)':'G23GOVILUN',\n",
    "'Richard Nelson (REP)':'G23GOVRNEL',\n",
    "'John Schroder (REP)':'G23GOVRSCH',\n",
    "'Frank Scurlock (IND)':'G23GOVISCU',\n",
    "'Stephen \"Wags\" Waguespack (REP)':'G23GOVRWAG',\n",
    "'Shawn D. Wilson (DEM)':'G23GOVDWIL'}"
   ]
  },
  {
   "cell_type": "code",
   "execution_count": 86,
   "id": "2410572a",
   "metadata": {},
   "outputs": [],
   "source": [
    "joined_23.rename(columns = cand_rename_dict, inplace = True)"
   ]
  },
  {
   "cell_type": "code",
   "execution_count": null,
   "id": "54ed73f3",
   "metadata": {},
   "outputs": [],
   "source": [
    "COUNTY_PATH = \"\""
   ]
  },
  {
   "cell_type": "code",
   "execution_count": 97,
   "id": "cd499e45",
   "metadata": {},
   "outputs": [],
   "source": [
    "la_counties = gp.read_file(COUNTY_PATH)"
   ]
  },
  {
   "cell_type": "code",
   "execution_count": 101,
   "id": "f6ee2be8",
   "metadata": {},
   "outputs": [],
   "source": [
    "la_counties = la_counties[la_counties[\"COUNTYFP20\"]!=\"105\"]"
   ]
  },
  {
   "cell_type": "code",
   "execution_count": 105,
   "id": "3f356bae",
   "metadata": {},
   "outputs": [],
   "source": [
    "la_counties = la_counties[[\"COUNTYFP20\",\"geometry\"]]"
   ]
  },
  {
   "cell_type": "code",
   "execution_count": 119,
   "id": "abb08413",
   "metadata": {},
   "outputs": [],
   "source": [
    "la_counties_17 = gp.overlay(la_counties, joined_17, how = \"difference\")\n",
    "la_counties_18 = gp.overlay(la_counties, joined_18, how = \"difference\")\n",
    "la_counties_19 = gp.overlay(la_counties, joined_19, how = \"difference\")\n",
    "la_counties_20 = gp.overlay(la_counties, joined_20, how = \"difference\")\n",
    "la_counties_23 = gp.overlay(la_counties, joined_23, how = \"difference\")"
   ]
  },
  {
   "cell_type": "code",
   "execution_count": 120,
   "id": "81a50c5f",
   "metadata": {},
   "outputs": [],
   "source": [
    "joined_17 = gp.GeoDataFrame(pd.concat([la_counties_17, joined_17]))\n",
    "joined_18 = gp.GeoDataFrame(pd.concat([la_counties_18, joined_18]))\n",
    "joined_19 = gp.GeoDataFrame(pd.concat([la_counties_19, joined_19]))\n",
    "joined_20 = gp.GeoDataFrame(pd.concat([la_counties_20, joined_20]))\n",
    "joined_23 = gp.GeoDataFrame(pd.concat([la_counties_23, joined_23]))"
   ]
  },
  {
   "cell_type": "code",
   "execution_count": 121,
   "id": "d1c90c10",
   "metadata": {},
   "outputs": [
    {
     "data": {
      "text/plain": [
       "<AxesSubplot: >"
      ]
     },
     "execution_count": 121,
     "metadata": {},
     "output_type": "execute_result"
    },
    {
     "data": {
      "image/png": "[encoded data removed]",
      "text/plain": [
       "<Figure size 640x480 with 1 Axes>"
      ]
     },
     "metadata": {},
     "output_type": "display_data"
    }
   ],
   "source": [
    "joined_19.plot()"
   ]
  },
  {
   "cell_type": "code",
   "execution_count": 122,
   "id": "707d59af",
   "metadata": {},
   "outputs": [
    {
     "data": {
      "text/plain": [
       "<AxesSubplot: >"
      ]
     },
     "execution_count": 122,
     "metadata": {},
     "output_type": "execute_result"
    },
    {
     "data": {
      "image/png": "[encoded data removed]",
      "text/plain": [
       "<Figure size 640x480 with 1 Axes>"
      ]
     },
     "metadata": {},
     "output_type": "display_data"
    }
   ],
   "source": [
    "joined_20.plot()"
   ]
  },
  {
   "cell_type": "code",
   "execution_count": 123,
   "id": "21489346",
   "metadata": {},
   "outputs": [
    {
     "data": {
      "text/plain": [
       "<AxesSubplot: >"
      ]
     },
     "execution_count": 123,
     "metadata": {},
     "output_type": "execute_result"
    },
    {
     "data": {
      "image/png": "[encoded data removed]",
      "text/plain": [
       "<Figure size 640x480 with 1 Axes>"
      ]
     },
     "metadata": {},
     "output_type": "display_data"
    }
   ],
   "source": [
    "joined_23.plot()"
   ]
  },
  {
   "cell_type": "code",
   "execution_count": 125,
   "id": "fe2fc664",
   "metadata": {},
   "outputs": [
    {
     "name": "stderr",
     "output_type": "stream",
     "text": [
      "/Users/peterhorton/opt/anaconda3/envs/run_maup/lib/python3.8/site-packages/geopandas/io/file.py:299: FutureWarning: pandas.Int64Index is deprecated and will be removed from pandas in a future version. Use pandas.Index with the appropriate dtype instead.\n",
      "  pd.Int64Index,\n",
      "/Users/peterhorton/opt/anaconda3/envs/run_maup/lib/python3.8/site-packages/geopandas/io/file.py:299: FutureWarning: pandas.Int64Index is deprecated and will be removed from pandas in a future version. Use pandas.Index with the appropriate dtype instead.\n",
      "  pd.Int64Index,\n",
      "/var/folders/1t/0q4w6hm92mg_zxd84dfxmq3m0000gn/T/ipykernel_20137/3492533269.py:2: UserWarning: Column names longer than 10 characters will be truncated when saved to ESRI Shapefile.\n",
      "  joined_18.to_file(\"./joined_18/joined_18.shp\")\n",
      "/Users/peterhorton/opt/anaconda3/envs/run_maup/lib/python3.8/site-packages/geopandas/io/file.py:299: FutureWarning: pandas.Int64Index is deprecated and will be removed from pandas in a future version. Use pandas.Index with the appropriate dtype instead.\n",
      "  pd.Int64Index,\n",
      "/Users/peterhorton/opt/anaconda3/envs/run_maup/lib/python3.8/site-packages/geopandas/io/file.py:299: FutureWarning: pandas.Int64Index is deprecated and will be removed from pandas in a future version. Use pandas.Index with the appropriate dtype instead.\n",
      "  pd.Int64Index,\n",
      "/var/folders/1t/0q4w6hm92mg_zxd84dfxmq3m0000gn/T/ipykernel_20137/3492533269.py:4: UserWarning: Column names longer than 10 characters will be truncated when saved to ESRI Shapefile.\n",
      "  joined_20.to_file(\"./joined_20/joined_20.shp\")\n",
      "/Users/peterhorton/opt/anaconda3/envs/run_maup/lib/python3.8/site-packages/geopandas/io/file.py:299: FutureWarning: pandas.Int64Index is deprecated and will be removed from pandas in a future version. Use pandas.Index with the appropriate dtype instead.\n",
      "  pd.Int64Index,\n"
     ]
    }
   ],
   "source": [
    "joined_17.to_file(\"./joined_17/joined_17.shp\")\n",
    "joined_18.to_file(\"./joined_18/joined_18.shp\")\n",
    "joined_19.to_file(\"./joined_19/joined_19.shp\")\n",
    "joined_20.to_file(\"./joined_20/joined_20.shp\")\n",
    "joined_23.to_file(\"./joined_23/joined_23.shp\")"
   ]
  }
 ],
 "metadata": {
  "kernelspec": {
   "display_name": "Python 3 (ipykernel)",
   "language": "python",
   "name": "python3"
  },
  "language_info": {
   "codemirror_mode": {
    "name": "ipython",
    "version": 3
   },
   "file_extension": ".py",
   "mimetype": "text/x-python",
   "name": "python",
   "nbconvert_exporter": "python",
   "pygments_lexer": "ipython3",
   "version": "3.8.13"
  }
 },
 "nbformat": 4,
 "nbformat_minor": 5
}
