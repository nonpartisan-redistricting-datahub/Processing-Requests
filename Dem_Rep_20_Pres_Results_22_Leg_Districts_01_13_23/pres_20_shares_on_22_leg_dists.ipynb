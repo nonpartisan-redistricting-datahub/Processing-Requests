{
 "cells": [
  {
   "cell_type": "code",
   "execution_count": 1,
   "id": "32887706",
   "metadata": {},
   "outputs": [],
   "source": [
    "import geopandas as gp\n",
    "import pandas as pd"
   ]
  },
  {
   "cell_type": "markdown",
   "id": "eafc7b22",
   "metadata": {},
   "source": [
    "# 2020 Presidential Democratic & Republican Vote Share Aggregated to 2022 Legislative Districts\n",
    "\n",
    "## Background:\n",
    "- Received a request wanting % Democratic vote share on the new legislative districts\n",
    "\n",
    "## Approach:\n",
    "- Combine all of the block-level VEST disaggregated 2020 general election results\n",
    "- Filter down to the votes for just Biden and Trump\n",
    "- Join to the national BAF\n",
    "- Aggregate into new districts\n",
    "- Create the vote share percentages\n",
    "\n",
    "## Links to datasets used:\n",
    "[2022 National Block Assignment File](https://redistrictingdatahub.org/dataset/national-block-assignment-file-for-2022-state-legislative-and-congressional-districts/)\n",
    "\n",
    "Block-level 2020 election results (multiple links)\n",
    "\n",
    "\n",
    "For a full 'raw-from-source' file, contact info@redistrictingdatahub.org"
   ]
  },
  {
   "cell_type": "markdown",
   "id": "8df1cdf8",
   "metadata": {},
   "source": [
    "### Load and Clean Block-Level Votes and District Assignments"
   ]
  },
  {
   "cell_type": "code",
   "execution_count": 2,
   "id": "bf7ffb8f",
   "metadata": {},
   "outputs": [
    {
     "name": "stderr",
     "output_type": "stream",
     "text": [
      "/var/folders/1t/0q4w6hm92mg_zxd84dfxmq3m0000gn/T/ipykernel_6227/4070597731.py:3: DtypeWarning: Columns (3,4,5) have mixed types. Specify dtype option on import or set low_memory=False.\n",
      "  national_baf = pd.read_csv(\"./raw-from-source/national_baf_boundary/national_baf_boundary.csv\")\n"
     ]
    }
   ],
   "source": [
    "# Note: Created this file by combining our disaggregated 2020 VEST files\n",
    "national_block_election = pd.read_csv(\"./raw-from-source/national_block_election.csv\")\n",
    "national_baf = pd.read_csv(\"./raw-from-source/national_baf_boundary/national_baf_boundary.csv\")\n",
    "\n",
    "national_baf[\"GEOID20\"] = national_baf[\"GEOID20\"].astype(str).str.zfill(15)\n",
    "national_block_election[\"GEOID20\"] = national_block_election[\"GEOID20\"].astype(str).str.zfill(15)"
   ]
  },
  {
   "cell_type": "markdown",
   "id": "b099805d",
   "metadata": {},
   "source": [
    "### Join Files Together, Check Merge"
   ]
  },
  {
   "cell_type": "code",
   "execution_count": 3,
   "id": "4512e074",
   "metadata": {},
   "outputs": [
    {
     "data": {
      "text/plain": [
       "both          8126956\n",
       "left_only           0\n",
       "right_only          0\n",
       "Name: _merge, dtype: int64"
      ]
     },
     "execution_count": 3,
     "metadata": {},
     "output_type": "execute_result"
    }
   ],
   "source": [
    "combined = pd.merge(national_baf, national_block_election, how = \"outer\", on = \"GEOID20\", indicator = True)\n",
    "combined[\"_merge\"].value_counts()"
   ]
  },
  {
   "cell_type": "markdown",
   "id": "141361d0",
   "metadata": {},
   "source": [
    "### Aggregate to Districts, Filter Out \"Unassigned Areas\", Create Vote Shares"
   ]
  },
  {
   "cell_type": "code",
   "execution_count": 5,
   "id": "aef70ab8",
   "metadata": {},
   "outputs": [],
   "source": [
    "combined[\"CONG-ID\"] = combined[\"STATE\"] + \"-\" + combined[\"CONG\"].astype(str)\n",
    "combined_cong = combined.groupby(['STATE',\"CONG\",\"CONG-ID\"])[['P0010001', 'VAP_MOD', 'G20PRERTRU', 'G20PREDBID']].sum()\n",
    "combined_cong.reset_index(inplace = True, drop = False)"
   ]
  },
  {
   "cell_type": "code",
   "execution_count": 7,
   "id": "15ad8644",
   "metadata": {},
   "outputs": [],
   "source": [
    "combined[\"SLDL-ID\"] = combined[\"STATE\"] + \"-\" + combined[\"SLDL\"].astype(str)\n",
    "combined_SLDL = combined.groupby(['STATE',\"SLDL\",\"SLDL-ID\"])[['P0010001', 'VAP_MOD', 'G20PRERTRU', 'G20PREDBID']].sum()\n",
    "combined_SLDL.reset_index(inplace = True, drop = False)"
   ]
  },
  {
   "cell_type": "code",
   "execution_count": 8,
   "id": "c352b3b0",
   "metadata": {},
   "outputs": [],
   "source": [
    "combined[\"SLDU-ID\"] = combined[\"STATE\"] + \"-\" + combined[\"SLDU\"].astype(str)\n",
    "combined_SLDU = combined.groupby(['STATE',\"SLDU\",\"SLDU-ID\"])[['P0010001', 'VAP_MOD', 'G20PRERTRU', 'G20PREDBID']].sum()\n",
    "combined_SLDU.reset_index(inplace = True, drop = False)"
   ]
  },
  {
   "cell_type": "code",
   "execution_count": 9,
   "id": "a3141b2a",
   "metadata": {},
   "outputs": [],
   "source": [
    "combined_SLDL = combined_SLDL[~(combined_SLDL[\"SLDL-ID\"].str.contains(\"NO VALUE\"))&~(combined_SLDL[\"SLDL-ID\"].str.contains(\"NO SLDL\"))]\n",
    "combined_SLDU = combined_SLDU[~(combined_SLDU[\"SLDU-ID\"].str.contains(\"NO VALUE\"))&~(combined_SLDU[\"SLDU-ID\"].str.contains(\"NO SLDU\"))]\n",
    "combined_cong = combined_cong[~combined_cong[\"CONG-ID\"].str.contains(\"NO VALUE\")]"
   ]
  },
  {
   "cell_type": "code",
   "execution_count": 10,
   "id": "8265bdad",
   "metadata": {},
   "outputs": [],
   "source": [
    "combined_SLDL[\"DEM_pct\"] = round(combined_SLDL[\"G20PREDBID\"] / (combined_SLDL[\"G20PRERTRU\"] + combined_SLDL[\"G20PREDBID\"]),3) \n",
    "combined_SLDL[\"REP_pct\"] = round(combined_SLDL[\"G20PRERTRU\"] / (combined_SLDL[\"G20PRERTRU\"] + combined_SLDL[\"G20PREDBID\"]),3)\n",
    "\n",
    "combined_SLDU[\"DEM_pct\"] = round(combined_SLDU[\"G20PREDBID\"] / (combined_SLDU[\"G20PRERTRU\"] + combined_SLDU[\"G20PREDBID\"]),3)\n",
    "combined_SLDU[\"REP_pct\"] = round(combined_SLDU[\"G20PRERTRU\"] / (combined_SLDU[\"G20PRERTRU\"] + combined_SLDU[\"G20PREDBID\"]),3)\n",
    "\n",
    "combined_cong[\"DEM_pct\"] = round(combined_cong[\"G20PREDBID\"] / (combined_cong[\"G20PRERTRU\"] + combined_cong[\"G20PREDBID\"]),3)\n",
    "combined_cong[\"REP_pct\"] = round(combined_cong[\"G20PRERTRU\"] / (combined_cong[\"G20PRERTRU\"] + combined_cong[\"G20PREDBID\"]),3)\n"
   ]
  },
  {
   "cell_type": "markdown",
   "id": "955367cb",
   "metadata": {},
   "source": [
    "### Export to csv"
   ]
  },
  {
   "cell_type": "code",
   "execution_count": 12,
   "id": "bed1a0aa",
   "metadata": {},
   "outputs": [],
   "source": [
    "combined_cong.to_csv('./2022_cong_results.csv', index = False)\n",
    "combined_SLDU.to_csv('./2022_sldu_results.csv', index = False)\n",
    "combined_SLDL.to_csv('./2022_sldl_results.csv', index = False)"
   ]
  }
 ],
 "metadata": {
  "kernelspec": {
   "display_name": "Python 3 (ipykernel)",
   "language": "python",
   "name": "python3"
  },
  "language_info": {
   "codemirror_mode": {
    "name": "ipython",
    "version": 3
   },
   "file_extension": ".py",
   "mimetype": "text/x-python",
   "name": "python",
   "nbconvert_exporter": "python",
   "pygments_lexer": "ipython3",
   "version": "3.8.13"
  }
 },
 "nbformat": 4,
 "nbformat_minor": 5
}
