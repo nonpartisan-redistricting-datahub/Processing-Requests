{
 "cells": [
  {
   "cell_type": "code",
   "execution_count": 1,
   "id": "3426b49d",
   "metadata": {},
   "outputs": [],
   "source": [
    "import geopandas as gp\n",
    "import pandas as pd\n",
    "import os"
   ]
  },
  {
   "cell_type": "markdown",
   "id": "4bbc873e",
   "metadata": {},
   "source": [
    "# 2020 Presidential Democratic & Republican Vote Share Aggregated to 2022 Legislative Districts\n",
    "\n",
    "## Background:\n",
    "- Received a request wanting % Democratic vote share on the new legislative districts\n",
    "\n",
    "## Approach:\n",
    "- Combine all of the block-level VEST disaggregated 2020 general election results\n",
    "- Filter down to the votes for just Biden and Trump\n",
    "- Join to the national BAF\n",
    "- Aggregate to new districts\n",
    "- Create the vote share percentages\n",
    "\n",
    "## Links to datasets used:\n",
    "[2022 National Block Assignment File](https://redistrictingdatahub.org/dataset/national-block-assignment-file-for-2022-state-legislative-and-congressional-districts/)\n",
    "\n",
    "Block-level 2020 election results (multiple links)\n",
    "\n",
    "For a full 'raw-from-source' file, contact info@redistrictingdatahub.org"
   ]
  },
  {
   "cell_type": "markdown",
   "id": "12536a23",
   "metadata": {},
   "source": [
    "### Load and Clean Block-Level Votes and District Assignments"
   ]
  },
  {
   "cell_type": "code",
   "execution_count": 2,
   "id": "bf7ffb8f",
   "metadata": {},
   "outputs": [
    {
     "name": "stderr",
     "output_type": "stream",
     "text": [
      "/var/folders/1t/0q4w6hm92mg_zxd84dfxmq3m0000gn/T/ipykernel_6835/4070597731.py:3: DtypeWarning: Columns (3,4,5) have mixed types. Specify dtype option on import or set low_memory=False.\n",
      "  national_baf = pd.read_csv(\"./raw-from-source/national_baf_boundary/national_baf_boundary.csv\")\n"
     ]
    }
   ],
   "source": [
    "# Note: Created this file by combining our disaggregated 2020 VEST files\n",
    "national_block_election = pd.read_csv(\"./raw-from-source/national_block_election.csv\")\n",
    "national_baf = pd.read_csv(\"./raw-from-source/national_baf_boundary/national_baf_boundary.csv\")\n",
    "\n",
    "national_baf[\"GEOID20\"] = national_baf[\"GEOID20\"].astype(str).str.zfill(15)\n",
    "national_block_election[\"GEOID20\"] = national_block_election[\"GEOID20\"].astype(str).str.zfill(15)"
   ]
  },
  {
   "cell_type": "markdown",
   "id": "92089206",
   "metadata": {},
   "source": [
    "### Join Files Together, Check Merge"
   ]
  },
  {
   "cell_type": "code",
   "execution_count": 3,
   "id": "4512e074",
   "metadata": {},
   "outputs": [
    {
     "data": {
      "text/plain": [
       "both          8126956\n",
       "left_only           0\n",
       "right_only          0\n",
       "Name: _merge, dtype: int64"
      ]
     },
     "execution_count": 3,
     "metadata": {},
     "output_type": "execute_result"
    }
   ],
   "source": [
    "combined = pd.merge(national_baf, national_block_election, how = \"outer\", on = \"GEOID20\", indicator = True)\n",
    "combined[\"_merge\"].value_counts()"
   ]
  },
  {
   "cell_type": "markdown",
   "id": "c276c0f9",
   "metadata": {},
   "source": [
    "### Aggregate to Districts, Filter Out \"Unassigned Areas\", Create Vote Shares"
   ]
  },
  {
   "cell_type": "code",
   "execution_count": 4,
   "id": "aef70ab8",
   "metadata": {},
   "outputs": [],
   "source": [
    "combined[\"CONG-ID\"] = combined[\"STATE\"] + \"-\" + combined[\"CONG\"].astype(str)\n",
    "combined_cong = combined.groupby(['STATE',\"CONG\",\"CONG-ID\"])[['P0010001', 'VAP_MOD', 'G20PRERTRU', 'G20PREDBID']].sum()\n",
    "combined_cong.reset_index(inplace = True, drop = False)"
   ]
  },
  {
   "cell_type": "code",
   "execution_count": 5,
   "id": "15ad8644",
   "metadata": {},
   "outputs": [],
   "source": [
    "combined[\"SLDL-ID\"] = combined[\"STATE\"] + \"-\" + combined[\"SLDL\"].astype(str)\n",
    "combined_SLDL = combined.groupby(['STATE',\"SLDL\",\"SLDL-ID\"])[['P0010001', 'VAP_MOD', 'G20PRERTRU', 'G20PREDBID']].sum()\n",
    "combined_SLDL.reset_index(inplace = True, drop = False)"
   ]
  },
  {
   "cell_type": "code",
   "execution_count": 6,
   "id": "c352b3b0",
   "metadata": {},
   "outputs": [],
   "source": [
    "combined[\"SLDU-ID\"] = combined[\"STATE\"] + \"-\" + combined[\"SLDU\"].astype(str)\n",
    "combined_SLDU = combined.groupby(['STATE',\"SLDU\",\"SLDU-ID\"])[['P0010001', 'VAP_MOD', 'G20PRERTRU', 'G20PREDBID']].sum()\n",
    "combined_SLDU.reset_index(inplace = True, drop = False)"
   ]
  },
  {
   "cell_type": "code",
   "execution_count": 7,
   "id": "a3141b2a",
   "metadata": {},
   "outputs": [],
   "source": [
    "combined_SLDL = combined_SLDL[~(combined_SLDL[\"SLDL-ID\"].str.contains(\"NO VALUE\"))&~(combined_SLDL[\"SLDL-ID\"].str.contains(\"NO SLDL\"))]\n",
    "combined_SLDU = combined_SLDU[~(combined_SLDU[\"SLDU-ID\"].str.contains(\"NO VALUE\"))&~(combined_SLDU[\"SLDU-ID\"].str.contains(\"NO SLDU\"))]\n",
    "combined_cong = combined_cong[~combined_cong[\"CONG-ID\"].str.contains(\"NO VALUE\")]"
   ]
  },
  {
   "cell_type": "code",
   "execution_count": 8,
   "id": "8265bdad",
   "metadata": {},
   "outputs": [],
   "source": [
    "combined_SLDL[\"REP_pct\"] = round(combined_SLDL[\"G20PRERTRU\"] / (combined_SLDL[\"G20PRERTRU\"] + combined_SLDL[\"G20PREDBID\"]),3)\n",
    "combined_SLDL[\"DEM_pct\"] = round(combined_SLDL[\"G20PREDBID\"] / (combined_SLDL[\"G20PRERTRU\"] + combined_SLDL[\"G20PREDBID\"]),3) \n",
    "\n",
    "combined_SLDU[\"REP_pct\"] = round(combined_SLDU[\"G20PRERTRU\"] / (combined_SLDU[\"G20PRERTRU\"] + combined_SLDU[\"G20PREDBID\"]),3)\n",
    "combined_SLDU[\"DEM_pct\"] = round(combined_SLDU[\"G20PREDBID\"] / (combined_SLDU[\"G20PRERTRU\"] + combined_SLDU[\"G20PREDBID\"]),3)\n",
    "\n",
    "combined_cong[\"REP_pct\"] = round(combined_cong[\"G20PRERTRU\"] / (combined_cong[\"G20PRERTRU\"] + combined_cong[\"G20PREDBID\"]),3)\n",
    "combined_cong[\"DEM_pct\"] = round(combined_cong[\"G20PREDBID\"] / (combined_cong[\"G20PRERTRU\"] + combined_cong[\"G20PREDBID\"]),3)\n"
   ]
  },
  {
   "cell_type": "markdown",
   "id": "4f59f0bd",
   "metadata": {},
   "source": [
    "### Export to csv"
   ]
  },
  {
   "cell_type": "code",
   "execution_count": 9,
   "id": "bed1a0aa",
   "metadata": {},
   "outputs": [],
   "source": [
    "if not os.path.exists(\"./national_20_pres_dem_rep_vote_share_22_leg_boundary\"):\n",
    "    os.mkdir(\"./national_20_pres_dem_rep_vote_share_22_leg_boundary\")\n",
    "\n",
    "combined_cong.to_csv('./national_20_pres_dem_rep_vote_share_22_leg_boundary/2022_cong_results.csv', index = False)\n",
    "combined_SLDU.to_csv('./national_20_pres_dem_rep_vote_share_22_leg_boundary/2022_sldu_results.csv', index = False)\n",
    "combined_SLDL.to_csv('./national_20_pres_dem_rep_vote_share_22_leg_boundary/2022_sldl_results.csv', index = False)"
   ]
  },
  {
   "cell_type": "code",
   "execution_count": 11,
   "id": "a7b8936e",
   "metadata": {},
   "outputs": [],
   "source": [
    "fields_dict = {'STATE':\"State Abbreviation\",\n",
    "               'SLDL':\"State Legislative District (Lower House) Name or Number\",\n",
    "               'SLDU':\"State Legislative District (Upper House) Name or Number\",\n",
    "               'CONG':\"Congressional District Name or Number\",\n",
    "               'SLDL-ID':\"Unique State Legislative District (Lower House) ID\",\n",
    "               'SLDU-ID':\"Unique State Legislative District (Upper House) ID\",\n",
    "               'CONG-ID':\"Unique Congressional District ID\",\n",
    "               'P0010001':\"Total Population from 2020 Census\",\n",
    "               'VAP_MOD':\"Total Voting Age Population minus incarcerated adult population\",\n",
    "               'G20PRERTRU':\"Total 2020 Trump Votes\",\n",
    "               'G20PREDBID':\"Total 2020 Biden Votes\",\n",
    "               'DEM_pct':\"Pct 2020 Biden Votes\",\n",
    "               'REP_pct':\"Total 2020 Trump Votes\"}"
   ]
  },
  {
   "cell_type": "code",
   "execution_count": 12,
   "id": "71cf8fb6",
   "metadata": {},
   "outputs": [],
   "source": [
    "### Create README\n",
    "\n",
    "title = \"2020 Presidential Democratic & Republican Vote Share Aggregated to 2022 Legislative Districts\"\n",
    "retrieval_date = \"01/17/23\"\n",
    "fields_dict = fields_dict\n",
    "github_link = \"https://github.com/nonpartisan-redistricting-datahub/Processing-Requests/tree/main/Dem_Rep_20_Pres_Results_22_Leg_Districts_01_13_23\"\n",
    "file_folder = \"./national_20_pres_dem_rep_vote_share_22_leg_boundary/\""
   ]
  },
  {
   "cell_type": "code",
   "execution_count": 13,
   "id": "373ad35c",
   "metadata": {},
   "outputs": [],
   "source": [
    "def full_readme_text(title, retrieval_date, fields_dict, github_link):\n",
    "\n",
    "#First section of README\n",
    "    readme_p1 = '''{title}\\n\n",
    "## RDH Date Retrieval\n",
    "{retrieval_date}\n",
    "\n",
    "## Sources\n",
    "ADD SOURCE DATA HERE\n",
    "\n",
    "## Fields:\n",
    "'''.format(title = title, retrieval_date = retrieval_date)\n",
    "\n",
    "#Second section of README\n",
    "    fields_table = pd.DataFrame.from_dict(fields_dict.items())\n",
    "    fields_table.columns = [\"Field Name\", \"Description\"]\n",
    "    readme_p2 = fields_table.to_string(formatters={'Description':'{{:<{}s}}'.format(fields_table['Description'].str.len().max()).format, 'Field Name':'{{:<{}s}}'.format(fields_table['Field Name'].str.len().max()).format}, index=False, justify = \"left\")\n",
    "\n",
    "#Third section of README\n",
    "    readme_p3 = '''\\n\n",
    "## Processing Steps\n",
    "Visit the RDH GitHub and the processing script for this code [here]({github_link})\n",
    "\n",
    "Please direct questions related to processing this dataset to info@redistrictingdatahub.org.\n",
    "'''.format(github_link=github_link)\n",
    "    \n",
    "    full_readme = str(readme_p1)+str(readme_p2)+str(readme_p3)\n",
    "    return full_readme\n",
    "\n"
   ]
  },
  {
   "cell_type": "code",
   "execution_count": 14,
   "id": "82c35ddf",
   "metadata": {},
   "outputs": [],
   "source": [
    "with open(file_folder+\"README.txt\", 'w') as tf:\n",
    "        tf.write(full_readme_text(title, retrieval_date, fields_dict, github_link))"
   ]
  },
  {
   "cell_type": "code",
   "execution_count": null,
   "id": "961fc13e",
   "metadata": {},
   "outputs": [],
   "source": []
  }
 ],
 "metadata": {
  "kernelspec": {
   "display_name": "Python 3 (ipykernel)",
   "language": "python",
   "name": "python3"
  },
  "language_info": {
   "codemirror_mode": {
    "name": "ipython",
    "version": 3
   },
   "file_extension": ".py",
   "mimetype": "text/x-python",
   "name": "python",
   "nbconvert_exporter": "python",
   "pygments_lexer": "ipython3",
   "version": "3.8.13"
  }
 },
 "nbformat": 4,
 "nbformat_minor": 5
}
