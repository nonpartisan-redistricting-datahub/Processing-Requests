{
 "cells": [
  {
   "cell_type": "code",
   "execution_count": 1,
   "id": "9748e6ae-effd-4f6b-8e18-5d3d83f1d90e",
   "metadata": {},
   "outputs": [],
   "source": [
    "import os\n",
    "import pandas as pd\n",
    "import geopandas as gp\n",
    "from collections import Counter\n",
    "wd = os.path.join(os.getcwd(),'raw-from-source')"
   ]
  },
  {
   "cell_type": "markdown",
   "id": "c03dd840-3587-4b90-9c5d-6d5a7ac5c7bb",
   "metadata": {},
   "source": [
    "# Arkansas_2022_Primary_Tournout_2020_VTD_02_03_2023\n",
    "\n",
    "## Background:\n",
    "- We received a request for voter registration by party and voter turnout by primary contest (Republican and Democratic) for the 2022 Primary Election on May 24th, 2022. \n",
    "\n",
    "## Approach:\n",
    "- Load in individual level L2 voter file data for Arkansas, block shapefile, and VTD block assignment file.\n",
    "- Make point shapefile out of lat,long fields in voter file and spatial join with block shapefile.\n",
    "- Clean voter file block assignments for those that receive multiple assignments (falling on a line between two or more blocks) by selecting the first block in ascending order.\n",
    "- Join VTD BAF with individual level voter file data using block assignment.\n",
    "- Create a pivot table grouping by VTD assignment for party registration to create fields containing counts for each party\n",
    "- Repeat the pivot table process for ballot type in the 2022 primary.\n",
    "- Join the two pivot tables together and clean by renaming columns.\n",
    "- Provide statistics on the number of voters dropped in the aggregated file because they lack lat,long coordinates. \n",
    "- Export the file as a CSV.\n",
    "\n",
    "## Links to datasets used:\n",
    "- L2 Individaul Level Voter File for Arkansas 2022 Primary\n",
    "- [VTD Block Assignment file from the US Census](https://www2.census.gov/geo/docs/maps-data/data/baf2020/BlockAssign_ST05_AR.zip)\n",
    "- [Arkansas Block boundaries (2020)](https://redistrictingdatahub.org/dataset/arkansas-block-boundaries-2020/)\n",
    "\n",
    "For a 'raw-from-source' file containing block shapefile and VTD BAF, contact info@redistrictingdatahub.org. Individual level voter file data cannot be provided."
   ]
  },
  {
   "cell_type": "markdown",
   "id": "62344a14-11d4-4016-8e57-e24c211c5985",
   "metadata": {},
   "source": [
    "Read in individual level voter file data and create GEOID field"
   ]
  },
  {
   "cell_type": "code",
   "execution_count": 2,
   "id": "33b3e13d-e25b-4a32-9186-b6a39bbd702a",
   "metadata": {},
   "outputs": [],
   "source": [
    "df = pd.read_csv(os.path.join(wd,'ar_data.csv'))\n",
    "df['L2GEOID'] = df['geoid20'].apply(lambda x: '05'+str(str(x).zfill(13)))"
   ]
  },
  {
   "cell_type": "markdown",
   "id": "634c0c8b-0adf-4e30-bc57-4906fe6b6fbd",
   "metadata": {},
   "source": [
    "Read in block level shapefile for Arkansas "
   ]
  },
  {
   "cell_type": "code",
   "execution_count": 3,
   "id": "eec1cc79-fbc6-4314-9358-c4e43b7ff643",
   "metadata": {},
   "outputs": [
    {
     "data": {
      "text/html": [
       "<div>\n",
       "<style scoped>\n",
       "    .dataframe tbody tr th:only-of-type {\n",
       "        vertical-align: middle;\n",
       "    }\n",
       "\n",
       "    .dataframe tbody tr th {\n",
       "        vertical-align: top;\n",
       "    }\n",
       "\n",
       "    .dataframe thead th {\n",
       "        text-align: right;\n",
       "    }\n",
       "</style>\n",
       "<table border=\"1\" class=\"dataframe\">\n",
       "  <thead>\n",
       "    <tr style=\"text-align: right;\">\n",
       "      <th></th>\n",
       "      <th>COUNTYFP20</th>\n",
       "      <th>GEOID20</th>\n",
       "      <th>geometry</th>\n",
       "    </tr>\n",
       "  </thead>\n",
       "  <tbody>\n",
       "    <tr>\n",
       "      <th>0</th>\n",
       "      <td>051</td>\n",
       "      <td>050510117021003</td>\n",
       "      <td>POLYGON ((-93.05256 34.48813, -93.05255 34.488...</td>\n",
       "    </tr>\n",
       "    <tr>\n",
       "      <th>1</th>\n",
       "      <td>051</td>\n",
       "      <td>050510120011005</td>\n",
       "      <td>POLYGON ((-93.00858 34.68780, -93.00845 34.687...</td>\n",
       "    </tr>\n",
       "    <tr>\n",
       "      <th>2</th>\n",
       "      <td>099</td>\n",
       "      <td>050990902001031</td>\n",
       "      <td>POLYGON ((-93.38250 33.80097, -93.38165 33.801...</td>\n",
       "    </tr>\n",
       "    <tr>\n",
       "      <th>3</th>\n",
       "      <td>051</td>\n",
       "      <td>050510108002011</td>\n",
       "      <td>POLYGON ((-93.07098 34.51329, -93.07096 34.513...</td>\n",
       "    </tr>\n",
       "    <tr>\n",
       "      <th>4</th>\n",
       "      <td>051</td>\n",
       "      <td>050510110021007</td>\n",
       "      <td>POLYGON ((-93.14066 34.52243, -93.14063 34.522...</td>\n",
       "    </tr>\n",
       "  </tbody>\n",
       "</table>\n",
       "</div>"
      ],
      "text/plain": [
       "  COUNTYFP20          GEOID20  \\\n",
       "0        051  050510117021003   \n",
       "1        051  050510120011005   \n",
       "2        099  050990902001031   \n",
       "3        051  050510108002011   \n",
       "4        051  050510110021007   \n",
       "\n",
       "                                            geometry  \n",
       "0  POLYGON ((-93.05256 34.48813, -93.05255 34.488...  \n",
       "1  POLYGON ((-93.00858 34.68780, -93.00845 34.687...  \n",
       "2  POLYGON ((-93.38250 33.80097, -93.38165 33.801...  \n",
       "3  POLYGON ((-93.07098 34.51329, -93.07096 34.513...  \n",
       "4  POLYGON ((-93.14066 34.52243, -93.14063 34.522...  "
      ]
     },
     "execution_count": 3,
     "metadata": {},
     "output_type": "execute_result"
    }
   ],
   "source": [
    "b = gp.read_file(os.path.join(wd,'ar_b_2020_bound.shp'))\n",
    "b = b[['COUNTYFP20','GEOID20','geometry']]\n",
    "b.head()"
   ]
  },
  {
   "cell_type": "markdown",
   "id": "727ba4d0-22e1-40dc-a7b4-3bfbfa0d8121",
   "metadata": {},
   "source": [
    "Read in block to VTD assignment file and make unique field that combines county and VTD"
   ]
  },
  {
   "cell_type": "code",
   "execution_count": 4,
   "id": "118476e4-04cf-4728-b1f5-8a39fcc8cdf8",
   "metadata": {},
   "outputs": [
    {
     "data": {
      "text/html": [
       "<div>\n",
       "<style scoped>\n",
       "    .dataframe tbody tr th:only-of-type {\n",
       "        vertical-align: middle;\n",
       "    }\n",
       "\n",
       "    .dataframe tbody tr th {\n",
       "        vertical-align: top;\n",
       "    }\n",
       "\n",
       "    .dataframe thead th {\n",
       "        text-align: right;\n",
       "    }\n",
       "</style>\n",
       "<table border=\"1\" class=\"dataframe\">\n",
       "  <thead>\n",
       "    <tr style=\"text-align: right;\">\n",
       "      <th></th>\n",
       "      <th>GEOID20</th>\n",
       "      <th>VTD20</th>\n",
       "    </tr>\n",
       "  </thead>\n",
       "  <tbody>\n",
       "    <tr>\n",
       "      <th>0</th>\n",
       "      <td>050014801001000</td>\n",
       "      <td>001-000013</td>\n",
       "    </tr>\n",
       "    <tr>\n",
       "      <th>1</th>\n",
       "      <td>050014801001001</td>\n",
       "      <td>001-000013</td>\n",
       "    </tr>\n",
       "    <tr>\n",
       "      <th>2</th>\n",
       "      <td>050014801001002</td>\n",
       "      <td>001-000013</td>\n",
       "    </tr>\n",
       "    <tr>\n",
       "      <th>3</th>\n",
       "      <td>050014801001003</td>\n",
       "      <td>001-000013</td>\n",
       "    </tr>\n",
       "    <tr>\n",
       "      <th>4</th>\n",
       "      <td>050014801001004</td>\n",
       "      <td>001-000013</td>\n",
       "    </tr>\n",
       "  </tbody>\n",
       "</table>\n",
       "</div>"
      ],
      "text/plain": [
       "           GEOID20       VTD20\n",
       "0  050014801001000  001-000013\n",
       "1  050014801001001  001-000013\n",
       "2  050014801001002  001-000013\n",
       "3  050014801001003  001-000013\n",
       "4  050014801001004  001-000013"
      ]
     },
     "execution_count": 4,
     "metadata": {},
     "output_type": "execute_result"
    }
   ],
   "source": [
    "baf = pd.read_csv(os.path.join(wd,'BlockAssign_ST05_AR_VTD.txt'),delimiter='|')\n",
    "baf['GEOID20']= baf['BLOCKID'].apply(lambda x: str(x).zfill(15))\n",
    "baf['COUNTYFP20'] = baf['COUNTYFP'].apply(lambda x: str(x).zfill(3))\n",
    "baf['VTD20'] = baf['COUNTYFP20']+'-'+baf['DISTRICT']\n",
    "baf = baf[['GEOID20','VTD20']]\n",
    "baf.head()"
   ]
  },
  {
   "cell_type": "markdown",
   "id": "0e138a57-02fb-4582-b3c8-72be8891915e",
   "metadata": {},
   "source": [
    "Make point shapefile out of lat,long fields in individual level voter file and then join block shapefile"
   ]
  },
  {
   "cell_type": "code",
   "execution_count": 5,
   "id": "941c6365-a959-4381-a848-541c3518a002",
   "metadata": {},
   "outputs": [],
   "source": [
    "df['lat'] = df['lat'].astype(float)\n",
    "df['lon'] = df['lon'].astype(float)\n",
    "points = gp.GeoDataFrame(df,geometry = gp.points_from_xy(df.lon, df.lat, crs=b.crs))\n",
    "joined = points.sjoin(b,how='left')\n",
    "joined.drop(columns = ['lat','lon','state','geoid20','index_right'],inplace=True)"
   ]
  },
  {
   "cell_type": "markdown",
   "id": "a4fc5031-2ed6-496a-afdb-5a8e08446288",
   "metadata": {},
   "source": [
    "Determine the number of voters who receive multiple block assignments (e.g. falling exactly on a line between two or more blocks)"
   ]
  },
  {
   "cell_type": "code",
   "execution_count": 6,
   "id": "05426ca1-4a51-4762-a840-270a41555546",
   "metadata": {},
   "outputs": [
    {
     "name": "stdout",
     "output_type": "stream",
     "text": [
      "Number of voters with duplicate assignments:  324\n"
     ]
    }
   ],
   "source": [
    "d = Counter(list(joined['lalvoterid']))\n",
    "dup_ids = []\n",
    "for k,v in d.items():\n",
    "    if v!=1:\n",
    "        dup_ids.append(k)\n",
    "print('Number of voters with duplicate assignments: ', len(dup_ids))"
   ]
  },
  {
   "cell_type": "markdown",
   "id": "f4d31b40-9591-4ea3-81bb-e587d526ea3b",
   "metadata": {},
   "source": [
    "Determine how many voters could potentially be aggregated to different VTDs (e.g. they have multiple block assignments and one or more of those blocks is in a different VTD)"
   ]
  },
  {
   "cell_type": "code",
   "execution_count": 7,
   "id": "e254ab09-c1e4-4da2-8d5b-6b3cc7d7c365",
   "metadata": {},
   "outputs": [
    {
     "name": "stdout",
     "output_type": "stream",
     "text": [
      "Number of voters who could be aggregated to a different VTD:  33\n"
     ]
    }
   ],
   "source": [
    "dups = joined[joined['lalvoterid'].isin(dup_ids)]\n",
    "\n",
    "dups_dict = {}\n",
    "for i in dups['lalvoterid'].unique():\n",
    "    mini = dups[dups['lalvoterid']==i]\n",
    "    dups_dict.update({i:list(mini['GEOID20'])})\n",
    "    \n",
    "counter = 0\n",
    "for k,v in dups_dict.items():\n",
    "    vtds = []\n",
    "    hold = list(set(baf[baf['GEOID20'].isin(v)]['VTD20']))\n",
    "    if len(hold)>1:\n",
    "        counter = counter+1\n",
    "\n",
    "print('Number of voters who could be aggregated to a different VTD: ', str(counter))"
   ]
  },
  {
   "cell_type": "markdown",
   "id": "9f4320e6-0705-47a4-9d96-a33282e60a8e",
   "metadata": {},
   "source": [
    "Assign voters to the block that comes first when sorted (for the purposes of replicability and standardization) "
   ]
  },
  {
   "cell_type": "code",
   "execution_count": 8,
   "id": "79863af4-6f44-438d-a2d3-f8796eaadb1a",
   "metadata": {},
   "outputs": [],
   "source": [
    "joined.sort_values(by='GEOID20',inplace=True)\n",
    "no_dups = joined.groupby('lalvoterid').first()"
   ]
  },
  {
   "cell_type": "markdown",
   "id": "df766bc0-5bd2-4a0b-a236-64d9e6c3569e",
   "metadata": {},
   "source": [
    "Verify that that all voters with at least one block assignment are kept in the file"
   ]
  },
  {
   "cell_type": "code",
   "execution_count": 9,
   "id": "6454b15e-839a-4642-a1fb-b09665bd241b",
   "metadata": {},
   "outputs": [
    {
     "name": "stdout",
     "output_type": "stream",
     "text": [
      "Are all voters with at least one block assignment maintained?  True\n"
     ]
    }
   ],
   "source": [
    "tot = 0\n",
    "for k,v in dups_dict.items():\n",
    "    len_v = len(v)\n",
    "    tot = len_v+tot\n",
    "print('Are all voters with at least one block assignment maintained? ', str((tot-(len(joined)-len(no_dups)) == len(dup_ids))))"
   ]
  },
  {
   "cell_type": "markdown",
   "id": "14aacbd7-55a2-47bd-9508-50a2642e18dc",
   "metadata": {},
   "source": [
    "Clean the voter file and merge with the VTD block assignment file"
   ]
  },
  {
   "cell_type": "code",
   "execution_count": 10,
   "id": "4a10f943-b87e-402a-9660-ec95df689089",
   "metadata": {},
   "outputs": [],
   "source": [
    "no_dups.reset_index(inplace=True,drop=False)\n",
    "no_dups_cleaned = no_dups[['parties_description','ball_type','GEOID20']]\n",
    "merged = pd.merge(no_dups_cleaned,baf,on='GEOID20',how='inner')"
   ]
  },
  {
   "cell_type": "markdown",
   "id": "b9b42319-63a6-430e-8954-d4b1664f1070",
   "metadata": {},
   "source": [
    "Create pivot table for ballot type selected in the primary (REP or DEM)"
   ]
  },
  {
   "cell_type": "code",
   "execution_count": 11,
   "id": "967da317-f070-4aa6-9dec-5017441d24fa",
   "metadata": {},
   "outputs": [
    {
     "data": {
      "text/html": [
       "<div>\n",
       "<style scoped>\n",
       "    .dataframe tbody tr th:only-of-type {\n",
       "        vertical-align: middle;\n",
       "    }\n",
       "\n",
       "    .dataframe tbody tr th {\n",
       "        vertical-align: top;\n",
       "    }\n",
       "\n",
       "    .dataframe thead th {\n",
       "        text-align: right;\n",
       "    }\n",
       "</style>\n",
       "<table border=\"1\" class=\"dataframe\">\n",
       "  <thead>\n",
       "    <tr style=\"text-align: right;\">\n",
       "      <th>ball_type</th>\n",
       "      <th>VTD20</th>\n",
       "      <th>DEM_PRIM_VOTE22</th>\n",
       "      <th>OTH_PRIM_VOTE22</th>\n",
       "      <th>REP_PRIM_VOTE22</th>\n",
       "    </tr>\n",
       "  </thead>\n",
       "  <tbody>\n",
       "    <tr>\n",
       "      <th>0</th>\n",
       "      <td>001-000011</td>\n",
       "      <td>3.0</td>\n",
       "      <td>0.0</td>\n",
       "      <td>25.0</td>\n",
       "    </tr>\n",
       "    <tr>\n",
       "      <th>1</th>\n",
       "      <td>001-000012</td>\n",
       "      <td>2.0</td>\n",
       "      <td>0.0</td>\n",
       "      <td>17.0</td>\n",
       "    </tr>\n",
       "    <tr>\n",
       "      <th>2</th>\n",
       "      <td>001-000013</td>\n",
       "      <td>20.0</td>\n",
       "      <td>0.0</td>\n",
       "      <td>129.0</td>\n",
       "    </tr>\n",
       "    <tr>\n",
       "      <th>3</th>\n",
       "      <td>001-000014</td>\n",
       "      <td>2.0</td>\n",
       "      <td>0.0</td>\n",
       "      <td>50.0</td>\n",
       "    </tr>\n",
       "    <tr>\n",
       "      <th>4</th>\n",
       "      <td>001-000015</td>\n",
       "      <td>3.0</td>\n",
       "      <td>0.0</td>\n",
       "      <td>44.0</td>\n",
       "    </tr>\n",
       "  </tbody>\n",
       "</table>\n",
       "</div>"
      ],
      "text/plain": [
       "ball_type       VTD20  DEM_PRIM_VOTE22  OTH_PRIM_VOTE22  REP_PRIM_VOTE22\n",
       "0          001-000011              3.0              0.0             25.0\n",
       "1          001-000012              2.0              0.0             17.0\n",
       "2          001-000013             20.0              0.0            129.0\n",
       "3          001-000014              2.0              0.0             50.0\n",
       "4          001-000015              3.0              0.0             44.0"
      ]
     },
     "execution_count": 11,
     "metadata": {},
     "output_type": "execute_result"
    }
   ],
   "source": [
    "merged['counts']=1\n",
    "merged['ball_type'] = merged['ball_type'].fillna('No Primary Vote')\n",
    "ball_type = merged.pivot_table(index='VTD20',columns = ['ball_type'],values=['counts'],aggfunc=sum)\n",
    "for i in ball_type.columns:\n",
    "    ball_type[i] = ball_type[i].fillna(0)\n",
    "ball_type.reset_index(drop=False,inplace=True)\n",
    "ball_type.columns = ball_type.columns.droplevel(0)\n",
    "ball_type.rename(columns = {ball_type.columns[0]:\"VTD20\",'D':'DEM_PRIM_VOTE22','R':'REP_PRIM_VOTE22','O':'OTH_PRIM_VOTE22'}, inplace = True)\n",
    "ball_type.drop(columns = 'No Primary Vote',inplace=True)\n",
    "ball_type.head()"
   ]
  },
  {
   "cell_type": "markdown",
   "id": "f1f11267-4bb8-490b-b958-7b82b32b2fa5",
   "metadata": {},
   "source": [
    "Create pivot table for modeled registered voters"
   ]
  },
  {
   "cell_type": "code",
   "execution_count": 12,
   "id": "b3687540-a1bb-4b79-bd2d-7f470845e57c",
   "metadata": {},
   "outputs": [
    {
     "data": {
      "text/html": [
       "<div>\n",
       "<style scoped>\n",
       "    .dataframe tbody tr th:only-of-type {\n",
       "        vertical-align: middle;\n",
       "    }\n",
       "\n",
       "    .dataframe tbody tr th {\n",
       "        vertical-align: top;\n",
       "    }\n",
       "\n",
       "    .dataframe thead th {\n",
       "        text-align: right;\n",
       "    }\n",
       "</style>\n",
       "<table border=\"1\" class=\"dataframe\">\n",
       "  <thead>\n",
       "    <tr style=\"text-align: right;\">\n",
       "      <th>parties_description</th>\n",
       "      <th>VTD20</th>\n",
       "      <th>DEM_PRIM_REG22</th>\n",
       "      <th>GRE_PRIM_REG22</th>\n",
       "      <th>LIB_PRIM_REG22</th>\n",
       "      <th>NON_PRIM_REG22</th>\n",
       "      <th>REF_PRIM_REG22</th>\n",
       "      <th>REP_PRIM_REG22</th>\n",
       "    </tr>\n",
       "  </thead>\n",
       "  <tbody>\n",
       "    <tr>\n",
       "      <th>0</th>\n",
       "      <td>001-000011</td>\n",
       "      <td>9.0</td>\n",
       "      <td>0.0</td>\n",
       "      <td>0.0</td>\n",
       "      <td>17.0</td>\n",
       "      <td>0.0</td>\n",
       "      <td>27.0</td>\n",
       "    </tr>\n",
       "    <tr>\n",
       "      <th>1</th>\n",
       "      <td>001-000012</td>\n",
       "      <td>13.0</td>\n",
       "      <td>0.0</td>\n",
       "      <td>0.0</td>\n",
       "      <td>17.0</td>\n",
       "      <td>0.0</td>\n",
       "      <td>25.0</td>\n",
       "    </tr>\n",
       "    <tr>\n",
       "      <th>2</th>\n",
       "      <td>001-000013</td>\n",
       "      <td>141.0</td>\n",
       "      <td>0.0</td>\n",
       "      <td>0.0</td>\n",
       "      <td>108.0</td>\n",
       "      <td>0.0</td>\n",
       "      <td>173.0</td>\n",
       "    </tr>\n",
       "    <tr>\n",
       "      <th>3</th>\n",
       "      <td>001-000014</td>\n",
       "      <td>21.0</td>\n",
       "      <td>0.0</td>\n",
       "      <td>0.0</td>\n",
       "      <td>43.0</td>\n",
       "      <td>0.0</td>\n",
       "      <td>78.0</td>\n",
       "    </tr>\n",
       "    <tr>\n",
       "      <th>4</th>\n",
       "      <td>001-000015</td>\n",
       "      <td>22.0</td>\n",
       "      <td>0.0</td>\n",
       "      <td>0.0</td>\n",
       "      <td>39.0</td>\n",
       "      <td>0.0</td>\n",
       "      <td>68.0</td>\n",
       "    </tr>\n",
       "  </tbody>\n",
       "</table>\n",
       "</div>"
      ],
      "text/plain": [
       "parties_description       VTD20  DEM_PRIM_REG22  GRE_PRIM_REG22  \\\n",
       "0                    001-000011             9.0             0.0   \n",
       "1                    001-000012            13.0             0.0   \n",
       "2                    001-000013           141.0             0.0   \n",
       "3                    001-000014            21.0             0.0   \n",
       "4                    001-000015            22.0             0.0   \n",
       "\n",
       "parties_description  LIB_PRIM_REG22  NON_PRIM_REG22  REF_PRIM_REG22  \\\n",
       "0                               0.0            17.0             0.0   \n",
       "1                               0.0            17.0             0.0   \n",
       "2                               0.0           108.0             0.0   \n",
       "3                               0.0            43.0             0.0   \n",
       "4                               0.0            39.0             0.0   \n",
       "\n",
       "parties_description  REP_PRIM_REG22  \n",
       "0                              27.0  \n",
       "1                              25.0  \n",
       "2                             173.0  \n",
       "3                              78.0  \n",
       "4                              68.0  "
      ]
     },
     "execution_count": 12,
     "metadata": {},
     "output_type": "execute_result"
    }
   ],
   "source": [
    "parties = merged.pivot_table(index='VTD20',columns = ['parties_description'],values=['counts'],aggfunc=sum)\n",
    "for i in parties.columns:\n",
    "    parties[i] = parties[i].fillna(0)\n",
    "parties.reset_index(drop=False,inplace=True)\n",
    "parties.columns = parties.columns.droplevel(0)\n",
    "parties.rename(columns = {parties.columns[0]:\"VTD20\",'Democratic':'DEM_PRIM_REG22','Republican':'REP_PRIM_REG22','Green':'GRE_PRIM_REG22','Libertarian':'LIB_PRIM_REG22','Non-Partisan':'NON_PRIM_REG22','Reform':'REF_PRIM_REG22'}, inplace = True)\n",
    "parties.head()"
   ]
  },
  {
   "cell_type": "markdown",
   "id": "c8ea27d6-a027-4a43-8f36-ac8db326a69c",
   "metadata": {},
   "source": [
    "Join the modeled party and ballot type dataframes together"
   ]
  },
  {
   "cell_type": "code",
   "execution_count": 13,
   "id": "9662a747-e2e6-486c-ae80-71f3f7f248f3",
   "metadata": {},
   "outputs": [
    {
     "name": "stdout",
     "output_type": "stream",
     "text": [
      "VTD join successful?  True\n"
     ]
    },
    {
     "data": {
      "text/html": [
       "<div>\n",
       "<style scoped>\n",
       "    .dataframe tbody tr th:only-of-type {\n",
       "        vertical-align: middle;\n",
       "    }\n",
       "\n",
       "    .dataframe tbody tr th {\n",
       "        vertical-align: top;\n",
       "    }\n",
       "\n",
       "    .dataframe thead th {\n",
       "        text-align: right;\n",
       "    }\n",
       "</style>\n",
       "<table border=\"1\" class=\"dataframe\">\n",
       "  <thead>\n",
       "    <tr style=\"text-align: right;\">\n",
       "      <th></th>\n",
       "      <th>VTD20</th>\n",
       "      <th>DEM_PRIM_VOTE22</th>\n",
       "      <th>OTH_PRIM_VOTE22</th>\n",
       "      <th>REP_PRIM_VOTE22</th>\n",
       "      <th>DEM_PRIM_REG22</th>\n",
       "      <th>GRE_PRIM_REG22</th>\n",
       "      <th>LIB_PRIM_REG22</th>\n",
       "      <th>NON_PRIM_REG22</th>\n",
       "      <th>REF_PRIM_REG22</th>\n",
       "      <th>REP_PRIM_REG22</th>\n",
       "    </tr>\n",
       "  </thead>\n",
       "  <tbody>\n",
       "    <tr>\n",
       "      <th>0</th>\n",
       "      <td>001-000011</td>\n",
       "      <td>3.0</td>\n",
       "      <td>0.0</td>\n",
       "      <td>25.0</td>\n",
       "      <td>9.0</td>\n",
       "      <td>0.0</td>\n",
       "      <td>0.0</td>\n",
       "      <td>17.0</td>\n",
       "      <td>0.0</td>\n",
       "      <td>27.0</td>\n",
       "    </tr>\n",
       "    <tr>\n",
       "      <th>1</th>\n",
       "      <td>001-000012</td>\n",
       "      <td>2.0</td>\n",
       "      <td>0.0</td>\n",
       "      <td>17.0</td>\n",
       "      <td>13.0</td>\n",
       "      <td>0.0</td>\n",
       "      <td>0.0</td>\n",
       "      <td>17.0</td>\n",
       "      <td>0.0</td>\n",
       "      <td>25.0</td>\n",
       "    </tr>\n",
       "    <tr>\n",
       "      <th>2</th>\n",
       "      <td>001-000013</td>\n",
       "      <td>20.0</td>\n",
       "      <td>0.0</td>\n",
       "      <td>129.0</td>\n",
       "      <td>141.0</td>\n",
       "      <td>0.0</td>\n",
       "      <td>0.0</td>\n",
       "      <td>108.0</td>\n",
       "      <td>0.0</td>\n",
       "      <td>173.0</td>\n",
       "    </tr>\n",
       "    <tr>\n",
       "      <th>3</th>\n",
       "      <td>001-000014</td>\n",
       "      <td>2.0</td>\n",
       "      <td>0.0</td>\n",
       "      <td>50.0</td>\n",
       "      <td>21.0</td>\n",
       "      <td>0.0</td>\n",
       "      <td>0.0</td>\n",
       "      <td>43.0</td>\n",
       "      <td>0.0</td>\n",
       "      <td>78.0</td>\n",
       "    </tr>\n",
       "    <tr>\n",
       "      <th>4</th>\n",
       "      <td>001-000015</td>\n",
       "      <td>3.0</td>\n",
       "      <td>0.0</td>\n",
       "      <td>44.0</td>\n",
       "      <td>22.0</td>\n",
       "      <td>0.0</td>\n",
       "      <td>0.0</td>\n",
       "      <td>39.0</td>\n",
       "      <td>0.0</td>\n",
       "      <td>68.0</td>\n",
       "    </tr>\n",
       "  </tbody>\n",
       "</table>\n",
       "</div>"
      ],
      "text/plain": [
       "        VTD20  DEM_PRIM_VOTE22  OTH_PRIM_VOTE22  REP_PRIM_VOTE22  \\\n",
       "0  001-000011              3.0              0.0             25.0   \n",
       "1  001-000012              2.0              0.0             17.0   \n",
       "2  001-000013             20.0              0.0            129.0   \n",
       "3  001-000014              2.0              0.0             50.0   \n",
       "4  001-000015              3.0              0.0             44.0   \n",
       "\n",
       "   DEM_PRIM_REG22  GRE_PRIM_REG22  LIB_PRIM_REG22  NON_PRIM_REG22  \\\n",
       "0             9.0             0.0             0.0            17.0   \n",
       "1            13.0             0.0             0.0            17.0   \n",
       "2           141.0             0.0             0.0           108.0   \n",
       "3            21.0             0.0             0.0            43.0   \n",
       "4            22.0             0.0             0.0            39.0   \n",
       "\n",
       "   REF_PRIM_REG22  REP_PRIM_REG22  \n",
       "0             0.0            27.0  \n",
       "1             0.0            25.0  \n",
       "2             0.0           173.0  \n",
       "3             0.0            78.0  \n",
       "4             0.0            68.0  "
      ]
     },
     "execution_count": 13,
     "metadata": {},
     "output_type": "execute_result"
    }
   ],
   "source": [
    "joined_vtd = pd.merge(ball_type,parties,on='VTD20',how='outer',indicator=True)\n",
    "print('VTD join successful? ', str(len(joined_vtd[joined_vtd['_merge']!='both'])==0))\n",
    "joined_vtd.drop(columns = '_merge',inplace=True)\n",
    "joined_vtd.head()"
   ]
  },
  {
   "cell_type": "code",
   "execution_count": 14,
   "id": "e53b15f8-e686-4058-9733-2339b4100070",
   "metadata": {},
   "outputs": [
    {
     "name": "stdout",
     "output_type": "stream",
     "text": [
      "Original number of registered voters in L2 file:  1593326\n",
      "Number of registered voters that get aggregated to VTDs:  1574512\n",
      "Number of registered voters in L2 file that did not get aggregated to VTDs:  18814\n"
     ]
    }
   ],
   "source": [
    "print('Original number of registered voters in L2 file: ', str(len(df)))\n",
    "print('Number of registered voters that get aggregated to VTDs: ', str(len(merged)))\n",
    "print('Number of registered voters in L2 file that did not get aggregated to VTDs: ', str(len(df)-len(merged)))"
   ]
  },
  {
   "cell_type": "code",
   "execution_count": 15,
   "id": "d71e7284-c214-4f47-94f3-55c566a65570",
   "metadata": {},
   "outputs": [],
   "source": [
    "original_rep_prim_voters = len(df[df['ball_type']=='R'])\n",
    "rep_voters_agg = joined_vtd['REP_PRIM_VOTE22'].sum()"
   ]
  },
  {
   "cell_type": "code",
   "execution_count": 16,
   "id": "d928c5be-6d87-44ce-9b7b-220afd015927",
   "metadata": {},
   "outputs": [
    {
     "name": "stdout",
     "output_type": "stream",
     "text": [
      "Original number of Republican primary voters in L2 file:  343639\n",
      "Number of Republican primary voters that get aggregated to VTDs:  338999.0\n",
      "Number of Republican primary voters in L2 file that did not get aggregated to VTDs:  4640.0\n"
     ]
    }
   ],
   "source": [
    "print('Original number of Republican primary voters in L2 file: ', str(original_rep_prim_voters))\n",
    "print('Number of Republican primary voters that get aggregated to VTDs: ', str(rep_voters_agg))\n",
    "print('Number of Republican primary voters in L2 file that did not get aggregated to VTDs: ', str(original_rep_prim_voters-rep_voters_agg))"
   ]
  },
  {
   "cell_type": "code",
   "execution_count": 17,
   "id": "44172aa0-acdd-4170-82bb-1d34bd29434b",
   "metadata": {},
   "outputs": [],
   "source": [
    "original_dem_prim_voters = len(df[df['ball_type']=='D'])\n",
    "dem_voters_agg = joined_vtd['DEM_PRIM_VOTE22'].sum()"
   ]
  },
  {
   "cell_type": "code",
   "execution_count": 18,
   "id": "231bb9c1-cd8f-41c7-9ea7-96025bd8f26b",
   "metadata": {},
   "outputs": [
    {
     "name": "stdout",
     "output_type": "stream",
     "text": [
      "Original number of Democractic primary voters in L2 file:  94054\n",
      "Number of Democratic primary voters that get aggregated to VTDs:  93269.0\n",
      "Number of Democratic primary voters in L2 file that did not get aggregated to VTDs:  785.0\n"
     ]
    }
   ],
   "source": [
    "print('Original number of Democractic primary voters in L2 file: ', str(original_dem_prim_voters))\n",
    "print('Number of Democratic primary voters that get aggregated to VTDs: ', str(dem_voters_agg))\n",
    "print('Number of Democratic primary voters in L2 file that did not get aggregated to VTDs: ', str(original_dem_prim_voters-dem_voters_agg))"
   ]
  },
  {
   "cell_type": "markdown",
   "id": "9c981bf1-22d8-4409-8375-ad8b843e9d31",
   "metadata": {},
   "source": [
    "Extract data as a CSV"
   ]
  },
  {
   "cell_type": "code",
   "execution_count": 19,
   "id": "ff3ebe5e-c9f4-4e61-923f-33fbdd2076c4",
   "metadata": {},
   "outputs": [],
   "source": [
    "joined_vtd.to_csv('./ar_prim_turnout_2022_2020_vtd.csv',index=False)"
   ]
  }
 ],
 "metadata": {
  "kernelspec": {
   "display_name": "Python 3 (ipykernel)",
   "language": "python",
   "name": "python3"
  },
  "language_info": {
   "codemirror_mode": {
    "name": "ipython",
    "version": 3
   },
   "file_extension": ".py",
   "mimetype": "text/x-python",
   "name": "python",
   "nbconvert_exporter": "python",
   "pygments_lexer": "ipython3",
   "version": "3.10.5"
  }
 },
 "nbformat": 4,
 "nbformat_minor": 5
}
