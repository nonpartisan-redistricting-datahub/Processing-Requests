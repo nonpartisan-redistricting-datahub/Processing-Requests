{
 "cells": [
  {
   "cell_type": "code",
   "execution_count": 1,
   "id": "106b5fc3-8270-4011-a0d0-f73cc0dc6594",
   "metadata": {},
   "outputs": [],
   "source": [
    "import os\n",
    "import geopandas as gp\n",
    "import pandas as pd\n",
    "wd = os.getcwd()"
   ]
  },
  {
   "cell_type": "markdown",
   "id": "32758e07-b324-4275-8a9f-70065fbdeaa9",
   "metadata": {},
   "source": [
    "# Butler_County_Turnout_09_23_2022\n",
    "\n",
    "## Background:\n",
    "- We received a request for \"Unregistered voters butler county ohio\" from Get Out The Vote to get \"people registered to vote\".\n",
    "- RDH does not have information of individuals who are not registered to vote, but we can provide information regarding how many people are registered at various geographies.\n",
    "- The user was also interested in turnout statistics from the 2020 general election, as well as other demographic statistics.\n",
    "- We used data at the block level, as it is the most granular data we can provide.\n",
    "\n",
    "## Approach:\n",
    "- Use RDH datasests of Disaggregated 2020 CVAP to the Block Level, 2020 Voter Turnout at the 2020 Block Level, and Public Law 94-171 redistricting data (all for Ohio).\n",
    "- Query out data for Butler County and join together to have block level dataset.\n",
    "- Create unregistered voter estimate counts at the block level by subtracting the total registered voters from Citizen Voting Age Population (CVAP) and Voting Age Population (VAP). We provided an estimate using both methods, as some may prefer to work with data readily available at the block level (VAP) and others prefer the CVAP estimate for voting related data because of the citizenship question.\n",
    "- Please note the unregistered voter estimates are *estimates* based on the two methods described above.\n",
    "\n",
    "## Links to datasets used:\n",
    "- 2020 OH L2 Voterfile Elections Turnout Statistics Aggregated to Census Blocks: https://redistrictingdatahub.org/dataset/2020-oh-l2-voterfile-elections-turnout-statistics-aggregated-to-census-blocks/\n",
    "- Ohio CVAP Data Disaggregated to the 2020 Block Level (2020): https://redistrictingdatahub.org/dataset/ohio-cvap-data-disaggregated-to-the-2020-block-level-2020/\n",
    "- Ohio block PL 94-171 2020 (by table): https://redistrictingdatahub.org/dataset/ohio-block-pl-94171-2020-by-table/\n",
    "\n",
    "\n",
    "You can find the final file on the Redistricting Data Hub website here: https://redistrictingdatahub.org/dataset/butler-county-ohio-2020-voter-statistics-and-unregistered-voter-estimates-on-2020-census-blocks/"
   ]
  },
  {
   "cell_type": "markdown",
   "id": "29924a73-4165-48cc-9b99-d594cacf776e",
   "metadata": {},
   "source": [
    "*Please note that in order to run this notebook you would need the files listed above downloaded to you working directory.*"
   ]
  },
  {
   "cell_type": "markdown",
   "id": "e6bc78b7-0116-4bf8-b27d-26c5a53c6759",
   "metadata": {},
   "source": [
    "Read in voter file and query out for Butler County (FIPS 017)"
   ]
  },
  {
   "cell_type": "code",
   "execution_count": 2,
   "id": "9b18f4e9-2e91-4eb3-9cee-de681d24ce36",
   "metadata": {},
   "outputs": [],
   "source": [
    "vf = pd.read_csv(os.path.join(os.path.join(wd,'OH_l2_turnout_2020blockAgg'),'OH_l2_turnout_stats_block20.csv'))\n",
    "vf['GEOID20']=vf['geoid20'].apply(lambda x: str(x).split('.')[0])\n",
    "vf['COUNTY']=vf['geoid20'].apply(lambda x: str(x)[2:5])\n",
    "vf_bc = vf[vf['COUNTY']=='017'].copy()\n",
    "for i in list(vf.columns):\n",
    "    if 'pct' in i:\n",
    "        vf[i] = vf[i].apply(lambda x: round(x,2))\n",
    "vf_bc.drop(columns='geoid20',inplace=True)"
   ]
  },
  {
   "cell_type": "markdown",
   "id": "39de2f05-bb84-4e8f-9910-fd745d1e2b26",
   "metadata": {},
   "source": [
    "Read in CVAP data and query out for Butler County"
   ]
  },
  {
   "cell_type": "code",
   "execution_count": 3,
   "id": "ba39ded3-a7d3-406f-824e-f5b714699e91",
   "metadata": {},
   "outputs": [],
   "source": [
    "cvap = gp.read_file(os.path.join(os.path.join(wd,'oh_cvap_2020_2020_b'),'oh_cvap_2020_2020_b.shp'))\n",
    "cvap_bc = cvap[cvap['COUNTYFP20']==17].copy()\n",
    "cvap_bc['GEOID20']=cvap_bc['GEOID20'].astype(str)"
   ]
  },
  {
   "cell_type": "markdown",
   "id": "a6ed6112-d977-4f08-9ad8-ba4a53ac3241",
   "metadata": {},
   "source": [
    "Read in PL data and query out for Butler County"
   ]
  },
  {
   "cell_type": "code",
   "execution_count": 4,
   "id": "29c04a9e-80db-4e03-be53-d7a71115c4dd",
   "metadata": {},
   "outputs": [],
   "source": [
    "pl = gp.read_file(os.path.join(os.path.join(wd,'oh_pl2020_b'),'oh_pl2020_p4_b.shp'))\n",
    "pl_bc = pl[pl['COUNTY']=='017']"
   ]
  },
  {
   "cell_type": "markdown",
   "id": "46d2d777-5d84-46cd-85eb-4e2c946e1f1f",
   "metadata": {},
   "source": [
    "Merge all files together"
   ]
  },
  {
   "cell_type": "code",
   "execution_count": 5,
   "id": "fcf4550f-de3f-4661-b784-5a5a744981e9",
   "metadata": {},
   "outputs": [],
   "source": [
    "joined = pd.merge(cvap_bc,vf_bc,on='GEOID20',how='outer',indicator=False)\n",
    "pl_bc = pl_bc[['GEOID20','P0040001']]\n",
    "joined = pd.merge(joined,pl_bc,on='GEOID20',how='outer',indicator=False)\n",
    "joined = joined.fillna(0)"
   ]
  },
  {
   "cell_type": "markdown",
   "id": "96ea058b-9007-4e48-b693-fdf29f53f31f",
   "metadata": {},
   "source": [
    "Create unregistered voter count estimates"
   ]
  },
  {
   "cell_type": "code",
   "execution_count": 6,
   "id": "9b977044-d89c-44a5-ad7b-da7788fc4cca",
   "metadata": {},
   "outputs": [],
   "source": [
    "joined['UNREG_COUNT_EST_CVAP'] = round(joined['CVAP_TOT20'] - joined['total_reg'],2)\n",
    "joined['UNREG_COUNT_EST_VAP'] = round(joined['P0040001'] - joined['total_reg'],2)\n",
    "joined = joined.fillna(0)"
   ]
  },
  {
   "cell_type": "markdown",
   "id": "f4c22589-58e4-4a1d-818a-ed0d0252a1df",
   "metadata": {},
   "source": [
    "Clean file and organize fields into \"short\" and \"long\" files"
   ]
  },
  {
   "cell_type": "code",
   "execution_count": 7,
   "id": "1269eb19-73f9-420d-a6f6-b7643e0264ce",
   "metadata": {},
   "outputs": [],
   "source": [
    "joined.rename(columns = {'P0040001':'VAP_TOT20'},inplace=True)\n",
    "joined_order= list(joined.columns)\n",
    "joined_order.remove('COUNTY')\n",
    "joined_order.remove('VAP_TOT20')\n",
    "joined_order.remove('UNREG_COUNT_EST_CVAP')\n",
    "joined_order.remove('UNREG_COUNT_EST_VAP')\n",
    "joined_order.remove('GEOID20')\n",
    "joined_order.remove('COUNTYFP20')\n",
    "joined_order.remove('CVAP_TOT20')\n",
    "joined_order.remove('total_reg')\n",
    "joined_order.remove('g20201103_voted_all')\n",
    "joined_order.remove('geometry')\n",
    "\n",
    "\n",
    "first_cols = ['GEOID20','COUNTYFP20','CVAP_TOT20','VAP_TOT20','total_reg','UNREG_COUNT_EST_CVAP','UNREG_COUNT_EST_VAP','g20201103_voted_all']\n",
    "all_cols = first_cols + joined_order\n",
    "\n",
    "joined_long = joined[all_cols]\n",
    "joined_short = joined[first_cols]"
   ]
  },
  {
   "cell_type": "markdown",
   "id": "a41dc867-3e6a-4da0-b074-57b67996a201",
   "metadata": {},
   "source": [
    "Extract data"
   ]
  },
  {
   "cell_type": "code",
   "execution_count": 8,
   "id": "38beace1-97ff-4589-b7dc-e56b02baf553",
   "metadata": {},
   "outputs": [],
   "source": [
    "joined_short.to_csv('butler_county_request_short.csv',index=False)\n",
    "joined_long.to_csv('butler_county_request_long.csv',index=False)"
   ]
  }
 ],
 "metadata": {
  "kernelspec": {
   "display_name": "Python 3 (ipykernel)",
   "language": "python",
   "name": "python3"
  },
  "language_info": {
   "codemirror_mode": {
    "name": "ipython",
    "version": 3
   },
   "file_extension": ".py",
   "mimetype": "text/x-python",
   "name": "python",
   "nbconvert_exporter": "python",
   "pygments_lexer": "ipython3",
   "version": "3.10.5"
  }
 },
 "nbformat": 4,
 "nbformat_minor": 5
}
