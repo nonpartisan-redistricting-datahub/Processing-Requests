{
 "cells": [
  {
   "cell_type": "code",
   "execution_count": 1,
   "id": "21a71a88",
   "metadata": {},
   "outputs": [],
   "source": [
    "import pandas as pd\n",
    "import shutil\n"
   ]
  },
  {
   "cell_type": "markdown",
   "id": "75247cb8",
   "metadata": {},
   "source": [
    "# NY_AA_05_24_24\n",
    "\n",
    "We were asked to calculate the ten largest asian ethnic groups in each New York County"
   ]
  },
  {
   "cell_type": "code",
   "execution_count": 15,
   "id": "917d8f20",
   "metadata": {},
   "outputs": [],
   "source": [
    "# Load data, filter to counties\n",
    "h = pd.read_csv(\"./raw-from-source/2020-ddhc-a/ddhca_t01001.csv\")\n",
    "counties = h[h[\"REGION_TYPE\"]==\"COUNTY\"]\n",
    "\n",
    "# Create a dictionary matching id to ethnic group\n",
    "vals = pd.read_excel(\"./raw-from-source/2020-census-hispanic-origin-and-race-iterations-list.xlsx\", header = None)\n",
    "vals_dict = dict(zip(vals[0].astype(str),vals[1]))"
   ]
  },
  {
   "cell_type": "code",
   "execution_count": 6,
   "id": "56301144",
   "metadata": {},
   "outputs": [
    {
     "name": "stderr",
     "output_type": "stream",
     "text": [
      "/var/folders/1t/0q4w6hm92mg_zxd84dfxmq3m0000gn/T/ipykernel_52033/899628847.py:5: SettingWithCopyWarning: \n",
      "A value is trying to be set on a copy of a slice from a DataFrame.\n",
      "Try using .loc[row_indexer,col_indexer] = value instead\n",
      "\n",
      "See the caveats in the documentation: https://pandas.pydata.org/pandas-docs/stable/user_guide/indexing.html#returning-a-view-versus-a-copy\n",
      "  asian[\"REGION_ID\"] = asian[\"REGION_ID\"].astype(str).str.zfill(5)\n",
      "/var/folders/1t/0q4w6hm92mg_zxd84dfxmq3m0000gn/T/ipykernel_52033/899628847.py:7: SettingWithCopyWarning: \n",
      "A value is trying to be set on a copy of a slice from a DataFrame.\n",
      "Try using .loc[row_indexer,col_indexer] = value instead\n",
      "\n",
      "See the caveats in the documentation: https://pandas.pydata.org/pandas-docs/stable/user_guide/indexing.html#returning-a-view-versus-a-copy\n",
      "  asian[\"ITERID\"] = asian[\"ITERID\"].astype(str)\n",
      "/var/folders/1t/0q4w6hm92mg_zxd84dfxmq3m0000gn/T/ipykernel_52033/899628847.py:8: SettingWithCopyWarning: \n",
      "A value is trying to be set on a copy of a slice from a DataFrame.\n",
      "Try using .loc[row_indexer,col_indexer] = value instead\n",
      "\n",
      "See the caveats in the documentation: https://pandas.pydata.org/pandas-docs/stable/user_guide/indexing.html#returning-a-view-versus-a-copy\n",
      "  asian[\"Name\"] = asian[\"ITERID\"].map(vals_dict)\n"
     ]
    }
   ],
   "source": [
    "# Group by county and group, reset index\n",
    "new_file = counties.groupby([\"REGION_ID\",\"ITERID\"])[[\"COUNT\"]].sum()\n",
    "new_file.reset_index(inplace = True, drop = False)\n",
    "\n",
    "# Filter to asian ethnicities, clean id\n",
    "asian = new_file[(new_file[\"ITERID\"]>=3821)&(new_file[\"ITERID\"]<=3876)]\n",
    "asian[\"REGION_ID\"] = asian[\"REGION_ID\"].astype(str).str.zfill(5)\n",
    "\n",
    "# Filter to NY counties\n",
    "asian = asian[asian[\"REGION_ID\"].str[0:2]==\"36\"]\n",
    "asian[\"ITERID\"] = asian[\"ITERID\"].astype(str)\n",
    "\n",
    "# Add in group names\n",
    "asian[\"Name\"] = asian[\"ITERID\"].map(vals_dict)\n",
    "\n",
    "# Filter out combination groups\n",
    "asian = asian[~asian[\"Name\"].str.contains(\"\\*\")]\n",
    "\n",
    "# Get the top 10 largest by county\n",
    "grouped = asian.groupby('REGION_ID').apply(lambda x : x.sort_values(by = 'COUNT', ascending = False).head(10).reset_index(drop = True))"
   ]
  },
  {
   "cell_type": "code",
   "execution_count": 7,
   "id": "0358f02d",
   "metadata": {},
   "outputs": [],
   "source": [
    "# Clean up indices and add rank\n",
    "grouped = grouped.droplevel('REGION_ID')\n",
    "grouped.reset_index(inplace = True, drop = False)\n",
    "grouped.rename(columns = {\"index\":\"rank\"}, inplace = True)\n",
    "grouped[\"rank\"] +=1\n",
    "grouped.reset_index(inplace = True, drop = True)"
   ]
  },
  {
   "cell_type": "code",
   "execution_count": 16,
   "id": "5e92c56b",
   "metadata": {},
   "outputs": [
    {
     "name": "stderr",
     "output_type": "stream",
     "text": [
      "/var/folders/1t/0q4w6hm92mg_zxd84dfxmq3m0000gn/T/ipykernel_52033/1619836722.py:4: SettingWithCopyWarning: \n",
      "A value is trying to be set on a copy of a slice from a DataFrame.\n",
      "Try using .loc[row_indexer,col_indexer] = value instead\n",
      "\n",
      "See the caveats in the documentation: https://pandas.pydata.org/pandas-docs/stable/user_guide/indexing.html#returning-a-view-versus-a-copy\n",
      "  ny[\"UNQ\"] = \"36\" + ny[\"COUNTYFP\"].astype(str).str.zfill(3)\n"
     ]
    }
   ],
   "source": [
    "# Add a county name\n",
    "county_names = pd.read_csv(\"/Users/peterhorton/Documents/RDH/raw_data/census/PL_COUNTYFP_NAMES.csv\")\n",
    "ny = county_names[county_names[\"STUSAB\"]==\"NY\"]\n",
    "ny[\"UNQ\"] = \"36\" + ny[\"COUNTYFP\"].astype(str).str.zfill(3)\n",
    "ny_dict = dict(zip(ny[\"UNQ\"], ny[\"NAME\"]))\n",
    "grouped[\"County\"] = grouped[\"REGION_ID\"].map(ny_dict)"
   ]
  },
  {
   "cell_type": "code",
   "execution_count": 9,
   "id": "d18a113c",
   "metadata": {},
   "outputs": [],
   "source": [
    "# Filter columns, export to csv\n",
    "grouped = grouped[[\"County\",\"REGION_ID\",\"Name\",\"ITERID\",\"COUNT\",\"rank\"]]\n",
    "grouped.to_csv(\"./ny_cnty_2020_asian_ethnicities/ny_cnty_2020_asian_ethnicities.csv\", index = False)\n",
    "\n",
    "# Make archive\n",
    "shutil.make_archive(\"./ny_cnty_2020_asian_ethnicities\",\"zip\",\"./ny_cnty_2020_asian_ethnicities\")"
   ]
  }
 ],
 "metadata": {
  "kernelspec": {
   "display_name": "Python 3 (ipykernel)",
   "language": "python",
   "name": "python3"
  },
  "language_info": {
   "codemirror_mode": {
    "name": "ipython",
    "version": 3
   },
   "file_extension": ".py",
   "mimetype": "text/x-python",
   "name": "python",
   "nbconvert_exporter": "python",
   "pygments_lexer": "ipython3",
   "version": "3.8.13"
  }
 },
 "nbformat": 4,
 "nbformat_minor": 5
}
