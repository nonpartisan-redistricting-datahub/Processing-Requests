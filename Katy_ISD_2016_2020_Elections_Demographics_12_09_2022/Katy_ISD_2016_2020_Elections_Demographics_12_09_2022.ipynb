{
 "cells": [
  {
   "cell_type": "code",
   "execution_count": 1,
   "id": "656a520f-4c99-4782-a75c-cff743e509fd",
   "metadata": {},
   "outputs": [],
   "source": [
    "import os\n",
    "import geopandas as gp\n",
    "import pandas as pd\n",
    "import maup\n",
    "wd = os.getcwd()\n",
    "data_fold= os.path.join(wd,'raw-from-source')\n",
    "export_fold = os.path.join(wd,'EXPORTS')\n",
    "if not os.path.exists(export_fold):\n",
    "    os.mkdir(export_fold)"
   ]
  },
  {
   "cell_type": "markdown",
   "id": "f5c28407-3340-47f6-a928-69a81f7e8d79",
   "metadata": {
    "tags": []
   },
   "source": [
    "# Katy_ISD_2016_2020_Elections_Demographics_12_09_2022\n",
    "\n",
    "## Background:\n",
    "- We received a request for election data from the 2020 Democratic primary for U.S. Senate in Texas and 2016 presidential general election at 2020 block and 2022 precinct level in the Katy Independent School District.\n",
    "\n",
    "## Approach:\n",
    "- Use 2016 disaggregated election data at the block level \n",
    "- Disaggregate 2020 primary data from 2020 precincts to 2020 block using the [maup library](https://github.com/mggg/maup)\n",
    "- Query demographic data from Public Law 94-171 data and aggregate race categories as needed (e.g. any part Black)\n",
    "- Join all 2020 block level data together\n",
    "- Assign 2020 blocks to school districts in Texas using maup and query for just those in Katy ISD\n",
    "- Aggregate block level data to the 2022 precincts inside Katy ISD using maup\n",
    "- Clip precincts to Katy ISD\n",
    "\n",
    "\n",
    "## Links to datasets used:\n",
    "- [Texas 2022 Primary Election Voting Precincts Shapefile](https://data.capitol.texas.gov/dataset/precincts/resource/fb56da88-63d5-44a9-9577-63d1b654a8ab)\n",
    "- [Texas 2022 School Districts](https://data.capitol.texas.gov/dataset/school-districts)\n",
    "- [2016 Texas General Election Results Disaggregated to 2020 Census Blocks](https://redistrictingdatahub.org/dataset/2016-texas-general-election-results-disaggregated-to-2020-census-blocks/)\n",
    "- [Texas block group PL 94-171 2020](https://redistrictingdatahub.org/dataset/texas-block-group-pl-94171-2020/)\n",
    "- [Texas State boundaries (2020)](https://redistrictingdatahub.org/dataset/texas-state-boundaries-2020/)\n",
    "- [Texas 2020 General and Primary VTD Boundary and Election Results](https://redistrictingdatahub.org/dataset/texas-2020-general-and-primary-vtd-boundary-and-election-results/)\n",
    "- [KISD_Polling_Locations-2023.pdf](https://www.katyisd.org/cms/lib/TX50010808/Centricity/domain/4308/documents/election_23/KISD_Polling_Locations-2023.pdf)\n",
    "\n",
    "For a full 'raw-from-source' file, contact info@redistrictingdatahub.org"
   ]
  },
  {
   "cell_type": "markdown",
   "id": "9186f537-7962-450c-8c80-444b4e509263",
   "metadata": {},
   "source": [
    "Read in 2022 Precinct shapefile and query to the list of precincts in the KISD_Polling_Locations-2023.pdf"
   ]
  },
  {
   "cell_type": "code",
   "execution_count": 2,
   "id": "e1d9313a-acfa-4307-abeb-b185fac53667",
   "metadata": {},
   "outputs": [
    {
     "name": "stderr",
     "output_type": "stream",
     "text": [
      "C:\\Users\\SpencerNelson\\anaconda3\\envs\\maup\\lib\\site-packages\\geopandas\\geodataframe.py:1472: SettingWithCopyWarning: \n",
      "A value is trying to be set on a copy of a slice from a DataFrame.\n",
      "Try using .loc[row_indexer,col_indexer] = value instead\n",
      "\n",
      "See the caveats in the documentation: https://pandas.pydata.org/pandas-docs/stable/user_guide/indexing.html#returning-a-view-versus-a-copy\n",
      "  super().__setitem__(key, value)\n"
     ]
    },
    {
     "data": {
      "text/html": [
       "<div>\n",
       "<style scoped>\n",
       "    .dataframe tbody tr th:only-of-type {\n",
       "        vertical-align: middle;\n",
       "    }\n",
       "\n",
       "    .dataframe tbody tr th {\n",
       "        vertical-align: top;\n",
       "    }\n",
       "\n",
       "    .dataframe thead th {\n",
       "        text-align: right;\n",
       "    }\n",
       "</style>\n",
       "<table border=\"1\" class=\"dataframe\">\n",
       "  <thead>\n",
       "    <tr style=\"text-align: right;\">\n",
       "      <th></th>\n",
       "      <th>CNTY</th>\n",
       "      <th>COLOR</th>\n",
       "      <th>PREC</th>\n",
       "      <th>PCTKEY</th>\n",
       "      <th>cntykey</th>\n",
       "      <th>Shape_area</th>\n",
       "      <th>Shape_len</th>\n",
       "      <th>geometry</th>\n",
       "      <th>PRECINCT22</th>\n",
       "    </tr>\n",
       "  </thead>\n",
       "  <tbody>\n",
       "    <tr>\n",
       "      <th>2199</th>\n",
       "      <td>157</td>\n",
       "      <td>1</td>\n",
       "      <td>1145</td>\n",
       "      <td>1571145</td>\n",
       "      <td>79</td>\n",
       "      <td>2.930497e+06</td>\n",
       "      <td>9464.927039</td>\n",
       "      <td>POLYGON ((1407497.756 849479.492, 1407522.291 ...</td>\n",
       "      <td>157-1145</td>\n",
       "    </tr>\n",
       "  </tbody>\n",
       "</table>\n",
       "</div>"
      ],
      "text/plain": [
       "      CNTY  COLOR  PREC   PCTKEY  cntykey    Shape_area    Shape_len  \\\n",
       "2199   157      1  1145  1571145       79  2.930497e+06  9464.927039   \n",
       "\n",
       "                                               geometry PRECINCT22  \n",
       "2199  POLYGON ((1407497.756 849479.492, 1407522.291 ...   157-1145  "
      ]
     },
     "execution_count": 2,
     "metadata": {},
     "output_type": "execute_result"
    }
   ],
   "source": [
    "vtd_file = gp.read_file(os.path.join(data_fold,'Precincts22P_20220518.shp'))\n",
    "vtd = vtd_file[vtd_file['CNTY'].isin([201,157,473])]\n",
    "vtd['PRECINCT22'] = vtd.apply(lambda x: str(x['CNTY']) + '-' + x['PREC'],axis=1)\n",
    "#481571148\n",
    "new_vals = ['157-1038', '157-1142', '157-1144', '157-1122', '157-1130', '157-1145', '157-1014', '157-1156', '201-0639', '473-0420', '201-0119', '201-0121', '201-0331', '201-0624', '201-0991', '201-1086', '473-0314', '473-0418', '201-0362', '201-0619', '201-0644', '201-0509', '201-0522', '201-0547', '201-0751', '201-1054', '201-1111', '201-1112', '201-0095', '201-0461', '201-0711', '201-0860', '201-0603', '201-0618', '201-0720', '201-0731', '201-0785', '201-0796', '201-0813', '201-0877', '201-1078', '201-1102', '201-1103', '201-1120', '201-0463', '201-0521', '201-0589', '201-0804', '201-0879', '201-0992', '201-1042', '201-1072', '201-1123', '201-0398', '201-0523', '201-0621', '201-0650', '201-1059', '201-0400', '201-0772', '201-0802', '201-0899', '201-1029', '157-1006', '157-1143', '157-1146', '157-1148', '157-1159', '157-1004', '157-1132', '157-1133', '157-1160']\n",
    "precs = vtd[vtd['PRECINCT22'].isin(new_vals)]\n",
    "precs.head(1)"
   ]
  },
  {
   "cell_type": "markdown",
   "id": "b2c6b31d-f04f-4cc0-a232-e3bb3e0de727",
   "metadata": {},
   "source": [
    "Create dictionaries for matching precincts to Katy ISD Districts and polling locations and add as columns to the precinct file based on info form the KISD_Polling_Locations-2023.pdf"
   ]
  },
  {
   "cell_type": "code",
   "execution_count": 3,
   "id": "30eb4628-2e26-4eed-a57f-8116714ec7f5",
   "metadata": {},
   "outputs": [
    {
     "name": "stderr",
     "output_type": "stream",
     "text": [
      "C:\\Users\\SpencerNelson\\anaconda3\\envs\\maup\\lib\\site-packages\\geopandas\\geodataframe.py:1472: SettingWithCopyWarning: \n",
      "A value is trying to be set on a copy of a slice from a DataFrame.\n",
      "Try using .loc[row_indexer,col_indexer] = value instead\n",
      "\n",
      "See the caveats in the documentation: https://pandas.pydata.org/pandas-docs/stable/user_guide/indexing.html#returning-a-view-versus-a-copy\n",
      "  super().__setitem__(key, value)\n",
      "C:\\Users\\SpencerNelson\\anaconda3\\envs\\maup\\lib\\site-packages\\geopandas\\geodataframe.py:1472: SettingWithCopyWarning: \n",
      "A value is trying to be set on a copy of a slice from a DataFrame.\n",
      "Try using .loc[row_indexer,col_indexer] = value instead\n",
      "\n",
      "See the caveats in the documentation: https://pandas.pydata.org/pandas-docs/stable/user_guide/indexing.html#returning-a-view-versus-a-copy\n",
      "  super().__setitem__(key, value)\n"
     ]
    },
    {
     "data": {
      "text/html": [
       "<div>\n",
       "<style scoped>\n",
       "    .dataframe tbody tr th:only-of-type {\n",
       "        vertical-align: middle;\n",
       "    }\n",
       "\n",
       "    .dataframe tbody tr th {\n",
       "        vertical-align: top;\n",
       "    }\n",
       "\n",
       "    .dataframe thead th {\n",
       "        text-align: right;\n",
       "    }\n",
       "</style>\n",
       "<table border=\"1\" class=\"dataframe\">\n",
       "  <thead>\n",
       "    <tr style=\"text-align: right;\">\n",
       "      <th></th>\n",
       "      <th>PRECINCT22</th>\n",
       "      <th>KATY_DIST</th>\n",
       "      <th>POLL_LOC</th>\n",
       "      <th>geometry</th>\n",
       "    </tr>\n",
       "  </thead>\n",
       "  <tbody>\n",
       "    <tr>\n",
       "      <th>2199</th>\n",
       "      <td>481571145</td>\n",
       "      <td>2</td>\n",
       "      <td>Cinco Ranch High School</td>\n",
       "      <td>POLYGON ((1407497.756 849479.492, 1407522.291 ...</td>\n",
       "    </tr>\n",
       "  </tbody>\n",
       "</table>\n",
       "</div>"
      ],
      "text/plain": [
       "     PRECINCT22 KATY_DIST                 POLL_LOC  \\\n",
       "2199  481571145         2  Cinco Ranch High School   \n",
       "\n",
       "                                               geometry  \n",
       "2199  POLYGON ((1407497.756 849479.492, 1407522.291 ...  "
      ]
     },
     "execution_count": 3,
     "metadata": {},
     "output_type": "execute_result"
    }
   ],
   "source": [
    "katy_dict = {'157-1038': '1', '157-1142': '1', '157-1144': '1', '157-1122': '2', '157-1130': '2', '157-1145': '2', '157-1014': '3', '157-1156': '3', '201-0639': '3', '473-0420': '3', '201-0119': '4', '201-0121': '4', '201-0331': '4', '201-0624': '4', '201-0991': '4', '201-1086': '4', '473-0314': '4', '473-0418': '4', '201-0362': '5', '201-0619': '5', '201-0644': '5', '201-0509': '6', '201-0522': '6', '201-0547': '6', '201-0751': '6', '201-1054': '6', '201-1111': '6', '201-1112': '6', '201-0095': '7', '201-0461': '7', '201-0711': '7', '201-0860': '7', '201-0603': '8', '201-0618': '8', '201-0720': '8', '201-0731': '8', '201-0785': '8', '201-0796': '8', '201-0813': '8', '201-0877': '8', '201-1078': '8', '201-1102': '8', '201-1103': '8', '201-1120': '8', '201-0463': '9', '201-0521': '9', '201-0589': '9', '201-0804': '9', '201-0879': '9', '201-0992': '9', '201-1042': '9', '201-1072': '9', '201-1123': '9', '201-0398': '10', '201-0523': '10', '201-0621': '10', '201-0650': '10', '201-1059': '10', '201-0400': '11', '201-0772': '11', '201-0802': '11', '201-0899': '11', '201-1029': '11', '157-1006': '12', '157-1143': '12', '157-1146': '12', '157-1148': '12', '157-1159': '12', '157-1004': '13', '157-1132': '13', '157-1133': '13', '157-1160': '13'}\n",
    "polling_dict = {'1':'Seven Lakes High School','2':'Cinco Ranch High School','3':'Katy City Hall','4':'Katy Municipal Court Building','5':'Memorial Parkway Junior High','6':'Taylor High School','7':'Maurice Wolfe Elementary','8':'Morton Ranch High School','9':'Mayde Creek Junior High','10':'Bear Creek Elementary','11':'Pattison Elementary','12':'Jordan High School','13':'Beck Junior High'}\n",
    "\n",
    "precs['KATY_DIST']=precs['PRECINCT22'].apply(lambda x: katy_dict.get(x))\n",
    "precs['POLL_LOC']=precs['KATY_DIST'].apply(lambda x: polling_dict.get(x))\n",
    "precs['PRECINCT22'] = precs['PRECINCT22'].apply(lambda x: '48'+str(x).replace('-',''))\n",
    "precs = precs[['PRECINCT22','KATY_DIST','POLL_LOC','geometry']].copy(deep=True)\n",
    "#Get CRS of the precinct file\n",
    "crs= precs.crs\n",
    "precs.head(1)"
   ]
  },
  {
   "cell_type": "markdown",
   "id": "e01b3c9e-a2fb-4131-9b5a-fb82781e4e77",
   "metadata": {},
   "source": [
    "Read in 2016 block-level election data and query out desired columns"
   ]
  },
  {
   "cell_type": "code",
   "execution_count": 4,
   "id": "c7052fc3",
   "metadata": {},
   "outputs": [
    {
     "data": {
      "text/html": [
       "<div>\n",
       "<style scoped>\n",
       "    .dataframe tbody tr th:only-of-type {\n",
       "        vertical-align: middle;\n",
       "    }\n",
       "\n",
       "    .dataframe tbody tr th {\n",
       "        vertical-align: top;\n",
       "    }\n",
       "\n",
       "    .dataframe thead th {\n",
       "        text-align: right;\n",
       "    }\n",
       "</style>\n",
       "<table border=\"1\" class=\"dataframe\">\n",
       "  <thead>\n",
       "    <tr style=\"text-align: right;\">\n",
       "      <th></th>\n",
       "      <th>GEOID20</th>\n",
       "      <th>VAP_MOD</th>\n",
       "      <th>G16PRERTRU</th>\n",
       "      <th>G16PREDCLI</th>\n",
       "      <th>geometry</th>\n",
       "    </tr>\n",
       "  </thead>\n",
       "  <tbody>\n",
       "    <tr>\n",
       "      <th>234233</th>\n",
       "      <td>481576701011000</td>\n",
       "      <td>47</td>\n",
       "      <td>3.0</td>\n",
       "      <td>9.74</td>\n",
       "      <td>POLYGON ((-95.46504 29.59960, -95.46024 29.597...</td>\n",
       "    </tr>\n",
       "  </tbody>\n",
       "</table>\n",
       "</div>"
      ],
      "text/plain": [
       "                GEOID20  VAP_MOD  G16PRERTRU  G16PREDCLI  \\\n",
       "234233  481576701011000       47         3.0        9.74   \n",
       "\n",
       "                                                 geometry  \n",
       "234233  POLYGON ((-95.46504 29.59960, -95.46024 29.597...  "
      ]
     },
     "execution_count": 4,
     "metadata": {},
     "output_type": "execute_result"
    }
   ],
   "source": [
    "elec16 = gp.read_file(os.path.join(os.path.join(data_fold,'tx_2016_gen_2020_blocks'),'tx_2016_gen_2020_blocks.shp'))\n",
    "elec16_sub = elec16[elec16['COUNTYFP'].isin(['201','157','473'])]\n",
    "elec16_sub = elec16_sub[['GEOID20','VAP_MOD','G16PRERTRU','G16PREDCLI','geometry']]\n",
    "elec16_sub.head(1)"
   ]
  },
  {
   "cell_type": "markdown",
   "id": "f5417f53-a6c4-4f4a-809d-53f16f166405",
   "metadata": {},
   "source": [
    "Read in block-level demographic data from the Census Pl 94-171 file and query out and aggregate fields of interest"
   ]
  },
  {
   "cell_type": "code",
   "execution_count": 5,
   "id": "dfed5229-f4fd-4cbf-b63c-41c10bc3163f",
   "metadata": {},
   "outputs": [
    {
     "name": "stderr",
     "output_type": "stream",
     "text": [
      "C:\\Users\\SpencerNelson\\AppData\\Local\\Temp\\ipykernel_1232\\608401889.py:1: DtypeWarning: Columns (29,31,37,38,55) have mixed types. Specify dtype option on import or set low_memory=False.\n",
      "  tx_b = pd.read_csv(os.path.join(os.path.join(data_fold,'tx_pl2020_b'),'tx_pl2020_b.csv'))\n",
      "C:\\Users\\SpencerNelson\\AppData\\Local\\Temp\\ipykernel_1232\\608401889.py:8: SettingWithCopyWarning: \n",
      "A value is trying to be set on a copy of a slice from a DataFrame.\n",
      "Try using .loc[row_indexer,col_indexer] = value instead\n",
      "\n",
      "See the caveats in the documentation: https://pandas.pydata.org/pandas-docs/stable/user_guide/indexing.html#returning-a-view-versus-a-copy\n",
      "  tx_sub['VAPMOD20'] = tx_sub['P0030001']-tx_sub['P0050003']\n",
      "C:\\Users\\SpencerNelson\\AppData\\Local\\Temp\\ipykernel_1232\\608401889.py:9: SettingWithCopyWarning: \n",
      "A value is trying to be set on a copy of a slice from a DataFrame.\n",
      "Try using .loc[row_indexer,col_indexer] = value instead\n",
      "\n",
      "See the caveats in the documentation: https://pandas.pydata.org/pandas-docs/stable/user_guide/indexing.html#returning-a-view-versus-a-copy\n",
      "  tx_sub['VAPMOD20'] = tx_sub['VAPMOD20'].apply(lambda x: 0 if x<0 else x)\n",
      "C:\\Users\\SpencerNelson\\AppData\\Local\\Temp\\ipykernel_1232\\608401889.py:10: SettingWithCopyWarning: \n",
      "A value is trying to be set on a copy of a slice from a DataFrame.\n",
      "Try using .loc[row_indexer,col_indexer] = value instead\n",
      "\n",
      "See the caveats in the documentation: https://pandas.pydata.org/pandas-docs/stable/user_guide/indexing.html#returning-a-view-versus-a-copy\n",
      "  tx_sub['APBVAP20'] = tx_sub[any_part_black_fields].sum(axis=1)\n",
      "C:\\Users\\SpencerNelson\\AppData\\Local\\Temp\\ipykernel_1232\\608401889.py:14: SettingWithCopyWarning: \n",
      "A value is trying to be set on a copy of a slice from a DataFrame\n",
      "\n",
      "See the caveats in the documentation: https://pandas.pydata.org/pandas-docs/stable/user_guide/indexing.html#returning-a-view-versus-a-copy\n",
      "  b.rename(columns = rename_dict,inplace=True)\n"
     ]
    },
    {
     "data": {
      "text/html": [
       "<div>\n",
       "<style scoped>\n",
       "    .dataframe tbody tr th:only-of-type {\n",
       "        vertical-align: middle;\n",
       "    }\n",
       "\n",
       "    .dataframe tbody tr th {\n",
       "        vertical-align: top;\n",
       "    }\n",
       "\n",
       "    .dataframe thead th {\n",
       "        text-align: right;\n",
       "    }\n",
       "</style>\n",
       "<table border=\"1\" class=\"dataframe\">\n",
       "  <thead>\n",
       "    <tr style=\"text-align: right;\">\n",
       "      <th></th>\n",
       "      <th>GEOID20</th>\n",
       "      <th>TOTPOP20</th>\n",
       "      <th>VAP20</th>\n",
       "      <th>VAPMOD20</th>\n",
       "      <th>APBVAP20</th>\n",
       "      <th>HVAP20</th>\n",
       "      <th>WVAP20</th>\n",
       "    </tr>\n",
       "  </thead>\n",
       "  <tbody>\n",
       "    <tr>\n",
       "      <th>234233</th>\n",
       "      <td>481576701011000</td>\n",
       "      <td>62</td>\n",
       "      <td>47</td>\n",
       "      <td>47</td>\n",
       "      <td>3</td>\n",
       "      <td>38</td>\n",
       "      <td>6</td>\n",
       "    </tr>\n",
       "  </tbody>\n",
       "</table>\n",
       "</div>"
      ],
      "text/plain": [
       "                GEOID20  TOTPOP20  VAP20  VAPMOD20  APBVAP20  HVAP20  WVAP20\n",
       "234233  481576701011000        62     47        47         3      38       6"
      ]
     },
     "execution_count": 5,
     "metadata": {},
     "output_type": "execute_result"
    }
   ],
   "source": [
    "tx_b = pd.read_csv(os.path.join(os.path.join(data_fold,'tx_pl2020_b'),'tx_pl2020_b.csv'))\n",
    "tx_sub = tx_b[tx_b['COUNTY'].isin([201,157,473])]\n",
    "any_part_black_fields = ['P0030004','P0030011','P0030016','P0030017','P0030018','P0030019','P0030027','P0030028','P0030029','P0030030','P0030037','P0030038','P0030039','P0030040','P0030041','P0030042','P0030048','P0030049','P0030050','P0030051','P0030052','P0030053','P0030058','P0030059','P0030060','P0030061','P0030064','P0030065','P0030066','P0030067','P0030069','P0030071']\n",
    "hispanic_field = ['P0040002']\n",
    "white_field = ['P0040005']\n",
    "total_vap = ['P0030001']\n",
    "total_pop = ['P0010001']\n",
    "tx_sub['VAPMOD20'] = tx_sub['P0030001']-tx_sub['P0050003']\n",
    "tx_sub['VAPMOD20'] = tx_sub['VAPMOD20'].apply(lambda x: 0 if x<0 else x)\n",
    "tx_sub['APBVAP20'] = tx_sub[any_part_black_fields].sum(axis=1)\n",
    "col_to_keep = ['GEOCODE']+total_pop+total_vap+['VAPMOD20']+['APBVAP20']+hispanic_field+white_field\n",
    "b = tx_sub[col_to_keep]\n",
    "rename_dict = {'GEOCODE':'GEOID20','P0010001':'TOTPOP20','P0040002':'HVAP20','P0040005':'WVAP20','P0030001':'VAP20'}\n",
    "b.rename(columns = rename_dict,inplace=True)\n",
    "b.head(1)"
   ]
  },
  {
   "cell_type": "markdown",
   "id": "8e988dab-e125-410e-b61b-e55a8390fde5",
   "metadata": {},
   "source": [
    "Join block-level election results and demographic data together"
   ]
  },
  {
   "cell_type": "code",
   "execution_count": 6,
   "id": "62de5841-cda4-4f2d-8c34-20fa34fbfa06",
   "metadata": {},
   "outputs": [
    {
     "name": "stderr",
     "output_type": "stream",
     "text": [
      "C:\\Users\\SpencerNelson\\AppData\\Local\\Temp\\ipykernel_1232\\1828396079.py:2: SettingWithCopyWarning: \n",
      "A value is trying to be set on a copy of a slice from a DataFrame.\n",
      "Try using .loc[row_indexer,col_indexer] = value instead\n",
      "\n",
      "See the caveats in the documentation: https://pandas.pydata.org/pandas-docs/stable/user_guide/indexing.html#returning-a-view-versus-a-copy\n",
      "  b['GEOID20'] = b['GEOID20'].astype(str)\n"
     ]
    },
    {
     "data": {
      "text/html": [
       "<div>\n",
       "<style scoped>\n",
       "    .dataframe tbody tr th:only-of-type {\n",
       "        vertical-align: middle;\n",
       "    }\n",
       "\n",
       "    .dataframe tbody tr th {\n",
       "        vertical-align: top;\n",
       "    }\n",
       "\n",
       "    .dataframe thead th {\n",
       "        text-align: right;\n",
       "    }\n",
       "</style>\n",
       "<table border=\"1\" class=\"dataframe\">\n",
       "  <thead>\n",
       "    <tr style=\"text-align: right;\">\n",
       "      <th></th>\n",
       "      <th>GEOID20</th>\n",
       "      <th>VAP_MOD</th>\n",
       "      <th>G16PRERTRU</th>\n",
       "      <th>G16PREDCLI</th>\n",
       "      <th>geometry</th>\n",
       "      <th>TOTPOP20</th>\n",
       "      <th>VAP20</th>\n",
       "      <th>VAPMOD20</th>\n",
       "      <th>APBVAP20</th>\n",
       "      <th>HVAP20</th>\n",
       "      <th>WVAP20</th>\n",
       "      <th>_merge</th>\n",
       "    </tr>\n",
       "  </thead>\n",
       "  <tbody>\n",
       "  </tbody>\n",
       "</table>\n",
       "</div>"
      ],
      "text/plain": [
       "Empty GeoDataFrame\n",
       "Columns: [GEOID20, VAP_MOD, G16PRERTRU, G16PREDCLI, geometry, TOTPOP20, VAP20, VAPMOD20, APBVAP20, HVAP20, WVAP20, _merge]\n",
       "Index: []"
      ]
     },
     "metadata": {},
     "output_type": "display_data"
    },
    {
     "data": {
      "text/html": [
       "<div>\n",
       "<style scoped>\n",
       "    .dataframe tbody tr th:only-of-type {\n",
       "        vertical-align: middle;\n",
       "    }\n",
       "\n",
       "    .dataframe tbody tr th {\n",
       "        vertical-align: top;\n",
       "    }\n",
       "\n",
       "    .dataframe thead th {\n",
       "        text-align: right;\n",
       "    }\n",
       "</style>\n",
       "<table border=\"1\" class=\"dataframe\">\n",
       "  <thead>\n",
       "    <tr style=\"text-align: right;\">\n",
       "      <th></th>\n",
       "      <th>GEOID20</th>\n",
       "      <th>TOTPOP20</th>\n",
       "      <th>VAP20</th>\n",
       "      <th>VAPMOD20</th>\n",
       "      <th>APBVAP20</th>\n",
       "      <th>HVAP20</th>\n",
       "      <th>WVAP20</th>\n",
       "      <th>G16PRERTRU</th>\n",
       "      <th>G16PREDCLI</th>\n",
       "      <th>geometry</th>\n",
       "    </tr>\n",
       "  </thead>\n",
       "  <tbody>\n",
       "    <tr>\n",
       "      <th>0</th>\n",
       "      <td>481576701011000</td>\n",
       "      <td>62</td>\n",
       "      <td>47</td>\n",
       "      <td>47</td>\n",
       "      <td>3</td>\n",
       "      <td>38</td>\n",
       "      <td>6</td>\n",
       "      <td>3.0</td>\n",
       "      <td>9.74</td>\n",
       "      <td>POLYGON ((-95.46504 29.59960, -95.46024 29.597...</td>\n",
       "    </tr>\n",
       "  </tbody>\n",
       "</table>\n",
       "</div>"
      ],
      "text/plain": [
       "           GEOID20  TOTPOP20  VAP20  VAPMOD20  APBVAP20  HVAP20  WVAP20  \\\n",
       "0  481576701011000        62     47        47         3      38       6   \n",
       "\n",
       "   G16PRERTRU  G16PREDCLI                                           geometry  \n",
       "0         3.0        9.74  POLYGON ((-95.46504 29.59960, -95.46024 29.597...  "
      ]
     },
     "execution_count": 6,
     "metadata": {},
     "output_type": "execute_result"
    }
   ],
   "source": [
    "elec16_sub['GEOID20'] = elec16_sub['GEOID20'].astype(str)\n",
    "b['GEOID20'] = b['GEOID20'].astype(str)\n",
    "b_joined = pd.merge(elec16_sub, b, on ='GEOID20',how='outer',indicator=True)\n",
    "display(b_joined[b_joined['_merge']!='both'])\n",
    "b_joined.drop(columns = '_merge',inplace=True)\n",
    "b_joined = b_joined[['GEOID20', 'TOTPOP20', 'VAP20', 'VAPMOD20', 'APBVAP20', 'HVAP20', 'WVAP20','G16PRERTRU', 'G16PREDCLI', 'geometry']]\n",
    "b_joined.head(1)"
   ]
  },
  {
   "cell_type": "markdown",
   "id": "9ff27ffd-e45d-41d1-9bc6-b3abcdd2c6d9",
   "metadata": {},
   "source": [
    "Read in school district boundaries and query out Katy ISD"
   ]
  },
  {
   "cell_type": "code",
   "execution_count": 7,
   "id": "bc57888d-b021-418e-bf4f-e8ee93c21540",
   "metadata": {},
   "outputs": [
    {
     "data": {
      "text/html": [
       "<div>\n",
       "<style scoped>\n",
       "    .dataframe tbody tr th:only-of-type {\n",
       "        vertical-align: middle;\n",
       "    }\n",
       "\n",
       "    .dataframe tbody tr th {\n",
       "        vertical-align: top;\n",
       "    }\n",
       "\n",
       "    .dataframe thead th {\n",
       "        text-align: right;\n",
       "    }\n",
       "</style>\n",
       "<table border=\"1\" class=\"dataframe\">\n",
       "  <thead>\n",
       "    <tr style=\"text-align: right;\">\n",
       "      <th></th>\n",
       "      <th>NAME20</th>\n",
       "      <th>geometry</th>\n",
       "    </tr>\n",
       "  </thead>\n",
       "  <tbody>\n",
       "    <tr>\n",
       "      <th>709</th>\n",
       "      <td>Katy Independent School District</td>\n",
       "      <td>POLYGON ((1407156.153 869955.347, 1407247.654 ...</td>\n",
       "    </tr>\n",
       "  </tbody>\n",
       "</table>\n",
       "</div>"
      ],
      "text/plain": [
       "                               NAME20  \\\n",
       "709  Katy Independent School District   \n",
       "\n",
       "                                              geometry  \n",
       "709  POLYGON ((1407156.153 869955.347, 1407247.654 ...  "
      ]
     },
     "execution_count": 7,
     "metadata": {},
     "output_type": "execute_result"
    }
   ],
   "source": [
    "tx_schools = gp.read_file(os.path.join(data_fold,'SchoolDistricts_SY2122.shp'))\n",
    "tx_schools = tx_schools[['NAME20','geometry']]\n",
    "katy_bound = tx_schools[tx_schools['NAME20'].str.contains('Katy')]\n",
    "katy_bound = katy_bound.to_crs(crs)\n",
    "katy_bound.head(1)"
   ]
  },
  {
   "cell_type": "markdown",
   "id": "b0bbdafa-e5c4-4ed1-b87e-4b9b5bf6df1a",
   "metadata": {},
   "source": [
    "Read in Texas state boundary file and create a geodataframe of Katy ISD and the rest of Texas boundaries to use for maup to ensure data is properly assigned"
   ]
  },
  {
   "cell_type": "code",
   "execution_count": 8,
   "id": "3be6a0a8",
   "metadata": {},
   "outputs": [
    {
     "data": {
      "text/html": [
       "<div>\n",
       "<style scoped>\n",
       "    .dataframe tbody tr th:only-of-type {\n",
       "        vertical-align: middle;\n",
       "    }\n",
       "\n",
       "    .dataframe tbody tr th {\n",
       "        vertical-align: top;\n",
       "    }\n",
       "\n",
       "    .dataframe thead th {\n",
       "        text-align: right;\n",
       "    }\n",
       "</style>\n",
       "<table border=\"1\" class=\"dataframe\">\n",
       "  <thead>\n",
       "    <tr style=\"text-align: right;\">\n",
       "      <th></th>\n",
       "      <th>NAME20</th>\n",
       "      <th>geometry</th>\n",
       "    </tr>\n",
       "  </thead>\n",
       "  <tbody>\n",
       "    <tr>\n",
       "      <th>0</th>\n",
       "      <td>Texas</td>\n",
       "      <td>POLYGON ((624768.847 1098969.672, 624791.653 1...</td>\n",
       "    </tr>\n",
       "    <tr>\n",
       "      <th>709</th>\n",
       "      <td>Katy Independent School District</td>\n",
       "      <td>POLYGON ((1407156.153 869955.347, 1407247.654 ...</td>\n",
       "    </tr>\n",
       "  </tbody>\n",
       "</table>\n",
       "</div>"
      ],
      "text/plain": [
       "                               NAME20  \\\n",
       "0                               Texas   \n",
       "709  Katy Independent School District   \n",
       "\n",
       "                                              geometry  \n",
       "0    POLYGON ((624768.847 1098969.672, 624791.653 1...  \n",
       "709  POLYGON ((1407156.153 869955.347, 1407247.654 ...  "
      ]
     },
     "execution_count": 8,
     "metadata": {},
     "output_type": "execute_result"
    },
    {
     "data": {
      "image/png": "[encoded data removed]",
      "text/plain": [
       "<Figure size 432x288 with 1 Axes>"
      ]
     },
     "metadata": {
      "needs_background": "light"
     },
     "output_type": "display_data"
    },
    {
     "data": {
      "image/png": "[encoded data removed]",
      "text/plain": [
       "<Figure size 432x288 with 1 Axes>"
      ]
     },
     "metadata": {
      "needs_background": "light"
     },
     "output_type": "display_data"
    },
    {
     "data": {
      "image/png": "[encoded data removed]",
      "text/plain": [
       "<Figure size 432x288 with 1 Axes>"
      ]
     },
     "metadata": {
      "needs_background": "light"
     },
     "output_type": "display_data"
    }
   ],
   "source": [
    "tx_bound = gp.read_file(os.path.join(os.path.join(data_fold,'tx_st_2020_bound'),'tx_st_2020_bound.shp'))\n",
    "tx_bound = tx_bound.to_crs(crs)\n",
    "tx_bound = tx_bound[['geometry']]\n",
    "tx_no_katy = gp.overlay(tx_bound,katy_bound, how='symmetric_difference')\n",
    "tx_no_katy['NAME20']='Texas'\n",
    "tx_katy = gp.GeoDataFrame(pd.concat([tx_no_katy,katy_bound]))\n",
    "tx_katy = tx_katy[['NAME20','geometry']]\n",
    "tx_bound.plot()\n",
    "katy_bound.plot()\n",
    "tx_katy.plot()\n",
    "tx_katy"
   ]
  },
  {
   "cell_type": "markdown",
   "id": "bab3e26d-bd07-474f-aa9a-b5212cfc39bd",
   "metadata": {},
   "source": [
    "Read in 2020 primary election data and query out election columns of interest and assign blocks to 2020 VTDS"
   ]
  },
  {
   "cell_type": "code",
   "execution_count": 9,
   "id": "255b63f3-3c62-4b0d-8979-c69d3a9743d9",
   "metadata": {},
   "outputs": [
    {
     "name": "stderr",
     "output_type": "stream",
     "text": [
      "C:\\Users\\SpencerNelson\\anaconda3\\envs\\maup\\lib\\site-packages\\maup\\indexed_geometries.py:15: ShapelyDeprecationWarning: Setting custom attributes on geometry objects is deprecated, and will raise an AttributeError in Shapely 2.0\n",
      "  geometry.index = i\n"
     ]
    },
    {
     "data": {
      "text/html": [
       "<div>\n",
       "<style scoped>\n",
       "    .dataframe tbody tr th:only-of-type {\n",
       "        vertical-align: middle;\n",
       "    }\n",
       "\n",
       "    .dataframe tbody tr th {\n",
       "        vertical-align: top;\n",
       "    }\n",
       "\n",
       "    .dataframe thead th {\n",
       "        text-align: right;\n",
       "    }\n",
       "</style>\n",
       "<table border=\"1\" class=\"dataframe\">\n",
       "  <thead>\n",
       "    <tr style=\"text-align: right;\">\n",
       "      <th></th>\n",
       "      <th>UNIQUE_ID</th>\n",
       "      <th>P20USSDHEG</th>\n",
       "      <th>P20USSDWES</th>\n",
       "      <th>geometry</th>\n",
       "      <th>VAPMOD20</th>\n",
       "    </tr>\n",
       "  </thead>\n",
       "  <tbody>\n",
       "    <tr>\n",
       "      <th>1570</th>\n",
       "      <td>157-1001</td>\n",
       "      <td>61</td>\n",
       "      <td>14</td>\n",
       "      <td>POLYGON ((1411714.880 832683.163, 1411608.596 ...</td>\n",
       "      <td>2569.0</td>\n",
       "    </tr>\n",
       "  </tbody>\n",
       "</table>\n",
       "</div>"
      ],
      "text/plain": [
       "     UNIQUE_ID  P20USSDHEG  P20USSDWES  \\\n",
       "1570  157-1001          61          14   \n",
       "\n",
       "                                               geometry  VAPMOD20  \n",
       "1570  POLYGON ((1411714.880 832683.163, 1411608.596 ...    2569.0  "
      ]
     },
     "execution_count": 9,
     "metadata": {},
     "output_type": "execute_result"
    }
   ],
   "source": [
    "vtd20 = gp.read_file(os.path.join(data_fold,'tx_20_st_vtd.shp'))\n",
    "vtd20 = vtd20[['UNIQUE_ID','P20USSDHEG','P20USSDWES','geometry']]\n",
    "\n",
    "vtd20 = vtd20.to_crs(crs)\n",
    "b_joined = b_joined.to_crs(crs)\n",
    "tx_katy = tx_katy.to_crs(crs)\n",
    "\n",
    "vtd20_block_assign = maup.assign(b_joined,vtd20)\n",
    "vtd20['VAPMOD20'] = b_joined['VAPMOD20'].groupby(vtd20_block_assign).sum()\n",
    "vtd20['VAPMOD20'] = vtd20['VAPMOD20'].fillna(-1)\n",
    "vtd20_sub = vtd20[vtd20['VAPMOD20']>-1]\n",
    "\n",
    "vtd20_sub.head(1)"
   ]
  },
  {
   "cell_type": "markdown",
   "id": "2028ba10-2566-4632-91c2-653c11bff167",
   "metadata": {},
   "source": [
    "Disaggregate 2020 election data to 2020 blocks"
   ]
  },
  {
   "cell_type": "code",
   "execution_count": 10,
   "id": "90b7196d-923f-4df9-978a-4a5426c6693c",
   "metadata": {},
   "outputs": [
    {
     "data": {
      "text/html": [
       "<div>\n",
       "<style scoped>\n",
       "    .dataframe tbody tr th:only-of-type {\n",
       "        vertical-align: middle;\n",
       "    }\n",
       "\n",
       "    .dataframe tbody tr th {\n",
       "        vertical-align: top;\n",
       "    }\n",
       "\n",
       "    .dataframe thead th {\n",
       "        text-align: right;\n",
       "    }\n",
       "</style>\n",
       "<table border=\"1\" class=\"dataframe\">\n",
       "  <thead>\n",
       "    <tr style=\"text-align: right;\">\n",
       "      <th></th>\n",
       "      <th>GEOID20</th>\n",
       "      <th>TOTPOP20</th>\n",
       "      <th>VAP20</th>\n",
       "      <th>VAPMOD20</th>\n",
       "      <th>APBVAP20</th>\n",
       "      <th>HVAP20</th>\n",
       "      <th>WVAP20</th>\n",
       "      <th>G16PRERTRU</th>\n",
       "      <th>G16PREDCLI</th>\n",
       "      <th>geometry</th>\n",
       "      <th>P20USSDHEG</th>\n",
       "      <th>P20USSDWES</th>\n",
       "    </tr>\n",
       "  </thead>\n",
       "  <tbody>\n",
       "    <tr>\n",
       "      <th>0</th>\n",
       "      <td>481576701011000</td>\n",
       "      <td>62</td>\n",
       "      <td>47</td>\n",
       "      <td>47</td>\n",
       "      <td>3</td>\n",
       "      <td>38</td>\n",
       "      <td>6</td>\n",
       "      <td>3.0</td>\n",
       "      <td>9.74</td>\n",
       "      <td>POLYGON ((1438415.407 835611.315, 1438890.023 ...</td>\n",
       "      <td>0.24</td>\n",
       "      <td>0.13</td>\n",
       "    </tr>\n",
       "  </tbody>\n",
       "</table>\n",
       "</div>"
      ],
      "text/plain": [
       "           GEOID20  TOTPOP20  VAP20  VAPMOD20  APBVAP20  HVAP20  WVAP20  \\\n",
       "0  481576701011000        62     47        47         3      38       6   \n",
       "\n",
       "   G16PRERTRU  G16PREDCLI                                           geometry  \\\n",
       "0         3.0        9.74  POLYGON ((1438415.407 835611.315, 1438890.023 ...   \n",
       "\n",
       "   P20USSDHEG  P20USSDWES  \n",
       "0        0.24        0.13  "
      ]
     },
     "execution_count": 10,
     "metadata": {},
     "output_type": "execute_result"
    }
   ],
   "source": [
    "elec20_cols = ['P20USSDHEG','P20USSDWES']\n",
    "weights = b_joined.VAPMOD20/vtd20_block_assign.map(vtd20_sub.VAPMOD20)\n",
    "b_joined[elec20_cols] = maup.prorate(vtd20_block_assign,vtd20_sub[elec20_cols],weights)\n",
    "for i in elec20_cols:\n",
    "    b_joined[i] = b_joined[i].apply(lambda x: round(x,2))\n",
    "b_joined.head(1)"
   ]
  },
  {
   "cell_type": "markdown",
   "id": "7502c600-a14c-4c65-85a1-63a962bec627",
   "metadata": {},
   "source": [
    "Query out blocks that are just in Katy ISD"
   ]
  },
  {
   "cell_type": "code",
   "execution_count": 11,
   "id": "d323ef40-1036-4618-9264-235e9595396d",
   "metadata": {},
   "outputs": [
    {
     "name": "stderr",
     "output_type": "stream",
     "text": [
      "C:\\Users\\SpencerNelson\\AppData\\Local\\Temp\\ipykernel_1232\\686454537.py:7: SettingWithCopyWarning: \n",
      "A value is trying to be set on a copy of a slice from a DataFrame\n",
      "\n",
      "See the caveats in the documentation: https://pandas.pydata.org/pandas-docs/stable/user_guide/indexing.html#returning-a-view-versus-a-copy\n",
      "  blocks_in_katy.drop(columns = 'SD',inplace=True)\n"
     ]
    },
    {
     "data": {
      "text/html": [
       "<div>\n",
       "<style scoped>\n",
       "    .dataframe tbody tr th:only-of-type {\n",
       "        vertical-align: middle;\n",
       "    }\n",
       "\n",
       "    .dataframe tbody tr th {\n",
       "        vertical-align: top;\n",
       "    }\n",
       "\n",
       "    .dataframe thead th {\n",
       "        text-align: right;\n",
       "    }\n",
       "</style>\n",
       "<table border=\"1\" class=\"dataframe\">\n",
       "  <thead>\n",
       "    <tr style=\"text-align: right;\">\n",
       "      <th></th>\n",
       "      <th>GEOID20</th>\n",
       "      <th>TOTPOP20</th>\n",
       "      <th>VAP20</th>\n",
       "      <th>VAPMOD20</th>\n",
       "      <th>APBVAP20</th>\n",
       "      <th>HVAP20</th>\n",
       "      <th>WVAP20</th>\n",
       "      <th>G16PRERTRU</th>\n",
       "      <th>G16PREDCLI</th>\n",
       "      <th>geometry</th>\n",
       "      <th>P20USSDHEG</th>\n",
       "      <th>P20USSDWES</th>\n",
       "    </tr>\n",
       "    <tr>\n",
       "      <th>GEOID20</th>\n",
       "      <th></th>\n",
       "      <th></th>\n",
       "      <th></th>\n",
       "      <th></th>\n",
       "      <th></th>\n",
       "      <th></th>\n",
       "      <th></th>\n",
       "      <th></th>\n",
       "      <th></th>\n",
       "      <th></th>\n",
       "      <th></th>\n",
       "      <th></th>\n",
       "    </tr>\n",
       "  </thead>\n",
       "  <tbody>\n",
       "    <tr>\n",
       "      <th>481576729022000</th>\n",
       "      <td>481576729022000</td>\n",
       "      <td>0</td>\n",
       "      <td>0</td>\n",
       "      <td>0</td>\n",
       "      <td>0</td>\n",
       "      <td>0</td>\n",
       "      <td>0</td>\n",
       "      <td>0.0</td>\n",
       "      <td>0.0</td>\n",
       "      <td>POLYGON ((1410309.468 845871.115, 1410358.149 ...</td>\n",
       "      <td>0.0</td>\n",
       "      <td>0.0</td>\n",
       "    </tr>\n",
       "  </tbody>\n",
       "</table>\n",
       "</div>"
      ],
      "text/plain": [
       "                         GEOID20  TOTPOP20  VAP20  VAPMOD20  APBVAP20  HVAP20  \\\n",
       "GEOID20                                                                         \n",
       "481576729022000  481576729022000         0      0         0         0       0   \n",
       "\n",
       "                 WVAP20  G16PRERTRU  G16PREDCLI  \\\n",
       "GEOID20                                           \n",
       "481576729022000       0         0.0         0.0   \n",
       "\n",
       "                                                          geometry  \\\n",
       "GEOID20                                                              \n",
       "481576729022000  POLYGON ((1410309.468 845871.115, 1410358.149 ...   \n",
       "\n",
       "                 P20USSDHEG  P20USSDWES  \n",
       "GEOID20                                  \n",
       "481576729022000         0.0         0.0  "
      ]
     },
     "execution_count": 11,
     "metadata": {},
     "output_type": "execute_result"
    },
    {
     "data": {
      "image/png": "[encoded data removed]",
      "text/plain": [
       "<Figure size 432x288 with 1 Axes>"
      ]
     },
     "metadata": {
      "needs_background": "light"
     },
     "output_type": "display_data"
    }
   ],
   "source": [
    "b_joined_for_maup = b_joined.copy(deep=True)\n",
    "b_joined_for_maup.set_index('GEOID20',drop=False,inplace=True)\n",
    "tx_katy_maup = tx_katy.copy(deep=True)\n",
    "tx_katy_maup.set_index('NAME20',inplace=True,drop=False)\n",
    "b_joined_for_maup['SD'] = maup.assign(b_joined_for_maup,tx_katy_maup)\n",
    "blocks_in_katy = b_joined_for_maup[b_joined_for_maup['SD'].str.contains('Katy')]\n",
    "blocks_in_katy.drop(columns = 'SD',inplace=True)\n",
    "\n",
    "blocks_in_katy.plot()\n",
    "blocks_in_katy.head(1)"
   ]
  },
  {
   "cell_type": "markdown",
   "id": "fb6f38a9-1174-4546-a0c7-1250650e9907",
   "metadata": {},
   "source": [
    "Clip 2022 precincts to Katy ISD"
   ]
  },
  {
   "cell_type": "code",
   "execution_count": 12,
   "id": "8d38954e-71c0-4104-8c84-4fcf90519b91",
   "metadata": {},
   "outputs": [
    {
     "data": {
      "text/plain": [
       "<AxesSubplot:>"
      ]
     },
     "execution_count": 12,
     "metadata": {},
     "output_type": "execute_result"
    },
    {
     "data": {
      "image/png": "[encoded data removed]",
      "text/plain": [
       "<Figure size 432x288 with 1 Axes>"
      ]
     },
     "metadata": {
      "needs_background": "light"
     },
     "output_type": "display_data"
    }
   ],
   "source": [
    "precs_clip = gp.clip(precs,katy_bound,keep_geom_type=True)\n",
    "precs_clip\n",
    "precs_clip.plot()"
   ]
  },
  {
   "cell_type": "markdown",
   "id": "576e5a24-3419-4d08-a628-8484eda85417",
   "metadata": {},
   "source": [
    "Assign precincts, polling lications, and Katy ISD Districts to blocks "
   ]
  },
  {
   "cell_type": "code",
   "execution_count": 13,
   "id": "8846e9bd-5fdf-4450-ab17-e85321f4cd8f",
   "metadata": {},
   "outputs": [
    {
     "name": "stderr",
     "output_type": "stream",
     "text": [
      "C:\\Users\\SpencerNelson\\anaconda3\\envs\\maup\\lib\\site-packages\\geopandas\\geodataframe.py:1472: SettingWithCopyWarning: \n",
      "A value is trying to be set on a copy of a slice from a DataFrame.\n",
      "Try using .loc[row_indexer,col_indexer] = value instead\n",
      "\n",
      "See the caveats in the documentation: https://pandas.pydata.org/pandas-docs/stable/user_guide/indexing.html#returning-a-view-versus-a-copy\n",
      "  super().__setitem__(key, value)\n",
      "C:\\Users\\SpencerNelson\\anaconda3\\envs\\maup\\lib\\site-packages\\geopandas\\geodataframe.py:1472: SettingWithCopyWarning: \n",
      "A value is trying to be set on a copy of a slice from a DataFrame.\n",
      "Try using .loc[row_indexer,col_indexer] = value instead\n",
      "\n",
      "See the caveats in the documentation: https://pandas.pydata.org/pandas-docs/stable/user_guide/indexing.html#returning-a-view-versus-a-copy\n",
      "  super().__setitem__(key, value)\n",
      "C:\\Users\\SpencerNelson\\anaconda3\\envs\\maup\\lib\\site-packages\\geopandas\\geodataframe.py:1472: SettingWithCopyWarning: \n",
      "A value is trying to be set on a copy of a slice from a DataFrame.\n",
      "Try using .loc[row_indexer,col_indexer] = value instead\n",
      "\n",
      "See the caveats in the documentation: https://pandas.pydata.org/pandas-docs/stable/user_guide/indexing.html#returning-a-view-versus-a-copy\n",
      "  super().__setitem__(key, value)\n",
      "C:\\Users\\SpencerNelson\\anaconda3\\envs\\maup\\lib\\site-packages\\geopandas\\geodataframe.py:1472: SettingWithCopyWarning: \n",
      "A value is trying to be set on a copy of a slice from a DataFrame.\n",
      "Try using .loc[row_indexer,col_indexer] = value instead\n",
      "\n",
      "See the caveats in the documentation: https://pandas.pydata.org/pandas-docs/stable/user_guide/indexing.html#returning-a-view-versus-a-copy\n",
      "  super().__setitem__(key, value)\n",
      "C:\\Users\\SpencerNelson\\AppData\\Local\\Temp\\ipykernel_1232\\1766371989.py:18: SettingWithCopyWarning: \n",
      "A value is trying to be set on a copy of a slice from a DataFrame\n",
      "\n",
      "See the caveats in the documentation: https://pandas.pydata.org/pandas-docs/stable/user_guide/indexing.html#returning-a-view-versus-a-copy\n",
      "  blocks_in_katy.drop(columns = 'PRECINCT_HOLD',inplace=True)\n"
     ]
    },
    {
     "data": {
      "text/html": [
       "<div>\n",
       "<style scoped>\n",
       "    .dataframe tbody tr th:only-of-type {\n",
       "        vertical-align: middle;\n",
       "    }\n",
       "\n",
       "    .dataframe tbody tr th {\n",
       "        vertical-align: top;\n",
       "    }\n",
       "\n",
       "    .dataframe thead th {\n",
       "        text-align: right;\n",
       "    }\n",
       "</style>\n",
       "<table border=\"1\" class=\"dataframe\">\n",
       "  <thead>\n",
       "    <tr style=\"text-align: right;\">\n",
       "      <th></th>\n",
       "      <th>GEOID20</th>\n",
       "      <th>PRECINCT22</th>\n",
       "      <th>KATY_DIST</th>\n",
       "      <th>POLL_LOC</th>\n",
       "      <th>TOTPOP20</th>\n",
       "      <th>VAP20</th>\n",
       "      <th>VAPMOD20</th>\n",
       "      <th>APBVAP20</th>\n",
       "      <th>HVAP20</th>\n",
       "      <th>WVAP20</th>\n",
       "      <th>G16PRERTRU</th>\n",
       "      <th>G16PREDCLI</th>\n",
       "      <th>P20USSDHEG</th>\n",
       "      <th>P20USSDWES</th>\n",
       "      <th>geometry</th>\n",
       "    </tr>\n",
       "  </thead>\n",
       "  <tbody>\n",
       "    <tr>\n",
       "      <th>0</th>\n",
       "      <td>481576729022000</td>\n",
       "      <td>481571132</td>\n",
       "      <td>13</td>\n",
       "      <td>Beck Junior High</td>\n",
       "      <td>0</td>\n",
       "      <td>0</td>\n",
       "      <td>0</td>\n",
       "      <td>0</td>\n",
       "      <td>0</td>\n",
       "      <td>0</td>\n",
       "      <td>0.00</td>\n",
       "      <td>0.00</td>\n",
       "      <td>0.00</td>\n",
       "      <td>0.0</td>\n",
       "      <td>POLYGON ((1410309.468 845871.115, 1410358.149 ...</td>\n",
       "    </tr>\n",
       "    <tr>\n",
       "      <th>1</th>\n",
       "      <td>481576729023000</td>\n",
       "      <td>481571132</td>\n",
       "      <td>13</td>\n",
       "      <td>Beck Junior High</td>\n",
       "      <td>0</td>\n",
       "      <td>0</td>\n",
       "      <td>0</td>\n",
       "      <td>0</td>\n",
       "      <td>0</td>\n",
       "      <td>0</td>\n",
       "      <td>0.00</td>\n",
       "      <td>0.00</td>\n",
       "      <td>0.00</td>\n",
       "      <td>0.0</td>\n",
       "      <td>POLYGON ((1410059.083 845841.123, 1410120.359 ...</td>\n",
       "    </tr>\n",
       "    <tr>\n",
       "      <th>2</th>\n",
       "      <td>481576729023001</td>\n",
       "      <td>481571132</td>\n",
       "      <td>13</td>\n",
       "      <td>Beck Junior High</td>\n",
       "      <td>0</td>\n",
       "      <td>0</td>\n",
       "      <td>0</td>\n",
       "      <td>0</td>\n",
       "      <td>0</td>\n",
       "      <td>0</td>\n",
       "      <td>0.00</td>\n",
       "      <td>0.00</td>\n",
       "      <td>0.00</td>\n",
       "      <td>0.0</td>\n",
       "      <td>POLYGON ((1409454.382 845758.680, 1409466.519 ...</td>\n",
       "    </tr>\n",
       "    <tr>\n",
       "      <th>3</th>\n",
       "      <td>481576729023010</td>\n",
       "      <td>481571132</td>\n",
       "      <td>13</td>\n",
       "      <td>Beck Junior High</td>\n",
       "      <td>0</td>\n",
       "      <td>0</td>\n",
       "      <td>0</td>\n",
       "      <td>0</td>\n",
       "      <td>0</td>\n",
       "      <td>0</td>\n",
       "      <td>0.00</td>\n",
       "      <td>0.00</td>\n",
       "      <td>0.00</td>\n",
       "      <td>0.0</td>\n",
       "      <td>POLYGON ((1408947.323 845693.630, 1409285.445 ...</td>\n",
       "    </tr>\n",
       "    <tr>\n",
       "      <th>4</th>\n",
       "      <td>481576729023011</td>\n",
       "      <td>481571132</td>\n",
       "      <td>13</td>\n",
       "      <td>Beck Junior High</td>\n",
       "      <td>0</td>\n",
       "      <td>0</td>\n",
       "      <td>0</td>\n",
       "      <td>0</td>\n",
       "      <td>0</td>\n",
       "      <td>0</td>\n",
       "      <td>0.00</td>\n",
       "      <td>0.00</td>\n",
       "      <td>0.00</td>\n",
       "      <td>0.0</td>\n",
       "      <td>POLYGON ((1408615.813 845676.622, 1408704.234 ...</td>\n",
       "    </tr>\n",
       "    <tr>\n",
       "      <th>...</th>\n",
       "      <td>...</td>\n",
       "      <td>...</td>\n",
       "      <td>...</td>\n",
       "      <td>...</td>\n",
       "      <td>...</td>\n",
       "      <td>...</td>\n",
       "      <td>...</td>\n",
       "      <td>...</td>\n",
       "      <td>...</td>\n",
       "      <td>...</td>\n",
       "      <td>...</td>\n",
       "      <td>...</td>\n",
       "      <td>...</td>\n",
       "      <td>...</td>\n",
       "      <td>...</td>\n",
       "    </tr>\n",
       "    <tr>\n",
       "      <th>3462</th>\n",
       "      <td>484736801002132</td>\n",
       "      <td>484730420</td>\n",
       "      <td>3</td>\n",
       "      <td>Katy City Hall</td>\n",
       "      <td>48</td>\n",
       "      <td>24</td>\n",
       "      <td>24</td>\n",
       "      <td>0</td>\n",
       "      <td>3</td>\n",
       "      <td>11</td>\n",
       "      <td>6.23</td>\n",
       "      <td>1.13</td>\n",
       "      <td>0.00</td>\n",
       "      <td>0.0</td>\n",
       "      <td>POLYGON ((1397529.315 852881.294, 1397731.728 ...</td>\n",
       "    </tr>\n",
       "    <tr>\n",
       "      <th>3463</th>\n",
       "      <td>484736801002133</td>\n",
       "      <td>484730420</td>\n",
       "      <td>3</td>\n",
       "      <td>Katy City Hall</td>\n",
       "      <td>28</td>\n",
       "      <td>12</td>\n",
       "      <td>12</td>\n",
       "      <td>1</td>\n",
       "      <td>2</td>\n",
       "      <td>5</td>\n",
       "      <td>3.11</td>\n",
       "      <td>0.57</td>\n",
       "      <td>0.00</td>\n",
       "      <td>0.0</td>\n",
       "      <td>POLYGON ((1397522.379 852808.180, 1397532.407 ...</td>\n",
       "    </tr>\n",
       "    <tr>\n",
       "      <th>3464</th>\n",
       "      <td>484736801002134</td>\n",
       "      <td>484730420</td>\n",
       "      <td>3</td>\n",
       "      <td>Katy City Hall</td>\n",
       "      <td>63</td>\n",
       "      <td>42</td>\n",
       "      <td>42</td>\n",
       "      <td>0</td>\n",
       "      <td>10</td>\n",
       "      <td>31</td>\n",
       "      <td>10.90</td>\n",
       "      <td>1.98</td>\n",
       "      <td>0.61</td>\n",
       "      <td>0.4</td>\n",
       "      <td>POLYGON ((1401993.188 856342.331, 1402001.998 ...</td>\n",
       "    </tr>\n",
       "    <tr>\n",
       "      <th>3465</th>\n",
       "      <td>484736801002135</td>\n",
       "      <td>484730420</td>\n",
       "      <td>3</td>\n",
       "      <td>Katy City Hall</td>\n",
       "      <td>0</td>\n",
       "      <td>0</td>\n",
       "      <td>0</td>\n",
       "      <td>0</td>\n",
       "      <td>0</td>\n",
       "      <td>0</td>\n",
       "      <td>0.00</td>\n",
       "      <td>0.00</td>\n",
       "      <td>0.00</td>\n",
       "      <td>0.0</td>\n",
       "      <td>POLYGON ((1397795.961 852823.356, 1397942.875 ...</td>\n",
       "    </tr>\n",
       "    <tr>\n",
       "      <th>3466</th>\n",
       "      <td>484736801002136</td>\n",
       "      <td>484730420</td>\n",
       "      <td>3</td>\n",
       "      <td>Katy City Hall</td>\n",
       "      <td>5</td>\n",
       "      <td>4</td>\n",
       "      <td>4</td>\n",
       "      <td>0</td>\n",
       "      <td>0</td>\n",
       "      <td>1</td>\n",
       "      <td>1.04</td>\n",
       "      <td>0.19</td>\n",
       "      <td>0.00</td>\n",
       "      <td>0.0</td>\n",
       "      <td>POLYGON ((1397857.435 852814.576, 1397879.370 ...</td>\n",
       "    </tr>\n",
       "  </tbody>\n",
       "</table>\n",
       "<p>3467 rows × 15 columns</p>\n",
       "</div>"
      ],
      "text/plain": [
       "              GEOID20 PRECINCT22 KATY_DIST          POLL_LOC  TOTPOP20  VAP20  \\\n",
       "0     481576729022000  481571132        13  Beck Junior High         0      0   \n",
       "1     481576729023000  481571132        13  Beck Junior High         0      0   \n",
       "2     481576729023001  481571132        13  Beck Junior High         0      0   \n",
       "3     481576729023010  481571132        13  Beck Junior High         0      0   \n",
       "4     481576729023011  481571132        13  Beck Junior High         0      0   \n",
       "...               ...        ...       ...               ...       ...    ...   \n",
       "3462  484736801002132  484730420         3    Katy City Hall        48     24   \n",
       "3463  484736801002133  484730420         3    Katy City Hall        28     12   \n",
       "3464  484736801002134  484730420         3    Katy City Hall        63     42   \n",
       "3465  484736801002135  484730420         3    Katy City Hall         0      0   \n",
       "3466  484736801002136  484730420         3    Katy City Hall         5      4   \n",
       "\n",
       "      VAPMOD20  APBVAP20  HVAP20  WVAP20  G16PRERTRU  G16PREDCLI  P20USSDHEG  \\\n",
       "0            0         0       0       0        0.00        0.00        0.00   \n",
       "1            0         0       0       0        0.00        0.00        0.00   \n",
       "2            0         0       0       0        0.00        0.00        0.00   \n",
       "3            0         0       0       0        0.00        0.00        0.00   \n",
       "4            0         0       0       0        0.00        0.00        0.00   \n",
       "...        ...       ...     ...     ...         ...         ...         ...   \n",
       "3462        24         0       3      11        6.23        1.13        0.00   \n",
       "3463        12         1       2       5        3.11        0.57        0.00   \n",
       "3464        42         0      10      31       10.90        1.98        0.61   \n",
       "3465         0         0       0       0        0.00        0.00        0.00   \n",
       "3466         4         0       0       1        1.04        0.19        0.00   \n",
       "\n",
       "      P20USSDWES                                           geometry  \n",
       "0            0.0  POLYGON ((1410309.468 845871.115, 1410358.149 ...  \n",
       "1            0.0  POLYGON ((1410059.083 845841.123, 1410120.359 ...  \n",
       "2            0.0  POLYGON ((1409454.382 845758.680, 1409466.519 ...  \n",
       "3            0.0  POLYGON ((1408947.323 845693.630, 1409285.445 ...  \n",
       "4            0.0  POLYGON ((1408615.813 845676.622, 1408704.234 ...  \n",
       "...          ...                                                ...  \n",
       "3462         0.0  POLYGON ((1397529.315 852881.294, 1397731.728 ...  \n",
       "3463         0.0  POLYGON ((1397522.379 852808.180, 1397532.407 ...  \n",
       "3464         0.4  POLYGON ((1401993.188 856342.331, 1402001.998 ...  \n",
       "3465         0.0  POLYGON ((1397795.961 852823.356, 1397942.875 ...  \n",
       "3466         0.0  POLYGON ((1397857.435 852814.576, 1397879.370 ...  \n",
       "\n",
       "[3467 rows x 15 columns]"
      ]
     },
     "execution_count": 13,
     "metadata": {},
     "output_type": "execute_result"
    }
   ],
   "source": [
    "precs_clip_maup = precs_clip.copy(deep=True)\n",
    "precs_clip_maup.set_index('PRECINCT22',drop=False,inplace=True)\n",
    "\n",
    "blocks_in_katy['PRECINCT22'] = maup.assign(blocks_in_katy,precs_clip_maup)\n",
    "\n",
    "blocks_in_katy['PRECINCT22'] = blocks_in_katy['PRECINCT22'].astype(str)\n",
    "blocks_in_katy['PRECINCT_HOLD'] = blocks_in_katy['PRECINCT22'].apply(lambda x: str(x).replace('48157','157-'))#201,473\n",
    "blocks_in_katy['PRECINCT_HOLD'] = blocks_in_katy['PRECINCT_HOLD'].apply(lambda x: str(x).replace('48201','201-'))\n",
    "blocks_in_katy['PRECINCT_HOLD'] = blocks_in_katy['PRECINCT_HOLD'].apply(lambda x: str(x).replace('48473','473-'))\n",
    "\n",
    "blocks_in_katy['KATY_DIST']=blocks_in_katy['PRECINCT_HOLD'].apply(lambda x: katy_dict.get(x))\n",
    "blocks_in_katy['POLL_LOC']=blocks_in_katy['KATY_DIST'].apply(lambda x: polling_dict.get(x))\n",
    "\n",
    "null_blocks = blocks_in_katy[blocks_in_katy['PRECINCT22'].str.contains('nan')]\n",
    "null_block_geoids = list(null_blocks['GEOID20'])\n",
    "blocks_in_katy = blocks_in_katy[~blocks_in_katy['GEOID20'].isin(null_block_geoids)]\n",
    "\n",
    "blocks_in_katy.drop(columns = 'PRECINCT_HOLD',inplace=True)\n",
    "blocks_in_katy.reset_index(inplace=True,drop=True)\n",
    "\n",
    "blocks_in_katy = blocks_in_katy[['GEOID20','PRECINCT22','KATY_DIST','POLL_LOC','TOTPOP20','VAP20','VAPMOD20','APBVAP20','HVAP20','WVAP20','G16PRERTRU','G16PREDCLI','P20USSDHEG','P20USSDWES','geometry']]\n",
    "\n",
    "for i in ['G16PRERTRU','G16PREDCLI','P20USSDHEG','P20USSDWES']:\n",
    "    blocks_in_katy[i] = blocks_in_katy[i].fillna(0.0)\n",
    "\n",
    "blocks_in_katy"
   ]
  },
  {
   "cell_type": "markdown",
   "id": "e3ffd09e-7103-4e7b-87ca-241000785b78",
   "metadata": {},
   "source": [
    "Export block level data"
   ]
  },
  {
   "cell_type": "code",
   "execution_count": 14,
   "id": "a444a2dc-0f08-47ca-9ded-c759e0172571",
   "metadata": {},
   "outputs": [],
   "source": [
    "blocks_in_katy.to_file(os.path.join(export_fold,'katy_isd_2016_2020_elec_2020_demo_2020_b.shp'))"
   ]
  },
  {
   "cell_type": "markdown",
   "id": "55f21b41-3379-490b-9d89-00feb730b840",
   "metadata": {},
   "source": [
    "Assign blocks to clipped precincts and aggregate block data to 2022 precincts"
   ]
  },
  {
   "cell_type": "code",
   "execution_count": 15,
   "id": "8e340ce9-4018-4831-9ed8-b9c4917ae651",
   "metadata": {},
   "outputs": [
    {
     "data": {
      "text/plain": [
       "<AxesSubplot:>"
      ]
     },
     "execution_count": 15,
     "metadata": {},
     "output_type": "execute_result"
    },
    {
     "data": {
      "image/png": "[encoded data removed]",
      "text/plain": [
       "<Figure size 432x288 with 1 Axes>"
      ]
     },
     "metadata": {
      "needs_background": "light"
     },
     "output_type": "display_data"
    }
   ],
   "source": [
    "prec_assign = maup.assign(blocks_in_katy, precs_clip) \n",
    "variables = ['TOTPOP20', 'VAP20', 'VAPMOD20', 'APBVAP20', 'HVAP20', 'WVAP20', 'G16PRERTRU', 'G16PREDCLI', 'P20USSDHEG', 'P20USSDWES']\n",
    "precs_clip[variables] = blocks_in_katy[variables].groupby(prec_assign).sum()\n",
    "precs_clip_cols = list(precs_clip.columns)\n",
    "precs_clip_cols.remove('geometry')\n",
    "precs_clip_cols.append('geometry')\n",
    "precs_clip = precs_clip[precs_clip_cols]\n",
    "precs_clip = precs_clip.dissolve('PRECINCT22')\n",
    "precs_clip.reset_index(inplace=True,drop=False)\n",
    "precs_clip = precs_clip[['PRECINCT22','KATY_DIST','POLL_LOC','TOTPOP20', 'VAP20', 'VAPMOD20', 'APBVAP20', 'HVAP20', 'WVAP20', 'G16PRERTRU', 'G16PREDCLI', 'P20USSDHEG', 'P20USSDWES','geometry']]\n",
    "precs_clip.head()\n",
    "precs_clip.plot()"
   ]
  },
  {
   "cell_type": "markdown",
   "id": "b553db7f-1ad4-4254-8e76-e203a5873c20",
   "metadata": {},
   "source": [
    "Export precinct level data"
   ]
  },
  {
   "cell_type": "code",
   "execution_count": 16,
   "id": "dc934fb0-8baa-4aee-9e9f-e6522c5eea38",
   "metadata": {},
   "outputs": [],
   "source": [
    "precs_clip.to_file(os.path.join(export_fold,'katy_isd_2016_2020_elec_2020_demo_2022_prec.shp'))"
   ]
  }
 ],
 "metadata": {
  "kernelspec": {
   "display_name": "Python 3 (ipykernel)",
   "language": "python",
   "name": "python3"
  },
  "language_info": {
   "codemirror_mode": {
    "name": "ipython",
    "version": 3
   },
   "file_extension": ".py",
   "mimetype": "text/x-python",
   "name": "python",
   "nbconvert_exporter": "python",
   "pygments_lexer": "ipython3",
   "version": "3.10.5"
  }
 },
 "nbformat": 4,
 "nbformat_minor": 5
}
