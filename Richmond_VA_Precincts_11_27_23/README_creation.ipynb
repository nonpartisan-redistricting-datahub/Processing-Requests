{
 "cells": [
  {
   "cell_type": "code",
   "execution_count": 4,
   "id": "65f740d4",
   "metadata": {},
   "outputs": [],
   "source": [
    "import pandas as pd\n",
    "import os"
   ]
  },
  {
   "cell_type": "code",
   "execution_count": 11,
   "id": "36f70919",
   "metadata": {},
   "outputs": [],
   "source": [
    "### Create README\n",
    "fields_dict = {}\n",
    "fields_dict[\"PREC_21\"] = \"2021 Precinct Identifier\"\n",
    "fields_dict[\"PREC_23\"] = \"2023 Precinct Identifier\"\n",
    "\n",
    "\n",
    "title = \"Richmond, Virginia 2021 and 2023 Precinct Analysis\"\n",
    "retrieval_date = \"11/27/23\"\n",
    "github_link = \"UPDATE LINK\"\n",
    "file_folder = \"./\"\n",
    "source = \"2023 Precinct Data from Virginia Department of Elections (https://www.elections.virginia.gov/casting-a-ballot/redistricting/) 2021 Precinct Data from Voting Elections Science Team (VEST) via Redistricting Data Hub (https://redistrictingdatahub.org/dataset/vest-2021-virginia-precinct-boundaries-and-election-results-shapefile/).\""
   ]
  },
  {
   "cell_type": "code",
   "execution_count": 12,
   "id": "6f958d13",
   "metadata": {},
   "outputs": [],
   "source": [
    "def full_readme_text(title, retrieval_date, source, fields_dict, github_link):\n",
    "\n",
    "#First section of README\n",
    "    readme_p1 = '''{title}\\n\n",
    "## RDH Date Retrieval\n",
    "{retrieval_date}\n",
    "\n",
    "## Sources\n",
    "{source}\n",
    "\n",
    "## Fields:\n",
    "'''.format(title = title, source = source, retrieval_date = retrieval_date)\n",
    "\n",
    "#Second section of README\n",
    "    fields_table = pd.DataFrame.from_dict(fields_dict.items())\n",
    "    fields_table.columns = [\"Field Name\", \"Description\"]\n",
    "    readme_p2 = fields_table.to_string(formatters={'Description':'{{:<{}s}}'.format(fields_table['Description'].str.len().max()).format, 'Field Name':'{{:<{}s}}'.format(fields_table['Field Name'].str.len().max()).format}, index=False, justify = \"left\")\n",
    "\n",
    "#Third section of README\n",
    "    readme_p3 = '''\\n\n",
    "## Processing Steps\n",
    "Visit the RDH GitHub and the processing script for this code [here]({github_link})\n",
    "\n",
    "Please direct questions related to processing this dataset to info@redistrictingdatahub.org.\n",
    "'''.format(github_link=github_link)\n",
    "    \n",
    "    full_readme = str(readme_p1)+str(readme_p2)+str(readme_p3)\n",
    "    return full_readme\n",
    "\n"
   ]
  },
  {
   "cell_type": "code",
   "execution_count": 13,
   "id": "f2098b89",
   "metadata": {},
   "outputs": [],
   "source": [
    "if not os.path.exists(file_folder):\n",
    "    os.mkdir(file_folder)\n",
    "\n",
    "with open(file_folder+\"README.txt\", 'w') as tf:\n",
    "        tf.write(full_readme_text(title, retrieval_date, source, fields_dict, github_link))"
   ]
  },
  {
   "cell_type": "code",
   "execution_count": null,
   "id": "fe6206d8",
   "metadata": {},
   "outputs": [],
   "source": []
  }
 ],
 "metadata": {
  "kernelspec": {
   "display_name": "Python 3 (ipykernel)",
   "language": "python",
   "name": "python3"
  },
  "language_info": {
   "codemirror_mode": {
    "name": "ipython",
    "version": 3
   },
   "file_extension": ".py",
   "mimetype": "text/x-python",
   "name": "python",
   "nbconvert_exporter": "python",
   "pygments_lexer": "ipython3",
   "version": "3.8.13"
  }
 },
 "nbformat": 4,
 "nbformat_minor": 5
}
